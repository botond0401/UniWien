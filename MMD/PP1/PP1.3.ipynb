{
 "cells": [
  {
   "cell_type": "code",
   "execution_count": 49,
   "metadata": {},
   "outputs": [],
   "source": [
    "import numpy as np\n",
    "import sklearn\n",
    "import sklearn.datasets\n",
    "import sklearn.linear_model\n",
    "import sklearn.metrics\n"
   ]
  },
  {
   "cell_type": "code",
   "execution_count": 50,
   "metadata": {},
   "outputs": [],
   "source": [
    "def mapper(key, value, weights):\n",
    "    \"\"\"\n",
    "    key ... index of data split\n",
    "    value ... a tuple of the form (X, y) where y is a vector of target values (shape: n_samples x 1) and X a matrix of features (shape: n_samples x n_dim)\n",
    "    weights ... parameters of the regression model\n",
    "\n",
    "    yields a generator of losses, where the first entry in the tuple is \"loss\" and the second entry is the loss of the inputs in value\n",
    "    \"\"\"\n",
    "    X, y = value\n",
    "    loss = np.abs(y - X @ weights)\n",
    "    yield (\"loss\", loss)\n",
    "\n",
    "def reducer(key, values):\n",
    "    \"\"\"\n",
    "    key ... \"loss\"\n",
    "    values ... loss values of data points\n",
    "\n",
    "    returns the cost of all data points\n",
    "    \"\"\"\n",
    "    n = 0\n",
    "    s = 0\n",
    "    for value in values:\n",
    "        n += len(value)\n",
    "        s += np.sum(value)\n",
    "    cost = s/n\n",
    "\n",
    "    yield (\"cost\", cost)\n"
   ]
  },
  {
   "cell_type": "code",
   "execution_count": 51,
   "metadata": {},
   "outputs": [
    {
     "name": "stdout",
     "output_type": "stream",
     "text": [
      "Running MapReduce for evaluating an OLS model...\n",
      "MAE...\n",
      "152.15019584596678\n",
      "MAE according to sklearn (should equal your result):\n",
      "152.1501958459668\n"
     ]
    }
   ],
   "source": [
    "if __name__ == \"__main__\":\n",
    "    print(\"Running MapReduce for evaluating an OLS model...\")\n",
    "\n",
    "    # (1) Load Diabetes housing data and fit OLS model\n",
    "    X, y = sklearn.datasets.load_diabetes(return_X_y=True)\n",
    "    reg = sklearn.linear_model.LinearRegression(fit_intercept=False)\n",
    "    reg.fit(X, y)\n",
    "\n",
    "    # (2) Split data into blocks of 50 samples and run mappers\n",
    "    idx_list = []\n",
    "    X_list = []\n",
    "    y_list = []\n",
    "    weights_list = []\n",
    "    for i in range(int(np.ceil(len(X) / 50))):\n",
    "        sidx = i * 50\n",
    "        eidx = (i + 1) * 50\n",
    "        X_list.append(X[sidx:eidx])\n",
    "        y_list.append(y[sidx:eidx].reshape(-1,1))\n",
    "        weights_list.append(reg.coef_.reshape(len(reg.coef_), 1))\n",
    "        idx_list.append(i)\n",
    "    mapper_results = map(mapper, idx_list, zip(X_list, y_list), weights_list)\n",
    "\n",
    "    # (3) Gather results from mappers, sort and run reducers\n",
    "    mapper_results = list(mapper_results)\n",
    "    mapper_results_dict = {}\n",
    "    for mapper_result in mapper_results:\n",
    "        for key, value in mapper_result:\n",
    "            if key not in mapper_results_dict:\n",
    "                mapper_results_dict[key] = []\n",
    "            mapper_results_dict[key].append(value)\n",
    "    mapper_results_dict = mapper_results_dict.items()\n",
    "    reducer_results = map(reducer, [x[0] for x in mapper_results_dict], [x[1] for x in mapper_results_dict])\n",
    "\n",
    "    # (4) Gather restults form reducers and output them\n",
    "    reducer_results = list(reducer_results)\n",
    "    reducer_results = [list(x) for x in reducer_results]\n",
    "    \n",
    "    print(\"MAE...\")\n",
    "    print(reducer_results[0][0][1])\n",
    "\n",
    "    print(\"MAE according to sklearn (should equal your result):\")\n",
    "    print(sklearn.metrics.mean_absolute_error(y, reg.predict(X)))\n"
   ]
  }
 ],
 "metadata": {
  "kernelspec": {
   "display_name": "Python 3",
   "language": "python",
   "name": "python3"
  },
  "language_info": {
   "codemirror_mode": {
    "name": "ipython",
    "version": 3
   },
   "file_extension": ".py",
   "mimetype": "text/x-python",
   "name": "python",
   "nbconvert_exporter": "python",
   "pygments_lexer": "ipython3",
   "version": "3.11.2"
  }
 },
 "nbformat": 4,
 "nbformat_minor": 2
}
