{
 "cells": [
  {
   "cell_type": "markdown",
   "metadata": {},
   "source": [
    "# Elementary julia syntax"
   ]
  },
  {
   "cell_type": "code",
   "execution_count": 1,
   "metadata": {
    "tags": []
   },
   "outputs": [
    {
     "data": {
      "text/plain": [
       "2"
      ]
     },
     "execution_count": 1,
     "metadata": {},
     "output_type": "execute_result"
    }
   ],
   "source": [
    "# assignment\n",
    "a = 2 "
   ]
  },
  {
   "cell_type": "code",
   "execution_count": 2,
   "metadata": {
    "tags": []
   },
   "outputs": [
    {
     "data": {
      "text/plain": [
       "true"
      ]
     },
     "execution_count": 2,
     "metadata": {},
     "output_type": "execute_result"
    }
   ],
   "source": [
    "# equality check\n",
    "a^2 == 4"
   ]
  },
  {
   "cell_type": "code",
   "execution_count": 3,
   "metadata": {
    "tags": []
   },
   "outputs": [
    {
     "data": {
      "text/plain": [
       "(true, true, true, true)"
      ]
     },
     "execution_count": 3,
     "metadata": {},
     "output_type": "execute_result"
    }
   ],
   "source": [
    "!(1==2),  # NOT\n",
    "1!=2, \n",
    "1==1 && 2==2,  # AND\n",
    "1==1 || 2==1   # OR"
   ]
  },
  {
   "cell_type": "code",
   "execution_count": 4,
   "metadata": {
    "tags": []
   },
   "outputs": [
    {
     "data": {
      "text/plain": [
       "true"
      ]
     },
     "execution_count": 4,
     "metadata": {},
     "output_type": "execute_result"
    }
   ],
   "source": [
    "2≤3  # you can write down math: \\leq <tab>\n",
    "2≤3"
   ]
  },
  {
   "cell_type": "code",
   "execution_count": 4,
   "metadata": {
    "tags": []
   },
   "outputs": [
    {
     "ename": "LoadError",
     "evalue": "UndefVarError: `in1` not defined",
     "output_type": "error",
     "traceback": [
      "UndefVarError: `in1` not defined",
      "",
      "Stacktrace:",
      " [1] top-level scope",
      "   @ In[4]:2"
     ]
    }
   ],
   "source": [
    "3∈(1:4) # \\in <tab>\n",
    "3∈1:4"
   ]
  },
  {
   "cell_type": "code",
   "execution_count": 6,
   "metadata": {
    "tags": []
   },
   "outputs": [
    {
     "data": {
      "text/plain": [
       "3:4"
      ]
     },
     "execution_count": 6,
     "metadata": {},
     "output_type": "execute_result"
    }
   ],
   "source": [
    "(2:4)∩(3:7) # \\cap <tab>"
   ]
  },
  {
   "cell_type": "code",
   "execution_count": 7,
   "metadata": {
    "tags": []
   },
   "outputs": [
    {
     "data": {
      "text/plain": [
       "6-element Vector{Int64}:\n",
       " 2\n",
       " 3\n",
       " 4\n",
       " 5\n",
       " 6\n",
       " 7"
      ]
     },
     "execution_count": 7,
     "metadata": {},
     "output_type": "execute_result"
    }
   ],
   "source": [
    "(2:4)∪(3:7)"
   ]
  },
  {
   "cell_type": "code",
   "execution_count": 8,
   "metadata": {
    "tags": []
   },
   "outputs": [
    {
     "data": {
      "text/plain": [
       "5"
      ]
     },
     "execution_count": 8,
     "metadata": {},
     "output_type": "execute_result"
    }
   ],
   "source": [
    "a = 2\n",
    "a += 3"
   ]
  },
  {
   "cell_type": "code",
   "execution_count": 9,
   "metadata": {
    "tags": []
   },
   "outputs": [
    {
     "data": {
      "text/plain": [
       "f (generic function with 1 method)"
      ]
     },
     "execution_count": 9,
     "metadata": {},
     "output_type": "execute_result"
    }
   ],
   "source": [
    "# define a function I\n",
    "f(x) = x^2"
   ]
  },
  {
   "cell_type": "code",
   "execution_count": 10,
   "metadata": {
    "tags": []
   },
   "outputs": [
    {
     "data": {
      "text/plain": [
       "9"
      ]
     },
     "execution_count": 10,
     "metadata": {},
     "output_type": "execute_result"
    }
   ],
   "source": [
    "f(3)"
   ]
  },
  {
   "cell_type": "code",
   "execution_count": 11,
   "metadata": {
    "tags": []
   },
   "outputs": [
    {
     "data": {
      "text/plain": [
       "g (generic function with 1 method)"
      ]
     },
     "execution_count": 11,
     "metadata": {},
     "output_type": "execute_result"
    }
   ],
   "source": [
    "# define a function II\n",
    "function g(x)\n",
    "    return x^2\n",
    "end"
   ]
  },
  {
   "cell_type": "code",
   "execution_count": 12,
   "metadata": {
    "tags": []
   },
   "outputs": [
    {
     "data": {
      "text/plain": [
       "9"
      ]
     },
     "execution_count": 12,
     "metadata": {},
     "output_type": "execute_result"
    }
   ],
   "source": [
    "g(3)"
   ]
  },
  {
   "cell_type": "code",
   "execution_count": 13,
   "metadata": {
    "tags": []
   },
   "outputs": [
    {
     "data": {
      "text/plain": [
       "2.0"
      ]
     },
     "execution_count": 13,
     "metadata": {},
     "output_type": "execute_result"
    }
   ],
   "source": [
    "sqrt(4)"
   ]
  },
  {
   "cell_type": "code",
   "execution_count": 14,
   "metadata": {
    "tags": []
   },
   "outputs": [
    {
     "name": "stdout",
     "output_type": "stream",
     "text": [
      "search: \u001b[0m\u001b[1ms\u001b[22m\u001b[0m\u001b[1mq\u001b[22m\u001b[0m\u001b[1mr\u001b[22m\u001b[0m\u001b[1mt\u001b[22m i\u001b[0m\u001b[1ms\u001b[22m\u001b[0m\u001b[1mq\u001b[22m\u001b[0m\u001b[1mr\u001b[22m\u001b[0m\u001b[1mt\u001b[22m\n",
      "\n"
     ]
    },
    {
     "data": {
      "text/latex": [
       "\\begin{verbatim}\n",
       "sqrt(x)\n",
       "\\end{verbatim}\n",
       "Return $\\sqrt{x}$. Throws \\href{@ref}{\\texttt{DomainError}} for negative \\href{@ref}{\\texttt{Real}} arguments. Use complex negative arguments instead. The prefix operator \\texttt{√} is equivalent to \\texttt{sqrt}.\n",
       "\n",
       "See also: \\href{@ref}{\\texttt{hypot}}.\n",
       "\n",
       "\\section{Examples}\n",
       "\\begin{verbatim}\n",
       "julia> sqrt(big(81))\n",
       "9.0\n",
       "\n",
       "julia> sqrt(big(-81))\n",
       "ERROR: DomainError with -81.0:\n",
       "NaN result for non-NaN input.\n",
       "Stacktrace:\n",
       " [1] sqrt(::BigFloat) at ./mpfr.jl:501\n",
       "[...]\n",
       "\n",
       "julia> sqrt(big(complex(-81)))\n",
       "0.0 + 9.0im\n",
       "\n",
       "julia> .√(1:4)\n",
       "4-element Vector{Float64}:\n",
       " 1.0\n",
       " 1.4142135623730951\n",
       " 1.7320508075688772\n",
       " 2.0\n",
       "\\end{verbatim}\n",
       "\\rule{\\textwidth}{1pt}\n",
       "\\begin{verbatim}\n",
       "sqrt(A::AbstractMatrix)\n",
       "\\end{verbatim}\n",
       "If \\texttt{A} has no negative real eigenvalues, compute the principal matrix square root of \\texttt{A}, that is the unique matrix $X$ with eigenvalues having positive real part such that $X^2 = A$. Otherwise, a nonprincipal square root is returned.\n",
       "\n",
       "If \\texttt{A} is real-symmetric or Hermitian, its eigendecomposition (\\href{@ref}{\\texttt{eigen}}) is used to compute the square root.   For such matrices, eigenvalues λ that appear to be slightly negative due to roundoff errors are treated as if they were zero. More precisely, matrices with all eigenvalues \\texttt{≥ -rtol*(max |λ|)} are treated as semidefinite (yielding a Hermitian square root), with negative eigenvalues taken to be zero. \\texttt{rtol} is a keyword argument to \\texttt{sqrt} (in the Hermitian/real-symmetric case only) that defaults to machine precision scaled by \\texttt{size(A,1)}.\n",
       "\n",
       "Otherwise, the square root is determined by means of the Björck-Hammarling method \\footnotemark[BH83], which computes the complex Schur form (\\href{@ref}{\\texttt{schur}}) and then the complex square root of the triangular factor. If a real square root exists, then an extension of this method \\footnotemark[H87] that computes the real Schur form and then the real square root of the quasi-triangular factor is instead used.\n",
       "\n",
       "\\footnotetext[BH83]{Åke Björck and Sven Hammarling, \"A Schur method for the square root of a matrix\", Linear Algebra and its Applications, 52-53, 1983, 127-140. \\href{https://doi.org/10.1016/0024-3795(83)80010-X}{doi:10.1016/0024-3795(83)80010-X}\n",
       "\n",
       "}\n",
       "\\footnotetext[H87]{Nicholas J. Higham, \"Computing real square roots of a real matrix\", Linear Algebra and its Applications, 88-89, 1987, 405-430. \\href{https://doi.org/10.1016/0024-3795(87)90118-2}{doi:10.1016/0024-3795(87)90118-2}\n",
       "\n",
       "}\n",
       "\\section{Examples}\n",
       "\\begin{verbatim}\n",
       "julia> A = [4 0; 0 4]\n",
       "2×2 Matrix{Int64}:\n",
       " 4  0\n",
       " 0  4\n",
       "\n",
       "julia> sqrt(A)\n",
       "2×2 Matrix{Float64}:\n",
       " 2.0  0.0\n",
       " 0.0  2.0\n",
       "\\end{verbatim}\n"
      ],
      "text/markdown": [
       "```\n",
       "sqrt(x)\n",
       "```\n",
       "\n",
       "Return $\\sqrt{x}$. Throws [`DomainError`](@ref) for negative [`Real`](@ref) arguments. Use complex negative arguments instead. The prefix operator `√` is equivalent to `sqrt`.\n",
       "\n",
       "See also: [`hypot`](@ref).\n",
       "\n",
       "# Examples\n",
       "\n",
       "```jldoctest; filter = r\"Stacktrace:(\\n \\[[0-9]+\\].*)*\"\n",
       "julia> sqrt(big(81))\n",
       "9.0\n",
       "\n",
       "julia> sqrt(big(-81))\n",
       "ERROR: DomainError with -81.0:\n",
       "NaN result for non-NaN input.\n",
       "Stacktrace:\n",
       " [1] sqrt(::BigFloat) at ./mpfr.jl:501\n",
       "[...]\n",
       "\n",
       "julia> sqrt(big(complex(-81)))\n",
       "0.0 + 9.0im\n",
       "\n",
       "julia> .√(1:4)\n",
       "4-element Vector{Float64}:\n",
       " 1.0\n",
       " 1.4142135623730951\n",
       " 1.7320508075688772\n",
       " 2.0\n",
       "```\n",
       "\n",
       "---\n",
       "\n",
       "```\n",
       "sqrt(A::AbstractMatrix)\n",
       "```\n",
       "\n",
       "If `A` has no negative real eigenvalues, compute the principal matrix square root of `A`, that is the unique matrix $X$ with eigenvalues having positive real part such that $X^2 = A$. Otherwise, a nonprincipal square root is returned.\n",
       "\n",
       "If `A` is real-symmetric or Hermitian, its eigendecomposition ([`eigen`](@ref)) is used to compute the square root.   For such matrices, eigenvalues λ that appear to be slightly negative due to roundoff errors are treated as if they were zero. More precisely, matrices with all eigenvalues `≥ -rtol*(max |λ|)` are treated as semidefinite (yielding a Hermitian square root), with negative eigenvalues taken to be zero. `rtol` is a keyword argument to `sqrt` (in the Hermitian/real-symmetric case only) that defaults to machine precision scaled by `size(A,1)`.\n",
       "\n",
       "Otherwise, the square root is determined by means of the Björck-Hammarling method [^BH83], which computes the complex Schur form ([`schur`](@ref)) and then the complex square root of the triangular factor. If a real square root exists, then an extension of this method [^H87] that computes the real Schur form and then the real square root of the quasi-triangular factor is instead used.\n",
       "\n",
       "[^BH83]: Åke Björck and Sven Hammarling, \"A Schur method for the square root of a matrix\", Linear Algebra and its Applications, 52-53, 1983, 127-140. [doi:10.1016/0024-3795(83)80010-X](https://doi.org/10.1016/0024-3795(83)80010-X)\n",
       "\n",
       "[^H87]: Nicholas J. Higham, \"Computing real square roots of a real matrix\", Linear Algebra and its Applications, 88-89, 1987, 405-430. [doi:10.1016/0024-3795(87)90118-2](https://doi.org/10.1016/0024-3795(87)90118-2)\n",
       "\n",
       "# Examples\n",
       "\n",
       "```jldoctest\n",
       "julia> A = [4 0; 0 4]\n",
       "2×2 Matrix{Int64}:\n",
       " 4  0\n",
       " 0  4\n",
       "\n",
       "julia> sqrt(A)\n",
       "2×2 Matrix{Float64}:\n",
       " 2.0  0.0\n",
       " 0.0  2.0\n",
       "```\n"
      ],
      "text/plain": [
       "\u001b[36m  sqrt(x)\u001b[39m\n",
       "\n",
       "  Return \u001b[35m\\sqrt{x}\u001b[39m. Throws \u001b[36mDomainError\u001b[39m for negative \u001b[36mReal\u001b[39m arguments. Use complex\n",
       "  negative arguments instead. The prefix operator \u001b[36m√\u001b[39m is equivalent to \u001b[36msqrt\u001b[39m.\n",
       "\n",
       "  See also: \u001b[36mhypot\u001b[39m.\n",
       "\n",
       "\u001b[1m  Examples\u001b[22m\n",
       "\u001b[1m  ≡≡≡≡≡≡≡≡≡≡\u001b[22m\n",
       "\n",
       "\u001b[36m  julia> sqrt(big(81))\u001b[39m\n",
       "\u001b[36m  9.0\u001b[39m\n",
       "\u001b[36m  \u001b[39m\n",
       "\u001b[36m  julia> sqrt(big(-81))\u001b[39m\n",
       "\u001b[36m  ERROR: DomainError with -81.0:\u001b[39m\n",
       "\u001b[36m  NaN result for non-NaN input.\u001b[39m\n",
       "\u001b[36m  Stacktrace:\u001b[39m\n",
       "\u001b[36m   [1] sqrt(::BigFloat) at ./mpfr.jl:501\u001b[39m\n",
       "\u001b[36m  [...]\u001b[39m\n",
       "\u001b[36m  \u001b[39m\n",
       "\u001b[36m  julia> sqrt(big(complex(-81)))\u001b[39m\n",
       "\u001b[36m  0.0 + 9.0im\u001b[39m\n",
       "\u001b[36m  \u001b[39m\n",
       "\u001b[36m  julia> .√(1:4)\u001b[39m\n",
       "\u001b[36m  4-element Vector{Float64}:\u001b[39m\n",
       "\u001b[36m   1.0\u001b[39m\n",
       "\u001b[36m   1.4142135623730951\u001b[39m\n",
       "\u001b[36m   1.7320508075688772\u001b[39m\n",
       "\u001b[36m   2.0\u001b[39m\n",
       "\n",
       "  ────────────────────────────────────────────────────────────────────────────\n",
       "\n",
       "\u001b[36m  sqrt(A::AbstractMatrix)\u001b[39m\n",
       "\n",
       "  If \u001b[36mA\u001b[39m has no negative real eigenvalues, compute the principal matrix square\n",
       "  root of \u001b[36mA\u001b[39m, that is the unique matrix \u001b[35mX\u001b[39m with eigenvalues having positive real\n",
       "  part such that \u001b[35mX^2 = A\u001b[39m. Otherwise, a nonprincipal square root is returned.\n",
       "\n",
       "  If \u001b[36mA\u001b[39m is real-symmetric or Hermitian, its eigendecomposition (\u001b[36meigen\u001b[39m) is used\n",
       "  to compute the square root. For such matrices, eigenvalues λ that appear to\n",
       "  be slightly negative due to roundoff errors are treated as if they were\n",
       "  zero. More precisely, matrices with all eigenvalues \u001b[36m≥ -rtol*(max |λ|)\u001b[39m are\n",
       "  treated as semidefinite (yielding a Hermitian square root), with negative\n",
       "  eigenvalues taken to be zero. \u001b[36mrtol\u001b[39m is a keyword argument to \u001b[36msqrt\u001b[39m (in the\n",
       "  Hermitian/real-symmetric case only) that defaults to machine precision\n",
       "  scaled by \u001b[36msize(A,1)\u001b[39m.\n",
       "\n",
       "  Otherwise, the square root is determined by means of the Björck-Hammarling\n",
       "  method \u001b[1m[^BH83]\u001b[22m, which computes the complex Schur form (\u001b[36mschur\u001b[39m) and then the\n",
       "  complex square root of the triangular factor. If a real square root exists,\n",
       "  then an extension of this method \u001b[1m[^H87]\u001b[22m that computes the real Schur form\n",
       "  and then the real square root of the quasi-triangular factor is instead\n",
       "  used.\n",
       "\n",
       "  │ \u001b[0m\u001b[1m[^BH83]\u001b[22m\n",
       "  │\n",
       "  │  Åke Björck and Sven Hammarling, \"A Schur method for the square\n",
       "  │  root of a matrix\", Linear Algebra and its Applications, 52-53,\n",
       "  │  1983, 127-140. doi:10.1016/0024-3795(83)80010-X\n",
       "  │  (https://doi.org/10.1016/0024-3795(83)80010-X)\n",
       "\n",
       "  │ \u001b[0m\u001b[1m[^H87]\u001b[22m\n",
       "  │\n",
       "  │  Nicholas J. Higham, \"Computing real square roots of a real\n",
       "  │  matrix\", Linear Algebra and its Applications, 88-89, 1987,\n",
       "  │  405-430. doi:10.1016/0024-3795(87)90118-2\n",
       "  │  (https://doi.org/10.1016/0024-3795(87)90118-2)\n",
       "\n",
       "\u001b[1m  Examples\u001b[22m\n",
       "\u001b[1m  ≡≡≡≡≡≡≡≡≡≡\u001b[22m\n",
       "\n",
       "\u001b[36m  julia> A = [4 0; 0 4]\u001b[39m\n",
       "\u001b[36m  2×2 Matrix{Int64}:\u001b[39m\n",
       "\u001b[36m   4  0\u001b[39m\n",
       "\u001b[36m   0  4\u001b[39m\n",
       "\u001b[36m  \u001b[39m\n",
       "\u001b[36m  julia> sqrt(A)\u001b[39m\n",
       "\u001b[36m  2×2 Matrix{Float64}:\u001b[39m\n",
       "\u001b[36m   2.0  0.0\u001b[39m\n",
       "\u001b[36m   0.0  2.0\u001b[39m"
      ]
     },
     "execution_count": 14,
     "metadata": {},
     "output_type": "execute_result"
    }
   ],
   "source": [
    "? sqrt"
   ]
  },
  {
   "cell_type": "code",
   "execution_count": 15,
   "metadata": {
    "tags": []
   },
   "outputs": [
    {
     "data": {
      "text/plain": [
       "mySquare"
      ]
     },
     "execution_count": 15,
     "metadata": {},
     "output_type": "execute_result"
    }
   ],
   "source": [
    "\"Compute the square of n\"\n",
    "function mySquare(n) \n",
    "    a = n^2\n",
    "    return a\n",
    "end"
   ]
  },
  {
   "cell_type": "code",
   "execution_count": 16,
   "metadata": {},
   "outputs": [
    {
     "name": "stdout",
     "output_type": "stream",
     "text": [
      "search: \u001b[0m\u001b[1mm\u001b[22m\u001b[0m\u001b[1my\u001b[22m\u001b[0m\u001b[1mS\u001b[22m\u001b[0m\u001b[1mq\u001b[22m\u001b[0m\u001b[1mu\u001b[22m\u001b[0m\u001b[1ma\u001b[22m\u001b[0m\u001b[1mr\u001b[22m\u001b[0m\u001b[1me\u001b[22m\n",
      "\n"
     ]
    },
    {
     "data": {
      "text/latex": [
       "Compute the square of n\n",
       "\n"
      ],
      "text/markdown": [
       "Compute the square of n\n"
      ],
      "text/plain": [
       "  Compute the square of n"
      ]
     },
     "execution_count": 16,
     "metadata": {},
     "output_type": "execute_result"
    }
   ],
   "source": [
    "? mySquare"
   ]
  },
  {
   "cell_type": "code",
   "execution_count": 17,
   "metadata": {
    "tags": []
   },
   "outputs": [
    {
     "data": {
      "text/plain": [
       "2"
      ]
     },
     "execution_count": 17,
     "metadata": {},
     "output_type": "execute_result"
    }
   ],
   "source": [
    "# range \n",
    "x = (1:3) # accesible via x[1], x[2], x[3]. Indices start at 1 NOT 0\n",
    "x[2]"
   ]
  },
  {
   "cell_type": "code",
   "execution_count": 18,
   "metadata": {
    "tags": []
   },
   "outputs": [
    {
     "data": {
      "text/plain": [
       "3-element Vector{Int64}:\n",
       " 1\n",
       " 4\n",
       " 9"
      ]
     },
     "execution_count": 18,
     "metadata": {},
     "output_type": "execute_result"
    }
   ],
   "source": [
    "# broadcasting\n",
    "f.(x) "
   ]
  },
  {
   "cell_type": "code",
   "execution_count": 19,
   "metadata": {},
   "outputs": [
    {
     "data": {
      "text/plain": [
       "2.0"
      ]
     },
     "execution_count": 19,
     "metadata": {},
     "output_type": "execute_result"
    }
   ],
   "source": [
    "f(x,y) = 4x^4-y^4+2y^2\n",
    "f(13860.0,19601.0)"
   ]
  },
  {
   "cell_type": "code",
   "execution_count": 20,
   "metadata": {
    "tags": []
   },
   "outputs": [
    {
     "data": {
      "text/plain": [
       "Int64"
      ]
     },
     "execution_count": 20,
     "metadata": {},
     "output_type": "execute_result"
    }
   ],
   "source": [
    "# integer \n",
    "typeof(2)"
   ]
  },
  {
   "cell_type": "code",
   "execution_count": 21,
   "metadata": {
    "tags": []
   },
   "outputs": [
    {
     "data": {
      "text/plain": [
       "Float64"
      ]
     },
     "execution_count": 21,
     "metadata": {},
     "output_type": "execute_result"
    }
   ],
   "source": [
    "# floating point number\n",
    "typeof(2.0)"
   ]
  },
  {
   "cell_type": "code",
   "execution_count": 22,
   "metadata": {
    "tags": []
   },
   "outputs": [
    {
     "data": {
      "text/plain": [
       "g (generic function with 1 method)"
      ]
     },
     "execution_count": 22,
     "metadata": {},
     "output_type": "execute_result"
    }
   ],
   "source": [
    "# for and if ends with end\n",
    "function g(x) \n",
    "    y = copy(x)\n",
    "    for i in 1:5\n",
    "        y = y+1\n",
    "    end\n",
    "    if y>0 \n",
    "        w = 1\n",
    "        return y-w\n",
    "    end\n",
    "    return y\n",
    "end"
   ]
  },
  {
   "cell_type": "code",
   "execution_count": 23,
   "metadata": {
    "tags": []
   },
   "outputs": [
    {
     "data": {
      "text/plain": [
       "29"
      ]
     },
     "execution_count": 23,
     "metadata": {},
     "output_type": "execute_result"
    }
   ],
   "source": [
    "# only the last line in a block leads to output \n",
    "b = f(a)\n",
    "g(a)\n",
    "g(a^2)"
   ]
  },
  {
   "cell_type": "code",
   "execution_count": 24,
   "metadata": {
    "tags": []
   },
   "outputs": [
    {
     "name": "stdout",
     "output_type": "stream",
     "text": [
      "625\n",
      "29\n"
     ]
    },
    {
     "data": {
      "text/plain": [
       "29"
      ]
     },
     "execution_count": 24,
     "metadata": {},
     "output_type": "execute_result"
    }
   ],
   "source": [
    "# and those lines which force output such as println\n",
    "println(f(b))\n",
    "println(g(b))\n",
    "g(b)"
   ]
  },
  {
   "cell_type": "code",
   "execution_count": 26,
   "metadata": {
    "tags": []
   },
   "outputs": [
    {
     "data": {
      "text/plain": [
       "1"
      ]
     },
     "execution_count": 26,
     "metadata": {},
     "output_type": "execute_result"
    }
   ],
   "source": [
    "# type \\theta + 'tab': works for \\pi and many more. \n",
    "# It is different in colab. In colab, add a text-cell and write \\theta + 'tab'. θ appears and then copy past into` code-cell.\n",
    "θ = 1  "
   ]
  },
  {
   "cell_type": "code",
   "execution_count": 27,
   "metadata": {},
   "outputs": [
    {
     "data": {
      "text/plain": [
       "2"
      ]
     },
     "execution_count": 27,
     "metadata": {},
     "output_type": "execute_result"
    }
   ],
   "source": [
    "# type v\\tilde +'tab'. \n",
    "# It is different in colab. In colab, add a text-cell and write v\\tilde +'tab'. ṽ appears and then copy past into code-cell.\n",
    "ṽ = 2"
   ]
  },
  {
   "cell_type": "code",
   "execution_count": 28,
   "metadata": {
    "tags": []
   },
   "outputs": [
    {
     "data": {
      "text/plain": [
       "myZeta (generic function with 1 method)"
      ]
     },
     "execution_count": 28,
     "metadata": {},
     "output_type": "execute_result"
    }
   ],
   "source": [
    "# no need to write sums as for-loops\n",
    "myZeta(s,nterms) = sum(1/n^s for n in 1:nterms)"
   ]
  },
  {
   "cell_type": "code",
   "execution_count": 29,
   "metadata": {
    "tags": []
   },
   "outputs": [
    {
     "data": {
      "text/plain": [
       "1.625132733621529"
      ]
     },
     "execution_count": 29,
     "metadata": {},
     "output_type": "execute_result"
    }
   ],
   "source": [
    "myZeta(2,50)"
   ]
  },
  {
   "cell_type": "code",
   "execution_count": 31,
   "metadata": {
    "tags": []
   },
   "outputs": [
    {
     "data": {
      "text/plain": [
       "(1.6349839001848923, 1.625132733621529)"
      ]
     },
     "execution_count": 31,
     "metadata": {},
     "output_type": "execute_result"
    }
   ],
   "source": [
    "# arguments can be missing if default values are set\n",
    "myZeta(s, nterms = 100) = sum(1/n^s for n in 1:nterms)\n",
    "myZeta(2),\n",
    "myZeta(2,50)"
   ]
  },
  {
   "cell_type": "code",
   "execution_count": 32,
   "metadata": {
    "tags": []
   },
   "outputs": [
    {
     "data": {
      "text/plain": [
       "1.634983900184893"
      ]
     },
     "execution_count": 32,
     "metadata": {},
     "output_type": "execute_result"
    }
   ],
   "source": [
    "# anonymous function k->1/k^2\n",
    "sum(k->1/k^2,1:100)  "
   ]
  },
  {
   "cell_type": "code",
   "execution_count": 33,
   "metadata": {
    "tags": []
   },
   "outputs": [
    {
     "data": {
      "text/plain": [
       "3×2 Matrix{Int64}:\n",
       " 1  2\n",
       " 1  4\n",
       " 2  2"
      ]
     },
     "execution_count": 33,
     "metadata": {},
     "output_type": "execute_result"
    }
   ],
   "source": [
    "# matrices\n",
    "A = [1 2; 1 4; 2 2]"
   ]
  },
  {
   "cell_type": "code",
   "execution_count": 34,
   "metadata": {
    "tags": []
   },
   "outputs": [
    {
     "data": {
      "text/plain": [
       "4"
      ]
     },
     "execution_count": 34,
     "metadata": {},
     "output_type": "execute_result"
    }
   ],
   "source": [
    "A[2,2] # again, indices start at 1 NOT 0"
   ]
  },
  {
   "cell_type": "code",
   "execution_count": 35,
   "metadata": {
    "tags": []
   },
   "outputs": [
    {
     "data": {
      "text/plain": [
       "(3, 2)"
      ]
     },
     "execution_count": 35,
     "metadata": {},
     "output_type": "execute_result"
    }
   ],
   "source": [
    "size(A)"
   ]
  },
  {
   "cell_type": "code",
   "execution_count": 36,
   "metadata": {
    "tags": []
   },
   "outputs": [
    {
     "data": {
      "text/plain": [
       "3"
      ]
     },
     "execution_count": 36,
     "metadata": {},
     "output_type": "execute_result"
    }
   ],
   "source": [
    "size(A,1)"
   ]
  },
  {
   "cell_type": "code",
   "execution_count": 37,
   "metadata": {
    "tags": []
   },
   "outputs": [
    {
     "data": {
      "text/plain": [
       "3×2 Matrix{Float64}:\n",
       " 1.0  1.0\n",
       " 1.0  1.0\n",
       " 1.0  1.0"
      ]
     },
     "execution_count": 37,
     "metadata": {},
     "output_type": "execute_result"
    }
   ],
   "source": [
    "ones(3,2)"
   ]
  },
  {
   "cell_type": "code",
   "execution_count": 38,
   "metadata": {
    "tags": []
   },
   "outputs": [
    {
     "data": {
      "text/plain": [
       "3-element Vector{Int64}:\n",
       " 1\n",
       " 2\n",
       " 3"
      ]
     },
     "execution_count": 38,
     "metadata": {},
     "output_type": "execute_result"
    }
   ],
   "source": [
    "# vectors\n",
    "b = [1;2;3]"
   ]
  },
  {
   "cell_type": "code",
   "execution_count": 39,
   "metadata": {
    "tags": []
   },
   "outputs": [
    {
     "data": {
      "text/plain": [
       "3-element Vector{Int64}:\n",
       " 1\n",
       " 2\n",
       " 3"
      ]
     },
     "execution_count": 39,
     "metadata": {},
     "output_type": "execute_result"
    }
   ],
   "source": [
    "b = [1,2,3] # works too"
   ]
  },
  {
   "cell_type": "code",
   "execution_count": 40,
   "metadata": {
    "tags": []
   },
   "outputs": [
    {
     "data": {
      "text/plain": [
       "4×3 Matrix{Float64}:\n",
       " 0.0  0.0  0.0\n",
       " 0.0  0.0  0.0\n",
       " 0.0  0.0  0.0\n",
       " 0.0  0.0  0.0"
      ]
     },
     "execution_count": 40,
     "metadata": {},
     "output_type": "execute_result"
    }
   ],
   "source": [
    "# define zero matrix\n",
    "A = zeros(4,3)"
   ]
  },
  {
   "cell_type": "code",
   "execution_count": 41,
   "metadata": {
    "tags": []
   },
   "outputs": [
    {
     "data": {
      "text/plain": [
       "3×4 adjoint(::Matrix{Float64}) with eltype Float64:\n",
       " 0.0  0.0  0.0  0.0\n",
       " 0.0  0.0  0.0  0.0\n",
       " 0.0  0.0  0.0  0.0"
      ]
     },
     "execution_count": 41,
     "metadata": {},
     "output_type": "execute_result"
    }
   ],
   "source": [
    "# transpose\n",
    "A'"
   ]
  },
  {
   "cell_type": "code",
   "execution_count": 42,
   "metadata": {
    "tags": []
   },
   "outputs": [
    {
     "data": {
      "text/plain": [
       "4×3 Matrix{Float64}:\n",
       " 2.24498e-314  2.24471e-314  2.24498e-314\n",
       " 2.24498e-314  2.24471e-314  2.24498e-314\n",
       " 2.24498e-314  2.24471e-314  2.24471e-314\n",
       " 2.24498e-314  2.24498e-314  5.45361e-312"
      ]
     },
     "execution_count": 42,
     "metadata": {},
     "output_type": "execute_result"
    }
   ],
   "source": [
    "# define undefined matrix to be filled later\n",
    "B = Matrix{Float64}(undef,4,3)  "
   ]
  },
  {
   "cell_type": "code",
   "execution_count": 43,
   "metadata": {
    "tags": []
   },
   "outputs": [
    {
     "data": {
      "text/plain": [
       "4×3 Matrix{Float64}:\n",
       " 2.24498e-314  10.0           2.24498e-314\n",
       " 2.24498e-314   2.24471e-314  2.24498e-314\n",
       " 2.24498e-314   2.24471e-314  2.24471e-314\n",
       " 2.24498e-314   2.24498e-314  5.45361e-312"
      ]
     },
     "execution_count": 43,
     "metadata": {},
     "output_type": "execute_result"
    }
   ],
   "source": [
    "B[1,2] = 10\n",
    "B"
   ]
  },
  {
   "cell_type": "code",
   "execution_count": 44,
   "metadata": {
    "tags": []
   },
   "outputs": [
    {
     "data": {
      "text/plain": [
       "2×3 Matrix{Int64}:\n",
       " 2  3  4\n",
       " 5  6  7"
      ]
     },
     "execution_count": 44,
     "metadata": {},
     "output_type": "execute_result"
    }
   ],
   "source": [
    "# .+ for element-wise addition\n",
    "A = [1 2 3;4 5 6]\n",
    "B = A.+1"
   ]
  },
  {
   "cell_type": "code",
   "execution_count": 45,
   "metadata": {
    "tags": []
   },
   "outputs": [
    {
     "data": {
      "text/plain": [
       "2×3 Matrix{Int64}:\n",
       "  4   9  16\n",
       " 25  36  49"
      ]
     },
     "execution_count": 45,
     "metadata": {},
     "output_type": "execute_result"
    }
   ],
   "source": [
    "B.*B"
   ]
  },
  {
   "cell_type": "code",
   "execution_count": 46,
   "metadata": {
    "tags": []
   },
   "outputs": [
    {
     "data": {
      "text/plain": [
       "3-element Vector{Float64}:\n",
       " 2.273906511e-314\n",
       " 2.426748588e-314\n",
       " 2.2628803095e-314"
      ]
     },
     "execution_count": 46,
     "metadata": {},
     "output_type": "execute_result"
    }
   ],
   "source": [
    "# undefined vector\n",
    "V = Vector{Float64}(undef,3)   "
   ]
  },
  {
   "cell_type": "code",
   "execution_count": 47,
   "metadata": {
    "tags": []
   },
   "outputs": [
    {
     "data": {
      "text/plain": [
       "4-element Vector{Float64}:\n",
       " 2.273906511e-314\n",
       " 2.426748588e-314\n",
       " 2.2628803095e-314\n",
       " 8.0"
      ]
     },
     "execution_count": 47,
     "metadata": {},
     "output_type": "execute_result"
    }
   ],
   "source": [
    "# append entry to vector\n",
    "push!(V,8) # ! is used when existing object is altered"
   ]
  },
  {
   "cell_type": "code",
   "execution_count": 48,
   "metadata": {
    "tags": []
   },
   "outputs": [
    {
     "data": {
      "text/plain": [
       "Float64[]"
      ]
     },
     "execution_count": 48,
     "metadata": {},
     "output_type": "execute_result"
    }
   ],
   "source": [
    "# empty vector to be filled with floating point numbers\n",
    "v = Float64[]"
   ]
  },
  {
   "cell_type": "code",
   "execution_count": 49,
   "metadata": {
    "tags": []
   },
   "outputs": [
    {
     "data": {
      "text/plain": [
       "2-element Vector{Float64}:\n",
       " 3.141592653589793\n",
       " 2.718281828459045"
      ]
     },
     "execution_count": 49,
     "metadata": {},
     "output_type": "execute_result"
    }
   ],
   "source": [
    "push!(v,π)\n",
    "push!(v,exp(1))\n",
    "v"
   ]
  },
  {
   "cell_type": "code",
   "execution_count": 50,
   "metadata": {
    "tags": []
   },
   "outputs": [
    {
     "name": "stderr",
     "output_type": "stream",
     "text": [
      "\u001b[32m\u001b[1m    Updating\u001b[22m\u001b[39m registry at `~/.julia/registries/General.toml`\n",
      "\u001b[32m\u001b[1m   Resolving\u001b[22m\u001b[39m package versions...\n",
      "\u001b[32m\u001b[1m  No Changes\u001b[22m\u001b[39m to `~/.julia/environments/v1.8/Project.toml`\n",
      "\u001b[32m\u001b[1m  No Changes\u001b[22m\u001b[39m to `~/.julia/environments/v1.8/Manifest.toml`\n"
     ]
    }
   ],
   "source": [
    "# packages make life easier\n",
    "import Pkg  # call the package manager\n",
    "Pkg.add(\"LinearAlgebra\")   # add the LinearAlgebra package to your library \n",
    "using LinearAlgebra   # use the LinearAlgebra package in this notebook"
   ]
  },
  {
   "cell_type": "code",
   "execution_count": 51,
   "metadata": {
    "tags": []
   },
   "outputs": [
    {
     "data": {
      "text/plain": [
       "3×3 Matrix{Int64}:\n",
       " 1  0  0\n",
       " 0  2  0\n",
       " 0  0  3"
      ]
     },
     "execution_count": 51,
     "metadata": {},
     "output_type": "execute_result"
    }
   ],
   "source": [
    "diagm([1,2,3])"
   ]
  },
  {
   "cell_type": "code",
   "execution_count": 52,
   "metadata": {
    "tags": []
   },
   "outputs": [
    {
     "data": {
      "text/plain": [
       "3×3 Matrix{Int64}:\n",
       " 1  0  0\n",
       " 0  2  0\n",
       " 0  0  3"
      ]
     },
     "execution_count": 52,
     "metadata": {},
     "output_type": "execute_result"
    }
   ],
   "source": [
    "B = diagm((1:3))"
   ]
  },
  {
   "cell_type": "code",
   "execution_count": 53,
   "metadata": {
    "tags": []
   },
   "outputs": [
    {
     "data": {
      "text/plain": [
       "3-element Vector{Int64}:\n",
       " 1\n",
       " 2\n",
       " 3"
      ]
     },
     "execution_count": 53,
     "metadata": {},
     "output_type": "execute_result"
    }
   ],
   "source": [
    "diag(B)"
   ]
  },
  {
   "cell_type": "code",
   "execution_count": 54,
   "metadata": {
    "tags": []
   },
   "outputs": [
    {
     "data": {
      "text/plain": [
       "3×3 Matrix{Float64}:\n",
       " 2.76495   0.282016  0.132399\n",
       " 0.963986  2.76066   0.331332\n",
       " 0.415908  0.59358   2.33658"
      ]
     },
     "execution_count": 54,
     "metadata": {},
     "output_type": "execute_result"
    }
   ],
   "source": [
    "# identity matrix I has flexible size, its dimensions are deduced from the context\n",
    "M = 2I+rand(3,3) "
   ]
  },
  {
   "cell_type": "code",
   "execution_count": 55,
   "metadata": {
    "tags": []
   },
   "outputs": [
    {
     "data": {
      "text/plain": [
       "2×2 Matrix{Float64}:\n",
       " 2.76066  0.331332\n",
       " 0.59358  2.33658"
      ]
     },
     "execution_count": 55,
     "metadata": {},
     "output_type": "execute_result"
    }
   ],
   "source": [
    "# submatrices\n",
    "M[2:3,2:3]"
   ]
  },
  {
   "cell_type": "code",
   "execution_count": 56,
   "metadata": {
    "tags": []
   },
   "outputs": [
    {
     "data": {
      "text/plain": [
       "3×3 Matrix{Float64}:\n",
       " 7.97185  1.6369   0.76888\n",
       " 5.46441  8.0898   1.81651\n",
       " 2.69397  3.14291  5.71134"
      ]
     },
     "execution_count": 56,
     "metadata": {},
     "output_type": "execute_result"
    }
   ],
   "source": [
    "# matrix multiplication \n",
    "M*M"
   ]
  },
  {
   "cell_type": "code",
   "execution_count": 57,
   "metadata": {
    "tags": []
   },
   "outputs": [
    {
     "data": {
      "text/plain": [
       "(true, 14)"
      ]
     },
     "execution_count": 57,
     "metadata": {},
     "output_type": "execute_result"
    }
   ],
   "source": [
    "# inner product\n",
    "v = [1;2;3]\n",
    "dot(v,v) == v'v,\n",
    "v'*v"
   ]
  },
  {
   "cell_type": "code",
   "execution_count": 58,
   "metadata": {
    "tags": []
   },
   "outputs": [
    {
     "data": {
      "image/svg+xml": [
       "<?xml version=\"1.0\" encoding=\"utf-8\"?>\n",
       "<svg xmlns=\"http://www.w3.org/2000/svg\" xmlns:xlink=\"http://www.w3.org/1999/xlink\" width=\"600\" height=\"400\" viewBox=\"0 0 2400 1600\">\n",
       "<defs>\n",
       "  <clipPath id=\"clip770\">\n",
       "    <rect x=\"0\" y=\"0\" width=\"2400\" height=\"1600\"/>\n",
       "  </clipPath>\n",
       "</defs>\n",
       "<path clip-path=\"url(#clip770)\" d=\"\n",
       "M0 1600 L2400 1600 L2400 0 L0 0  Z\n",
       "  \" fill=\"#ffffff\" fill-rule=\"evenodd\" fill-opacity=\"1\"/>\n",
       "<defs>\n",
       "  <clipPath id=\"clip771\">\n",
       "    <rect x=\"480\" y=\"0\" width=\"1681\" height=\"1600\"/>\n",
       "  </clipPath>\n",
       "</defs>\n",
       "<path clip-path=\"url(#clip770)\" d=\"\n",
       "M193.936 1486.45 L2352.76 1486.45 L2352.76 47.2441 L193.936 47.2441  Z\n",
       "  \" fill=\"#ffffff\" fill-rule=\"evenodd\" fill-opacity=\"1\"/>\n",
       "<defs>\n",
       "  <clipPath id=\"clip772\">\n",
       "    <rect x=\"193\" y=\"47\" width=\"2160\" height=\"1440\"/>\n",
       "  </clipPath>\n",
       "</defs>\n",
       "<polyline clip-path=\"url(#clip772)\" style=\"stroke:#000000; stroke-linecap:round; stroke-linejoin:round; stroke-width:2; stroke-opacity:0.1; fill:none\" points=\"\n",
       "  458.697,1486.45 458.697,47.2441 \n",
       "  \"/>\n",
       "<polyline clip-path=\"url(#clip772)\" style=\"stroke:#000000; stroke-linecap:round; stroke-linejoin:round; stroke-width:2; stroke-opacity:0.1; fill:none\" points=\"\n",
       "  866.021,1486.45 866.021,47.2441 \n",
       "  \"/>\n",
       "<polyline clip-path=\"url(#clip772)\" style=\"stroke:#000000; stroke-linecap:round; stroke-linejoin:round; stroke-width:2; stroke-opacity:0.1; fill:none\" points=\"\n",
       "  1273.35,1486.45 1273.35,47.2441 \n",
       "  \"/>\n",
       "<polyline clip-path=\"url(#clip772)\" style=\"stroke:#000000; stroke-linecap:round; stroke-linejoin:round; stroke-width:2; stroke-opacity:0.1; fill:none\" points=\"\n",
       "  1680.67,1486.45 1680.67,47.2441 \n",
       "  \"/>\n",
       "<polyline clip-path=\"url(#clip772)\" style=\"stroke:#000000; stroke-linecap:round; stroke-linejoin:round; stroke-width:2; stroke-opacity:0.1; fill:none\" points=\"\n",
       "  2087.99,1486.45 2087.99,47.2441 \n",
       "  \"/>\n",
       "<polyline clip-path=\"url(#clip770)\" style=\"stroke:#000000; stroke-linecap:round; stroke-linejoin:round; stroke-width:4; stroke-opacity:1; fill:none\" points=\"\n",
       "  193.936,1486.45 2352.76,1486.45 \n",
       "  \"/>\n",
       "<polyline clip-path=\"url(#clip770)\" style=\"stroke:#000000; stroke-linecap:round; stroke-linejoin:round; stroke-width:4; stroke-opacity:1; fill:none\" points=\"\n",
       "  458.697,1486.45 458.697,1467.55 \n",
       "  \"/>\n",
       "<polyline clip-path=\"url(#clip770)\" style=\"stroke:#000000; stroke-linecap:round; stroke-linejoin:round; stroke-width:4; stroke-opacity:1; fill:none\" points=\"\n",
       "  866.021,1486.45 866.021,1467.55 \n",
       "  \"/>\n",
       "<polyline clip-path=\"url(#clip770)\" style=\"stroke:#000000; stroke-linecap:round; stroke-linejoin:round; stroke-width:4; stroke-opacity:1; fill:none\" points=\"\n",
       "  1273.35,1486.45 1273.35,1467.55 \n",
       "  \"/>\n",
       "<polyline clip-path=\"url(#clip770)\" style=\"stroke:#000000; stroke-linecap:round; stroke-linejoin:round; stroke-width:4; stroke-opacity:1; fill:none\" points=\"\n",
       "  1680.67,1486.45 1680.67,1467.55 \n",
       "  \"/>\n",
       "<polyline clip-path=\"url(#clip770)\" style=\"stroke:#000000; stroke-linecap:round; stroke-linejoin:round; stroke-width:4; stroke-opacity:1; fill:none\" points=\"\n",
       "  2087.99,1486.45 2087.99,1467.55 \n",
       "  \"/>\n",
       "<path clip-path=\"url(#clip770)\" d=\"M427.598 1532.02 L457.273 1532.02 L457.273 1535.95 L427.598 1535.95 L427.598 1532.02 Z\" fill=\"#000000\" fill-rule=\"evenodd\" fill-opacity=\"1\" /><path clip-path=\"url(#clip770)\" d=\"M480.213 1518.36 L468.408 1536.81 L480.213 1536.81 L480.213 1518.36 M478.986 1514.29 L484.866 1514.29 L484.866 1536.81 L489.796 1536.81 L489.796 1540.7 L484.866 1540.7 L484.866 1548.85 L480.213 1548.85 L480.213 1540.7 L464.611 1540.7 L464.611 1536.19 L478.986 1514.29 Z\" fill=\"#000000\" fill-rule=\"evenodd\" fill-opacity=\"1\" /><path clip-path=\"url(#clip770)\" d=\"M835.964 1532.02 L865.639 1532.02 L865.639 1535.95 L835.964 1535.95 L835.964 1532.02 Z\" fill=\"#000000\" fill-rule=\"evenodd\" fill-opacity=\"1\" /><path clip-path=\"url(#clip770)\" d=\"M879.76 1544.91 L896.079 1544.91 L896.079 1548.85 L874.135 1548.85 L874.135 1544.91 Q876.797 1542.16 881.38 1537.53 Q885.987 1532.88 887.167 1531.53 Q889.413 1529.01 890.292 1527.27 Q891.195 1525.51 891.195 1523.82 Q891.195 1521.07 889.25 1519.33 Q887.329 1517.6 884.227 1517.6 Q882.028 1517.6 879.575 1518.36 Q877.144 1519.13 874.366 1520.68 L874.366 1515.95 Q877.19 1514.82 879.644 1514.24 Q882.098 1513.66 884.135 1513.66 Q889.505 1513.66 892.7 1516.35 Q895.894 1519.03 895.894 1523.52 Q895.894 1525.65 895.084 1527.57 Q894.297 1529.47 892.19 1532.07 Q891.612 1532.74 888.51 1535.95 Q885.408 1539.15 879.76 1544.91 Z\" fill=\"#000000\" fill-rule=\"evenodd\" fill-opacity=\"1\" /><path clip-path=\"url(#clip770)\" d=\"M1273.35 1517.37 Q1269.73 1517.37 1267.91 1520.93 Q1266.1 1524.47 1266.1 1531.6 Q1266.1 1538.71 1267.91 1542.27 Q1269.73 1545.82 1273.35 1545.82 Q1276.98 1545.82 1278.79 1542.27 Q1280.61 1538.71 1280.61 1531.6 Q1280.61 1524.47 1278.79 1520.93 Q1276.98 1517.37 1273.35 1517.37 M1273.35 1513.66 Q1279.16 1513.66 1282.21 1518.27 Q1285.29 1522.85 1285.29 1531.6 Q1285.29 1540.33 1282.21 1544.94 Q1279.16 1549.52 1273.35 1549.52 Q1267.54 1549.52 1264.46 1544.94 Q1261.4 1540.33 1261.4 1531.6 Q1261.4 1522.85 1264.46 1518.27 Q1267.54 1513.66 1273.35 1513.66 Z\" fill=\"#000000\" fill-rule=\"evenodd\" fill-opacity=\"1\" /><path clip-path=\"url(#clip770)\" d=\"M1675.32 1544.91 L1691.64 1544.91 L1691.64 1548.85 L1669.7 1548.85 L1669.7 1544.91 Q1672.36 1542.16 1676.94 1537.53 Q1681.55 1532.88 1682.73 1531.53 Q1684.98 1529.01 1685.86 1527.27 Q1686.76 1525.51 1686.76 1523.82 Q1686.76 1521.07 1684.81 1519.33 Q1682.89 1517.6 1679.79 1517.6 Q1677.59 1517.6 1675.14 1518.36 Q1672.71 1519.13 1669.93 1520.68 L1669.93 1515.95 Q1672.75 1514.82 1675.21 1514.24 Q1677.66 1513.66 1679.7 1513.66 Q1685.07 1513.66 1688.26 1516.35 Q1691.46 1519.03 1691.46 1523.52 Q1691.46 1525.65 1690.65 1527.57 Q1689.86 1529.47 1687.75 1532.07 Q1687.18 1532.74 1684.07 1535.95 Q1680.97 1539.15 1675.32 1544.91 Z\" fill=\"#000000\" fill-rule=\"evenodd\" fill-opacity=\"1\" /><path clip-path=\"url(#clip770)\" d=\"M2091 1518.36 L2079.2 1536.81 L2091 1536.81 L2091 1518.36 M2089.78 1514.29 L2095.66 1514.29 L2095.66 1536.81 L2100.59 1536.81 L2100.59 1540.7 L2095.66 1540.7 L2095.66 1548.85 L2091 1548.85 L2091 1540.7 L2075.4 1540.7 L2075.4 1536.19 L2089.78 1514.29 Z\" fill=\"#000000\" fill-rule=\"evenodd\" fill-opacity=\"1\" /><polyline clip-path=\"url(#clip772)\" style=\"stroke:#000000; stroke-linecap:round; stroke-linejoin:round; stroke-width:2; stroke-opacity:0.1; fill:none\" points=\"\n",
       "  193.936,1445.74 2352.76,1445.74 \n",
       "  \"/>\n",
       "<polyline clip-path=\"url(#clip772)\" style=\"stroke:#000000; stroke-linecap:round; stroke-linejoin:round; stroke-width:2; stroke-opacity:0.1; fill:none\" points=\"\n",
       "  193.936,1106.3 2352.76,1106.3 \n",
       "  \"/>\n",
       "<polyline clip-path=\"url(#clip772)\" style=\"stroke:#000000; stroke-linecap:round; stroke-linejoin:round; stroke-width:2; stroke-opacity:0.1; fill:none\" points=\"\n",
       "  193.936,766.858 2352.76,766.858 \n",
       "  \"/>\n",
       "<polyline clip-path=\"url(#clip772)\" style=\"stroke:#000000; stroke-linecap:round; stroke-linejoin:round; stroke-width:2; stroke-opacity:0.1; fill:none\" points=\"\n",
       "  193.936,427.415 2352.76,427.415 \n",
       "  \"/>\n",
       "<polyline clip-path=\"url(#clip772)\" style=\"stroke:#000000; stroke-linecap:round; stroke-linejoin:round; stroke-width:2; stroke-opacity:0.1; fill:none\" points=\"\n",
       "  193.936,87.9727 2352.76,87.9727 \n",
       "  \"/>\n",
       "<polyline clip-path=\"url(#clip770)\" style=\"stroke:#000000; stroke-linecap:round; stroke-linejoin:round; stroke-width:4; stroke-opacity:1; fill:none\" points=\"\n",
       "  193.936,1486.45 193.936,47.2441 \n",
       "  \"/>\n",
       "<polyline clip-path=\"url(#clip770)\" style=\"stroke:#000000; stroke-linecap:round; stroke-linejoin:round; stroke-width:4; stroke-opacity:1; fill:none\" points=\"\n",
       "  193.936,1445.74 212.834,1445.74 \n",
       "  \"/>\n",
       "<polyline clip-path=\"url(#clip770)\" style=\"stroke:#000000; stroke-linecap:round; stroke-linejoin:round; stroke-width:4; stroke-opacity:1; fill:none\" points=\"\n",
       "  193.936,1106.3 212.834,1106.3 \n",
       "  \"/>\n",
       "<polyline clip-path=\"url(#clip770)\" style=\"stroke:#000000; stroke-linecap:round; stroke-linejoin:round; stroke-width:4; stroke-opacity:1; fill:none\" points=\"\n",
       "  193.936,766.858 212.834,766.858 \n",
       "  \"/>\n",
       "<polyline clip-path=\"url(#clip770)\" style=\"stroke:#000000; stroke-linecap:round; stroke-linejoin:round; stroke-width:4; stroke-opacity:1; fill:none\" points=\"\n",
       "  193.936,427.415 212.834,427.415 \n",
       "  \"/>\n",
       "<polyline clip-path=\"url(#clip770)\" style=\"stroke:#000000; stroke-linecap:round; stroke-linejoin:round; stroke-width:4; stroke-opacity:1; fill:none\" points=\"\n",
       "  193.936,87.9727 212.834,87.9727 \n",
       "  \"/>\n",
       "<path clip-path=\"url(#clip770)\" d=\"M50.9921 1446.19 L80.6679 1446.19 L80.6679 1450.13 L50.9921 1450.13 L50.9921 1446.19 Z\" fill=\"#000000\" fill-rule=\"evenodd\" fill-opacity=\"1\" /><path clip-path=\"url(#clip770)\" d=\"M91.5706 1459.09 L99.2095 1459.09 L99.2095 1432.72 L90.8993 1434.39 L90.8993 1430.13 L99.1632 1428.46 L103.839 1428.46 L103.839 1459.09 L111.478 1459.09 L111.478 1463.02 L91.5706 1463.02 L91.5706 1459.09 Z\" fill=\"#000000\" fill-rule=\"evenodd\" fill-opacity=\"1\" /><path clip-path=\"url(#clip770)\" d=\"M120.922 1457.14 L125.807 1457.14 L125.807 1463.02 L120.922 1463.02 L120.922 1457.14 Z\" fill=\"#000000\" fill-rule=\"evenodd\" fill-opacity=\"1\" /><path clip-path=\"url(#clip770)\" d=\"M145.992 1431.54 Q142.381 1431.54 140.552 1435.11 Q138.746 1438.65 138.746 1445.78 Q138.746 1452.88 140.552 1456.45 Q142.381 1459.99 145.992 1459.99 Q149.626 1459.99 151.431 1456.45 Q153.26 1452.88 153.26 1445.78 Q153.26 1438.65 151.431 1435.11 Q149.626 1431.54 145.992 1431.54 M145.992 1427.84 Q151.802 1427.84 154.857 1432.44 Q157.936 1437.03 157.936 1445.78 Q157.936 1454.5 154.857 1459.11 Q151.802 1463.69 145.992 1463.69 Q140.181 1463.69 137.103 1459.11 Q134.047 1454.5 134.047 1445.78 Q134.047 1437.03 137.103 1432.44 Q140.181 1427.84 145.992 1427.84 Z\" fill=\"#000000\" fill-rule=\"evenodd\" fill-opacity=\"1\" /><path clip-path=\"url(#clip770)\" d=\"M51.9875 1106.75 L81.6633 1106.75 L81.6633 1110.69 L51.9875 1110.69 L51.9875 1106.75 Z\" fill=\"#000000\" fill-rule=\"evenodd\" fill-opacity=\"1\" /><path clip-path=\"url(#clip770)\" d=\"M101.756 1092.1 Q98.1447 1092.1 96.316 1095.66 Q94.5104 1099.21 94.5104 1106.33 Q94.5104 1113.44 96.316 1117.01 Q98.1447 1120.55 101.756 1120.55 Q105.39 1120.55 107.196 1117.01 Q109.024 1113.44 109.024 1106.33 Q109.024 1099.21 107.196 1095.66 Q105.39 1092.1 101.756 1092.1 M101.756 1088.4 Q107.566 1088.4 110.621 1093 Q113.7 1097.58 113.7 1106.33 Q113.7 1115.06 110.621 1119.67 Q107.566 1124.25 101.756 1124.25 Q95.9456 1124.25 92.8669 1119.67 Q89.8114 1115.06 89.8114 1106.33 Q89.8114 1097.58 92.8669 1093 Q95.9456 1088.4 101.756 1088.4 Z\" fill=\"#000000\" fill-rule=\"evenodd\" fill-opacity=\"1\" /><path clip-path=\"url(#clip770)\" d=\"M121.918 1117.7 L126.802 1117.7 L126.802 1123.58 L121.918 1123.58 L121.918 1117.7 Z\" fill=\"#000000\" fill-rule=\"evenodd\" fill-opacity=\"1\" /><path clip-path=\"url(#clip770)\" d=\"M137.033 1089.02 L155.39 1089.02 L155.39 1092.96 L141.316 1092.96 L141.316 1101.43 Q142.334 1101.08 143.353 1100.92 Q144.371 1100.73 145.39 1100.73 Q151.177 1100.73 154.556 1103.9 Q157.936 1107.08 157.936 1112.49 Q157.936 1118.07 154.464 1121.17 Q150.992 1124.25 144.672 1124.25 Q142.496 1124.25 140.228 1123.88 Q137.982 1123.51 135.575 1122.77 L135.575 1118.07 Q137.658 1119.21 139.881 1119.76 Q142.103 1120.32 144.58 1120.32 Q148.584 1120.32 150.922 1118.21 Q153.26 1116.1 153.26 1112.49 Q153.26 1108.88 150.922 1106.77 Q148.584 1104.67 144.58 1104.67 Q142.705 1104.67 140.83 1105.08 Q138.978 1105.5 137.033 1106.38 L137.033 1089.02 Z\" fill=\"#000000\" fill-rule=\"evenodd\" fill-opacity=\"1\" /><path clip-path=\"url(#clip770)\" d=\"M100.76 752.656 Q97.1493 752.656 95.3206 756.221 Q93.515 759.763 93.515 766.892 Q93.515 773.999 95.3206 777.564 Q97.1493 781.105 100.76 781.105 Q104.395 781.105 106.2 777.564 Q108.029 773.999 108.029 766.892 Q108.029 759.763 106.2 756.221 Q104.395 752.656 100.76 752.656 M100.76 748.953 Q106.571 748.953 109.626 753.559 Q112.705 758.142 112.705 766.892 Q112.705 775.619 109.626 780.226 Q106.571 784.809 100.76 784.809 Q94.9502 784.809 91.8715 780.226 Q88.816 775.619 88.816 766.892 Q88.816 758.142 91.8715 753.559 Q94.9502 748.953 100.76 748.953 Z\" fill=\"#000000\" fill-rule=\"evenodd\" fill-opacity=\"1\" /><path clip-path=\"url(#clip770)\" d=\"M120.922 778.258 L125.807 778.258 L125.807 784.138 L120.922 784.138 L120.922 778.258 Z\" fill=\"#000000\" fill-rule=\"evenodd\" fill-opacity=\"1\" /><path clip-path=\"url(#clip770)\" d=\"M145.992 752.656 Q142.381 752.656 140.552 756.221 Q138.746 759.763 138.746 766.892 Q138.746 773.999 140.552 777.564 Q142.381 781.105 145.992 781.105 Q149.626 781.105 151.431 777.564 Q153.26 773.999 153.26 766.892 Q153.26 759.763 151.431 756.221 Q149.626 752.656 145.992 752.656 M145.992 748.953 Q151.802 748.953 154.857 753.559 Q157.936 758.142 157.936 766.892 Q157.936 775.619 154.857 780.226 Q151.802 784.809 145.992 784.809 Q140.181 784.809 137.103 780.226 Q134.047 775.619 134.047 766.892 Q134.047 758.142 137.103 753.559 Q140.181 748.953 145.992 748.953 Z\" fill=\"#000000\" fill-rule=\"evenodd\" fill-opacity=\"1\" /><path clip-path=\"url(#clip770)\" d=\"M101.756 413.214 Q98.1447 413.214 96.316 416.779 Q94.5104 420.32 94.5104 427.45 Q94.5104 434.556 96.316 438.121 Q98.1447 441.663 101.756 441.663 Q105.39 441.663 107.196 438.121 Q109.024 434.556 109.024 427.45 Q109.024 420.32 107.196 416.779 Q105.39 413.214 101.756 413.214 M101.756 409.51 Q107.566 409.51 110.621 414.117 Q113.7 418.7 113.7 427.45 Q113.7 436.177 110.621 440.783 Q107.566 445.366 101.756 445.366 Q95.9456 445.366 92.8669 440.783 Q89.8114 436.177 89.8114 427.45 Q89.8114 418.7 92.8669 414.117 Q95.9456 409.51 101.756 409.51 Z\" fill=\"#000000\" fill-rule=\"evenodd\" fill-opacity=\"1\" /><path clip-path=\"url(#clip770)\" d=\"M121.918 438.816 L126.802 438.816 L126.802 444.695 L121.918 444.695 L121.918 438.816 Z\" fill=\"#000000\" fill-rule=\"evenodd\" fill-opacity=\"1\" /><path clip-path=\"url(#clip770)\" d=\"M137.033 410.135 L155.39 410.135 L155.39 414.07 L141.316 414.07 L141.316 422.543 Q142.334 422.195 143.353 422.033 Q144.371 421.848 145.39 421.848 Q151.177 421.848 154.556 425.019 Q157.936 428.191 157.936 433.607 Q157.936 439.186 154.464 442.288 Q150.992 445.366 144.672 445.366 Q142.496 445.366 140.228 444.996 Q137.982 444.626 135.575 443.885 L135.575 439.186 Q137.658 440.32 139.881 440.876 Q142.103 441.431 144.58 441.431 Q148.584 441.431 150.922 439.325 Q153.26 437.218 153.26 433.607 Q153.26 429.996 150.922 427.89 Q148.584 425.783 144.58 425.783 Q142.705 425.783 140.83 426.2 Q138.978 426.617 137.033 427.496 L137.033 410.135 Z\" fill=\"#000000\" fill-rule=\"evenodd\" fill-opacity=\"1\" /><path clip-path=\"url(#clip770)\" d=\"M91.5706 101.318 L99.2095 101.318 L99.2095 74.9519 L90.8993 76.6186 L90.8993 72.3594 L99.1632 70.6927 L103.839 70.6927 L103.839 101.318 L111.478 101.318 L111.478 105.253 L91.5706 105.253 L91.5706 101.318 Z\" fill=\"#000000\" fill-rule=\"evenodd\" fill-opacity=\"1\" /><path clip-path=\"url(#clip770)\" d=\"M120.922 99.3731 L125.807 99.3731 L125.807 105.253 L120.922 105.253 L120.922 99.3731 Z\" fill=\"#000000\" fill-rule=\"evenodd\" fill-opacity=\"1\" /><path clip-path=\"url(#clip770)\" d=\"M145.992 73.7714 Q142.381 73.7714 140.552 77.3362 Q138.746 80.8778 138.746 88.0074 Q138.746 95.1139 140.552 98.6787 Q142.381 102.22 145.992 102.22 Q149.626 102.22 151.431 98.6787 Q153.26 95.1139 153.26 88.0074 Q153.26 80.8778 151.431 77.3362 Q149.626 73.7714 145.992 73.7714 M145.992 70.0677 Q151.802 70.0677 154.857 74.6742 Q157.936 79.2575 157.936 88.0074 Q157.936 96.7342 154.857 101.341 Q151.802 105.924 145.992 105.924 Q140.181 105.924 137.103 101.341 Q134.047 96.7342 134.047 88.0074 Q134.047 79.2575 137.103 74.6742 Q140.181 70.0677 145.992 70.0677 Z\" fill=\"#000000\" fill-rule=\"evenodd\" fill-opacity=\"1\" /><polyline clip-path=\"url(#clip772)\" style=\"stroke:#009af9; stroke-linecap:round; stroke-linejoin:round; stroke-width:4; stroke-opacity:1; fill:none\" points=\"\n",
       "  255.035,115.858 258.35,112.81 261.664,109.936 264.979,107.235 268.294,104.709 283.62,95.32 298.945,89.732 306.608,88.3739 314.27,87.9763 321.933,88.5395 \n",
       "  329.596,90.0629 337.259,92.5443 344.921,95.98 352.584,100.365 360.247,105.694 375.572,119.15 390.898,136.272 400.108,148.286 409.318,161.564 418.527,176.08 \n",
       "  427.737,191.804 436.947,208.704 446.157,226.745 455.367,245.89 464.577,266.1 480.151,302.583 495.725,341.778 511.299,383.458 526.872,427.379 543.79,477.329 \n",
       "  560.707,529.276 577.625,582.861 594.542,637.715 625.735,740.907 656.928,844.707 673.649,899.753 690.37,953.903 707.091,1006.79 723.812,1058.07 743.185,1115 \n",
       "  762.558,1168.78 772.245,1194.34 781.931,1218.93 791.617,1242.5 801.304,1264.99 809.912,1284.03 818.52,1302.15 827.129,1319.32 835.737,1335.5 844.345,1350.66 \n",
       "  852.953,1364.78 861.561,1377.83 870.17,1389.79 885.267,1408.07 900.364,1422.82 915.461,1433.98 930.558,1441.46 938.788,1443.99 947.018,1445.41 955.248,1445.72 \n",
       "  963.478,1444.92 971.708,1443.01 979.938,1440 988.168,1435.89 996.398,1430.69 1004.68,1424.37 1012.96,1416.95 1021.24,1408.47 1029.51,1398.92 1046.07,1376.72 \n",
       "  1062.63,1350.48 1071.78,1334.31 1080.94,1316.99 1090.09,1298.56 1099.24,1279.06 1108.4,1258.53 1117.55,1237 1126.7,1214.52 1135.86,1191.13 1153.28,1144.31 \n",
       "  1170.69,1094.73 1188.11,1042.75 1205.53,988.757 1241.75,871.746 1277.98,751.426 1308.47,650.364 1338.96,551.908 1357.57,494.034 1376.19,438.437 1394.8,385.581 \n",
       "  1413.41,335.908 1421.94,314.333 1430.46,293.551 1438.99,273.598 1447.51,254.51 1464.57,219.058 1481.62,187.444 1489.49,174.202 1497.36,161.846 1505.24,150.394 \n",
       "  1513.11,139.864 1520.99,130.271 1528.86,121.629 1536.73,113.952 1544.61,107.25 1552.58,101.467 1560.56,96.7035 1568.54,92.9682 1576.51,90.2663 1584.49,88.602 \n",
       "  1592.46,87.9779 1600.44,88.3948 1608.42,89.8523 1617.36,92.7193 1626.29,96.8847 1635.23,102.341 1644.17,109.076 1653.11,117.079 1662.05,126.334 1670.99,136.822 \n",
       "  1679.93,148.523 1696.13,172.748 1712.33,200.731 1720.43,216.076 1728.53,232.293 1736.63,249.355 1744.73,267.236 1754,288.677 1763.28,311.109 1772.55,334.486 \n",
       "  1781.83,358.76 1800.37,409.793 1818.92,463.785 1836.1,516.028 1853.27,570.053 1870.44,625.476 1887.62,681.905 1921.48,794.552 1955.34,906.436 1971.78,959.55 \n",
       "  1988.22,1011.41 2004.66,1061.68 2021.1,1110.02 2037.95,1157.26 2054.8,1201.83 2071.66,1243.43 2088.51,1281.76 2097.74,1301.28 2106.97,1319.7 2116.2,1336.99 \n",
       "  2125.44,1353.1 2134.67,1368.01 2143.9,1381.69 2153.13,1394.1 2162.36,1405.22 2175.77,1419.04 2189.18,1430.03 2202.59,1438.15 2216,1443.36 2229.42,1445.63 \n",
       "  2242.83,1444.97 2256.24,1441.36 2269.65,1434.83 2275.15,1431.31 2280.65,1427.31 2286.15,1422.82 2291.66,1417.86 \n",
       "  \"/>\n",
       "<path clip-path=\"url(#clip770)\" d=\"\n",
       "M1988.5 198.898 L2280.8 198.898 L2280.8 95.2176 L1988.5 95.2176  Z\n",
       "  \" fill=\"#ffffff\" fill-rule=\"evenodd\" fill-opacity=\"1\"/>\n",
       "<polyline clip-path=\"url(#clip770)\" style=\"stroke:#000000; stroke-linecap:round; stroke-linejoin:round; stroke-width:4; stroke-opacity:1; fill:none\" points=\"\n",
       "  1988.5,198.898 2280.8,198.898 2280.8,95.2176 1988.5,95.2176 1988.5,198.898 \n",
       "  \"/>\n",
       "<polyline clip-path=\"url(#clip770)\" style=\"stroke:#009af9; stroke-linecap:round; stroke-linejoin:round; stroke-width:4; stroke-opacity:1; fill:none\" points=\"\n",
       "  2012.48,147.058 2156.4,147.058 \n",
       "  \"/>\n",
       "<path clip-path=\"url(#clip770)\" d=\"M2194.23 166.745 Q2192.43 171.375 2190.72 172.787 Q2189 174.199 2186.13 174.199 L2182.73 174.199 L2182.73 170.634 L2185.23 170.634 Q2186.99 170.634 2187.96 169.8 Q2188.93 168.967 2190.11 165.865 L2190.88 163.921 L2180.39 138.412 L2184.91 138.412 L2193.01 158.689 L2201.11 138.412 L2205.62 138.412 L2194.23 166.745 Z\" fill=\"#000000\" fill-rule=\"evenodd\" fill-opacity=\"1\" /><path clip-path=\"url(#clip770)\" d=\"M2212.91 160.402 L2220.55 160.402 L2220.55 134.037 L2212.24 135.703 L2212.24 131.444 L2220.51 129.778 L2225.18 129.778 L2225.18 160.402 L2232.82 160.402 L2232.82 164.338 L2212.91 164.338 L2212.91 160.402 Z\" fill=\"#000000\" fill-rule=\"evenodd\" fill-opacity=\"1\" /></svg>\n"
      ]
     },
     "execution_count": 58,
     "metadata": {},
     "output_type": "execute_result"
    }
   ],
   "source": [
    "# plotting requires package\n",
    "using Plots\n",
    "plot(sin)"
   ]
  },
  {
   "cell_type": "code",
   "execution_count": 59,
   "metadata": {
    "tags": []
   },
   "outputs": [
    {
     "data": {
      "image/svg+xml": [
       "<?xml version=\"1.0\" encoding=\"utf-8\"?>\n",
       "<svg xmlns=\"http://www.w3.org/2000/svg\" xmlns:xlink=\"http://www.w3.org/1999/xlink\" width=\"600\" height=\"400\" viewBox=\"0 0 2400 1600\">\n",
       "<defs>\n",
       "  <clipPath id=\"clip810\">\n",
       "    <rect x=\"0\" y=\"0\" width=\"2400\" height=\"1600\"/>\n",
       "  </clipPath>\n",
       "</defs>\n",
       "<path clip-path=\"url(#clip810)\" d=\"\n",
       "M0 1600 L2400 1600 L2400 0 L0 0  Z\n",
       "  \" fill=\"#ffffff\" fill-rule=\"evenodd\" fill-opacity=\"1\"/>\n",
       "<defs>\n",
       "  <clipPath id=\"clip811\">\n",
       "    <rect x=\"480\" y=\"0\" width=\"1681\" height=\"1600\"/>\n",
       "  </clipPath>\n",
       "</defs>\n",
       "<path clip-path=\"url(#clip810)\" d=\"\n",
       "M193.936 1486.45 L2352.76 1486.45 L2352.76 47.2441 L193.936 47.2441  Z\n",
       "  \" fill=\"#ffffff\" fill-rule=\"evenodd\" fill-opacity=\"1\"/>\n",
       "<defs>\n",
       "  <clipPath id=\"clip812\">\n",
       "    <rect x=\"193\" y=\"47\" width=\"2160\" height=\"1440\"/>\n",
       "  </clipPath>\n",
       "</defs>\n",
       "<polyline clip-path=\"url(#clip812)\" style=\"stroke:#000000; stroke-linecap:round; stroke-linejoin:round; stroke-width:2; stroke-opacity:0.1; fill:none\" points=\"\n",
       "  193.936,1486.45 193.936,47.2441 \n",
       "  \"/>\n",
       "<polyline clip-path=\"url(#clip812)\" style=\"stroke:#000000; stroke-linecap:round; stroke-linejoin:round; stroke-width:2; stroke-opacity:0.1; fill:none\" points=\"\n",
       "  537.523,1486.45 537.523,47.2441 \n",
       "  \"/>\n",
       "<polyline clip-path=\"url(#clip812)\" style=\"stroke:#000000; stroke-linecap:round; stroke-linejoin:round; stroke-width:2; stroke-opacity:0.1; fill:none\" points=\"\n",
       "  881.11,1486.45 881.11,47.2441 \n",
       "  \"/>\n",
       "<polyline clip-path=\"url(#clip812)\" style=\"stroke:#000000; stroke-linecap:round; stroke-linejoin:round; stroke-width:2; stroke-opacity:0.1; fill:none\" points=\"\n",
       "  1224.7,1486.45 1224.7,47.2441 \n",
       "  \"/>\n",
       "<polyline clip-path=\"url(#clip812)\" style=\"stroke:#000000; stroke-linecap:round; stroke-linejoin:round; stroke-width:2; stroke-opacity:0.1; fill:none\" points=\"\n",
       "  1568.28,1486.45 1568.28,47.2441 \n",
       "  \"/>\n",
       "<polyline clip-path=\"url(#clip812)\" style=\"stroke:#000000; stroke-linecap:round; stroke-linejoin:round; stroke-width:2; stroke-opacity:0.1; fill:none\" points=\"\n",
       "  1911.87,1486.45 1911.87,47.2441 \n",
       "  \"/>\n",
       "<polyline clip-path=\"url(#clip812)\" style=\"stroke:#000000; stroke-linecap:round; stroke-linejoin:round; stroke-width:2; stroke-opacity:0.1; fill:none\" points=\"\n",
       "  2255.46,1486.45 2255.46,47.2441 \n",
       "  \"/>\n",
       "<polyline clip-path=\"url(#clip810)\" style=\"stroke:#000000; stroke-linecap:round; stroke-linejoin:round; stroke-width:4; stroke-opacity:1; fill:none\" points=\"\n",
       "  193.936,1486.45 2352.76,1486.45 \n",
       "  \"/>\n",
       "<polyline clip-path=\"url(#clip810)\" style=\"stroke:#000000; stroke-linecap:round; stroke-linejoin:round; stroke-width:4; stroke-opacity:1; fill:none\" points=\"\n",
       "  193.936,1486.45 193.936,1467.55 \n",
       "  \"/>\n",
       "<polyline clip-path=\"url(#clip810)\" style=\"stroke:#000000; stroke-linecap:round; stroke-linejoin:round; stroke-width:4; stroke-opacity:1; fill:none\" points=\"\n",
       "  537.523,1486.45 537.523,1467.55 \n",
       "  \"/>\n",
       "<polyline clip-path=\"url(#clip810)\" style=\"stroke:#000000; stroke-linecap:round; stroke-linejoin:round; stroke-width:4; stroke-opacity:1; fill:none\" points=\"\n",
       "  881.11,1486.45 881.11,1467.55 \n",
       "  \"/>\n",
       "<polyline clip-path=\"url(#clip810)\" style=\"stroke:#000000; stroke-linecap:round; stroke-linejoin:round; stroke-width:4; stroke-opacity:1; fill:none\" points=\"\n",
       "  1224.7,1486.45 1224.7,1467.55 \n",
       "  \"/>\n",
       "<polyline clip-path=\"url(#clip810)\" style=\"stroke:#000000; stroke-linecap:round; stroke-linejoin:round; stroke-width:4; stroke-opacity:1; fill:none\" points=\"\n",
       "  1568.28,1486.45 1568.28,1467.55 \n",
       "  \"/>\n",
       "<polyline clip-path=\"url(#clip810)\" style=\"stroke:#000000; stroke-linecap:round; stroke-linejoin:round; stroke-width:4; stroke-opacity:1; fill:none\" points=\"\n",
       "  1911.87,1486.45 1911.87,1467.55 \n",
       "  \"/>\n",
       "<polyline clip-path=\"url(#clip810)\" style=\"stroke:#000000; stroke-linecap:round; stroke-linejoin:round; stroke-width:4; stroke-opacity:1; fill:none\" points=\"\n",
       "  2255.46,1486.45 2255.46,1467.55 \n",
       "  \"/>\n",
       "<path clip-path=\"url(#clip810)\" d=\"M193.936 1517.37 Q190.325 1517.37 188.496 1520.93 Q186.691 1524.47 186.691 1531.6 Q186.691 1538.71 188.496 1542.27 Q190.325 1545.82 193.936 1545.82 Q197.57 1545.82 199.376 1542.27 Q201.204 1538.71 201.204 1531.6 Q201.204 1524.47 199.376 1520.93 Q197.57 1517.37 193.936 1517.37 M193.936 1513.66 Q199.746 1513.66 202.802 1518.27 Q205.88 1522.85 205.88 1531.6 Q205.88 1540.33 202.802 1544.94 Q199.746 1549.52 193.936 1549.52 Q188.126 1549.52 185.047 1544.94 Q181.992 1540.33 181.992 1531.6 Q181.992 1522.85 185.047 1518.27 Q188.126 1513.66 193.936 1513.66 Z\" fill=\"#000000\" fill-rule=\"evenodd\" fill-opacity=\"1\" /><path clip-path=\"url(#clip810)\" d=\"M527.905 1544.91 L535.544 1544.91 L535.544 1518.55 L527.234 1520.21 L527.234 1515.95 L535.497 1514.29 L540.173 1514.29 L540.173 1544.91 L547.812 1544.91 L547.812 1548.85 L527.905 1548.85 L527.905 1544.91 Z\" fill=\"#000000\" fill-rule=\"evenodd\" fill-opacity=\"1\" /><path clip-path=\"url(#clip810)\" d=\"M875.763 1544.91 L892.082 1544.91 L892.082 1548.85 L870.138 1548.85 L870.138 1544.91 Q872.8 1542.16 877.383 1537.53 Q881.989 1532.88 883.17 1531.53 Q885.415 1529.01 886.295 1527.27 Q887.198 1525.51 887.198 1523.82 Q887.198 1521.07 885.253 1519.33 Q883.332 1517.6 880.23 1517.6 Q878.031 1517.6 875.577 1518.36 Q873.147 1519.13 870.369 1520.68 L870.369 1515.95 Q873.193 1514.82 875.647 1514.24 Q878.1 1513.66 880.137 1513.66 Q885.508 1513.66 888.702 1516.35 Q891.897 1519.03 891.897 1523.52 Q891.897 1525.65 891.087 1527.57 Q890.299 1529.47 888.193 1532.07 Q887.614 1532.74 884.512 1535.95 Q881.411 1539.15 875.763 1544.91 Z\" fill=\"#000000\" fill-rule=\"evenodd\" fill-opacity=\"1\" /><path clip-path=\"url(#clip810)\" d=\"M1228.94 1530.21 Q1232.3 1530.93 1234.18 1533.2 Q1236.07 1535.47 1236.07 1538.8 Q1236.07 1543.92 1232.56 1546.72 Q1229.04 1549.52 1222.56 1549.52 Q1220.38 1549.52 1218.06 1549.08 Q1215.77 1548.66 1213.32 1547.81 L1213.32 1543.29 Q1215.26 1544.43 1217.58 1545.01 Q1219.89 1545.58 1222.42 1545.58 Q1226.81 1545.58 1229.11 1543.85 Q1231.42 1542.11 1231.42 1538.8 Q1231.42 1535.75 1229.27 1534.03 Q1227.14 1532.3 1223.32 1532.3 L1219.29 1532.3 L1219.29 1528.45 L1223.5 1528.45 Q1226.95 1528.45 1228.78 1527.09 Q1230.61 1525.7 1230.61 1523.11 Q1230.61 1520.45 1228.71 1519.03 Q1226.84 1517.6 1223.32 1517.6 Q1221.4 1517.6 1219.2 1518.01 Q1217 1518.43 1214.36 1519.31 L1214.36 1515.14 Q1217.02 1514.4 1219.34 1514.03 Q1221.68 1513.66 1223.74 1513.66 Q1229.06 1513.66 1232.16 1516.09 Q1235.26 1518.5 1235.26 1522.62 Q1235.26 1525.49 1233.62 1527.48 Q1231.98 1529.45 1228.94 1530.21 Z\" fill=\"#000000\" fill-rule=\"evenodd\" fill-opacity=\"1\" /><path clip-path=\"url(#clip810)\" d=\"M1571.29 1518.36 L1559.49 1536.81 L1571.29 1536.81 L1571.29 1518.36 M1570.07 1514.29 L1575.95 1514.29 L1575.95 1536.81 L1580.88 1536.81 L1580.88 1540.7 L1575.95 1540.7 L1575.95 1548.85 L1571.29 1548.85 L1571.29 1540.7 L1555.69 1540.7 L1555.69 1536.19 L1570.07 1514.29 Z\" fill=\"#000000\" fill-rule=\"evenodd\" fill-opacity=\"1\" /><path clip-path=\"url(#clip810)\" d=\"M1902.15 1514.29 L1920.5 1514.29 L1920.5 1518.22 L1906.43 1518.22 L1906.43 1526.7 Q1907.45 1526.35 1908.47 1526.19 Q1909.49 1526 1910.5 1526 Q1916.29 1526 1919.67 1529.17 Q1923.05 1532.34 1923.05 1537.76 Q1923.05 1543.34 1919.58 1546.44 Q1916.11 1549.52 1909.79 1549.52 Q1907.61 1549.52 1905.34 1549.15 Q1903.1 1548.78 1900.69 1548.04 L1900.69 1543.34 Q1902.77 1544.47 1905 1545.03 Q1907.22 1545.58 1909.69 1545.58 Q1913.7 1545.58 1916.04 1543.48 Q1918.37 1541.37 1918.37 1537.76 Q1918.37 1534.15 1916.04 1532.04 Q1913.7 1529.94 1909.69 1529.94 Q1907.82 1529.94 1905.94 1530.35 Q1904.09 1530.77 1902.15 1531.65 L1902.15 1514.29 Z\" fill=\"#000000\" fill-rule=\"evenodd\" fill-opacity=\"1\" /><path clip-path=\"url(#clip810)\" d=\"M2255.86 1529.7 Q2252.71 1529.7 2250.86 1531.86 Q2249.03 1534.01 2249.03 1537.76 Q2249.03 1541.49 2250.86 1543.66 Q2252.71 1545.82 2255.86 1545.82 Q2259.01 1545.82 2260.84 1543.66 Q2262.69 1541.49 2262.69 1537.76 Q2262.69 1534.01 2260.84 1531.86 Q2259.01 1529.7 2255.86 1529.7 M2265.14 1515.05 L2265.14 1519.31 Q2263.39 1518.48 2261.58 1518.04 Q2259.8 1517.6 2258.04 1517.6 Q2253.41 1517.6 2250.95 1520.72 Q2248.52 1523.85 2248.18 1530.17 Q2249.54 1528.15 2251.6 1527.09 Q2253.66 1526 2256.14 1526 Q2261.35 1526 2264.36 1529.17 Q2267.39 1532.32 2267.39 1537.76 Q2267.39 1543.08 2264.24 1546.3 Q2261.09 1549.52 2255.86 1549.52 Q2249.87 1549.52 2246.7 1544.94 Q2243.52 1540.33 2243.52 1531.6 Q2243.52 1523.41 2247.41 1518.55 Q2251.3 1513.66 2257.85 1513.66 Q2259.61 1513.66 2261.39 1514.01 Q2263.2 1514.36 2265.14 1515.05 Z\" fill=\"#000000\" fill-rule=\"evenodd\" fill-opacity=\"1\" /><polyline clip-path=\"url(#clip812)\" style=\"stroke:#000000; stroke-linecap:round; stroke-linejoin:round; stroke-width:2; stroke-opacity:0.1; fill:none\" points=\"\n",
       "  193.936,1445.78 2352.76,1445.78 \n",
       "  \"/>\n",
       "<polyline clip-path=\"url(#clip812)\" style=\"stroke:#000000; stroke-linecap:round; stroke-linejoin:round; stroke-width:2; stroke-opacity:0.1; fill:none\" points=\"\n",
       "  193.936,1106.33 2352.76,1106.33 \n",
       "  \"/>\n",
       "<polyline clip-path=\"url(#clip812)\" style=\"stroke:#000000; stroke-linecap:round; stroke-linejoin:round; stroke-width:2; stroke-opacity:0.1; fill:none\" points=\"\n",
       "  193.936,766.881 2352.76,766.881 \n",
       "  \"/>\n",
       "<polyline clip-path=\"url(#clip812)\" style=\"stroke:#000000; stroke-linecap:round; stroke-linejoin:round; stroke-width:2; stroke-opacity:0.1; fill:none\" points=\"\n",
       "  193.936,427.428 2352.76,427.428 \n",
       "  \"/>\n",
       "<polyline clip-path=\"url(#clip812)\" style=\"stroke:#000000; stroke-linecap:round; stroke-linejoin:round; stroke-width:2; stroke-opacity:0.1; fill:none\" points=\"\n",
       "  193.936,87.9763 2352.76,87.9763 \n",
       "  \"/>\n",
       "<polyline clip-path=\"url(#clip810)\" style=\"stroke:#000000; stroke-linecap:round; stroke-linejoin:round; stroke-width:4; stroke-opacity:1; fill:none\" points=\"\n",
       "  193.936,1486.45 193.936,47.2441 \n",
       "  \"/>\n",
       "<polyline clip-path=\"url(#clip810)\" style=\"stroke:#000000; stroke-linecap:round; stroke-linejoin:round; stroke-width:4; stroke-opacity:1; fill:none\" points=\"\n",
       "  193.936,1445.78 212.834,1445.78 \n",
       "  \"/>\n",
       "<polyline clip-path=\"url(#clip810)\" style=\"stroke:#000000; stroke-linecap:round; stroke-linejoin:round; stroke-width:4; stroke-opacity:1; fill:none\" points=\"\n",
       "  193.936,1106.33 212.834,1106.33 \n",
       "  \"/>\n",
       "<polyline clip-path=\"url(#clip810)\" style=\"stroke:#000000; stroke-linecap:round; stroke-linejoin:round; stroke-width:4; stroke-opacity:1; fill:none\" points=\"\n",
       "  193.936,766.881 212.834,766.881 \n",
       "  \"/>\n",
       "<polyline clip-path=\"url(#clip810)\" style=\"stroke:#000000; stroke-linecap:round; stroke-linejoin:round; stroke-width:4; stroke-opacity:1; fill:none\" points=\"\n",
       "  193.936,427.428 212.834,427.428 \n",
       "  \"/>\n",
       "<polyline clip-path=\"url(#clip810)\" style=\"stroke:#000000; stroke-linecap:round; stroke-linejoin:round; stroke-width:4; stroke-opacity:1; fill:none\" points=\"\n",
       "  193.936,87.9763 212.834,87.9763 \n",
       "  \"/>\n",
       "<path clip-path=\"url(#clip810)\" d=\"M50.9921 1446.24 L80.6679 1446.24 L80.6679 1450.17 L50.9921 1450.17 L50.9921 1446.24 Z\" fill=\"#000000\" fill-rule=\"evenodd\" fill-opacity=\"1\" /><path clip-path=\"url(#clip810)\" d=\"M91.5706 1459.13 L99.2095 1459.13 L99.2095 1432.76 L90.8993 1434.43 L90.8993 1430.17 L99.1632 1428.5 L103.839 1428.5 L103.839 1459.13 L111.478 1459.13 L111.478 1463.06 L91.5706 1463.06 L91.5706 1459.13 Z\" fill=\"#000000\" fill-rule=\"evenodd\" fill-opacity=\"1\" /><path clip-path=\"url(#clip810)\" d=\"M120.922 1457.19 L125.807 1457.19 L125.807 1463.06 L120.922 1463.06 L120.922 1457.19 Z\" fill=\"#000000\" fill-rule=\"evenodd\" fill-opacity=\"1\" /><path clip-path=\"url(#clip810)\" d=\"M145.992 1431.58 Q142.381 1431.58 140.552 1435.15 Q138.746 1438.69 138.746 1445.82 Q138.746 1452.93 140.552 1456.49 Q142.381 1460.03 145.992 1460.03 Q149.626 1460.03 151.431 1456.49 Q153.26 1452.93 153.26 1445.82 Q153.26 1438.69 151.431 1435.15 Q149.626 1431.58 145.992 1431.58 M145.992 1427.88 Q151.802 1427.88 154.857 1432.49 Q157.936 1437.07 157.936 1445.82 Q157.936 1454.55 154.857 1459.15 Q151.802 1463.74 145.992 1463.74 Q140.181 1463.74 137.103 1459.15 Q134.047 1454.55 134.047 1445.82 Q134.047 1437.07 137.103 1432.49 Q140.181 1427.88 145.992 1427.88 Z\" fill=\"#000000\" fill-rule=\"evenodd\" fill-opacity=\"1\" /><path clip-path=\"url(#clip810)\" d=\"M51.9875 1106.78 L81.6633 1106.78 L81.6633 1110.72 L51.9875 1110.72 L51.9875 1106.78 Z\" fill=\"#000000\" fill-rule=\"evenodd\" fill-opacity=\"1\" /><path clip-path=\"url(#clip810)\" d=\"M101.756 1092.13 Q98.1447 1092.13 96.316 1095.7 Q94.5104 1099.24 94.5104 1106.37 Q94.5104 1113.47 96.316 1117.04 Q98.1447 1120.58 101.756 1120.58 Q105.39 1120.58 107.196 1117.04 Q109.024 1113.47 109.024 1106.37 Q109.024 1099.24 107.196 1095.7 Q105.39 1092.13 101.756 1092.13 M101.756 1088.43 Q107.566 1088.43 110.621 1093.03 Q113.7 1097.62 113.7 1106.37 Q113.7 1115.09 110.621 1119.7 Q107.566 1124.28 101.756 1124.28 Q95.9456 1124.28 92.8669 1119.7 Q89.8114 1115.09 89.8114 1106.37 Q89.8114 1097.62 92.8669 1093.03 Q95.9456 1088.43 101.756 1088.43 Z\" fill=\"#000000\" fill-rule=\"evenodd\" fill-opacity=\"1\" /><path clip-path=\"url(#clip810)\" d=\"M121.918 1117.73 L126.802 1117.73 L126.802 1123.61 L121.918 1123.61 L121.918 1117.73 Z\" fill=\"#000000\" fill-rule=\"evenodd\" fill-opacity=\"1\" /><path clip-path=\"url(#clip810)\" d=\"M137.033 1089.05 L155.39 1089.05 L155.39 1092.99 L141.316 1092.99 L141.316 1101.46 Q142.334 1101.11 143.353 1100.95 Q144.371 1100.77 145.39 1100.77 Q151.177 1100.77 154.556 1103.94 Q157.936 1107.11 157.936 1112.52 Q157.936 1118.1 154.464 1121.21 Q150.992 1124.28 144.672 1124.28 Q142.496 1124.28 140.228 1123.91 Q137.982 1123.54 135.575 1122.8 L135.575 1118.1 Q137.658 1119.24 139.881 1119.79 Q142.103 1120.35 144.58 1120.35 Q148.584 1120.35 150.922 1118.24 Q153.26 1116.14 153.26 1112.52 Q153.26 1108.91 150.922 1106.81 Q148.584 1104.7 144.58 1104.7 Q142.705 1104.7 140.83 1105.12 Q138.978 1105.53 137.033 1106.41 L137.033 1089.05 Z\" fill=\"#000000\" fill-rule=\"evenodd\" fill-opacity=\"1\" /><path clip-path=\"url(#clip810)\" d=\"M100.76 752.679 Q97.1493 752.679 95.3206 756.244 Q93.515 759.786 93.515 766.915 Q93.515 774.022 95.3206 777.587 Q97.1493 781.128 100.76 781.128 Q104.395 781.128 106.2 777.587 Q108.029 774.022 108.029 766.915 Q108.029 759.786 106.2 756.244 Q104.395 752.679 100.76 752.679 M100.76 748.976 Q106.571 748.976 109.626 753.582 Q112.705 758.165 112.705 766.915 Q112.705 775.642 109.626 780.249 Q106.571 784.832 100.76 784.832 Q94.9502 784.832 91.8715 780.249 Q88.816 775.642 88.816 766.915 Q88.816 758.165 91.8715 753.582 Q94.9502 748.976 100.76 748.976 Z\" fill=\"#000000\" fill-rule=\"evenodd\" fill-opacity=\"1\" /><path clip-path=\"url(#clip810)\" d=\"M120.922 778.281 L125.807 778.281 L125.807 784.161 L120.922 784.161 L120.922 778.281 Z\" fill=\"#000000\" fill-rule=\"evenodd\" fill-opacity=\"1\" /><path clip-path=\"url(#clip810)\" d=\"M145.992 752.679 Q142.381 752.679 140.552 756.244 Q138.746 759.786 138.746 766.915 Q138.746 774.022 140.552 777.587 Q142.381 781.128 145.992 781.128 Q149.626 781.128 151.431 777.587 Q153.26 774.022 153.26 766.915 Q153.26 759.786 151.431 756.244 Q149.626 752.679 145.992 752.679 M145.992 748.976 Q151.802 748.976 154.857 753.582 Q157.936 758.165 157.936 766.915 Q157.936 775.642 154.857 780.249 Q151.802 784.832 145.992 784.832 Q140.181 784.832 137.103 780.249 Q134.047 775.642 134.047 766.915 Q134.047 758.165 137.103 753.582 Q140.181 748.976 145.992 748.976 Z\" fill=\"#000000\" fill-rule=\"evenodd\" fill-opacity=\"1\" /><path clip-path=\"url(#clip810)\" d=\"M101.756 413.227 Q98.1447 413.227 96.316 416.792 Q94.5104 420.334 94.5104 427.463 Q94.5104 434.57 96.316 438.134 Q98.1447 441.676 101.756 441.676 Q105.39 441.676 107.196 438.134 Q109.024 434.57 109.024 427.463 Q109.024 420.334 107.196 416.792 Q105.39 413.227 101.756 413.227 M101.756 409.523 Q107.566 409.523 110.621 414.13 Q113.7 418.713 113.7 427.463 Q113.7 436.19 110.621 440.796 Q107.566 445.38 101.756 445.38 Q95.9456 445.38 92.8669 440.796 Q89.8114 436.19 89.8114 427.463 Q89.8114 418.713 92.8669 414.13 Q95.9456 409.523 101.756 409.523 Z\" fill=\"#000000\" fill-rule=\"evenodd\" fill-opacity=\"1\" /><path clip-path=\"url(#clip810)\" d=\"M121.918 438.829 L126.802 438.829 L126.802 444.708 L121.918 444.708 L121.918 438.829 Z\" fill=\"#000000\" fill-rule=\"evenodd\" fill-opacity=\"1\" /><path clip-path=\"url(#clip810)\" d=\"M137.033 410.148 L155.39 410.148 L155.39 414.084 L141.316 414.084 L141.316 422.556 Q142.334 422.209 143.353 422.047 Q144.371 421.861 145.39 421.861 Q151.177 421.861 154.556 425.033 Q157.936 428.204 157.936 433.621 Q157.936 439.199 154.464 442.301 Q150.992 445.38 144.672 445.38 Q142.496 445.38 140.228 445.009 Q137.982 444.639 135.575 443.898 L135.575 439.199 Q137.658 440.333 139.881 440.889 Q142.103 441.445 144.58 441.445 Q148.584 441.445 150.922 439.338 Q153.26 437.232 153.26 433.621 Q153.26 430.009 150.922 427.903 Q148.584 425.797 144.58 425.797 Q142.705 425.797 140.83 426.213 Q138.978 426.63 137.033 427.509 L137.033 410.148 Z\" fill=\"#000000\" fill-rule=\"evenodd\" fill-opacity=\"1\" /><path clip-path=\"url(#clip810)\" d=\"M91.5706 101.321 L99.2095 101.321 L99.2095 74.9555 L90.8993 76.6222 L90.8993 72.3629 L99.1632 70.6963 L103.839 70.6963 L103.839 101.321 L111.478 101.321 L111.478 105.256 L91.5706 105.256 L91.5706 101.321 Z\" fill=\"#000000\" fill-rule=\"evenodd\" fill-opacity=\"1\" /><path clip-path=\"url(#clip810)\" d=\"M120.922 99.3767 L125.807 99.3767 L125.807 105.256 L120.922 105.256 L120.922 99.3767 Z\" fill=\"#000000\" fill-rule=\"evenodd\" fill-opacity=\"1\" /><path clip-path=\"url(#clip810)\" d=\"M145.992 73.775 Q142.381 73.775 140.552 77.3398 Q138.746 80.8814 138.746 88.011 Q138.746 95.1174 140.552 98.6822 Q142.381 102.224 145.992 102.224 Q149.626 102.224 151.431 98.6822 Q153.26 95.1174 153.26 88.011 Q153.26 80.8814 151.431 77.3398 Q149.626 73.775 145.992 73.775 M145.992 70.0713 Q151.802 70.0713 154.857 74.6777 Q157.936 79.261 157.936 88.011 Q157.936 96.7378 154.857 101.344 Q151.802 105.928 145.992 105.928 Q140.181 105.928 137.103 101.344 Q134.047 96.7378 134.047 88.011 Q134.047 79.261 137.103 74.6777 Q140.181 70.0713 145.992 70.0713 Z\" fill=\"#000000\" fill-rule=\"evenodd\" fill-opacity=\"1\" /><polyline clip-path=\"url(#clip812)\" style=\"stroke:#009af9; stroke-linecap:round; stroke-linejoin:round; stroke-width:4; stroke-opacity:1; fill:none\" points=\"\n",
       "  193.936,87.9763 197.45,88.0118 200.964,88.1183 204.477,88.2958 207.991,88.5442 224.236,90.6145 240.481,94.1962 256.726,99.2814 272.971,105.859 289.216,113.913 \n",
       "  305.461,123.428 321.706,134.38 337.951,146.746 357.476,163.44 377.001,182.082 396.526,202.613 416.051,224.965 432.559,245.231 449.068,266.702 465.576,289.326 \n",
       "  482.084,313.053 500.016,340.013 517.949,368.135 535.882,397.342 553.814,427.556 586.879,485.626 619.943,546.299 690.84,682.528 772.981,844.445 809.48,915.52 \n",
       "  845.979,984.919 877.985,1043.78 909.991,1100.24 927.439,1129.83 944.886,1158.48 962.334,1186.13 979.782,1212.69 997.333,1238.25 1014.88,1262.59 1032.44,1285.63 \n",
       "  1049.99,1307.31 1069.39,1329.65 1088.8,1350.18 1108.2,1368.86 1127.61,1385.62 1146.07,1399.74 1164.54,1412.02 1183,1422.45 1201.46,1430.98 1220.66,1437.82 \n",
       "  1239.86,1442.56 1259.06,1445.2 1278.25,1445.72 1294.41,1444.51 1310.57,1441.8 1326.74,1437.61 1342.9,1431.92 1362.63,1422.99 1382.36,1411.9 1402.09,1398.68 \n",
       "  1421.82,1383.38 1439.89,1367.58 1457.96,1350.11 1476.04,1331.04 1494.11,1310.4 1510.81,1290 1527.5,1268.37 1544.19,1245.55 1560.88,1221.6 1577.79,1196.25 \n",
       "  1594.7,1169.86 1611.61,1142.5 1628.52,1114.22 1666.42,1047.9 1704.32,978.152 1738.67,912.712 1773.01,845.816 1851.66,690.76 1924.47,550.556 1960.37,484.629 \n",
       "  1996.26,421.779 2013.69,392.584 2031.11,364.352 2048.54,337.155 2065.96,311.063 2083.83,285.532 2101.69,261.303 2119.55,238.439 2137.42,217.004 2156.99,195.227 \n",
       "  2176.56,175.305 2196.13,157.301 2215.7,141.275 2229.92,130.904 2244.13,121.621 2258.35,113.443 2272.56,106.384 2300.99,95.6656 2329.43,89.5408 2335.26,88.8565 \n",
       "  2341.09,88.3675 2346.92,88.0741 2352.76,87.9763 \n",
       "  \"/>\n",
       "<path clip-path=\"url(#clip810)\" d=\"\n",
       "M1686.69 198.898 L2280.8 198.898 L2280.8 95.2176 L1686.69 95.2176  Z\n",
       "  \" fill=\"#ffffff\" fill-rule=\"evenodd\" fill-opacity=\"1\"/>\n",
       "<polyline clip-path=\"url(#clip810)\" style=\"stroke:#000000; stroke-linecap:round; stroke-linejoin:round; stroke-width:4; stroke-opacity:1; fill:none\" points=\"\n",
       "  1686.69,198.898 2280.8,198.898 2280.8,95.2176 1686.69,95.2176 1686.69,198.898 \n",
       "  \"/>\n",
       "<polyline clip-path=\"url(#clip810)\" style=\"stroke:#009af9; stroke-linecap:round; stroke-linejoin:round; stroke-width:4; stroke-opacity:1; fill:none\" points=\"\n",
       "  1710.68,147.058 1854.6,147.058 \n",
       "  \"/>\n",
       "<path clip-path=\"url(#clip810)\" d=\"M1899.1 139.407 L1899.1 143.389 Q1897.29 142.393 1895.46 141.907 Q1893.66 141.398 1891.8 141.398 Q1887.66 141.398 1885.37 144.037 Q1883.08 146.652 1883.08 151.398 Q1883.08 156.143 1885.37 158.782 Q1887.66 161.398 1891.8 161.398 Q1893.66 161.398 1895.46 160.912 Q1897.29 160.402 1899.1 159.407 L1899.1 163.342 Q1897.31 164.176 1895.39 164.592 Q1893.49 165.009 1891.34 165.009 Q1885.49 165.009 1882.04 161.328 Q1878.59 157.648 1878.59 151.398 Q1878.59 145.055 1882.06 141.421 Q1885.55 137.787 1891.62 137.787 Q1893.59 137.787 1895.46 138.203 Q1897.34 138.597 1899.1 139.407 Z\" fill=\"#000000\" fill-rule=\"evenodd\" fill-opacity=\"1\" /><path clip-path=\"url(#clip810)\" d=\"M1916.55 141.398 Q1913.12 141.398 1911.13 144.083 Q1909.14 146.745 1909.14 151.398 Q1909.14 156.051 1911.11 158.736 Q1913.1 161.398 1916.55 161.398 Q1919.95 161.398 1921.94 158.713 Q1923.93 156.027 1923.93 151.398 Q1923.93 146.791 1921.94 144.106 Q1919.95 141.398 1916.55 141.398 M1916.55 137.787 Q1922.11 137.787 1925.28 141.398 Q1928.45 145.009 1928.45 151.398 Q1928.45 157.764 1925.28 161.398 Q1922.11 165.009 1916.55 165.009 Q1910.97 165.009 1907.8 161.398 Q1904.65 157.764 1904.65 151.398 Q1904.65 145.009 1907.8 141.398 Q1910.97 137.787 1916.55 137.787 Z\" fill=\"#000000\" fill-rule=\"evenodd\" fill-opacity=\"1\" /><path clip-path=\"url(#clip810)\" d=\"M1952.04 139.176 L1952.04 143.203 Q1950.23 142.277 1948.29 141.815 Q1946.34 141.352 1944.26 141.352 Q1941.09 141.352 1939.49 142.324 Q1937.92 143.296 1937.92 145.24 Q1937.92 146.722 1939.05 147.578 Q1940.18 148.412 1943.61 149.176 L1945.07 149.5 Q1949.61 150.472 1951.5 152.254 Q1953.42 154.014 1953.42 157.185 Q1953.42 160.796 1950.55 162.902 Q1947.71 165.009 1942.71 165.009 Q1940.62 165.009 1938.36 164.592 Q1936.11 164.199 1933.61 163.388 L1933.61 158.99 Q1935.97 160.217 1938.26 160.842 Q1940.55 161.444 1942.8 161.444 Q1945.81 161.444 1947.43 160.426 Q1949.05 159.384 1949.05 157.509 Q1949.05 155.773 1947.87 154.847 Q1946.71 153.921 1942.75 153.064 L1941.27 152.717 Q1937.31 151.884 1935.55 150.171 Q1933.8 148.435 1933.8 145.426 Q1933.8 141.768 1936.39 139.778 Q1938.98 137.787 1943.75 137.787 Q1946.11 137.787 1948.19 138.134 Q1950.28 138.481 1952.04 139.176 Z\" fill=\"#000000\" fill-rule=\"evenodd\" fill-opacity=\"1\" /><path clip-path=\"url(#clip810)\" d=\"M1960.21 138.412 L1964.47 138.412 L1964.47 164.338 L1960.21 164.338 L1960.21 138.412 M1960.21 128.319 L1964.47 128.319 L1964.47 133.713 L1960.21 133.713 L1960.21 128.319 Z\" fill=\"#000000\" fill-rule=\"evenodd\" fill-opacity=\"1\" /><path clip-path=\"url(#clip810)\" d=\"M1994.93 148.689 L1994.93 164.338 L1990.67 164.338 L1990.67 148.828 Q1990.67 145.148 1989.23 143.319 Q1987.8 141.49 1984.93 141.49 Q1981.48 141.49 1979.49 143.69 Q1977.5 145.889 1977.5 149.685 L1977.5 164.338 L1973.22 164.338 L1973.22 138.412 L1977.5 138.412 L1977.5 142.44 Q1979.03 140.102 1981.09 138.944 Q1983.17 137.787 1985.88 137.787 Q1990.35 137.787 1992.64 140.565 Q1994.93 143.319 1994.93 148.689 Z\" fill=\"#000000\" fill-rule=\"evenodd\" fill-opacity=\"1\" /><path clip-path=\"url(#clip810)\" d=\"M2025.6 150.31 L2025.6 152.393 L2006.02 152.393 Q2006.29 156.791 2008.66 159.106 Q2011.04 161.398 2015.28 161.398 Q2017.73 161.398 2020.02 160.796 Q2022.34 160.194 2024.6 158.99 L2024.6 163.018 Q2022.31 163.99 2019.91 164.5 Q2017.5 165.009 2015.02 165.009 Q2008.82 165.009 2005.18 161.398 Q2001.57 157.787 2001.57 151.629 Q2001.57 145.264 2005 141.537 Q2008.45 137.787 2014.28 137.787 Q2019.51 137.787 2022.54 141.166 Q2025.6 144.523 2025.6 150.31 M2021.34 149.06 Q2021.29 145.565 2019.37 143.481 Q2017.48 141.398 2014.33 141.398 Q2010.76 141.398 2008.61 143.412 Q2006.48 145.426 2006.16 149.083 L2021.34 149.06 Z\" fill=\"#000000\" fill-rule=\"evenodd\" fill-opacity=\"1\" /><path clip-path=\"url(#clip810)\" d=\"M2060.79 128.319 L2060.79 131.861 L2056.71 131.861 Q2054.42 131.861 2053.52 132.787 Q2052.64 133.713 2052.64 136.12 L2052.64 138.412 L2059.65 138.412 L2059.65 141.722 L2052.64 141.722 L2052.64 164.338 L2048.35 164.338 L2048.35 141.722 L2044.28 141.722 L2044.28 138.412 L2048.35 138.412 L2048.35 136.606 Q2048.35 132.278 2050.37 130.31 Q2052.38 128.319 2056.76 128.319 L2060.79 128.319 Z\" fill=\"#000000\" fill-rule=\"evenodd\" fill-opacity=\"1\" /><path clip-path=\"url(#clip810)\" d=\"M2063.91 154.106 L2063.91 138.412 L2068.17 138.412 L2068.17 153.944 Q2068.17 157.625 2069.6 159.476 Q2071.04 161.305 2073.91 161.305 Q2077.36 161.305 2079.35 159.106 Q2081.36 156.907 2081.36 153.111 L2081.36 138.412 L2085.62 138.412 L2085.62 164.338 L2081.36 164.338 L2081.36 160.356 Q2079.81 162.717 2077.75 163.875 Q2075.72 165.009 2073.01 165.009 Q2068.54 165.009 2066.23 162.231 Q2063.91 159.453 2063.91 154.106 M2074.63 137.787 L2074.63 137.787 Z\" fill=\"#000000\" fill-rule=\"evenodd\" fill-opacity=\"1\" /><path clip-path=\"url(#clip810)\" d=\"M2115.95 148.689 L2115.95 164.338 L2111.69 164.338 L2111.69 148.828 Q2111.69 145.148 2110.25 143.319 Q2108.82 141.49 2105.95 141.49 Q2102.5 141.49 2100.51 143.69 Q2098.52 145.889 2098.52 149.685 L2098.52 164.338 L2094.23 164.338 L2094.23 138.412 L2098.52 138.412 L2098.52 142.44 Q2100.04 140.102 2102.1 138.944 Q2104.19 137.787 2106.9 137.787 Q2111.36 137.787 2113.66 140.565 Q2115.95 143.319 2115.95 148.689 Z\" fill=\"#000000\" fill-rule=\"evenodd\" fill-opacity=\"1\" /><path clip-path=\"url(#clip810)\" d=\"M2143.1 139.407 L2143.1 143.389 Q2141.29 142.393 2139.47 141.907 Q2137.66 141.398 2135.81 141.398 Q2131.66 141.398 2129.37 144.037 Q2127.08 146.652 2127.08 151.398 Q2127.08 156.143 2129.37 158.782 Q2131.66 161.398 2135.81 161.398 Q2137.66 161.398 2139.47 160.912 Q2141.29 160.402 2143.1 159.407 L2143.1 163.342 Q2141.32 164.176 2139.4 164.592 Q2137.5 165.009 2135.35 165.009 Q2129.49 165.009 2126.04 161.328 Q2122.59 157.648 2122.59 151.398 Q2122.59 145.055 2126.06 141.421 Q2129.56 137.787 2135.62 137.787 Q2137.59 137.787 2139.47 138.203 Q2141.34 138.597 2143.1 139.407 Z\" fill=\"#000000\" fill-rule=\"evenodd\" fill-opacity=\"1\" /><path clip-path=\"url(#clip810)\" d=\"M2154.72 131.051 L2154.72 138.412 L2163.49 138.412 L2163.49 141.722 L2154.72 141.722 L2154.72 155.796 Q2154.72 158.967 2155.58 159.87 Q2156.46 160.773 2159.12 160.773 L2163.49 160.773 L2163.49 164.338 L2159.12 164.338 Q2154.19 164.338 2152.31 162.509 Q2150.44 160.657 2150.44 155.796 L2150.44 141.722 L2147.31 141.722 L2147.31 138.412 L2150.44 138.412 L2150.44 131.051 L2154.72 131.051 Z\" fill=\"#000000\" fill-rule=\"evenodd\" fill-opacity=\"1\" /><path clip-path=\"url(#clip810)\" d=\"M2169.09 138.412 L2173.35 138.412 L2173.35 164.338 L2169.09 164.338 L2169.09 138.412 M2169.09 128.319 L2173.35 128.319 L2173.35 133.713 L2169.09 133.713 L2169.09 128.319 Z\" fill=\"#000000\" fill-rule=\"evenodd\" fill-opacity=\"1\" /><path clip-path=\"url(#clip810)\" d=\"M2192.31 141.398 Q2188.89 141.398 2186.9 144.083 Q2184.91 146.745 2184.91 151.398 Q2184.91 156.051 2186.87 158.736 Q2188.86 161.398 2192.31 161.398 Q2195.72 161.398 2197.71 158.713 Q2199.7 156.027 2199.7 151.398 Q2199.7 146.791 2197.71 144.106 Q2195.72 141.398 2192.31 141.398 M2192.31 137.787 Q2197.87 137.787 2201.04 141.398 Q2204.21 145.009 2204.21 151.398 Q2204.21 157.764 2201.04 161.398 Q2197.87 165.009 2192.31 165.009 Q2186.73 165.009 2183.56 161.398 Q2180.41 157.764 2180.41 151.398 Q2180.41 145.009 2183.56 141.398 Q2186.73 137.787 2192.31 137.787 Z\" fill=\"#000000\" fill-rule=\"evenodd\" fill-opacity=\"1\" /><path clip-path=\"url(#clip810)\" d=\"M2232.82 148.689 L2232.82 164.338 L2228.56 164.338 L2228.56 148.828 Q2228.56 145.148 2227.13 143.319 Q2225.69 141.49 2222.82 141.49 Q2219.37 141.49 2217.38 143.69 Q2215.39 145.889 2215.39 149.685 L2215.39 164.338 L2211.11 164.338 L2211.11 138.412 L2215.39 138.412 L2215.39 142.44 Q2216.92 140.102 2218.98 138.944 Q2221.06 137.787 2223.77 137.787 Q2228.24 137.787 2230.53 140.565 Q2232.82 143.319 2232.82 148.689 Z\" fill=\"#000000\" fill-rule=\"evenodd\" fill-opacity=\"1\" /></svg>\n"
      ]
     },
     "execution_count": 59,
     "metadata": {},
     "output_type": "execute_result"
    }
   ],
   "source": [
    "# plot with attributes\n",
    "plot(cos,xlimits=[0,2π],label=\"cosine function\")"
   ]
  },
  {
   "cell_type": "code",
   "execution_count": 64,
   "metadata": {},
   "outputs": [
    {
     "data": {
      "image/svg+xml": [
       "<?xml version=\"1.0\" encoding=\"utf-8\"?>\n",
       "<svg xmlns=\"http://www.w3.org/2000/svg\" xmlns:xlink=\"http://www.w3.org/1999/xlink\" width=\"600\" height=\"400\" viewBox=\"0 0 2400 1600\">\n",
       "<defs>\n",
       "  <clipPath id=\"clip050\">\n",
       "    <rect x=\"0\" y=\"0\" width=\"2400\" height=\"1600\"/>\n",
       "  </clipPath>\n",
       "</defs>\n",
       "<path clip-path=\"url(#clip050)\" d=\"\n",
       "M0 1600 L2400 1600 L2400 0 L0 0  Z\n",
       "  \" fill=\"#ffffff\" fill-rule=\"evenodd\" fill-opacity=\"1\"/>\n",
       "<defs>\n",
       "  <clipPath id=\"clip051\">\n",
       "    <rect x=\"480\" y=\"0\" width=\"1681\" height=\"1600\"/>\n",
       "  </clipPath>\n",
       "</defs>\n",
       "<path clip-path=\"url(#clip050)\" d=\"\n",
       "M193.936 1486.45 L2352.76 1486.45 L2352.76 47.2441 L193.936 47.2441  Z\n",
       "  \" fill=\"#ffffff\" fill-rule=\"evenodd\" fill-opacity=\"1\"/>\n",
       "<defs>\n",
       "  <clipPath id=\"clip052\">\n",
       "    <rect x=\"193\" y=\"47\" width=\"2160\" height=\"1440\"/>\n",
       "  </clipPath>\n",
       "</defs>\n",
       "<polyline clip-path=\"url(#clip052)\" style=\"stroke:#000000; stroke-linecap:round; stroke-linejoin:round; stroke-width:2; stroke-opacity:0.1; fill:none\" points=\"\n",
       "  193.936,1486.45 193.936,47.2441 \n",
       "  \"/>\n",
       "<polyline clip-path=\"url(#clip052)\" style=\"stroke:#000000; stroke-linecap:round; stroke-linejoin:round; stroke-width:2; stroke-opacity:0.1; fill:none\" points=\"\n",
       "  537.523,1486.45 537.523,47.2441 \n",
       "  \"/>\n",
       "<polyline clip-path=\"url(#clip052)\" style=\"stroke:#000000; stroke-linecap:round; stroke-linejoin:round; stroke-width:2; stroke-opacity:0.1; fill:none\" points=\"\n",
       "  881.11,1486.45 881.11,47.2441 \n",
       "  \"/>\n",
       "<polyline clip-path=\"url(#clip052)\" style=\"stroke:#000000; stroke-linecap:round; stroke-linejoin:round; stroke-width:2; stroke-opacity:0.1; fill:none\" points=\"\n",
       "  1224.7,1486.45 1224.7,47.2441 \n",
       "  \"/>\n",
       "<polyline clip-path=\"url(#clip052)\" style=\"stroke:#000000; stroke-linecap:round; stroke-linejoin:round; stroke-width:2; stroke-opacity:0.1; fill:none\" points=\"\n",
       "  1568.28,1486.45 1568.28,47.2441 \n",
       "  \"/>\n",
       "<polyline clip-path=\"url(#clip052)\" style=\"stroke:#000000; stroke-linecap:round; stroke-linejoin:round; stroke-width:2; stroke-opacity:0.1; fill:none\" points=\"\n",
       "  1911.87,1486.45 1911.87,47.2441 \n",
       "  \"/>\n",
       "<polyline clip-path=\"url(#clip052)\" style=\"stroke:#000000; stroke-linecap:round; stroke-linejoin:round; stroke-width:2; stroke-opacity:0.1; fill:none\" points=\"\n",
       "  2255.46,1486.45 2255.46,47.2441 \n",
       "  \"/>\n",
       "<polyline clip-path=\"url(#clip050)\" style=\"stroke:#000000; stroke-linecap:round; stroke-linejoin:round; stroke-width:4; stroke-opacity:1; fill:none\" points=\"\n",
       "  193.936,1486.45 2352.76,1486.45 \n",
       "  \"/>\n",
       "<polyline clip-path=\"url(#clip050)\" style=\"stroke:#000000; stroke-linecap:round; stroke-linejoin:round; stroke-width:4; stroke-opacity:1; fill:none\" points=\"\n",
       "  193.936,1486.45 193.936,1467.55 \n",
       "  \"/>\n",
       "<polyline clip-path=\"url(#clip050)\" style=\"stroke:#000000; stroke-linecap:round; stroke-linejoin:round; stroke-width:4; stroke-opacity:1; fill:none\" points=\"\n",
       "  537.523,1486.45 537.523,1467.55 \n",
       "  \"/>\n",
       "<polyline clip-path=\"url(#clip050)\" style=\"stroke:#000000; stroke-linecap:round; stroke-linejoin:round; stroke-width:4; stroke-opacity:1; fill:none\" points=\"\n",
       "  881.11,1486.45 881.11,1467.55 \n",
       "  \"/>\n",
       "<polyline clip-path=\"url(#clip050)\" style=\"stroke:#000000; stroke-linecap:round; stroke-linejoin:round; stroke-width:4; stroke-opacity:1; fill:none\" points=\"\n",
       "  1224.7,1486.45 1224.7,1467.55 \n",
       "  \"/>\n",
       "<polyline clip-path=\"url(#clip050)\" style=\"stroke:#000000; stroke-linecap:round; stroke-linejoin:round; stroke-width:4; stroke-opacity:1; fill:none\" points=\"\n",
       "  1568.28,1486.45 1568.28,1467.55 \n",
       "  \"/>\n",
       "<polyline clip-path=\"url(#clip050)\" style=\"stroke:#000000; stroke-linecap:round; stroke-linejoin:round; stroke-width:4; stroke-opacity:1; fill:none\" points=\"\n",
       "  1911.87,1486.45 1911.87,1467.55 \n",
       "  \"/>\n",
       "<polyline clip-path=\"url(#clip050)\" style=\"stroke:#000000; stroke-linecap:round; stroke-linejoin:round; stroke-width:4; stroke-opacity:1; fill:none\" points=\"\n",
       "  2255.46,1486.45 2255.46,1467.55 \n",
       "  \"/>\n",
       "<path clip-path=\"url(#clip050)\" d=\"M193.936 1517.37 Q190.325 1517.37 188.496 1520.93 Q186.691 1524.47 186.691 1531.6 Q186.691 1538.71 188.496 1542.27 Q190.325 1545.82 193.936 1545.82 Q197.57 1545.82 199.376 1542.27 Q201.204 1538.71 201.204 1531.6 Q201.204 1524.47 199.376 1520.93 Q197.57 1517.37 193.936 1517.37 M193.936 1513.66 Q199.746 1513.66 202.802 1518.27 Q205.88 1522.85 205.88 1531.6 Q205.88 1540.33 202.802 1544.94 Q199.746 1549.52 193.936 1549.52 Q188.126 1549.52 185.047 1544.94 Q181.992 1540.33 181.992 1531.6 Q181.992 1522.85 185.047 1518.27 Q188.126 1513.66 193.936 1513.66 Z\" fill=\"#000000\" fill-rule=\"evenodd\" fill-opacity=\"1\" /><path clip-path=\"url(#clip050)\" d=\"M527.905 1544.91 L535.544 1544.91 L535.544 1518.55 L527.234 1520.21 L527.234 1515.95 L535.497 1514.29 L540.173 1514.29 L540.173 1544.91 L547.812 1544.91 L547.812 1548.85 L527.905 1548.85 L527.905 1544.91 Z\" fill=\"#000000\" fill-rule=\"evenodd\" fill-opacity=\"1\" /><path clip-path=\"url(#clip050)\" d=\"M875.763 1544.91 L892.082 1544.91 L892.082 1548.85 L870.138 1548.85 L870.138 1544.91 Q872.8 1542.16 877.383 1537.53 Q881.989 1532.88 883.17 1531.53 Q885.415 1529.01 886.295 1527.27 Q887.198 1525.51 887.198 1523.82 Q887.198 1521.07 885.253 1519.33 Q883.332 1517.6 880.23 1517.6 Q878.031 1517.6 875.577 1518.36 Q873.147 1519.13 870.369 1520.68 L870.369 1515.95 Q873.193 1514.82 875.647 1514.24 Q878.1 1513.66 880.137 1513.66 Q885.508 1513.66 888.702 1516.35 Q891.897 1519.03 891.897 1523.52 Q891.897 1525.65 891.087 1527.57 Q890.299 1529.47 888.193 1532.07 Q887.614 1532.74 884.512 1535.95 Q881.411 1539.15 875.763 1544.91 Z\" fill=\"#000000\" fill-rule=\"evenodd\" fill-opacity=\"1\" /><path clip-path=\"url(#clip050)\" d=\"M1228.94 1530.21 Q1232.3 1530.93 1234.18 1533.2 Q1236.07 1535.47 1236.07 1538.8 Q1236.07 1543.92 1232.56 1546.72 Q1229.04 1549.52 1222.56 1549.52 Q1220.38 1549.52 1218.06 1549.08 Q1215.77 1548.66 1213.32 1547.81 L1213.32 1543.29 Q1215.26 1544.43 1217.58 1545.01 Q1219.89 1545.58 1222.42 1545.58 Q1226.81 1545.58 1229.11 1543.85 Q1231.42 1542.11 1231.42 1538.8 Q1231.42 1535.75 1229.27 1534.03 Q1227.14 1532.3 1223.32 1532.3 L1219.29 1532.3 L1219.29 1528.45 L1223.5 1528.45 Q1226.95 1528.45 1228.78 1527.09 Q1230.61 1525.7 1230.61 1523.11 Q1230.61 1520.45 1228.71 1519.03 Q1226.84 1517.6 1223.32 1517.6 Q1221.4 1517.6 1219.2 1518.01 Q1217 1518.43 1214.36 1519.31 L1214.36 1515.14 Q1217.02 1514.4 1219.34 1514.03 Q1221.68 1513.66 1223.74 1513.66 Q1229.06 1513.66 1232.16 1516.09 Q1235.26 1518.5 1235.26 1522.62 Q1235.26 1525.49 1233.62 1527.48 Q1231.98 1529.45 1228.94 1530.21 Z\" fill=\"#000000\" fill-rule=\"evenodd\" fill-opacity=\"1\" /><path clip-path=\"url(#clip050)\" d=\"M1571.29 1518.36 L1559.49 1536.81 L1571.29 1536.81 L1571.29 1518.36 M1570.07 1514.29 L1575.95 1514.29 L1575.95 1536.81 L1580.88 1536.81 L1580.88 1540.7 L1575.95 1540.7 L1575.95 1548.85 L1571.29 1548.85 L1571.29 1540.7 L1555.69 1540.7 L1555.69 1536.19 L1570.07 1514.29 Z\" fill=\"#000000\" fill-rule=\"evenodd\" fill-opacity=\"1\" /><path clip-path=\"url(#clip050)\" d=\"M1902.15 1514.29 L1920.5 1514.29 L1920.5 1518.22 L1906.43 1518.22 L1906.43 1526.7 Q1907.45 1526.35 1908.47 1526.19 Q1909.49 1526 1910.5 1526 Q1916.29 1526 1919.67 1529.17 Q1923.05 1532.34 1923.05 1537.76 Q1923.05 1543.34 1919.58 1546.44 Q1916.11 1549.52 1909.79 1549.52 Q1907.61 1549.52 1905.34 1549.15 Q1903.1 1548.78 1900.69 1548.04 L1900.69 1543.34 Q1902.77 1544.47 1905 1545.03 Q1907.22 1545.58 1909.69 1545.58 Q1913.7 1545.58 1916.04 1543.48 Q1918.37 1541.37 1918.37 1537.76 Q1918.37 1534.15 1916.04 1532.04 Q1913.7 1529.94 1909.69 1529.94 Q1907.82 1529.94 1905.94 1530.35 Q1904.09 1530.77 1902.15 1531.65 L1902.15 1514.29 Z\" fill=\"#000000\" fill-rule=\"evenodd\" fill-opacity=\"1\" /><path clip-path=\"url(#clip050)\" d=\"M2255.86 1529.7 Q2252.71 1529.7 2250.86 1531.86 Q2249.03 1534.01 2249.03 1537.76 Q2249.03 1541.49 2250.86 1543.66 Q2252.71 1545.82 2255.86 1545.82 Q2259.01 1545.82 2260.84 1543.66 Q2262.69 1541.49 2262.69 1537.76 Q2262.69 1534.01 2260.84 1531.86 Q2259.01 1529.7 2255.86 1529.7 M2265.14 1515.05 L2265.14 1519.31 Q2263.39 1518.48 2261.58 1518.04 Q2259.8 1517.6 2258.04 1517.6 Q2253.41 1517.6 2250.95 1520.72 Q2248.52 1523.85 2248.18 1530.17 Q2249.54 1528.15 2251.6 1527.09 Q2253.66 1526 2256.14 1526 Q2261.35 1526 2264.36 1529.17 Q2267.39 1532.32 2267.39 1537.76 Q2267.39 1543.08 2264.24 1546.3 Q2261.09 1549.52 2255.86 1549.52 Q2249.87 1549.52 2246.7 1544.94 Q2243.52 1540.33 2243.52 1531.6 Q2243.52 1523.41 2247.41 1518.55 Q2251.3 1513.66 2257.85 1513.66 Q2259.61 1513.66 2261.39 1514.01 Q2263.2 1514.36 2265.14 1515.05 Z\" fill=\"#000000\" fill-rule=\"evenodd\" fill-opacity=\"1\" /><polyline clip-path=\"url(#clip052)\" style=\"stroke:#000000; stroke-linecap:round; stroke-linejoin:round; stroke-width:2; stroke-opacity:0.1; fill:none\" points=\"\n",
       "  193.936,1445.72 2352.76,1445.72 \n",
       "  \"/>\n",
       "<polyline clip-path=\"url(#clip052)\" style=\"stroke:#000000; stroke-linecap:round; stroke-linejoin:round; stroke-width:2; stroke-opacity:0.1; fill:none\" points=\"\n",
       "  193.936,1106.28 2352.76,1106.28 \n",
       "  \"/>\n",
       "<polyline clip-path=\"url(#clip052)\" style=\"stroke:#000000; stroke-linecap:round; stroke-linejoin:round; stroke-width:2; stroke-opacity:0.1; fill:none\" points=\"\n",
       "  193.936,766.847 2352.76,766.847 \n",
       "  \"/>\n",
       "<polyline clip-path=\"url(#clip052)\" style=\"stroke:#000000; stroke-linecap:round; stroke-linejoin:round; stroke-width:2; stroke-opacity:0.1; fill:none\" points=\"\n",
       "  193.936,427.412 2352.76,427.412 \n",
       "  \"/>\n",
       "<polyline clip-path=\"url(#clip052)\" style=\"stroke:#000000; stroke-linecap:round; stroke-linejoin:round; stroke-width:2; stroke-opacity:0.1; fill:none\" points=\"\n",
       "  193.936,87.9763 2352.76,87.9763 \n",
       "  \"/>\n",
       "<polyline clip-path=\"url(#clip050)\" style=\"stroke:#000000; stroke-linecap:round; stroke-linejoin:round; stroke-width:4; stroke-opacity:1; fill:none\" points=\"\n",
       "  193.936,1486.45 193.936,47.2441 \n",
       "  \"/>\n",
       "<polyline clip-path=\"url(#clip050)\" style=\"stroke:#000000; stroke-linecap:round; stroke-linejoin:round; stroke-width:4; stroke-opacity:1; fill:none\" points=\"\n",
       "  193.936,1445.72 212.834,1445.72 \n",
       "  \"/>\n",
       "<polyline clip-path=\"url(#clip050)\" style=\"stroke:#000000; stroke-linecap:round; stroke-linejoin:round; stroke-width:4; stroke-opacity:1; fill:none\" points=\"\n",
       "  193.936,1106.28 212.834,1106.28 \n",
       "  \"/>\n",
       "<polyline clip-path=\"url(#clip050)\" style=\"stroke:#000000; stroke-linecap:round; stroke-linejoin:round; stroke-width:4; stroke-opacity:1; fill:none\" points=\"\n",
       "  193.936,766.847 212.834,766.847 \n",
       "  \"/>\n",
       "<polyline clip-path=\"url(#clip050)\" style=\"stroke:#000000; stroke-linecap:round; stroke-linejoin:round; stroke-width:4; stroke-opacity:1; fill:none\" points=\"\n",
       "  193.936,427.412 212.834,427.412 \n",
       "  \"/>\n",
       "<polyline clip-path=\"url(#clip050)\" style=\"stroke:#000000; stroke-linecap:round; stroke-linejoin:round; stroke-width:4; stroke-opacity:1; fill:none\" points=\"\n",
       "  193.936,87.9763 212.834,87.9763 \n",
       "  \"/>\n",
       "<path clip-path=\"url(#clip050)\" d=\"M50.9921 1446.17 L80.6679 1446.17 L80.6679 1450.1 L50.9921 1450.1 L50.9921 1446.17 Z\" fill=\"#000000\" fill-rule=\"evenodd\" fill-opacity=\"1\" /><path clip-path=\"url(#clip050)\" d=\"M91.5706 1459.06 L99.2095 1459.06 L99.2095 1432.7 L90.8993 1434.36 L90.8993 1430.1 L99.1632 1428.44 L103.839 1428.44 L103.839 1459.06 L111.478 1459.06 L111.478 1463 L91.5706 1463 L91.5706 1459.06 Z\" fill=\"#000000\" fill-rule=\"evenodd\" fill-opacity=\"1\" /><path clip-path=\"url(#clip050)\" d=\"M120.922 1457.12 L125.807 1457.12 L125.807 1463 L120.922 1463 L120.922 1457.12 Z\" fill=\"#000000\" fill-rule=\"evenodd\" fill-opacity=\"1\" /><path clip-path=\"url(#clip050)\" d=\"M145.992 1431.52 Q142.381 1431.52 140.552 1435.08 Q138.746 1438.62 138.746 1445.75 Q138.746 1452.86 140.552 1456.42 Q142.381 1459.96 145.992 1459.96 Q149.626 1459.96 151.431 1456.42 Q153.26 1452.86 153.26 1445.75 Q153.26 1438.62 151.431 1435.08 Q149.626 1431.52 145.992 1431.52 M145.992 1427.81 Q151.802 1427.81 154.857 1432.42 Q157.936 1437 157.936 1445.75 Q157.936 1454.48 154.857 1459.09 Q151.802 1463.67 145.992 1463.67 Q140.181 1463.67 137.103 1459.09 Q134.047 1454.48 134.047 1445.75 Q134.047 1437 137.103 1432.42 Q140.181 1427.81 145.992 1427.81 Z\" fill=\"#000000\" fill-rule=\"evenodd\" fill-opacity=\"1\" /><path clip-path=\"url(#clip050)\" d=\"M51.9875 1106.73 L81.6633 1106.73 L81.6633 1110.67 L51.9875 1110.67 L51.9875 1106.73 Z\" fill=\"#000000\" fill-rule=\"evenodd\" fill-opacity=\"1\" /><path clip-path=\"url(#clip050)\" d=\"M101.756 1092.08 Q98.1447 1092.08 96.316 1095.65 Q94.5104 1099.19 94.5104 1106.32 Q94.5104 1113.42 96.316 1116.99 Q98.1447 1120.53 101.756 1120.53 Q105.39 1120.53 107.196 1116.99 Q109.024 1113.42 109.024 1106.32 Q109.024 1099.19 107.196 1095.65 Q105.39 1092.08 101.756 1092.08 M101.756 1088.38 Q107.566 1088.38 110.621 1092.98 Q113.7 1097.57 113.7 1106.32 Q113.7 1115.04 110.621 1119.65 Q107.566 1124.23 101.756 1124.23 Q95.9456 1124.23 92.8669 1119.65 Q89.8114 1115.04 89.8114 1106.32 Q89.8114 1097.57 92.8669 1092.98 Q95.9456 1088.38 101.756 1088.38 Z\" fill=\"#000000\" fill-rule=\"evenodd\" fill-opacity=\"1\" /><path clip-path=\"url(#clip050)\" d=\"M121.918 1117.68 L126.802 1117.68 L126.802 1123.56 L121.918 1123.56 L121.918 1117.68 Z\" fill=\"#000000\" fill-rule=\"evenodd\" fill-opacity=\"1\" /><path clip-path=\"url(#clip050)\" d=\"M137.033 1089 L155.39 1089 L155.39 1092.94 L141.316 1092.94 L141.316 1101.41 Q142.334 1101.06 143.353 1100.9 Q144.371 1100.71 145.39 1100.71 Q151.177 1100.71 154.556 1103.89 Q157.936 1107.06 157.936 1112.47 Q157.936 1118.05 154.464 1121.15 Q150.992 1124.23 144.672 1124.23 Q142.496 1124.23 140.228 1123.86 Q137.982 1123.49 135.575 1122.75 L135.575 1118.05 Q137.658 1119.19 139.881 1119.74 Q142.103 1120.3 144.58 1120.3 Q148.584 1120.3 150.922 1118.19 Q153.26 1116.09 153.26 1112.47 Q153.26 1108.86 150.922 1106.76 Q148.584 1104.65 144.58 1104.65 Q142.705 1104.65 140.83 1105.07 Q138.978 1105.48 137.033 1106.36 L137.033 1089 Z\" fill=\"#000000\" fill-rule=\"evenodd\" fill-opacity=\"1\" /><path clip-path=\"url(#clip050)\" d=\"M100.76 752.645 Q97.1493 752.645 95.3206 756.21 Q93.515 759.752 93.515 766.881 Q93.515 773.988 95.3206 777.553 Q97.1493 781.094 100.76 781.094 Q104.395 781.094 106.2 777.553 Q108.029 773.988 108.029 766.881 Q108.029 759.752 106.2 756.21 Q104.395 752.645 100.76 752.645 M100.76 748.942 Q106.571 748.942 109.626 753.548 Q112.705 758.131 112.705 766.881 Q112.705 775.608 109.626 780.215 Q106.571 784.798 100.76 784.798 Q94.9502 784.798 91.8715 780.215 Q88.816 775.608 88.816 766.881 Q88.816 758.131 91.8715 753.548 Q94.9502 748.942 100.76 748.942 Z\" fill=\"#000000\" fill-rule=\"evenodd\" fill-opacity=\"1\" /><path clip-path=\"url(#clip050)\" d=\"M120.922 778.247 L125.807 778.247 L125.807 784.127 L120.922 784.127 L120.922 778.247 Z\" fill=\"#000000\" fill-rule=\"evenodd\" fill-opacity=\"1\" /><path clip-path=\"url(#clip050)\" d=\"M145.992 752.645 Q142.381 752.645 140.552 756.21 Q138.746 759.752 138.746 766.881 Q138.746 773.988 140.552 777.553 Q142.381 781.094 145.992 781.094 Q149.626 781.094 151.431 777.553 Q153.26 773.988 153.26 766.881 Q153.26 759.752 151.431 756.21 Q149.626 752.645 145.992 752.645 M145.992 748.942 Q151.802 748.942 154.857 753.548 Q157.936 758.131 157.936 766.881 Q157.936 775.608 154.857 780.215 Q151.802 784.798 145.992 784.798 Q140.181 784.798 137.103 780.215 Q134.047 775.608 134.047 766.881 Q134.047 758.131 137.103 753.548 Q140.181 748.942 145.992 748.942 Z\" fill=\"#000000\" fill-rule=\"evenodd\" fill-opacity=\"1\" /><path clip-path=\"url(#clip050)\" d=\"M101.756 413.21 Q98.1447 413.21 96.316 416.775 Q94.5104 420.317 94.5104 427.446 Q94.5104 434.553 96.316 438.117 Q98.1447 441.659 101.756 441.659 Q105.39 441.659 107.196 438.117 Q109.024 434.553 109.024 427.446 Q109.024 420.317 107.196 416.775 Q105.39 413.21 101.756 413.21 M101.756 409.507 Q107.566 409.507 110.621 414.113 Q113.7 418.696 113.7 427.446 Q113.7 436.173 110.621 440.779 Q107.566 445.363 101.756 445.363 Q95.9456 445.363 92.8669 440.779 Q89.8114 436.173 89.8114 427.446 Q89.8114 418.696 92.8669 414.113 Q95.9456 409.507 101.756 409.507 Z\" fill=\"#000000\" fill-rule=\"evenodd\" fill-opacity=\"1\" /><path clip-path=\"url(#clip050)\" d=\"M121.918 438.812 L126.802 438.812 L126.802 444.692 L121.918 444.692 L121.918 438.812 Z\" fill=\"#000000\" fill-rule=\"evenodd\" fill-opacity=\"1\" /><path clip-path=\"url(#clip050)\" d=\"M137.033 410.132 L155.39 410.132 L155.39 414.067 L141.316 414.067 L141.316 422.539 Q142.334 422.192 143.353 422.03 Q144.371 421.844 145.39 421.844 Q151.177 421.844 154.556 425.016 Q157.936 428.187 157.936 433.604 Q157.936 439.182 154.464 442.284 Q150.992 445.363 144.672 445.363 Q142.496 445.363 140.228 444.992 Q137.982 444.622 135.575 443.881 L135.575 439.182 Q137.658 440.317 139.881 440.872 Q142.103 441.428 144.58 441.428 Q148.584 441.428 150.922 439.321 Q153.26 437.215 153.26 433.604 Q153.26 429.993 150.922 427.886 Q148.584 425.78 144.58 425.78 Q142.705 425.78 140.83 426.196 Q138.978 426.613 137.033 427.493 L137.033 410.132 Z\" fill=\"#000000\" fill-rule=\"evenodd\" fill-opacity=\"1\" /><path clip-path=\"url(#clip050)\" d=\"M91.5706 101.321 L99.2095 101.321 L99.2095 74.9555 L90.8993 76.6222 L90.8993 72.3629 L99.1632 70.6963 L103.839 70.6963 L103.839 101.321 L111.478 101.321 L111.478 105.256 L91.5706 105.256 L91.5706 101.321 Z\" fill=\"#000000\" fill-rule=\"evenodd\" fill-opacity=\"1\" /><path clip-path=\"url(#clip050)\" d=\"M120.922 99.3767 L125.807 99.3767 L125.807 105.256 L120.922 105.256 L120.922 99.3767 Z\" fill=\"#000000\" fill-rule=\"evenodd\" fill-opacity=\"1\" /><path clip-path=\"url(#clip050)\" d=\"M145.992 73.775 Q142.381 73.775 140.552 77.3398 Q138.746 80.8814 138.746 88.011 Q138.746 95.1174 140.552 98.6822 Q142.381 102.224 145.992 102.224 Q149.626 102.224 151.431 98.6822 Q153.26 95.1174 153.26 88.011 Q153.26 80.8814 151.431 77.3398 Q149.626 73.775 145.992 73.775 M145.992 70.0713 Q151.802 70.0713 154.857 74.6777 Q157.936 79.261 157.936 88.011 Q157.936 96.7378 154.857 101.344 Q151.802 105.928 145.992 105.928 Q140.181 105.928 137.103 101.344 Q134.047 96.7378 134.047 88.011 Q134.047 79.261 137.103 74.6777 Q140.181 70.0713 145.992 70.0713 Z\" fill=\"#000000\" fill-rule=\"evenodd\" fill-opacity=\"1\" /><polyline clip-path=\"url(#clip052)\" style=\"stroke:#009af9; stroke-linecap:round; stroke-linejoin:round; stroke-width:4; stroke-opacity:1; fill:none\" points=\"\n",
       "  193.936,766.847 200.964,752.962 207.991,739.084 240.481,675.163 272.971,612.06 305.461,550.341 337.951,490.557 357.476,455.783 377.001,422.013 396.526,389.357 \n",
       "  416.051,357.919 432.559,332.365 449.068,307.814 465.576,284.322 482.084,261.944 500.016,238.957 517.949,217.408 535.882,197.356 553.814,178.854 570.346,163.214 \n",
       "  586.879,148.972 603.411,136.16 619.943,124.808 637.667,114.289 655.392,105.506 673.116,98.4821 690.84,93.2368 711.375,89.4012 731.911,87.9849 752.446,88.9928 \n",
       "  772.981,92.4214 791.231,97.4902 809.48,104.447 827.73,113.272 845.979,123.94 861.982,134.788 877.985,147.008 893.988,160.572 909.991,175.451 927.439,193.133 \n",
       "  944.886,212.294 962.334,232.886 979.782,254.853 997.333,278.283 1014.88,302.988 1032.44,328.903 1049.99,355.96 1069.39,387.12 1088.8,419.491 1108.2,452.97 \n",
       "  1127.61,487.45 1164.54,555.43 1201.46,625.85 1278.25,776.543 1342.9,903.329 1382.36,978.637 1421.82,1051.15 1439.89,1083.18 1457.96,1114.32 1476.04,1144.5 \n",
       "  1494.11,1173.64 1510.81,1199.56 1527.5,1224.45 1544.19,1248.26 1560.88,1270.94 1577.79,1292.7 1594.7,1313.19 1611.61,1332.35 1628.52,1350.14 1647.47,1368.4 \n",
       "  1666.42,1384.83 1685.37,1399.38 1704.32,1412.01 1721.5,1421.76 1738.67,1429.87 1755.84,1436.33 1773.01,1441.11 1792.67,1444.52 1812.33,1445.72 1831.99,1444.69 \n",
       "  1851.66,1441.44 1869.86,1436.46 1888.06,1429.6 1906.27,1420.88 1924.47,1410.33 1942.42,1398.16 1960.37,1384.27 1978.32,1368.69 1996.26,1351.47 2013.69,1333.22 \n",
       "  2031.11,1313.52 2048.54,1292.41 2065.96,1269.95 2083.83,1245.59 2101.69,1219.93 2119.55,1193.04 2137.42,1165.01 2156.99,1133.06 2176.56,1099.92 2196.13,1065.7 \n",
       "  2215.7,1030.52 2272.56,923.857 2329.43,812.908 2341.09,789.891 2352.76,766.847 \n",
       "  \"/>\n",
       "<polyline clip-path=\"url(#clip052)\" style=\"stroke:#e26f46; stroke-linecap:round; stroke-linejoin:round; stroke-width:4; stroke-opacity:1; fill:none\" points=\"\n",
       "  193.936,87.9763 197.45,88.0118 200.964,88.1183 204.477,88.2958 207.991,88.5442 224.236,90.6144 240.481,94.1959 256.726,99.2809 272.971,105.858 289.216,113.912 \n",
       "  305.461,123.426 321.706,134.378 337.951,146.743 357.476,163.436 377.001,182.078 396.526,202.607 416.051,224.958 432.559,245.223 449.068,266.693 465.576,289.316 \n",
       "  482.084,313.042 500.016,340 517.949,368.121 535.882,397.327 553.814,427.539 586.879,485.607 619.943,546.276 690.84,682.498 772.981,844.407 809.48,915.479 \n",
       "  845.979,984.874 877.985,1043.73 909.991,1100.19 927.439,1129.78 944.886,1158.43 962.334,1186.07 979.782,1212.64 997.333,1238.2 1014.88,1262.53 1032.44,1285.57 \n",
       "  1049.99,1307.25 1069.39,1329.58 1088.8,1350.12 1108.2,1368.8 1127.61,1385.56 1146.07,1399.67 1164.54,1411.96 1183,1422.38 1201.46,1430.91 1220.66,1437.75 \n",
       "  1239.86,1442.5 1259.06,1445.13 1278.25,1445.65 1294.41,1444.44 1310.57,1441.74 1326.74,1437.54 1342.9,1431.86 1362.63,1422.93 1382.36,1411.84 1402.09,1398.62 \n",
       "  1421.82,1383.32 1439.89,1367.51 1457.96,1350.05 1476.04,1330.97 1494.11,1310.34 1510.81,1289.94 1527.5,1268.31 1544.19,1245.49 1560.88,1221.55 1577.79,1196.2 \n",
       "  1594.7,1169.81 1611.61,1142.45 1628.52,1114.17 1666.42,1047.85 1704.32,978.108 1738.67,912.671 1773.01,845.778 1851.66,690.73 1924.47,550.533 1960.37,484.609 \n",
       "  1996.26,421.763 2013.69,392.569 2031.11,364.338 2048.54,337.143 2065.96,311.052 2083.83,285.523 2101.69,261.294 2119.55,238.432 2137.42,216.998 2156.99,195.222 \n",
       "  2176.56,175.3 2196.13,157.298 2215.7,141.272 2229.92,130.902 2244.13,121.62 2258.35,113.442 2272.56,106.383 2300.99,95.6652 2329.43,89.5407 2335.26,88.8564 \n",
       "  2341.09,88.3675 2346.92,88.0741 2352.76,87.9763 \n",
       "  \"/>\n",
       "<path clip-path=\"url(#clip050)\" d=\"\n",
       "M1741.72 250.738 L2280.8 250.738 L2280.8 95.2176 L1741.72 95.2176  Z\n",
       "  \" fill=\"#ffffff\" fill-rule=\"evenodd\" fill-opacity=\"1\"/>\n",
       "<polyline clip-path=\"url(#clip050)\" style=\"stroke:#000000; stroke-linecap:round; stroke-linejoin:round; stroke-width:4; stroke-opacity:1; fill:none\" points=\"\n",
       "  1741.72,250.738 2280.8,250.738 2280.8,95.2176 1741.72,95.2176 1741.72,250.738 \n",
       "  \"/>\n",
       "<polyline clip-path=\"url(#clip050)\" style=\"stroke:#009af9; stroke-linecap:round; stroke-linejoin:round; stroke-width:4; stroke-opacity:1; fill:none\" points=\"\n",
       "  1765.7,147.058 1909.62,147.058 \n",
       "  \"/>\n",
       "<path clip-path=\"url(#clip050)\" d=\"M1952.04 139.176 L1952.04 143.203 Q1950.23 142.277 1948.29 141.815 Q1946.34 141.352 1944.26 141.352 Q1941.09 141.352 1939.49 142.324 Q1937.92 143.296 1937.92 145.24 Q1937.92 146.722 1939.05 147.578 Q1940.18 148.412 1943.61 149.176 L1945.07 149.5 Q1949.61 150.472 1951.5 152.254 Q1953.42 154.014 1953.42 157.185 Q1953.42 160.796 1950.55 162.902 Q1947.71 165.009 1942.71 165.009 Q1940.62 165.009 1938.36 164.592 Q1936.11 164.199 1933.61 163.388 L1933.61 158.99 Q1935.97 160.217 1938.26 160.842 Q1940.55 161.444 1942.8 161.444 Q1945.81 161.444 1947.43 160.426 Q1949.05 159.384 1949.05 157.509 Q1949.05 155.773 1947.87 154.847 Q1946.71 153.921 1942.75 153.064 L1941.27 152.717 Q1937.31 151.884 1935.55 150.171 Q1933.8 148.435 1933.8 145.426 Q1933.8 141.768 1936.39 139.778 Q1938.98 137.787 1943.75 137.787 Q1946.11 137.787 1948.19 138.134 Q1950.28 138.481 1952.04 139.176 Z\" fill=\"#000000\" fill-rule=\"evenodd\" fill-opacity=\"1\" /><path clip-path=\"url(#clip050)\" d=\"M1960.21 138.412 L1964.47 138.412 L1964.47 164.338 L1960.21 164.338 L1960.21 138.412 M1960.21 128.319 L1964.47 128.319 L1964.47 133.713 L1960.21 133.713 L1960.21 128.319 Z\" fill=\"#000000\" fill-rule=\"evenodd\" fill-opacity=\"1\" /><path clip-path=\"url(#clip050)\" d=\"M1994.93 148.689 L1994.93 164.338 L1990.67 164.338 L1990.67 148.828 Q1990.67 145.148 1989.23 143.319 Q1987.8 141.49 1984.93 141.49 Q1981.48 141.49 1979.49 143.69 Q1977.5 145.889 1977.5 149.685 L1977.5 164.338 L1973.22 164.338 L1973.22 138.412 L1977.5 138.412 L1977.5 142.44 Q1979.03 140.102 1981.09 138.944 Q1983.17 137.787 1985.88 137.787 Q1990.35 137.787 1992.64 140.565 Q1994.93 143.319 1994.93 148.689 Z\" fill=\"#000000\" fill-rule=\"evenodd\" fill-opacity=\"1\" /><path clip-path=\"url(#clip050)\" d=\"M2025.6 150.31 L2025.6 152.393 L2006.02 152.393 Q2006.29 156.791 2008.66 159.106 Q2011.04 161.398 2015.28 161.398 Q2017.73 161.398 2020.02 160.796 Q2022.34 160.194 2024.6 158.99 L2024.6 163.018 Q2022.31 163.99 2019.91 164.5 Q2017.5 165.009 2015.02 165.009 Q2008.82 165.009 2005.18 161.398 Q2001.57 157.787 2001.57 151.629 Q2001.57 145.264 2005 141.537 Q2008.45 137.787 2014.28 137.787 Q2019.51 137.787 2022.54 141.166 Q2025.6 144.523 2025.6 150.31 M2021.34 149.06 Q2021.29 145.565 2019.37 143.481 Q2017.48 141.398 2014.33 141.398 Q2010.76 141.398 2008.61 143.412 Q2006.48 145.426 2006.16 149.083 L2021.34 149.06 Z\" fill=\"#000000\" fill-rule=\"evenodd\" fill-opacity=\"1\" /><path clip-path=\"url(#clip050)\" d=\"M2060.79 128.319 L2060.79 131.861 L2056.71 131.861 Q2054.42 131.861 2053.52 132.787 Q2052.64 133.713 2052.64 136.12 L2052.64 138.412 L2059.65 138.412 L2059.65 141.722 L2052.64 141.722 L2052.64 164.338 L2048.35 164.338 L2048.35 141.722 L2044.28 141.722 L2044.28 138.412 L2048.35 138.412 L2048.35 136.606 Q2048.35 132.278 2050.37 130.31 Q2052.38 128.319 2056.76 128.319 L2060.79 128.319 Z\" fill=\"#000000\" fill-rule=\"evenodd\" fill-opacity=\"1\" /><path clip-path=\"url(#clip050)\" d=\"M2063.91 154.106 L2063.91 138.412 L2068.17 138.412 L2068.17 153.944 Q2068.17 157.625 2069.6 159.476 Q2071.04 161.305 2073.91 161.305 Q2077.36 161.305 2079.35 159.106 Q2081.36 156.907 2081.36 153.111 L2081.36 138.412 L2085.62 138.412 L2085.62 164.338 L2081.36 164.338 L2081.36 160.356 Q2079.81 162.717 2077.75 163.875 Q2075.72 165.009 2073.01 165.009 Q2068.54 165.009 2066.23 162.231 Q2063.91 159.453 2063.91 154.106 M2074.63 137.787 L2074.63 137.787 Z\" fill=\"#000000\" fill-rule=\"evenodd\" fill-opacity=\"1\" /><path clip-path=\"url(#clip050)\" d=\"M2115.95 148.689 L2115.95 164.338 L2111.69 164.338 L2111.69 148.828 Q2111.69 145.148 2110.25 143.319 Q2108.82 141.49 2105.95 141.49 Q2102.5 141.49 2100.51 143.69 Q2098.52 145.889 2098.52 149.685 L2098.52 164.338 L2094.23 164.338 L2094.23 138.412 L2098.52 138.412 L2098.52 142.44 Q2100.04 140.102 2102.1 138.944 Q2104.19 137.787 2106.9 137.787 Q2111.36 137.787 2113.66 140.565 Q2115.95 143.319 2115.95 148.689 Z\" fill=\"#000000\" fill-rule=\"evenodd\" fill-opacity=\"1\" /><path clip-path=\"url(#clip050)\" d=\"M2143.1 139.407 L2143.1 143.389 Q2141.29 142.393 2139.47 141.907 Q2137.66 141.398 2135.81 141.398 Q2131.66 141.398 2129.37 144.037 Q2127.08 146.652 2127.08 151.398 Q2127.08 156.143 2129.37 158.782 Q2131.66 161.398 2135.81 161.398 Q2137.66 161.398 2139.47 160.912 Q2141.29 160.402 2143.1 159.407 L2143.1 163.342 Q2141.32 164.176 2139.4 164.592 Q2137.5 165.009 2135.35 165.009 Q2129.49 165.009 2126.04 161.328 Q2122.59 157.648 2122.59 151.398 Q2122.59 145.055 2126.06 141.421 Q2129.56 137.787 2135.62 137.787 Q2137.59 137.787 2139.47 138.203 Q2141.34 138.597 2143.1 139.407 Z\" fill=\"#000000\" fill-rule=\"evenodd\" fill-opacity=\"1\" /><path clip-path=\"url(#clip050)\" d=\"M2154.72 131.051 L2154.72 138.412 L2163.49 138.412 L2163.49 141.722 L2154.72 141.722 L2154.72 155.796 Q2154.72 158.967 2155.58 159.87 Q2156.46 160.773 2159.12 160.773 L2163.49 160.773 L2163.49 164.338 L2159.12 164.338 Q2154.19 164.338 2152.31 162.509 Q2150.44 160.657 2150.44 155.796 L2150.44 141.722 L2147.31 141.722 L2147.31 138.412 L2150.44 138.412 L2150.44 131.051 L2154.72 131.051 Z\" fill=\"#000000\" fill-rule=\"evenodd\" fill-opacity=\"1\" /><path clip-path=\"url(#clip050)\" d=\"M2169.09 138.412 L2173.35 138.412 L2173.35 164.338 L2169.09 164.338 L2169.09 138.412 M2169.09 128.319 L2173.35 128.319 L2173.35 133.713 L2169.09 133.713 L2169.09 128.319 Z\" fill=\"#000000\" fill-rule=\"evenodd\" fill-opacity=\"1\" /><path clip-path=\"url(#clip050)\" d=\"M2192.31 141.398 Q2188.89 141.398 2186.9 144.083 Q2184.91 146.745 2184.91 151.398 Q2184.91 156.051 2186.87 158.736 Q2188.86 161.398 2192.31 161.398 Q2195.72 161.398 2197.71 158.713 Q2199.7 156.027 2199.7 151.398 Q2199.7 146.791 2197.71 144.106 Q2195.72 141.398 2192.31 141.398 M2192.31 137.787 Q2197.87 137.787 2201.04 141.398 Q2204.21 145.009 2204.21 151.398 Q2204.21 157.764 2201.04 161.398 Q2197.87 165.009 2192.31 165.009 Q2186.73 165.009 2183.56 161.398 Q2180.41 157.764 2180.41 151.398 Q2180.41 145.009 2183.56 141.398 Q2186.73 137.787 2192.31 137.787 Z\" fill=\"#000000\" fill-rule=\"evenodd\" fill-opacity=\"1\" /><path clip-path=\"url(#clip050)\" d=\"M2232.82 148.689 L2232.82 164.338 L2228.56 164.338 L2228.56 148.828 Q2228.56 145.148 2227.13 143.319 Q2225.69 141.49 2222.82 141.49 Q2219.37 141.49 2217.38 143.69 Q2215.39 145.889 2215.39 149.685 L2215.39 164.338 L2211.11 164.338 L2211.11 138.412 L2215.39 138.412 L2215.39 142.44 Q2216.92 140.102 2218.98 138.944 Q2221.06 137.787 2223.77 137.787 Q2228.24 137.787 2230.53 140.565 Q2232.82 143.319 2232.82 148.689 Z\" fill=\"#000000\" fill-rule=\"evenodd\" fill-opacity=\"1\" /><polyline clip-path=\"url(#clip050)\" style=\"stroke:#e26f46; stroke-linecap:round; stroke-linejoin:round; stroke-width:4; stroke-opacity:1; fill:none\" points=\"\n",
       "  1765.7,198.898 1909.62,198.898 \n",
       "  \"/>\n",
       "<path clip-path=\"url(#clip050)\" d=\"M1954.12 191.247 L1954.12 195.229 Q1952.31 194.233 1950.49 193.747 Q1948.68 193.238 1946.83 193.238 Q1942.68 193.238 1940.39 195.877 Q1938.1 198.492 1938.1 203.238 Q1938.1 207.983 1940.39 210.622 Q1942.68 213.238 1946.83 213.238 Q1948.68 213.238 1950.49 212.752 Q1952.31 212.242 1954.12 211.247 L1954.12 215.182 Q1952.34 216.016 1950.42 216.432 Q1948.52 216.849 1946.36 216.849 Q1940.51 216.849 1937.06 213.168 Q1933.61 209.488 1933.61 203.238 Q1933.61 196.895 1937.08 193.261 Q1940.58 189.627 1946.64 189.627 Q1948.61 189.627 1950.49 190.043 Q1952.36 190.437 1954.12 191.247 Z\" fill=\"#000000\" fill-rule=\"evenodd\" fill-opacity=\"1\" /><path clip-path=\"url(#clip050)\" d=\"M1971.57 193.238 Q1968.15 193.238 1966.16 195.923 Q1964.17 198.585 1964.17 203.238 Q1964.17 207.891 1966.13 210.576 Q1968.12 213.238 1971.57 213.238 Q1974.98 213.238 1976.97 210.553 Q1978.96 207.867 1978.96 203.238 Q1978.96 198.631 1976.97 195.946 Q1974.98 193.238 1971.57 193.238 M1971.57 189.627 Q1977.13 189.627 1980.3 193.238 Q1983.47 196.849 1983.47 203.238 Q1983.47 209.604 1980.3 213.238 Q1977.13 216.849 1971.57 216.849 Q1965.99 216.849 1962.82 213.238 Q1959.67 209.604 1959.67 203.238 Q1959.67 196.849 1962.82 193.238 Q1965.99 189.627 1971.57 189.627 Z\" fill=\"#000000\" fill-rule=\"evenodd\" fill-opacity=\"1\" /><path clip-path=\"url(#clip050)\" d=\"M2007.06 191.016 L2007.06 195.043 Q2005.25 194.117 2003.31 193.655 Q2001.36 193.192 1999.28 193.192 Q1996.11 193.192 1994.51 194.164 Q1992.94 195.136 1992.94 197.08 Q1992.94 198.562 1994.07 199.418 Q1995.21 200.252 1998.63 201.016 L2000.09 201.34 Q2004.63 202.312 2006.53 204.094 Q2008.45 205.854 2008.45 209.025 Q2008.45 212.636 2005.58 214.742 Q2002.73 216.849 1997.73 216.849 Q1995.65 216.849 1993.38 216.432 Q1991.13 216.039 1988.63 215.228 L1988.63 210.83 Q1990.99 212.057 1993.29 212.682 Q1995.58 213.284 1997.82 213.284 Q2000.83 213.284 2002.45 212.266 Q2004.07 211.224 2004.07 209.349 Q2004.07 207.613 2002.89 206.687 Q2001.73 205.761 1997.78 204.904 L1996.29 204.557 Q1992.34 203.724 1990.58 202.011 Q1988.82 200.275 1988.82 197.266 Q1988.82 193.608 1991.41 191.618 Q1994 189.627 1998.77 189.627 Q2001.13 189.627 2003.22 189.974 Q2005.3 190.321 2007.06 191.016 Z\" fill=\"#000000\" fill-rule=\"evenodd\" fill-opacity=\"1\" /><path clip-path=\"url(#clip050)\" d=\"M2015.23 190.252 L2019.49 190.252 L2019.49 216.178 L2015.23 216.178 L2015.23 190.252 M2015.23 180.159 L2019.49 180.159 L2019.49 185.553 L2015.23 185.553 L2015.23 180.159 Z\" fill=\"#000000\" fill-rule=\"evenodd\" fill-opacity=\"1\" /><path clip-path=\"url(#clip050)\" d=\"M2049.95 200.529 L2049.95 216.178 L2045.69 216.178 L2045.69 200.668 Q2045.69 196.988 2044.26 195.159 Q2042.82 193.33 2039.95 193.33 Q2036.5 193.33 2034.51 195.53 Q2032.52 197.729 2032.52 201.525 L2032.52 216.178 L2028.24 216.178 L2028.24 190.252 L2032.52 190.252 L2032.52 194.28 Q2034.05 191.942 2036.11 190.784 Q2038.19 189.627 2040.9 189.627 Q2045.37 189.627 2047.66 192.405 Q2049.95 195.159 2049.95 200.529 Z\" fill=\"#000000\" fill-rule=\"evenodd\" fill-opacity=\"1\" /><path clip-path=\"url(#clip050)\" d=\"M2080.62 202.15 L2080.62 204.233 L2061.04 204.233 Q2061.32 208.631 2063.68 210.946 Q2066.06 213.238 2070.3 213.238 Q2072.75 213.238 2075.04 212.636 Q2077.36 212.034 2079.63 210.83 L2079.63 214.858 Q2077.34 215.83 2074.93 216.34 Q2072.52 216.849 2070.04 216.849 Q2063.84 216.849 2060.21 213.238 Q2056.6 209.627 2056.6 203.469 Q2056.6 197.104 2060.02 193.377 Q2063.47 189.627 2069.3 189.627 Q2074.54 189.627 2077.57 193.006 Q2080.62 196.363 2080.62 202.15 M2076.36 200.9 Q2076.32 197.405 2074.4 195.321 Q2072.5 193.238 2069.35 193.238 Q2065.79 193.238 2063.63 195.252 Q2061.5 197.266 2061.18 200.923 L2076.36 200.9 Z\" fill=\"#000000\" fill-rule=\"evenodd\" fill-opacity=\"1\" /></svg>\n"
      ]
     },
     "execution_count": 64,
     "metadata": {},
     "output_type": "execute_result"
    }
   ],
   "source": [
    "# combine plots\n",
    "plot(sin,xlimits=[0,2π],label=\"sine function\")\n",
    "plot!(cos,label=\"cosine\") "
   ]
  },
  {
   "cell_type": "code",
   "execution_count": 65,
   "metadata": {
    "tags": []
   },
   "outputs": [
    {
     "data": {
      "image/svg+xml": [
       "<?xml version=\"1.0\" encoding=\"utf-8\"?>\n",
       "<svg xmlns=\"http://www.w3.org/2000/svg\" xmlns:xlink=\"http://www.w3.org/1999/xlink\" width=\"600\" height=\"400\" viewBox=\"0 0 2400 1600\">\n",
       "<defs>\n",
       "  <clipPath id=\"clip090\">\n",
       "    <rect x=\"0\" y=\"0\" width=\"2400\" height=\"1600\"/>\n",
       "  </clipPath>\n",
       "</defs>\n",
       "<path clip-path=\"url(#clip090)\" d=\"\n",
       "M0 1600 L2400 1600 L2400 0 L0 0  Z\n",
       "  \" fill=\"#ffffff\" fill-rule=\"evenodd\" fill-opacity=\"1\"/>\n",
       "<defs>\n",
       "  <clipPath id=\"clip091\">\n",
       "    <rect x=\"480\" y=\"0\" width=\"1681\" height=\"1600\"/>\n",
       "  </clipPath>\n",
       "</defs>\n",
       "<path clip-path=\"url(#clip090)\" d=\"\n",
       "M193.936 1486.45 L2352.76 1486.45 L2352.76 47.2441 L193.936 47.2441  Z\n",
       "  \" fill=\"#ffffff\" fill-rule=\"evenodd\" fill-opacity=\"1\"/>\n",
       "<defs>\n",
       "  <clipPath id=\"clip092\">\n",
       "    <rect x=\"193\" y=\"47\" width=\"2160\" height=\"1440\"/>\n",
       "  </clipPath>\n",
       "</defs>\n",
       "<polyline clip-path=\"url(#clip092)\" style=\"stroke:#000000; stroke-linecap:round; stroke-linejoin:round; stroke-width:2; stroke-opacity:0.1; fill:none\" points=\"\n",
       "  193.936,1486.45 193.936,47.2441 \n",
       "  \"/>\n",
       "<polyline clip-path=\"url(#clip092)\" style=\"stroke:#000000; stroke-linecap:round; stroke-linejoin:round; stroke-width:2; stroke-opacity:0.1; fill:none\" points=\"\n",
       "  537.523,1486.45 537.523,47.2441 \n",
       "  \"/>\n",
       "<polyline clip-path=\"url(#clip092)\" style=\"stroke:#000000; stroke-linecap:round; stroke-linejoin:round; stroke-width:2; stroke-opacity:0.1; fill:none\" points=\"\n",
       "  881.11,1486.45 881.11,47.2441 \n",
       "  \"/>\n",
       "<polyline clip-path=\"url(#clip092)\" style=\"stroke:#000000; stroke-linecap:round; stroke-linejoin:round; stroke-width:2; stroke-opacity:0.1; fill:none\" points=\"\n",
       "  1224.7,1486.45 1224.7,47.2441 \n",
       "  \"/>\n",
       "<polyline clip-path=\"url(#clip092)\" style=\"stroke:#000000; stroke-linecap:round; stroke-linejoin:round; stroke-width:2; stroke-opacity:0.1; fill:none\" points=\"\n",
       "  1568.28,1486.45 1568.28,47.2441 \n",
       "  \"/>\n",
       "<polyline clip-path=\"url(#clip092)\" style=\"stroke:#000000; stroke-linecap:round; stroke-linejoin:round; stroke-width:2; stroke-opacity:0.1; fill:none\" points=\"\n",
       "  1911.87,1486.45 1911.87,47.2441 \n",
       "  \"/>\n",
       "<polyline clip-path=\"url(#clip092)\" style=\"stroke:#000000; stroke-linecap:round; stroke-linejoin:round; stroke-width:2; stroke-opacity:0.1; fill:none\" points=\"\n",
       "  2255.46,1486.45 2255.46,47.2441 \n",
       "  \"/>\n",
       "<polyline clip-path=\"url(#clip090)\" style=\"stroke:#000000; stroke-linecap:round; stroke-linejoin:round; stroke-width:4; stroke-opacity:1; fill:none\" points=\"\n",
       "  193.936,1486.45 2352.76,1486.45 \n",
       "  \"/>\n",
       "<polyline clip-path=\"url(#clip090)\" style=\"stroke:#000000; stroke-linecap:round; stroke-linejoin:round; stroke-width:4; stroke-opacity:1; fill:none\" points=\"\n",
       "  193.936,1486.45 193.936,1467.55 \n",
       "  \"/>\n",
       "<polyline clip-path=\"url(#clip090)\" style=\"stroke:#000000; stroke-linecap:round; stroke-linejoin:round; stroke-width:4; stroke-opacity:1; fill:none\" points=\"\n",
       "  537.523,1486.45 537.523,1467.55 \n",
       "  \"/>\n",
       "<polyline clip-path=\"url(#clip090)\" style=\"stroke:#000000; stroke-linecap:round; stroke-linejoin:round; stroke-width:4; stroke-opacity:1; fill:none\" points=\"\n",
       "  881.11,1486.45 881.11,1467.55 \n",
       "  \"/>\n",
       "<polyline clip-path=\"url(#clip090)\" style=\"stroke:#000000; stroke-linecap:round; stroke-linejoin:round; stroke-width:4; stroke-opacity:1; fill:none\" points=\"\n",
       "  1224.7,1486.45 1224.7,1467.55 \n",
       "  \"/>\n",
       "<polyline clip-path=\"url(#clip090)\" style=\"stroke:#000000; stroke-linecap:round; stroke-linejoin:round; stroke-width:4; stroke-opacity:1; fill:none\" points=\"\n",
       "  1568.28,1486.45 1568.28,1467.55 \n",
       "  \"/>\n",
       "<polyline clip-path=\"url(#clip090)\" style=\"stroke:#000000; stroke-linecap:round; stroke-linejoin:round; stroke-width:4; stroke-opacity:1; fill:none\" points=\"\n",
       "  1911.87,1486.45 1911.87,1467.55 \n",
       "  \"/>\n",
       "<polyline clip-path=\"url(#clip090)\" style=\"stroke:#000000; stroke-linecap:round; stroke-linejoin:round; stroke-width:4; stroke-opacity:1; fill:none\" points=\"\n",
       "  2255.46,1486.45 2255.46,1467.55 \n",
       "  \"/>\n",
       "<path clip-path=\"url(#clip090)\" d=\"M193.936 1517.37 Q190.325 1517.37 188.496 1520.93 Q186.691 1524.47 186.691 1531.6 Q186.691 1538.71 188.496 1542.27 Q190.325 1545.82 193.936 1545.82 Q197.57 1545.82 199.376 1542.27 Q201.204 1538.71 201.204 1531.6 Q201.204 1524.47 199.376 1520.93 Q197.57 1517.37 193.936 1517.37 M193.936 1513.66 Q199.746 1513.66 202.802 1518.27 Q205.88 1522.85 205.88 1531.6 Q205.88 1540.33 202.802 1544.94 Q199.746 1549.52 193.936 1549.52 Q188.126 1549.52 185.047 1544.94 Q181.992 1540.33 181.992 1531.6 Q181.992 1522.85 185.047 1518.27 Q188.126 1513.66 193.936 1513.66 Z\" fill=\"#000000\" fill-rule=\"evenodd\" fill-opacity=\"1\" /><path clip-path=\"url(#clip090)\" d=\"M527.905 1544.91 L535.544 1544.91 L535.544 1518.55 L527.234 1520.21 L527.234 1515.95 L535.497 1514.29 L540.173 1514.29 L540.173 1544.91 L547.812 1544.91 L547.812 1548.85 L527.905 1548.85 L527.905 1544.91 Z\" fill=\"#000000\" fill-rule=\"evenodd\" fill-opacity=\"1\" /><path clip-path=\"url(#clip090)\" d=\"M875.763 1544.91 L892.082 1544.91 L892.082 1548.85 L870.138 1548.85 L870.138 1544.91 Q872.8 1542.16 877.383 1537.53 Q881.989 1532.88 883.17 1531.53 Q885.415 1529.01 886.295 1527.27 Q887.198 1525.51 887.198 1523.82 Q887.198 1521.07 885.253 1519.33 Q883.332 1517.6 880.23 1517.6 Q878.031 1517.6 875.577 1518.36 Q873.147 1519.13 870.369 1520.68 L870.369 1515.95 Q873.193 1514.82 875.647 1514.24 Q878.1 1513.66 880.137 1513.66 Q885.508 1513.66 888.702 1516.35 Q891.897 1519.03 891.897 1523.52 Q891.897 1525.65 891.087 1527.57 Q890.299 1529.47 888.193 1532.07 Q887.614 1532.74 884.512 1535.95 Q881.411 1539.15 875.763 1544.91 Z\" fill=\"#000000\" fill-rule=\"evenodd\" fill-opacity=\"1\" /><path clip-path=\"url(#clip090)\" d=\"M1228.94 1530.21 Q1232.3 1530.93 1234.18 1533.2 Q1236.07 1535.47 1236.07 1538.8 Q1236.07 1543.92 1232.56 1546.72 Q1229.04 1549.52 1222.56 1549.52 Q1220.38 1549.52 1218.06 1549.08 Q1215.77 1548.66 1213.32 1547.81 L1213.32 1543.29 Q1215.26 1544.43 1217.58 1545.01 Q1219.89 1545.58 1222.42 1545.58 Q1226.81 1545.58 1229.11 1543.85 Q1231.42 1542.11 1231.42 1538.8 Q1231.42 1535.75 1229.27 1534.03 Q1227.14 1532.3 1223.32 1532.3 L1219.29 1532.3 L1219.29 1528.45 L1223.5 1528.45 Q1226.95 1528.45 1228.78 1527.09 Q1230.61 1525.7 1230.61 1523.11 Q1230.61 1520.45 1228.71 1519.03 Q1226.84 1517.6 1223.32 1517.6 Q1221.4 1517.6 1219.2 1518.01 Q1217 1518.43 1214.36 1519.31 L1214.36 1515.14 Q1217.02 1514.4 1219.34 1514.03 Q1221.68 1513.66 1223.74 1513.66 Q1229.06 1513.66 1232.16 1516.09 Q1235.26 1518.5 1235.26 1522.62 Q1235.26 1525.49 1233.62 1527.48 Q1231.98 1529.45 1228.94 1530.21 Z\" fill=\"#000000\" fill-rule=\"evenodd\" fill-opacity=\"1\" /><path clip-path=\"url(#clip090)\" d=\"M1571.29 1518.36 L1559.49 1536.81 L1571.29 1536.81 L1571.29 1518.36 M1570.07 1514.29 L1575.95 1514.29 L1575.95 1536.81 L1580.88 1536.81 L1580.88 1540.7 L1575.95 1540.7 L1575.95 1548.85 L1571.29 1548.85 L1571.29 1540.7 L1555.69 1540.7 L1555.69 1536.19 L1570.07 1514.29 Z\" fill=\"#000000\" fill-rule=\"evenodd\" fill-opacity=\"1\" /><path clip-path=\"url(#clip090)\" d=\"M1902.15 1514.29 L1920.5 1514.29 L1920.5 1518.22 L1906.43 1518.22 L1906.43 1526.7 Q1907.45 1526.35 1908.47 1526.19 Q1909.49 1526 1910.5 1526 Q1916.29 1526 1919.67 1529.17 Q1923.05 1532.34 1923.05 1537.76 Q1923.05 1543.34 1919.58 1546.44 Q1916.11 1549.52 1909.79 1549.52 Q1907.61 1549.52 1905.34 1549.15 Q1903.1 1548.78 1900.69 1548.04 L1900.69 1543.34 Q1902.77 1544.47 1905 1545.03 Q1907.22 1545.58 1909.69 1545.58 Q1913.7 1545.58 1916.04 1543.48 Q1918.37 1541.37 1918.37 1537.76 Q1918.37 1534.15 1916.04 1532.04 Q1913.7 1529.94 1909.69 1529.94 Q1907.82 1529.94 1905.94 1530.35 Q1904.09 1530.77 1902.15 1531.65 L1902.15 1514.29 Z\" fill=\"#000000\" fill-rule=\"evenodd\" fill-opacity=\"1\" /><path clip-path=\"url(#clip090)\" d=\"M2255.86 1529.7 Q2252.71 1529.7 2250.86 1531.86 Q2249.03 1534.01 2249.03 1537.76 Q2249.03 1541.49 2250.86 1543.66 Q2252.71 1545.82 2255.86 1545.82 Q2259.01 1545.82 2260.84 1543.66 Q2262.69 1541.49 2262.69 1537.76 Q2262.69 1534.01 2260.84 1531.86 Q2259.01 1529.7 2255.86 1529.7 M2265.14 1515.05 L2265.14 1519.31 Q2263.39 1518.48 2261.58 1518.04 Q2259.8 1517.6 2258.04 1517.6 Q2253.41 1517.6 2250.95 1520.72 Q2248.52 1523.85 2248.18 1530.17 Q2249.54 1528.15 2251.6 1527.09 Q2253.66 1526 2256.14 1526 Q2261.35 1526 2264.36 1529.17 Q2267.39 1532.32 2267.39 1537.76 Q2267.39 1543.08 2264.24 1546.3 Q2261.09 1549.52 2255.86 1549.52 Q2249.87 1549.52 2246.7 1544.94 Q2243.52 1540.33 2243.52 1531.6 Q2243.52 1523.41 2247.41 1518.55 Q2251.3 1513.66 2257.85 1513.66 Q2259.61 1513.66 2261.39 1514.01 Q2263.2 1514.36 2265.14 1515.05 Z\" fill=\"#000000\" fill-rule=\"evenodd\" fill-opacity=\"1\" /><polyline clip-path=\"url(#clip092)\" style=\"stroke:#000000; stroke-linecap:round; stroke-linejoin:round; stroke-width:2; stroke-opacity:0.1; fill:none\" points=\"\n",
       "  193.936,1445.72 2352.76,1445.72 \n",
       "  \"/>\n",
       "<polyline clip-path=\"url(#clip092)\" style=\"stroke:#000000; stroke-linecap:round; stroke-linejoin:round; stroke-width:2; stroke-opacity:0.1; fill:none\" points=\"\n",
       "  193.936,1106.28 2352.76,1106.28 \n",
       "  \"/>\n",
       "<polyline clip-path=\"url(#clip092)\" style=\"stroke:#000000; stroke-linecap:round; stroke-linejoin:round; stroke-width:2; stroke-opacity:0.1; fill:none\" points=\"\n",
       "  193.936,766.842 2352.76,766.842 \n",
       "  \"/>\n",
       "<polyline clip-path=\"url(#clip092)\" style=\"stroke:#000000; stroke-linecap:round; stroke-linejoin:round; stroke-width:2; stroke-opacity:0.1; fill:none\" points=\"\n",
       "  193.936,427.405 2352.76,427.405 \n",
       "  \"/>\n",
       "<polyline clip-path=\"url(#clip092)\" style=\"stroke:#000000; stroke-linecap:round; stroke-linejoin:round; stroke-width:2; stroke-opacity:0.1; fill:none\" points=\"\n",
       "  193.936,87.9677 2352.76,87.9677 \n",
       "  \"/>\n",
       "<polyline clip-path=\"url(#clip090)\" style=\"stroke:#000000; stroke-linecap:round; stroke-linejoin:round; stroke-width:4; stroke-opacity:1; fill:none\" points=\"\n",
       "  193.936,1486.45 193.936,47.2441 \n",
       "  \"/>\n",
       "<polyline clip-path=\"url(#clip090)\" style=\"stroke:#000000; stroke-linecap:round; stroke-linejoin:round; stroke-width:4; stroke-opacity:1; fill:none\" points=\"\n",
       "  193.936,1445.72 212.834,1445.72 \n",
       "  \"/>\n",
       "<polyline clip-path=\"url(#clip090)\" style=\"stroke:#000000; stroke-linecap:round; stroke-linejoin:round; stroke-width:4; stroke-opacity:1; fill:none\" points=\"\n",
       "  193.936,1106.28 212.834,1106.28 \n",
       "  \"/>\n",
       "<polyline clip-path=\"url(#clip090)\" style=\"stroke:#000000; stroke-linecap:round; stroke-linejoin:round; stroke-width:4; stroke-opacity:1; fill:none\" points=\"\n",
       "  193.936,766.842 212.834,766.842 \n",
       "  \"/>\n",
       "<polyline clip-path=\"url(#clip090)\" style=\"stroke:#000000; stroke-linecap:round; stroke-linejoin:round; stroke-width:4; stroke-opacity:1; fill:none\" points=\"\n",
       "  193.936,427.405 212.834,427.405 \n",
       "  \"/>\n",
       "<polyline clip-path=\"url(#clip090)\" style=\"stroke:#000000; stroke-linecap:round; stroke-linejoin:round; stroke-width:4; stroke-opacity:1; fill:none\" points=\"\n",
       "  193.936,87.9677 212.834,87.9677 \n",
       "  \"/>\n",
       "<path clip-path=\"url(#clip090)\" d=\"M50.9921 1446.17 L80.6679 1446.17 L80.6679 1450.1 L50.9921 1450.1 L50.9921 1446.17 Z\" fill=\"#000000\" fill-rule=\"evenodd\" fill-opacity=\"1\" /><path clip-path=\"url(#clip090)\" d=\"M91.5706 1459.06 L99.2095 1459.06 L99.2095 1432.7 L90.8993 1434.36 L90.8993 1430.1 L99.1632 1428.44 L103.839 1428.44 L103.839 1459.06 L111.478 1459.06 L111.478 1463 L91.5706 1463 L91.5706 1459.06 Z\" fill=\"#000000\" fill-rule=\"evenodd\" fill-opacity=\"1\" /><path clip-path=\"url(#clip090)\" d=\"M120.922 1457.12 L125.807 1457.12 L125.807 1463 L120.922 1463 L120.922 1457.12 Z\" fill=\"#000000\" fill-rule=\"evenodd\" fill-opacity=\"1\" /><path clip-path=\"url(#clip090)\" d=\"M145.992 1431.52 Q142.381 1431.52 140.552 1435.08 Q138.746 1438.62 138.746 1445.75 Q138.746 1452.86 140.552 1456.42 Q142.381 1459.96 145.992 1459.96 Q149.626 1459.96 151.431 1456.42 Q153.26 1452.86 153.26 1445.75 Q153.26 1438.62 151.431 1435.08 Q149.626 1431.52 145.992 1431.52 M145.992 1427.81 Q151.802 1427.81 154.857 1432.42 Q157.936 1437 157.936 1445.75 Q157.936 1454.48 154.857 1459.09 Q151.802 1463.67 145.992 1463.67 Q140.181 1463.67 137.103 1459.09 Q134.047 1454.48 134.047 1445.75 Q134.047 1437 137.103 1432.42 Q140.181 1427.81 145.992 1427.81 Z\" fill=\"#000000\" fill-rule=\"evenodd\" fill-opacity=\"1\" /><path clip-path=\"url(#clip090)\" d=\"M51.9875 1106.73 L81.6633 1106.73 L81.6633 1110.67 L51.9875 1110.67 L51.9875 1106.73 Z\" fill=\"#000000\" fill-rule=\"evenodd\" fill-opacity=\"1\" /><path clip-path=\"url(#clip090)\" d=\"M101.756 1092.08 Q98.1447 1092.08 96.316 1095.64 Q94.5104 1099.18 94.5104 1106.31 Q94.5104 1113.42 96.316 1116.99 Q98.1447 1120.53 101.756 1120.53 Q105.39 1120.53 107.196 1116.99 Q109.024 1113.42 109.024 1106.31 Q109.024 1099.18 107.196 1095.64 Q105.39 1092.08 101.756 1092.08 M101.756 1088.37 Q107.566 1088.37 110.621 1092.98 Q113.7 1097.56 113.7 1106.31 Q113.7 1115.04 110.621 1119.65 Q107.566 1124.23 101.756 1124.23 Q95.9456 1124.23 92.8669 1119.65 Q89.8114 1115.04 89.8114 1106.31 Q89.8114 1097.56 92.8669 1092.98 Q95.9456 1088.37 101.756 1088.37 Z\" fill=\"#000000\" fill-rule=\"evenodd\" fill-opacity=\"1\" /><path clip-path=\"url(#clip090)\" d=\"M121.918 1117.68 L126.802 1117.68 L126.802 1123.56 L121.918 1123.56 L121.918 1117.68 Z\" fill=\"#000000\" fill-rule=\"evenodd\" fill-opacity=\"1\" /><path clip-path=\"url(#clip090)\" d=\"M137.033 1089 L155.39 1089 L155.39 1092.93 L141.316 1092.93 L141.316 1101.41 Q142.334 1101.06 143.353 1100.9 Q144.371 1100.71 145.39 1100.71 Q151.177 1100.71 154.556 1103.88 Q157.936 1107.06 157.936 1112.47 Q157.936 1118.05 154.464 1121.15 Q150.992 1124.23 144.672 1124.23 Q142.496 1124.23 140.228 1123.86 Q137.982 1123.49 135.575 1122.75 L135.575 1118.05 Q137.658 1119.18 139.881 1119.74 Q142.103 1120.3 144.58 1120.3 Q148.584 1120.3 150.922 1118.19 Q153.26 1116.08 153.26 1112.47 Q153.26 1108.86 150.922 1106.75 Q148.584 1104.65 144.58 1104.65 Q142.705 1104.65 140.83 1105.06 Q138.978 1105.48 137.033 1106.36 L137.033 1089 Z\" fill=\"#000000\" fill-rule=\"evenodd\" fill-opacity=\"1\" /><path clip-path=\"url(#clip090)\" d=\"M100.76 752.641 Q97.1493 752.641 95.3206 756.206 Q93.515 759.748 93.515 766.877 Q93.515 773.984 95.3206 777.548 Q97.1493 781.09 100.76 781.09 Q104.395 781.09 106.2 777.548 Q108.029 773.984 108.029 766.877 Q108.029 759.748 106.2 756.206 Q104.395 752.641 100.76 752.641 M100.76 748.937 Q106.571 748.937 109.626 753.544 Q112.705 758.127 112.705 766.877 Q112.705 775.604 109.626 780.21 Q106.571 784.794 100.76 784.794 Q94.9502 784.794 91.8715 780.21 Q88.816 775.604 88.816 766.877 Q88.816 758.127 91.8715 753.544 Q94.9502 748.937 100.76 748.937 Z\" fill=\"#000000\" fill-rule=\"evenodd\" fill-opacity=\"1\" /><path clip-path=\"url(#clip090)\" d=\"M120.922 778.243 L125.807 778.243 L125.807 784.122 L120.922 784.122 L120.922 778.243 Z\" fill=\"#000000\" fill-rule=\"evenodd\" fill-opacity=\"1\" /><path clip-path=\"url(#clip090)\" d=\"M145.992 752.641 Q142.381 752.641 140.552 756.206 Q138.746 759.748 138.746 766.877 Q138.746 773.984 140.552 777.548 Q142.381 781.09 145.992 781.09 Q149.626 781.09 151.431 777.548 Q153.26 773.984 153.26 766.877 Q153.26 759.748 151.431 756.206 Q149.626 752.641 145.992 752.641 M145.992 748.937 Q151.802 748.937 154.857 753.544 Q157.936 758.127 157.936 766.877 Q157.936 775.604 154.857 780.21 Q151.802 784.794 145.992 784.794 Q140.181 784.794 137.103 780.21 Q134.047 775.604 134.047 766.877 Q134.047 758.127 137.103 753.544 Q140.181 748.937 145.992 748.937 Z\" fill=\"#000000\" fill-rule=\"evenodd\" fill-opacity=\"1\" /><path clip-path=\"url(#clip090)\" d=\"M101.756 413.204 Q98.1447 413.204 96.316 416.769 Q94.5104 420.31 94.5104 427.44 Q94.5104 434.546 96.316 438.111 Q98.1447 441.653 101.756 441.653 Q105.39 441.653 107.196 438.111 Q109.024 434.546 109.024 427.44 Q109.024 420.31 107.196 416.769 Q105.39 413.204 101.756 413.204 M101.756 409.5 Q107.566 409.5 110.621 414.107 Q113.7 418.69 113.7 427.44 Q113.7 436.167 110.621 440.773 Q107.566 445.356 101.756 445.356 Q95.9456 445.356 92.8669 440.773 Q89.8114 436.167 89.8114 427.44 Q89.8114 418.69 92.8669 414.107 Q95.9456 409.5 101.756 409.5 Z\" fill=\"#000000\" fill-rule=\"evenodd\" fill-opacity=\"1\" /><path clip-path=\"url(#clip090)\" d=\"M121.918 438.805 L126.802 438.805 L126.802 444.685 L121.918 444.685 L121.918 438.805 Z\" fill=\"#000000\" fill-rule=\"evenodd\" fill-opacity=\"1\" /><path clip-path=\"url(#clip090)\" d=\"M137.033 410.125 L155.39 410.125 L155.39 414.06 L141.316 414.06 L141.316 422.532 Q142.334 422.185 143.353 422.023 Q144.371 421.838 145.39 421.838 Q151.177 421.838 154.556 425.009 Q157.936 428.181 157.936 433.597 Q157.936 439.176 154.464 442.278 Q150.992 445.356 144.672 445.356 Q142.496 445.356 140.228 444.986 Q137.982 444.616 135.575 443.875 L135.575 439.176 Q137.658 440.31 139.881 440.866 Q142.103 441.421 144.58 441.421 Q148.584 441.421 150.922 439.315 Q153.26 437.208 153.26 433.597 Q153.26 429.986 150.922 427.88 Q148.584 425.773 144.58 425.773 Q142.705 425.773 140.83 426.19 Q138.978 426.606 137.033 427.486 L137.033 410.125 Z\" fill=\"#000000\" fill-rule=\"evenodd\" fill-opacity=\"1\" /><path clip-path=\"url(#clip090)\" d=\"M91.5706 101.313 L99.2095 101.313 L99.2095 74.9469 L90.8993 76.6136 L90.8993 72.3543 L99.1632 70.6877 L103.839 70.6877 L103.839 101.313 L111.478 101.313 L111.478 105.248 L91.5706 105.248 L91.5706 101.313 Z\" fill=\"#000000\" fill-rule=\"evenodd\" fill-opacity=\"1\" /><path clip-path=\"url(#clip090)\" d=\"M120.922 99.3681 L125.807 99.3681 L125.807 105.248 L120.922 105.248 L120.922 99.3681 Z\" fill=\"#000000\" fill-rule=\"evenodd\" fill-opacity=\"1\" /><path clip-path=\"url(#clip090)\" d=\"M145.992 73.7664 Q142.381 73.7664 140.552 77.3312 Q138.746 80.8728 138.746 88.0024 Q138.746 95.1088 140.552 98.6736 Q142.381 102.215 145.992 102.215 Q149.626 102.215 151.431 98.6736 Q153.26 95.1088 153.26 88.0024 Q153.26 80.8728 151.431 77.3312 Q149.626 73.7664 145.992 73.7664 M145.992 70.0627 Q151.802 70.0627 154.857 74.6691 Q157.936 79.2524 157.936 88.0024 Q157.936 96.7292 154.857 101.336 Q151.802 105.919 145.992 105.919 Q140.181 105.919 137.103 101.336 Q134.047 96.7292 134.047 88.0024 Q134.047 79.2524 137.103 74.6691 Q140.181 70.0627 145.992 70.0627 Z\" fill=\"#000000\" fill-rule=\"evenodd\" fill-opacity=\"1\" /><polyline clip-path=\"url(#clip092)\" style=\"stroke:#009af9; stroke-linecap:round; stroke-linejoin:round; stroke-width:4; stroke-opacity:1; fill:none\" points=\"\n",
       "  193.936,766.842 200.964,752.958 207.991,739.079 240.481,675.158 272.971,612.055 305.461,550.336 337.951,490.551 357.476,455.777 377.001,422.007 396.526,389.35 \n",
       "  416.051,357.912 432.559,332.358 449.068,307.807 465.576,284.315 482.084,261.937 500.016,238.95 517.949,217.401 535.882,197.348 553.814,178.846 570.346,163.206 \n",
       "  586.879,148.964 603.411,136.152 619.943,124.8 637.667,114.28 655.392,105.497 673.116,98.4736 690.84,93.2282 711.375,89.3926 731.911,87.9763 752.446,88.9842 \n",
       "  772.981,92.4129 791.231,97.4816 809.48,104.438 827.73,113.263 845.979,123.932 861.982,134.78 877.985,147 893.988,160.564 909.991,175.443 927.439,193.125 \n",
       "  944.886,212.287 962.334,232.878 979.782,254.846 997.333,278.276 1014.88,302.981 1032.44,328.896 1049.99,355.953 1069.39,387.114 1088.8,419.485 1108.2,452.964 \n",
       "  1127.61,487.444 1164.54,555.425 1201.46,625.845 1278.25,776.539 1342.9,903.325 1382.36,978.634 1421.82,1051.15 1439.89,1083.17 1457.96,1114.32 1476.04,1144.5 \n",
       "  1494.11,1173.64 1510.81,1199.56 1527.5,1224.45 1544.19,1248.26 1560.88,1270.94 1577.79,1292.7 1594.7,1313.18 1611.61,1332.35 1628.52,1350.14 1647.47,1368.4 \n",
       "  1666.42,1384.83 1685.37,1399.38 1704.32,1412.01 1721.5,1421.76 1738.67,1429.87 1755.84,1436.33 1773.01,1441.11 1792.67,1444.52 1812.33,1445.72 1831.99,1444.69 \n",
       "  1851.66,1441.44 1869.86,1436.46 1888.06,1429.6 1906.27,1420.88 1924.47,1410.33 1942.42,1398.16 1960.37,1384.27 1978.32,1368.69 1996.26,1351.47 2013.69,1333.22 \n",
       "  2031.11,1313.52 2048.54,1292.41 2065.96,1269.95 2083.83,1245.59 2101.69,1219.93 2119.55,1193.04 2137.42,1165 2156.99,1133.06 2176.56,1099.92 2196.13,1065.7 \n",
       "  2215.7,1030.51 2272.56,923.854 2329.43,812.904 2341.09,789.887 2352.76,766.842 \n",
       "  \"/>\n",
       "<path clip-path=\"url(#clip090)\" d=\"\n",
       "M1741.72 198.898 L2280.8 198.898 L2280.8 95.2176 L1741.72 95.2176  Z\n",
       "  \" fill=\"#ffffff\" fill-rule=\"evenodd\" fill-opacity=\"1\"/>\n",
       "<polyline clip-path=\"url(#clip090)\" style=\"stroke:#000000; stroke-linecap:round; stroke-linejoin:round; stroke-width:4; stroke-opacity:1; fill:none\" points=\"\n",
       "  1741.72,198.898 2280.8,198.898 2280.8,95.2176 1741.72,95.2176 1741.72,198.898 \n",
       "  \"/>\n",
       "<polyline clip-path=\"url(#clip090)\" style=\"stroke:#009af9; stroke-linecap:round; stroke-linejoin:round; stroke-width:4; stroke-opacity:1; fill:none\" points=\"\n",
       "  1765.7,147.058 1909.62,147.058 \n",
       "  \"/>\n",
       "<path clip-path=\"url(#clip090)\" d=\"M1952.04 139.176 L1952.04 143.203 Q1950.23 142.277 1948.29 141.815 Q1946.34 141.352 1944.26 141.352 Q1941.09 141.352 1939.49 142.324 Q1937.92 143.296 1937.92 145.24 Q1937.92 146.722 1939.05 147.578 Q1940.18 148.412 1943.61 149.176 L1945.07 149.5 Q1949.61 150.472 1951.5 152.254 Q1953.42 154.014 1953.42 157.185 Q1953.42 160.796 1950.55 162.902 Q1947.71 165.009 1942.71 165.009 Q1940.62 165.009 1938.36 164.592 Q1936.11 164.199 1933.61 163.388 L1933.61 158.99 Q1935.97 160.217 1938.26 160.842 Q1940.55 161.444 1942.8 161.444 Q1945.81 161.444 1947.43 160.426 Q1949.05 159.384 1949.05 157.509 Q1949.05 155.773 1947.87 154.847 Q1946.71 153.921 1942.75 153.064 L1941.27 152.717 Q1937.31 151.884 1935.55 150.171 Q1933.8 148.435 1933.8 145.426 Q1933.8 141.768 1936.39 139.778 Q1938.98 137.787 1943.75 137.787 Q1946.11 137.787 1948.19 138.134 Q1950.28 138.481 1952.04 139.176 Z\" fill=\"#000000\" fill-rule=\"evenodd\" fill-opacity=\"1\" /><path clip-path=\"url(#clip090)\" d=\"M1960.21 138.412 L1964.47 138.412 L1964.47 164.338 L1960.21 164.338 L1960.21 138.412 M1960.21 128.319 L1964.47 128.319 L1964.47 133.713 L1960.21 133.713 L1960.21 128.319 Z\" fill=\"#000000\" fill-rule=\"evenodd\" fill-opacity=\"1\" /><path clip-path=\"url(#clip090)\" d=\"M1994.93 148.689 L1994.93 164.338 L1990.67 164.338 L1990.67 148.828 Q1990.67 145.148 1989.23 143.319 Q1987.8 141.49 1984.93 141.49 Q1981.48 141.49 1979.49 143.69 Q1977.5 145.889 1977.5 149.685 L1977.5 164.338 L1973.22 164.338 L1973.22 138.412 L1977.5 138.412 L1977.5 142.44 Q1979.03 140.102 1981.09 138.944 Q1983.17 137.787 1985.88 137.787 Q1990.35 137.787 1992.64 140.565 Q1994.93 143.319 1994.93 148.689 Z\" fill=\"#000000\" fill-rule=\"evenodd\" fill-opacity=\"1\" /><path clip-path=\"url(#clip090)\" d=\"M2025.6 150.31 L2025.6 152.393 L2006.02 152.393 Q2006.29 156.791 2008.66 159.106 Q2011.04 161.398 2015.28 161.398 Q2017.73 161.398 2020.02 160.796 Q2022.34 160.194 2024.6 158.99 L2024.6 163.018 Q2022.31 163.99 2019.91 164.5 Q2017.5 165.009 2015.02 165.009 Q2008.82 165.009 2005.18 161.398 Q2001.57 157.787 2001.57 151.629 Q2001.57 145.264 2005 141.537 Q2008.45 137.787 2014.28 137.787 Q2019.51 137.787 2022.54 141.166 Q2025.6 144.523 2025.6 150.31 M2021.34 149.06 Q2021.29 145.565 2019.37 143.481 Q2017.48 141.398 2014.33 141.398 Q2010.76 141.398 2008.61 143.412 Q2006.48 145.426 2006.16 149.083 L2021.34 149.06 Z\" fill=\"#000000\" fill-rule=\"evenodd\" fill-opacity=\"1\" /><path clip-path=\"url(#clip090)\" d=\"M2060.79 128.319 L2060.79 131.861 L2056.71 131.861 Q2054.42 131.861 2053.52 132.787 Q2052.64 133.713 2052.64 136.12 L2052.64 138.412 L2059.65 138.412 L2059.65 141.722 L2052.64 141.722 L2052.64 164.338 L2048.35 164.338 L2048.35 141.722 L2044.28 141.722 L2044.28 138.412 L2048.35 138.412 L2048.35 136.606 Q2048.35 132.278 2050.37 130.31 Q2052.38 128.319 2056.76 128.319 L2060.79 128.319 Z\" fill=\"#000000\" fill-rule=\"evenodd\" fill-opacity=\"1\" /><path clip-path=\"url(#clip090)\" d=\"M2063.91 154.106 L2063.91 138.412 L2068.17 138.412 L2068.17 153.944 Q2068.17 157.625 2069.6 159.476 Q2071.04 161.305 2073.91 161.305 Q2077.36 161.305 2079.35 159.106 Q2081.36 156.907 2081.36 153.111 L2081.36 138.412 L2085.62 138.412 L2085.62 164.338 L2081.36 164.338 L2081.36 160.356 Q2079.81 162.717 2077.75 163.875 Q2075.72 165.009 2073.01 165.009 Q2068.54 165.009 2066.23 162.231 Q2063.91 159.453 2063.91 154.106 M2074.63 137.787 L2074.63 137.787 Z\" fill=\"#000000\" fill-rule=\"evenodd\" fill-opacity=\"1\" /><path clip-path=\"url(#clip090)\" d=\"M2115.95 148.689 L2115.95 164.338 L2111.69 164.338 L2111.69 148.828 Q2111.69 145.148 2110.25 143.319 Q2108.82 141.49 2105.95 141.49 Q2102.5 141.49 2100.51 143.69 Q2098.52 145.889 2098.52 149.685 L2098.52 164.338 L2094.23 164.338 L2094.23 138.412 L2098.52 138.412 L2098.52 142.44 Q2100.04 140.102 2102.1 138.944 Q2104.19 137.787 2106.9 137.787 Q2111.36 137.787 2113.66 140.565 Q2115.95 143.319 2115.95 148.689 Z\" fill=\"#000000\" fill-rule=\"evenodd\" fill-opacity=\"1\" /><path clip-path=\"url(#clip090)\" d=\"M2143.1 139.407 L2143.1 143.389 Q2141.29 142.393 2139.47 141.907 Q2137.66 141.398 2135.81 141.398 Q2131.66 141.398 2129.37 144.037 Q2127.08 146.652 2127.08 151.398 Q2127.08 156.143 2129.37 158.782 Q2131.66 161.398 2135.81 161.398 Q2137.66 161.398 2139.47 160.912 Q2141.29 160.402 2143.1 159.407 L2143.1 163.342 Q2141.32 164.176 2139.4 164.592 Q2137.5 165.009 2135.35 165.009 Q2129.49 165.009 2126.04 161.328 Q2122.59 157.648 2122.59 151.398 Q2122.59 145.055 2126.06 141.421 Q2129.56 137.787 2135.62 137.787 Q2137.59 137.787 2139.47 138.203 Q2141.34 138.597 2143.1 139.407 Z\" fill=\"#000000\" fill-rule=\"evenodd\" fill-opacity=\"1\" /><path clip-path=\"url(#clip090)\" d=\"M2154.72 131.051 L2154.72 138.412 L2163.49 138.412 L2163.49 141.722 L2154.72 141.722 L2154.72 155.796 Q2154.72 158.967 2155.58 159.87 Q2156.46 160.773 2159.12 160.773 L2163.49 160.773 L2163.49 164.338 L2159.12 164.338 Q2154.19 164.338 2152.31 162.509 Q2150.44 160.657 2150.44 155.796 L2150.44 141.722 L2147.31 141.722 L2147.31 138.412 L2150.44 138.412 L2150.44 131.051 L2154.72 131.051 Z\" fill=\"#000000\" fill-rule=\"evenodd\" fill-opacity=\"1\" /><path clip-path=\"url(#clip090)\" d=\"M2169.09 138.412 L2173.35 138.412 L2173.35 164.338 L2169.09 164.338 L2169.09 138.412 M2169.09 128.319 L2173.35 128.319 L2173.35 133.713 L2169.09 133.713 L2169.09 128.319 Z\" fill=\"#000000\" fill-rule=\"evenodd\" fill-opacity=\"1\" /><path clip-path=\"url(#clip090)\" d=\"M2192.31 141.398 Q2188.89 141.398 2186.9 144.083 Q2184.91 146.745 2184.91 151.398 Q2184.91 156.051 2186.87 158.736 Q2188.86 161.398 2192.31 161.398 Q2195.72 161.398 2197.71 158.713 Q2199.7 156.027 2199.7 151.398 Q2199.7 146.791 2197.71 144.106 Q2195.72 141.398 2192.31 141.398 M2192.31 137.787 Q2197.87 137.787 2201.04 141.398 Q2204.21 145.009 2204.21 151.398 Q2204.21 157.764 2201.04 161.398 Q2197.87 165.009 2192.31 165.009 Q2186.73 165.009 2183.56 161.398 Q2180.41 157.764 2180.41 151.398 Q2180.41 145.009 2183.56 141.398 Q2186.73 137.787 2192.31 137.787 Z\" fill=\"#000000\" fill-rule=\"evenodd\" fill-opacity=\"1\" /><path clip-path=\"url(#clip090)\" d=\"M2232.82 148.689 L2232.82 164.338 L2228.56 164.338 L2228.56 148.828 Q2228.56 145.148 2227.13 143.319 Q2225.69 141.49 2222.82 141.49 Q2219.37 141.49 2217.38 143.69 Q2215.39 145.889 2215.39 149.685 L2215.39 164.338 L2211.11 164.338 L2211.11 138.412 L2215.39 138.412 L2215.39 142.44 Q2216.92 140.102 2218.98 138.944 Q2221.06 137.787 2223.77 137.787 Q2228.24 137.787 2230.53 140.565 Q2232.82 143.319 2232.82 148.689 Z\" fill=\"#000000\" fill-rule=\"evenodd\" fill-opacity=\"1\" /></svg>\n"
      ]
     },
     "metadata": {},
     "output_type": "display_data"
    },
    {
     "data": {
      "image/svg+xml": [
       "<?xml version=\"1.0\" encoding=\"utf-8\"?>\n",
       "<svg xmlns=\"http://www.w3.org/2000/svg\" xmlns:xlink=\"http://www.w3.org/1999/xlink\" width=\"600\" height=\"400\" viewBox=\"0 0 2400 1600\">\n",
       "<defs>\n",
       "  <clipPath id=\"clip130\">\n",
       "    <rect x=\"0\" y=\"0\" width=\"2400\" height=\"1600\"/>\n",
       "  </clipPath>\n",
       "</defs>\n",
       "<path clip-path=\"url(#clip130)\" d=\"\n",
       "M0 1600 L2400 1600 L2400 0 L0 0  Z\n",
       "  \" fill=\"#ffffff\" fill-rule=\"evenodd\" fill-opacity=\"1\"/>\n",
       "<defs>\n",
       "  <clipPath id=\"clip131\">\n",
       "    <rect x=\"480\" y=\"0\" width=\"1681\" height=\"1600\"/>\n",
       "  </clipPath>\n",
       "</defs>\n",
       "<defs>\n",
       "  <clipPath id=\"clip132\">\n",
       "    <rect x=\"193\" y=\"47\" width=\"2160\" height=\"1440\"/>\n",
       "  </clipPath>\n",
       "</defs>\n",
       "<path clip-path=\"url(#clip130)\" d=\"\n",
       "M193.936 1486.45 L2352.76 1486.45 L2352.76 47.2441 L193.936 47.2441  Z\n",
       "  \" fill=\"#ffffff\" fill-rule=\"evenodd\" fill-opacity=\"1\"/>\n",
       "<polyline clip-path=\"url(#clip132)\" style=\"stroke:#000000; stroke-linecap:round; stroke-linejoin:round; stroke-width:2; stroke-opacity:0.1; fill:none\" points=\"\n",
       "  458.697,1486.45 458.697,47.2441 \n",
       "  \"/>\n",
       "<polyline clip-path=\"url(#clip132)\" style=\"stroke:#000000; stroke-linecap:round; stroke-linejoin:round; stroke-width:2; stroke-opacity:0.1; fill:none\" points=\"\n",
       "  866.021,1486.45 866.021,47.2441 \n",
       "  \"/>\n",
       "<polyline clip-path=\"url(#clip132)\" style=\"stroke:#000000; stroke-linecap:round; stroke-linejoin:round; stroke-width:2; stroke-opacity:0.1; fill:none\" points=\"\n",
       "  1273.35,1486.45 1273.35,47.2441 \n",
       "  \"/>\n",
       "<polyline clip-path=\"url(#clip132)\" style=\"stroke:#000000; stroke-linecap:round; stroke-linejoin:round; stroke-width:2; stroke-opacity:0.1; fill:none\" points=\"\n",
       "  1680.67,1486.45 1680.67,47.2441 \n",
       "  \"/>\n",
       "<polyline clip-path=\"url(#clip132)\" style=\"stroke:#000000; stroke-linecap:round; stroke-linejoin:round; stroke-width:2; stroke-opacity:0.1; fill:none\" points=\"\n",
       "  2087.99,1486.45 2087.99,47.2441 \n",
       "  \"/>\n",
       "<polyline clip-path=\"url(#clip130)\" style=\"stroke:#000000; stroke-linecap:round; stroke-linejoin:round; stroke-width:4; stroke-opacity:1; fill:none\" points=\"\n",
       "  193.936,1486.45 2352.76,1486.45 \n",
       "  \"/>\n",
       "<polyline clip-path=\"url(#clip130)\" style=\"stroke:#000000; stroke-linecap:round; stroke-linejoin:round; stroke-width:4; stroke-opacity:1; fill:none\" points=\"\n",
       "  458.697,1486.45 458.697,1467.55 \n",
       "  \"/>\n",
       "<polyline clip-path=\"url(#clip130)\" style=\"stroke:#000000; stroke-linecap:round; stroke-linejoin:round; stroke-width:4; stroke-opacity:1; fill:none\" points=\"\n",
       "  866.021,1486.45 866.021,1467.55 \n",
       "  \"/>\n",
       "<polyline clip-path=\"url(#clip130)\" style=\"stroke:#000000; stroke-linecap:round; stroke-linejoin:round; stroke-width:4; stroke-opacity:1; fill:none\" points=\"\n",
       "  1273.35,1486.45 1273.35,1467.55 \n",
       "  \"/>\n",
       "<polyline clip-path=\"url(#clip130)\" style=\"stroke:#000000; stroke-linecap:round; stroke-linejoin:round; stroke-width:4; stroke-opacity:1; fill:none\" points=\"\n",
       "  1680.67,1486.45 1680.67,1467.55 \n",
       "  \"/>\n",
       "<polyline clip-path=\"url(#clip130)\" style=\"stroke:#000000; stroke-linecap:round; stroke-linejoin:round; stroke-width:4; stroke-opacity:1; fill:none\" points=\"\n",
       "  2087.99,1486.45 2087.99,1467.55 \n",
       "  \"/>\n",
       "<path clip-path=\"url(#clip130)\" d=\"M427.598 1532.02 L457.273 1532.02 L457.273 1535.95 L427.598 1535.95 L427.598 1532.02 Z\" fill=\"#000000\" fill-rule=\"evenodd\" fill-opacity=\"1\" /><path clip-path=\"url(#clip130)\" d=\"M480.213 1518.36 L468.408 1536.81 L480.213 1536.81 L480.213 1518.36 M478.986 1514.29 L484.866 1514.29 L484.866 1536.81 L489.796 1536.81 L489.796 1540.7 L484.866 1540.7 L484.866 1548.85 L480.213 1548.85 L480.213 1540.7 L464.611 1540.7 L464.611 1536.19 L478.986 1514.29 Z\" fill=\"#000000\" fill-rule=\"evenodd\" fill-opacity=\"1\" /><path clip-path=\"url(#clip130)\" d=\"M835.964 1532.02 L865.639 1532.02 L865.639 1535.95 L835.964 1535.95 L835.964 1532.02 Z\" fill=\"#000000\" fill-rule=\"evenodd\" fill-opacity=\"1\" /><path clip-path=\"url(#clip130)\" d=\"M879.76 1544.91 L896.079 1544.91 L896.079 1548.85 L874.135 1548.85 L874.135 1544.91 Q876.797 1542.16 881.38 1537.53 Q885.987 1532.88 887.167 1531.53 Q889.413 1529.01 890.292 1527.27 Q891.195 1525.51 891.195 1523.82 Q891.195 1521.07 889.25 1519.33 Q887.329 1517.6 884.227 1517.6 Q882.028 1517.6 879.575 1518.36 Q877.144 1519.13 874.366 1520.68 L874.366 1515.95 Q877.19 1514.82 879.644 1514.24 Q882.098 1513.66 884.135 1513.66 Q889.505 1513.66 892.7 1516.35 Q895.894 1519.03 895.894 1523.52 Q895.894 1525.65 895.084 1527.57 Q894.297 1529.47 892.19 1532.07 Q891.612 1532.74 888.51 1535.95 Q885.408 1539.15 879.76 1544.91 Z\" fill=\"#000000\" fill-rule=\"evenodd\" fill-opacity=\"1\" /><path clip-path=\"url(#clip130)\" d=\"M1273.35 1517.37 Q1269.73 1517.37 1267.91 1520.93 Q1266.1 1524.47 1266.1 1531.6 Q1266.1 1538.71 1267.91 1542.27 Q1269.73 1545.82 1273.35 1545.82 Q1276.98 1545.82 1278.79 1542.27 Q1280.61 1538.71 1280.61 1531.6 Q1280.61 1524.47 1278.79 1520.93 Q1276.98 1517.37 1273.35 1517.37 M1273.35 1513.66 Q1279.16 1513.66 1282.21 1518.27 Q1285.29 1522.85 1285.29 1531.6 Q1285.29 1540.33 1282.21 1544.94 Q1279.16 1549.52 1273.35 1549.52 Q1267.54 1549.52 1264.46 1544.94 Q1261.4 1540.33 1261.4 1531.6 Q1261.4 1522.85 1264.46 1518.27 Q1267.54 1513.66 1273.35 1513.66 Z\" fill=\"#000000\" fill-rule=\"evenodd\" fill-opacity=\"1\" /><path clip-path=\"url(#clip130)\" d=\"M1675.32 1544.91 L1691.64 1544.91 L1691.64 1548.85 L1669.7 1548.85 L1669.7 1544.91 Q1672.36 1542.16 1676.94 1537.53 Q1681.55 1532.88 1682.73 1531.53 Q1684.98 1529.01 1685.86 1527.27 Q1686.76 1525.51 1686.76 1523.82 Q1686.76 1521.07 1684.81 1519.33 Q1682.89 1517.6 1679.79 1517.6 Q1677.59 1517.6 1675.14 1518.36 Q1672.71 1519.13 1669.93 1520.68 L1669.93 1515.95 Q1672.75 1514.82 1675.21 1514.24 Q1677.66 1513.66 1679.7 1513.66 Q1685.07 1513.66 1688.26 1516.35 Q1691.46 1519.03 1691.46 1523.52 Q1691.46 1525.65 1690.65 1527.57 Q1689.86 1529.47 1687.75 1532.07 Q1687.18 1532.74 1684.07 1535.95 Q1680.97 1539.15 1675.32 1544.91 Z\" fill=\"#000000\" fill-rule=\"evenodd\" fill-opacity=\"1\" /><path clip-path=\"url(#clip130)\" d=\"M2091 1518.36 L2079.2 1536.81 L2091 1536.81 L2091 1518.36 M2089.78 1514.29 L2095.66 1514.29 L2095.66 1536.81 L2100.59 1536.81 L2100.59 1540.7 L2095.66 1540.7 L2095.66 1548.85 L2091 1548.85 L2091 1540.7 L2075.4 1540.7 L2075.4 1536.19 L2089.78 1514.29 Z\" fill=\"#000000\" fill-rule=\"evenodd\" fill-opacity=\"1\" /><polyline clip-path=\"url(#clip132)\" style=\"stroke:#000000; stroke-linecap:round; stroke-linejoin:round; stroke-width:2; stroke-opacity:0.1; fill:none\" points=\"\n",
       "  193.936,1445.72 2352.76,1445.72 \n",
       "  \"/>\n",
       "<polyline clip-path=\"url(#clip132)\" style=\"stroke:#000000; stroke-linecap:round; stroke-linejoin:round; stroke-width:2; stroke-opacity:0.1; fill:none\" points=\"\n",
       "  193.936,1106.24 2352.76,1106.24 \n",
       "  \"/>\n",
       "<polyline clip-path=\"url(#clip132)\" style=\"stroke:#000000; stroke-linecap:round; stroke-linejoin:round; stroke-width:2; stroke-opacity:0.1; fill:none\" points=\"\n",
       "  193.936,766.766 2352.76,766.766 \n",
       "  \"/>\n",
       "<polyline clip-path=\"url(#clip132)\" style=\"stroke:#000000; stroke-linecap:round; stroke-linejoin:round; stroke-width:2; stroke-opacity:0.1; fill:none\" points=\"\n",
       "  193.936,427.291 2352.76,427.291 \n",
       "  \"/>\n",
       "<polyline clip-path=\"url(#clip132)\" style=\"stroke:#000000; stroke-linecap:round; stroke-linejoin:round; stroke-width:2; stroke-opacity:0.1; fill:none\" points=\"\n",
       "  193.936,87.816 2352.76,87.816 \n",
       "  \"/>\n",
       "<polyline clip-path=\"url(#clip130)\" style=\"stroke:#000000; stroke-linecap:round; stroke-linejoin:round; stroke-width:4; stroke-opacity:1; fill:none\" points=\"\n",
       "  193.936,1486.45 193.936,47.2441 \n",
       "  \"/>\n",
       "<polyline clip-path=\"url(#clip130)\" style=\"stroke:#000000; stroke-linecap:round; stroke-linejoin:round; stroke-width:4; stroke-opacity:1; fill:none\" points=\"\n",
       "  193.936,1445.72 212.834,1445.72 \n",
       "  \"/>\n",
       "<polyline clip-path=\"url(#clip130)\" style=\"stroke:#000000; stroke-linecap:round; stroke-linejoin:round; stroke-width:4; stroke-opacity:1; fill:none\" points=\"\n",
       "  193.936,1106.24 212.834,1106.24 \n",
       "  \"/>\n",
       "<polyline clip-path=\"url(#clip130)\" style=\"stroke:#000000; stroke-linecap:round; stroke-linejoin:round; stroke-width:4; stroke-opacity:1; fill:none\" points=\"\n",
       "  193.936,766.766 212.834,766.766 \n",
       "  \"/>\n",
       "<polyline clip-path=\"url(#clip130)\" style=\"stroke:#000000; stroke-linecap:round; stroke-linejoin:round; stroke-width:4; stroke-opacity:1; fill:none\" points=\"\n",
       "  193.936,427.291 212.834,427.291 \n",
       "  \"/>\n",
       "<polyline clip-path=\"url(#clip130)\" style=\"stroke:#000000; stroke-linecap:round; stroke-linejoin:round; stroke-width:4; stroke-opacity:1; fill:none\" points=\"\n",
       "  193.936,87.816 212.834,87.816 \n",
       "  \"/>\n",
       "<path clip-path=\"url(#clip130)\" d=\"M50.9921 1446.17 L80.6679 1446.17 L80.6679 1450.1 L50.9921 1450.1 L50.9921 1446.17 Z\" fill=\"#000000\" fill-rule=\"evenodd\" fill-opacity=\"1\" /><path clip-path=\"url(#clip130)\" d=\"M91.5706 1459.06 L99.2095 1459.06 L99.2095 1432.69 L90.8993 1434.36 L90.8993 1430.1 L99.1632 1428.44 L103.839 1428.44 L103.839 1459.06 L111.478 1459.06 L111.478 1463 L91.5706 1463 L91.5706 1459.06 Z\" fill=\"#000000\" fill-rule=\"evenodd\" fill-opacity=\"1\" /><path clip-path=\"url(#clip130)\" d=\"M120.922 1457.12 L125.807 1457.12 L125.807 1463 L120.922 1463 L120.922 1457.12 Z\" fill=\"#000000\" fill-rule=\"evenodd\" fill-opacity=\"1\" /><path clip-path=\"url(#clip130)\" d=\"M145.992 1431.51 Q142.381 1431.51 140.552 1435.08 Q138.746 1438.62 138.746 1445.75 Q138.746 1452.86 140.552 1456.42 Q142.381 1459.96 145.992 1459.96 Q149.626 1459.96 151.431 1456.42 Q153.26 1452.86 153.26 1445.75 Q153.26 1438.62 151.431 1435.08 Q149.626 1431.51 145.992 1431.51 M145.992 1427.81 Q151.802 1427.81 154.857 1432.42 Q157.936 1437 157.936 1445.75 Q157.936 1454.48 154.857 1459.08 Q151.802 1463.67 145.992 1463.67 Q140.181 1463.67 137.103 1459.08 Q134.047 1454.48 134.047 1445.75 Q134.047 1437 137.103 1432.42 Q140.181 1427.81 145.992 1427.81 Z\" fill=\"#000000\" fill-rule=\"evenodd\" fill-opacity=\"1\" /><path clip-path=\"url(#clip130)\" d=\"M51.9875 1106.69 L81.6633 1106.69 L81.6633 1110.63 L51.9875 1110.63 L51.9875 1106.69 Z\" fill=\"#000000\" fill-rule=\"evenodd\" fill-opacity=\"1\" /><path clip-path=\"url(#clip130)\" d=\"M101.756 1092.04 Q98.1447 1092.04 96.316 1095.6 Q94.5104 1099.15 94.5104 1106.28 Q94.5104 1113.38 96.316 1116.95 Q98.1447 1120.49 101.756 1120.49 Q105.39 1120.49 107.196 1116.95 Q109.024 1113.38 109.024 1106.28 Q109.024 1099.15 107.196 1095.6 Q105.39 1092.04 101.756 1092.04 M101.756 1088.34 Q107.566 1088.34 110.621 1092.94 Q113.7 1097.53 113.7 1106.28 Q113.7 1115 110.621 1119.61 Q107.566 1124.19 101.756 1124.19 Q95.9456 1124.19 92.8669 1119.61 Q89.8114 1115 89.8114 1106.28 Q89.8114 1097.53 92.8669 1092.94 Q95.9456 1088.34 101.756 1088.34 Z\" fill=\"#000000\" fill-rule=\"evenodd\" fill-opacity=\"1\" /><path clip-path=\"url(#clip130)\" d=\"M121.918 1117.64 L126.802 1117.64 L126.802 1123.52 L121.918 1123.52 L121.918 1117.64 Z\" fill=\"#000000\" fill-rule=\"evenodd\" fill-opacity=\"1\" /><path clip-path=\"url(#clip130)\" d=\"M137.033 1088.96 L155.39 1088.96 L155.39 1092.9 L141.316 1092.9 L141.316 1101.37 Q142.334 1101.02 143.353 1100.86 Q144.371 1100.67 145.39 1100.67 Q151.177 1100.67 154.556 1103.84 Q157.936 1107.02 157.936 1112.43 Q157.936 1118.01 154.464 1121.11 Q150.992 1124.19 144.672 1124.19 Q142.496 1124.19 140.228 1123.82 Q137.982 1123.45 135.575 1122.71 L135.575 1118.01 Q137.658 1119.15 139.881 1119.7 Q142.103 1120.26 144.58 1120.26 Q148.584 1120.26 150.922 1118.15 Q153.26 1116.04 153.26 1112.43 Q153.26 1108.82 150.922 1106.72 Q148.584 1104.61 144.58 1104.61 Q142.705 1104.61 140.83 1105.03 Q138.978 1105.44 137.033 1106.32 L137.033 1088.96 Z\" fill=\"#000000\" fill-rule=\"evenodd\" fill-opacity=\"1\" /><path clip-path=\"url(#clip130)\" d=\"M100.76 752.565 Q97.1493 752.565 95.3206 756.129 Q93.515 759.671 93.515 766.801 Q93.515 773.907 95.3206 777.472 Q97.1493 781.013 100.76 781.013 Q104.395 781.013 106.2 777.472 Q108.029 773.907 108.029 766.801 Q108.029 759.671 106.2 756.129 Q104.395 752.565 100.76 752.565 M100.76 748.861 Q106.571 748.861 109.626 753.467 Q112.705 758.051 112.705 766.801 Q112.705 775.527 109.626 780.134 Q106.571 784.717 100.76 784.717 Q94.9502 784.717 91.8715 780.134 Q88.816 775.527 88.816 766.801 Q88.816 758.051 91.8715 753.467 Q94.9502 748.861 100.76 748.861 Z\" fill=\"#000000\" fill-rule=\"evenodd\" fill-opacity=\"1\" /><path clip-path=\"url(#clip130)\" d=\"M120.922 778.166 L125.807 778.166 L125.807 784.046 L120.922 784.046 L120.922 778.166 Z\" fill=\"#000000\" fill-rule=\"evenodd\" fill-opacity=\"1\" /><path clip-path=\"url(#clip130)\" d=\"M145.992 752.565 Q142.381 752.565 140.552 756.129 Q138.746 759.671 138.746 766.801 Q138.746 773.907 140.552 777.472 Q142.381 781.013 145.992 781.013 Q149.626 781.013 151.431 777.472 Q153.26 773.907 153.26 766.801 Q153.26 759.671 151.431 756.129 Q149.626 752.565 145.992 752.565 M145.992 748.861 Q151.802 748.861 154.857 753.467 Q157.936 758.051 157.936 766.801 Q157.936 775.527 154.857 780.134 Q151.802 784.717 145.992 784.717 Q140.181 784.717 137.103 780.134 Q134.047 775.527 134.047 766.801 Q134.047 758.051 137.103 753.467 Q140.181 748.861 145.992 748.861 Z\" fill=\"#000000\" fill-rule=\"evenodd\" fill-opacity=\"1\" /><path clip-path=\"url(#clip130)\" d=\"M101.756 413.09 Q98.1447 413.09 96.316 416.654 Q94.5104 420.196 94.5104 427.326 Q94.5104 434.432 96.316 437.997 Q98.1447 441.539 101.756 441.539 Q105.39 441.539 107.196 437.997 Q109.024 434.432 109.024 427.326 Q109.024 420.196 107.196 416.654 Q105.39 413.09 101.756 413.09 M101.756 409.386 Q107.566 409.386 110.621 413.992 Q113.7 418.576 113.7 427.326 Q113.7 436.052 110.621 440.659 Q107.566 445.242 101.756 445.242 Q95.9456 445.242 92.8669 440.659 Q89.8114 436.052 89.8114 427.326 Q89.8114 418.576 92.8669 413.992 Q95.9456 409.386 101.756 409.386 Z\" fill=\"#000000\" fill-rule=\"evenodd\" fill-opacity=\"1\" /><path clip-path=\"url(#clip130)\" d=\"M121.918 438.691 L126.802 438.691 L126.802 444.571 L121.918 444.571 L121.918 438.691 Z\" fill=\"#000000\" fill-rule=\"evenodd\" fill-opacity=\"1\" /><path clip-path=\"url(#clip130)\" d=\"M137.033 410.011 L155.39 410.011 L155.39 413.946 L141.316 413.946 L141.316 422.418 Q142.334 422.071 143.353 421.909 Q144.371 421.724 145.39 421.724 Q151.177 421.724 154.556 424.895 Q157.936 428.066 157.936 433.483 Q157.936 439.062 154.464 442.164 Q150.992 445.242 144.672 445.242 Q142.496 445.242 140.228 444.872 Q137.982 444.501 135.575 443.761 L135.575 439.062 Q137.658 440.196 139.881 440.751 Q142.103 441.307 144.58 441.307 Q148.584 441.307 150.922 439.201 Q153.26 437.094 153.26 433.483 Q153.26 429.872 150.922 427.765 Q148.584 425.659 144.58 425.659 Q142.705 425.659 140.83 426.076 Q138.978 426.492 137.033 427.372 L137.033 410.011 Z\" fill=\"#000000\" fill-rule=\"evenodd\" fill-opacity=\"1\" /><path clip-path=\"url(#clip130)\" d=\"M91.5706 101.161 L99.2095 101.161 L99.2095 74.7952 L90.8993 76.4619 L90.8993 72.2026 L99.1632 70.536 L103.839 70.536 L103.839 101.161 L111.478 101.161 L111.478 105.096 L91.5706 105.096 L91.5706 101.161 Z\" fill=\"#000000\" fill-rule=\"evenodd\" fill-opacity=\"1\" /><path clip-path=\"url(#clip130)\" d=\"M120.922 99.2164 L125.807 99.2164 L125.807 105.096 L120.922 105.096 L120.922 99.2164 Z\" fill=\"#000000\" fill-rule=\"evenodd\" fill-opacity=\"1\" /><path clip-path=\"url(#clip130)\" d=\"M145.992 73.6147 Q142.381 73.6147 140.552 77.1795 Q138.746 80.7211 138.746 87.8507 Q138.746 94.9571 140.552 98.5219 Q142.381 102.064 145.992 102.064 Q149.626 102.064 151.431 98.5219 Q153.26 94.9571 153.26 87.8507 Q153.26 80.7211 151.431 77.1795 Q149.626 73.6147 145.992 73.6147 M145.992 69.911 Q151.802 69.911 154.857 74.5174 Q157.936 79.1007 157.936 87.8507 Q157.936 96.5775 154.857 101.184 Q151.802 105.767 145.992 105.767 Q140.181 105.767 137.103 101.184 Q134.047 96.5775 134.047 87.8507 Q134.047 79.1007 137.103 74.5174 Q140.181 69.911 145.992 69.911 Z\" fill=\"#000000\" fill-rule=\"evenodd\" fill-opacity=\"1\" /><polyline clip-path=\"url(#clip132)\" style=\"stroke:#009af9; stroke-linecap:round; stroke-linejoin:round; stroke-width:4; stroke-opacity:1; fill:none\" points=\"\n",
       "  255.035,574.173 258.35,584.795 261.664,595.466 264.979,606.181 268.294,616.939 298.945,717.919 329.596,820.003 360.247,920.883 390.898,1018.28 409.318,1074.21 \n",
       "  427.737,1127.63 446.157,1178.1 464.577,1225.21 480.151,1262.12 495.725,1296.15 511.299,1327.08 526.872,1354.73 535.331,1368.32 543.79,1380.88 552.249,1392.37 \n",
       "  560.707,1402.78 569.166,1412.1 577.625,1420.3 586.084,1427.38 594.542,1433.32 602.341,1437.77 610.139,1441.25 617.937,1443.73 625.735,1445.22 633.533,1445.72 \n",
       "  641.332,1445.22 649.13,1443.72 656.928,1441.24 665.289,1437.47 673.649,1432.58 682.01,1426.56 690.37,1419.44 698.731,1411.21 707.091,1401.9 715.452,1391.52 \n",
       "  723.812,1380.08 733.499,1365.54 743.185,1349.65 752.872,1332.43 762.558,1313.94 772.245,1294.21 781.931,1273.29 791.617,1251.22 801.304,1228.06 818.52,1184.35 \n",
       "  835.737,1137.66 852.953,1088.31 870.17,1036.68 900.364,941.69 930.558,842.866 963.478,733.294 996.398,624.595 1012.96,571.149 1029.51,518.995 1046.07,468.478 \n",
       "  1062.63,419.931 1080.94,368.936 1099.24,321.154 1108.4,298.589 1117.55,276.969 1126.7,256.339 1135.86,236.74 1144.57,219.085 1153.28,202.431 1161.98,186.809 \n",
       "  1170.69,172.248 1179.4,158.773 1188.11,146.411 1196.82,135.182 1205.53,125.108 1214.59,115.878 1223.64,107.935 1232.7,101.294 1241.75,95.9683 1250.81,91.9687 \n",
       "  1259.86,89.3029 1268.92,87.9763 1277.98,87.9914 1285.6,89.0443 1293.22,91.0466 1300.84,93.9953 1308.47,97.8865 1323.71,108.473 1338.96,122.746 1348.27,133.239 \n",
       "  1357.57,145.054 1366.88,158.167 1376.19,172.55 1385.49,188.174 1394.8,205.007 1404.11,223.012 1413.41,242.152 1430.46,280.031 1447.51,321.319 1464.57,365.728 \n",
       "  1481.62,412.947 1497.36,458.766 1513.11,506.426 1528.86,555.641 1544.61,606.119 1576.51,711.003 1608.42,817.253 1626.29,876.417 1644.17,934.736 1662.05,991.762 \n",
       "  1679.93,1047.06 1696.13,1095.31 1712.33,1141.48 1728.53,1185.29 1744.73,1226.44 1754,1248.71 1763.28,1269.98 1772.55,1290.21 1781.83,1309.35 1791.1,1327.37 \n",
       "  1800.37,1344.22 1809.65,1359.88 1818.92,1374.3 1827.51,1386.54 1836.1,1397.67 1844.68,1407.69 1853.27,1416.56 1861.86,1424.28 1870.44,1430.83 1879.03,1436.2 \n",
       "  1887.62,1440.38 1896.08,1443.33 1904.55,1445.11 1913.01,1445.72 1921.48,1445.15 1929.95,1443.41 1938.41,1440.51 1946.88,1436.44 1955.34,1431.21 1963.56,1425.04 \n",
       "  1971.78,1417.79 1980,1409.49 1988.22,1400.13 1996.44,1389.75 2004.66,1378.35 2012.88,1365.96 2021.1,1352.59 2029.53,1337.89 2037.95,1322.22 2046.38,1305.59 \n",
       "  2054.8,1288.05 2071.66,1250.31 2088.51,1209.26 2106.97,1160.82 2125.44,1109.15 2134.67,1082.23 2143.9,1054.66 2153.13,1026.51 2162.36,997.814 2189.18,911.979 \n",
       "  2216,823.628 2242.83,734.293 2269.65,645.52 2275.15,627.518 2280.65,609.618 2286.15,591.832 2291.66,574.173 \n",
       "  \"/>\n",
       "<path clip-path=\"url(#clip130)\" d=\"\n",
       "M1916.1 198.898 L2280.8 198.898 L2280.8 95.2176 L1916.1 95.2176  Z\n",
       "  \" fill=\"#ffffff\" fill-rule=\"evenodd\" fill-opacity=\"1\"/>\n",
       "<polyline clip-path=\"url(#clip130)\" style=\"stroke:#000000; stroke-linecap:round; stroke-linejoin:round; stroke-width:4; stroke-opacity:1; fill:none\" points=\"\n",
       "  1916.1,198.898 2280.8,198.898 2280.8,95.2176 1916.1,95.2176 1916.1,198.898 \n",
       "  \"/>\n",
       "<polyline clip-path=\"url(#clip130)\" style=\"stroke:#009af9; stroke-linecap:round; stroke-linejoin:round; stroke-width:4; stroke-opacity:1; fill:none\" points=\"\n",
       "  1940.08,147.058 2084.01,147.058 \n",
       "  \"/>\n",
       "<path clip-path=\"url(#clip130)\" d=\"M2111.04 156.309 Q2107.99 153.124 2107.99 148.58 Q2107.99 144.012 2110.99 140.733 Q2113.99 137.431 2118.39 137.431 Q2121.32 137.431 2123.52 138.836 Q2125.72 140.218 2125.72 142.584 Q2125.72 143.638 2125.09 144.247 Q2124.48 144.832 2123.52 144.832 Q2122.51 144.832 2121.91 144.223 Q2121.32 143.591 2121.32 142.631 Q2121.32 142.209 2121.46 141.787 Q2121.6 141.366 2122.12 140.921 Q2122.65 140.476 2123.57 140.405 Q2121.86 138.649 2118.53 138.649 Q2118.49 138.649 2118.44 138.649 Q2116 138.649 2113.99 140.944 Q2111.97 143.24 2111.97 148.486 Q2111.97 151.227 2112.63 153.241 Q2113.31 155.232 2114.41 156.262 Q2115.51 157.293 2116.59 157.785 Q2117.67 158.253 2118.72 158.253 Q2123.43 158.253 2125.02 153.217 Q2125.16 152.749 2125.63 152.749 Q2126.26 152.749 2126.26 153.217 Q2126.26 153.452 2126.07 154.061 Q2125.89 154.67 2125.3 155.63 Q2124.72 156.59 2123.87 157.434 Q2123.05 158.253 2121.58 158.862 Q2120.13 159.471 2118.3 159.471 Q2114.08 159.471 2111.04 156.309 Z\" fill=\"#000000\" fill-rule=\"evenodd\" fill-opacity=\"1\" /><path clip-path=\"url(#clip130)\" d=\"M2131.85 156.356 Q2128.69 153.217 2128.69 148.674 Q2128.69 144.106 2131.78 140.78 Q2134.9 137.431 2139.35 137.431 Q2143.7 137.431 2146.82 140.757 Q2149.96 144.059 2149.96 148.674 Q2149.96 153.194 2146.8 156.333 Q2143.66 159.471 2139.3 159.471 Q2135.04 159.471 2131.85 156.356 M2132.67 148.275 Q2132.67 152.936 2133.89 155.044 Q2135.76 158.253 2139.35 158.253 Q2141.13 158.253 2142.6 157.293 Q2144.1 156.333 2144.92 154.717 Q2145.98 152.608 2145.98 148.275 Q2145.98 143.661 2144.71 141.623 Q2142.84 138.508 2139.3 138.508 Q2137.76 138.508 2136.23 139.328 Q2134.73 140.124 2133.82 141.717 Q2132.67 143.825 2132.67 148.275 Z\" fill=\"#000000\" fill-rule=\"evenodd\" fill-opacity=\"1\" /><path clip-path=\"url(#clip130)\" d=\"M2152.44 158.3 L2152.44 151.976 Q2152.44 151.437 2152.46 151.25 Q2152.49 151.063 2152.63 150.922 Q2152.77 150.782 2153.05 150.782 Q2153.38 150.782 2153.5 150.922 Q2153.64 151.063 2153.73 151.601 Q2154.46 154.904 2156 156.661 Q2157.57 158.394 2160.4 158.394 Q2163.1 158.394 2164.46 157.199 Q2165.82 156.005 2165.82 154.037 Q2165.82 150.524 2160.83 149.634 Q2157.95 149.048 2156.75 148.674 Q2155.56 148.275 2154.5 147.409 Q2152.44 145.722 2152.44 143.333 Q2152.44 140.944 2154.24 139.187 Q2156.07 137.431 2160.1 137.431 Q2162.79 137.431 2164.62 138.789 Q2165.16 138.368 2165.44 138.016 Q2166.07 137.431 2166.4 137.431 Q2166.78 137.431 2166.85 137.688 Q2166.92 137.923 2166.92 138.602 L2166.92 143.427 Q2166.92 143.966 2166.89 144.153 Q2166.87 144.34 2166.73 144.481 Q2166.59 144.598 2166.28 144.598 Q2165.75 144.598 2165.72 144.153 Q2165.35 138.344 2160.1 138.344 Q2157.27 138.344 2156 139.445 Q2154.74 140.523 2154.74 141.998 Q2154.74 142.818 2155.11 143.45 Q2155.51 144.059 2156 144.434 Q2156.52 144.785 2157.45 145.137 Q2158.39 145.465 2158.95 145.582 Q2159.54 145.699 2160.64 145.933 Q2164.48 146.659 2166.1 148.228 Q2168.11 150.243 2168.11 152.796 Q2168.11 155.63 2166.19 157.551 Q2164.27 159.471 2160.4 159.471 Q2157.29 159.471 2155.11 157.387 Q2154.83 157.668 2154.62 157.925 Q2154.41 158.16 2154.31 158.253 Q2154.24 158.347 2154.22 158.417 Q2154.2 158.464 2154.15 158.511 Q2153.19 159.471 2152.96 159.471 Q2152.58 159.471 2152.51 159.214 Q2152.44 158.979 2152.44 158.3 Z\" fill=\"#000000\" fill-rule=\"evenodd\" fill-opacity=\"1\" /><path clip-path=\"url(#clip130)\" d=\"M2171.13 146.94 Q2171.13 138.836 2174.16 132.301 Q2175.44 129.561 2177.25 127.265 Q2179.05 124.97 2180.25 123.963 Q2181.44 122.956 2181.77 122.956 Q2182.24 122.956 2182.26 123.424 Q2182.26 123.658 2181.63 124.244 Q2173.9 132.114 2173.92 146.94 Q2173.92 161.814 2181.44 169.379 Q2182.26 170.199 2182.26 170.456 Q2182.26 170.925 2181.77 170.925 Q2181.44 170.925 2180.29 169.965 Q2179.15 169.004 2177.37 166.802 Q2175.59 164.601 2174.3 161.907 Q2171.13 155.372 2171.13 146.94 Z\" fill=\"#000000\" fill-rule=\"evenodd\" fill-opacity=\"1\" /><path clip-path=\"url(#clip130)\" d=\"M2209.79 140.897 Q2209.79 142.209 2208.97 142.958 Q2208.15 143.685 2207.22 143.685 Q2206.33 143.685 2205.86 143.169 Q2205.39 142.654 2205.39 141.998 Q2205.39 141.108 2206.05 140.335 Q2206.7 139.562 2207.69 139.398 Q2206.73 138.789 2205.3 138.789 Q2204.36 138.789 2203.54 139.281 Q2202.74 139.773 2202.25 140.405 Q2201.78 141.038 2201.36 141.951 Q2200.96 142.841 2200.8 143.38 Q2200.66 143.895 2200.54 144.457 L2198.9 151.016 Q2198.11 154.131 2198.11 155.232 Q2198.11 156.59 2198.76 157.504 Q2199.42 158.394 2200.73 158.394 Q2201.24 158.394 2201.83 158.253 Q2202.42 158.089 2203.16 157.668 Q2203.94 157.223 2204.62 156.567 Q2205.32 155.888 2206 154.74 Q2206.68 153.592 2207.12 152.117 Q2207.26 151.601 2207.73 151.601 Q2208.32 151.601 2208.32 152.07 Q2208.32 152.468 2207.99 153.311 Q2207.69 154.131 2207.01 155.208 Q2206.35 156.262 2205.48 157.223 Q2204.62 158.16 2203.33 158.815 Q2202.04 159.471 2200.64 159.471 Q2198.62 159.471 2197.29 158.394 Q2195.95 157.316 2195.46 155.817 Q2195.34 156.028 2195.18 156.309 Q2195.01 156.59 2194.52 157.223 Q2194.05 157.832 2193.51 158.3 Q2192.98 158.745 2192.13 159.097 Q2191.31 159.471 2190.42 159.471 Q2189.3 159.471 2188.29 159.143 Q2187.31 158.815 2186.61 158.066 Q2185.9 157.316 2185.9 156.286 Q2185.9 155.138 2186.68 154.342 Q2187.47 153.522 2188.55 153.522 Q2189.23 153.522 2189.77 153.92 Q2190.33 154.318 2190.33 155.185 Q2190.33 156.145 2189.67 156.871 Q2189.02 157.597 2188.08 157.785 Q2189.04 158.394 2190.47 158.394 Q2192.02 158.394 2193.23 157.035 Q2194.45 155.677 2195.04 153.405 Q2196.49 147.947 2197.05 145.511 Q2197.61 143.052 2197.61 141.998 Q2197.61 141.014 2197.36 140.335 Q2197.1 139.656 2196.65 139.351 Q2196.23 139.023 2195.83 138.906 Q2195.46 138.789 2195.04 138.789 Q2194.33 138.789 2193.54 139.07 Q2192.77 139.351 2191.83 140.007 Q2190.91 140.64 2190.05 141.951 Q2189.18 143.263 2188.6 145.066 Q2188.48 145.605 2187.96 145.605 Q2187.4 145.582 2187.4 145.113 Q2187.4 144.715 2187.71 143.895 Q2188.03 143.052 2188.69 141.998 Q2189.37 140.944 2190.24 140.007 Q2191.13 139.047 2192.41 138.391 Q2193.73 137.735 2195.13 137.735 Q2195.76 137.735 2196.37 137.876 Q2197 137.993 2197.75 138.344 Q2198.53 138.696 2199.21 139.469 Q2199.89 140.241 2200.31 141.366 Q2200.59 140.827 2200.96 140.312 Q2201.36 139.796 2201.97 139.164 Q2202.6 138.508 2203.47 138.133 Q2204.36 137.735 2205.34 137.735 Q2206.3 137.735 2207.24 137.993 Q2208.18 138.227 2208.97 139 Q2209.79 139.75 2209.79 140.897 Z\" fill=\"#000000\" fill-rule=\"evenodd\" fill-opacity=\"1\" /><path clip-path=\"url(#clip130)\" d=\"M2214.41 170.456 Q2214.41 170.222 2215.01 169.637 Q2222.74 161.767 2222.74 146.94 Q2222.74 132.067 2215.32 124.548 Q2214.41 123.682 2214.41 123.424 Q2214.41 122.956 2214.87 122.956 Q2215.2 122.956 2216.35 123.916 Q2217.52 124.876 2219.28 127.078 Q2221.06 129.28 2222.37 131.973 Q2225.53 138.508 2225.53 146.94 Q2225.53 155.044 2222.51 161.579 Q2221.22 164.32 2219.42 166.615 Q2217.61 168.911 2216.42 169.918 Q2215.23 170.925 2214.87 170.925 Q2214.41 170.925 2214.41 170.456 Z\" fill=\"#000000\" fill-rule=\"evenodd\" fill-opacity=\"1\" /></svg>\n"
      ]
     },
     "execution_count": 65,
     "metadata": {},
     "output_type": "execute_result"
    }
   ],
   "source": [
    "using LaTeXStrings\n",
    "display(plot(sin,xlimits=[0,2π],label=\"sine function\"))\n",
    "plot(cos,label=L\"\\cos(x)\") "
   ]
  },
  {
   "cell_type": "code",
   "execution_count": 66,
   "metadata": {
    "tags": []
   },
   "outputs": [
    {
     "data": {
      "image/svg+xml": [
       "<?xml version=\"1.0\" encoding=\"utf-8\"?>\n",
       "<svg xmlns=\"http://www.w3.org/2000/svg\" xmlns:xlink=\"http://www.w3.org/1999/xlink\" width=\"600\" height=\"400\" viewBox=\"0 0 2400 1600\">\n",
       "<defs>\n",
       "  <clipPath id=\"clip170\">\n",
       "    <rect x=\"0\" y=\"0\" width=\"2400\" height=\"1600\"/>\n",
       "  </clipPath>\n",
       "</defs>\n",
       "<path clip-path=\"url(#clip170)\" d=\"\n",
       "M0 1600 L2400 1600 L2400 0 L0 0  Z\n",
       "  \" fill=\"#ffffff\" fill-rule=\"evenodd\" fill-opacity=\"1\"/>\n",
       "<defs>\n",
       "  <clipPath id=\"clip171\">\n",
       "    <rect x=\"480\" y=\"0\" width=\"1681\" height=\"1600\"/>\n",
       "  </clipPath>\n",
       "</defs>\n",
       "<path clip-path=\"url(#clip170)\" d=\"\n",
       "M138.959 1486.45 L2352.76 1486.45 L2352.76 47.2441 L138.959 47.2441  Z\n",
       "  \" fill=\"#ffffff\" fill-rule=\"evenodd\" fill-opacity=\"1\"/>\n",
       "<defs>\n",
       "  <clipPath id=\"clip172\">\n",
       "    <rect x=\"138\" y=\"47\" width=\"2215\" height=\"1440\"/>\n",
       "  </clipPath>\n",
       "</defs>\n",
       "<polyline clip-path=\"url(#clip172)\" style=\"stroke:#000000; stroke-linecap:round; stroke-linejoin:round; stroke-width:2; stroke-opacity:0.1; fill:none\" points=\"\n",
       "  201.614,1486.45 201.614,47.2441 \n",
       "  \"/>\n",
       "<polyline clip-path=\"url(#clip172)\" style=\"stroke:#000000; stroke-linecap:round; stroke-linejoin:round; stroke-width:2; stroke-opacity:0.1; fill:none\" points=\"\n",
       "  723.736,1486.45 723.736,47.2441 \n",
       "  \"/>\n",
       "<polyline clip-path=\"url(#clip172)\" style=\"stroke:#000000; stroke-linecap:round; stroke-linejoin:round; stroke-width:2; stroke-opacity:0.1; fill:none\" points=\"\n",
       "  1245.86,1486.45 1245.86,47.2441 \n",
       "  \"/>\n",
       "<polyline clip-path=\"url(#clip172)\" style=\"stroke:#000000; stroke-linecap:round; stroke-linejoin:round; stroke-width:2; stroke-opacity:0.1; fill:none\" points=\"\n",
       "  1767.98,1486.45 1767.98,47.2441 \n",
       "  \"/>\n",
       "<polyline clip-path=\"url(#clip172)\" style=\"stroke:#000000; stroke-linecap:round; stroke-linejoin:round; stroke-width:2; stroke-opacity:0.1; fill:none\" points=\"\n",
       "  2290.1,1486.45 2290.1,47.2441 \n",
       "  \"/>\n",
       "<polyline clip-path=\"url(#clip170)\" style=\"stroke:#000000; stroke-linecap:round; stroke-linejoin:round; stroke-width:4; stroke-opacity:1; fill:none\" points=\"\n",
       "  138.959,1486.45 2352.76,1486.45 \n",
       "  \"/>\n",
       "<polyline clip-path=\"url(#clip170)\" style=\"stroke:#000000; stroke-linecap:round; stroke-linejoin:round; stroke-width:4; stroke-opacity:1; fill:none\" points=\"\n",
       "  201.614,1486.45 201.614,1467.55 \n",
       "  \"/>\n",
       "<polyline clip-path=\"url(#clip170)\" style=\"stroke:#000000; stroke-linecap:round; stroke-linejoin:round; stroke-width:4; stroke-opacity:1; fill:none\" points=\"\n",
       "  723.736,1486.45 723.736,1467.55 \n",
       "  \"/>\n",
       "<polyline clip-path=\"url(#clip170)\" style=\"stroke:#000000; stroke-linecap:round; stroke-linejoin:round; stroke-width:4; stroke-opacity:1; fill:none\" points=\"\n",
       "  1245.86,1486.45 1245.86,1467.55 \n",
       "  \"/>\n",
       "<polyline clip-path=\"url(#clip170)\" style=\"stroke:#000000; stroke-linecap:round; stroke-linejoin:round; stroke-width:4; stroke-opacity:1; fill:none\" points=\"\n",
       "  1767.98,1486.45 1767.98,1467.55 \n",
       "  \"/>\n",
       "<polyline clip-path=\"url(#clip170)\" style=\"stroke:#000000; stroke-linecap:round; stroke-linejoin:round; stroke-width:4; stroke-opacity:1; fill:none\" points=\"\n",
       "  2290.1,1486.45 2290.1,1467.55 \n",
       "  \"/>\n",
       "<path clip-path=\"url(#clip170)\" d=\"M170.515 1532.02 L200.19 1532.02 L200.19 1535.95 L170.515 1535.95 L170.515 1532.02 Z\" fill=\"#000000\" fill-rule=\"evenodd\" fill-opacity=\"1\" /><path clip-path=\"url(#clip170)\" d=\"M223.13 1518.36 L211.325 1536.81 L223.13 1536.81 L223.13 1518.36 M221.903 1514.29 L227.783 1514.29 L227.783 1536.81 L232.713 1536.81 L232.713 1540.7 L227.783 1540.7 L227.783 1548.85 L223.13 1548.85 L223.13 1540.7 L207.528 1540.7 L207.528 1536.19 L221.903 1514.29 Z\" fill=\"#000000\" fill-rule=\"evenodd\" fill-opacity=\"1\" /><path clip-path=\"url(#clip170)\" d=\"M693.678 1532.02 L723.354 1532.02 L723.354 1535.95 L693.678 1535.95 L693.678 1532.02 Z\" fill=\"#000000\" fill-rule=\"evenodd\" fill-opacity=\"1\" /><path clip-path=\"url(#clip170)\" d=\"M737.474 1544.91 L753.794 1544.91 L753.794 1548.85 L731.849 1548.85 L731.849 1544.91 Q734.511 1542.16 739.095 1537.53 Q743.701 1532.88 744.882 1531.53 Q747.127 1529.01 748.007 1527.27 Q748.909 1525.51 748.909 1523.82 Q748.909 1521.07 746.965 1519.33 Q745.044 1517.6 741.942 1517.6 Q739.743 1517.6 737.289 1518.36 Q734.858 1519.13 732.081 1520.68 L732.081 1515.95 Q734.905 1514.82 737.358 1514.24 Q739.812 1513.66 741.849 1513.66 Q747.22 1513.66 750.414 1516.35 Q753.608 1519.03 753.608 1523.52 Q753.608 1525.65 752.798 1527.57 Q752.011 1529.47 749.905 1532.07 Q749.326 1532.74 746.224 1535.95 Q743.122 1539.15 737.474 1544.91 Z\" fill=\"#000000\" fill-rule=\"evenodd\" fill-opacity=\"1\" /><path clip-path=\"url(#clip170)\" d=\"M1245.86 1517.37 Q1242.25 1517.37 1240.42 1520.93 Q1238.61 1524.47 1238.61 1531.6 Q1238.61 1538.71 1240.42 1542.27 Q1242.25 1545.82 1245.86 1545.82 Q1249.49 1545.82 1251.3 1542.27 Q1253.13 1538.71 1253.13 1531.6 Q1253.13 1524.47 1251.3 1520.93 Q1249.49 1517.37 1245.86 1517.37 M1245.86 1513.66 Q1251.67 1513.66 1254.72 1518.27 Q1257.8 1522.85 1257.8 1531.6 Q1257.8 1540.33 1254.72 1544.94 Q1251.67 1549.52 1245.86 1549.52 Q1240.05 1549.52 1236.97 1544.94 Q1233.91 1540.33 1233.91 1531.6 Q1233.91 1522.85 1236.97 1518.27 Q1240.05 1513.66 1245.86 1513.66 Z\" fill=\"#000000\" fill-rule=\"evenodd\" fill-opacity=\"1\" /><path clip-path=\"url(#clip170)\" d=\"M1762.63 1544.91 L1778.95 1544.91 L1778.95 1548.85 L1757.01 1548.85 L1757.01 1544.91 Q1759.67 1542.16 1764.25 1537.53 Q1768.86 1532.88 1770.04 1531.53 Q1772.29 1529.01 1773.16 1527.27 Q1774.07 1525.51 1774.07 1523.82 Q1774.07 1521.07 1772.12 1519.33 Q1770.2 1517.6 1767.1 1517.6 Q1764.9 1517.6 1762.45 1518.36 Q1760.02 1519.13 1757.24 1520.68 L1757.24 1515.95 Q1760.06 1514.82 1762.52 1514.24 Q1764.97 1513.66 1767.01 1513.66 Q1772.38 1513.66 1775.57 1516.35 Q1778.77 1519.03 1778.77 1523.52 Q1778.77 1525.65 1777.96 1527.57 Q1777.17 1529.47 1775.06 1532.07 Q1774.48 1532.74 1771.38 1535.95 Q1768.28 1539.15 1762.63 1544.91 Z\" fill=\"#000000\" fill-rule=\"evenodd\" fill-opacity=\"1\" /><path clip-path=\"url(#clip170)\" d=\"M2293.11 1518.36 L2281.31 1536.81 L2293.11 1536.81 L2293.11 1518.36 M2291.88 1514.29 L2297.76 1514.29 L2297.76 1536.81 L2302.69 1536.81 L2302.69 1540.7 L2297.76 1540.7 L2297.76 1548.85 L2293.11 1548.85 L2293.11 1540.7 L2277.51 1540.7 L2277.51 1536.19 L2291.88 1514.29 Z\" fill=\"#000000\" fill-rule=\"evenodd\" fill-opacity=\"1\" /><polyline clip-path=\"url(#clip172)\" style=\"stroke:#000000; stroke-linecap:round; stroke-linejoin:round; stroke-width:2; stroke-opacity:0.1; fill:none\" points=\"\n",
       "  138.959,1445.72 2352.76,1445.72 \n",
       "  \"/>\n",
       "<polyline clip-path=\"url(#clip172)\" style=\"stroke:#000000; stroke-linecap:round; stroke-linejoin:round; stroke-width:2; stroke-opacity:0.1; fill:none\" points=\"\n",
       "  138.959,1021.42 2352.76,1021.42 \n",
       "  \"/>\n",
       "<polyline clip-path=\"url(#clip172)\" style=\"stroke:#000000; stroke-linecap:round; stroke-linejoin:round; stroke-width:2; stroke-opacity:0.1; fill:none\" points=\"\n",
       "  138.959,597.129 2352.76,597.129 \n",
       "  \"/>\n",
       "<polyline clip-path=\"url(#clip172)\" style=\"stroke:#000000; stroke-linecap:round; stroke-linejoin:round; stroke-width:2; stroke-opacity:0.1; fill:none\" points=\"\n",
       "  138.959,172.835 2352.76,172.835 \n",
       "  \"/>\n",
       "<polyline clip-path=\"url(#clip170)\" style=\"stroke:#000000; stroke-linecap:round; stroke-linejoin:round; stroke-width:4; stroke-opacity:1; fill:none\" points=\"\n",
       "  138.959,1486.45 138.959,47.2441 \n",
       "  \"/>\n",
       "<polyline clip-path=\"url(#clip170)\" style=\"stroke:#000000; stroke-linecap:round; stroke-linejoin:round; stroke-width:4; stroke-opacity:1; fill:none\" points=\"\n",
       "  138.959,1445.72 157.857,1445.72 \n",
       "  \"/>\n",
       "<polyline clip-path=\"url(#clip170)\" style=\"stroke:#000000; stroke-linecap:round; stroke-linejoin:round; stroke-width:4; stroke-opacity:1; fill:none\" points=\"\n",
       "  138.959,1021.42 157.857,1021.42 \n",
       "  \"/>\n",
       "<polyline clip-path=\"url(#clip170)\" style=\"stroke:#000000; stroke-linecap:round; stroke-linejoin:round; stroke-width:4; stroke-opacity:1; fill:none\" points=\"\n",
       "  138.959,597.129 157.857,597.129 \n",
       "  \"/>\n",
       "<polyline clip-path=\"url(#clip170)\" style=\"stroke:#000000; stroke-linecap:round; stroke-linejoin:round; stroke-width:4; stroke-opacity:1; fill:none\" points=\"\n",
       "  138.959,172.835 157.857,172.835 \n",
       "  \"/>\n",
       "<path clip-path=\"url(#clip170)\" d=\"M91.0151 1431.51 Q87.404 1431.51 85.5753 1435.08 Q83.7697 1438.62 83.7697 1445.75 Q83.7697 1452.86 85.5753 1456.42 Q87.404 1459.96 91.0151 1459.96 Q94.6493 1459.96 96.4548 1456.42 Q98.2835 1452.86 98.2835 1445.75 Q98.2835 1438.62 96.4548 1435.08 Q94.6493 1431.51 91.0151 1431.51 M91.0151 1427.81 Q96.8252 1427.81 99.8808 1432.42 Q102.959 1437 102.959 1445.75 Q102.959 1454.48 99.8808 1459.08 Q96.8252 1463.67 91.0151 1463.67 Q85.2049 1463.67 82.1262 1459.08 Q79.0707 1454.48 79.0707 1445.75 Q79.0707 1437 82.1262 1432.42 Q85.2049 1427.81 91.0151 1427.81 Z\" fill=\"#000000\" fill-rule=\"evenodd\" fill-opacity=\"1\" /><path clip-path=\"url(#clip170)\" d=\"M82.0568 1004.14 L100.413 1004.14 L100.413 1008.08 L86.3392 1008.08 L86.3392 1016.55 Q87.3577 1016.2 88.3762 1016.04 Q89.3947 1015.86 90.4132 1015.86 Q96.2002 1015.86 99.5798 1019.03 Q102.959 1022.2 102.959 1027.61 Q102.959 1033.19 99.4872 1036.29 Q96.015 1039.37 89.6956 1039.37 Q87.5197 1039.37 85.2512 1039 Q83.0058 1038.63 80.5984 1037.89 L80.5984 1033.19 Q82.6818 1034.33 84.904 1034.88 Q87.1262 1035.44 89.603 1035.44 Q93.6076 1035.44 95.9456 1033.33 Q98.2835 1031.23 98.2835 1027.61 Q98.2835 1024 95.9456 1021.9 Q93.6076 1019.79 89.603 1019.79 Q87.728 1019.79 85.8531 1020.21 Q84.0012 1020.62 82.0568 1021.5 L82.0568 1004.14 Z\" fill=\"#000000\" fill-rule=\"evenodd\" fill-opacity=\"1\" /><path clip-path=\"url(#clip170)\" d=\"M51.6634 610.473 L59.3023 610.473 L59.3023 584.108 L50.9921 585.774 L50.9921 581.515 L59.256 579.849 L63.9319 579.849 L63.9319 610.473 L71.5707 610.473 L71.5707 614.409 L51.6634 614.409 L51.6634 610.473 Z\" fill=\"#000000\" fill-rule=\"evenodd\" fill-opacity=\"1\" /><path clip-path=\"url(#clip170)\" d=\"M91.0151 582.927 Q87.404 582.927 85.5753 586.492 Q83.7697 590.034 83.7697 597.163 Q83.7697 604.27 85.5753 607.835 Q87.404 611.376 91.0151 611.376 Q94.6493 611.376 96.4548 607.835 Q98.2835 604.27 98.2835 597.163 Q98.2835 590.034 96.4548 586.492 Q94.6493 582.927 91.0151 582.927 M91.0151 579.224 Q96.8252 579.224 99.8808 583.83 Q102.959 588.413 102.959 597.163 Q102.959 605.89 99.8808 610.497 Q96.8252 615.08 91.0151 615.08 Q85.2049 615.08 82.1262 610.497 Q79.0707 605.89 79.0707 597.163 Q79.0707 588.413 82.1262 583.83 Q85.2049 579.224 91.0151 579.224 Z\" fill=\"#000000\" fill-rule=\"evenodd\" fill-opacity=\"1\" /><path clip-path=\"url(#clip170)\" d=\"M52.6588 186.18 L60.2976 186.18 L60.2976 159.814 L51.9875 161.481 L51.9875 157.222 L60.2513 155.555 L64.9272 155.555 L64.9272 186.18 L72.5661 186.18 L72.5661 190.115 L52.6588 190.115 L52.6588 186.18 Z\" fill=\"#000000\" fill-rule=\"evenodd\" fill-opacity=\"1\" /><path clip-path=\"url(#clip170)\" d=\"M82.0568 155.555 L100.413 155.555 L100.413 159.49 L86.3392 159.49 L86.3392 167.962 Q87.3577 167.615 88.3762 167.453 Q89.3947 167.268 90.4132 167.268 Q96.2002 167.268 99.5798 170.439 Q102.959 173.61 102.959 179.027 Q102.959 184.606 99.4872 187.708 Q96.015 190.786 89.6956 190.786 Q87.5197 190.786 85.2512 190.416 Q83.0058 190.046 80.5984 189.305 L80.5984 184.606 Q82.6818 185.74 84.904 186.296 Q87.1262 186.851 89.603 186.851 Q93.6076 186.851 95.9456 184.745 Q98.2835 182.638 98.2835 179.027 Q98.2835 175.416 95.9456 173.31 Q93.6076 171.203 89.603 171.203 Q87.728 171.203 85.8531 171.62 Q84.0012 172.036 82.0568 172.916 L82.0568 155.555 Z\" fill=\"#000000\" fill-rule=\"evenodd\" fill-opacity=\"1\" /><polyline clip-path=\"url(#clip172)\" style=\"stroke:#009af9; stroke-linecap:round; stroke-linejoin:round; stroke-width:4; stroke-opacity:1; fill:none\" points=\"\n",
       "  201.614,87.9763 204.225,94.7565 206.835,101.52 209.446,108.266 212.056,114.995 214.667,121.708 217.278,128.403 219.888,135.081 222.499,141.743 225.11,148.387 \n",
       "  227.72,155.015 230.331,161.625 232.941,168.219 235.552,174.795 238.163,181.355 240.773,187.897 243.384,194.423 245.994,200.932 248.605,207.423 251.216,213.898 \n",
       "  253.826,220.356 256.437,226.797 259.047,233.22 261.658,239.627 264.269,246.017 266.879,252.39 269.49,258.746 272.101,265.085 274.711,271.407 277.322,277.712 \n",
       "  279.932,284 282.543,290.271 285.154,296.525 287.764,302.762 290.375,308.982 292.985,315.185 295.596,321.372 298.207,327.541 300.817,333.693 303.428,339.828 \n",
       "  306.038,345.947 308.649,352.048 311.26,358.132 313.87,364.2 316.481,370.25 319.091,376.284 321.702,382.3 324.313,388.3 326.923,394.282 329.534,400.248 \n",
       "  332.145,406.196 334.755,412.128 337.366,418.043 339.976,423.94 342.587,429.821 345.198,435.685 347.808,441.532 350.419,447.361 353.029,453.174 355.64,458.97 \n",
       "  358.251,464.749 360.861,470.511 363.472,476.256 366.082,481.984 368.693,487.695 371.304,493.389 373.914,499.066 376.525,504.726 379.135,510.369 381.746,515.995 \n",
       "  384.357,521.604 386.967,527.196 389.578,532.772 392.189,538.33 394.799,543.871 397.41,549.396 400.02,554.903 402.631,560.393 405.242,565.867 407.852,571.323 \n",
       "  410.463,576.762 413.073,582.185 415.684,587.59 418.295,592.979 420.905,598.351 423.516,603.705 426.126,609.043 428.737,614.363 431.348,619.667 433.958,624.954 \n",
       "  436.569,630.223 439.179,635.476 441.79,640.712 444.401,645.931 447.011,651.133 449.622,656.318 452.233,661.485 454.843,666.636 457.454,671.77 460.064,676.887 \n",
       "  462.675,681.987 465.286,687.07 467.896,692.136 470.507,697.185 473.117,702.218 475.728,707.233 478.339,712.231 480.949,717.212 483.56,722.176 486.17,727.124 \n",
       "  488.781,732.054 491.392,736.967 494.002,741.864 496.613,746.743 499.223,751.605 501.834,756.451 504.445,761.279 507.055,766.091 509.666,770.885 512.277,775.663 \n",
       "  514.887,780.423 517.498,785.167 520.108,789.894 522.719,794.603 525.33,799.296 527.94,803.972 530.551,808.63 533.161,813.272 535.772,817.897 538.383,822.505 \n",
       "  540.993,827.096 543.604,831.67 546.214,836.226 548.825,840.766 551.436,845.289 554.046,849.795 556.657,854.284 559.267,858.756 561.878,863.212 564.489,867.65 \n",
       "  567.099,872.071 569.71,876.475 572.321,880.862 574.931,885.232 577.542,889.586 580.152,893.922 582.763,898.241 585.374,902.544 587.984,906.829 590.595,911.097 \n",
       "  593.205,915.349 595.816,919.583 598.427,923.801 601.037,928.001 603.648,932.185 606.258,936.351 608.869,940.501 611.48,944.633 614.09,948.749 616.701,952.848 \n",
       "  619.312,956.93 621.922,960.994 624.533,965.042 627.143,969.073 629.754,973.087 632.365,977.083 634.975,981.063 637.586,985.026 640.196,988.972 642.807,992.901 \n",
       "  645.418,996.813 648.028,1000.71 650.639,1004.59 653.249,1008.45 655.86,1012.29 658.471,1016.12 661.081,1019.93 663.692,1023.72 666.302,1027.5 668.913,1031.26 \n",
       "  671.524,1035 674.134,1038.72 676.745,1042.43 679.356,1046.12 681.966,1049.8 684.577,1053.46 687.187,1057.1 689.798,1060.72 692.409,1064.33 695.019,1067.92 \n",
       "  697.63,1071.49 700.24,1075.04 702.851,1078.58 705.462,1082.1 708.072,1085.61 710.683,1089.1 713.293,1092.57 715.904,1096.02 718.515,1099.46 721.125,1102.88 \n",
       "  723.736,1106.28 726.346,1109.67 728.957,1113.04 731.568,1116.39 734.178,1119.72 736.789,1123.04 739.4,1126.34 742.01,1129.63 744.621,1132.89 747.231,1136.14 \n",
       "  749.842,1139.38 752.453,1142.59 755.063,1145.79 757.674,1148.97 760.284,1152.14 762.895,1155.29 765.506,1158.42 768.116,1161.53 770.727,1164.63 773.337,1167.71 \n",
       "  775.948,1170.77 778.559,1173.82 781.169,1176.85 783.78,1179.86 786.39,1182.86 789.001,1185.84 791.612,1188.8 794.222,1191.74 796.833,1194.67 799.444,1197.58 \n",
       "  802.054,1200.47 804.665,1203.35 807.275,1206.21 809.886,1209.05 812.497,1211.88 815.107,1214.69 817.718,1217.48 820.328,1220.25 822.939,1223.01 825.55,1225.75 \n",
       "  828.16,1228.48 830.771,1231.18 833.381,1233.87 835.992,1236.55 838.603,1239.2 841.213,1241.84 843.824,1244.46 846.434,1247.07 849.045,1249.66 851.656,1252.23 \n",
       "  854.266,1254.78 856.877,1257.32 859.488,1259.84 862.098,1262.34 864.709,1264.83 867.319,1267.3 869.93,1269.75 872.541,1272.19 875.151,1274.61 877.762,1277.01 \n",
       "  880.372,1279.39 882.983,1281.76 885.594,1284.11 888.204,1286.44 890.815,1288.76 893.425,1291.06 896.036,1293.34 898.647,1295.61 901.257,1297.86 903.868,1300.09 \n",
       "  906.478,1302.3 909.089,1304.5 911.7,1306.68 914.31,1308.85 916.921,1310.99 919.532,1313.12 922.142,1315.24 924.753,1317.33 927.363,1319.41 929.974,1321.47 \n",
       "  932.585,1323.52 935.195,1325.55 937.806,1327.56 940.416,1329.55 943.027,1331.53 945.638,1333.49 948.248,1335.43 950.859,1337.36 953.469,1339.27 956.08,1341.16 \n",
       "  958.691,1343.04 961.301,1344.9 963.912,1346.74 966.523,1348.56 969.133,1350.37 971.744,1352.16 974.354,1353.93 976.965,1355.69 979.576,1357.43 982.186,1359.15 \n",
       "  984.797,1360.86 987.407,1362.55 990.018,1364.22 992.629,1365.87 995.239,1367.51 997.85,1369.13 1000.46,1370.73 1003.07,1372.32 1005.68,1373.89 1008.29,1375.44 \n",
       "  1010.9,1376.98 1013.51,1378.5 1016.12,1380 1018.73,1381.49 1021.35,1382.95 1023.96,1384.41 1026.57,1385.84 1029.18,1387.26 1031.79,1388.66 1034.4,1390.04 \n",
       "  1037.01,1391.41 1039.62,1392.76 1042.23,1394.09 1044.84,1395.4 1047.45,1396.7 1050.06,1397.98 1052.67,1399.25 1055.28,1400.49 1057.89,1401.72 1060.5,1402.94 \n",
       "  1063.12,1404.13 1065.73,1405.31 1068.34,1406.48 1070.95,1407.62 1073.56,1408.75 1076.17,1409.86 1078.78,1410.96 1081.39,1412.04 1084,1413.1 1086.61,1414.14 \n",
       "  1089.22,1415.17 1091.83,1416.18 1094.44,1417.17 1097.05,1418.15 1099.66,1419.1 1102.27,1420.05 1104.88,1420.97 1107.5,1421.88 1110.11,1422.77 1112.72,1423.64 \n",
       "  1115.33,1424.5 1117.94,1425.34 1120.55,1426.16 1123.16,1426.97 1125.77,1427.76 1128.38,1428.53 1130.99,1429.29 1133.6,1430.03 1136.21,1430.75 1138.82,1431.45 \n",
       "  1141.43,1432.14 1144.04,1432.81 1146.65,1433.46 1149.27,1434.1 1151.88,1434.72 1154.49,1435.32 1157.1,1435.91 1159.71,1436.47 1162.32,1437.03 1164.93,1437.56 \n",
       "  1167.54,1438.08 1170.15,1438.58 1172.76,1439.06 1175.37,1439.53 1177.98,1439.98 1180.59,1440.41 1183.2,1440.83 1185.81,1441.23 1188.42,1441.61 1191.03,1441.97 \n",
       "  1193.65,1442.32 1196.26,1442.65 1198.87,1442.97 1201.48,1443.26 1204.09,1443.54 1206.7,1443.81 1209.31,1444.05 1211.92,1444.28 1214.53,1444.49 1217.14,1444.69 \n",
       "  1219.75,1444.87 1222.36,1445.03 1224.97,1445.17 1227.58,1445.3 1230.19,1445.41 1232.8,1445.5 1235.42,1445.58 1238.03,1445.64 1240.64,1445.68 1243.25,1445.71 \n",
       "  1245.86,1445.72 1248.47,1445.71 1251.08,1445.68 1253.69,1445.64 1256.3,1445.58 1258.91,1445.5 1261.52,1445.41 1264.13,1445.3 1266.74,1445.17 1269.35,1445.03 \n",
       "  1271.96,1444.87 1274.57,1444.69 1277.18,1444.49 1279.8,1444.28 1282.41,1444.05 1285.02,1443.81 1287.63,1443.54 1290.24,1443.26 1292.85,1442.97 1295.46,1442.65 \n",
       "  1298.07,1442.32 1300.68,1441.97 1303.29,1441.61 1305.9,1441.23 1308.51,1440.83 1311.12,1440.41 1313.73,1439.98 1316.34,1439.53 1318.95,1439.06 1321.57,1438.58 \n",
       "  1324.18,1438.08 1326.79,1437.56 1329.4,1437.03 1332.01,1436.47 1334.62,1435.91 1337.23,1435.32 1339.84,1434.72 1342.45,1434.1 1345.06,1433.46 1347.67,1432.81 \n",
       "  1350.28,1432.14 1352.89,1431.45 1355.5,1430.75 1358.11,1430.03 1360.72,1429.29 1363.34,1428.53 1365.95,1427.76 1368.56,1426.97 1371.17,1426.16 1373.78,1425.34 \n",
       "  1376.39,1424.5 1379,1423.64 1381.61,1422.77 1384.22,1421.88 1386.83,1420.97 1389.44,1420.05 1392.05,1419.1 1394.66,1418.15 1397.27,1417.17 1399.88,1416.18 \n",
       "  1402.49,1415.17 1405.1,1414.14 1407.72,1413.1 1410.33,1412.04 1412.94,1410.96 1415.55,1409.86 1418.16,1408.75 1420.77,1407.62 1423.38,1406.48 1425.99,1405.31 \n",
       "  1428.6,1404.13 1431.21,1402.94 1433.82,1401.72 1436.43,1400.49 1439.04,1399.25 1441.65,1397.98 1444.26,1396.7 1446.87,1395.4 1449.49,1394.09 1452.1,1392.76 \n",
       "  1454.71,1391.41 1457.32,1390.04 1459.93,1388.66 1462.54,1387.26 1465.15,1385.84 1467.76,1384.41 1470.37,1382.95 1472.98,1381.49 1475.59,1380 1478.2,1378.5 \n",
       "  1480.81,1376.98 1483.42,1375.44 1486.03,1373.89 1488.64,1372.32 1491.25,1370.73 1493.87,1369.13 1496.48,1367.51 1499.09,1365.87 1501.7,1364.22 1504.31,1362.55 \n",
       "  1506.92,1360.86 1509.53,1359.15 1512.14,1357.43 1514.75,1355.69 1517.36,1353.93 1519.97,1352.16 1522.58,1350.37 1525.19,1348.56 1527.8,1346.74 1530.41,1344.9 \n",
       "  1533.02,1343.04 1535.64,1341.16 1538.25,1339.27 1540.86,1337.36 1543.47,1335.43 1546.08,1333.49 1548.69,1331.53 1551.3,1329.55 1553.91,1327.56 1556.52,1325.55 \n",
       "  1559.13,1323.52 1561.74,1321.47 1564.35,1319.41 1566.96,1317.33 1569.57,1315.24 1572.18,1313.12 1574.79,1310.99 1577.41,1308.85 1580.02,1306.68 1582.63,1304.5 \n",
       "  1585.24,1302.3 1587.85,1300.09 1590.46,1297.86 1593.07,1295.61 1595.68,1293.34 1598.29,1291.06 1600.9,1288.76 1603.51,1286.44 1606.12,1284.11 1608.73,1281.76 \n",
       "  1611.34,1279.39 1613.95,1277.01 1616.56,1274.61 1619.17,1272.19 1621.79,1269.75 1624.4,1267.3 1627.01,1264.83 1629.62,1262.34 1632.23,1259.84 1634.84,1257.32 \n",
       "  1637.45,1254.78 1640.06,1252.23 1642.67,1249.66 1645.28,1247.07 1647.89,1244.46 1650.5,1241.84 1653.11,1239.2 1655.72,1236.55 1658.33,1233.87 1660.94,1231.18 \n",
       "  1663.56,1228.48 1666.17,1225.75 1668.78,1223.01 1671.39,1220.25 1674,1217.48 1676.61,1214.69 1679.22,1211.88 1681.83,1209.05 1684.44,1206.21 1687.05,1203.35 \n",
       "  1689.66,1200.47 1692.27,1197.58 1694.88,1194.67 1697.49,1191.74 1700.1,1188.8 1702.71,1185.84 1705.32,1182.86 1707.94,1179.86 1710.55,1176.85 1713.16,1173.82 \n",
       "  1715.77,1170.77 1718.38,1167.71 1720.99,1164.63 1723.6,1161.53 1726.21,1158.42 1728.82,1155.29 1731.43,1152.14 1734.04,1148.97 1736.65,1145.79 1739.26,1142.59 \n",
       "  1741.87,1139.38 1744.48,1136.14 1747.09,1132.89 1749.71,1129.63 1752.32,1126.34 1754.93,1123.04 1757.54,1119.72 1760.15,1116.39 1762.76,1113.04 1765.37,1109.67 \n",
       "  1767.98,1106.28 1770.59,1102.88 1773.2,1099.46 1775.81,1096.02 1778.42,1092.57 1781.03,1089.1 1783.64,1085.61 1786.25,1082.1 1788.86,1078.58 1791.47,1075.04 \n",
       "  1794.09,1071.49 1796.7,1067.92 1799.31,1064.33 1801.92,1060.72 1804.53,1057.1 1807.14,1053.46 1809.75,1049.8 1812.36,1046.12 1814.97,1042.43 1817.58,1038.72 \n",
       "  1820.19,1035 1822.8,1031.26 1825.41,1027.5 1828.02,1023.72 1830.63,1019.93 1833.24,1016.12 1835.86,1012.29 1838.47,1008.45 1841.08,1004.59 1843.69,1000.71 \n",
       "  1846.3,996.813 1848.91,992.901 1851.52,988.972 1854.13,985.026 1856.74,981.063 1859.35,977.083 1861.96,973.087 1864.57,969.073 1867.18,965.042 1869.79,960.994 \n",
       "  1872.4,956.93 1875.01,952.848 1877.63,948.749 1880.24,944.633 1882.85,940.501 1885.46,936.351 1888.07,932.185 1890.68,928.001 1893.29,923.801 1895.9,919.583 \n",
       "  1898.51,915.349 1901.12,911.097 1903.73,906.829 1906.34,902.544 1908.95,898.241 1911.56,893.922 1914.17,889.586 1916.78,885.232 1919.39,880.862 1922.01,876.475 \n",
       "  1924.62,872.071 1927.23,867.65 1929.84,863.212 1932.45,858.756 1935.06,854.284 1937.67,849.795 1940.28,845.289 1942.89,840.766 1945.5,836.226 1948.11,831.67 \n",
       "  1950.72,827.096 1953.33,822.505 1955.94,817.897 1958.55,813.272 1961.16,808.63 1963.78,803.972 1966.39,799.296 1969,794.603 1971.61,789.894 1974.22,785.167 \n",
       "  1976.83,780.423 1979.44,775.663 1982.05,770.885 1984.66,766.091 1987.27,761.279 1989.88,756.451 1992.49,751.605 1995.1,746.743 1997.71,741.864 2000.32,736.967 \n",
       "  2002.93,732.054 2005.54,727.124 2008.16,722.176 2010.77,717.212 2013.38,712.231 2015.99,707.233 2018.6,702.218 2021.21,697.185 2023.82,692.136 2026.43,687.07 \n",
       "  2029.04,681.987 2031.65,676.887 2034.26,671.77 2036.87,666.636 2039.48,661.485 2042.09,656.318 2044.7,651.133 2047.31,645.931 2049.93,640.712 2052.54,635.476 \n",
       "  2055.15,630.223 2057.76,624.954 2060.37,619.667 2062.98,614.363 2065.59,609.043 2068.2,603.705 2070.81,598.351 2073.42,592.979 2076.03,587.59 2078.64,582.185 \n",
       "  2081.25,576.762 2083.86,571.323 2086.47,565.867 2089.08,560.393 2091.7,554.903 2094.31,549.396 2096.92,543.871 2099.53,538.33 2102.14,532.772 2104.75,527.196 \n",
       "  2107.36,521.604 2109.97,515.995 2112.58,510.369 2115.19,504.726 2117.8,499.066 2120.41,493.389 2123.02,487.695 2125.63,481.984 2128.24,476.256 2130.85,470.511 \n",
       "  2133.46,464.749 2136.08,458.97 2138.69,453.174 2141.3,447.361 2143.91,441.532 2146.52,435.685 2149.13,429.821 2151.74,423.94 2154.35,418.043 2156.96,412.128 \n",
       "  2159.57,406.196 2162.18,400.248 2164.79,394.282 2167.4,388.3 2170.01,382.3 2172.62,376.284 2175.23,370.25 2177.85,364.2 2180.46,358.132 2183.07,352.048 \n",
       "  2185.68,345.947 2188.29,339.828 2190.9,333.693 2193.51,327.541 2196.12,321.372 2198.73,315.185 2201.34,308.982 2203.95,302.762 2206.56,296.525 2209.17,290.271 \n",
       "  2211.78,284 2214.39,277.712 2217,271.407 2219.61,265.085 2222.23,258.746 2224.84,252.39 2227.45,246.017 2230.06,239.627 2232.67,233.22 2235.28,226.797 \n",
       "  2237.89,220.356 2240.5,213.898 2243.11,207.423 2245.72,200.932 2248.33,194.423 2250.94,187.897 2253.55,181.355 2256.16,174.795 2258.77,168.219 2261.38,161.625 \n",
       "  2264,155.015 2266.61,148.387 2269.22,141.743 2271.83,135.081 2274.44,128.403 2277.05,121.708 2279.66,114.995 2282.27,108.266 2284.88,101.52 2287.49,94.7565 \n",
       "  2290.1,87.9763 \n",
       "  \"/>\n",
       "<path clip-path=\"url(#clip170)\" d=\"\n",
       "M2016.48 198.898 L2278.96 198.898 L2278.96 95.2176 L2016.48 95.2176  Z\n",
       "  \" fill=\"#ffffff\" fill-rule=\"evenodd\" fill-opacity=\"1\"/>\n",
       "<polyline clip-path=\"url(#clip170)\" style=\"stroke:#000000; stroke-linecap:round; stroke-linejoin:round; stroke-width:4; stroke-opacity:1; fill:none\" points=\"\n",
       "  2016.48,198.898 2278.96,198.898 2278.96,95.2176 2016.48,95.2176 2016.48,198.898 \n",
       "  \"/>\n",
       "<polyline clip-path=\"url(#clip170)\" style=\"stroke:#009af9; stroke-linecap:round; stroke-linejoin:round; stroke-width:4; stroke-opacity:1; fill:none\" points=\"\n",
       "  2041.08,147.058 2188.66,147.058 \n",
       "  \"/>\n",
       "<path clip-path=\"url(#clip170)\" d=\"M2229.77 128.319 L2229.77 131.861 L2225.69 131.861 Q2223.4 131.861 2222.5 132.787 Q2221.62 133.713 2221.62 136.12 L2221.62 138.412 L2228.63 138.412 L2228.63 141.722 L2221.62 141.722 L2221.62 164.338 L2217.34 164.338 L2217.34 141.722 L2213.26 141.722 L2213.26 138.412 L2217.34 138.412 L2217.34 136.606 Q2217.34 132.278 2219.35 130.31 Q2221.36 128.319 2225.74 128.319 L2229.77 128.319 Z\" fill=\"#000000\" fill-rule=\"evenodd\" fill-opacity=\"1\" /></svg>\n"
      ]
     },
     "execution_count": 66,
     "metadata": {},
     "output_type": "execute_result"
    }
   ],
   "source": [
    "# plot function with a range of arguments\n",
    "f(x) = x^2\n",
    "x = -4:.01:4 \n",
    "plot(x,f.(x),label=\"f\") # needs broadcasting f.(x)"
   ]
  },
  {
   "cell_type": "code",
   "execution_count": 68,
   "metadata": {
    "tags": []
   },
   "outputs": [
    {
     "data": {
      "image/svg+xml": [
       "<?xml version=\"1.0\" encoding=\"utf-8\"?>\n",
       "<svg xmlns=\"http://www.w3.org/2000/svg\" xmlns:xlink=\"http://www.w3.org/1999/xlink\" width=\"600\" height=\"400\" viewBox=\"0 0 2400 1600\">\n",
       "<defs>\n",
       "  <clipPath id=\"clip250\">\n",
       "    <rect x=\"0\" y=\"0\" width=\"2400\" height=\"1600\"/>\n",
       "  </clipPath>\n",
       "</defs>\n",
       "<path clip-path=\"url(#clip250)\" d=\"\n",
       "M0 1600 L2400 1600 L2400 0 L0 0  Z\n",
       "  \" fill=\"#ffffff\" fill-rule=\"evenodd\" fill-opacity=\"1\"/>\n",
       "<defs>\n",
       "  <clipPath id=\"clip251\">\n",
       "    <rect x=\"480\" y=\"0\" width=\"1681\" height=\"1600\"/>\n",
       "  </clipPath>\n",
       "</defs>\n",
       "<path clip-path=\"url(#clip250)\" d=\"\n",
       "M138.959 1486.45 L2352.76 1486.45 L2352.76 47.2441 L138.959 47.2441  Z\n",
       "  \" fill=\"#ffffff\" fill-rule=\"evenodd\" fill-opacity=\"1\"/>\n",
       "<defs>\n",
       "  <clipPath id=\"clip252\">\n",
       "    <rect x=\"138\" y=\"47\" width=\"2215\" height=\"1440\"/>\n",
       "  </clipPath>\n",
       "</defs>\n",
       "<polyline clip-path=\"url(#clip252)\" style=\"stroke:#000000; stroke-linecap:round; stroke-linejoin:round; stroke-width:2; stroke-opacity:0.1; fill:none\" points=\"\n",
       "  201.614,1486.45 201.614,47.2441 \n",
       "  \"/>\n",
       "<polyline clip-path=\"url(#clip252)\" style=\"stroke:#000000; stroke-linecap:round; stroke-linejoin:round; stroke-width:2; stroke-opacity:0.1; fill:none\" points=\"\n",
       "  723.736,1486.45 723.736,47.2441 \n",
       "  \"/>\n",
       "<polyline clip-path=\"url(#clip252)\" style=\"stroke:#000000; stroke-linecap:round; stroke-linejoin:round; stroke-width:2; stroke-opacity:0.1; fill:none\" points=\"\n",
       "  1245.86,1486.45 1245.86,47.2441 \n",
       "  \"/>\n",
       "<polyline clip-path=\"url(#clip252)\" style=\"stroke:#000000; stroke-linecap:round; stroke-linejoin:round; stroke-width:2; stroke-opacity:0.1; fill:none\" points=\"\n",
       "  1767.98,1486.45 1767.98,47.2441 \n",
       "  \"/>\n",
       "<polyline clip-path=\"url(#clip252)\" style=\"stroke:#000000; stroke-linecap:round; stroke-linejoin:round; stroke-width:2; stroke-opacity:0.1; fill:none\" points=\"\n",
       "  2290.1,1486.45 2290.1,47.2441 \n",
       "  \"/>\n",
       "<polyline clip-path=\"url(#clip250)\" style=\"stroke:#000000; stroke-linecap:round; stroke-linejoin:round; stroke-width:4; stroke-opacity:1; fill:none\" points=\"\n",
       "  138.959,1486.45 2352.76,1486.45 \n",
       "  \"/>\n",
       "<polyline clip-path=\"url(#clip250)\" style=\"stroke:#000000; stroke-linecap:round; stroke-linejoin:round; stroke-width:4; stroke-opacity:1; fill:none\" points=\"\n",
       "  201.614,1486.45 201.614,1467.55 \n",
       "  \"/>\n",
       "<polyline clip-path=\"url(#clip250)\" style=\"stroke:#000000; stroke-linecap:round; stroke-linejoin:round; stroke-width:4; stroke-opacity:1; fill:none\" points=\"\n",
       "  723.736,1486.45 723.736,1467.55 \n",
       "  \"/>\n",
       "<polyline clip-path=\"url(#clip250)\" style=\"stroke:#000000; stroke-linecap:round; stroke-linejoin:round; stroke-width:4; stroke-opacity:1; fill:none\" points=\"\n",
       "  1245.86,1486.45 1245.86,1467.55 \n",
       "  \"/>\n",
       "<polyline clip-path=\"url(#clip250)\" style=\"stroke:#000000; stroke-linecap:round; stroke-linejoin:round; stroke-width:4; stroke-opacity:1; fill:none\" points=\"\n",
       "  1767.98,1486.45 1767.98,1467.55 \n",
       "  \"/>\n",
       "<polyline clip-path=\"url(#clip250)\" style=\"stroke:#000000; stroke-linecap:round; stroke-linejoin:round; stroke-width:4; stroke-opacity:1; fill:none\" points=\"\n",
       "  2290.1,1486.45 2290.1,1467.55 \n",
       "  \"/>\n",
       "<path clip-path=\"url(#clip250)\" d=\"M170.515 1532.02 L200.19 1532.02 L200.19 1535.95 L170.515 1535.95 L170.515 1532.02 Z\" fill=\"#000000\" fill-rule=\"evenodd\" fill-opacity=\"1\" /><path clip-path=\"url(#clip250)\" d=\"M223.13 1518.36 L211.325 1536.81 L223.13 1536.81 L223.13 1518.36 M221.903 1514.29 L227.783 1514.29 L227.783 1536.81 L232.713 1536.81 L232.713 1540.7 L227.783 1540.7 L227.783 1548.85 L223.13 1548.85 L223.13 1540.7 L207.528 1540.7 L207.528 1536.19 L221.903 1514.29 Z\" fill=\"#000000\" fill-rule=\"evenodd\" fill-opacity=\"1\" /><path clip-path=\"url(#clip250)\" d=\"M693.678 1532.02 L723.354 1532.02 L723.354 1535.95 L693.678 1535.95 L693.678 1532.02 Z\" fill=\"#000000\" fill-rule=\"evenodd\" fill-opacity=\"1\" /><path clip-path=\"url(#clip250)\" d=\"M737.474 1544.91 L753.794 1544.91 L753.794 1548.85 L731.849 1548.85 L731.849 1544.91 Q734.511 1542.16 739.095 1537.53 Q743.701 1532.88 744.882 1531.53 Q747.127 1529.01 748.007 1527.27 Q748.909 1525.51 748.909 1523.82 Q748.909 1521.07 746.965 1519.33 Q745.044 1517.6 741.942 1517.6 Q739.743 1517.6 737.289 1518.36 Q734.858 1519.13 732.081 1520.68 L732.081 1515.95 Q734.905 1514.82 737.358 1514.24 Q739.812 1513.66 741.849 1513.66 Q747.22 1513.66 750.414 1516.35 Q753.608 1519.03 753.608 1523.52 Q753.608 1525.65 752.798 1527.57 Q752.011 1529.47 749.905 1532.07 Q749.326 1532.74 746.224 1535.95 Q743.122 1539.15 737.474 1544.91 Z\" fill=\"#000000\" fill-rule=\"evenodd\" fill-opacity=\"1\" /><path clip-path=\"url(#clip250)\" d=\"M1245.86 1517.37 Q1242.25 1517.37 1240.42 1520.93 Q1238.61 1524.47 1238.61 1531.6 Q1238.61 1538.71 1240.42 1542.27 Q1242.25 1545.82 1245.86 1545.82 Q1249.49 1545.82 1251.3 1542.27 Q1253.13 1538.71 1253.13 1531.6 Q1253.13 1524.47 1251.3 1520.93 Q1249.49 1517.37 1245.86 1517.37 M1245.86 1513.66 Q1251.67 1513.66 1254.72 1518.27 Q1257.8 1522.85 1257.8 1531.6 Q1257.8 1540.33 1254.72 1544.94 Q1251.67 1549.52 1245.86 1549.52 Q1240.05 1549.52 1236.97 1544.94 Q1233.91 1540.33 1233.91 1531.6 Q1233.91 1522.85 1236.97 1518.27 Q1240.05 1513.66 1245.86 1513.66 Z\" fill=\"#000000\" fill-rule=\"evenodd\" fill-opacity=\"1\" /><path clip-path=\"url(#clip250)\" d=\"M1762.63 1544.91 L1778.95 1544.91 L1778.95 1548.85 L1757.01 1548.85 L1757.01 1544.91 Q1759.67 1542.16 1764.25 1537.53 Q1768.86 1532.88 1770.04 1531.53 Q1772.29 1529.01 1773.16 1527.27 Q1774.07 1525.51 1774.07 1523.82 Q1774.07 1521.07 1772.12 1519.33 Q1770.2 1517.6 1767.1 1517.6 Q1764.9 1517.6 1762.45 1518.36 Q1760.02 1519.13 1757.24 1520.68 L1757.24 1515.95 Q1760.06 1514.82 1762.52 1514.24 Q1764.97 1513.66 1767.01 1513.66 Q1772.38 1513.66 1775.57 1516.35 Q1778.77 1519.03 1778.77 1523.52 Q1778.77 1525.65 1777.96 1527.57 Q1777.17 1529.47 1775.06 1532.07 Q1774.48 1532.74 1771.38 1535.95 Q1768.28 1539.15 1762.63 1544.91 Z\" fill=\"#000000\" fill-rule=\"evenodd\" fill-opacity=\"1\" /><path clip-path=\"url(#clip250)\" d=\"M2293.11 1518.36 L2281.31 1536.81 L2293.11 1536.81 L2293.11 1518.36 M2291.88 1514.29 L2297.76 1514.29 L2297.76 1536.81 L2302.69 1536.81 L2302.69 1540.7 L2297.76 1540.7 L2297.76 1548.85 L2293.11 1548.85 L2293.11 1540.7 L2277.51 1540.7 L2277.51 1536.19 L2291.88 1514.29 Z\" fill=\"#000000\" fill-rule=\"evenodd\" fill-opacity=\"1\" /><polyline clip-path=\"url(#clip252)\" style=\"stroke:#000000; stroke-linecap:round; stroke-linejoin:round; stroke-width:2; stroke-opacity:0.1; fill:none\" points=\"\n",
       "  138.959,1445.72 2352.76,1445.72 \n",
       "  \"/>\n",
       "<polyline clip-path=\"url(#clip252)\" style=\"stroke:#000000; stroke-linecap:round; stroke-linejoin:round; stroke-width:2; stroke-opacity:0.1; fill:none\" points=\"\n",
       "  138.959,1021.42 2352.76,1021.42 \n",
       "  \"/>\n",
       "<polyline clip-path=\"url(#clip252)\" style=\"stroke:#000000; stroke-linecap:round; stroke-linejoin:round; stroke-width:2; stroke-opacity:0.1; fill:none\" points=\"\n",
       "  138.959,597.129 2352.76,597.129 \n",
       "  \"/>\n",
       "<polyline clip-path=\"url(#clip252)\" style=\"stroke:#000000; stroke-linecap:round; stroke-linejoin:round; stroke-width:2; stroke-opacity:0.1; fill:none\" points=\"\n",
       "  138.959,172.835 2352.76,172.835 \n",
       "  \"/>\n",
       "<polyline clip-path=\"url(#clip250)\" style=\"stroke:#000000; stroke-linecap:round; stroke-linejoin:round; stroke-width:4; stroke-opacity:1; fill:none\" points=\"\n",
       "  138.959,1486.45 138.959,47.2441 \n",
       "  \"/>\n",
       "<polyline clip-path=\"url(#clip250)\" style=\"stroke:#000000; stroke-linecap:round; stroke-linejoin:round; stroke-width:4; stroke-opacity:1; fill:none\" points=\"\n",
       "  138.959,1445.72 157.857,1445.72 \n",
       "  \"/>\n",
       "<polyline clip-path=\"url(#clip250)\" style=\"stroke:#000000; stroke-linecap:round; stroke-linejoin:round; stroke-width:4; stroke-opacity:1; fill:none\" points=\"\n",
       "  138.959,1021.42 157.857,1021.42 \n",
       "  \"/>\n",
       "<polyline clip-path=\"url(#clip250)\" style=\"stroke:#000000; stroke-linecap:round; stroke-linejoin:round; stroke-width:4; stroke-opacity:1; fill:none\" points=\"\n",
       "  138.959,597.129 157.857,597.129 \n",
       "  \"/>\n",
       "<polyline clip-path=\"url(#clip250)\" style=\"stroke:#000000; stroke-linecap:round; stroke-linejoin:round; stroke-width:4; stroke-opacity:1; fill:none\" points=\"\n",
       "  138.959,172.835 157.857,172.835 \n",
       "  \"/>\n",
       "<path clip-path=\"url(#clip250)\" d=\"M91.0151 1431.51 Q87.404 1431.51 85.5753 1435.08 Q83.7697 1438.62 83.7697 1445.75 Q83.7697 1452.86 85.5753 1456.42 Q87.404 1459.96 91.0151 1459.96 Q94.6493 1459.96 96.4548 1456.42 Q98.2835 1452.86 98.2835 1445.75 Q98.2835 1438.62 96.4548 1435.08 Q94.6493 1431.51 91.0151 1431.51 M91.0151 1427.81 Q96.8252 1427.81 99.8808 1432.42 Q102.959 1437 102.959 1445.75 Q102.959 1454.48 99.8808 1459.08 Q96.8252 1463.67 91.0151 1463.67 Q85.2049 1463.67 82.1262 1459.08 Q79.0707 1454.48 79.0707 1445.75 Q79.0707 1437 82.1262 1432.42 Q85.2049 1427.81 91.0151 1427.81 Z\" fill=\"#000000\" fill-rule=\"evenodd\" fill-opacity=\"1\" /><path clip-path=\"url(#clip250)\" d=\"M82.0568 1004.14 L100.413 1004.14 L100.413 1008.08 L86.3392 1008.08 L86.3392 1016.55 Q87.3577 1016.2 88.3762 1016.04 Q89.3947 1015.86 90.4132 1015.86 Q96.2002 1015.86 99.5798 1019.03 Q102.959 1022.2 102.959 1027.61 Q102.959 1033.19 99.4872 1036.29 Q96.015 1039.37 89.6956 1039.37 Q87.5197 1039.37 85.2512 1039 Q83.0058 1038.63 80.5984 1037.89 L80.5984 1033.19 Q82.6818 1034.33 84.904 1034.88 Q87.1262 1035.44 89.603 1035.44 Q93.6076 1035.44 95.9456 1033.33 Q98.2835 1031.23 98.2835 1027.61 Q98.2835 1024 95.9456 1021.9 Q93.6076 1019.79 89.603 1019.79 Q87.728 1019.79 85.8531 1020.21 Q84.0012 1020.62 82.0568 1021.5 L82.0568 1004.14 Z\" fill=\"#000000\" fill-rule=\"evenodd\" fill-opacity=\"1\" /><path clip-path=\"url(#clip250)\" d=\"M51.6634 610.473 L59.3023 610.473 L59.3023 584.108 L50.9921 585.774 L50.9921 581.515 L59.256 579.849 L63.9319 579.849 L63.9319 610.473 L71.5707 610.473 L71.5707 614.409 L51.6634 614.409 L51.6634 610.473 Z\" fill=\"#000000\" fill-rule=\"evenodd\" fill-opacity=\"1\" /><path clip-path=\"url(#clip250)\" d=\"M91.0151 582.927 Q87.404 582.927 85.5753 586.492 Q83.7697 590.034 83.7697 597.163 Q83.7697 604.27 85.5753 607.835 Q87.404 611.376 91.0151 611.376 Q94.6493 611.376 96.4548 607.835 Q98.2835 604.27 98.2835 597.163 Q98.2835 590.034 96.4548 586.492 Q94.6493 582.927 91.0151 582.927 M91.0151 579.224 Q96.8252 579.224 99.8808 583.83 Q102.959 588.413 102.959 597.163 Q102.959 605.89 99.8808 610.497 Q96.8252 615.08 91.0151 615.08 Q85.2049 615.08 82.1262 610.497 Q79.0707 605.89 79.0707 597.163 Q79.0707 588.413 82.1262 583.83 Q85.2049 579.224 91.0151 579.224 Z\" fill=\"#000000\" fill-rule=\"evenodd\" fill-opacity=\"1\" /><path clip-path=\"url(#clip250)\" d=\"M52.6588 186.18 L60.2976 186.18 L60.2976 159.814 L51.9875 161.481 L51.9875 157.222 L60.2513 155.555 L64.9272 155.555 L64.9272 186.18 L72.5661 186.18 L72.5661 190.115 L52.6588 190.115 L52.6588 186.18 Z\" fill=\"#000000\" fill-rule=\"evenodd\" fill-opacity=\"1\" /><path clip-path=\"url(#clip250)\" d=\"M82.0568 155.555 L100.413 155.555 L100.413 159.49 L86.3392 159.49 L86.3392 167.962 Q87.3577 167.615 88.3762 167.453 Q89.3947 167.268 90.4132 167.268 Q96.2002 167.268 99.5798 170.439 Q102.959 173.61 102.959 179.027 Q102.959 184.606 99.4872 187.708 Q96.015 190.786 89.6956 190.786 Q87.5197 190.786 85.2512 190.416 Q83.0058 190.046 80.5984 189.305 L80.5984 184.606 Q82.6818 185.74 84.904 186.296 Q87.1262 186.851 89.603 186.851 Q93.6076 186.851 95.9456 184.745 Q98.2835 182.638 98.2835 179.027 Q98.2835 175.416 95.9456 173.31 Q93.6076 171.203 89.603 171.203 Q87.728 171.203 85.8531 171.62 Q84.0012 172.036 82.0568 172.916 L82.0568 155.555 Z\" fill=\"#000000\" fill-rule=\"evenodd\" fill-opacity=\"1\" /><polyline clip-path=\"url(#clip252)\" style=\"stroke:#009af9; stroke-linecap:round; stroke-linejoin:round; stroke-width:4; stroke-opacity:1; fill:none\" points=\"\n",
       "  201.614,87.9763 204.225,94.7565 206.835,101.52 209.446,108.266 212.056,114.995 214.667,121.708 217.278,128.403 219.888,135.081 222.499,141.743 225.11,148.387 \n",
       "  227.72,155.015 230.331,161.625 232.941,168.219 235.552,174.795 238.163,181.355 240.773,187.897 243.384,194.423 245.994,200.932 248.605,207.423 251.216,213.898 \n",
       "  253.826,220.356 256.437,226.797 259.047,233.22 261.658,239.627 264.269,246.017 266.879,252.39 269.49,258.746 272.101,265.085 274.711,271.407 277.322,277.712 \n",
       "  279.932,284 282.543,290.271 285.154,296.525 287.764,302.762 290.375,308.982 292.985,315.185 295.596,321.372 298.207,327.541 300.817,333.693 303.428,339.828 \n",
       "  306.038,345.947 308.649,352.048 311.26,358.132 313.87,364.2 316.481,370.25 319.091,376.284 321.702,382.3 324.313,388.3 326.923,394.282 329.534,400.248 \n",
       "  332.145,406.196 334.755,412.128 337.366,418.043 339.976,423.94 342.587,429.821 345.198,435.685 347.808,441.532 350.419,447.361 353.029,453.174 355.64,458.97 \n",
       "  358.251,464.749 360.861,470.511 363.472,476.256 366.082,481.984 368.693,487.695 371.304,493.389 373.914,499.066 376.525,504.726 379.135,510.369 381.746,515.995 \n",
       "  384.357,521.604 386.967,527.196 389.578,532.772 392.189,538.33 394.799,543.871 397.41,549.396 400.02,554.903 402.631,560.393 405.242,565.867 407.852,571.323 \n",
       "  410.463,576.762 413.073,582.185 415.684,587.59 418.295,592.979 420.905,598.351 423.516,603.705 426.126,609.043 428.737,614.363 431.348,619.667 433.958,624.954 \n",
       "  436.569,630.223 439.179,635.476 441.79,640.712 444.401,645.931 447.011,651.133 449.622,656.318 452.233,661.485 454.843,666.636 457.454,671.77 460.064,676.887 \n",
       "  462.675,681.987 465.286,687.07 467.896,692.136 470.507,697.185 473.117,702.218 475.728,707.233 478.339,712.231 480.949,717.212 483.56,722.176 486.17,727.124 \n",
       "  488.781,732.054 491.392,736.967 494.002,741.864 496.613,746.743 499.223,751.605 501.834,756.451 504.445,761.279 507.055,766.091 509.666,770.885 512.277,775.663 \n",
       "  514.887,780.423 517.498,785.167 520.108,789.894 522.719,794.603 525.33,799.296 527.94,803.972 530.551,808.63 533.161,813.272 535.772,817.897 538.383,822.505 \n",
       "  540.993,827.096 543.604,831.67 546.214,836.226 548.825,840.766 551.436,845.289 554.046,849.795 556.657,854.284 559.267,858.756 561.878,863.212 564.489,867.65 \n",
       "  567.099,872.071 569.71,876.475 572.321,880.862 574.931,885.232 577.542,889.586 580.152,893.922 582.763,898.241 585.374,902.544 587.984,906.829 590.595,911.097 \n",
       "  593.205,915.349 595.816,919.583 598.427,923.801 601.037,928.001 603.648,932.185 606.258,936.351 608.869,940.501 611.48,944.633 614.09,948.749 616.701,952.848 \n",
       "  619.312,956.93 621.922,960.994 624.533,965.042 627.143,969.073 629.754,973.087 632.365,977.083 634.975,981.063 637.586,985.026 640.196,988.972 642.807,992.901 \n",
       "  645.418,996.813 648.028,1000.71 650.639,1004.59 653.249,1008.45 655.86,1012.29 658.471,1016.12 661.081,1019.93 663.692,1023.72 666.302,1027.5 668.913,1031.26 \n",
       "  671.524,1035 674.134,1038.72 676.745,1042.43 679.356,1046.12 681.966,1049.8 684.577,1053.46 687.187,1057.1 689.798,1060.72 692.409,1064.33 695.019,1067.92 \n",
       "  697.63,1071.49 700.24,1075.04 702.851,1078.58 705.462,1082.1 708.072,1085.61 710.683,1089.1 713.293,1092.57 715.904,1096.02 718.515,1099.46 721.125,1102.88 \n",
       "  723.736,1106.28 726.346,1109.67 728.957,1113.04 731.568,1116.39 734.178,1119.72 736.789,1123.04 739.4,1126.34 742.01,1129.63 744.621,1132.89 747.231,1136.14 \n",
       "  749.842,1139.38 752.453,1142.59 755.063,1145.79 757.674,1148.97 760.284,1152.14 762.895,1155.29 765.506,1158.42 768.116,1161.53 770.727,1164.63 773.337,1167.71 \n",
       "  775.948,1170.77 778.559,1173.82 781.169,1176.85 783.78,1179.86 786.39,1182.86 789.001,1185.84 791.612,1188.8 794.222,1191.74 796.833,1194.67 799.444,1197.58 \n",
       "  802.054,1200.47 804.665,1203.35 807.275,1206.21 809.886,1209.05 812.497,1211.88 815.107,1214.69 817.718,1217.48 820.328,1220.25 822.939,1223.01 825.55,1225.75 \n",
       "  828.16,1228.48 830.771,1231.18 833.381,1233.87 835.992,1236.55 838.603,1239.2 841.213,1241.84 843.824,1244.46 846.434,1247.07 849.045,1249.66 851.656,1252.23 \n",
       "  854.266,1254.78 856.877,1257.32 859.488,1259.84 862.098,1262.34 864.709,1264.83 867.319,1267.3 869.93,1269.75 872.541,1272.19 875.151,1274.61 877.762,1277.01 \n",
       "  880.372,1279.39 882.983,1281.76 885.594,1284.11 888.204,1286.44 890.815,1288.76 893.425,1291.06 896.036,1293.34 898.647,1295.61 901.257,1297.86 903.868,1300.09 \n",
       "  906.478,1302.3 909.089,1304.5 911.7,1306.68 914.31,1308.85 916.921,1310.99 919.532,1313.12 922.142,1315.24 924.753,1317.33 927.363,1319.41 929.974,1321.47 \n",
       "  932.585,1323.52 935.195,1325.55 937.806,1327.56 940.416,1329.55 943.027,1331.53 945.638,1333.49 948.248,1335.43 950.859,1337.36 953.469,1339.27 956.08,1341.16 \n",
       "  958.691,1343.04 961.301,1344.9 963.912,1346.74 966.523,1348.56 969.133,1350.37 971.744,1352.16 974.354,1353.93 976.965,1355.69 979.576,1357.43 982.186,1359.15 \n",
       "  984.797,1360.86 987.407,1362.55 990.018,1364.22 992.629,1365.87 995.239,1367.51 997.85,1369.13 1000.46,1370.73 1003.07,1372.32 1005.68,1373.89 1008.29,1375.44 \n",
       "  1010.9,1376.98 1013.51,1378.5 1016.12,1380 1018.73,1381.49 1021.35,1382.95 1023.96,1384.41 1026.57,1385.84 1029.18,1387.26 1031.79,1388.66 1034.4,1390.04 \n",
       "  1037.01,1391.41 1039.62,1392.76 1042.23,1394.09 1044.84,1395.4 1047.45,1396.7 1050.06,1397.98 1052.67,1399.25 1055.28,1400.49 1057.89,1401.72 1060.5,1402.94 \n",
       "  1063.12,1404.13 1065.73,1405.31 1068.34,1406.48 1070.95,1407.62 1073.56,1408.75 1076.17,1409.86 1078.78,1410.96 1081.39,1412.04 1084,1413.1 1086.61,1414.14 \n",
       "  1089.22,1415.17 1091.83,1416.18 1094.44,1417.17 1097.05,1418.15 1099.66,1419.1 1102.27,1420.05 1104.88,1420.97 1107.5,1421.88 1110.11,1422.77 1112.72,1423.64 \n",
       "  1115.33,1424.5 1117.94,1425.34 1120.55,1426.16 1123.16,1426.97 1125.77,1427.76 1128.38,1428.53 1130.99,1429.29 1133.6,1430.03 1136.21,1430.75 1138.82,1431.45 \n",
       "  1141.43,1432.14 1144.04,1432.81 1146.65,1433.46 1149.27,1434.1 1151.88,1434.72 1154.49,1435.32 1157.1,1435.91 1159.71,1436.47 1162.32,1437.03 1164.93,1437.56 \n",
       "  1167.54,1438.08 1170.15,1438.58 1172.76,1439.06 1175.37,1439.53 1177.98,1439.98 1180.59,1440.41 1183.2,1440.83 1185.81,1441.23 1188.42,1441.61 1191.03,1441.97 \n",
       "  1193.65,1442.32 1196.26,1442.65 1198.87,1442.97 1201.48,1443.26 1204.09,1443.54 1206.7,1443.81 1209.31,1444.05 1211.92,1444.28 1214.53,1444.49 1217.14,1444.69 \n",
       "  1219.75,1444.87 1222.36,1445.03 1224.97,1445.17 1227.58,1445.3 1230.19,1445.41 1232.8,1445.5 1235.42,1445.58 1238.03,1445.64 1240.64,1445.68 1243.25,1445.71 \n",
       "  1245.86,1445.72 1248.47,1445.71 1251.08,1445.68 1253.69,1445.64 1256.3,1445.58 1258.91,1445.5 1261.52,1445.41 1264.13,1445.3 1266.74,1445.17 1269.35,1445.03 \n",
       "  1271.96,1444.87 1274.57,1444.69 1277.18,1444.49 1279.8,1444.28 1282.41,1444.05 1285.02,1443.81 1287.63,1443.54 1290.24,1443.26 1292.85,1442.97 1295.46,1442.65 \n",
       "  1298.07,1442.32 1300.68,1441.97 1303.29,1441.61 1305.9,1441.23 1308.51,1440.83 1311.12,1440.41 1313.73,1439.98 1316.34,1439.53 1318.95,1439.06 1321.57,1438.58 \n",
       "  1324.18,1438.08 1326.79,1437.56 1329.4,1437.03 1332.01,1436.47 1334.62,1435.91 1337.23,1435.32 1339.84,1434.72 1342.45,1434.1 1345.06,1433.46 1347.67,1432.81 \n",
       "  1350.28,1432.14 1352.89,1431.45 1355.5,1430.75 1358.11,1430.03 1360.72,1429.29 1363.34,1428.53 1365.95,1427.76 1368.56,1426.97 1371.17,1426.16 1373.78,1425.34 \n",
       "  1376.39,1424.5 1379,1423.64 1381.61,1422.77 1384.22,1421.88 1386.83,1420.97 1389.44,1420.05 1392.05,1419.1 1394.66,1418.15 1397.27,1417.17 1399.88,1416.18 \n",
       "  1402.49,1415.17 1405.1,1414.14 1407.72,1413.1 1410.33,1412.04 1412.94,1410.96 1415.55,1409.86 1418.16,1408.75 1420.77,1407.62 1423.38,1406.48 1425.99,1405.31 \n",
       "  1428.6,1404.13 1431.21,1402.94 1433.82,1401.72 1436.43,1400.49 1439.04,1399.25 1441.65,1397.98 1444.26,1396.7 1446.87,1395.4 1449.49,1394.09 1452.1,1392.76 \n",
       "  1454.71,1391.41 1457.32,1390.04 1459.93,1388.66 1462.54,1387.26 1465.15,1385.84 1467.76,1384.41 1470.37,1382.95 1472.98,1381.49 1475.59,1380 1478.2,1378.5 \n",
       "  1480.81,1376.98 1483.42,1375.44 1486.03,1373.89 1488.64,1372.32 1491.25,1370.73 1493.87,1369.13 1496.48,1367.51 1499.09,1365.87 1501.7,1364.22 1504.31,1362.55 \n",
       "  1506.92,1360.86 1509.53,1359.15 1512.14,1357.43 1514.75,1355.69 1517.36,1353.93 1519.97,1352.16 1522.58,1350.37 1525.19,1348.56 1527.8,1346.74 1530.41,1344.9 \n",
       "  1533.02,1343.04 1535.64,1341.16 1538.25,1339.27 1540.86,1337.36 1543.47,1335.43 1546.08,1333.49 1548.69,1331.53 1551.3,1329.55 1553.91,1327.56 1556.52,1325.55 \n",
       "  1559.13,1323.52 1561.74,1321.47 1564.35,1319.41 1566.96,1317.33 1569.57,1315.24 1572.18,1313.12 1574.79,1310.99 1577.41,1308.85 1580.02,1306.68 1582.63,1304.5 \n",
       "  1585.24,1302.3 1587.85,1300.09 1590.46,1297.86 1593.07,1295.61 1595.68,1293.34 1598.29,1291.06 1600.9,1288.76 1603.51,1286.44 1606.12,1284.11 1608.73,1281.76 \n",
       "  1611.34,1279.39 1613.95,1277.01 1616.56,1274.61 1619.17,1272.19 1621.79,1269.75 1624.4,1267.3 1627.01,1264.83 1629.62,1262.34 1632.23,1259.84 1634.84,1257.32 \n",
       "  1637.45,1254.78 1640.06,1252.23 1642.67,1249.66 1645.28,1247.07 1647.89,1244.46 1650.5,1241.84 1653.11,1239.2 1655.72,1236.55 1658.33,1233.87 1660.94,1231.18 \n",
       "  1663.56,1228.48 1666.17,1225.75 1668.78,1223.01 1671.39,1220.25 1674,1217.48 1676.61,1214.69 1679.22,1211.88 1681.83,1209.05 1684.44,1206.21 1687.05,1203.35 \n",
       "  1689.66,1200.47 1692.27,1197.58 1694.88,1194.67 1697.49,1191.74 1700.1,1188.8 1702.71,1185.84 1705.32,1182.86 1707.94,1179.86 1710.55,1176.85 1713.16,1173.82 \n",
       "  1715.77,1170.77 1718.38,1167.71 1720.99,1164.63 1723.6,1161.53 1726.21,1158.42 1728.82,1155.29 1731.43,1152.14 1734.04,1148.97 1736.65,1145.79 1739.26,1142.59 \n",
       "  1741.87,1139.38 1744.48,1136.14 1747.09,1132.89 1749.71,1129.63 1752.32,1126.34 1754.93,1123.04 1757.54,1119.72 1760.15,1116.39 1762.76,1113.04 1765.37,1109.67 \n",
       "  1767.98,1106.28 1770.59,1102.88 1773.2,1099.46 1775.81,1096.02 1778.42,1092.57 1781.03,1089.1 1783.64,1085.61 1786.25,1082.1 1788.86,1078.58 1791.47,1075.04 \n",
       "  1794.09,1071.49 1796.7,1067.92 1799.31,1064.33 1801.92,1060.72 1804.53,1057.1 1807.14,1053.46 1809.75,1049.8 1812.36,1046.12 1814.97,1042.43 1817.58,1038.72 \n",
       "  1820.19,1035 1822.8,1031.26 1825.41,1027.5 1828.02,1023.72 1830.63,1019.93 1833.24,1016.12 1835.86,1012.29 1838.47,1008.45 1841.08,1004.59 1843.69,1000.71 \n",
       "  1846.3,996.813 1848.91,992.901 1851.52,988.972 1854.13,985.026 1856.74,981.063 1859.35,977.083 1861.96,973.087 1864.57,969.073 1867.18,965.042 1869.79,960.994 \n",
       "  1872.4,956.93 1875.01,952.848 1877.63,948.749 1880.24,944.633 1882.85,940.501 1885.46,936.351 1888.07,932.185 1890.68,928.001 1893.29,923.801 1895.9,919.583 \n",
       "  1898.51,915.349 1901.12,911.097 1903.73,906.829 1906.34,902.544 1908.95,898.241 1911.56,893.922 1914.17,889.586 1916.78,885.232 1919.39,880.862 1922.01,876.475 \n",
       "  1924.62,872.071 1927.23,867.65 1929.84,863.212 1932.45,858.756 1935.06,854.284 1937.67,849.795 1940.28,845.289 1942.89,840.766 1945.5,836.226 1948.11,831.67 \n",
       "  1950.72,827.096 1953.33,822.505 1955.94,817.897 1958.55,813.272 1961.16,808.63 1963.78,803.972 1966.39,799.296 1969,794.603 1971.61,789.894 1974.22,785.167 \n",
       "  1976.83,780.423 1979.44,775.663 1982.05,770.885 1984.66,766.091 1987.27,761.279 1989.88,756.451 1992.49,751.605 1995.1,746.743 1997.71,741.864 2000.32,736.967 \n",
       "  2002.93,732.054 2005.54,727.124 2008.16,722.176 2010.77,717.212 2013.38,712.231 2015.99,707.233 2018.6,702.218 2021.21,697.185 2023.82,692.136 2026.43,687.07 \n",
       "  2029.04,681.987 2031.65,676.887 2034.26,671.77 2036.87,666.636 2039.48,661.485 2042.09,656.318 2044.7,651.133 2047.31,645.931 2049.93,640.712 2052.54,635.476 \n",
       "  2055.15,630.223 2057.76,624.954 2060.37,619.667 2062.98,614.363 2065.59,609.043 2068.2,603.705 2070.81,598.351 2073.42,592.979 2076.03,587.59 2078.64,582.185 \n",
       "  2081.25,576.762 2083.86,571.323 2086.47,565.867 2089.08,560.393 2091.7,554.903 2094.31,549.396 2096.92,543.871 2099.53,538.33 2102.14,532.772 2104.75,527.196 \n",
       "  2107.36,521.604 2109.97,515.995 2112.58,510.369 2115.19,504.726 2117.8,499.066 2120.41,493.389 2123.02,487.695 2125.63,481.984 2128.24,476.256 2130.85,470.511 \n",
       "  2133.46,464.749 2136.08,458.97 2138.69,453.174 2141.3,447.361 2143.91,441.532 2146.52,435.685 2149.13,429.821 2151.74,423.94 2154.35,418.043 2156.96,412.128 \n",
       "  2159.57,406.196 2162.18,400.248 2164.79,394.282 2167.4,388.3 2170.01,382.3 2172.62,376.284 2175.23,370.25 2177.85,364.2 2180.46,358.132 2183.07,352.048 \n",
       "  2185.68,345.947 2188.29,339.828 2190.9,333.693 2193.51,327.541 2196.12,321.372 2198.73,315.185 2201.34,308.982 2203.95,302.762 2206.56,296.525 2209.17,290.271 \n",
       "  2211.78,284 2214.39,277.712 2217,271.407 2219.61,265.085 2222.23,258.746 2224.84,252.39 2227.45,246.017 2230.06,239.627 2232.67,233.22 2235.28,226.797 \n",
       "  2237.89,220.356 2240.5,213.898 2243.11,207.423 2245.72,200.932 2248.33,194.423 2250.94,187.897 2253.55,181.355 2256.16,174.795 2258.77,168.219 2261.38,161.625 \n",
       "  2264,155.015 2266.61,148.387 2269.22,141.743 2271.83,135.081 2274.44,128.403 2277.05,121.708 2279.66,114.995 2282.27,108.266 2284.88,101.52 2287.49,94.7565 \n",
       "  2290.1,87.9763 \n",
       "  \"/>\n",
       "<circle clip-path=\"url(#clip252)\" cx=\"201.614\" cy=\"87.9763\" r=\"14.4\" fill=\"#e26f46\" fill-rule=\"evenodd\" fill-opacity=\"1\" stroke=\"#000000\" stroke-opacity=\"1\" stroke-width=\"3.2\"/>\n",
       "<circle clip-path=\"url(#clip252)\" cx=\"462.675\" cy=\"681.987\" r=\"14.4\" fill=\"#e26f46\" fill-rule=\"evenodd\" fill-opacity=\"1\" stroke=\"#000000\" stroke-opacity=\"1\" stroke-width=\"3.2\"/>\n",
       "<circle clip-path=\"url(#clip252)\" cx=\"723.736\" cy=\"1106.28\" r=\"14.4\" fill=\"#e26f46\" fill-rule=\"evenodd\" fill-opacity=\"1\" stroke=\"#000000\" stroke-opacity=\"1\" stroke-width=\"3.2\"/>\n",
       "<circle clip-path=\"url(#clip252)\" cx=\"984.797\" cy=\"1360.86\" r=\"14.4\" fill=\"#e26f46\" fill-rule=\"evenodd\" fill-opacity=\"1\" stroke=\"#000000\" stroke-opacity=\"1\" stroke-width=\"3.2\"/>\n",
       "<circle clip-path=\"url(#clip252)\" cx=\"1245.86\" cy=\"1445.72\" r=\"14.4\" fill=\"#e26f46\" fill-rule=\"evenodd\" fill-opacity=\"1\" stroke=\"#000000\" stroke-opacity=\"1\" stroke-width=\"3.2\"/>\n",
       "<circle clip-path=\"url(#clip252)\" cx=\"1506.92\" cy=\"1360.86\" r=\"14.4\" fill=\"#e26f46\" fill-rule=\"evenodd\" fill-opacity=\"1\" stroke=\"#000000\" stroke-opacity=\"1\" stroke-width=\"3.2\"/>\n",
       "<circle clip-path=\"url(#clip252)\" cx=\"1767.98\" cy=\"1106.28\" r=\"14.4\" fill=\"#e26f46\" fill-rule=\"evenodd\" fill-opacity=\"1\" stroke=\"#000000\" stroke-opacity=\"1\" stroke-width=\"3.2\"/>\n",
       "<circle clip-path=\"url(#clip252)\" cx=\"2029.04\" cy=\"681.987\" r=\"14.4\" fill=\"#e26f46\" fill-rule=\"evenodd\" fill-opacity=\"1\" stroke=\"#000000\" stroke-opacity=\"1\" stroke-width=\"3.2\"/>\n",
       "<circle clip-path=\"url(#clip252)\" cx=\"2290.1\" cy=\"87.9763\" r=\"14.4\" fill=\"#e26f46\" fill-rule=\"evenodd\" fill-opacity=\"1\" stroke=\"#000000\" stroke-opacity=\"1\" stroke-width=\"3.2\"/>\n",
       "<path clip-path=\"url(#clip250)\" d=\"\n",
       "M1657.92 250.738 L2278.96 250.738 L2278.96 95.2176 L1657.92 95.2176  Z\n",
       "  \" fill=\"#ffffff\" fill-rule=\"evenodd\" fill-opacity=\"1\"/>\n",
       "<polyline clip-path=\"url(#clip250)\" style=\"stroke:#000000; stroke-linecap:round; stroke-linejoin:round; stroke-width:4; stroke-opacity:1; fill:none\" points=\"\n",
       "  1657.92,250.738 2278.96,250.738 2278.96,95.2176 1657.92,95.2176 1657.92,250.738 \n",
       "  \"/>\n",
       "<polyline clip-path=\"url(#clip250)\" style=\"stroke:#009af9; stroke-linecap:round; stroke-linejoin:round; stroke-width:4; stroke-opacity:1; fill:none\" points=\"\n",
       "  1682.52,147.058 1830.1,147.058 \n",
       "  \"/>\n",
       "<path clip-path=\"url(#clip250)\" d=\"M1871.2 128.319 L1871.2 131.861 L1867.13 131.861 Q1864.84 131.861 1863.94 132.787 Q1863.06 133.713 1863.06 136.12 L1863.06 138.412 L1870.07 138.412 L1870.07 141.722 L1863.06 141.722 L1863.06 164.338 L1858.77 164.338 L1858.77 141.722 L1854.7 141.722 L1854.7 138.412 L1858.77 138.412 L1858.77 136.606 Q1858.77 132.278 1860.79 130.31 Q1862.8 128.319 1867.18 128.319 L1871.2 128.319 Z\" fill=\"#000000\" fill-rule=\"evenodd\" fill-opacity=\"1\" /><circle clip-path=\"url(#clip250)\" cx=\"1756.31\" cy=\"198.898\" r=\"23.04\" fill=\"#e26f46\" fill-rule=\"evenodd\" fill-opacity=\"1\" stroke=\"#000000\" stroke-opacity=\"1\" stroke-width=\"5.12\"/>\n",
       "<path clip-path=\"url(#clip250)\" d=\"M1854.7 190.252 L1858.96 190.252 L1858.96 216.178 L1854.7 216.178 L1854.7 190.252 M1854.7 180.159 L1858.96 180.159 L1858.96 185.553 L1854.7 185.553 L1854.7 180.159 Z\" fill=\"#000000\" fill-rule=\"evenodd\" fill-opacity=\"1\" /><path clip-path=\"url(#clip250)\" d=\"M1889.42 200.529 L1889.42 216.178 L1885.16 216.178 L1885.16 200.668 Q1885.16 196.988 1883.73 195.159 Q1882.29 193.33 1879.42 193.33 Q1875.97 193.33 1873.98 195.53 Q1871.99 197.729 1871.99 201.525 L1871.99 216.178 L1867.71 216.178 L1867.71 190.252 L1871.99 190.252 L1871.99 194.28 Q1873.52 191.942 1875.58 190.784 Q1877.66 189.627 1880.37 189.627 Q1884.84 189.627 1887.13 192.405 Q1889.42 195.159 1889.42 200.529 Z\" fill=\"#000000\" fill-rule=\"evenodd\" fill-opacity=\"1\" /><path clip-path=\"url(#clip250)\" d=\"M1902.13 182.891 L1902.13 190.252 L1910.9 190.252 L1910.9 193.562 L1902.13 193.562 L1902.13 207.636 Q1902.13 210.807 1902.99 211.71 Q1903.87 212.613 1906.53 212.613 L1910.9 212.613 L1910.9 216.178 L1906.53 216.178 Q1901.6 216.178 1899.72 214.349 Q1897.85 212.497 1897.85 207.636 L1897.85 193.562 L1894.72 193.562 L1894.72 190.252 L1897.85 190.252 L1897.85 182.891 L1902.13 182.891 Z\" fill=\"#000000\" fill-rule=\"evenodd\" fill-opacity=\"1\" /><path clip-path=\"url(#clip250)\" d=\"M1938.68 202.15 L1938.68 204.233 L1919.1 204.233 Q1919.38 208.631 1921.74 210.946 Q1924.12 213.238 1928.36 213.238 Q1930.81 213.238 1933.1 212.636 Q1935.42 212.034 1937.69 210.83 L1937.69 214.858 Q1935.39 215.83 1932.99 216.34 Q1930.58 216.849 1928.1 216.849 Q1921.9 216.849 1918.26 213.238 Q1914.65 209.627 1914.65 203.469 Q1914.65 197.104 1918.08 193.377 Q1921.53 189.627 1927.36 189.627 Q1932.59 189.627 1935.63 193.006 Q1938.68 196.363 1938.68 202.15 M1934.42 200.9 Q1934.38 197.405 1932.45 195.321 Q1930.56 193.238 1927.41 193.238 Q1923.84 193.238 1921.69 195.252 Q1919.56 197.266 1919.24 200.923 L1934.42 200.9 Z\" fill=\"#000000\" fill-rule=\"evenodd\" fill-opacity=\"1\" /><path clip-path=\"url(#clip250)\" d=\"M1962.73 202.914 Q1962.73 198.284 1960.81 195.738 Q1958.91 193.192 1955.46 193.192 Q1952.04 193.192 1950.12 195.738 Q1948.22 198.284 1948.22 202.914 Q1948.22 207.52 1950.12 210.066 Q1952.04 212.613 1955.46 212.613 Q1958.91 212.613 1960.81 210.066 Q1962.73 207.52 1962.73 202.914 M1966.99 212.96 Q1966.99 219.58 1964.05 222.798 Q1961.11 226.039 1955.05 226.039 Q1952.8 226.039 1950.81 225.691 Q1948.82 225.367 1946.94 224.673 L1946.94 220.529 Q1948.82 221.548 1950.65 222.034 Q1952.48 222.52 1954.38 222.52 Q1958.56 222.52 1960.65 220.321 Q1962.73 218.145 1962.73 213.724 L1962.73 211.617 Q1961.41 213.909 1959.35 215.043 Q1957.29 216.178 1954.42 216.178 Q1949.65 216.178 1946.74 212.543 Q1943.82 208.909 1943.82 202.914 Q1943.82 196.895 1946.74 193.261 Q1949.65 189.627 1954.42 189.627 Q1957.29 189.627 1959.35 190.761 Q1961.41 191.895 1962.73 194.187 L1962.73 190.252 L1966.99 190.252 L1966.99 212.96 Z\" fill=\"#000000\" fill-rule=\"evenodd\" fill-opacity=\"1\" /><path clip-path=\"url(#clip250)\" d=\"M1997.94 202.15 L1997.94 204.233 L1978.36 204.233 Q1978.63 208.631 1981 210.946 Q1983.38 213.238 1987.62 213.238 Q1990.07 213.238 1992.36 212.636 Q1994.68 212.034 1996.94 210.83 L1996.94 214.858 Q1994.65 215.83 1992.25 216.34 Q1989.84 216.849 1987.36 216.849 Q1981.16 216.849 1977.52 213.238 Q1973.91 209.627 1973.91 203.469 Q1973.91 197.104 1977.34 193.377 Q1980.79 189.627 1986.62 189.627 Q1991.85 189.627 1994.88 193.006 Q1997.94 196.363 1997.94 202.15 M1993.68 200.9 Q1993.63 197.405 1991.71 195.321 Q1989.81 193.238 1986.67 193.238 Q1983.1 193.238 1980.95 195.252 Q1978.82 197.266 1978.5 200.923 L1993.68 200.9 Z\" fill=\"#000000\" fill-rule=\"evenodd\" fill-opacity=\"1\" /><path clip-path=\"url(#clip250)\" d=\"M2019.95 194.233 Q2019.24 193.817 2018.38 193.631 Q2017.55 193.423 2016.53 193.423 Q2012.92 193.423 2010.97 195.784 Q2009.05 198.122 2009.05 202.52 L2009.05 216.178 L2004.77 216.178 L2004.77 190.252 L2009.05 190.252 L2009.05 194.28 Q2010.39 191.918 2012.55 190.784 Q2014.7 189.627 2017.78 189.627 Q2018.22 189.627 2018.75 189.696 Q2019.28 189.743 2019.93 189.858 L2019.95 194.233 Z\" fill=\"#000000\" fill-rule=\"evenodd\" fill-opacity=\"1\" /><path clip-path=\"url(#clip250)\" d=\"M2056.02 191.016 L2056.02 195.043 Q2054.21 194.117 2052.27 193.655 Q2050.32 193.192 2048.24 193.192 Q2045.07 193.192 2043.47 194.164 Q2041.9 195.136 2041.9 197.08 Q2041.9 198.562 2043.03 199.418 Q2044.17 200.252 2047.59 201.016 L2049.05 201.34 Q2053.59 202.312 2055.49 204.094 Q2057.41 205.854 2057.41 209.025 Q2057.41 212.636 2054.54 214.742 Q2051.69 216.849 2046.69 216.849 Q2044.61 216.849 2042.34 216.432 Q2040.09 216.039 2037.59 215.228 L2037.59 210.83 Q2039.95 212.057 2042.25 212.682 Q2044.54 213.284 2046.78 213.284 Q2049.79 213.284 2051.41 212.266 Q2053.03 211.224 2053.03 209.349 Q2053.03 207.613 2051.85 206.687 Q2050.69 205.761 2046.74 204.904 L2045.25 204.557 Q2041.3 203.724 2039.54 202.011 Q2037.78 200.275 2037.78 197.266 Q2037.78 193.608 2040.37 191.618 Q2042.96 189.627 2047.73 189.627 Q2050.09 189.627 2052.18 189.974 Q2054.26 190.321 2056.02 191.016 Z\" fill=\"#000000\" fill-rule=\"evenodd\" fill-opacity=\"1\" /><path clip-path=\"url(#clip250)\" d=\"M2075.97 203.145 Q2070.81 203.145 2068.82 204.326 Q2066.83 205.506 2066.83 208.354 Q2066.83 210.622 2068.31 211.965 Q2069.81 213.284 2072.38 213.284 Q2075.93 213.284 2078.06 210.784 Q2080.21 208.261 2080.21 204.094 L2080.21 203.145 L2075.97 203.145 M2084.47 201.386 L2084.47 216.178 L2080.21 216.178 L2080.21 212.242 Q2078.75 214.603 2076.57 215.738 Q2074.4 216.849 2071.25 216.849 Q2067.27 216.849 2064.91 214.627 Q2062.57 212.381 2062.57 208.631 Q2062.57 204.256 2065.49 202.034 Q2068.43 199.812 2074.24 199.812 L2080.21 199.812 L2080.21 199.395 Q2080.21 196.455 2078.26 194.858 Q2076.34 193.238 2072.85 193.238 Q2070.62 193.238 2068.52 193.77 Q2066.41 194.303 2064.47 195.367 L2064.47 191.432 Q2066.81 190.53 2069 190.09 Q2071.2 189.627 2073.29 189.627 Q2078.91 189.627 2081.69 192.543 Q2084.47 195.46 2084.47 201.386 Z\" fill=\"#000000\" fill-rule=\"evenodd\" fill-opacity=\"1\" /><path clip-path=\"url(#clip250)\" d=\"M2113.43 195.229 Q2115.02 192.358 2117.24 190.993 Q2119.47 189.627 2122.48 189.627 Q2126.53 189.627 2128.73 192.474 Q2130.93 195.298 2130.93 200.529 L2130.93 216.178 L2126.64 216.178 L2126.64 200.668 Q2126.64 196.942 2125.32 195.136 Q2124 193.33 2121.3 193.33 Q2117.99 193.33 2116.06 195.53 Q2114.14 197.729 2114.14 201.525 L2114.14 216.178 L2109.86 216.178 L2109.86 200.668 Q2109.86 196.918 2108.54 195.136 Q2107.22 193.33 2104.47 193.33 Q2101.2 193.33 2099.28 195.553 Q2097.36 197.752 2097.36 201.525 L2097.36 216.178 L2093.08 216.178 L2093.08 190.252 L2097.36 190.252 L2097.36 194.28 Q2098.82 191.895 2100.86 190.761 Q2102.89 189.627 2105.69 189.627 Q2108.52 189.627 2110.49 191.062 Q2112.48 192.497 2113.43 195.229 Z\" fill=\"#000000\" fill-rule=\"evenodd\" fill-opacity=\"1\" /><path clip-path=\"url(#clip250)\" d=\"M2143.54 212.289 L2143.54 226.039 L2139.26 226.039 L2139.26 190.252 L2143.54 190.252 L2143.54 194.187 Q2144.88 191.872 2146.92 190.761 Q2148.98 189.627 2151.83 189.627 Q2156.55 189.627 2159.49 193.377 Q2162.45 197.127 2162.45 203.238 Q2162.45 209.349 2159.49 213.099 Q2156.55 216.849 2151.83 216.849 Q2148.98 216.849 2146.92 215.738 Q2144.88 214.603 2143.54 212.289 M2158.03 203.238 Q2158.03 198.539 2156.09 195.877 Q2154.17 193.192 2150.79 193.192 Q2147.41 193.192 2145.46 195.877 Q2143.54 198.539 2143.54 203.238 Q2143.54 207.937 2145.46 210.622 Q2147.41 213.284 2150.79 213.284 Q2154.17 213.284 2156.09 210.622 Q2158.03 207.937 2158.03 203.238 Z\" fill=\"#000000\" fill-rule=\"evenodd\" fill-opacity=\"1\" /><path clip-path=\"url(#clip250)\" d=\"M2169.51 180.159 L2173.77 180.159 L2173.77 216.178 L2169.51 216.178 L2169.51 180.159 Z\" fill=\"#000000\" fill-rule=\"evenodd\" fill-opacity=\"1\" /><path clip-path=\"url(#clip250)\" d=\"M2204.86 202.15 L2204.86 204.233 L2185.28 204.233 Q2185.55 208.631 2187.92 210.946 Q2190.3 213.238 2194.54 213.238 Q2196.99 213.238 2199.28 212.636 Q2201.6 212.034 2203.86 210.83 L2203.86 214.858 Q2201.57 215.83 2199.17 216.34 Q2196.76 216.849 2194.28 216.849 Q2188.08 216.849 2184.44 213.238 Q2180.83 209.627 2180.83 203.469 Q2180.83 197.104 2184.26 193.377 Q2187.71 189.627 2193.54 189.627 Q2198.77 189.627 2201.8 193.006 Q2204.86 196.363 2204.86 202.15 M2200.6 200.9 Q2200.55 197.405 2198.63 195.321 Q2196.73 193.238 2193.59 193.238 Q2190.02 193.238 2187.87 195.252 Q2185.74 197.266 2185.42 200.923 L2200.6 200.9 Z\" fill=\"#000000\" fill-rule=\"evenodd\" fill-opacity=\"1\" /><path clip-path=\"url(#clip250)\" d=\"M2228.38 191.016 L2228.38 195.043 Q2226.57 194.117 2224.63 193.655 Q2222.68 193.192 2220.6 193.192 Q2217.43 193.192 2215.83 194.164 Q2214.26 195.136 2214.26 197.08 Q2214.26 198.562 2215.39 199.418 Q2216.53 200.252 2219.95 201.016 L2221.41 201.34 Q2225.95 202.312 2227.85 204.094 Q2229.77 205.854 2229.77 209.025 Q2229.77 212.636 2226.9 214.742 Q2224.05 216.849 2219.05 216.849 Q2216.97 216.849 2214.7 216.432 Q2212.45 216.039 2209.95 215.228 L2209.95 210.83 Q2212.31 212.057 2214.61 212.682 Q2216.9 213.284 2219.14 213.284 Q2222.15 213.284 2223.77 212.266 Q2225.39 211.224 2225.39 209.349 Q2225.39 207.613 2224.21 206.687 Q2223.05 205.761 2219.1 204.904 L2217.61 204.557 Q2213.66 203.724 2211.9 202.011 Q2210.14 200.275 2210.14 197.266 Q2210.14 193.608 2212.73 191.618 Q2215.32 189.627 2220.09 189.627 Q2222.45 189.627 2224.54 189.974 Q2226.62 190.321 2228.38 191.016 Z\" fill=\"#000000\" fill-rule=\"evenodd\" fill-opacity=\"1\" /></svg>\n"
      ]
     },
     "execution_count": 68,
     "metadata": {},
     "output_type": "execute_result"
    }
   ],
   "source": [
    "# scatter plots \n",
    "plot(x,f.(x),label=\"f\")\n",
    "z = -4:4\n",
    "scatter!(z,f.(z),label=\"integer samples\")  # without \"!\", scatter would create a new plot "
   ]
  },
  {
   "cell_type": "code",
   "execution_count": 71,
   "metadata": {
    "tags": []
   },
   "outputs": [
    {
     "data": {
      "text/plain": [
       "myGeometricSeries (generic function with 1 method)"
      ]
     },
     "execution_count": 71,
     "metadata": {},
     "output_type": "execute_result"
    }
   ],
   "source": [
    "function myGeometricSeries(q)\n",
    "        sum(q^k for k in 0:20)\n",
    "end"
   ]
  },
  {
   "cell_type": "code",
   "execution_count": 74,
   "metadata": {
    "tags": []
   },
   "outputs": [
    {
     "name": "stdout",
     "output_type": "stream",
     "text": [
      "\u001b[0m\u001b[1mTest Summary: | \u001b[22m\u001b[32m\u001b[1mPass  \u001b[22m\u001b[39m\u001b[36m\u001b[1mTotal  \u001b[22m\u001b[39m\u001b[0m\u001b[1mTime\u001b[22m\n",
      "myTests       | \u001b[32m   5  \u001b[39m\u001b[36m    5  \u001b[39m\u001b[0m0.0s\n"
     ]
    },
    {
     "data": {
      "text/plain": [
       "Test.DefaultTestSet(\"myTests\", Any[], 5, false, false, true, 1.665160058615851e9, 1.665160058615889e9)"
      ]
     },
     "execution_count": 74,
     "metadata": {},
     "output_type": "execute_result"
    }
   ],
   "source": [
    "# test your functions \n",
    "using Test\n",
    "@testset \"myTests\" begin     \n",
    "    for q in 0.1:0.1:0.5        \n",
    "        @test abs(myGeometricSeries(q) - 1/(1-q)) < 1e-6  # 10^-6\n",
    "    end\n",
    "end"
   ]
  },
  {
   "cell_type": "markdown",
   "metadata": {},
   "source": [
    "## vector and matrix norms"
   ]
  },
  {
   "cell_type": "markdown",
   "metadata": {},
   "source": [
    "<div class=\"alert alert-block alert-info\">\n",
    "For $x\\in \\mathbb{R}^n$,\n",
    "\n",
    "- sum norm\n",
    "\\begin{equation*}\n",
    "\\|x\\|_1 = \\sum_{k=1}^n |x_k|\n",
    "\\end{equation*}\n",
    "- maximum/infinity norm\n",
    "\\begin{equation*}\n",
    "\\|x\\|_\\infty = \\max_{k=1,\\ldots,n}|x_k|\n",
    "\\end{equation*}\n",
    "- Euclidean norm\n",
    "\\begin{equation*}\n",
    "\\|x\\|_2 = \\sqrt{\\sum_{k=1}^n |x_k|^2}\n",
    "\\end{equation*}\n",
    "\n",
    "\n",
    "For $A\\in\\mathbb{R}^{m\\times n}$, the operator norm is \n",
    "\\begin{equation*}\n",
    "\\|A\\|_{op} = \\sup_{\\|x\\|\\leq 1}\\|Ax\\| = \\sup_{\\|x\\| = 1}\\|Ax\\| = \\sup_{x\\neq 0}\\frac{\\|Ax\\|}{\\|x\\|},  \n",
    "\\end{equation*}\n",
    "so that it depends on the norms selected in $\\mathbb{R}^n$ and $\\mathbb{R}^m$.\n",
    "\n",
    "- column sum norm\n",
    "\\begin{equation*}\n",
    "\\|A\\|_1 = \\sup_{\\|x\\|_1 = 1} \\|Ax\\|_1 = \\max_{j=1,\\ldots,n} \\sum_{i=1}^m |a_{i,j}|\n",
    "\\end{equation*}\n",
    "- row sum norm\n",
    "\\begin{equation*}\n",
    "\\|A\\|_\\infty =\\sup_{\\|x\\|_\\infty = 1} \\|Ax\\|_\\infty =  \\max_{i=1,\\ldots,m} \\sum_{j=1}^n |a_{i,j}|\n",
    "\\end{equation*}\n",
    "- spectral norm\n",
    "\\begin{equation*}\n",
    "\\|A\\|_2 = \\sup_{\\|x\\|_2 = 1} \\|Ax\\|_2\n",
    "\\end{equation*}\n",
    "    \n",
    "Frobenius norm:\n",
    "    \\begin{equation*}\n",
    "    \\|A\\|_F = \\left(\\sum_{i=1}^m\\sum_{j=1}^n A_{i,j}^2\\right)^{1/2}\n",
    "    \\end{equation*}\n",
    "    \n",
    "</div>\n"
   ]
  },
  {
   "cell_type": "code",
   "execution_count": 75,
   "metadata": {
    "tags": []
   },
   "outputs": [
    {
     "data": {
      "text/plain": [
       "myNorm (generic function with 2 methods)"
      ]
     },
     "execution_count": 75,
     "metadata": {},
     "output_type": "execute_result"
    }
   ],
   "source": [
    "# these norms work for vectors and matrices\n",
    "myNorm(A) = sqrt(sum(A.^2))  # Euclidean norm for vectors and Frobenius norm for matrices    \n",
    "function myNorm(A,p)         \n",
    "    if p == 1    return maximum(sum(abs.(A); dims=1))  end\n",
    "    if p == Inf  return maximum(sum(abs.(A); dims=2))  end\n",
    "    if p == 2    return maximum(svdvals(A))            end             # we will learn about svdvals in class\n",
    "end"
   ]
  },
  {
   "cell_type": "code",
   "execution_count": 76,
   "metadata": {
    "tags": []
   },
   "outputs": [
    {
     "data": {
      "text/plain": [
       "3-element Vector{Float64}:\n",
       " 1.0\n",
       " 2.0\n",
       " 3.0"
      ]
     },
     "execution_count": 76,
     "metadata": {},
     "output_type": "execute_result"
    }
   ],
   "source": [
    "A = [1 2 0;4 5 6;1 1 1]\n",
    "x = [1.;2.;3]"
   ]
  },
  {
   "cell_type": "code",
   "execution_count": 77,
   "metadata": {},
   "outputs": [
    {
     "data": {
      "text/plain": [
       "6.0"
      ]
     },
     "execution_count": 77,
     "metadata": {},
     "output_type": "execute_result"
    }
   ],
   "source": [
    "myNorm(x,1)"
   ]
  },
  {
   "cell_type": "code",
   "execution_count": 79,
   "metadata": {
    "tags": []
   },
   "outputs": [
    {
     "data": {
      "text/plain": [
       "(9.219544457292887, 8, 15)"
      ]
     },
     "execution_count": 79,
     "metadata": {},
     "output_type": "execute_result"
    }
   ],
   "source": [
    "myNorm(A), myNorm(A,1), myNorm(A,Inf) #, myNorm(A,2)"
   ]
  },
  {
   "cell_type": "code",
   "execution_count": 80,
   "metadata": {
    "tags": []
   },
   "outputs": [
    {
     "data": {
      "text/plain": [
       "(9.219544457292887, 8.0, 15.0, 9.086634774936075)"
      ]
     },
     "execution_count": 80,
     "metadata": {},
     "output_type": "execute_result"
    }
   ],
   "source": [
    "# using the LinearAlgebra package\n",
    "norm(A),opnorm(A,1),opnorm(A,Inf),opnorm(A,2)   "
   ]
  },
  {
   "cell_type": "markdown",
   "metadata": {},
   "source": [
    "<div class=\"alert alert-block alert-info\">\n",
    "Consider an invertible matrix $A$. Once a matrix norm is specified, we define\n",
    "    \n",
    "\\begin{equation*}\n",
    "    \\kappa(A) := \\|A\\| \\|A^{-1}\\| \n",
    "\\end{equation*}\n",
    "</div>"
   ]
  },
  {
   "cell_type": "code",
   "execution_count": 81,
   "metadata": {
    "tags": []
   },
   "outputs": [
    {
     "data": {
      "text/plain": [
       "myCond (generic function with 2 methods)"
      ]
     },
     "execution_count": 81,
     "metadata": {},
     "output_type": "execute_result"
    }
   ],
   "source": [
    "myCond(A) = myNorm(A,2)*myNorm(inv(A),2)\n",
    "myCond(A,p) = myNorm(A,p)*myNorm(inv(A),p)"
   ]
  },
  {
   "cell_type": "code",
   "execution_count": 82,
   "metadata": {
    "tags": []
   },
   "outputs": [
    {
     "data": {
      "text/plain": [
       "(42.52541018201819, 56.0, 42.52541018201819, 75.0)"
      ]
     },
     "execution_count": 82,
     "metadata": {},
     "output_type": "execute_result"
    }
   ],
   "source": [
    "myCond(A), myCond(A,1), myCond(A,2), myCond(A,Inf)"
   ]
  },
  {
   "cell_type": "code",
   "execution_count": 83,
   "metadata": {
    "tags": []
   },
   "outputs": [
    {
     "data": {
      "text/plain": [
       "(42.52541018201819, 56.0, 42.52541018201819, 75.0)"
      ]
     },
     "execution_count": 83,
     "metadata": {},
     "output_type": "execute_result"
    }
   ],
   "source": [
    "# using the LinearAlgebra package\n",
    "cond(A), cond(A,1), cond(A,2), cond(A,Inf)      "
   ]
  },
  {
   "cell_type": "markdown",
   "metadata": {},
   "source": [
    "## Selbstkontrollblatt, Grundlagen der EDV"
   ]
  },
  {
   "cell_type": "markdown",
   "metadata": {},
   "source": [
    "[Selbstkontrolleblatt, Grundlagen der EDV 2022S](https://moodle.univie.ac.at/pluginfile.php/22750862/mod_resource/content/3/Selbstkontrolleblatt.pdf)"
   ]
  },
  {
   "cell_type": "code",
   "execution_count": 84,
   "metadata": {},
   "outputs": [
    {
     "name": "stdout",
     "output_type": "stream",
     "text": [
      "true\n",
      "true\n",
      "true\n",
      "true\n",
      "true\n"
     ]
    },
    {
     "data": {
      "text/plain": [
       "338350"
      ]
     },
     "execution_count": 84,
     "metadata": {},
     "output_type": "execute_result"
    }
   ],
   "source": [
    "# i) Selbstkontrolleblatt, Grundlagen der EDV\n",
    "\n",
    "for n in 1:5\n",
    "    println(sum(k^2 for k in 1:n) == n*(n+1)*(2n+1)/6)\n",
    "end\n",
    "\n",
    "sum(k^2 for k in 1:100)"
   ]
  },
  {
   "cell_type": "code",
   "execution_count": 85,
   "metadata": {},
   "outputs": [
    {
     "name": "stdout",
     "output_type": "stream",
     "text": [
      "L1 = reverse(l1) = [6, 4, 2]\n",
      "L2 = l2[3:-1:1] = [6, 4, 2]\n",
      "\n",
      "sort(L1) = [2, 4, 6]\n",
      "sort!(L2) = [2, 4, 6]\n"
     ]
    },
    {
     "data": {
      "text/plain": [
       "false"
      ]
     },
     "execution_count": 85,
     "metadata": {},
     "output_type": "execute_result"
    }
   ],
   "source": [
    "# ii) Selbstkontrolleblatt, Grundlagen der EDV\n",
    "\n",
    "l1 = [k for k in 2:2:6]\n",
    "l2 = Vector(2:2:6)\n",
    "\n",
    "@show L1 = reverse(l1)\n",
    "@show L2 = l2[3:-1:1]\n",
    "\n",
    "println()\n",
    "@show sort(L1)\n",
    "@show sort!(L2)\n",
    "L1 == L2"
   ]
  },
  {
   "cell_type": "code",
   "execution_count": 86,
   "metadata": {
    "tags": []
   },
   "outputs": [
    {
     "name": "stdout",
     "output_type": "stream",
     "text": [
      "martin ehler 12\n"
     ]
    },
    {
     "data": {
      "text/plain": [
       "true"
      ]
     },
     "execution_count": 86,
     "metadata": {},
     "output_type": "execute_result"
    }
   ],
   "source": [
    "# iii) Selbstkontrolleblatt, Grundlagen der EDV\n",
    "\n",
    "s = \"martin ehler\"\n",
    "a = length(s)\n",
    "\n",
    "println(s*\" $a\")\n",
    "\n",
    "l = [\"a\",\"e\",\"i\",\"o\",\"u\"]\n",
    "\n",
    "occursin(l[mod(a,5)],s)"
   ]
  },
  {
   "cell_type": "code",
   "execution_count": 87,
   "metadata": {},
   "outputs": [
    {
     "data": {
      "text/plain": [
       "true"
      ]
     },
     "execution_count": 87,
     "metadata": {},
     "output_type": "execute_result"
    }
   ],
   "source": [
    "# iv) Selbstkontrolleblatt, Grundlagen der EDV\n",
    "function check_isbn(z)\n",
    "    if length(z)!=13 return println(\"wrong format\") end\n",
    "    \n",
    "    tmp = sum(z[1:2:13])+3*sum(z[2:2:12])\n",
    "    if mod(tmp,10)==0 return true end\n",
    "    \n",
    "    return false\n",
    "end\n",
    "check_isbn([9,7,8,3,4,2,3,3,4,8,4,7,8])"
   ]
  },
  {
   "cell_type": "code",
   "execution_count": null,
   "metadata": {},
   "outputs": [],
   "source": []
  }
 ],
 "metadata": {
  "authors": [
   {
    "name": "copyright © 2022 Martin Ehler"
   }
  ],
  "kernelspec": {
   "display_name": "Julia 1.9.3",
   "language": "julia",
   "name": "julia-1.9"
  },
  "language_info": {
   "file_extension": ".jl",
   "mimetype": "application/julia",
   "name": "julia",
   "version": "1.9.3"
  },
  "title": "Julia script: elementary julia syntax",
  "widgets": {
   "application/vnd.jupyter.widget-state+json": {
    "state": {},
    "version_major": 2,
    "version_minor": 0
   }
  }
 },
 "nbformat": 4,
 "nbformat_minor": 5
}
