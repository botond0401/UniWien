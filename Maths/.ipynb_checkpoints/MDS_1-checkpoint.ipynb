{
 "cells": [
  {
   "cell_type": "markdown",
   "metadata": {},
   "source": [
    "# P.1 (Floating point numbers)"
   ]
  },
  {
   "cell_type": "code",
   "execution_count": 1,
   "metadata": {},
   "outputs": [
    {
     "name": "stdout",
     "output_type": "stream",
     "text": [
      "The largest Float32 number is: 3.4028235e38\n",
      "My largest Float32 number is: 3.4028234663852886e38\n",
      "The difference is: 0.0\n"
     ]
    }
   ],
   "source": [
    "largest_float32 = floatmax(Float32)\n",
    "my_largest_float32 = 2.0^128*(1-2^(-24))\n",
    "println(\"The largest Float32 number is: \", largest_float32)\n",
    "println(\"My largest Float32 number is: \", my_largest_float32)\n",
    "println(\"The difference is: \", largest_float32 - my_largest_float32)"
   ]
  },
  {
   "cell_type": "code",
   "execution_count": 2,
   "metadata": {},
   "outputs": [
    {
     "name": "stdout",
     "output_type": "stream",
     "text": [
      "The smallest Float32 number is: 1.1754944e-38\n",
      "My smallest Float32 number is: 1.1754943508222875e-38\n",
      "The difference is: 0.0\n"
     ]
    }
   ],
   "source": [
    "smallest_float32 = floatmin(Float32)\n",
    "my_smallest_float32 = 2.0^(-126)\n",
    "println(\"The smallest Float32 number is: \", smallest_float32)\n",
    "println(\"My smallest Float32 number is: \", my_smallest_float32)\n",
    "println(\"The difference is: \", smallest_float32 - my_smallest_float32)"
   ]
  },
  {
   "cell_type": "code",
   "execution_count": 3,
   "metadata": {},
   "outputs": [
    {
     "name": "stdout",
     "output_type": "stream",
     "text": [
      "Is the result in Float32? true\n",
      "Is the result in Float32? true\n",
      "Is the result in Float32? true\n"
     ]
    }
   ],
   "source": [
    "for exp in 24:26\n",
    "    result = 2.0^exp + 1\n",
    "\n",
    "    result_float32 = Float32(result)\n",
    "    is_finite_float32 = isfinite(result_float32)\n",
    "\n",
    "    println(\"Is the result in Float32? \", is_finite_float32)\n",
    "end"
   ]
  },
  {
   "cell_type": "markdown",
   "metadata": {},
   "source": [
    "# P.2 (Huffman encoding)"
   ]
  },
  {
   "cell_type": "code",
   "execution_count": 4,
   "metadata": {},
   "outputs": [
    {
     "data": {
      "text/plain": [
       "huffman (generic function with 2 methods)"
      ]
     },
     "execution_count": 4,
     "metadata": {},
     "output_type": "execute_result"
    }
   ],
   "source": [
    "function huffman(input_string, show_dict=false)\n",
    "    apps = Dict{Any, Int}()\n",
    "    for c in input_string\n",
    "        if haskey(apps, c)\n",
    "            apps[c] += 1\n",
    "        else\n",
    "            apps[c] = 1\n",
    "        end\n",
    "    end\n",
    "    keys_array = collect(keys(apps))\n",
    "    codes = Dict{Char, String}(key => \"\" for key in keys_array)\n",
    "    \n",
    "    while length(keys(apps)) > 1\n",
    "        first_char = keys_array[argmin(collect(values(apps)))]\n",
    "        for char in first_char\n",
    "            codes[char] = string(1) * codes[char]\n",
    "            \n",
    "        end\n",
    "        first_value = apps[first_char]\n",
    "        delete!(apps, first_char)\n",
    "    \n",
    "        keys_array = collect(keys(apps))\n",
    "        second_char = keys_array[argmin(collect(values(apps)))]\n",
    "        for char in second_char\n",
    "            codes[char] = string(0) * codes[char]\n",
    "        \n",
    "        end\n",
    "        second_value = apps[second_char]\n",
    "        delete!(apps, second_char)\n",
    "        new_char = first_char * second_char\n",
    "        apps[new_char] = first_value + second_value\n",
    "        keys_array = collect(keys(apps))\n",
    "        \n",
    "    end\n",
    "\n",
    "    coded_string = \"\"\n",
    "    for s in input_string\n",
    "        coded_string = coded_string * codes[s]\n",
    "    end\n",
    "    \n",
    "    if show_dict\n",
    "        for s in keys(codes)\n",
    "            println(\"The code of $s is $(codes[s]).\")\n",
    "        end\n",
    "    end\n",
    "\n",
    "    return coded_string\n",
    "end\n"
   ]
  },
  {
   "cell_type": "code",
   "execution_count": 5,
   "metadata": {},
   "outputs": [
    {
     "data": {
      "text/plain": [
       "\"01001110101100110000001\""
      ]
     },
     "execution_count": 5,
     "metadata": {},
     "output_type": "execute_result"
    }
   ],
   "source": [
    "huffman(\"sdasaakaakkka\")"
   ]
  },
  {
   "cell_type": "code",
   "execution_count": 6,
   "metadata": {},
   "outputs": [
    {
     "name": "stdout",
     "output_type": "stream",
     "text": [
      "The code of d is 1.\n",
      "The code of c is 001.\n",
      "The code of e is 01.\n",
      "The code of a is 0001.\n",
      "The code of b is 0000.\n"
     ]
    },
    {
     "data": {
      "text/plain": [
       "\"1100110111000100000110100000011001011\""
      ]
     },
     "execution_count": 6,
     "metadata": {},
     "output_type": "execute_result"
    }
   ],
   "source": [
    "huffman(\"ddcdeddabedebcdced\", true)"
   ]
  },
  {
   "cell_type": "markdown",
   "metadata": {},
   "source": [
    "# P.4 (Jpeg)"
   ]
  },
  {
   "cell_type": "code",
   "execution_count": 17,
   "metadata": {},
   "outputs": [
    {
     "data": {
      "text/plain": [
       "imDeblock (generic function with 1 method)"
      ]
     },
     "execution_count": 17,
     "metadata": {},
     "output_type": "execute_result"
    }
   ],
   "source": [
    "using LinearAlgebra\n",
    "\n",
    "\n",
    "Q = Float64[\n",
    "16 11 10 16 24 40 51 61\n",
    "12 12 14 19 26 58 60 55\n",
    "14 13 16 24 40 57 69 56\n",
    "14 17 22 29 51 87 80 62\n",
    "18 22 37 56 68 109 103 77\n",
    "24 35 55 64 81 104 113 92\n",
    "49 64 78 87 103 121 120 101\n",
    "72 92 95 98 112 100 103 99\n",
    "]\n",
    "\n",
    "N = 8\n",
    "W = zeros(N,N)\n",
    "W[:,1] = ones(N)/sqrt(N)\n",
    "j = (0:N-1)\n",
    "\n",
    "for k=2:N\n",
    "    W[:,k] = cos.((j.+ .5)*(k-1)*π/N)*sqrt(2/N)\n",
    "end\n",
    "\n",
    "V = Array{Array{Float64, 2}, 2}(undef, N,N)\n",
    "for k in 1:N\n",
    "    for l in 1:N\n",
    "        V[k,l] = W[:,k]*W[:,l]'\n",
    "    end\n",
    "end\n",
    "\n",
    "function DCT(patch)\n",
    "    N = size(patch,1)\n",
    "    coeff = [dot(patch,V[k,l]) for k in 1:N, l in 1:N]\n",
    "    return coeff\n",
    "end\n",
    "\n",
    "function invDCT(coeff)\n",
    "    N = size(coeff,1)\n",
    "    return sum(coeff[k,l]*V[k,l] for k in 1:N, l in 1:N)\n",
    "end\n",
    "\n",
    "function imblocks(img,s::Integer)\n",
    "    n,m = size(img).÷ s\n",
    "    patches = [Float32.(img[(1:s) .+ (i*s), (1:s) .+ (j*s)]) for i=0:n-1, j=0:m-1]\n",
    "    return patches\n",
    "end\n",
    "\n",
    "function DCTfull(img,N)\n",
    "    patches = imblocks(img,N)\n",
    "    n = size(patches,1)\n",
    "    Coeff= [DCT(patches[i,j]) for i=1:n, j=1:n]\n",
    "    return Coeff\n",
    "end\n",
    "\n",
    "function reconstruct_img(C)\n",
    "    N = size(C[1,1],1)\n",
    "    n = size(C,1)\n",
    "    return [invDCT(C[i,j]) for i=1:n, j=1:n]\n",
    "end\n",
    "\n",
    "function imDeblock(P)\n",
    "    n = size(P,1)\n",
    "    s = size(P[1,1],1)\n",
    "    A = zeros(n*s,n*s)\n",
    "    for i in 0:n-1\n",
    "        for j in 0:n-1\n",
    "            A[(1:s).+(i*s),(1:s) .+ (j*s)] = P[i+1,j+1]\n",
    "        end\n",
    "    end\n",
    "    return A\n",
    "end"
   ]
  },
  {
   "cell_type": "code",
   "execution_count": null,
   "metadata": {},
   "outputs": [],
   "source": [
    "using Images\n",
    "\n",
    "width = 512\n",
    "height = 512\n",
    "img = [i * j % 32 for j in 1:height, i in 1:width]\n",
    "img = reshape(img, height, width)\n",
    "random_image = Gray.(N0f8.(img ./ 255))\n",
    "display(random_image)\n"
   ]
  },
  {
   "cell_type": "code",
   "execution_count": null,
   "metadata": {},
   "outputs": [],
   "source": [
    "N = 8\n",
    "\n",
    "C = DCTfull(img,N)\n",
    "n,m = size(C)\n",
    "\n",
    "s = 10\n",
    "\n",
    "Cnew = copy(C)\n",
    "nonzeroCoeffs = 0\n",
    "for i in 1:n\n",
    "    for j in 1:m\n",
    "        Cnew[i,j] = C[i,j].*(abs.(C[i,j]./Q).>0.5)\n",
    "        nonzeroCoeffs = nonzeroCoeffs + length(Cnew[i,j][abs.(Cnew[i,j]).>0])\n",
    "    end\n",
    "end\n",
    "\n",
    "println(\"The number of non-zero coefficients is: \", nonzeroCoeffs)\n",
    "Gray.(imDeblock(reconstruct_img(Cnew))./255)\n"
   ]
  },
  {
   "cell_type": "markdown",
   "metadata": {},
   "source": [
    "# P.5 (Contrast enhancement)"
   ]
  },
  {
   "cell_type": "code",
   "execution_count": 7,
   "metadata": {},
   "outputs": [
    {
     "data": {
      "text/plain": [
       "ShowImage (generic function with 1 method)"
      ]
     },
     "execution_count": 7,
     "metadata": {},
     "output_type": "execute_result"
    }
   ],
   "source": [
    "using Images\n",
    "\n",
    "function ShowImage(A)\n",
    "    mi = minimum(A)\n",
    "    ma = maximum(A)\n",
    "    return Gray.((A.-mi)/(ma-mi))\n",
    "end\n"
   ]
  },
  {
   "cell_type": "code",
   "execution_count": 20,
   "metadata": {},
   "outputs": [
    {
     "data": {
      "text/plain": [
       "100×10 Matrix{Float64}:\n",
       " 0.002  0.002  0.3  0.4  0.5  0.6  0.7  0.8  0.9  1.0\n",
       " 0.004  0.004  0.3  0.4  0.5  0.6  0.7  0.8  0.9  1.0\n",
       " 0.006  0.006  0.3  0.4  0.5  0.6  0.7  0.8  0.9  1.0\n",
       " 0.008  0.008  0.3  0.4  0.5  0.6  0.7  0.8  0.9  1.0\n",
       " 0.01   0.01   0.3  0.4  0.5  0.6  0.7  0.8  0.9  1.0\n",
       " 0.012  0.012  0.3  0.4  0.5  0.6  0.7  0.8  0.9  1.0\n",
       " 0.014  0.014  0.3  0.4  0.5  0.6  0.7  0.8  0.9  1.0\n",
       " 0.016  0.016  0.3  0.4  0.5  0.6  0.7  0.8  0.9  1.0\n",
       " 0.018  0.018  0.3  0.4  0.5  0.6  0.7  0.8  0.9  1.0\n",
       " 0.02   0.02   0.3  0.4  0.5  0.6  0.7  0.8  0.9  1.0\n",
       " 0.022  0.022  0.3  0.4  0.5  0.6  0.7  0.8  0.9  1.0\n",
       " 0.024  0.024  0.3  0.4  0.5  0.6  0.7  0.8  0.9  1.0\n",
       " 0.026  0.026  0.3  0.4  0.5  0.6  0.7  0.8  0.9  1.0\n",
       " ⋮                            ⋮                   \n",
       " 0.178  0.178  0.3  0.4  0.5  0.6  0.7  0.8  0.9  1.0\n",
       " 0.18   0.18   0.3  0.4  0.5  0.6  0.7  0.8  0.9  1.0\n",
       " 0.182  0.182  0.3  0.4  0.5  0.6  0.7  0.8  0.9  1.0\n",
       " 0.184  0.184  0.3  0.4  0.5  0.6  0.7  0.8  0.9  1.0\n",
       " 0.186  0.186  0.3  0.4  0.5  0.6  0.7  0.8  0.9  1.0\n",
       " 0.188  0.188  0.3  0.4  0.5  0.6  0.7  0.8  0.9  1.0\n",
       " 0.19   0.19   0.3  0.4  0.5  0.6  0.7  0.8  0.9  1.0\n",
       " 0.192  0.192  0.3  0.4  0.5  0.6  0.7  0.8  0.9  1.0\n",
       " 0.194  0.194  0.3  0.4  0.5  0.6  0.7  0.8  0.9  1.0\n",
       " 0.196  0.196  0.3  0.4  0.5  0.6  0.7  0.8  0.9  1.0\n",
       " 0.198  0.198  0.3  0.4  0.5  0.6  0.7  0.8  0.9  1.0\n",
       " 0.2    0.2    0.3  0.4  0.5  0.6  0.7  0.8  0.9  1.0"
      ]
     },
     "execution_count": 20,
     "metadata": {},
     "output_type": "execute_result"
    }
   ],
   "source": [
    "function myContrastEnhancer(img)\n",
    "    m,n = size(img)\n",
    "    N = m*n\n",
    "    counts = [count(==(k), img[:]) for k in 0:255]\n",
    "    r = findall(!iszero,counts)\n",
    "    q = length(r)\n",
    "    h = counts[r]\n",
    "    H = h/N\n",
    "    A = zeros(m,n)\n",
    "    for k in 1:q\n",
    "        ind = findall(img.==r[k]-1)\n",
    "        A[ind] .= sum(H[l] for l in 1:k)\n",
    "    end\n",
    "    return A\n",
    "end\n",
    "\n",
    "f = hcat(\n",
    "    1:100,\n",
    "    1:100,\n",
    "    101*ones(Int, 100, 1),\n",
    "    102*ones(Int, 100, 1),\n",
    "    103*ones(Int, 100, 1),\n",
    "    104*ones(Int, 100, 1),\n",
    "    105*ones(Int, 100, 1),\n",
    "    106*ones(Int, 100, 1),\n",
    "    107*ones(Int, 100, 1),\n",
    "    108*ones(Int, 100, 1)\n",
    ")\n",
    "myContrastEnhancer(f)\n"
   ]
  },
  {
   "cell_type": "code",
   "execution_count": 21,
   "metadata": {},
   "outputs": [
    {
     "data": {
      "image/png": "[encoded data removed]",
      "text/html": [
       "<img src=\"data:image/png;base64,iVBORw0KGgoAAAANSUhEUgAAACgAAAGQCAAAAAD5e30dAAAABGdBTUEAALGPC/xhBQAAAAFzUkdCAK7OHOkAAAAgY0hSTQAAeiYAAICEAAD6AAAAgOgAAHUwAADqYAAAOpgAABdwnLpRPAAAAkJJREFUeAGNwTERwEAQxDDPnvlDfQxpAsCS/B5wwIABBww4YIBEEknkaCSSSCKPRiKJJHI0EkkkkUcjkUQSORqJJJLI0UgkkUQejUQSSeRoJJJIIkcjkUQSeTQSSSSRo5FIIok8GokkksjRSCSRRI5GIokk8mgkkkgiRyORRBJ5NBJJJJGjkUgiiRyNRBJJ5NFIJJFEjkYiiSRyNBJJJJFHI5FEEjkaiSSSyKORSCKJHI1EEknkaCSSSCKPRiKJJHI0EkkkkaORSCKJPBqJJJLI0UgkkUQejUQSSeRoJJJIIkcjkUQSeTQSSSSRo5FIIok8GokkksjRSCSRRI5GIokk8mgkkkgiRyORRBI5GokkksijkUgiiRyNRBJJ5NFIJJFEjkYiiSRyNBJJJJFHI5FEEjkaiSSSyKORSCKJHI1EEknkaCSSSCKPRiKJJHI0EkkkkaORSCKJPBqJJJLI0UgkkUQejUQSSeRoJJJIIkcjkUQSeTQSSSSRo5FIIok8GokkksjRSCSRRI5GIokk8mgkkkgiRyORRBI5GokkksijkUgiiRyNRBJJ5NFIJJFEjkYiiSRyNBJJJJFHI5FEEjkaiSSSyKORSCKJHI1EEknkaCSSSCKPRiKJJHI0EkkkkaORSCKJPBqJJJLI0UgkkUQejUQSSeRoJJJIIkcjkUQSeTQSSSSRo5FIIokcjUQSSeTRSCSRRI5GIokk8mgkkkgiRyORRBI5GokkksijkUgiiRyNRBJJ5NFIJJFEjkYiiST6AE3fCCxVyYE2AAAAAElFTkSuQmCC\">"
      ],
      "text/plain": [
       "100×10 Array{Gray{Float64},2} with eltype Gray{Float64}:\n",
       " Gray{Float64}(0.0)         Gray{Float64}(0.0)         …  Gray{Float64}(1.0)\n",
       " Gray{Float64}(0.00934579)  Gray{Float64}(0.00934579)     Gray{Float64}(1.0)\n",
       " Gray{Float64}(0.0186916)   Gray{Float64}(0.0186916)      Gray{Float64}(1.0)\n",
       " Gray{Float64}(0.0280374)   Gray{Float64}(0.0280374)      Gray{Float64}(1.0)\n",
       " Gray{Float64}(0.0373832)   Gray{Float64}(0.0373832)      Gray{Float64}(1.0)\n",
       " Gray{Float64}(0.046729)    Gray{Float64}(0.046729)    …  Gray{Float64}(1.0)\n",
       " Gray{Float64}(0.0560748)   Gray{Float64}(0.0560748)      Gray{Float64}(1.0)\n",
       " Gray{Float64}(0.0654206)   Gray{Float64}(0.0654206)      Gray{Float64}(1.0)\n",
       " Gray{Float64}(0.0747664)   Gray{Float64}(0.0747664)      Gray{Float64}(1.0)\n",
       " Gray{Float64}(0.0841121)   Gray{Float64}(0.0841121)      Gray{Float64}(1.0)\n",
       " Gray{Float64}(0.0934579)   Gray{Float64}(0.0934579)   …  Gray{Float64}(1.0)\n",
       " Gray{Float64}(0.102804)    Gray{Float64}(0.102804)       Gray{Float64}(1.0)\n",
       " Gray{Float64}(0.11215)     Gray{Float64}(0.11215)        Gray{Float64}(1.0)\n",
       " ⋮                                                     ⋱  \n",
       " Gray{Float64}(0.82243)     Gray{Float64}(0.82243)        Gray{Float64}(1.0)\n",
       " Gray{Float64}(0.831776)    Gray{Float64}(0.831776)       Gray{Float64}(1.0)\n",
       " Gray{Float64}(0.841121)    Gray{Float64}(0.841121)    …  Gray{Float64}(1.0)\n",
       " Gray{Float64}(0.850467)    Gray{Float64}(0.850467)       Gray{Float64}(1.0)\n",
       " Gray{Float64}(0.859813)    Gray{Float64}(0.859813)       Gray{Float64}(1.0)\n",
       " Gray{Float64}(0.869159)    Gray{Float64}(0.869159)       Gray{Float64}(1.0)\n",
       " Gray{Float64}(0.878505)    Gray{Float64}(0.878505)       Gray{Float64}(1.0)\n",
       " Gray{Float64}(0.88785)     Gray{Float64}(0.88785)     …  Gray{Float64}(1.0)\n",
       " Gray{Float64}(0.897196)    Gray{Float64}(0.897196)       Gray{Float64}(1.0)\n",
       " Gray{Float64}(0.906542)    Gray{Float64}(0.906542)       Gray{Float64}(1.0)\n",
       " Gray{Float64}(0.915888)    Gray{Float64}(0.915888)       Gray{Float64}(1.0)\n",
       " Gray{Float64}(0.925234)    Gray{Float64}(0.925234)       Gray{Float64}(1.0)"
      ]
     },
     "execution_count": 21,
     "metadata": {},
     "output_type": "execute_result"
    }
   ],
   "source": [
    "ShowImage(f)"
   ]
  },
  {
   "cell_type": "code",
   "execution_count": 22,
   "metadata": {},
   "outputs": [
    {
     "data": {
      "image/png": "[encoded data removed]",
      "text/html": [
       "<img src=\"data:image/png;base64,iVBORw0KGgoAAAANSUhEUgAAACgAAAGQCAAAAAD5e30dAAAABGdBTUEAALGPC/xhBQAAAAFzUkdCAK7OHOkAAAAgY0hSTQAAeiYAAICEAAD6AAAAgOgAAHUwAADqYAAAOpgAABdwnLpRPAAAAi5JREFUeAGNwUERA0EQxDB3lUnsYAp/PPkcAEvy+QEHPOCABxzwgAMkkkgiRyORRBJJJJFEEjkaiSSSSCKJJJLI0UgkkUQSSSSRRI5GIokkkkgiiSRyNBJJJJFEEkkkkaORSCKJJJJIIokcjUQSSSSRRBJJ5GgkkkgiiSSSSCJHI5FEEkkkkUQSORqJJJJIIokkksjRSCSRRBJJJJFEjkYiiSSSSCKJJHI0EkkkkUQSSSSRo5FIIokkkkgiiRyNRBJJJJFEEknkaCSSSCKJJJJIIkcjkUQSSSSRRBI5GokkkkgiiSSSyNFIJJFEEkkkkUSORiKJJJJIIokkcjQSSSSRRBJJJJGjkUgiiSSSSCKJHI1EEknkaCSSSCKJJJJIIkcjkUQSSSSRRBI5GokkkkgiiSSSyNFIJJFEEkkkkUSORiKJJJJIIokkcjQSSSSRRBJJJJGjkUgiiSSSSCKJHI1EEkkkkUQSSeRoJJJIIokkkkgiRyORRBJJJJFEEjkaiSSSSCKJJJLI0UgkkUQSSSSRRI5GIokkkkgiiSRyNBJJJJFEEkkkkaORSCKJJJJIIokcjUQSSSSRRBJJ5GgkkkgiiSSSSCJHI5FEEkkkkUQSORqJJJJIIokkksjRSCSRRBJJJJFEjkYiiSSSSCKJJHI0EkkkkUQSSSSRo5FIIokcjUQSSSSRRBJJ5GgkkkgiiSSSSCJHI5FEEkkkkUQSORqJJJJIIokkksjRSCSRRH8TtwdzTRLJtgAAAABJRU5ErkJg\">"
      ],
      "text/plain": [
       "100×10 Array{Gray{Float64},2} with eltype Gray{Float64}:\n",
       " Gray{Float64}(0.0)         Gray{Float64}(0.0)         …  Gray{Float64}(1.0)\n",
       " Gray{Float64}(0.00200401)  Gray{Float64}(0.00200401)     Gray{Float64}(1.0)\n",
       " Gray{Float64}(0.00400802)  Gray{Float64}(0.00400802)     Gray{Float64}(1.0)\n",
       " Gray{Float64}(0.00601202)  Gray{Float64}(0.00601202)     Gray{Float64}(1.0)\n",
       " Gray{Float64}(0.00801603)  Gray{Float64}(0.00801603)     Gray{Float64}(1.0)\n",
       " Gray{Float64}(0.01002)     Gray{Float64}(0.01002)     …  Gray{Float64}(1.0)\n",
       " Gray{Float64}(0.012024)    Gray{Float64}(0.012024)       Gray{Float64}(1.0)\n",
       " Gray{Float64}(0.0140281)   Gray{Float64}(0.0140281)      Gray{Float64}(1.0)\n",
       " Gray{Float64}(0.0160321)   Gray{Float64}(0.0160321)      Gray{Float64}(1.0)\n",
       " Gray{Float64}(0.0180361)   Gray{Float64}(0.0180361)      Gray{Float64}(1.0)\n",
       " Gray{Float64}(0.0200401)   Gray{Float64}(0.0200401)   …  Gray{Float64}(1.0)\n",
       " Gray{Float64}(0.0220441)   Gray{Float64}(0.0220441)      Gray{Float64}(1.0)\n",
       " Gray{Float64}(0.0240481)   Gray{Float64}(0.0240481)      Gray{Float64}(1.0)\n",
       " ⋮                                                     ⋱  \n",
       " Gray{Float64}(0.176353)    Gray{Float64}(0.176353)       Gray{Float64}(1.0)\n",
       " Gray{Float64}(0.178357)    Gray{Float64}(0.178357)       Gray{Float64}(1.0)\n",
       " Gray{Float64}(0.180361)    Gray{Float64}(0.180361)    …  Gray{Float64}(1.0)\n",
       " Gray{Float64}(0.182365)    Gray{Float64}(0.182365)       Gray{Float64}(1.0)\n",
       " Gray{Float64}(0.184369)    Gray{Float64}(0.184369)       Gray{Float64}(1.0)\n",
       " Gray{Float64}(0.186373)    Gray{Float64}(0.186373)       Gray{Float64}(1.0)\n",
       " Gray{Float64}(0.188377)    Gray{Float64}(0.188377)       Gray{Float64}(1.0)\n",
       " Gray{Float64}(0.190381)    Gray{Float64}(0.190381)    …  Gray{Float64}(1.0)\n",
       " Gray{Float64}(0.192385)    Gray{Float64}(0.192385)       Gray{Float64}(1.0)\n",
       " Gray{Float64}(0.194389)    Gray{Float64}(0.194389)       Gray{Float64}(1.0)\n",
       " Gray{Float64}(0.196393)    Gray{Float64}(0.196393)       Gray{Float64}(1.0)\n",
       " Gray{Float64}(0.198397)    Gray{Float64}(0.198397)       Gray{Float64}(1.0)"
      ]
     },
     "execution_count": 22,
     "metadata": {},
     "output_type": "execute_result"
    }
   ],
   "source": [
    "ShowImage(myContrastEnhancer(f))"
   ]
  },
  {
   "cell_type": "markdown",
   "metadata": {},
   "source": [
    "# P.6 (Edge detection)"
   ]
  },
  {
   "cell_type": "code",
   "execution_count": 33,
   "metadata": {},
   "outputs": [
    {
     "data": {
      "text/plain": [
       "5×9 Matrix{Float64}:\n",
       " 2.82843  3.0         3.0         …  6.0          6.0          5.65685\n",
       " 3.0      6.0192e-16  6.0192e-16     1.20384e-15  1.20384e-15  6.0\n",
       " 3.0      6.0192e-16  6.0192e-16     1.20384e-15  1.20384e-15  6.0\n",
       " 3.0      6.0192e-16  6.0192e-16     1.20384e-15  1.20384e-15  6.0\n",
       " 2.82843  3.0         3.0            6.0          6.0          5.65685"
      ]
     },
     "execution_count": 33,
     "metadata": {},
     "output_type": "execute_result"
    }
   ],
   "source": [
    "function myPrewitt(img)\n",
    "    prewitt_x = Float64[\n",
    "    -1 -1 -1\n",
    "    0 0 0\n",
    "    1 1 1\n",
    "    ]\n",
    "    prewitt_y = Float64[\n",
    "    -1 0 1\n",
    "    -1 0 1\n",
    "    -1 0 1\n",
    "    ]\n",
    "    imgx = imfilter(f, prewitt_x, Fill(zero(eltype(f))))\n",
    "    imgy = imfilter(f, prewitt_y, Fill(zero(eltype(f))))\n",
    "    return sqrt.(imgx.^2 .+ imgy.^2)\n",
    "end\n",
    "\n",
    "f = Float64[\n",
    "    1 1 1 1 2 2 2 2 2\n",
    "1 1 1 1 2 2 2 2 2\n",
    "1 1 1 1 2 2 2 2 2\n",
    "1 1 1 1 2 2 2 2 2\n",
    "1 1 1 1 2 2 2 2 2\n",
    "    ]\n",
    "myPrewitt(f)\n"
   ]
  },
  {
   "cell_type": "code",
   "execution_count": 39,
   "metadata": {},
   "outputs": [
    {
     "data": {
      "image/png": "[encoded data removed]",
      "text/html": [
       "<img src=\"data:image/png;base64,iVBORw0KGgoAAAANSUhEUgAAAIcAAABLCAAAAAB/pssZAAAABGdBTUEAALGPC/xhBQAAAAFzUkdCAK7OHOkAAAAgY0hSTQAAeiYAAICEAAD6AAAAgOgAAHUwAADqYAAAOpgAABdwnLpRPAAAAIpJREFUaAXNwTEBAAAIgDAO+lfWEHqwycHwRhqkQRqkQRqkQRqkQRqkQRqkQRqkQRqkQRqkQRqkQRqkQRqkQRqkQRqkQRqkQRqkQRqkQRqkQRqkQRqkQRqkQRqkQRqkQRqkQRqkQRqkQRqkQRqkQRqkQRqkQRqkQRqkQRqkQRqkQRqkQRqkQRqkYQFHLgIsJT57QAAAAABJRU5ErkJg\">"
      ],
      "text/plain": [
       "5×9 Array{Gray{Float64},2} with eltype Gray{Float64}:\n",
       " Gray{Float64}(0.0)  Gray{Float64}(0.0)  …  Gray{Float64}(1.0)\n",
       " Gray{Float64}(0.0)  Gray{Float64}(0.0)     Gray{Float64}(1.0)\n",
       " Gray{Float64}(0.0)  Gray{Float64}(0.0)     Gray{Float64}(1.0)\n",
       " Gray{Float64}(0.0)  Gray{Float64}(0.0)     Gray{Float64}(1.0)\n",
       " Gray{Float64}(0.0)  Gray{Float64}(0.0)     Gray{Float64}(1.0)"
      ]
     },
     "execution_count": 39,
     "metadata": {},
     "output_type": "execute_result"
    }
   ],
   "source": [
    "ShowImage(f)"
   ]
  },
  {
   "cell_type": "code",
   "execution_count": 38,
   "metadata": {},
   "outputs": [
    {
     "data": {
      "image/png": "[encoded data removed]",
      "text/html": [
       "<img src=\"data:image/png;base64,iVBORw0KGgoAAAANSUhEUgAAAIcAAABLCAAAAAB/pssZAAAABGdBTUEAALGPC/xhBQAAAAFzUkdCAK7OHOkAAAAgY0hSTQAAeiYAAICEAAD6AAAAgOgAAHUwAADqYAAAOpgAABdwnLpRPAAAALZJREFUaAXNwbENggAUANErLtEZXIAtdC07cDRHorTC+jckdPeeb4Y7Z54MC8ODC3YGaZAGaZAGaZAGaZAGaZAGaZAGaZAGbwwbZ1aGL8OHCw4GaZAGaZAGaZAGaZAGaZAGaZAGaZAGaZAGaZAGaZAGaZAGaZAGaZAGaZAGaZAGaZAGaZAGaZAGaZAGaZAGaZAGaZAGfwwrZ14MC8PGBTuDNEiDNEiDNEiDNEiDNEiDNEiDNEjDH7SLCbNP064lAAAAAElFTkSuQmCC\">"
      ],
      "text/plain": [
       "5×9 Array{Gray{Float64},2} with eltype Gray{Float64}:\n",
       " Gray{Float64}(0.471405)  Gray{Float64}(0.5)  …  Gray{Float64}(0.942809)\n",
       " Gray{Float64}(0.5)       Gray{Float64}(0.0)     Gray{Float64}(1.0)\n",
       " Gray{Float64}(0.5)       Gray{Float64}(0.0)     Gray{Float64}(1.0)\n",
       " Gray{Float64}(0.5)       Gray{Float64}(0.0)     Gray{Float64}(1.0)\n",
       " Gray{Float64}(0.471405)  Gray{Float64}(0.5)     Gray{Float64}(0.942809)"
      ]
     },
     "execution_count": 38,
     "metadata": {},
     "output_type": "execute_result"
    }
   ],
   "source": [
    "ShowImage(myPrewitt(f))"
   ]
  },
  {
   "cell_type": "markdown",
   "metadata": {},
   "source": [
    "# P.7 (Denoising)"
   ]
  },
  {
   "cell_type": "code",
   "execution_count": 14,
   "metadata": {},
   "outputs": [
    {
     "data": {
      "text/plain": [
       "5×9 Matrix{Float64}:\n",
       " 1.0  1.0  1.0  1.0  2.0  2.0  2.0  2.0  2.0\n",
       " 1.0  1.0  1.0  1.0  2.0  2.0  2.0  2.0  2.0\n",
       " 1.0  1.0  1.0  1.0  2.0  2.0  2.0  2.0  2.0\n",
       " 1.0  1.0  1.0  1.0  2.0  2.0  2.0  2.0  2.0\n",
       " 1.0  1.0  1.0  1.0  2.0  2.0  2.0  2.0  2.0"
      ]
     },
     "execution_count": 14,
     "metadata": {},
     "output_type": "execute_result"
    }
   ],
   "source": [
    "using Statistics, ImageFiltering\n",
    "\n",
    "function myDenoise(img)    \n",
    "    return mapwindow(median!, img, (3, 3))\n",
    "end\n",
    "\n",
    "f = Float64[\n",
    "    1 1 1 1 2 2 2 2 2\n",
    "1 1 1 1 2 2 2 2 2\n",
    "1 1 0 1 2 2 20 2 2\n",
    "1 1 1 1 2 2 2 2 2\n",
    "1 1 1 1 2 2 2 2 2\n",
    "    ]\n",
    "myDenoise(f)\n"
   ]
  },
  {
   "cell_type": "code",
   "execution_count": 15,
   "metadata": {},
   "outputs": [
    {
     "data": {
      "image/png": "[encoded data removed]",
      "text/html": [
       "<img src=\"data:image/png;base64,iVBORw0KGgoAAAANSUhEUgAAAIcAAABLCAAAAAB/pssZAAAABGdBTUEAALGPC/xhBQAAAAFzUkdCAK7OHOkAAAAgY0hSTQAAeiYAAICEAAD6AAAAgOgAAHUwAADqYAAAOpgAABdwnLpRPAAAAJ9JREFUaAXNwbENwCAAwLAMWbmA/0/rBX2gMwsSqENsB/cGv5EGaZAGaZAGaZAGaZAGaZAGaZAGaZAGaZAGaZAGaZAGaZAGaZAGaZAGaZAG2XpZDA48LCY70iAN0iAN0iAN0iAN0iAN0iAN0iANsjW4NzkgDdIgDdIgDdIgDdIgDdIgDdIgDdIgDdIgDdIgDdIgDdIgDdIgDdIgDdIgDR+jYQNv7u5+zwAAAABJRU5ErkJg\">"
      ],
      "text/plain": [
       "5×9 Array{Gray{Float64},2} with eltype Gray{Float64}:\n",
       " Gray{Float64}(0.05)  Gray{Float64}(0.05)  …  Gray{Float64}(0.1)\n",
       " Gray{Float64}(0.05)  Gray{Float64}(0.05)     Gray{Float64}(0.1)\n",
       " Gray{Float64}(0.05)  Gray{Float64}(0.05)     Gray{Float64}(0.1)\n",
       " Gray{Float64}(0.05)  Gray{Float64}(0.05)     Gray{Float64}(0.1)\n",
       " Gray{Float64}(0.05)  Gray{Float64}(0.05)     Gray{Float64}(0.1)"
      ]
     },
     "execution_count": 15,
     "metadata": {},
     "output_type": "execute_result"
    }
   ],
   "source": [
    "ShowImage(f)"
   ]
  },
  {
   "cell_type": "code",
   "execution_count": 16,
   "metadata": {},
   "outputs": [
    {
     "data": {
      "image/png": "[encoded data removed]",
      "text/html": [
       "<img src=\"data:image/png;base64,iVBORw0KGgoAAAANSUhEUgAAAIcAAABLCAAAAAB/pssZAAAABGdBTUEAALGPC/xhBQAAAAFzUkdCAK7OHOkAAAAgY0hSTQAAeiYAAICEAAD6AAAAgOgAAHUwAADqYAAAOpgAABdwnLpRPAAAAIpJREFUaAXNwTEBAAAIgDAO+lfWEHqwycHwRhqkQRqkQRqkQRqkQRqkQRqkQRqkQRqkQRqkQRqkQRqkQRqkQRqkQRqkQRqkQRqkQRqkQRqkQRqkQRqkQRqkQRqkQRqkQRqkQRqkQRqkQRqkQRqkQRqkQRqkQRqkQRqkQRqkQRqkQRqkQRqkQRqkYQFHLgIsJT57QAAAAABJRU5ErkJg\">"
      ],
      "text/plain": [
       "5×9 Array{Gray{Float64},2} with eltype Gray{Float64}:\n",
       " Gray{Float64}(0.0)  Gray{Float64}(0.0)  …  Gray{Float64}(1.0)\n",
       " Gray{Float64}(0.0)  Gray{Float64}(0.0)     Gray{Float64}(1.0)\n",
       " Gray{Float64}(0.0)  Gray{Float64}(0.0)     Gray{Float64}(1.0)\n",
       " Gray{Float64}(0.0)  Gray{Float64}(0.0)     Gray{Float64}(1.0)\n",
       " Gray{Float64}(0.0)  Gray{Float64}(0.0)     Gray{Float64}(1.0)"
      ]
     },
     "execution_count": 16,
     "metadata": {},
     "output_type": "execute_result"
    }
   ],
   "source": [
    "ShowImage(myDenoise(f))"
   ]
  }
 ],
 "metadata": {
  "kernelspec": {
   "display_name": "Julia 1.9.3",
   "language": "julia",
   "name": "julia-1.9"
  },
  "language_info": {
   "file_extension": ".jl",
   "mimetype": "application/julia",
   "name": "julia",
   "version": "1.9.3"
  }
 },
 "nbformat": 4,
 "nbformat_minor": 4
}
