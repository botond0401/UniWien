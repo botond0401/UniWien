{
 "cells": [
  {
   "cell_type": "markdown",
   "metadata": {},
   "source": [
    "# P.8"
   ]
  },
  {
   "cell_type": "code",
   "execution_count": 1,
   "metadata": {},
   "outputs": [
    {
     "name": "stdout",
     "output_type": "stream",
     "text": [
      "Eigenvalues: [0.1023934222045538, 2.362557865455194, 16.535048712340224]\n",
      "Eigenvectors: [-0.42081310228582736 0.7801153477952925 0.4629647687230724; -0.774344521300388 -0.574760277402314 0.26465295360620544; 0.47255358984632745 -0.24712480177967777 0.8459447009519617]\n"
     ]
    }
   ],
   "source": [
    "# Import the LinearAlgebra module\n",
    "using LinearAlgebra\n",
    "\n",
    "# Define your matrix\n",
    "A = [5.0 1.0 6.0; 1.0 2.0 4.0; 6.0 4.0 12.0]\n",
    "\n",
    "# Calculate eigenvalues and eigenvectors\n",
    "eigen_results = eigen(A)\n",
    "\n",
    "# Access eigenvalues\n",
    "eigenvalues = eigen_results.values\n",
    "\n",
    "# Access eigenvectors\n",
    "eigenvectors = eigen_results.vectors\n",
    "\n",
    "# Print the results\n",
    "println(\"Eigenvalues: \", eigenvalues)\n",
    "println(\"Eigenvectors: \", eigenvectors)\n"
   ]
  },
  {
   "cell_type": "code",
   "execution_count": 9,
   "metadata": {},
   "outputs": [
    {
     "name": "stdout",
     "output_type": "stream",
     "text": [
      "Comparing the first eigenvector with my vector, where the first coordinate is 1: [1.0, 0.5716481501090434, 1.8272334270385338]\n"
     ]
    }
   ],
   "source": [
    "v1 = eigenvectors[:, 3] / eigenvectors[1, 3]\n",
    "println(\"Comparing the first eigenvector with my vector, where the first coordinate is 1: \", v1)\n"
   ]
  },
  {
   "cell_type": "markdown",
   "metadata": {},
   "source": [
    "Both the eigenvalues and the first eigenvector match with my calculations \"by hand\".\n",
    "# P.9"
   ]
  },
  {
   "cell_type": "code",
   "execution_count": 11,
   "metadata": {},
   "outputs": [
    {
     "name": "stdout",
     "output_type": "stream",
     "text": [
      "Singular Value Decomposition:\n",
      "U: [0.0 1.0; 1.0 0.0]\n",
      "Σ: [16.0 0.0; 0.0 9.0]\n",
      "V: [1.0 0.0; 0.0 1.0; 0.0 0.0]\n",
      "Pseudo-Inverse:\n",
      "M⁺: [0.0 0.0625; 0.1111111111111111 0.0; 0.0 0.0]\n"
     ]
    }
   ],
   "source": [
    "# Define your matrix\n",
    "M = [0.0 9.0 0.0; 16.0 0.0 0.0]\n",
    "\n",
    "# Perform Singular Value Decomposition (SVD)\n",
    "U, Σ, V = svd(M)\n",
    "\n",
    "# Compute the pseudo-inverse\n",
    "# The pseudo-inverse is given by: A⁺ = V * inv(Σ) * transpose(U)\n",
    "pseudo_inverse = V * inv(Diagonal(Σ)) * transpose(U)\n",
    "\n",
    "# Print the results\n",
    "println(\"Singular Value Decomposition:\")\n",
    "println(\"U: \", U)\n",
    "println(\"Σ: \", Diagonal(Σ))\n",
    "println(\"V: \", V)\n",
    "println(\"Pseudo-Inverse:\")\n",
    "println(\"M⁺: \", pseudo_inverse)\n"
   ]
  },
  {
   "cell_type": "markdown",
   "metadata": {},
   "source": [
    "Both the singular value decomposition and the pseudo-inverse match with my calculations \"by hand\".\n"
   ]
  },
  {
   "cell_type": "markdown",
   "metadata": {},
   "source": [
    "# P.10\n",
    "## a)"
   ]
  },
  {
   "cell_type": "code",
   "execution_count": 7,
   "metadata": {},
   "outputs": [
    {
     "data": {
      "image/png": "[encoded data removed]",
      "text/html": [
       "<img src=\"data:image/png;base64,iVBORw0KGgoAAAANSUhEUgAAAHAAAABwCAAAAADji6uXAAAABGdBTUEAALGPC/xhBQAAAAFzUkdCAK7OHOkAAAAgY0hSTQAAeiYAAICEAAD6AAAAgOgAAHUwAADqYAAAOpgAABdwnLpRPAAAAjJJREFUaAW9wT1oHAQABtB3+mGISDN0sIK46SaGFEUnxbEVFTtIkWYVRCgoAYcomRzUDlYQBREUhTo4WCwihcKB0EGtOneTQkAtgu1ih5zDDRlyf0nley/KoizKoizKoizKoizKoizKoizKoizKoixuw1G8inV8jg9wxWxRFmVRFge0ios4hBFO4VkcNluURVmUxQE8hq+xghFu4BYO4wn8jFsmi7Ioi7LYh7uxhi9wn11X8Q7O4Qe8ibdNFmVRFmWxDx/jpL3WcA+GeAoPmy7KoizKYkFHcRwDY0N8i3exjV/wN57GwHRRFmVRFgtYxUUcwgjf4SSexCY+wZ/4DTs4jjVcsVeURVmUxRwPYQMr+Avb+Aw3cQEX7LWM1/GSvaIsyqIsZljCeziGG1jHT1g23wMmi7Ioi7KYYQ3HjD2HodsXZVEWZTHDGQwwxNBi7sAOBiaLsiiLspjiGaxihPMWt4MRfjVZlEVZlMUUy7gLf+Ar8y1hy9glvGGyKIuyKIs5/sW22ZawiQ1cwxncNFmURVmUxRznzbaKDbyIb3DCbFEWZVEWUwwwwPM4bbLXsIkVfIl180VZlEVZTDHCCEdwFp/iOh7HKTyC+/E7vseHFhNlURZlMcedeAUn8A8etOsyLuEti4uyKIuymOIyfsSjxo7gXmPXcQ6n7V+URVmUxRTX8AJexqZd7+MjXHUwURZlURYzbGMLW/4/URZlURZlURZlURZlURZlURZlURZlUfYfqPxYlL4fzGQAAAAASUVORK5C\">"
      ],
      "text/plain": [
       "28×28 reinterpret(reshape, Gray{Float32}, transpose(::Matrix{Float32})) with eltype Gray{Float32}:\n",
       " Gray{Float32}(0.0)  Gray{Float32}(0.0)  …  Gray{Float32}(0.0)\n",
       " Gray{Float32}(0.0)  Gray{Float32}(0.0)     Gray{Float32}(0.0)\n",
       " Gray{Float32}(0.0)  Gray{Float32}(0.0)     Gray{Float32}(0.0)\n",
       " Gray{Float32}(0.0)  Gray{Float32}(0.0)     Gray{Float32}(0.0)\n",
       " Gray{Float32}(0.0)  Gray{Float32}(0.0)     Gray{Float32}(0.0)\n",
       " Gray{Float32}(0.0)  Gray{Float32}(0.0)  …  Gray{Float32}(0.0)\n",
       " Gray{Float32}(0.0)  Gray{Float32}(0.0)     Gray{Float32}(0.0)\n",
       " Gray{Float32}(0.0)  Gray{Float32}(0.0)     Gray{Float32}(0.0)\n",
       " Gray{Float32}(0.0)  Gray{Float32}(0.0)     Gray{Float32}(0.0)\n",
       " Gray{Float32}(0.0)  Gray{Float32}(0.0)     Gray{Float32}(0.0)\n",
       " Gray{Float32}(0.0)  Gray{Float32}(0.0)  …  Gray{Float32}(0.0)\n",
       " Gray{Float32}(0.0)  Gray{Float32}(0.0)     Gray{Float32}(0.0)\n",
       " Gray{Float32}(0.0)  Gray{Float32}(0.0)     Gray{Float32}(0.0)\n",
       " ⋮                                       ⋱  \n",
       " Gray{Float32}(0.0)  Gray{Float32}(0.0)     Gray{Float32}(0.0)\n",
       " Gray{Float32}(0.0)  Gray{Float32}(0.0)     Gray{Float32}(0.0)\n",
       " Gray{Float32}(0.0)  Gray{Float32}(0.0)     Gray{Float32}(0.0)\n",
       " Gray{Float32}(0.0)  Gray{Float32}(0.0)     Gray{Float32}(0.0)\n",
       " Gray{Float32}(0.0)  Gray{Float32}(0.0)  …  Gray{Float32}(0.0)\n",
       " Gray{Float32}(0.0)  Gray{Float32}(0.0)     Gray{Float32}(0.0)\n",
       " Gray{Float32}(0.0)  Gray{Float32}(0.0)     Gray{Float32}(0.0)\n",
       " Gray{Float32}(0.0)  Gray{Float32}(0.0)     Gray{Float32}(0.0)\n",
       " Gray{Float32}(0.0)  Gray{Float32}(0.0)     Gray{Float32}(0.0)\n",
       " Gray{Float32}(0.0)  Gray{Float32}(0.0)  …  Gray{Float32}(0.0)\n",
       " Gray{Float32}(0.0)  Gray{Float32}(0.0)     Gray{Float32}(0.0)\n",
       " Gray{Float32}(0.0)  Gray{Float32}(0.0)     Gray{Float32}(0.0)"
      ]
     },
     "metadata": {},
     "output_type": "display_data"
    },
    {
     "data": {
      "image/png": "[encoded data removed]",
      "text/html": [
       "<img src=\"data:image/png;base64,iVBORw0KGgoAAAANSUhEUgAAAHAAAABwCAAAAADji6uXAAAABGdBTUEAALGPC/xhBQAAAAFzUkdCAK7OHOkAAAAgY0hSTQAAeiYAAICEAAD6AAAAgOgAAHUwAADqYAAAOpgAABdwnLpRPAAAAYtJREFUaAW9waFqVQEABuCP8YNRRUFM7glkDzDQoGIw+AYbdpugYcUgDEwiy4p9wSooCjLwDWYRDIJrCibD1XDCLc577rmX//uiLMqiLMqiLMqiLMqiLMqiLMqiLMqiLMqiLMqiLMpiTfbwGBu4jg/+LcqiLMpiDXbxCDODP04XZVEWZbEGV3DGOFEWZVEWK7qB+wbHuIMTp4uyKIuyWME2XuKswVN89X9RFmVRFivYwWWD93hlsSiLsiiLiS7iHmb4gSfGibIoi7KYYBOH5p7jnXGiLMqiLCa4jasGb/HMeFEWZVEWS7qLfYOP2MFP40VZlEVZLGETh+a+4MRyoizKoiyW8BAzc/uWF2VRFmUx0hZumXuNz5YXZVEWZTHSG5w3+IRd00RZlEVZjHQBM4MD/DJNlEVZlMUIL7Bh7sh0URZlURYLbOEmZviNA5yYLsqiLMpigXO4ZPAND6wmyqIsyqIsyqIsymKBYxxh23pEWZRFWSzwHdesT5RFWZRFWZRFWZRFWZRFWZT9BXYjLFSLepVZAAAAAElFTkSuQmCC\">"
      ],
      "text/plain": [
       "28×28 reinterpret(reshape, Gray{Float32}, transpose(::Matrix{Float32})) with eltype Gray{Float32}:\n",
       " Gray{Float32}(0.0)  Gray{Float32}(0.0)  …  Gray{Float32}(0.0)\n",
       " Gray{Float32}(0.0)  Gray{Float32}(0.0)     Gray{Float32}(0.0)\n",
       " Gray{Float32}(0.0)  Gray{Float32}(0.0)     Gray{Float32}(0.0)\n",
       " Gray{Float32}(0.0)  Gray{Float32}(0.0)     Gray{Float32}(0.0)\n",
       " Gray{Float32}(0.0)  Gray{Float32}(0.0)     Gray{Float32}(0.0)\n",
       " Gray{Float32}(0.0)  Gray{Float32}(0.0)  …  Gray{Float32}(0.0)\n",
       " Gray{Float32}(0.0)  Gray{Float32}(0.0)     Gray{Float32}(0.0)\n",
       " Gray{Float32}(0.0)  Gray{Float32}(0.0)     Gray{Float32}(0.0)\n",
       " Gray{Float32}(0.0)  Gray{Float32}(0.0)     Gray{Float32}(0.0)\n",
       " Gray{Float32}(0.0)  Gray{Float32}(0.0)     Gray{Float32}(0.0)\n",
       " Gray{Float32}(0.0)  Gray{Float32}(0.0)  …  Gray{Float32}(0.0)\n",
       " Gray{Float32}(0.0)  Gray{Float32}(0.0)     Gray{Float32}(0.0)\n",
       " Gray{Float32}(0.0)  Gray{Float32}(0.0)     Gray{Float32}(0.0)\n",
       " ⋮                                       ⋱  \n",
       " Gray{Float32}(0.0)  Gray{Float32}(0.0)     Gray{Float32}(0.0)\n",
       " Gray{Float32}(0.0)  Gray{Float32}(0.0)     Gray{Float32}(0.0)\n",
       " Gray{Float32}(0.0)  Gray{Float32}(0.0)     Gray{Float32}(0.0)\n",
       " Gray{Float32}(0.0)  Gray{Float32}(0.0)     Gray{Float32}(0.0)\n",
       " Gray{Float32}(0.0)  Gray{Float32}(0.0)  …  Gray{Float32}(0.0)\n",
       " Gray{Float32}(0.0)  Gray{Float32}(0.0)     Gray{Float32}(0.0)\n",
       " Gray{Float32}(0.0)  Gray{Float32}(0.0)     Gray{Float32}(0.0)\n",
       " Gray{Float32}(0.0)  Gray{Float32}(0.0)     Gray{Float32}(0.0)\n",
       " Gray{Float32}(0.0)  Gray{Float32}(0.0)     Gray{Float32}(0.0)\n",
       " Gray{Float32}(0.0)  Gray{Float32}(0.0)  …  Gray{Float32}(0.0)\n",
       " Gray{Float32}(0.0)  Gray{Float32}(0.0)     Gray{Float32}(0.0)\n",
       " Gray{Float32}(0.0)  Gray{Float32}(0.0)     Gray{Float32}(0.0)"
      ]
     },
     "metadata": {},
     "output_type": "display_data"
    },
    {
     "data": {
      "image/png": "[encoded data removed]",
      "text/html": [
       "<img src=\"data:image/png;base64,iVBORw0KGgoAAAANSUhEUgAAAHAAAABwCAAAAADji6uXAAAABGdBTUEAALGPC/xhBQAAAAFzUkdCAK7OHOkAAAAgY0hSTQAAeiYAAICEAAD6AAAAgOgAAHUwAADqYAAAOpgAABdwnLpRPAAAAkRJREFUaAW9wT2I1gUAB+DH7qeJZUF4fYxCgdFJGATZ0BaJQV9QEbYIZbRIgRYtctYgCQ0hNNYgcVPhJMcRBkE2NDQWWCAdZLgoSYUHVw3/4eXgvbe3M37PE2VRFmVRFmVRFmVRFmVRFmVRFmVRFmVRFmVRFmVRFjdgO27Fk7gTH+C6yaIsyqIsNmAn3sJezBm5G4dNFmVRFmXxH+zCG3gZW7EJy7iG+/ECPsIP1hdlURZlMYXb8T5exHYjF/AEtuB77MAOk0VZlEVZTOFZvGKtn/A4lnGf6UVZlEVZTOF5IxfxLd7GssEu04uyKIuymMKrOIQl/IjL1rrL9KIsyqIspvAL5q1vr+lFWZRFWWzAYdyCTfgbuw3O4xuTRVmURVlMaRsewDHsN7gJfxlcwkGsmizKoizK4l9sxh58hnvwJy7hPPZhm8EMnsOHWLG+KIuyKIsJtmAfPjc4jnP4GnfgHOYMZnECP+MMrhsvyqIsymIdm3EcRw0WcQpXMYuz2I0VnMQcnsan+AInccXgOyNRFmVRFmPM4D0cwe94Bwu4iodxCntwAa/jS9yGR3EAT2HJYBk7jURZlEVZjHEIR/AHXsMSHsFB7MdWvItPsGzwGxaxiJdwwOBNa0VZlEVZjHHMYAZHMY97jczjBFaNt4AF40VZlEVZjPErZnEzHjQ4i69wBhexamOiLMqiLMZ4DM/gIVzGx7iCFTcuyqIsymKMaziN0/5/URZlURZlURZlURZlURZlURZlURZlURZlURZlUfYP32laZ4WGv7sAAAAASUVORK5C\">"
      ],
      "text/plain": [
       "28×28 reinterpret(reshape, Gray{Float32}, transpose(::Matrix{Float32})) with eltype Gray{Float32}:\n",
       " Gray{Float32}(0.0)  Gray{Float32}(0.0)  …  Gray{Float32}(0.0)\n",
       " Gray{Float32}(0.0)  Gray{Float32}(0.0)     Gray{Float32}(0.0)\n",
       " Gray{Float32}(0.0)  Gray{Float32}(0.0)     Gray{Float32}(0.0)\n",
       " Gray{Float32}(0.0)  Gray{Float32}(0.0)     Gray{Float32}(0.0)\n",
       " Gray{Float32}(0.0)  Gray{Float32}(0.0)     Gray{Float32}(0.0)\n",
       " Gray{Float32}(0.0)  Gray{Float32}(0.0)  …  Gray{Float32}(0.0)\n",
       " Gray{Float32}(0.0)  Gray{Float32}(0.0)     Gray{Float32}(0.0)\n",
       " Gray{Float32}(0.0)  Gray{Float32}(0.0)     Gray{Float32}(0.0)\n",
       " Gray{Float32}(0.0)  Gray{Float32}(0.0)     Gray{Float32}(0.0)\n",
       " Gray{Float32}(0.0)  Gray{Float32}(0.0)     Gray{Float32}(0.0)\n",
       " Gray{Float32}(0.0)  Gray{Float32}(0.0)  …  Gray{Float32}(0.0)\n",
       " Gray{Float32}(0.0)  Gray{Float32}(0.0)     Gray{Float32}(0.0)\n",
       " Gray{Float32}(0.0)  Gray{Float32}(0.0)     Gray{Float32}(0.0)\n",
       " ⋮                                       ⋱  \n",
       " Gray{Float32}(0.0)  Gray{Float32}(0.0)     Gray{Float32}(0.0)\n",
       " Gray{Float32}(0.0)  Gray{Float32}(0.0)     Gray{Float32}(0.0)\n",
       " Gray{Float32}(0.0)  Gray{Float32}(0.0)     Gray{Float32}(0.0)\n",
       " Gray{Float32}(0.0)  Gray{Float32}(0.0)     Gray{Float32}(0.0)\n",
       " Gray{Float32}(0.0)  Gray{Float32}(0.0)  …  Gray{Float32}(0.0)\n",
       " Gray{Float32}(0.0)  Gray{Float32}(0.0)     Gray{Float32}(0.0)\n",
       " Gray{Float32}(0.0)  Gray{Float32}(0.0)     Gray{Float32}(0.0)\n",
       " Gray{Float32}(0.0)  Gray{Float32}(0.0)     Gray{Float32}(0.0)\n",
       " Gray{Float32}(0.0)  Gray{Float32}(0.0)     Gray{Float32}(0.0)\n",
       " Gray{Float32}(0.0)  Gray{Float32}(0.0)  …  Gray{Float32}(0.0)\n",
       " Gray{Float32}(0.0)  Gray{Float32}(0.0)     Gray{Float32}(0.0)\n",
       " Gray{Float32}(0.0)  Gray{Float32}(0.0)     Gray{Float32}(0.0)"
      ]
     },
     "metadata": {},
     "output_type": "display_data"
    },
    {
     "data": {
      "image/png": "[encoded data removed]",
      "text/html": [
       "<img src=\"data:image/png;base64,iVBORw0KGgoAAAANSUhEUgAAAHAAAABwCAAAAADji6uXAAAABGdBTUEAALGPC/xhBQAAAAFzUkdCAK7OHOkAAAAgY0hSTQAAeiYAAICEAAD6AAAAgOgAAHUwAADqYAAAOpgAABdwnLpRPAAAAgtJREFUaAW9wb+rlQUABuDnynsHHQIbHaQQWsqlLShtyIRLtAVCv4uGQskpqkEcjKYgEDSL+hvuJRBCKEFaIiiwtSFsEEeDrqbc23CGw+F8x/Ndlfd5oizKoizKoizKoizKoizKoizKoizKoizKoizKoizKYgeewCoO4Ry2zNvAMfxnWJRFWZTFCE/iLbyCXdiHLWyb9zK+wkncNC/KoizKYoTPsWa8N/AtfjYvyqIsymKES1gzcQPfYQXbJp7BYeNEWZRFWYxwHusm7uC6WY/gD+wzsY5fDYuyKIuyGOEurlnsKPaa+hu3DYuyKIuyeEDH8B52mzplsSiLsiiL+/QqPsEBrJr6HXcsFmVRFmUxwmN4HS+Yehbbpm7iY1zEpsWiLMqiLJY4iA3sd29X8LXloizKoixGWMGKWbuwZeolrOGie4uyKIuyWOIqnsdr+AG3zHoXJ4wXZVEWZTHCX/jMsNM4Ybwoi7Ioiwd01M5EWZRFWSywihfxIzYNewdf2pkoi7IoiwHP4VMcweO4ZtajWMMX2GNiE5uWi7Ioi7IYcBZPmfgI/5h1BE9j28RlnMdPlouyKIuyWOJ9i93A9/gQt4wTZVEWZTHgbRzHm+b9iX9xBd/gqp2JsiiLshjwGz7ALziDvVjHJWzguvsXZVEWZbHAbVzABQ9XlEVZlEVZlEVZlEVZlEVZlP0P+1pNiHrE0eQAAAAASUVORK5C\">"
      ],
      "text/plain": [
       "28×28 reinterpret(reshape, Gray{Float32}, transpose(::Matrix{Float32})) with eltype Gray{Float32}:\n",
       " Gray{Float32}(0.0)  Gray{Float32}(0.0)  …  Gray{Float32}(0.0)\n",
       " Gray{Float32}(0.0)  Gray{Float32}(0.0)     Gray{Float32}(0.0)\n",
       " Gray{Float32}(0.0)  Gray{Float32}(0.0)     Gray{Float32}(0.0)\n",
       " Gray{Float32}(0.0)  Gray{Float32}(0.0)     Gray{Float32}(0.0)\n",
       " Gray{Float32}(0.0)  Gray{Float32}(0.0)     Gray{Float32}(0.0)\n",
       " Gray{Float32}(0.0)  Gray{Float32}(0.0)  …  Gray{Float32}(0.0)\n",
       " Gray{Float32}(0.0)  Gray{Float32}(0.0)     Gray{Float32}(0.0)\n",
       " Gray{Float32}(0.0)  Gray{Float32}(0.0)     Gray{Float32}(0.0)\n",
       " Gray{Float32}(0.0)  Gray{Float32}(0.0)     Gray{Float32}(0.0)\n",
       " Gray{Float32}(0.0)  Gray{Float32}(0.0)     Gray{Float32}(0.0)\n",
       " Gray{Float32}(0.0)  Gray{Float32}(0.0)  …  Gray{Float32}(0.0)\n",
       " Gray{Float32}(0.0)  Gray{Float32}(0.0)     Gray{Float32}(0.0)\n",
       " Gray{Float32}(0.0)  Gray{Float32}(0.0)     Gray{Float32}(0.0)\n",
       " ⋮                                       ⋱  \n",
       " Gray{Float32}(0.0)  Gray{Float32}(0.0)     Gray{Float32}(0.0)\n",
       " Gray{Float32}(0.0)  Gray{Float32}(0.0)     Gray{Float32}(0.0)\n",
       " Gray{Float32}(0.0)  Gray{Float32}(0.0)     Gray{Float32}(0.0)\n",
       " Gray{Float32}(0.0)  Gray{Float32}(0.0)     Gray{Float32}(0.0)\n",
       " Gray{Float32}(0.0)  Gray{Float32}(0.0)  …  Gray{Float32}(0.0)\n",
       " Gray{Float32}(0.0)  Gray{Float32}(0.0)     Gray{Float32}(0.0)\n",
       " Gray{Float32}(0.0)  Gray{Float32}(0.0)     Gray{Float32}(0.0)\n",
       " Gray{Float32}(0.0)  Gray{Float32}(0.0)     Gray{Float32}(0.0)\n",
       " Gray{Float32}(0.0)  Gray{Float32}(0.0)     Gray{Float32}(0.0)\n",
       " Gray{Float32}(0.0)  Gray{Float32}(0.0)  …  Gray{Float32}(0.0)\n",
       " Gray{Float32}(0.0)  Gray{Float32}(0.0)     Gray{Float32}(0.0)\n",
       " Gray{Float32}(0.0)  Gray{Float32}(0.0)     Gray{Float32}(0.0)"
      ]
     },
     "metadata": {},
     "output_type": "display_data"
    },
    {
     "data": {
      "image/png": "[encoded data removed]",
      "text/html": [
       "<img src=\"data:image/png;base64,iVBORw0KGgoAAAANSUhEUgAAAHAAAABwCAAAAADji6uXAAAABGdBTUEAALGPC/xhBQAAAAFzUkdCAK7OHOkAAAAgY0hSTQAAeiYAAICEAAD6AAAAgOgAAHUwAADqYAAAOpgAABdwnLpRPAAAAbVJREFUaAW9wT2rDQAABuDnnN6UhSLdlNQdbrZrMjCgbkl2E9kY/ASrSfkBBukOjMJkMJkQRvJRihhsSpFSDGdw7nHP/Tid3ueJsiiLsiiLsiiLsiiLsiiLsiiLsiiLsiiLsiiLsiiLOVvBHZzAW/+LsiiLsphwHHtxz2yO4IXpoizKoiwmnMQS7tm+IRZxEAPri7Ioi7KYcAFPzGY/LuI23lhflEVZlMWEodndNPLedFEWZVEWY5axYHa7jTwyXZRFWZTFmDPYaTYLWDTyxXRRFmVRFmMOGXll+65jAe/w3XRRFmVRFut4bmt24TTO45SRq/hmuiiLsiiLdeyx1mEMsYID2IFzGOInnuEXgpc2FmVRFmUx5if+4Aau+GcZA/zGD7zGLbzAY3zFZ+zEGxuLsiiLshhzGR9xzFqf8ACv8dT/LmEfPthclEVZlMWEa7Zvxchdm4uyKIuymKP7NhdlURZlURZlURZlMScDLOGJjUVZlEVZzMkfDG0uyqIsymKOjmLVxqIsyqIs5mRga6IsyqIs5uAhztqaKIuyKIs5WMWqrYmyKIuyKIuyKIuyKIuyKIuyv/irMYSJ7ydGAAAAAElFTkSuQmCC\">"
      ],
      "text/plain": [
       "28×28 reinterpret(reshape, Gray{Float32}, transpose(::Matrix{Float32})) with eltype Gray{Float32}:\n",
       " Gray{Float32}(0.0)  Gray{Float32}(0.0)  …  Gray{Float32}(0.0)\n",
       " Gray{Float32}(0.0)  Gray{Float32}(0.0)     Gray{Float32}(0.0)\n",
       " Gray{Float32}(0.0)  Gray{Float32}(0.0)     Gray{Float32}(0.0)\n",
       " Gray{Float32}(0.0)  Gray{Float32}(0.0)     Gray{Float32}(0.0)\n",
       " Gray{Float32}(0.0)  Gray{Float32}(0.0)     Gray{Float32}(0.0)\n",
       " Gray{Float32}(0.0)  Gray{Float32}(0.0)  …  Gray{Float32}(0.0)\n",
       " Gray{Float32}(0.0)  Gray{Float32}(0.0)     Gray{Float32}(0.0)\n",
       " Gray{Float32}(0.0)  Gray{Float32}(0.0)     Gray{Float32}(0.0)\n",
       " Gray{Float32}(0.0)  Gray{Float32}(0.0)     Gray{Float32}(0.0)\n",
       " Gray{Float32}(0.0)  Gray{Float32}(0.0)     Gray{Float32}(0.0)\n",
       " Gray{Float32}(0.0)  Gray{Float32}(0.0)  …  Gray{Float32}(0.0)\n",
       " Gray{Float32}(0.0)  Gray{Float32}(0.0)     Gray{Float32}(0.0)\n",
       " Gray{Float32}(0.0)  Gray{Float32}(0.0)     Gray{Float32}(0.0)\n",
       " ⋮                                       ⋱  \n",
       " Gray{Float32}(0.0)  Gray{Float32}(0.0)     Gray{Float32}(0.0)\n",
       " Gray{Float32}(0.0)  Gray{Float32}(0.0)     Gray{Float32}(0.0)\n",
       " Gray{Float32}(0.0)  Gray{Float32}(0.0)     Gray{Float32}(0.0)\n",
       " Gray{Float32}(0.0)  Gray{Float32}(0.0)     Gray{Float32}(0.0)\n",
       " Gray{Float32}(0.0)  Gray{Float32}(0.0)  …  Gray{Float32}(0.0)\n",
       " Gray{Float32}(0.0)  Gray{Float32}(0.0)     Gray{Float32}(0.0)\n",
       " Gray{Float32}(0.0)  Gray{Float32}(0.0)     Gray{Float32}(0.0)\n",
       " Gray{Float32}(0.0)  Gray{Float32}(0.0)     Gray{Float32}(0.0)\n",
       " Gray{Float32}(0.0)  Gray{Float32}(0.0)     Gray{Float32}(0.0)\n",
       " Gray{Float32}(0.0)  Gray{Float32}(0.0)  …  Gray{Float32}(0.0)\n",
       " Gray{Float32}(0.0)  Gray{Float32}(0.0)     Gray{Float32}(0.0)\n",
       " Gray{Float32}(0.0)  Gray{Float32}(0.0)     Gray{Float32}(0.0)"
      ]
     },
     "metadata": {},
     "output_type": "display_data"
    },
    {
     "data": {
      "image/png": "[encoded data removed]",
      "text/html": [
       "<img src=\"data:image/png;base64,iVBORw0KGgoAAAANSUhEUgAAAHAAAABwCAAAAADji6uXAAAABGdBTUEAALGPC/xhBQAAAAFzUkdCAK7OHOkAAAAgY0hSTQAAeiYAAICEAAD6AAAAgOgAAHUwAADqYAAAOpgAABdwnLpRPAAAAiVJREFUaAW9wT2IFgQABuAHemnI4aJFISgJwkDIIiqIsMLcajiKIEEIshosmgSHhhoUIW/IcIgCISHa+psKsp8hEKSSSAlyECon61Q+jMDT4RuO7w6/n5Pe54myKIuyKIuyKIuyKIuyKIuyKIuyKIuyKIuyKIuyKIsZ3YQ5y17FLdiE3TiI5/EvDuAto6IsyqIsJrgDN+MRPIpb8YzV/sAhzOMSTuI7q0VZlEVZjHE/vsac8ZbwBgb4CH/hH/xmtSiLsiiLMc7iPOasdhyLeAL/4ajpRFmURVmM8Tf24Cn8hEOGfsZ2DLAZr5telEVZlMUEn+IYLmELXsQCBoZ+xcumF2VRFmUxhYuGLhjahY+xZHZRFmVRFjN4Ew/gMTyJr8wuyqIsymIGA7yEH/E+vsEJHMZV04myKIuymNEZvIAj2ImdWIcPcc5kURZlURZr8Al+xwK2YT/uxD78abwoi7IoizX6Bc/haRzBK7gb240XZVEWZXEDFnEUHyDYisfxreuLsiiLslije/EsHkQMncL3xouyKIuymNEmvIZ5bLDsCs5hyXhRFmVRFlPagB3YjY1GncA+fG6yKIuyKIsJ1mMz3sU9Rh3H2/gMS6YTZVEWZXEdt+E93Ie7jPoBC/gSl80myqIsymKFh7EHD+F2oy7jHezHwNpEWZRFWawwj3nLTuMLXMFBLLoxURZlURYr7MVe/58oi7Ioi7Ioi7Ioi7Ioi7IouwZsVVgTmd3ynQAAAABJRU5ErkJg\">"
      ],
      "text/plain": [
       "28×28 reinterpret(reshape, Gray{Float32}, transpose(::Matrix{Float32})) with eltype Gray{Float32}:\n",
       " Gray{Float32}(0.0)  Gray{Float32}(0.0)  …  Gray{Float32}(0.0)\n",
       " Gray{Float32}(0.0)  Gray{Float32}(0.0)     Gray{Float32}(0.0)\n",
       " Gray{Float32}(0.0)  Gray{Float32}(0.0)     Gray{Float32}(0.0)\n",
       " Gray{Float32}(0.0)  Gray{Float32}(0.0)     Gray{Float32}(0.0)\n",
       " Gray{Float32}(0.0)  Gray{Float32}(0.0)     Gray{Float32}(0.0)\n",
       " Gray{Float32}(0.0)  Gray{Float32}(0.0)  …  Gray{Float32}(0.0)\n",
       " Gray{Float32}(0.0)  Gray{Float32}(0.0)     Gray{Float32}(0.0)\n",
       " Gray{Float32}(0.0)  Gray{Float32}(0.0)     Gray{Float32}(0.0)\n",
       " Gray{Float32}(0.0)  Gray{Float32}(0.0)     Gray{Float32}(0.0)\n",
       " Gray{Float32}(0.0)  Gray{Float32}(0.0)     Gray{Float32}(0.0)\n",
       " Gray{Float32}(0.0)  Gray{Float32}(0.0)  …  Gray{Float32}(0.0)\n",
       " Gray{Float32}(0.0)  Gray{Float32}(0.0)     Gray{Float32}(0.0)\n",
       " Gray{Float32}(0.0)  Gray{Float32}(0.0)     Gray{Float32}(0.0)\n",
       " ⋮                                       ⋱  \n",
       " Gray{Float32}(0.0)  Gray{Float32}(0.0)     Gray{Float32}(0.0)\n",
       " Gray{Float32}(0.0)  Gray{Float32}(0.0)     Gray{Float32}(0.0)\n",
       " Gray{Float32}(0.0)  Gray{Float32}(0.0)     Gray{Float32}(0.0)\n",
       " Gray{Float32}(0.0)  Gray{Float32}(0.0)     Gray{Float32}(0.0)\n",
       " Gray{Float32}(0.0)  Gray{Float32}(0.0)  …  Gray{Float32}(0.0)\n",
       " Gray{Float32}(0.0)  Gray{Float32}(0.0)     Gray{Float32}(0.0)\n",
       " Gray{Float32}(0.0)  Gray{Float32}(0.0)     Gray{Float32}(0.0)\n",
       " Gray{Float32}(0.0)  Gray{Float32}(0.0)     Gray{Float32}(0.0)\n",
       " Gray{Float32}(0.0)  Gray{Float32}(0.0)     Gray{Float32}(0.0)\n",
       " Gray{Float32}(0.0)  Gray{Float32}(0.0)  …  Gray{Float32}(0.0)\n",
       " Gray{Float32}(0.0)  Gray{Float32}(0.0)     Gray{Float32}(0.0)\n",
       " Gray{Float32}(0.0)  Gray{Float32}(0.0)     Gray{Float32}(0.0)"
      ]
     },
     "metadata": {},
     "output_type": "display_data"
    },
    {
     "data": {
      "image/png": "[encoded data removed]",
      "text/html": [
       "<img src=\"data:image/png;base64,iVBORw0KGgoAAAANSUhEUgAAAHAAAABwCAAAAADji6uXAAAABGdBTUEAALGPC/xhBQAAAAFzUkdCAK7OHOkAAAAgY0hSTQAAeiYAAICEAAD6AAAAgOgAAHUwAADqYAAAOpgAABdwnLpRPAAAAilJREFUaAW9wT+I1QUAB/DPq+8QgSU1uFTW0Guzg4ZL8KjZoYOWaqilpSWCOx0aczYSWqItwulEMFKCwLiKpqKhtoZS7mhRIo4Kgu41/IaHpO/PGd/PJ8qiLMqiLMqiLMqiLO7SGJ/hXhw1X5RFWZTFXXgfL+EhfGoxURZlURYHcAQX8Swm+BGvW0yURVmUxZLGOItVg7fxLW5aTJRFWZTFkh7GSVM7+MLioizKoiyWMMZ5jAxexCXLibIoi7JYwqt4DFfwBnYtL8qiLMpiQd9gBb9gA7sOJsqiLMpiAetYxQRb+MvBRVmURVnMcRhrpn7Djlu9hUcNTpktyqIsymKOf/AM7sE+vjS1gQnexFGDTTyCXbcXZVEWZTHHc1jDPq7jpsEKTuAFgz+wg6dwAS/jmv+KsiiLspjhEJ4w+BUf4yeMcRrruIHP8S4ewFU86M6iLMqiLGY4gfcMPsQZHMFZnMQetrCJJ/EB9nAV19xelEVZlMUMx0ydMbiIVYN1bOM4vjI4h1PuLMqiLMpihsMY4ZLBCh7HCJvYxhjnMcImzpktyqIsymKOCSam9jHBMVzHffgZa/jdfFEWZVEWM3yC01jHcTyNQwavYYQbeAe7FhNlURZlMcPf+BP342tM3GoPW7hicVEWZVEWM3yHV7CB5019hB/wPbYtJ8qiLMpijsu47P8TZVEWZVEWZVEWZVEWZVEWZVEWZVEWZVEWZVEWZVEWZVEWZf8CoKdYWdyPfO8AAAAASUVORK5C\">"
      ],
      "text/plain": [
       "28×28 reinterpret(reshape, Gray{Float32}, transpose(::Matrix{Float32})) with eltype Gray{Float32}:\n",
       " Gray{Float32}(0.0)  Gray{Float32}(0.0)  …  Gray{Float32}(0.0)\n",
       " Gray{Float32}(0.0)  Gray{Float32}(0.0)     Gray{Float32}(0.0)\n",
       " Gray{Float32}(0.0)  Gray{Float32}(0.0)     Gray{Float32}(0.0)\n",
       " Gray{Float32}(0.0)  Gray{Float32}(0.0)     Gray{Float32}(0.0)\n",
       " Gray{Float32}(0.0)  Gray{Float32}(0.0)     Gray{Float32}(0.0)\n",
       " Gray{Float32}(0.0)  Gray{Float32}(0.0)  …  Gray{Float32}(0.0)\n",
       " Gray{Float32}(0.0)  Gray{Float32}(0.0)     Gray{Float32}(0.0)\n",
       " Gray{Float32}(0.0)  Gray{Float32}(0.0)     Gray{Float32}(0.0)\n",
       " Gray{Float32}(0.0)  Gray{Float32}(0.0)     Gray{Float32}(0.0)\n",
       " Gray{Float32}(0.0)  Gray{Float32}(0.0)     Gray{Float32}(0.0)\n",
       " Gray{Float32}(0.0)  Gray{Float32}(0.0)  …  Gray{Float32}(0.0)\n",
       " Gray{Float32}(0.0)  Gray{Float32}(0.0)     Gray{Float32}(0.0)\n",
       " Gray{Float32}(0.0)  Gray{Float32}(0.0)     Gray{Float32}(0.0)\n",
       " ⋮                                       ⋱  \n",
       " Gray{Float32}(0.0)  Gray{Float32}(0.0)     Gray{Float32}(0.0)\n",
       " Gray{Float32}(0.0)  Gray{Float32}(0.0)     Gray{Float32}(0.0)\n",
       " Gray{Float32}(0.0)  Gray{Float32}(0.0)     Gray{Float32}(0.0)\n",
       " Gray{Float32}(0.0)  Gray{Float32}(0.0)     Gray{Float32}(0.0)\n",
       " Gray{Float32}(0.0)  Gray{Float32}(0.0)  …  Gray{Float32}(0.0)\n",
       " Gray{Float32}(0.0)  Gray{Float32}(0.0)     Gray{Float32}(0.0)\n",
       " Gray{Float32}(0.0)  Gray{Float32}(0.0)     Gray{Float32}(0.0)\n",
       " Gray{Float32}(0.0)  Gray{Float32}(0.0)     Gray{Float32}(0.0)\n",
       " Gray{Float32}(0.0)  Gray{Float32}(0.0)     Gray{Float32}(0.0)\n",
       " Gray{Float32}(0.0)  Gray{Float32}(0.0)  …  Gray{Float32}(0.0)\n",
       " Gray{Float32}(0.0)  Gray{Float32}(0.0)     Gray{Float32}(0.0)\n",
       " Gray{Float32}(0.0)  Gray{Float32}(0.0)     Gray{Float32}(0.0)"
      ]
     },
     "metadata": {},
     "output_type": "display_data"
    },
    {
     "data": {
      "image/png": "[encoded data removed]",
      "text/html": [
       "<img src=\"data:image/png;base64,iVBORw0KGgoAAAANSUhEUgAAAHAAAABwCAAAAADji6uXAAAABGdBTUEAALGPC/xhBQAAAAFzUkdCAK7OHOkAAAAgY0hSTQAAeiYAAICEAAD6AAAAgOgAAHUwAADqYAAAOpgAABdwnLpRPAAAAfhJREFUaAW9wTGI1nUABuBHeXFQKgQX5VyCoLQlpyZdUrihIZCCzOamJA9qSgjBXXHpHJzkJqGWhsChQaGhMfGKIJtusKExiLuG33DI+b/vu+/kfZ4oi7Ioi7Ioi7Ioi7Ioi7Ioi7Ioi7Ioi7Ioi7Ioi7Ioi7Ioi7Ioi7Ioi7LYhxUcwlu4ZHiC06ZFWZRFWezRObyNc/gABwxbhjfwGKe8WJRFWZTFDMexhtcNr+EIDuAXnPG8gzhiWpRFWZTFLt7DHZy00yk8wzGcwF0sGR6bFmVRFmWxiy9x0rZ/8RV+xrrhb1zBkuFPXDYtyqIsymLCBbxr21+4jId2WrLtezwzLcqiLMpiwgoOGx7hGzz0vKNYxlnDI/xgd1EWZVEWE1ZxDP/gY2zY6TNcN/yKD7Fhd1EWZVEWE+7jvmnv45rhP3yLDbNFWZRFWSzoO2wZPseq+URZlEVZLOAGDmLT8JP5RVmURVns0SG8g01s4Qp+N78oi7Ioiz04jE9w3rCGe9g0vyiLsiiLOb2CO7ho+AK3sWlvoizKoizmtISLhj9wy2KiLMqiLObwJq4afsOyxUVZlEVZzOFrfGS4jacWF2VRFmUxw2m8aljFA/sTZVEWZTHDp1jGU9zEuv2JsiiLspjhR6zgKtbtX5RFWZTFDA8QL0+URVmU/Q/jHUJ+GoOCgwAAAABJRU5ErkJg\">"
      ],
      "text/plain": [
       "28×28 reinterpret(reshape, Gray{Float32}, transpose(::Matrix{Float32})) with eltype Gray{Float32}:\n",
       " Gray{Float32}(0.0)  Gray{Float32}(0.0)  …  Gray{Float32}(0.0)\n",
       " Gray{Float32}(0.0)  Gray{Float32}(0.0)     Gray{Float32}(0.0)\n",
       " Gray{Float32}(0.0)  Gray{Float32}(0.0)     Gray{Float32}(0.0)\n",
       " Gray{Float32}(0.0)  Gray{Float32}(0.0)     Gray{Float32}(0.0)\n",
       " Gray{Float32}(0.0)  Gray{Float32}(0.0)     Gray{Float32}(0.0)\n",
       " Gray{Float32}(0.0)  Gray{Float32}(0.0)  …  Gray{Float32}(0.0)\n",
       " Gray{Float32}(0.0)  Gray{Float32}(0.0)     Gray{Float32}(0.0)\n",
       " Gray{Float32}(0.0)  Gray{Float32}(0.0)     Gray{Float32}(0.0)\n",
       " Gray{Float32}(0.0)  Gray{Float32}(0.0)     Gray{Float32}(0.0)\n",
       " Gray{Float32}(0.0)  Gray{Float32}(0.0)     Gray{Float32}(0.0)\n",
       " Gray{Float32}(0.0)  Gray{Float32}(0.0)  …  Gray{Float32}(0.0)\n",
       " Gray{Float32}(0.0)  Gray{Float32}(0.0)     Gray{Float32}(0.0)\n",
       " Gray{Float32}(0.0)  Gray{Float32}(0.0)     Gray{Float32}(0.0)\n",
       " ⋮                                       ⋱  \n",
       " Gray{Float32}(0.0)  Gray{Float32}(0.0)     Gray{Float32}(0.0)\n",
       " Gray{Float32}(0.0)  Gray{Float32}(0.0)     Gray{Float32}(0.0)\n",
       " Gray{Float32}(0.0)  Gray{Float32}(0.0)     Gray{Float32}(0.0)\n",
       " Gray{Float32}(0.0)  Gray{Float32}(0.0)     Gray{Float32}(0.0)\n",
       " Gray{Float32}(0.0)  Gray{Float32}(0.0)  …  Gray{Float32}(0.0)\n",
       " Gray{Float32}(0.0)  Gray{Float32}(0.0)     Gray{Float32}(0.0)\n",
       " Gray{Float32}(0.0)  Gray{Float32}(0.0)     Gray{Float32}(0.0)\n",
       " Gray{Float32}(0.0)  Gray{Float32}(0.0)     Gray{Float32}(0.0)\n",
       " Gray{Float32}(0.0)  Gray{Float32}(0.0)     Gray{Float32}(0.0)\n",
       " Gray{Float32}(0.0)  Gray{Float32}(0.0)  …  Gray{Float32}(0.0)\n",
       " Gray{Float32}(0.0)  Gray{Float32}(0.0)     Gray{Float32}(0.0)\n",
       " Gray{Float32}(0.0)  Gray{Float32}(0.0)     Gray{Float32}(0.0)"
      ]
     },
     "metadata": {},
     "output_type": "display_data"
    },
    {
     "data": {
      "image/png": "[encoded data removed]",
      "text/html": [
       "<img src=\"data:image/png;base64,iVBORw0KGgoAAAANSUhEUgAAAHAAAABwCAAAAADji6uXAAAABGdBTUEAALGPC/xhBQAAAAFzUkdCAK7OHOkAAAAgY0hSTQAAeiYAAICEAAD6AAAAgOgAAHUwAADqYAAAOpgAABdwnLpRPAAAAhZJREFUaAW9wb+LlwUAB+Dnix8Fcbili7rBFgkMgqAxhORwkH4g1j9wuAmNQdgPMghEJKnMqSChocEg0oLIISeXiFoKNyWi4dKDhsjp2/AON3h+731VPs8TZVEWZVEWZVEWZVEWZVEWZVEWZVEWZVEWZVEWZVEWD9Ee/IgVPIcb7hZlURZl8QBWsGywgYN4Ftdxy9aiLMqiLCZ4Gq/hCYMnsdfgFJ7CDH9il61FWZRFWUxwEMdsuoMvsIo3DOb4HLdsLcqiLMpipHfxusEFrOMM1vEMvscjWMdF9xZlURZlMdIe7MZNvIm/DPbhBJbxL07iP/cWZVEWZTHSRRzGfpzCcSzhA7yA23gf5y0WZVEWZTHSL7iG/VjFIZzFXoOT+Nj2oizKoixGuoN/DB7HV5hhjs/wtXGiLMqiLCa46W7f4Qz+ME6URVmUxUg7cAAzm77FS6aJsiiLshjpSxzF3Ka56aIsyqIstrGCNbyCOX7Gr1jDo6aLsiiLstjGKt4zeAvncARr+M10URZlURYLPI+PDF7GFTyGdwxumC7KoizKYoFDWMJVXMZOvIglzPC36aIsyqIsFphjjjl24gg+xAY+xXnTRVmURVkssGywjh9wwGANl9yfKIuyKIsFfjd4FTPcxie44v5FWZRFWSxwAbvwNn7CNzjrwURZlEVZLLCB0zjt4YmyKIuyKIuyKIuyKIuyKIuy/wGlWk/gi/zc2QAAAABJRU5ErkJg\">"
      ],
      "text/plain": [
       "28×28 reinterpret(reshape, Gray{Float32}, transpose(::Matrix{Float32})) with eltype Gray{Float32}:\n",
       " Gray{Float32}(0.0)  Gray{Float32}(0.0)  …  Gray{Float32}(0.0)\n",
       " Gray{Float32}(0.0)  Gray{Float32}(0.0)     Gray{Float32}(0.0)\n",
       " Gray{Float32}(0.0)  Gray{Float32}(0.0)     Gray{Float32}(0.0)\n",
       " Gray{Float32}(0.0)  Gray{Float32}(0.0)     Gray{Float32}(0.0)\n",
       " Gray{Float32}(0.0)  Gray{Float32}(0.0)     Gray{Float32}(0.0)\n",
       " Gray{Float32}(0.0)  Gray{Float32}(0.0)  …  Gray{Float32}(0.0)\n",
       " Gray{Float32}(0.0)  Gray{Float32}(0.0)     Gray{Float32}(0.0)\n",
       " Gray{Float32}(0.0)  Gray{Float32}(0.0)     Gray{Float32}(0.0)\n",
       " Gray{Float32}(0.0)  Gray{Float32}(0.0)     Gray{Float32}(0.0)\n",
       " Gray{Float32}(0.0)  Gray{Float32}(0.0)     Gray{Float32}(0.0)\n",
       " Gray{Float32}(0.0)  Gray{Float32}(0.0)  …  Gray{Float32}(0.0)\n",
       " Gray{Float32}(0.0)  Gray{Float32}(0.0)     Gray{Float32}(0.0)\n",
       " Gray{Float32}(0.0)  Gray{Float32}(0.0)     Gray{Float32}(0.0)\n",
       " ⋮                                       ⋱  \n",
       " Gray{Float32}(0.0)  Gray{Float32}(0.0)     Gray{Float32}(0.0)\n",
       " Gray{Float32}(0.0)  Gray{Float32}(0.0)     Gray{Float32}(0.0)\n",
       " Gray{Float32}(0.0)  Gray{Float32}(0.0)     Gray{Float32}(0.0)\n",
       " Gray{Float32}(0.0)  Gray{Float32}(0.0)     Gray{Float32}(0.0)\n",
       " Gray{Float32}(0.0)  Gray{Float32}(0.0)  …  Gray{Float32}(0.0)\n",
       " Gray{Float32}(0.0)  Gray{Float32}(0.0)     Gray{Float32}(0.0)\n",
       " Gray{Float32}(0.0)  Gray{Float32}(0.0)     Gray{Float32}(0.0)\n",
       " Gray{Float32}(0.0)  Gray{Float32}(0.0)     Gray{Float32}(0.0)\n",
       " Gray{Float32}(0.0)  Gray{Float32}(0.0)     Gray{Float32}(0.0)\n",
       " Gray{Float32}(0.0)  Gray{Float32}(0.0)  …  Gray{Float32}(0.0)\n",
       " Gray{Float32}(0.0)  Gray{Float32}(0.0)     Gray{Float32}(0.0)\n",
       " Gray{Float32}(0.0)  Gray{Float32}(0.0)     Gray{Float32}(0.0)"
      ]
     },
     "metadata": {},
     "output_type": "display_data"
    },
    {
     "data": {
      "image/png": "[encoded data removed]",
      "text/html": [
       "<img src=\"data:image/png;base64,iVBORw0KGgoAAAANSUhEUgAAAHAAAABwCAAAAADji6uXAAAABGdBTUEAALGPC/xhBQAAAAFzUkdCAK7OHOkAAAAgY0hSTQAAeiYAAICEAAD6AAAAgOgAAHUwAADqYAAAOpgAABdwnLpRPAAAAf5JREFUaAW9wT+I1QUAB/DPxRf7Q4PEXeDikG22STRlS1xbOHkOOTganFMQooSgNtTU0pJDosEhIogtR0uUi9AmuES1iMtFxAMJHO45/IYb5L177xd8P58oi7Ioi7Ioi7Ioi7Ioi7Ioi7Ioi7Ioi7Ioi7Ioi7Ioi7Ioi7Ioi7Ioi7JY0ns4jeM4avAZnuB93MADs0VZlEVZLGED32AVK/gZa/jaYAWrOGW2KIuyKIsFBO/iO7yGX3AZ9/EybmHd4DfzRVmURVks4BNcM/gJG5gYbGDd4DGumy/KoizKYh9XcB5TfIuLmNhzwZ5z2DFflEVZlMUcX+A8nmEbn+M/g1ewjsNYwRXctb8oi7IoixkO4lNMsY0T9ryNH3DM4Da+spgoi7IoixkOYNXgHN7EGXyMd/A6ppjiJp5aTJRFWZTFDM+wgzX8hak9TzDBIfyNexYXZVEWZTHDvziBH/EG/sBdfI9/sIVD2LKcKIuyKIs5HmDNi47jA+ziT8uJsiiLshjhVexiii3LibIoi7IYYdt4URZlURYjfGS8KIuyKIsRjhgvyqIsymKEX/ESdi0vyqIsymKEh/gdb+EIdiwuyqIsymKkL3ENV7GJRxYTZVEWZTHSHZzCh7iEM3hqf1EWZVEWI01wEldxFpfwyP6iLMqiLP6HCTaxaXFRFmVR9hxr7UyvfehgBAAAAABJRU5ErkJg\">"
      ],
      "text/plain": [
       "28×28 reinterpret(reshape, Gray{Float32}, transpose(::Matrix{Float32})) with eltype Gray{Float32}:\n",
       " Gray{Float32}(0.0)  Gray{Float32}(0.0)  …  Gray{Float32}(0.0)\n",
       " Gray{Float32}(0.0)  Gray{Float32}(0.0)     Gray{Float32}(0.0)\n",
       " Gray{Float32}(0.0)  Gray{Float32}(0.0)     Gray{Float32}(0.0)\n",
       " Gray{Float32}(0.0)  Gray{Float32}(0.0)     Gray{Float32}(0.0)\n",
       " Gray{Float32}(0.0)  Gray{Float32}(0.0)     Gray{Float32}(0.0)\n",
       " Gray{Float32}(0.0)  Gray{Float32}(0.0)  …  Gray{Float32}(0.0)\n",
       " Gray{Float32}(0.0)  Gray{Float32}(0.0)     Gray{Float32}(0.0)\n",
       " Gray{Float32}(0.0)  Gray{Float32}(0.0)     Gray{Float32}(0.0)\n",
       " Gray{Float32}(0.0)  Gray{Float32}(0.0)     Gray{Float32}(0.0)\n",
       " Gray{Float32}(0.0)  Gray{Float32}(0.0)     Gray{Float32}(0.0)\n",
       " Gray{Float32}(0.0)  Gray{Float32}(0.0)  …  Gray{Float32}(0.0)\n",
       " Gray{Float32}(0.0)  Gray{Float32}(0.0)     Gray{Float32}(0.0)\n",
       " Gray{Float32}(0.0)  Gray{Float32}(0.0)     Gray{Float32}(0.0)\n",
       " ⋮                                       ⋱  \n",
       " Gray{Float32}(0.0)  Gray{Float32}(0.0)     Gray{Float32}(0.0)\n",
       " Gray{Float32}(0.0)  Gray{Float32}(0.0)     Gray{Float32}(0.0)\n",
       " Gray{Float32}(0.0)  Gray{Float32}(0.0)     Gray{Float32}(0.0)\n",
       " Gray{Float32}(0.0)  Gray{Float32}(0.0)     Gray{Float32}(0.0)\n",
       " Gray{Float32}(0.0)  Gray{Float32}(0.0)  …  Gray{Float32}(0.0)\n",
       " Gray{Float32}(0.0)  Gray{Float32}(0.0)     Gray{Float32}(0.0)\n",
       " Gray{Float32}(0.0)  Gray{Float32}(0.0)     Gray{Float32}(0.0)\n",
       " Gray{Float32}(0.0)  Gray{Float32}(0.0)     Gray{Float32}(0.0)\n",
       " Gray{Float32}(0.0)  Gray{Float32}(0.0)     Gray{Float32}(0.0)\n",
       " Gray{Float32}(0.0)  Gray{Float32}(0.0)  …  Gray{Float32}(0.0)\n",
       " Gray{Float32}(0.0)  Gray{Float32}(0.0)     Gray{Float32}(0.0)\n",
       " Gray{Float32}(0.0)  Gray{Float32}(0.0)     Gray{Float32}(0.0)"
      ]
     },
     "metadata": {},
     "output_type": "display_data"
    },
    {
     "name": "stdout",
     "output_type": "stream",
     "text": [
      "Principal component 1 of digit 0:\n"
     ]
    },
    {
     "data": {
      "image/png": "[encoded data removed]",
      "text/html": [
       "<img src=\"data:image/png;base64,iVBORw0KGgoAAAANSUhEUgAAAHAAAABwCAAAAADji6uXAAAABGdBTUEAALGPC/xhBQAAAAFzUkdCAK7OHOkAAAAgY0hSTQAAeiYAAICEAAD6AAAAgOgAAHUwAADqYAAAOpgAABdwnLpRPAAAAfFJREFUaAW9wdFO41YABcCxfRJoq6rq///ltisIsX37kAcUILCh0pmJsiiLsiiLsiiLsiiLsiiLsiiLsiiLsiiLL0wuJsyYMWFgxe4+URZlURafmDBhxgHB4mLFwO4+URZlURY3TJiw4IgjDhg4Y8PuflEWZVEWn1hwxCOOGHjGE06+J8qiLMriAxNmBA94cPGMf7D52ORiuC3KoizK4oYFRzxgxhN+YHPbwIIZOzbvRVmURVl8YMYBD1hwxg9svrYhWDBhw/AqyqIsyuKNCTMOCHb8i7NfN3DAjBM2r6IsyqIsPhAcMOEZP91nx4IFKzavoizKoizemLBgxoaf7jewYMLiWpRFWZTFGxMWFyc8u9+MBRMm16IsyqIsbljx4nuCBbv3oizKoiw+sGPF6nsesGDD7lqURVmUxRsDK2bs7nfEo4sVm2tRFmVRFm/sOGPBcL8/EZzxgt21KIuyKIsPrBiYMGP3a/7GIzaccMbuWpRFWZTFDRsmzJixu23BX/gNAyc8Y8VwLcqiLMriEwObz/2OP3DAhhOecMbwXpRFWZTFNyw44gFHTHjBCSesGBjei7Ioi7K4U3DEARNesOKMFTuG26IsyqIs7jBh4AVnFwM7BoavRVmURVncYWDz/0RZlEVZlEVZlEVZlEVZlEXZf6UhbIdw+VI6AAAAAElFTkSuQmCC\">"
      ],
      "text/plain": [
       "28×28 reinterpret(reshape, Gray{Float32}, transpose(::Matrix{Float32})) with eltype Gray{Float32}:\n",
       " Gray{Float32}(0.0)          …  Gray{Float32}(0.0)\n",
       " Gray{Float32}(0.0)             Gray{Float32}(0.0)\n",
       " Gray{Float32}(0.0)             Gray{Float32}(0.0)\n",
       " Gray{Float32}(0.0)             Gray{Float32}(0.0)\n",
       " Gray{Float32}(0.0)             Gray{Float32}(0.0)\n",
       " Gray{Float32}(0.0)          …  Gray{Float32}(0.0)\n",
       " Gray{Float32}(0.0)             Gray{Float32}(-2.76173f-5)\n",
       " Gray{Float32}(0.0)             Gray{Float32}(-5.82613f-5)\n",
       " Gray{Float32}(-1.00031f-5)     Gray{Float32}(-0.0)\n",
       " Gray{Float32}(0.0)             Gray{Float32}(0.0)\n",
       " Gray{Float32}(-0.0)         …  Gray{Float32}(0.0)\n",
       " Gray{Float32}(-0.0)            Gray{Float32}(0.0)\n",
       " Gray{Float32}(-0.0)            Gray{Float32}(-0.0)\n",
       " ⋮                           ⋱  \n",
       " Gray{Float32}(0.0)             Gray{Float32}(-4.04343f-6)\n",
       " Gray{Float32}(0.0)             Gray{Float32}(-3.5043f-5)\n",
       " Gray{Float32}(-0.0)            Gray{Float32}(-0.0)\n",
       " Gray{Float32}(0.0)             Gray{Float32}(-0.0)\n",
       " Gray{Float32}(0.0)          …  Gray{Float32}(0.0)\n",
       " Gray{Float32}(-0.0)            Gray{Float32}(1.56013f-7)\n",
       " Gray{Float32}(-0.0)            Gray{Float32}(2.88021f-7)\n",
       " Gray{Float32}(-0.0)            Gray{Float32}(-0.0)\n",
       " Gray{Float32}(0.0)             Gray{Float32}(0.0)\n",
       " Gray{Float32}(3.30872f-24)  …  Gray{Float32}(0.0)\n",
       " Gray{Float32}(0.0)             Gray{Float32}(0.0)\n",
       " Gray{Float32}(0.0)             Gray{Float32}(0.0)"
      ]
     },
     "metadata": {},
     "output_type": "display_data"
    },
    {
     "name": "stdout",
     "output_type": "stream",
     "text": [
      "Principal component 1 of digit 1:\n"
     ]
    },
    {
     "data": {
      "image/png": "[encoded data removed]",
      "text/html": [
       "<img src=\"data:image/png;base64,iVBORw0KGgoAAAANSUhEUgAAAHAAAABwCAAAAADji6uXAAAABGdBTUEAALGPC/xhBQAAAAFzUkdCAK7OHOkAAAAgY0hSTQAAeiYAAICEAAD6AAAAgOgAAHUwAADqYAAAOpgAABdwnLpRPAAAAWBJREFUaAW9wTt2GzEABDBw3yg/3/+qjhxLyxQq0sVLFgNEWZRFWZRFWZRFWZRFWZRFWZTFpoFpXZRFWZTFRQMDwQ0HHrhjui7KoizKYsGBG34h+MDdmiiLsiiLBQMHghs+Ma2JsiiLslgwvQwcmNZFWZRFWSyaGF4e1kVZlEVZLJj+mfiwLsqiLMpi0cTEJ+7WRVmURVksmDhx4m5PlEVZlMWiE3e82xNlURZlsWDiEyce9kRZlEVZXDS9TJz2RVmURVlsGrjhiafroizKoiw23fCG3zgxXRNlURZlsekNP/CBgemaKIuyKItNP3HgwMDA9LUoi7Ioiw3fccOJgeG6KIuyKIsN33DgxIGB4WX6vyiLsiiLDcH0cuDA0zVRFmVRFhsGTkzroizKoiw2PPAHEw+cmJi+FmVRFmWx4R0fmHjixHRNlEVZlMWGBx72RFmURVmURVmURVmURVmURdlfD7NAg/W6YLsAAAAASUVORK5C\">"
      ],
      "text/plain": [
       "28×28 reinterpret(reshape, Gray{Float32}, transpose(::Matrix{Float32})) with eltype Gray{Float32}:\n",
       " Gray{Float32}(0.0)          …  Gray{Float32}(0.0)\n",
       " Gray{Float32}(0.0)             Gray{Float32}(0.0)\n",
       " Gray{Float32}(0.0)             Gray{Float32}(0.0)\n",
       " Gray{Float32}(0.0)             Gray{Float32}(0.0)\n",
       " Gray{Float32}(0.0)             Gray{Float32}(0.0)\n",
       " Gray{Float32}(0.0)          …  Gray{Float32}(0.0)\n",
       " Gray{Float32}(0.0)             Gray{Float32}(0.0)\n",
       " Gray{Float32}(0.0)             Gray{Float32}(0.0)\n",
       " Gray{Float32}(-0.0)            Gray{Float32}(0.0)\n",
       " Gray{Float32}(-0.0)            Gray{Float32}(0.0)\n",
       " Gray{Float32}(-0.0)         …  Gray{Float32}(3.11239f-7)\n",
       " Gray{Float32}(-0.0)            Gray{Float32}(1.9251f-5)\n",
       " Gray{Float32}(0.0)             Gray{Float32}(2.57257f-5)\n",
       " ⋮                           ⋱  \n",
       " Gray{Float32}(0.0)             Gray{Float32}(-0.0)\n",
       " Gray{Float32}(0.0)             Gray{Float32}(9.62785f-7)\n",
       " Gray{Float32}(-6.68717f-7)     Gray{Float32}(2.82055f-5)\n",
       " Gray{Float32}(-3.34358f-6)     Gray{Float32}(1.42821f-5)\n",
       " Gray{Float32}(-0.0)         …  Gray{Float32}(-1.25038f-5)\n",
       " Gray{Float32}(-4.43501f-6)     Gray{Float32}(-0.0)\n",
       " Gray{Float32}(-4.29641f-6)     Gray{Float32}(0.0)\n",
       " Gray{Float32}(-0.0)            Gray{Float32}(-0.0)\n",
       " Gray{Float32}(0.0)             Gray{Float32}(-0.0)\n",
       " Gray{Float32}(0.0)          …  Gray{Float32}(1.26218f-29)\n",
       " Gray{Float32}(0.0)             Gray{Float32}(0.0)\n",
       " Gray{Float32}(0.0)             Gray{Float32}(0.0)"
      ]
     },
     "metadata": {},
     "output_type": "display_data"
    },
    {
     "name": "stdout",
     "output_type": "stream",
     "text": [
      "Principal component 1 of digit 2:\n"
     ]
    },
    {
     "data": {
      "image/png": "[encoded data removed]",
      "text/html": [
       "<img src=\"data:image/png;base64,iVBORw0KGgoAAAANSUhEUgAAAHAAAABwCAAAAADji6uXAAAABGdBTUEAALGPC/xhBQAAAAFzUkdCAK7OHOkAAAAgY0hSTQAAeiYAAICEAAD6AAAAgOgAAHUwAADqYAAAOpgAABdwnLpRPAAAAf5JREFUaAW9wcFW20gUBcBq6YoJnJP//9MJsdXds9ACOzYJOMyrimJRLIpFsSgWxaJYFIsHNdemj4liUSyKxYMaVixomBgYGJjui2JRLIrFgwZWbNjQMHDCGR3DrSgWxaJY/IWOjg1Bw+IwMTFdi2JRLIrFXxh4xUTDEzYMdAxM16JYFIti8YAFw2Hi1WHFhmDF2a0oFsWiWHxCQxyGa694wRMWNDS3olgUi2LxCavD9L6G5n1RLIpFsfighomJ4b4VDQMT060oFsWiWHzCwHRfsDl0dEy3olgUi2LxAc2fvSDYsWO4L4pFsSgW72gOi0PDwHQreMbEGWcMTLeiWBSLYnFHw4IVCxaHjhOma9+xYccJHdN9USyKRbH4RcOKDRtWNAyc0bE7rPiOZ0yccMbwvigWxaJYXGhY8YRvCBZ07Ngx0LDhBc9o2LFj+L0oFsWiWFxoCL7hHyw44Qd+oDsET4hDxxndm+m+KBbFolhcWLDhCcGOn/gXw5sVCzo6Jjo6dnRM90WxKBbF4kLDihUNEx3DmwUDrxiYmA7Dn0WxKBbF4o6JiYZgw9lhYHhcFItiUSwuDOw4IRi+XhSLYlEsLgz8xEQwccLu60SxKBbF4sLEjoGGiYHp60SxKBbF4hcT3f8nikWxKBbFolgUi2JRLIpFsSgWxaJYFIti/wHUe3+qK5SknQAAAABJRU5ErkJg\">"
      ],
      "text/plain": [
       "28×28 reinterpret(reshape, Gray{Float32}, transpose(::Matrix{Float32})) with eltype Gray{Float32}:\n",
       " Gray{Float32}(0.0)   …  Gray{Float32}(0.0)\n",
       " Gray{Float32}(0.0)      Gray{Float32}(0.0)\n",
       " Gray{Float32}(0.0)      Gray{Float32}(0.0)\n",
       " Gray{Float32}(0.0)      Gray{Float32}(0.0)\n",
       " Gray{Float32}(0.0)      Gray{Float32}(0.0)\n",
       " Gray{Float32}(-0.0)  …  Gray{Float32}(0.0)\n",
       " Gray{Float32}(-0.0)     Gray{Float32}(-0.0)\n",
       " Gray{Float32}(0.0)      Gray{Float32}(-0.0)\n",
       " Gray{Float32}(0.0)      Gray{Float32}(-0.0)\n",
       " Gray{Float32}(0.0)      Gray{Float32}(0.0)\n",
       " Gray{Float32}(-0.0)  …  Gray{Float32}(-0.0)\n",
       " Gray{Float32}(0.0)      Gray{Float32}(-0.0)\n",
       " Gray{Float32}(0.0)      Gray{Float32}(-2.43362f-6)\n",
       " ⋮                    ⋱  \n",
       " Gray{Float32}(-0.0)     Gray{Float32}(-0.000108462)\n",
       " Gray{Float32}(-0.0)     Gray{Float32}(-4.82245f-5)\n",
       " Gray{Float32}(-0.0)     Gray{Float32}(-0.00011396)\n",
       " Gray{Float32}(0.0)      Gray{Float32}(-7.40022f-5)\n",
       " Gray{Float32}(0.0)   …  Gray{Float32}(-0.0)\n",
       " Gray{Float32}(0.0)      Gray{Float32}(0.0)\n",
       " Gray{Float32}(-0.0)     Gray{Float32}(-0.0)\n",
       " Gray{Float32}(0.0)      Gray{Float32}(-0.0)\n",
       " Gray{Float32}(0.0)      Gray{Float32}(0.0)\n",
       " Gray{Float32}(0.0)   …  Gray{Float32}(0.0)\n",
       " Gray{Float32}(0.0)      Gray{Float32}(0.0)\n",
       " Gray{Float32}(0.0)      Gray{Float32}(0.0)"
      ]
     },
     "metadata": {},
     "output_type": "display_data"
    },
    {
     "name": "stdout",
     "output_type": "stream",
     "text": [
      "Principal component 1 of digit 3:\n"
     ]
    },
    {
     "data": {
      "image/png": "[encoded data removed]",
      "text/html": [
       "<img src=\"data:image/png;base64,iVBORw0KGgoAAAANSUhEUgAAAHAAAABwCAAAAADji6uXAAAABGdBTUEAALGPC/xhBQAAAAFzUkdCAK7OHOkAAAAgY0hSTQAAeiYAAICEAAD6AAAAgOgAAHUwAADqYAAAOpgAABdwnLpRPAAAAf9JREFUaAW9wdFy01YABcC90jEE+v//2c60U4ws3T6ImbgQwAnt2Y2yKIuyKIuyKIuyKIuyKIuyKItXGE7DaWB6Np2m74uyKIuyeIWJgRUXBKvTjhs27JiYvhVlURZl8UoTGwaCCy4Y2PAJV2zYfSvKoizK4o0+Y8eOj3jCewxM7Dgw/VuURVmUxS/Y8RduTk9YsWLxsiiLsiiLV1gxsGN6dsWGd5h+LMqiLMriQcNpx/RvC1anHTccXhZlURZl8aCJ3ct+Q7DjMzbsmL4VZVEWZfGLPuIdDtxwxQ3Ty6IsyqIs3mjgHVbs2LBhw47pZVEWZVEWb7RgYsOGAzccfizKoizK4o0OHBhOh8dEWZRFWXxlOE0/Nj1bMDD9XJRFWZTFnYHhNDAxfd+CINiw+bkoi7IoizsDi2cTE9NpYjgtCJ4QDGx+LsqiLMrii4GBFcPpwIEDEwMDAxc84YPT1WOiLMqiLO4sWBGnHTdMp4EFFzzhA4JP+NtjoizKoizuDKy4YMGOgYGJBRe8x3usuOJ37B4TZVEWZXFnYjqtCBZsmFgQrNjwJ/7A9Lgoi7IoizsHblgwEKyYuGHHhhuu3ibKoizK4ouJAzdM7AgGDnzGFdOvibIoi7K4M7HjwA3D6cDhvxFlURZl8ZWJ6f8TZVEWZVEWZVEWZVEWZVEWZf8AIcp9XvVhGzsAAAAASUVORK5C\">"
      ],
      "text/plain": [
       "28×28 reinterpret(reshape, Gray{Float32}, transpose(::Matrix{Float32})) with eltype Gray{Float32}:\n",
       " Gray{Float32}(0.0)          …  Gray{Float32}(0.0)\n",
       " Gray{Float32}(0.0)             Gray{Float32}(0.0)\n",
       " Gray{Float32}(0.0)             Gray{Float32}(0.0)\n",
       " Gray{Float32}(0.0)             Gray{Float32}(0.0)\n",
       " Gray{Float32}(0.0)             Gray{Float32}(0.0)\n",
       " Gray{Float32}(0.0)          …  Gray{Float32}(0.0)\n",
       " Gray{Float32}(0.0)             Gray{Float32}(-0.0)\n",
       " Gray{Float32}(0.0)             Gray{Float32}(0.0)\n",
       " Gray{Float32}(-0.0)            Gray{Float32}(-0.0)\n",
       " Gray{Float32}(0.0)             Gray{Float32}(0.0)\n",
       " Gray{Float32}(-0.0)         …  Gray{Float32}(-0.0)\n",
       " Gray{Float32}(0.0)             Gray{Float32}(0.0)\n",
       " Gray{Float32}(-0.0)            Gray{Float32}(-0.0)\n",
       " ⋮                           ⋱  \n",
       " Gray{Float32}(0.0)             Gray{Float32}(-0.0)\n",
       " Gray{Float32}(0.0)             Gray{Float32}(0.0)\n",
       " Gray{Float32}(-0.0)            Gray{Float32}(0.0)\n",
       " Gray{Float32}(-0.0)            Gray{Float32}(-0.0)\n",
       " Gray{Float32}(0.0)          …  Gray{Float32}(-0.0)\n",
       " Gray{Float32}(0.0)             Gray{Float32}(-0.0)\n",
       " Gray{Float32}(0.0)             Gray{Float32}(-0.0)\n",
       " Gray{Float32}(0.0)             Gray{Float32}(0.0)\n",
       " Gray{Float32}(-0.0)            Gray{Float32}(-0.0)\n",
       " Gray{Float32}(0.0)          …  Gray{Float32}(1.61559f-27)\n",
       " Gray{Float32}(2.58494f-26)     Gray{Float32}(0.0)\n",
       " Gray{Float32}(0.0)             Gray{Float32}(0.0)"
      ]
     },
     "metadata": {},
     "output_type": "display_data"
    },
    {
     "name": "stdout",
     "output_type": "stream",
     "text": [
      "Principal component 1 of digit 4:\n"
     ]
    },
    {
     "data": {
      "image/png": "[encoded data removed]",
      "text/html": [
       "<img src=\"data:image/png;base64,iVBORw0KGgoAAAANSUhEUgAAAHAAAABwCAAAAADji6uXAAAABGdBTUEAALGPC/xhBQAAAAFzUkdCAK7OHOkAAAAgY0hSTQAAeiYAAICEAAD6AAAAgOgAAHUwAADqYAAAOpgAABdwnLpRPAAAAfBJREFUaAW9wcFy4gYQBcAe8WAr+f9vzTo20uSgA2uQjVNUTXcMi2ExLIbFsBgWw2JYDIthMSyGxbAYFsNiWDxRHrWbctOei2ExLIbFgUKhsGCx23D1WWGxu3ouhsWwGBZ3CoUFwQlB4w3t0WJXaN+LYTEshsWBwgnBL5zwjtWjQqHRnothMSyGxZ1CYcEZFxR+Y/Wo0dhQaN+LYTEshsWBwoIguOLNscZqV2jfi2ExLIbFgcIJZyx4x4djjRULFixoNDaPYlgMi2Hxh7JbEJyw4R/PFc5orFgdi2ExLIbFnULhhMI7fnvuhAtWbL4Ww2JYDIs7hQULNvzrZ844YXNTaJ/FsBgWw+JAYcMVVz8TlF37WgyLYTEsDmy4YkMjuNqVXbu54OxnYlgMi2Fxp7HiA2V3Qew2XNFu/sIFVzTK12JYDIth8YdGY7Uru0LZbdjcFP7GBatd+1oMi2ExLO40NjQK5WbF5rNfOKPQaN+LYTEshsWdtmuUXaMdO2PBhkb7XgyLYTEsDrRdey5oNBrlezEshsWweFFhQ/uZGBbDYli8YEFjdVMoFNqjGBbDYli8oLDharei7dqxGBbDYli8oPGBDYUVV6xotEcxLIbFsHhB4w1l12i0r8WwGBbD4gWN9v/EsBgWw2JYDIthMew/3SlypmzoyecAAAAASUVORK5C\">"
      ],
      "text/plain": [
       "28×28 reinterpret(reshape, Gray{Float32}, transpose(::Matrix{Float32})) with eltype Gray{Float32}:\n",
       " Gray{Float32}(0.0)   …  Gray{Float32}(0.0)\n",
       " Gray{Float32}(0.0)      Gray{Float32}(0.0)\n",
       " Gray{Float32}(0.0)      Gray{Float32}(0.0)\n",
       " Gray{Float32}(0.0)      Gray{Float32}(0.0)\n",
       " Gray{Float32}(0.0)      Gray{Float32}(0.0)\n",
       " Gray{Float32}(0.0)   …  Gray{Float32}(0.0)\n",
       " Gray{Float32}(0.0)      Gray{Float32}(0.0)\n",
       " Gray{Float32}(-0.0)     Gray{Float32}(-0.0)\n",
       " Gray{Float32}(0.0)      Gray{Float32}(-0.0)\n",
       " Gray{Float32}(0.0)      Gray{Float32}(0.0)\n",
       " Gray{Float32}(-0.0)  …  Gray{Float32}(-0.0)\n",
       " Gray{Float32}(0.0)      Gray{Float32}(0.0)\n",
       " Gray{Float32}(-0.0)     Gray{Float32}(-0.0)\n",
       " ⋮                    ⋱  \n",
       " Gray{Float32}(0.0)      Gray{Float32}(-4.45157f-6)\n",
       " Gray{Float32}(-0.0)     Gray{Float32}(-4.45157f-6)\n",
       " Gray{Float32}(0.0)      Gray{Float32}(-1.61875f-6)\n",
       " Gray{Float32}(0.0)      Gray{Float32}(0.0)\n",
       " Gray{Float32}(-0.0)  …  Gray{Float32}(-0.0)\n",
       " Gray{Float32}(0.0)      Gray{Float32}(-0.0)\n",
       " Gray{Float32}(0.0)      Gray{Float32}(0.0)\n",
       " Gray{Float32}(-0.0)     Gray{Float32}(-0.0)\n",
       " Gray{Float32}(0.0)      Gray{Float32}(0.0)\n",
       " Gray{Float32}(-0.0)  …  Gray{Float32}(0.0)\n",
       " Gray{Float32}(0.0)      Gray{Float32}(0.0)\n",
       " Gray{Float32}(0.0)      Gray{Float32}(0.0)"
      ]
     },
     "metadata": {},
     "output_type": "display_data"
    },
    {
     "name": "stdout",
     "output_type": "stream",
     "text": [
      "Principal component 1 of digit 5:\n"
     ]
    },
    {
     "data": {
      "image/png": "[encoded data removed]",
      "text/html": [
       "<img src=\"data:image/png;base64,iVBORw0KGgoAAAANSUhEUgAAAHAAAABwCAAAAADji6uXAAAABGdBTUEAALGPC/xhBQAAAAFzUkdCAK7OHOkAAAAgY0hSTQAAeiYAAICEAAD6AAAAgOgAAHUwAADqYAAAOpgAABdwnLpRPAAAAZpJREFUaAW9wUGOU0cABcDq/m8SKeL+Jw1CGdvdLP7CivAge4BXFWVRFmVRFmVRFmVRFmVRFmVRFmVRFmVRFmVRFmVRFn/YcNpOURZlURZ/yMCBgYWFjSiLsiiL32ggeMOBgRsuWE5RFmVRFp/0hiCYmBiY7jYGbu6iLMqiLF504Av+xsDAxsbGxsbCwhXLXZRFWZTFi/7BGzauWNhY2NhY2NhYWO6iLMqiLF4wccUVF9yw3Q0MP9rYTlEWZVEWL1j45mMb289FWZRFWZRFWZRFWTxp4nBaWNheF2VRFmXxhIEDExPDaeEdy/OiLMqiLB4YGE4bA8tpYOLAQPAV23OiLMqiLB4YOLCxsbGxMDAxEEwEF8+JsiiLsnhgIti4YTlNTBwIgovXRFmURVl8YGBgOw0cCP5CnC64eF6URVmUxQMLC9NpYGLicLriP/zrNVEWZVEWDyxcMLGwnCbenS4+J8qiLMriAzfc/N8NN78myqIsyqIsyqIsyqIsyqIsyuIJw932a6IsyqIsnrD9PlEWZVEWZVEWZVH2HXx4Uqa5V7OcAAAAAElFTkSuQmCC\">"
      ],
      "text/plain": [
       "28×28 reinterpret(reshape, Gray{Float32}, transpose(::Matrix{Float32})) with eltype Gray{Float32}:\n",
       " Gray{Float32}(0.0)   Gray{Float32}(0.0)   …  Gray{Float32}(0.0)\n",
       " Gray{Float32}(0.0)   Gray{Float32}(0.0)      Gray{Float32}(0.0)\n",
       " Gray{Float32}(0.0)   Gray{Float32}(0.0)      Gray{Float32}(0.0)\n",
       " Gray{Float32}(0.0)   Gray{Float32}(0.0)      Gray{Float32}(0.0)\n",
       " Gray{Float32}(0.0)   Gray{Float32}(0.0)      Gray{Float32}(0.0)\n",
       " Gray{Float32}(0.0)   Gray{Float32}(0.0)   …  Gray{Float32}(3.3354f-5)\n",
       " Gray{Float32}(0.0)   Gray{Float32}(0.0)      Gray{Float32}(0.000262588)\n",
       " Gray{Float32}(0.0)   Gray{Float32}(0.0)      Gray{Float32}(0.000247084)\n",
       " Gray{Float32}(-0.0)  Gray{Float32}(0.0)      Gray{Float32}(0.000242221)\n",
       " Gray{Float32}(-0.0)  Gray{Float32}(0.0)      Gray{Float32}(0.000203351)\n",
       " Gray{Float32}(0.0)   Gray{Float32}(-0.0)  …  Gray{Float32}(5.36539f-5)\n",
       " Gray{Float32}(-0.0)  Gray{Float32}(0.0)      Gray{Float32}(1.96067f-5)\n",
       " Gray{Float32}(-0.0)  Gray{Float32}(0.0)      Gray{Float32}(-0.0)\n",
       " ⋮                                         ⋱  \n",
       " Gray{Float32}(0.0)   Gray{Float32}(-0.0)     Gray{Float32}(0.0)\n",
       " Gray{Float32}(-0.0)  Gray{Float32}(0.0)      Gray{Float32}(-0.0)\n",
       " Gray{Float32}(0.0)   Gray{Float32}(-0.0)     Gray{Float32}(0.0)\n",
       " Gray{Float32}(-0.0)  Gray{Float32}(0.0)      Gray{Float32}(0.0)\n",
       " Gray{Float32}(-0.0)  Gray{Float32}(0.0)   …  Gray{Float32}(6.1664f-6)\n",
       " Gray{Float32}(0.0)   Gray{Float32}(-0.0)     Gray{Float32}(-0.0)\n",
       " Gray{Float32}(0.0)   Gray{Float32}(-0.0)     Gray{Float32}(-0.0)\n",
       " Gray{Float32}(0.0)   Gray{Float32}(-0.0)     Gray{Float32}(0.0)\n",
       " Gray{Float32}(-0.0)  Gray{Float32}(0.0)      Gray{Float32}(0.0)\n",
       " Gray{Float32}(-0.0)  Gray{Float32}(0.0)   …  Gray{Float32}(0.0)\n",
       " Gray{Float32}(-0.0)  Gray{Float32}(0.0)      Gray{Float32}(0.0)\n",
       " Gray{Float32}(0.0)   Gray{Float32}(0.0)      Gray{Float32}(0.0)"
      ]
     },
     "metadata": {},
     "output_type": "display_data"
    },
    {
     "name": "stdout",
     "output_type": "stream",
     "text": [
      "Principal component 1 of digit 6:\n"
     ]
    },
    {
     "data": {
      "image/png": "[encoded data removed]",
      "text/html": [
       "<img src=\"data:image/png;base64,iVBORw0KGgoAAAANSUhEUgAAAHAAAABwCAAAAADji6uXAAAABGdBTUEAALGPC/xhBQAAAAFzUkdCAK7OHOkAAAAgY0hSTQAAeiYAAICEAAD6AAAAgOgAAHUwAADqYAAAOpgAABdwnLpRPAAAAalJREFUaAW9wUtSG1kABMBsqcCAx77/SQGpP28WLAgHDtSSHJUZZVEWZVEWZVEWZVEW/8CEIyZsGBgYvoqyKIuyuNOEFwQDMxasPgx/irIoi7K40zOecMCCBRMmDF9FWZRFWdzhCS84YsWCFRuGv4uyKIuyuNEjfiFYcMYZKzYMDF9FWZRFWdxgwm/8wIwTTliw+TD8XZRFWZTFDX7jGStOOGHG5rIoi7Ioiys94T9MOOEdZwz7RFmURVlc6Rce8IZXvLtOlEVZlMUVXvCMBa94c70oi7Ioiyv8xIQ3vLpNlEVZlMVOD3jAGa9Y3SbKoizKYqcfGHjH2e2iLMqiLHY6YMEJm09HPGLCjNn3oizKoix2WnHCguHTAUcEG2bfi7Ioi7LY6YQjFn/afNhwdlmURVmUxU4LFl8NzFiwuSzKoizK4k4bTvaLsiiLsrhgwoQDVgz3ibIoi7L4xoQDjggO2LBgxnC9KIuyKItvDGw+BQc84ogZK4b9oizKoiwuGFixYcbk03C9KIuyKIudhg/DfaIsyqIsyqIsyqIsyqIsyqIsyqIsyqLsfwyxYFpV9muTAAAAAElFTkSuQmCC\">"
      ],
      "text/plain": [
       "28×28 reinterpret(reshape, Gray{Float32}, transpose(::Matrix{Float32})) with eltype Gray{Float32}:\n",
       " Gray{Float32}(0.0)   …  Gray{Float32}(0.0)\n",
       " Gray{Float32}(0.0)      Gray{Float32}(0.0)\n",
       " Gray{Float32}(0.0)      Gray{Float32}(0.0)\n",
       " Gray{Float32}(0.0)      Gray{Float32}(0.0)\n",
       " Gray{Float32}(0.0)      Gray{Float32}(8.04588f-6)\n",
       " Gray{Float32}(0.0)   …  Gray{Float32}(1.18772f-5)\n",
       " Gray{Float32}(0.0)      Gray{Float32}(2.71702f-5)\n",
       " Gray{Float32}(-0.0)     Gray{Float32}(1.76008f-5)\n",
       " Gray{Float32}(0.0)      Gray{Float32}(0.0)\n",
       " Gray{Float32}(-0.0)     Gray{Float32}(0.0)\n",
       " Gray{Float32}(-0.0)  …  Gray{Float32}(0.0)\n",
       " Gray{Float32}(-0.0)     Gray{Float32}(-3.02968f-5)\n",
       " Gray{Float32}(0.0)      Gray{Float32}(-3.51535f-5)\n",
       " ⋮                    ⋱  \n",
       " Gray{Float32}(-0.0)     Gray{Float32}(-0.0)\n",
       " Gray{Float32}(0.0)      Gray{Float32}(-0.0)\n",
       " Gray{Float32}(0.0)      Gray{Float32}(0.0)\n",
       " Gray{Float32}(-0.0)     Gray{Float32}(0.0)\n",
       " Gray{Float32}(-0.0)  …  Gray{Float32}(0.0)\n",
       " Gray{Float32}(-0.0)     Gray{Float32}(-0.0)\n",
       " Gray{Float32}(0.0)      Gray{Float32}(0.0)\n",
       " Gray{Float32}(-0.0)     Gray{Float32}(-0.0)\n",
       " Gray{Float32}(0.0)      Gray{Float32}(0.0)\n",
       " Gray{Float32}(0.0)   …  Gray{Float32}(0.0)\n",
       " Gray{Float32}(0.0)      Gray{Float32}(0.0)\n",
       " Gray{Float32}(0.0)      Gray{Float32}(0.0)"
      ]
     },
     "metadata": {},
     "output_type": "display_data"
    },
    {
     "name": "stdout",
     "output_type": "stream",
     "text": [
      "Principal component 1 of digit 7:\n"
     ]
    },
    {
     "data": {
      "image/png": "[encoded data removed]",
      "text/html": [
       "<img src=\"data:image/png;base64,iVBORw0KGgoAAAANSUhEUgAAAHAAAABwCAAAAADji6uXAAAABGdBTUEAALGPC/xhBQAAAAFzUkdCAK7OHOkAAAAgY0hSTQAAeiYAAICEAAD6AAAAgOgAAHUwAADqYAAAOpgAABdwnLpRPAAAAelJREFUaAW9wYFuE0kQBcCa9QsBTuj+/0vR2TvTIG2kBBLHwYe6KppFs2gWzaJZNItm0SyaRbNoFs2iWTSLZtEsmkWzaBbNolk0i2bRLJpFs2gWzeKFgYHNs4ny90SzaBbN4smGDScEw2Fi4uzviGbRLJrFk4ETggecMLCwI9hRGBgYWLigfEw0i2bRLH4ang0MbNgwUFgINmwYGJgYOKPcFs2iWTSLnwqFhYnNYcPEBTsKGzYMLFywO5wwHBaW16JZNItm8aSwMB0WBiZ2TBQ2h8L0q2DDRGGg/CqaRbNoFi8UFgYKAxMTy2GivBZ8QmGiUF6LZtEsmsWTcigsDIfyrFz3GQ84o1DeFs2iWTSL3yyH4VAolOuCLygsLNdFs2gWzeKFwkB5Vijv+4ZP+I7pfdEsmkWz+E05lGflukf8g8KOhXJdNItm0SzeUBgot/2LB3zHRKFQ3hbNolk0iyvKbZ/xBQsXTCzvi2bRLJrF//ANG864YDqU66JZNItmcadHPGLhgolCeV80i2bRLO70FQM7diwfE82iWTSLO5xwwsKOhUK5LZpFs2gWd3jAwMTEQvmYaBbNolnc4YSFwsRE+ZhoFs2iWfyhEwoXh4kdC+W2aBbNoln8gYHCfzijHAqFcls0i2bR7Ad3lYeIAJYvrgAAAABJRU5ErkJg\">"
      ],
      "text/plain": [
       "28×28 reinterpret(reshape, Gray{Float32}, transpose(::Matrix{Float32})) with eltype Gray{Float32}:\n",
       " Gray{Float32}(0.0)          …  Gray{Float32}(0.0)\n",
       " Gray{Float32}(0.0)             Gray{Float32}(0.0)\n",
       " Gray{Float32}(0.0)             Gray{Float32}(0.0)\n",
       " Gray{Float32}(0.0)             Gray{Float32}(0.0)\n",
       " Gray{Float32}(0.0)             Gray{Float32}(0.0)\n",
       " Gray{Float32}(0.0)          …  Gray{Float32}(0.0)\n",
       " Gray{Float32}(0.0)             Gray{Float32}(0.0)\n",
       " Gray{Float32}(1.5717f-5)       Gray{Float32}(0.0)\n",
       " Gray{Float32}(6.38711f-5)      Gray{Float32}(0.0)\n",
       " Gray{Float32}(3.26724f-5)      Gray{Float32}(-2.12749f-5)\n",
       " Gray{Float32}(5.85692f-5)   …  Gray{Float32}(-5.73586f-6)\n",
       " Gray{Float32}(9.83357f-5)      Gray{Float32}(-1.07325f-6)\n",
       " Gray{Float32}(7.02133f-5)      Gray{Float32}(-3.99486f-6)\n",
       " ⋮                           ⋱  \n",
       " Gray{Float32}(1.59883f-5)      Gray{Float32}(0.0)\n",
       " Gray{Float32}(-0.0)            Gray{Float32}(0.0)\n",
       " Gray{Float32}(-8.79929f-6)     Gray{Float32}(-0.0)\n",
       " Gray{Float32}(0.0)             Gray{Float32}(-0.0)\n",
       " Gray{Float32}(0.0)          …  Gray{Float32}(0.0)\n",
       " Gray{Float32}(-0.0)            Gray{Float32}(-0.0)\n",
       " Gray{Float32}(0.0)             Gray{Float32}(-0.0)\n",
       " Gray{Float32}(0.0)             Gray{Float32}(-0.0)\n",
       " Gray{Float32}(0.0)             Gray{Float32}(0.0)\n",
       " Gray{Float32}(-0.0)         …  Gray{Float32}(-0.0)\n",
       " Gray{Float32}(0.0)             Gray{Float32}(0.0)\n",
       " Gray{Float32}(0.0)             Gray{Float32}(0.0)"
      ]
     },
     "metadata": {},
     "output_type": "display_data"
    },
    {
     "name": "stdout",
     "output_type": "stream",
     "text": [
      "Principal component 1 of digit 8:\n"
     ]
    },
    {
     "data": {
      "image/png": "[encoded data removed]",
      "text/html": [
       "<img src=\"data:image/png;base64,iVBORw0KGgoAAAANSUhEUgAAAHAAAABwCAAAAADji6uXAAAABGdBTUEAALGPC/xhBQAAAAFzUkdCAK7OHOkAAAAgY0hSTQAAeiYAAICEAAD6AAAAgOgAAHUwAADqYAAAOpgAABdwnLpRPAAAAgBJREFUaAW9wdFuIkcUBcDqmYNhd5P//85oJWLMTHce5gGxYBuIdKuiWBSLYlEsikWxKBbFolgUi2JRLIpFsSgWxeIBDQ0NEyabjhXd46JYFIti8YWGCTOCPXaYsOAdR8+JYlEsisUnGmbssMcBO3S844gTuudEsSgWxeKOhhk7HHDAjA/8xtHrolgUi2Lxh4aGGcEODSf8gw/XGvYYOPleFItiUSzuaGiY0LDiiA+3Dthh8ZgoFsWiWHyjo2Nxa48dBk4eE8WiWBSLTwysWDHQXJuwQ8c7Vo+JYlEsisUfBgY6VixomDFjtXlDxwmrx0WxKBbF4o6BjsVmtomLFR/onhPFolgUizsGus2CbrOiY2B1bULDwLAZbkWxKBbF4hMDHQMdHcOtPXY2C1Z0DJvhWhSLYlEsvjAwfG3GGwaai9V9USyKRbH4n844IDYdAwPdZriIYlEsisWTZqwuzlgQzJixorkvikWxKBZPOKDhX9c6GiZMmLDaDNeiWBSLYvGgCW84uzVjRve9KBbFolg8qGPB2bUf+IkZHQMdA8OtKBbFolg84ehiwi/8jTesWLBgRXdfFItiUSxesMdf+IkZC97xjjM6BoZbUSyKRbF40YojOs44Y0XHwHBfFItiUSxecMIHms2wGb4XxaJYFIsXDQzPi2JRLIpFsSgWxaLYf3eQgVWwunnpAAAAAElFTkSuQmCC\">"
      ],
      "text/plain": [
       "28×28 reinterpret(reshape, Gray{Float32}, transpose(::Matrix{Float32})) with eltype Gray{Float32}:\n",
       " Gray{Float32}(0.0)           …  Gray{Float32}(0.0)\n",
       " Gray{Float32}(0.0)              Gray{Float32}(0.0)\n",
       " Gray{Float32}(0.0)              Gray{Float32}(0.0)\n",
       " Gray{Float32}(0.0)              Gray{Float32}(0.0)\n",
       " Gray{Float32}(0.0)              Gray{Float32}(-7.62866f-6)\n",
       " Gray{Float32}(0.0)           …  Gray{Float32}(-9.95143f-6)\n",
       " Gray{Float32}(0.0)              Gray{Float32}(-5.03647f-5)\n",
       " Gray{Float32}(0.0)              Gray{Float32}(-9.76526f-5)\n",
       " Gray{Float32}(0.0)              Gray{Float32}(-6.53387f-5)\n",
       " Gray{Float32}(-0.0)             Gray{Float32}(-0.00011823)\n",
       " Gray{Float32}(-0.0)          …  Gray{Float32}(-0.000109843)\n",
       " Gray{Float32}(-0.0)             Gray{Float32}(-1.01707f-5)\n",
       " Gray{Float32}(0.0)              Gray{Float32}(-2.1214f-5)\n",
       " ⋮                            ⋱  \n",
       " Gray{Float32}(-0.0)             Gray{Float32}(0.0)\n",
       " Gray{Float32}(-0.0)             Gray{Float32}(0.0)\n",
       " Gray{Float32}(-0.0)             Gray{Float32}(-0.0)\n",
       " Gray{Float32}(0.0)              Gray{Float32}(-0.0)\n",
       " Gray{Float32}(0.0)           …  Gray{Float32}(-0.0)\n",
       " Gray{Float32}(0.0)              Gray{Float32}(0.0)\n",
       " Gray{Float32}(-0.0)             Gray{Float32}(0.0)\n",
       " Gray{Float32}(-0.0)             Gray{Float32}(-0.0)\n",
       " Gray{Float32}(0.0)              Gray{Float32}(-0.0)\n",
       " Gray{Float32}(0.0)           …  Gray{Float32}(0.0)\n",
       " Gray{Float32}(-1.61559f-27)     Gray{Float32}(0.0)\n",
       " Gray{Float32}(0.0)              Gray{Float32}(0.0)"
      ]
     },
     "metadata": {},
     "output_type": "display_data"
    },
    {
     "name": "stdout",
     "output_type": "stream",
     "text": [
      "Principal component 1 of digit 9:\n"
     ]
    },
    {
     "data": {
      "image/png": "[encoded data removed]",
      "text/html": [
       "<img src=\"data:image/png;base64,iVBORw0KGgoAAAANSUhEUgAAAHAAAABwCAAAAADji6uXAAAABGdBTUEAALGPC/xhBQAAAAFzUkdCAK7OHOkAAAAgY0hSTQAAeiYAAICEAAD6AAAAgOgAAHUwAADqYAAAOpgAABdwnLpRPAAAAeBJREFUaAW9wdFSKkcABcDe5Sia//9RK5WoBczkYR+8KAqGqtMdZVEWZVEWZVEWZVEWZVEWZVEWZVEWZVEWZVEWZVEWN1psFucmpttFWZRFWVyxYIcgiM0Br5h+J8qiLMriGwtWBHs84QFHvOIdw+9FWZRFWVywYMUDnvGMFa94wdH/F2VRFmVxwYJgjyes+Bsvzu2wx8Cb20RZlEVZfLJghwfsscM/ePHViomJBdN1URZlURafLFgR7HDAi8tOOGG4XZRFWZTFHxYsWLHavGO4bDi3YsHExPRVlEVZlMUPBk5us8MjBk44uSzKoizK4oKJiYHVbZ4QHHDyvSiLsiiLP0xMDByxYoe/8Ibhskc8Y+LgZ1EWZVEWn0wMHLFghz2CYTPwrw9P2OMNE9P3oizKoiwuGDhiIthhxYqBd+eesLOZfhZlURZl8cm0OWFiYMVic8DRhwUPNtN1URZlURYXTJsTBhabk6+escPAdF2URVmUxTemzfSzR5uB6booi7IoizsFA9OHxfeiLMqiLO4QLJgYNovNYjOdi7Ioi7K4QzAxnFt8L8qiLMriTgMDA9N1URZlURZ3GDhgYOKIgYGJ6asoi7IoizscMXyYmJiYLouyKIuyuMPA8DtRFmVR9h/RWW+DSf9beQAAAABJRU5ErkJg\">"
      ],
      "text/plain": [
       "28×28 reinterpret(reshape, Gray{Float32}, transpose(::Matrix{Float32})) with eltype Gray{Float32}:\n",
       " Gray{Float32}(0.0)         Gray{Float32}(0.0)   …  Gray{Float32}(0.0)\n",
       " Gray{Float32}(0.0)         Gray{Float32}(0.0)      Gray{Float32}(0.0)\n",
       " Gray{Float32}(0.0)         Gray{Float32}(0.0)      Gray{Float32}(0.0)\n",
       " Gray{Float32}(0.0)         Gray{Float32}(0.0)      Gray{Float32}(0.0)\n",
       " Gray{Float32}(0.0)         Gray{Float32}(0.0)      Gray{Float32}(0.0)\n",
       " Gray{Float32}(0.0)         Gray{Float32}(0.0)   …  Gray{Float32}(0.0)\n",
       " Gray{Float32}(0.0)         Gray{Float32}(0.0)      Gray{Float32}(0.0)\n",
       " Gray{Float32}(0.0)         Gray{Float32}(0.0)      Gray{Float32}(0.0)\n",
       " Gray{Float32}(0.0)         Gray{Float32}(0.0)      Gray{Float32}(0.0)\n",
       " Gray{Float32}(-0.0)        Gray{Float32}(0.0)      Gray{Float32}(0.0)\n",
       " Gray{Float32}(-0.0)        Gray{Float32}(0.0)   …  Gray{Float32}(-0.0)\n",
       " Gray{Float32}(0.0)         Gray{Float32}(-0.0)     Gray{Float32}(0.0)\n",
       " Gray{Float32}(-0.0)        Gray{Float32}(0.0)      Gray{Float32}(0.0)\n",
       " ⋮                                               ⋱  \n",
       " Gray{Float32}(0.0)         Gray{Float32}(-0.0)     Gray{Float32}(-0.0)\n",
       " Gray{Float32}(0.0)         Gray{Float32}(-0.0)     Gray{Float32}(-0.0)\n",
       " Gray{Float32}(-2.1748f-5)  Gray{Float32}(-0.0)     Gray{Float32}(0.0)\n",
       " Gray{Float32}(-0.0)        Gray{Float32}(0.0)      Gray{Float32}(-0.0)\n",
       " Gray{Float32}(0.0)         Gray{Float32}(-0.0)  …  Gray{Float32}(0.0)\n",
       " Gray{Float32}(-0.0)        Gray{Float32}(0.0)      Gray{Float32}(-0.0)\n",
       " Gray{Float32}(0.0)         Gray{Float32}(-0.0)     Gray{Float32}(-0.0)\n",
       " Gray{Float32}(0.0)         Gray{Float32}(-0.0)     Gray{Float32}(0.0)\n",
       " Gray{Float32}(-0.0)        Gray{Float32}(0.0)      Gray{Float32}(0.0)\n",
       " Gray{Float32}(-0.0)        Gray{Float32}(0.0)   …  Gray{Float32}(-0.0)\n",
       " Gray{Float32}(0.0)         Gray{Float32}(-0.0)     Gray{Float32}(0.0)\n",
       " Gray{Float32}(0.0)         Gray{Float32}(0.0)      Gray{Float32}(0.0)"
      ]
     },
     "metadata": {},
     "output_type": "display_data"
    }
   ],
   "source": [
    "using MLDatasets\n",
    "using Images\n",
    "using LinearAlgebra\n",
    "using Statistics\n",
    "\n",
    "# Load MNIST dataset\n",
    "data = MNIST()\n",
    "\n",
    "# Function to display an image of a digit\n",
    "function displayDigitImage(digit)\n",
    "    # Find the index of the first occurrence of the digit\n",
    "    index = findfirst(data.targets .== digit)\n",
    "    # Extract and reshape the image\n",
    "    image = transpose(reshape(data.features[:, :, index], 28, 28))\n",
    "    colorview(Gray, image)\n",
    "end\n",
    "\n",
    "# Display one example image for each digit\n",
    "for digit in 0:9\n",
    "    display(displayDigitImage(digit))\n",
    "end\n",
    "\n",
    "# Function to perform PCA on a specific digit\n",
    "function PCAForDigit(digit, PC)\n",
    "    # Extract all images of the specified digit\n",
    "    images = [reshape(data.features[:, :, i], 28^2) for i in 1:size(data.features, 3) if data.targets[i] == digit]\n",
    "    # Create a matrix where each column is a flattened image\n",
    "    X = hcat(images...)\n",
    "    # Standardize the data\n",
    "    X_standardized = X .- mean(X, dims=2)\n",
    "    # Compute covariance matrix\n",
    "    C = cov(X_standardized')\n",
    "    # Compute the eigenvalues and eigenvectors\n",
    "    eigenvalues, eigenvectors = eigen(C)\n",
    "    # Sort eigenvectors by eigenvalues in descending order\n",
    "    sorted_indices = sortperm(eigenvalues, rev=true)\n",
    "    eigenvectors_sorted = eigenvectors[:, sorted_indices]\n",
    "    # Return the specified principal component\n",
    "    eigenvectors_sorted[:, PC]\n",
    "end\n",
    "\n",
    "# Function to display principal components of a digit\n",
    "function displayPrincipalComponents(digit, PC)\n",
    "    pc = PCAForDigit(digit, PC)\n",
    "    println(\"Principal component $PC of digit $digit:\")\n",
    "    pc_image = transpose(reshape(pc, 28, 28))\n",
    "    display(colorview(Gray, pc_image))\n",
    "end\n",
    "\n",
    "# Example: Display the first principal component of each digit\n",
    "for digit in 0:9\n",
    "    displayPrincipalComponents(digit, 1)\n",
    "end\n"
   ]
  },
  {
   "cell_type": "markdown",
   "metadata": {},
   "source": [
    "# P.10\n",
    "## b)"
   ]
  },
  {
   "cell_type": "code",
   "execution_count": 10,
   "metadata": {},
   "outputs": [
    {
     "name": "stdout",
     "output_type": "stream",
     "text": [
      "\n",
      "******************************************************************************\n",
      "This program contains Ipopt, a library for large-scale nonlinear optimization.\n",
      " Ipopt is released as open source code under the Eclipse Public License (EPL).\n",
      "         For more information visit https://github.com/coin-or/Ipopt\n",
      "******************************************************************************\n",
      "\n",
      "Linear SVM Accuracy for Digit 2: 0.9395770392749244\n",
      "Linear SVM Accuracy for Digit 8: 0.9668432746539053\n",
      "Kernel SVM Accuracy for Digit 2: 0.9560255119167506\n",
      "Kernel SVM Accuracy for Digit 8: 0.9600068364382157\n"
     ]
    },
    {
     "data": {
      "image/png": "[encoded data removed]",
      "image/svg+xml": [
       "<?xml version=\"1.0\" encoding=\"utf-8\"?>\n",
       "<svg xmlns=\"http://www.w3.org/2000/svg\" xmlns:xlink=\"http://www.w3.org/1999/xlink\" width=\"600\" height=\"400\" viewBox=\"0 0 2400 1600\">\n",
       "<defs>\n",
       "  <clipPath id=\"clip670\">\n",
       "    <rect x=\"0\" y=\"0\" width=\"2400\" height=\"1600\"/>\n",
       "  </clipPath>\n",
       "</defs>\n",
       "<path clip-path=\"url(#clip670)\" d=\"M0 1600 L2400 1600 L2400 0 L0 0  Z\" fill=\"#ffffff\" fill-rule=\"evenodd\" fill-opacity=\"1\"/>\n",
       "<defs>\n",
       "  <clipPath id=\"clip671\">\n",
       "    <rect x=\"480\" y=\"0\" width=\"1681\" height=\"1600\"/>\n",
       "  </clipPath>\n",
       "</defs>\n",
       "<path clip-path=\"url(#clip670)\" d=\"M219.866 1423.18 L2352.76 1423.18 L2352.76 123.472 L219.866 123.472  Z\" fill=\"#ffffff\" fill-rule=\"evenodd\" fill-opacity=\"1\"/>\n",
       "<defs>\n",
       "  <clipPath id=\"clip672\">\n",
       "    <rect x=\"219\" y=\"123\" width=\"2134\" height=\"1301\"/>\n",
       "  </clipPath>\n",
       "</defs>\n",
       "<polyline clip-path=\"url(#clip672)\" style=\"stroke:#000000; stroke-linecap:round; stroke-linejoin:round; stroke-width:2; stroke-opacity:0.1; fill:none\" points=\"536.996,1423.18 536.996,123.472 \"/>\n",
       "<polyline clip-path=\"url(#clip672)\" style=\"stroke:#000000; stroke-linecap:round; stroke-linejoin:round; stroke-width:2; stroke-opacity:0.1; fill:none\" points=\"1036.54,1423.18 1036.54,123.472 \"/>\n",
       "<polyline clip-path=\"url(#clip672)\" style=\"stroke:#000000; stroke-linecap:round; stroke-linejoin:round; stroke-width:2; stroke-opacity:0.1; fill:none\" points=\"1536.08,1423.18 1536.08,123.472 \"/>\n",
       "<polyline clip-path=\"url(#clip672)\" style=\"stroke:#000000; stroke-linecap:round; stroke-linejoin:round; stroke-width:2; stroke-opacity:0.1; fill:none\" points=\"2035.63,1423.18 2035.63,123.472 \"/>\n",
       "<polyline clip-path=\"url(#clip670)\" style=\"stroke:#000000; stroke-linecap:round; stroke-linejoin:round; stroke-width:4; stroke-opacity:1; fill:none\" points=\"219.866,1423.18 2352.76,1423.18 \"/>\n",
       "<polyline clip-path=\"url(#clip670)\" style=\"stroke:#000000; stroke-linecap:round; stroke-linejoin:round; stroke-width:4; stroke-opacity:1; fill:none\" points=\"536.996,1423.18 536.996,1404.28 \"/>\n",
       "<polyline clip-path=\"url(#clip670)\" style=\"stroke:#000000; stroke-linecap:round; stroke-linejoin:round; stroke-width:4; stroke-opacity:1; fill:none\" points=\"1036.54,1423.18 1036.54,1404.28 \"/>\n",
       "<polyline clip-path=\"url(#clip670)\" style=\"stroke:#000000; stroke-linecap:round; stroke-linejoin:round; stroke-width:4; stroke-opacity:1; fill:none\" points=\"1536.08,1423.18 1536.08,1404.28 \"/>\n",
       "<polyline clip-path=\"url(#clip670)\" style=\"stroke:#000000; stroke-linecap:round; stroke-linejoin:round; stroke-width:4; stroke-opacity:1; fill:none\" points=\"2035.63,1423.18 2035.63,1404.28 \"/>\n",
       "<path clip-path=\"url(#clip670)\" d=\"M445.411 1451.02 L450.087 1451.02 L450.087 1481.64 L466.916 1481.64 L466.916 1485.58 L445.411 1485.58 L445.411 1451.02 Z\" fill=\"#000000\" fill-rule=\"nonzero\" fill-opacity=\"1\" /><path clip-path=\"url(#clip670)\" d=\"M471.638 1459.65 L475.897 1459.65 L475.897 1485.58 L471.638 1485.58 L471.638 1459.65 M471.638 1449.56 L475.897 1449.56 L475.897 1454.96 L471.638 1454.96 L471.638 1449.56 Z\" fill=\"#000000\" fill-rule=\"nonzero\" fill-opacity=\"1\" /><path clip-path=\"url(#clip670)\" d=\"M506.36 1469.93 L506.36 1485.58 L502.101 1485.58 L502.101 1470.07 Q502.101 1466.39 500.665 1464.56 Q499.23 1462.73 496.36 1462.73 Q492.911 1462.73 490.92 1464.93 Q488.929 1467.13 488.929 1470.93 L488.929 1485.58 L484.647 1485.58 L484.647 1459.65 L488.929 1459.65 L488.929 1463.68 Q490.457 1461.34 492.517 1460.19 Q494.601 1459.03 497.309 1459.03 Q501.777 1459.03 504.068 1461.81 Q506.36 1464.56 506.36 1469.93 Z\" fill=\"#000000\" fill-rule=\"nonzero\" fill-opacity=\"1\" /><path clip-path=\"url(#clip670)\" d=\"M537.031 1471.55 L537.031 1473.64 L517.448 1473.64 Q517.726 1478.03 520.087 1480.35 Q522.471 1482.64 526.707 1482.64 Q529.161 1482.64 531.452 1482.04 Q533.767 1481.44 536.036 1480.23 L536.036 1484.26 Q533.744 1485.23 531.337 1485.74 Q528.929 1486.25 526.452 1486.25 Q520.249 1486.25 516.614 1482.64 Q513.003 1479.03 513.003 1472.87 Q513.003 1466.51 516.429 1462.78 Q519.878 1459.03 525.712 1459.03 Q530.943 1459.03 533.975 1462.41 Q537.031 1465.77 537.031 1471.55 M532.772 1470.3 Q532.725 1466.81 530.804 1464.72 Q528.906 1462.64 525.758 1462.64 Q522.193 1462.64 520.04 1464.65 Q517.911 1466.67 517.587 1470.33 L532.772 1470.3 Z\" fill=\"#000000\" fill-rule=\"nonzero\" fill-opacity=\"1\" /><path clip-path=\"url(#clip670)\" d=\"M555.804 1472.55 Q550.642 1472.55 548.651 1473.73 Q546.661 1474.91 546.661 1477.76 Q546.661 1480.02 548.142 1481.37 Q549.647 1482.69 552.216 1482.69 Q555.758 1482.69 557.887 1480.19 Q560.04 1477.66 560.04 1473.5 L560.04 1472.55 L555.804 1472.55 M564.299 1470.79 L564.299 1485.58 L560.04 1485.58 L560.04 1481.64 Q558.582 1484.01 556.406 1485.14 Q554.23 1486.25 551.082 1486.25 Q547.1 1486.25 544.739 1484.03 Q542.401 1481.78 542.401 1478.03 Q542.401 1473.66 545.318 1471.44 Q548.258 1469.21 554.068 1469.21 L560.04 1469.21 L560.04 1468.8 Q560.04 1465.86 558.096 1464.26 Q556.174 1462.64 552.679 1462.64 Q550.457 1462.64 548.35 1463.17 Q546.244 1463.7 544.299 1464.77 L544.299 1460.83 Q546.637 1459.93 548.836 1459.49 Q551.036 1459.03 553.119 1459.03 Q558.744 1459.03 561.522 1461.95 Q564.299 1464.86 564.299 1470.79 Z\" fill=\"#000000\" fill-rule=\"nonzero\" fill-opacity=\"1\" /><path clip-path=\"url(#clip670)\" d=\"M588.096 1463.64 Q587.378 1463.22 586.521 1463.03 Q585.688 1462.83 584.67 1462.83 Q581.059 1462.83 579.114 1465.19 Q577.193 1467.52 577.193 1471.92 L577.193 1485.58 L572.91 1485.58 L572.91 1459.65 L577.193 1459.65 L577.193 1463.68 Q578.535 1461.32 580.688 1460.19 Q582.841 1459.03 585.92 1459.03 Q586.359 1459.03 586.892 1459.1 Q587.424 1459.14 588.072 1459.26 L588.096 1463.64 Z\" fill=\"#000000\" fill-rule=\"nonzero\" fill-opacity=\"1\" /><path clip-path=\"url(#clip670)\" d=\"M612.262 1481.64 L628.581 1481.64 L628.581 1485.58 L606.637 1485.58 L606.637 1481.64 Q609.299 1478.89 613.882 1474.26 Q618.489 1469.61 619.669 1468.27 Q621.915 1465.74 622.794 1464.01 Q623.697 1462.25 623.697 1460.56 Q623.697 1457.8 621.753 1456.07 Q619.831 1454.33 616.73 1454.33 Q614.531 1454.33 612.077 1455.09 Q609.646 1455.86 606.869 1457.41 L606.869 1452.69 Q609.693 1451.55 612.146 1450.97 Q614.6 1450.39 616.637 1450.39 Q622.007 1450.39 625.202 1453.08 Q628.396 1455.77 628.396 1460.26 Q628.396 1462.39 627.586 1464.31 Q626.799 1466.2 624.693 1468.8 Q624.114 1469.47 621.012 1472.69 Q617.91 1475.88 612.262 1481.64 Z\" fill=\"#000000\" fill-rule=\"nonzero\" fill-opacity=\"1\" /><path clip-path=\"url(#clip670)\" d=\"M944.202 1451.02 L948.878 1451.02 L948.878 1481.64 L965.707 1481.64 L965.707 1485.58 L944.202 1485.58 L944.202 1451.02 Z\" fill=\"#000000\" fill-rule=\"nonzero\" fill-opacity=\"1\" /><path clip-path=\"url(#clip670)\" d=\"M970.429 1459.65 L974.688 1459.65 L974.688 1485.58 L970.429 1485.58 L970.429 1459.65 M970.429 1449.56 L974.688 1449.56 L974.688 1454.96 L970.429 1454.96 L970.429 1449.56 Z\" fill=\"#000000\" fill-rule=\"nonzero\" fill-opacity=\"1\" /><path clip-path=\"url(#clip670)\" d=\"M1005.15 1469.93 L1005.15 1485.58 L1000.89 1485.58 L1000.89 1470.07 Q1000.89 1466.39 999.456 1464.56 Q998.021 1462.73 995.151 1462.73 Q991.702 1462.73 989.711 1464.93 Q987.72 1467.13 987.72 1470.93 L987.72 1485.58 L983.438 1485.58 L983.438 1459.65 L987.72 1459.65 L987.72 1463.68 Q989.248 1461.34 991.308 1460.19 Q993.392 1459.03 996.1 1459.03 Q1000.57 1459.03 1002.86 1461.81 Q1005.15 1464.56 1005.15 1469.93 Z\" fill=\"#000000\" fill-rule=\"nonzero\" fill-opacity=\"1\" /><path clip-path=\"url(#clip670)\" d=\"M1035.82 1471.55 L1035.82 1473.64 L1016.24 1473.64 Q1016.52 1478.03 1018.88 1480.35 Q1021.26 1482.64 1025.5 1482.64 Q1027.95 1482.64 1030.24 1482.04 Q1032.56 1481.44 1034.83 1480.23 L1034.83 1484.26 Q1032.53 1485.23 1030.13 1485.74 Q1027.72 1486.25 1025.24 1486.25 Q1019.04 1486.25 1015.41 1482.64 Q1011.79 1479.03 1011.79 1472.87 Q1011.79 1466.51 1015.22 1462.78 Q1018.67 1459.03 1024.5 1459.03 Q1029.73 1459.03 1032.77 1462.41 Q1035.82 1465.77 1035.82 1471.55 M1031.56 1470.3 Q1031.52 1466.81 1029.6 1464.72 Q1027.7 1462.64 1024.55 1462.64 Q1020.98 1462.64 1018.83 1464.65 Q1016.7 1466.67 1016.38 1470.33 L1031.56 1470.3 Z\" fill=\"#000000\" fill-rule=\"nonzero\" fill-opacity=\"1\" /><path clip-path=\"url(#clip670)\" d=\"M1054.59 1472.55 Q1049.43 1472.55 1047.44 1473.73 Q1045.45 1474.91 1045.45 1477.76 Q1045.45 1480.02 1046.93 1481.37 Q1048.44 1482.69 1051.01 1482.69 Q1054.55 1482.69 1056.68 1480.19 Q1058.83 1477.66 1058.83 1473.5 L1058.83 1472.55 L1054.59 1472.55 M1063.09 1470.79 L1063.09 1485.58 L1058.83 1485.58 L1058.83 1481.64 Q1057.37 1484.01 1055.2 1485.14 Q1053.02 1486.25 1049.87 1486.25 Q1045.89 1486.25 1043.53 1484.03 Q1041.19 1481.78 1041.19 1478.03 Q1041.19 1473.66 1044.11 1471.44 Q1047.05 1469.21 1052.86 1469.21 L1058.83 1469.21 L1058.83 1468.8 Q1058.83 1465.86 1056.89 1464.26 Q1054.97 1462.64 1051.47 1462.64 Q1049.25 1462.64 1047.14 1463.17 Q1045.03 1463.7 1043.09 1464.77 L1043.09 1460.83 Q1045.43 1459.93 1047.63 1459.49 Q1049.83 1459.03 1051.91 1459.03 Q1057.53 1459.03 1060.31 1461.95 Q1063.09 1464.86 1063.09 1470.79 Z\" fill=\"#000000\" fill-rule=\"nonzero\" fill-opacity=\"1\" /><path clip-path=\"url(#clip670)\" d=\"M1086.89 1463.64 Q1086.17 1463.22 1085.31 1463.03 Q1084.48 1462.83 1083.46 1462.83 Q1079.85 1462.83 1077.91 1465.19 Q1075.98 1467.52 1075.98 1471.92 L1075.98 1485.58 L1071.7 1485.58 L1071.7 1459.65 L1075.98 1459.65 L1075.98 1463.68 Q1077.33 1461.32 1079.48 1460.19 Q1081.63 1459.03 1084.71 1459.03 Q1085.15 1459.03 1085.68 1459.1 Q1086.22 1459.14 1086.86 1459.26 L1086.89 1463.64 Z\" fill=\"#000000\" fill-rule=\"nonzero\" fill-opacity=\"1\" /><path clip-path=\"url(#clip670)\" d=\"M1117.03 1469.17 Q1113.69 1469.17 1111.77 1470.95 Q1109.87 1472.73 1109.87 1475.86 Q1109.87 1478.98 1111.77 1480.77 Q1113.69 1482.55 1117.03 1482.55 Q1120.36 1482.55 1122.28 1480.77 Q1124.2 1478.96 1124.2 1475.86 Q1124.2 1472.73 1122.28 1470.95 Q1120.38 1469.17 1117.03 1469.17 M1112.35 1467.18 Q1109.34 1466.44 1107.65 1464.38 Q1105.98 1462.32 1105.98 1459.35 Q1105.98 1455.21 1108.92 1452.8 Q1111.89 1450.39 1117.03 1450.39 Q1122.19 1450.39 1125.13 1452.8 Q1128.07 1455.21 1128.07 1459.35 Q1128.07 1462.32 1126.38 1464.38 Q1124.71 1466.44 1121.72 1467.18 Q1125.1 1467.96 1126.98 1470.26 Q1128.88 1472.55 1128.88 1475.86 Q1128.88 1480.88 1125.8 1483.57 Q1122.74 1486.25 1117.03 1486.25 Q1111.31 1486.25 1108.23 1483.57 Q1105.17 1480.88 1105.17 1475.86 Q1105.17 1472.55 1107.07 1470.26 Q1108.97 1467.96 1112.35 1467.18 M1110.64 1459.79 Q1110.64 1462.48 1112.3 1463.98 Q1113.99 1465.49 1117.03 1465.49 Q1120.03 1465.49 1121.72 1463.98 Q1123.44 1462.48 1123.44 1459.79 Q1123.44 1457.11 1121.72 1455.6 Q1120.03 1454.1 1117.03 1454.1 Q1113.99 1454.1 1112.3 1455.6 Q1110.64 1457.11 1110.64 1459.79 Z\" fill=\"#000000\" fill-rule=\"nonzero\" fill-opacity=\"1\" /><path clip-path=\"url(#clip670)\" d=\"M1443.7 1451.02 L1448.37 1451.02 L1448.37 1465.63 L1463.88 1451.02 L1469.9 1451.02 L1452.75 1467.13 L1471.13 1485.58 L1464.97 1485.58 L1448.37 1468.94 L1448.37 1485.58 L1443.7 1485.58 L1443.7 1451.02 Z\" fill=\"#000000\" fill-rule=\"nonzero\" fill-opacity=\"1\" /><path clip-path=\"url(#clip670)\" d=\"M1494.42 1471.55 L1494.42 1473.64 L1474.83 1473.64 Q1475.11 1478.03 1477.47 1480.35 Q1479.86 1482.64 1484.09 1482.64 Q1486.55 1482.64 1488.84 1482.04 Q1491.15 1481.44 1493.42 1480.23 L1493.42 1484.26 Q1491.13 1485.23 1488.72 1485.74 Q1486.31 1486.25 1483.84 1486.25 Q1477.63 1486.25 1474 1482.64 Q1470.39 1479.03 1470.39 1472.87 Q1470.39 1466.51 1473.81 1462.78 Q1477.26 1459.03 1483.1 1459.03 Q1488.33 1459.03 1491.36 1462.41 Q1494.42 1465.77 1494.42 1471.55 M1490.16 1470.3 Q1490.11 1466.81 1488.19 1464.72 Q1486.29 1462.64 1483.14 1462.64 Q1479.58 1462.64 1477.43 1464.65 Q1475.3 1466.67 1474.97 1470.33 L1490.16 1470.3 Z\" fill=\"#000000\" fill-rule=\"nonzero\" fill-opacity=\"1\" /><path clip-path=\"url(#clip670)\" d=\"M1516.43 1463.64 Q1515.71 1463.22 1514.86 1463.03 Q1514.02 1462.83 1513 1462.83 Q1509.39 1462.83 1507.45 1465.19 Q1505.53 1467.52 1505.53 1471.92 L1505.53 1485.58 L1501.24 1485.58 L1501.24 1459.65 L1505.53 1459.65 L1505.53 1463.68 Q1506.87 1461.32 1509.02 1460.19 Q1511.18 1459.03 1514.25 1459.03 Q1514.69 1459.03 1515.23 1459.1 Q1515.76 1459.14 1516.41 1459.26 L1516.43 1463.64 Z\" fill=\"#000000\" fill-rule=\"nonzero\" fill-opacity=\"1\" /><path clip-path=\"url(#clip670)\" d=\"M1541.62 1469.93 L1541.62 1485.58 L1537.36 1485.58 L1537.36 1470.07 Q1537.36 1466.39 1535.92 1464.56 Q1534.49 1462.73 1531.62 1462.73 Q1528.17 1462.73 1526.18 1464.93 Q1524.18 1467.13 1524.18 1470.93 L1524.18 1485.58 L1519.9 1485.58 L1519.9 1459.65 L1524.18 1459.65 L1524.18 1463.68 Q1525.71 1461.34 1527.77 1460.19 Q1529.86 1459.03 1532.56 1459.03 Q1537.03 1459.03 1539.32 1461.81 Q1541.62 1464.56 1541.62 1469.93 Z\" fill=\"#000000\" fill-rule=\"nonzero\" fill-opacity=\"1\" /><path clip-path=\"url(#clip670)\" d=\"M1572.29 1471.55 L1572.29 1473.64 L1552.7 1473.64 Q1552.98 1478.03 1555.34 1480.35 Q1557.73 1482.64 1561.96 1482.64 Q1564.42 1482.64 1566.71 1482.04 Q1569.02 1481.44 1571.29 1480.23 L1571.29 1484.26 Q1569 1485.23 1566.59 1485.74 Q1564.18 1486.25 1561.71 1486.25 Q1555.5 1486.25 1551.87 1482.64 Q1548.26 1479.03 1548.26 1472.87 Q1548.26 1466.51 1551.68 1462.78 Q1555.13 1459.03 1560.97 1459.03 Q1566.2 1459.03 1569.23 1462.41 Q1572.29 1465.77 1572.29 1471.55 M1568.03 1470.3 Q1567.98 1466.81 1566.06 1464.72 Q1564.16 1462.64 1561.01 1462.64 Q1557.45 1462.64 1555.3 1464.65 Q1553.17 1466.67 1552.84 1470.33 L1568.03 1470.3 Z\" fill=\"#000000\" fill-rule=\"nonzero\" fill-opacity=\"1\" /><path clip-path=\"url(#clip670)\" d=\"M1579.28 1449.56 L1583.54 1449.56 L1583.54 1485.58 L1579.28 1485.58 L1579.28 1449.56 Z\" fill=\"#000000\" fill-rule=\"nonzero\" fill-opacity=\"1\" /><path clip-path=\"url(#clip670)\" d=\"M1612.15 1481.64 L1628.47 1481.64 L1628.47 1485.58 L1606.52 1485.58 L1606.52 1481.64 Q1609.18 1478.89 1613.77 1474.26 Q1618.37 1469.61 1619.55 1468.27 Q1621.8 1465.74 1622.68 1464.01 Q1623.58 1462.25 1623.58 1460.56 Q1623.58 1457.8 1621.64 1456.07 Q1619.72 1454.33 1616.61 1454.33 Q1614.42 1454.33 1611.96 1455.09 Q1609.53 1455.86 1606.75 1457.41 L1606.75 1452.69 Q1609.58 1451.55 1612.03 1450.97 Q1614.49 1450.39 1616.52 1450.39 Q1621.89 1450.39 1625.09 1453.08 Q1628.28 1455.77 1628.28 1460.26 Q1628.28 1462.39 1627.47 1464.31 Q1626.68 1466.2 1624.58 1468.8 Q1624 1469.47 1620.9 1472.69 Q1617.8 1475.88 1612.15 1481.64 Z\" fill=\"#000000\" fill-rule=\"nonzero\" fill-opacity=\"1\" /><path clip-path=\"url(#clip670)\" d=\"M1942.49 1451.02 L1947.17 1451.02 L1947.17 1465.63 L1962.67 1451.02 L1968.69 1451.02 L1951.54 1467.13 L1969.92 1485.58 L1963.76 1485.58 L1947.17 1468.94 L1947.17 1485.58 L1942.49 1485.58 L1942.49 1451.02 Z\" fill=\"#000000\" fill-rule=\"nonzero\" fill-opacity=\"1\" /><path clip-path=\"url(#clip670)\" d=\"M1993.21 1471.55 L1993.21 1473.64 L1973.62 1473.64 Q1973.9 1478.03 1976.26 1480.35 Q1978.65 1482.64 1982.88 1482.64 Q1985.34 1482.64 1987.63 1482.04 Q1989.94 1481.44 1992.21 1480.23 L1992.21 1484.26 Q1989.92 1485.23 1987.51 1485.74 Q1985.11 1486.25 1982.63 1486.25 Q1976.42 1486.25 1972.79 1482.64 Q1969.18 1479.03 1969.18 1472.87 Q1969.18 1466.51 1972.61 1462.78 Q1976.05 1459.03 1981.89 1459.03 Q1987.12 1459.03 1990.15 1462.41 Q1993.21 1465.77 1993.21 1471.55 M1988.95 1470.3 Q1988.9 1466.81 1986.98 1464.72 Q1985.08 1462.64 1981.93 1462.64 Q1978.37 1462.64 1976.22 1464.65 Q1974.09 1466.67 1973.76 1470.33 L1988.95 1470.3 Z\" fill=\"#000000\" fill-rule=\"nonzero\" fill-opacity=\"1\" /><path clip-path=\"url(#clip670)\" d=\"M2015.22 1463.64 Q2014.5 1463.22 2013.65 1463.03 Q2012.81 1462.83 2011.8 1462.83 Q2008.18 1462.83 2006.24 1465.19 Q2004.32 1467.52 2004.32 1471.92 L2004.32 1485.58 L2000.04 1485.58 L2000.04 1459.65 L2004.32 1459.65 L2004.32 1463.68 Q2005.66 1461.32 2007.81 1460.19 Q2009.97 1459.03 2013.04 1459.03 Q2013.48 1459.03 2014.02 1459.1 Q2014.55 1459.14 2015.2 1459.26 L2015.22 1463.64 Z\" fill=\"#000000\" fill-rule=\"nonzero\" fill-opacity=\"1\" /><path clip-path=\"url(#clip670)\" d=\"M2040.41 1469.93 L2040.41 1485.58 L2036.15 1485.58 L2036.15 1470.07 Q2036.15 1466.39 2034.71 1464.56 Q2033.28 1462.73 2030.41 1462.73 Q2026.96 1462.73 2024.97 1464.93 Q2022.98 1467.13 2022.98 1470.93 L2022.98 1485.58 L2018.69 1485.58 L2018.69 1459.65 L2022.98 1459.65 L2022.98 1463.68 Q2024.5 1461.34 2026.56 1460.19 Q2028.65 1459.03 2031.36 1459.03 Q2035.82 1459.03 2038.11 1461.81 Q2040.41 1464.56 2040.41 1469.93 Z\" fill=\"#000000\" fill-rule=\"nonzero\" fill-opacity=\"1\" /><path clip-path=\"url(#clip670)\" d=\"M2071.08 1471.55 L2071.08 1473.64 L2051.49 1473.64 Q2051.77 1478.03 2054.13 1480.35 Q2056.52 1482.64 2060.75 1482.64 Q2063.21 1482.64 2065.5 1482.04 Q2067.81 1481.44 2070.08 1480.23 L2070.08 1484.26 Q2067.79 1485.23 2065.38 1485.74 Q2062.98 1486.25 2060.5 1486.25 Q2054.29 1486.25 2050.66 1482.64 Q2047.05 1479.03 2047.05 1472.87 Q2047.05 1466.51 2050.48 1462.78 Q2053.92 1459.03 2059.76 1459.03 Q2064.99 1459.03 2068.02 1462.41 Q2071.08 1465.77 2071.08 1471.55 M2066.82 1470.3 Q2066.77 1466.81 2064.85 1464.72 Q2062.95 1462.64 2059.8 1462.64 Q2056.24 1462.64 2054.09 1464.65 Q2051.96 1466.67 2051.63 1470.33 L2066.82 1470.3 Z\" fill=\"#000000\" fill-rule=\"nonzero\" fill-opacity=\"1\" /><path clip-path=\"url(#clip670)\" d=\"M2078.07 1449.56 L2082.33 1449.56 L2082.33 1485.58 L2078.07 1485.58 L2078.07 1449.56 Z\" fill=\"#000000\" fill-rule=\"nonzero\" fill-opacity=\"1\" /><path clip-path=\"url(#clip670)\" d=\"M2116.91 1469.17 Q2113.58 1469.17 2111.66 1470.95 Q2109.76 1472.73 2109.76 1475.86 Q2109.76 1478.98 2111.66 1480.77 Q2113.58 1482.55 2116.91 1482.55 Q2120.24 1482.55 2122.16 1480.77 Q2124.09 1478.96 2124.09 1475.86 Q2124.09 1472.73 2122.16 1470.95 Q2120.27 1469.17 2116.91 1469.17 M2112.23 1467.18 Q2109.23 1466.44 2107.54 1464.38 Q2105.87 1462.32 2105.87 1459.35 Q2105.87 1455.21 2108.81 1452.8 Q2111.77 1450.39 2116.91 1450.39 Q2122.07 1450.39 2125.01 1452.8 Q2127.95 1455.21 2127.95 1459.35 Q2127.95 1462.32 2126.26 1464.38 Q2124.6 1466.44 2121.61 1467.18 Q2124.99 1467.96 2126.86 1470.26 Q2128.76 1472.55 2128.76 1475.86 Q2128.76 1480.88 2125.68 1483.57 Q2122.63 1486.25 2116.91 1486.25 Q2111.19 1486.25 2108.11 1483.57 Q2105.06 1480.88 2105.06 1475.86 Q2105.06 1472.55 2106.96 1470.26 Q2108.85 1467.96 2112.23 1467.18 M2110.52 1459.79 Q2110.52 1462.48 2112.19 1463.98 Q2113.88 1465.49 2116.91 1465.49 Q2119.92 1465.49 2121.61 1463.98 Q2123.32 1462.48 2123.32 1459.79 Q2123.32 1457.11 2121.61 1455.6 Q2119.92 1454.1 2116.91 1454.1 Q2113.88 1454.1 2112.19 1455.6 Q2110.52 1457.11 2110.52 1459.79 Z\" fill=\"#000000\" fill-rule=\"nonzero\" fill-opacity=\"1\" /><path clip-path=\"url(#clip670)\" d=\"M1033.72 1520.52 L1043.3 1520.52 L1055.43 1552.86 L1067.62 1520.52 L1077.2 1520.52 L1077.2 1568.04 L1070.93 1568.04 L1070.93 1526.32 L1058.67 1558.91 L1052.21 1558.91 L1039.96 1526.32 L1039.96 1568.04 L1033.72 1568.04 L1033.72 1520.52 Z\" fill=\"#000000\" fill-rule=\"nonzero\" fill-opacity=\"1\" /><path clip-path=\"url(#clip670)\" d=\"M1103.52 1536.5 Q1098.81 1536.5 1096.07 1540.19 Q1093.33 1543.85 1093.33 1550.25 Q1093.33 1556.65 1096.04 1560.34 Q1098.78 1564 1103.52 1564 Q1108.2 1564 1110.94 1560.31 Q1113.67 1556.62 1113.67 1550.25 Q1113.67 1543.92 1110.94 1540.23 Q1108.2 1536.5 1103.52 1536.5 M1103.52 1531.54 Q1111.16 1531.54 1115.52 1536.5 Q1119.88 1541.47 1119.88 1550.25 Q1119.88 1559 1115.52 1564 Q1111.16 1568.97 1103.52 1568.97 Q1095.85 1568.97 1091.49 1564 Q1087.16 1559 1087.16 1550.25 Q1087.16 1541.47 1091.49 1536.5 Q1095.85 1531.54 1103.52 1531.54 Z\" fill=\"#000000\" fill-rule=\"nonzero\" fill-opacity=\"1\" /><path clip-path=\"url(#clip670)\" d=\"M1153.05 1537.81 L1153.05 1518.52 L1158.9 1518.52 L1158.9 1568.04 L1153.05 1568.04 L1153.05 1562.7 Q1151.2 1565.88 1148.37 1567.44 Q1145.57 1568.97 1141.62 1568.97 Q1135.16 1568.97 1131.08 1563.81 Q1127.04 1558.65 1127.04 1550.25 Q1127.04 1541.85 1131.08 1536.69 Q1135.16 1531.54 1141.62 1531.54 Q1145.57 1531.54 1148.37 1533.1 Q1151.2 1534.62 1153.05 1537.81 M1133.09 1550.25 Q1133.09 1556.71 1135.73 1560.4 Q1138.4 1564.07 1143.05 1564.07 Q1147.7 1564.07 1150.37 1560.4 Q1153.05 1556.71 1153.05 1550.25 Q1153.05 1543.79 1150.37 1540.13 Q1147.7 1536.44 1143.05 1536.44 Q1138.4 1536.44 1135.73 1540.13 Q1133.09 1543.79 1133.09 1550.25 Z\" fill=\"#000000\" fill-rule=\"nonzero\" fill-opacity=\"1\" /><path clip-path=\"url(#clip670)\" d=\"M1201.46 1548.76 L1201.46 1551.62 L1174.53 1551.62 Q1174.91 1557.67 1178.16 1560.85 Q1181.44 1564 1187.26 1564 Q1190.63 1564 1193.79 1563.17 Q1196.97 1562.35 1200.09 1560.69 L1200.09 1566.23 Q1196.94 1567.57 1193.63 1568.27 Q1190.32 1568.97 1186.91 1568.97 Q1178.38 1568.97 1173.38 1564 Q1168.42 1559.04 1168.42 1550.57 Q1168.42 1541.82 1173.13 1536.69 Q1177.87 1531.54 1185.89 1531.54 Q1193.09 1531.54 1197.25 1536.18 Q1201.46 1540.8 1201.46 1548.76 M1195.6 1547.04 Q1195.54 1542.23 1192.89 1539.37 Q1190.28 1536.5 1185.96 1536.5 Q1181.05 1536.5 1178.09 1539.27 Q1175.17 1542.04 1174.72 1547.07 L1195.6 1547.04 Z\" fill=\"#000000\" fill-rule=\"nonzero\" fill-opacity=\"1\" /><path clip-path=\"url(#clip670)\" d=\"M1211.07 1518.52 L1216.92 1518.52 L1216.92 1568.04 L1211.07 1568.04 L1211.07 1518.52 Z\" fill=\"#000000\" fill-rule=\"nonzero\" fill-opacity=\"1\" /><path clip-path=\"url(#clip670)\" d=\"M1266.1 1550.12 Q1259 1550.12 1256.26 1551.75 Q1253.53 1553.37 1253.53 1557.29 Q1253.53 1560.4 1255.56 1562.25 Q1257.63 1564.07 1261.17 1564.07 Q1266.04 1564.07 1268.96 1560.63 Q1271.92 1557.16 1271.92 1551.43 L1271.92 1550.12 L1266.1 1550.12 M1277.78 1547.71 L1277.78 1568.04 L1271.92 1568.04 L1271.92 1562.63 Q1269.92 1565.88 1266.93 1567.44 Q1263.94 1568.97 1259.61 1568.97 Q1254.13 1568.97 1250.89 1565.91 Q1247.67 1562.82 1247.67 1557.67 Q1247.67 1551.65 1251.68 1548.6 Q1255.72 1545.54 1263.71 1545.54 L1271.92 1545.54 L1271.92 1544.97 Q1271.92 1540.93 1269.25 1538.73 Q1266.61 1536.5 1261.8 1536.5 Q1258.75 1536.5 1255.85 1537.23 Q1252.95 1537.97 1250.28 1539.43 L1250.28 1534.02 Q1253.5 1532.78 1256.52 1532.17 Q1259.54 1531.54 1262.41 1531.54 Q1270.14 1531.54 1273.96 1535.55 Q1277.78 1539.56 1277.78 1547.71 Z\" fill=\"#000000\" fill-rule=\"nonzero\" fill-opacity=\"1\" /><path clip-path=\"url(#clip670)\" d=\"M1319.48 1546.53 L1319.48 1568.04 L1313.62 1568.04 L1313.62 1546.72 Q1313.62 1541.66 1311.65 1539.14 Q1309.67 1536.63 1305.73 1536.63 Q1300.98 1536.63 1298.25 1539.65 Q1295.51 1542.68 1295.51 1547.9 L1295.51 1568.04 L1289.62 1568.04 L1289.62 1532.4 L1295.51 1532.4 L1295.51 1537.93 Q1297.61 1534.72 1300.44 1533.13 Q1303.31 1531.54 1307.03 1531.54 Q1313.17 1531.54 1316.33 1535.36 Q1319.48 1539.14 1319.48 1546.53 Z\" fill=\"#000000\" fill-rule=\"nonzero\" fill-opacity=\"1\" /><path clip-path=\"url(#clip670)\" d=\"M1354.62 1537.81 L1354.62 1518.52 L1360.47 1518.52 L1360.47 1568.04 L1354.62 1568.04 L1354.62 1562.7 Q1352.77 1565.88 1349.94 1567.44 Q1347.14 1568.97 1343.19 1568.97 Q1336.73 1568.97 1332.65 1563.81 Q1328.61 1558.65 1328.61 1550.25 Q1328.61 1541.85 1332.65 1536.69 Q1336.73 1531.54 1343.19 1531.54 Q1347.14 1531.54 1349.94 1533.1 Q1352.77 1534.62 1354.62 1537.81 M1334.66 1550.25 Q1334.66 1556.71 1337.3 1560.4 Q1339.97 1564.07 1344.62 1564.07 Q1349.27 1564.07 1351.94 1560.4 Q1354.62 1556.71 1354.62 1550.25 Q1354.62 1543.79 1351.94 1540.13 Q1349.27 1536.44 1344.62 1536.44 Q1339.97 1536.44 1337.3 1540.13 Q1334.66 1543.79 1334.66 1550.25 Z\" fill=\"#000000\" fill-rule=\"nonzero\" fill-opacity=\"1\" /><path clip-path=\"url(#clip670)\" d=\"M1399.94 1525.81 L1399.94 1562.76 L1407.71 1562.76 Q1417.54 1562.76 1422.09 1558.3 Q1426.67 1553.85 1426.67 1544.24 Q1426.67 1534.69 1422.09 1530.26 Q1417.54 1525.81 1407.71 1525.81 L1399.94 1525.81 M1393.51 1520.52 L1406.72 1520.52 Q1420.53 1520.52 1426.99 1526.28 Q1433.45 1532.01 1433.45 1544.24 Q1433.45 1556.52 1426.96 1562.28 Q1420.47 1568.04 1406.72 1568.04 L1393.51 1568.04 L1393.51 1520.52 Z\" fill=\"#000000\" fill-rule=\"nonzero\" fill-opacity=\"1\" /><path clip-path=\"url(#clip670)\" d=\"M1443.45 1532.4 L1449.31 1532.4 L1449.31 1568.04 L1443.45 1568.04 L1443.45 1532.4 M1443.45 1518.52 L1449.31 1518.52 L1449.31 1525.93 L1443.45 1525.93 L1443.45 1518.52 Z\" fill=\"#000000\" fill-rule=\"nonzero\" fill-opacity=\"1\" /><path clip-path=\"url(#clip670)\" d=\"M1485.02 1549.81 Q1485.02 1543.44 1482.37 1539.94 Q1479.76 1536.44 1475.02 1536.44 Q1470.31 1536.44 1467.67 1539.94 Q1465.06 1543.44 1465.06 1549.81 Q1465.06 1556.14 1467.67 1559.64 Q1470.31 1563.14 1475.02 1563.14 Q1479.76 1563.14 1482.37 1559.64 Q1485.02 1556.14 1485.02 1549.81 M1490.87 1563.62 Q1490.87 1572.72 1486.83 1577.15 Q1482.79 1581.6 1474.45 1581.6 Q1471.36 1581.6 1468.62 1581.13 Q1465.89 1580.68 1463.31 1579.72 L1463.31 1574.03 Q1465.89 1575.43 1468.4 1576.1 Q1470.92 1576.76 1473.53 1576.76 Q1479.29 1576.76 1482.15 1573.74 Q1485.02 1570.75 1485.02 1564.67 L1485.02 1561.77 Q1483.2 1564.92 1480.37 1566.48 Q1477.54 1568.04 1473.59 1568.04 Q1467.03 1568.04 1463.02 1563.05 Q1459.01 1558.05 1459.01 1549.81 Q1459.01 1541.53 1463.02 1536.53 Q1467.03 1531.54 1473.59 1531.54 Q1477.54 1531.54 1480.37 1533.1 Q1483.2 1534.66 1485.02 1537.81 L1485.02 1532.4 L1490.87 1532.4 L1490.87 1563.62 Z\" fill=\"#000000\" fill-rule=\"nonzero\" fill-opacity=\"1\" /><path clip-path=\"url(#clip670)\" d=\"M1502.94 1532.4 L1508.79 1532.4 L1508.79 1568.04 L1502.94 1568.04 L1502.94 1532.4 M1502.94 1518.52 L1508.79 1518.52 L1508.79 1525.93 L1502.94 1525.93 L1502.94 1518.52 Z\" fill=\"#000000\" fill-rule=\"nonzero\" fill-opacity=\"1\" /><path clip-path=\"url(#clip670)\" d=\"M1526.84 1522.27 L1526.84 1532.4 L1538.9 1532.4 L1538.9 1536.95 L1526.84 1536.95 L1526.84 1556.3 Q1526.84 1560.66 1528.02 1561.9 Q1529.23 1563.14 1532.89 1563.14 L1538.9 1563.14 L1538.9 1568.04 L1532.89 1568.04 Q1526.11 1568.04 1523.53 1565.53 Q1520.95 1562.98 1520.95 1556.3 L1520.95 1536.95 L1516.65 1536.95 L1516.65 1532.4 L1520.95 1532.4 L1520.95 1522.27 L1526.84 1522.27 Z\" fill=\"#000000\" fill-rule=\"nonzero\" fill-opacity=\"1\" /><polyline clip-path=\"url(#clip672)\" style=\"stroke:#000000; stroke-linecap:round; stroke-linejoin:round; stroke-width:2; stroke-opacity:0.1; fill:none\" points=\"219.866,1423.18 2352.76,1423.18 \"/>\n",
       "<polyline clip-path=\"url(#clip672)\" style=\"stroke:#000000; stroke-linecap:round; stroke-linejoin:round; stroke-width:2; stroke-opacity:0.1; fill:none\" points=\"219.866,1154.32 2352.76,1154.32 \"/>\n",
       "<polyline clip-path=\"url(#clip672)\" style=\"stroke:#000000; stroke-linecap:round; stroke-linejoin:round; stroke-width:2; stroke-opacity:0.1; fill:none\" points=\"219.866,885.468 2352.76,885.468 \"/>\n",
       "<polyline clip-path=\"url(#clip672)\" style=\"stroke:#000000; stroke-linecap:round; stroke-linejoin:round; stroke-width:2; stroke-opacity:0.1; fill:none\" points=\"219.866,616.612 2352.76,616.612 \"/>\n",
       "<polyline clip-path=\"url(#clip672)\" style=\"stroke:#000000; stroke-linecap:round; stroke-linejoin:round; stroke-width:2; stroke-opacity:0.1; fill:none\" points=\"219.866,347.756 2352.76,347.756 \"/>\n",
       "<polyline clip-path=\"url(#clip670)\" style=\"stroke:#000000; stroke-linecap:round; stroke-linejoin:round; stroke-width:4; stroke-opacity:1; fill:none\" points=\"219.866,1423.18 219.866,123.472 \"/>\n",
       "<polyline clip-path=\"url(#clip670)\" style=\"stroke:#000000; stroke-linecap:round; stroke-linejoin:round; stroke-width:4; stroke-opacity:1; fill:none\" points=\"219.866,1423.18 238.764,1423.18 \"/>\n",
       "<polyline clip-path=\"url(#clip670)\" style=\"stroke:#000000; stroke-linecap:round; stroke-linejoin:round; stroke-width:4; stroke-opacity:1; fill:none\" points=\"219.866,1154.32 238.764,1154.32 \"/>\n",
       "<polyline clip-path=\"url(#clip670)\" style=\"stroke:#000000; stroke-linecap:round; stroke-linejoin:round; stroke-width:4; stroke-opacity:1; fill:none\" points=\"219.866,885.468 238.764,885.468 \"/>\n",
       "<polyline clip-path=\"url(#clip670)\" style=\"stroke:#000000; stroke-linecap:round; stroke-linejoin:round; stroke-width:4; stroke-opacity:1; fill:none\" points=\"219.866,616.612 238.764,616.612 \"/>\n",
       "<polyline clip-path=\"url(#clip670)\" style=\"stroke:#000000; stroke-linecap:round; stroke-linejoin:round; stroke-width:4; stroke-opacity:1; fill:none\" points=\"219.866,347.756 238.764,347.756 \"/>\n",
       "<path clip-path=\"url(#clip670)\" d=\"M126.691 1408.98 Q123.08 1408.98 121.251 1412.54 Q119.445 1416.08 119.445 1423.21 Q119.445 1430.32 121.251 1433.89 Q123.08 1437.43 126.691 1437.43 Q130.325 1437.43 132.13 1433.89 Q133.959 1430.32 133.959 1423.21 Q133.959 1416.08 132.13 1412.54 Q130.325 1408.98 126.691 1408.98 M126.691 1405.27 Q132.501 1405.27 135.556 1409.88 Q138.635 1414.46 138.635 1423.21 Q138.635 1431.94 135.556 1436.55 Q132.501 1441.13 126.691 1441.13 Q120.88 1441.13 117.802 1436.55 Q114.746 1431.94 114.746 1423.21 Q114.746 1414.46 117.802 1409.88 Q120.88 1405.27 126.691 1405.27 Z\" fill=\"#000000\" fill-rule=\"nonzero\" fill-opacity=\"1\" /><path clip-path=\"url(#clip670)\" d=\"M146.853 1434.58 L151.737 1434.58 L151.737 1440.46 L146.853 1440.46 L146.853 1434.58 Z\" fill=\"#000000\" fill-rule=\"nonzero\" fill-opacity=\"1\" /><path clip-path=\"url(#clip670)\" d=\"M171.922 1408.98 Q168.311 1408.98 166.482 1412.54 Q164.677 1416.08 164.677 1423.21 Q164.677 1430.32 166.482 1433.89 Q168.311 1437.43 171.922 1437.43 Q175.556 1437.43 177.362 1433.89 Q179.19 1430.32 179.19 1423.21 Q179.19 1416.08 177.362 1412.54 Q175.556 1408.98 171.922 1408.98 M171.922 1405.27 Q177.732 1405.27 180.788 1409.88 Q183.866 1414.46 183.866 1423.21 Q183.866 1431.94 180.788 1436.55 Q177.732 1441.13 171.922 1441.13 Q166.112 1441.13 163.033 1436.55 Q159.978 1431.94 159.978 1423.21 Q159.978 1414.46 163.033 1409.88 Q166.112 1405.27 171.922 1405.27 Z\" fill=\"#000000\" fill-rule=\"nonzero\" fill-opacity=\"1\" /><path clip-path=\"url(#clip670)\" d=\"M128.288 1140.12 Q124.677 1140.12 122.848 1143.69 Q121.043 1147.23 121.043 1154.36 Q121.043 1161.47 122.848 1165.03 Q124.677 1168.57 128.288 1168.57 Q131.922 1168.57 133.728 1165.03 Q135.556 1161.47 135.556 1154.36 Q135.556 1147.23 133.728 1143.69 Q131.922 1140.12 128.288 1140.12 M128.288 1136.42 Q134.098 1136.42 137.154 1141.03 Q140.232 1145.61 140.232 1154.36 Q140.232 1163.09 137.154 1167.69 Q134.098 1172.28 128.288 1172.28 Q122.478 1172.28 119.399 1167.69 Q116.343 1163.09 116.343 1154.36 Q116.343 1145.61 119.399 1141.03 Q122.478 1136.42 128.288 1136.42 Z\" fill=\"#000000\" fill-rule=\"nonzero\" fill-opacity=\"1\" /><path clip-path=\"url(#clip670)\" d=\"M148.45 1165.72 L153.334 1165.72 L153.334 1171.6 L148.45 1171.6 L148.45 1165.72 Z\" fill=\"#000000\" fill-rule=\"nonzero\" fill-opacity=\"1\" /><path clip-path=\"url(#clip670)\" d=\"M167.547 1167.67 L183.866 1167.67 L183.866 1171.6 L161.922 1171.6 L161.922 1167.67 Q164.584 1164.91 169.167 1160.28 Q173.774 1155.63 174.954 1154.29 Q177.2 1151.77 178.079 1150.03 Q178.982 1148.27 178.982 1146.58 Q178.982 1143.83 177.038 1142.09 Q175.116 1140.35 172.014 1140.35 Q169.815 1140.35 167.362 1141.12 Q164.931 1141.88 162.153 1143.43 L162.153 1138.71 Q164.977 1137.58 167.431 1137 Q169.885 1136.42 171.922 1136.42 Q177.292 1136.42 180.487 1139.1 Q183.681 1141.79 183.681 1146.28 Q183.681 1148.41 182.871 1150.33 Q182.084 1152.23 179.977 1154.82 Q179.399 1155.49 176.297 1158.71 Q173.195 1161.9 167.547 1167.67 Z\" fill=\"#000000\" fill-rule=\"nonzero\" fill-opacity=\"1\" /><path clip-path=\"url(#clip670)\" d=\"M126.205 871.267 Q122.593 871.267 120.765 874.831 Q118.959 878.373 118.959 885.503 Q118.959 892.609 120.765 896.174 Q122.593 899.716 126.205 899.716 Q129.839 899.716 131.644 896.174 Q133.473 892.609 133.473 885.503 Q133.473 878.373 131.644 874.831 Q129.839 871.267 126.205 871.267 M126.205 867.563 Q132.015 867.563 135.07 872.169 Q138.149 876.753 138.149 885.503 Q138.149 894.23 135.07 898.836 Q132.015 903.419 126.205 903.419 Q120.394 903.419 117.316 898.836 Q114.26 894.23 114.26 885.503 Q114.26 876.753 117.316 872.169 Q120.394 867.563 126.205 867.563 Z\" fill=\"#000000\" fill-rule=\"nonzero\" fill-opacity=\"1\" /><path clip-path=\"url(#clip670)\" d=\"M146.366 896.868 L151.251 896.868 L151.251 902.748 L146.366 902.748 L146.366 896.868 Z\" fill=\"#000000\" fill-rule=\"nonzero\" fill-opacity=\"1\" /><path clip-path=\"url(#clip670)\" d=\"M174.283 872.262 L162.477 890.711 L174.283 890.711 L174.283 872.262 M173.056 868.188 L178.936 868.188 L178.936 890.711 L183.866 890.711 L183.866 894.6 L178.936 894.6 L178.936 902.748 L174.283 902.748 L174.283 894.6 L158.681 894.6 L158.681 890.086 L173.056 868.188 Z\" fill=\"#000000\" fill-rule=\"nonzero\" fill-opacity=\"1\" /><path clip-path=\"url(#clip670)\" d=\"M126.529 602.411 Q122.918 602.411 121.089 605.976 Q119.283 609.517 119.283 616.647 Q119.283 623.753 121.089 627.318 Q122.918 630.86 126.529 630.86 Q130.163 630.86 131.968 627.318 Q133.797 623.753 133.797 616.647 Q133.797 609.517 131.968 605.976 Q130.163 602.411 126.529 602.411 M126.529 598.707 Q132.339 598.707 135.394 603.314 Q138.473 607.897 138.473 616.647 Q138.473 625.374 135.394 629.98 Q132.339 634.563 126.529 634.563 Q120.718 634.563 117.64 629.98 Q114.584 625.374 114.584 616.647 Q114.584 607.897 117.64 603.314 Q120.718 598.707 126.529 598.707 Z\" fill=\"#000000\" fill-rule=\"nonzero\" fill-opacity=\"1\" /><path clip-path=\"url(#clip670)\" d=\"M146.691 628.012 L151.575 628.012 L151.575 633.892 L146.691 633.892 L146.691 628.012 Z\" fill=\"#000000\" fill-rule=\"nonzero\" fill-opacity=\"1\" /><path clip-path=\"url(#clip670)\" d=\"M172.339 614.749 Q169.19 614.749 167.339 616.901 Q165.51 619.054 165.51 622.804 Q165.51 626.531 167.339 628.707 Q169.19 630.86 172.339 630.86 Q175.487 630.86 177.315 628.707 Q179.167 626.531 179.167 622.804 Q179.167 619.054 177.315 616.901 Q175.487 614.749 172.339 614.749 M181.621 600.096 L181.621 604.355 Q179.862 603.522 178.056 603.082 Q176.274 602.642 174.514 602.642 Q169.885 602.642 167.431 605.767 Q165.001 608.892 164.653 615.212 Q166.019 613.198 168.079 612.133 Q170.139 611.045 172.616 611.045 Q177.825 611.045 180.834 614.216 Q183.866 617.364 183.866 622.804 Q183.866 628.128 180.718 631.346 Q177.57 634.563 172.339 634.563 Q166.343 634.563 163.172 629.98 Q160.001 625.374 160.001 616.647 Q160.001 608.452 163.89 603.591 Q167.778 598.707 174.329 598.707 Q176.089 598.707 177.871 599.054 Q179.676 599.402 181.621 600.096 Z\" fill=\"#000000\" fill-rule=\"nonzero\" fill-opacity=\"1\" /><path clip-path=\"url(#clip670)\" d=\"M126.783 333.555 Q123.172 333.555 121.343 337.12 Q119.538 340.661 119.538 347.791 Q119.538 354.897 121.343 358.462 Q123.172 362.004 126.783 362.004 Q130.417 362.004 132.223 358.462 Q134.052 354.897 134.052 347.791 Q134.052 340.661 132.223 337.12 Q130.417 333.555 126.783 333.555 M126.783 329.851 Q132.593 329.851 135.649 334.458 Q138.728 339.041 138.728 347.791 Q138.728 356.518 135.649 361.124 Q132.593 365.707 126.783 365.707 Q120.973 365.707 117.894 361.124 Q114.839 356.518 114.839 347.791 Q114.839 339.041 117.894 334.458 Q120.973 329.851 126.783 329.851 Z\" fill=\"#000000\" fill-rule=\"nonzero\" fill-opacity=\"1\" /><path clip-path=\"url(#clip670)\" d=\"M146.945 359.157 L151.829 359.157 L151.829 365.036 L146.945 365.036 L146.945 359.157 Z\" fill=\"#000000\" fill-rule=\"nonzero\" fill-opacity=\"1\" /><path clip-path=\"url(#clip670)\" d=\"M172.014 348.624 Q168.681 348.624 166.76 350.407 Q164.862 352.189 164.862 355.314 Q164.862 358.439 166.76 360.221 Q168.681 362.004 172.014 362.004 Q175.348 362.004 177.269 360.221 Q179.19 358.416 179.19 355.314 Q179.19 352.189 177.269 350.407 Q175.371 348.624 172.014 348.624 M167.339 346.633 Q164.329 345.893 162.64 343.833 Q160.973 341.772 160.973 338.809 Q160.973 334.666 163.913 332.259 Q166.876 329.851 172.014 329.851 Q177.176 329.851 180.116 332.259 Q183.056 334.666 183.056 338.809 Q183.056 341.772 181.366 343.833 Q179.7 345.893 176.714 346.633 Q180.093 347.42 181.968 349.712 Q183.866 352.004 183.866 355.314 Q183.866 360.337 180.788 363.022 Q177.732 365.707 172.014 365.707 Q166.297 365.707 163.218 363.022 Q160.163 360.337 160.163 355.314 Q160.163 352.004 162.061 349.712 Q163.959 347.42 167.339 346.633 M165.626 339.249 Q165.626 341.934 167.292 343.439 Q168.982 344.944 172.014 344.944 Q175.024 344.944 176.714 343.439 Q178.426 341.934 178.426 339.249 Q178.426 336.564 176.714 335.059 Q175.024 333.555 172.014 333.555 Q168.982 333.555 167.292 335.059 Q165.626 336.564 165.626 339.249 Z\" fill=\"#000000\" fill-rule=\"nonzero\" fill-opacity=\"1\" /><path clip-path=\"url(#clip670)\" d=\"M22.818 899.128 L46.4666 907.849 L46.4666 890.375 L22.818 899.128 M16.4842 902.757 L16.4842 895.468 L64.0042 877.358 L64.0042 884.042 L51.8138 888.37 L51.8138 909.791 L64.0042 914.12 L64.0042 920.899 L16.4842 902.757 Z\" fill=\"#000000\" fill-rule=\"nonzero\" fill-opacity=\"1\" /><path clip-path=\"url(#clip670)\" d=\"M29.7248 846.166 L35.1993 846.166 Q33.8307 848.648 33.1623 851.163 Q32.4621 853.645 32.4621 856.192 Q32.4621 861.889 36.0905 865.04 Q39.6872 868.191 46.212 868.191 Q52.7369 868.191 56.3653 865.04 Q59.9619 861.889 59.9619 856.192 Q59.9619 853.645 59.2935 851.163 Q58.5933 848.648 57.2247 846.166 L62.6355 846.166 Q63.7814 848.616 64.3543 851.258 Q64.9272 853.868 64.9272 856.828 Q64.9272 864.881 59.8664 869.623 Q54.8057 874.366 46.212 874.366 Q37.491 874.366 32.4939 869.591 Q27.4968 864.785 27.4968 856.446 Q27.4968 853.741 28.0697 851.163 Q28.6108 848.585 29.7248 846.166 Z\" fill=\"#000000\" fill-rule=\"nonzero\" fill-opacity=\"1\" /><path clip-path=\"url(#clip670)\" d=\"M29.7248 810.327 L35.1993 810.327 Q33.8307 812.809 33.1623 815.324 Q32.4621 817.806 32.4621 820.353 Q32.4621 826.05 36.0905 829.201 Q39.6872 832.352 46.212 832.352 Q52.7369 832.352 56.3653 829.201 Q59.9619 826.05 59.9619 820.353 Q59.9619 817.806 59.2935 815.324 Q58.5933 812.809 57.2247 810.327 L62.6355 810.327 Q63.7814 812.777 64.3543 815.419 Q64.9272 818.029 64.9272 820.989 Q64.9272 829.042 59.8664 833.784 Q54.8057 838.527 46.212 838.527 Q37.491 838.527 32.4939 833.752 Q27.4968 828.946 27.4968 820.607 Q27.4968 817.902 28.0697 815.324 Q28.6108 812.746 29.7248 810.327 Z\" fill=\"#000000\" fill-rule=\"nonzero\" fill-opacity=\"1\" /><path clip-path=\"url(#clip670)\" d=\"M49.9359 800.746 L28.3562 800.746 L28.3562 794.89 L49.7131 794.89 Q54.7739 794.89 57.3202 792.916 Q59.8346 790.943 59.8346 786.996 Q59.8346 782.254 56.8109 779.517 Q53.7872 776.748 48.5673 776.748 L28.3562 776.748 L28.3562 770.891 L64.0042 770.891 L64.0042 776.748 L58.5296 776.748 Q61.7762 778.88 63.3676 781.713 Q64.9272 784.514 64.9272 788.238 Q64.9272 794.381 61.1078 797.563 Q57.2883 800.746 49.9359 800.746 M27.4968 786.01 L27.4968 786.01 Z\" fill=\"#000000\" fill-rule=\"nonzero\" fill-opacity=\"1\" /><path clip-path=\"url(#clip670)\" d=\"M33.8307 738.171 Q33.2578 739.158 33.0032 740.336 Q32.7167 741.482 32.7167 742.882 Q32.7167 747.847 35.9632 750.521 Q39.1779 753.163 45.2253 753.163 L64.0042 753.163 L64.0042 759.051 L28.3562 759.051 L28.3562 753.163 L33.8944 753.163 Q30.6479 751.317 29.0883 748.356 Q27.4968 745.396 27.4968 741.163 Q27.4968 740.559 27.5923 739.826 Q27.656 739.094 27.8151 738.203 L33.8307 738.171 Z\" fill=\"#000000\" fill-rule=\"nonzero\" fill-opacity=\"1\" /><path clip-path=\"url(#clip670)\" d=\"M46.0847 715.828 Q46.0847 722.926 47.7079 725.663 Q49.3312 728.4 53.2461 728.4 Q56.3653 728.4 58.2114 726.363 Q60.0256 724.294 60.0256 720.761 Q60.0256 715.891 56.5881 712.963 Q53.1188 710.003 47.3897 710.003 L46.0847 710.003 L46.0847 715.828 M43.6657 704.147 L64.0042 704.147 L64.0042 710.003 L58.5933 710.003 Q61.8398 712.008 63.3994 715 Q64.9272 717.992 64.9272 722.321 Q64.9272 727.795 61.8716 731.042 Q58.7843 734.256 53.6281 734.256 Q47.6125 734.256 44.5569 730.246 Q41.5014 726.204 41.5014 718.215 L41.5014 710.003 L40.9285 710.003 Q36.8862 710.003 34.6901 712.677 Q32.4621 715.318 32.4621 720.125 Q32.4621 723.18 33.1941 726.077 Q33.9262 728.973 35.3903 731.647 L29.9795 731.647 Q28.7381 728.432 28.1334 725.408 Q27.4968 722.384 27.4968 719.52 Q27.4968 711.786 31.5072 707.966 Q35.5176 704.147 43.6657 704.147 Z\" fill=\"#000000\" fill-rule=\"nonzero\" fill-opacity=\"1\" /><path clip-path=\"url(#clip670)\" d=\"M29.7248 666.43 L35.1993 666.43 Q33.8307 668.912 33.1623 671.427 Q32.4621 673.91 32.4621 676.456 Q32.4621 682.153 36.0905 685.304 Q39.6872 688.455 46.212 688.455 Q52.7369 688.455 56.3653 685.304 Q59.9619 682.153 59.9619 676.456 Q59.9619 673.91 59.2935 671.427 Q58.5933 668.912 57.2247 666.43 L62.6355 666.43 Q63.7814 668.881 64.3543 671.522 Q64.9272 674.132 64.9272 677.092 Q64.9272 685.145 59.8664 689.887 Q54.8057 694.63 46.212 694.63 Q37.491 694.63 32.4939 689.856 Q27.4968 685.05 27.4968 676.71 Q27.4968 674.005 28.0697 671.427 Q28.6108 668.849 29.7248 666.43 Z\" fill=\"#000000\" fill-rule=\"nonzero\" fill-opacity=\"1\" /><path clip-path=\"url(#clip670)\" d=\"M67.3143 641.413 Q73.68 643.895 75.6216 646.251 Q77.5631 648.606 77.5631 652.553 L77.5631 657.231 L72.6615 657.231 L72.6615 653.794 Q72.6615 651.375 71.5157 650.038 Q70.3699 648.701 66.1048 647.078 L63.4312 646.028 L28.3562 660.446 L28.3562 654.24 L56.238 643.1 L28.3562 631.96 L28.3562 625.753 L67.3143 641.413 Z\" fill=\"#000000\" fill-rule=\"nonzero\" fill-opacity=\"1\" /><path clip-path=\"url(#clip670)\" d=\"M715.174 14.0809 L715.174 22.0612 Q710.516 19.8332 706.384 18.7395 Q702.252 17.6457 698.403 17.6457 Q691.719 17.6457 688.074 20.2383 Q684.468 22.8309 684.468 27.611 Q684.468 31.6214 686.858 33.6873 Q689.289 35.7128 696.013 36.9686 L700.955 37.9813 Q710.11 39.7232 714.445 44.1387 Q718.82 48.5136 718.82 55.8863 Q718.82 64.6767 712.906 69.2137 Q707.032 73.7508 695.649 73.7508 Q691.355 73.7508 686.494 72.7785 Q681.673 71.8063 676.488 69.9024 L676.488 61.4765 Q681.471 64.2716 686.251 65.6895 Q691.031 67.1073 695.649 67.1073 Q702.657 67.1073 706.465 64.3527 Q710.273 61.598 710.273 56.4939 Q710.273 52.0379 707.518 49.5264 Q704.804 47.0148 698.565 45.759 L693.583 44.7868 Q684.428 42.9639 680.336 39.075 Q676.245 35.1862 676.245 28.2591 Q676.245 20.2383 681.876 15.6203 Q687.547 11.0023 697.472 11.0023 Q701.725 11.0023 706.141 11.7719 Q710.556 12.5416 715.174 14.0809 Z\" fill=\"#000000\" fill-rule=\"nonzero\" fill-opacity=\"1\" /><path clip-path=\"url(#clip670)\" d=\"M747.176 72.576 L724.086 12.096 L732.633 12.096 L751.794 63.0159 L770.996 12.096 L779.502 12.096 L756.453 72.576 L747.176 72.576 Z\" fill=\"#000000\" fill-rule=\"nonzero\" fill-opacity=\"1\" /><path clip-path=\"url(#clip670)\" d=\"M788.333 12.096 L800.527 12.096 L815.961 53.2532 L831.476 12.096 L843.669 12.096 L843.669 72.576 L835.689 72.576 L835.689 19.4686 L820.093 60.9499 L811.869 60.9499 L796.273 19.4686 L796.273 72.576 L788.333 72.576 L788.333 12.096 Z\" fill=\"#000000\" fill-rule=\"nonzero\" fill-opacity=\"1\" /><path clip-path=\"url(#clip670)\" d=\"M931.573 16.7545 L931.573 25.383 Q927.441 21.5346 922.742 19.6307 Q918.084 17.7268 912.818 17.7268 Q902.447 17.7268 896.938 24.0867 Q891.429 30.4061 891.429 42.3968 Q891.429 54.3469 896.938 60.7069 Q902.447 67.0263 912.818 67.0263 Q918.084 67.0263 922.742 65.1223 Q927.441 63.2184 931.573 59.3701 L931.573 67.9175 Q927.279 70.8341 922.459 72.2924 Q917.679 73.7508 912.332 73.7508 Q898.599 73.7508 890.7 65.3654 Q882.801 56.9395 882.801 42.3968 Q882.801 27.8135 890.7 19.4281 Q898.599 11.0023 912.332 11.0023 Q917.76 11.0023 922.54 12.4606 Q927.36 13.8784 931.573 16.7545 Z\" fill=\"#000000\" fill-rule=\"nonzero\" fill-opacity=\"1\" /><path clip-path=\"url(#clip670)\" d=\"M943.888 9.54393 L951.342 9.54393 L951.342 72.576 L943.888 72.576 L943.888 9.54393 Z\" fill=\"#000000\" fill-rule=\"nonzero\" fill-opacity=\"1\" /><path clip-path=\"url(#clip670)\" d=\"M987.557 49.7694 Q978.523 49.7694 975.04 51.8354 Q971.556 53.9013 971.556 58.8839 Q971.556 62.8538 974.148 65.2034 Q976.781 67.5124 981.278 67.5124 Q987.476 67.5124 991.203 63.1374 Q994.97 58.7219 994.97 51.4303 L994.97 49.7694 L987.557 49.7694 M1002.42 46.6907 L1002.42 72.576 L994.97 72.576 L994.97 65.6895 Q992.418 69.8214 988.61 71.8063 Q984.802 73.7508 979.293 73.7508 Q972.325 73.7508 968.194 69.8619 Q964.102 65.9325 964.102 59.3701 Q964.102 51.7138 969.206 47.825 Q974.351 43.9361 984.519 43.9361 L994.97 43.9361 L994.97 43.2069 Q994.97 38.0623 991.567 35.2672 Q988.205 32.4315 982.088 32.4315 Q978.199 32.4315 974.513 33.3632 Q970.827 34.295 967.424 36.1584 L967.424 29.2718 Q971.515 27.692 975.364 26.9223 Q979.212 26.1121 982.858 26.1121 Q992.702 26.1121 997.563 31.2163 Q1002.42 36.3204 1002.42 46.6907 Z\" fill=\"#000000\" fill-rule=\"nonzero\" fill-opacity=\"1\" /><path clip-path=\"url(#clip670)\" d=\"M1046.7 28.5427 L1046.7 35.5912 Q1043.54 33.9709 1040.14 33.1607 Q1036.73 32.3505 1033.09 32.3505 Q1027.54 32.3505 1024.74 34.0519 Q1021.99 35.7533 1021.99 39.156 Q1021.99 41.7486 1023.97 43.2475 Q1025.96 44.7058 1031.95 46.0426 L1034.51 46.6097 Q1042.45 48.3111 1045.77 51.4303 Q1049.13 54.509 1049.13 60.0587 Q1049.13 66.3781 1044.11 70.0644 Q1039.12 73.7508 1030.37 73.7508 Q1026.73 73.7508 1022.76 73.0216 Q1018.83 72.3329 1014.45 70.9151 L1014.45 63.2184 Q1018.59 65.3654 1022.6 66.4591 Q1026.61 67.5124 1030.54 67.5124 Q1035.8 67.5124 1038.64 65.73 Q1041.47 63.9071 1041.47 60.6258 Q1041.47 57.5877 1039.41 55.9673 Q1037.38 54.3469 1030.46 52.8481 L1027.86 52.2405 Q1020.94 50.7821 1017.86 47.7845 Q1014.78 44.7463 1014.78 39.4801 Q1014.78 33.0797 1019.32 29.5959 Q1023.85 26.1121 1032.2 26.1121 Q1036.33 26.1121 1039.98 26.7198 Q1043.62 27.3274 1046.7 28.5427 Z\" fill=\"#000000\" fill-rule=\"nonzero\" fill-opacity=\"1\" /><path clip-path=\"url(#clip670)\" d=\"M1089.92 28.5427 L1089.92 35.5912 Q1086.76 33.9709 1083.36 33.1607 Q1079.96 32.3505 1076.31 32.3505 Q1070.76 32.3505 1067.97 34.0519 Q1065.21 35.7533 1065.21 39.156 Q1065.21 41.7486 1067.2 43.2475 Q1069.18 44.7058 1075.18 46.0426 L1077.73 46.6097 Q1085.67 48.3111 1088.99 51.4303 Q1092.35 54.509 1092.35 60.0587 Q1092.35 66.3781 1087.33 70.0644 Q1082.35 73.7508 1073.6 73.7508 Q1069.95 73.7508 1065.98 73.0216 Q1062.05 72.3329 1057.68 70.9151 L1057.68 63.2184 Q1061.81 65.3654 1065.82 66.4591 Q1069.83 67.5124 1073.76 67.5124 Q1079.03 67.5124 1081.86 65.73 Q1084.7 63.9071 1084.7 60.6258 Q1084.7 57.5877 1082.63 55.9673 Q1080.61 54.3469 1073.68 52.8481 L1071.09 52.2405 Q1064.16 50.7821 1061.08 47.7845 Q1058 44.7463 1058 39.4801 Q1058 33.0797 1062.54 29.5959 Q1067.08 26.1121 1075.42 26.1121 Q1079.55 26.1121 1083.2 26.7198 Q1086.84 27.3274 1089.92 28.5427 Z\" fill=\"#000000\" fill-rule=\"nonzero\" fill-opacity=\"1\" /><path clip-path=\"url(#clip670)\" d=\"M1104.22 27.2059 L1111.68 27.2059 L1111.68 72.576 L1104.22 72.576 L1104.22 27.2059 M1104.22 9.54393 L1111.68 9.54393 L1111.68 18.9825 L1104.22 18.9825 L1104.22 9.54393 Z\" fill=\"#000000\" fill-rule=\"nonzero\" fill-opacity=\"1\" /><path clip-path=\"url(#clip670)\" d=\"M1150.24 9.54393 L1150.24 15.7418 L1143.11 15.7418 Q1139.1 15.7418 1137.52 17.3622 Q1135.98 18.9825 1135.98 23.1955 L1135.98 27.2059 L1148.26 27.2059 L1148.26 32.9987 L1135.98 32.9987 L1135.98 72.576 L1128.49 72.576 L1128.49 32.9987 L1121.36 32.9987 L1121.36 27.2059 L1128.49 27.2059 L1128.49 24.0462 Q1128.49 16.471 1132.01 13.0277 Q1135.54 9.54393 1143.19 9.54393 L1150.24 9.54393 Z\" fill=\"#000000\" fill-rule=\"nonzero\" fill-opacity=\"1\" /><path clip-path=\"url(#clip670)\" d=\"M1156.48 27.2059 L1163.93 27.2059 L1163.93 72.576 L1156.48 72.576 L1156.48 27.2059 M1156.48 9.54393 L1163.93 9.54393 L1163.93 18.9825 L1156.48 18.9825 L1156.48 9.54393 Z\" fill=\"#000000\" fill-rule=\"nonzero\" fill-opacity=\"1\" /><path clip-path=\"url(#clip670)\" d=\"M1212.18 28.9478 L1212.18 35.9153 Q1209.02 34.1734 1205.82 33.3227 Q1202.66 32.4315 1199.42 32.4315 Q1192.17 32.4315 1188.16 37.0496 Q1184.15 41.6271 1184.15 49.9314 Q1184.15 58.2358 1188.16 62.8538 Q1192.17 67.4314 1199.42 67.4314 Q1202.66 67.4314 1205.82 66.5807 Q1209.02 65.6895 1212.18 63.9476 L1212.18 70.8341 Q1209.06 72.2924 1205.7 73.0216 Q1202.38 73.7508 1198.61 73.7508 Q1188.36 73.7508 1182.32 67.3098 Q1176.29 60.8689 1176.29 49.9314 Q1176.29 38.832 1182.36 32.472 Q1188.48 26.1121 1199.1 26.1121 Q1202.54 26.1121 1205.82 26.8413 Q1209.1 27.5299 1212.18 28.9478 Z\" fill=\"#000000\" fill-rule=\"nonzero\" fill-opacity=\"1\" /><path clip-path=\"url(#clip670)\" d=\"M1245.76 49.7694 Q1236.73 49.7694 1233.24 51.8354 Q1229.76 53.9013 1229.76 58.8839 Q1229.76 62.8538 1232.35 65.2034 Q1234.99 67.5124 1239.48 67.5124 Q1245.68 67.5124 1249.41 63.1374 Q1253.17 58.7219 1253.17 51.4303 L1253.17 49.7694 L1245.76 49.7694 M1260.63 46.6907 L1260.63 72.576 L1253.17 72.576 L1253.17 65.6895 Q1250.62 69.8214 1246.81 71.8063 Q1243.01 73.7508 1237.5 73.7508 Q1230.53 73.7508 1226.4 69.8619 Q1222.31 65.9325 1222.31 59.3701 Q1222.31 51.7138 1227.41 47.825 Q1232.56 43.9361 1242.72 43.9361 L1253.17 43.9361 L1253.17 43.2069 Q1253.17 38.0623 1249.77 35.2672 Q1246.41 32.4315 1240.29 32.4315 Q1236.4 32.4315 1232.72 33.3632 Q1229.03 34.295 1225.63 36.1584 L1225.63 29.2718 Q1229.72 27.692 1233.57 26.9223 Q1237.42 26.1121 1241.06 26.1121 Q1250.91 26.1121 1255.77 31.2163 Q1260.63 36.3204 1260.63 46.6907 Z\" fill=\"#000000\" fill-rule=\"nonzero\" fill-opacity=\"1\" /><path clip-path=\"url(#clip670)\" d=\"M1283.35 14.324 L1283.35 27.2059 L1298.71 27.2059 L1298.71 32.9987 L1283.35 32.9987 L1283.35 57.6282 Q1283.35 63.1779 1284.85 64.7578 Q1286.39 66.3376 1291.05 66.3376 L1298.71 66.3376 L1298.71 72.576 L1291.05 72.576 Q1282.42 72.576 1279.14 69.3758 Q1275.86 66.1351 1275.86 57.6282 L1275.86 32.9987 L1270.39 32.9987 L1270.39 27.2059 L1275.86 27.2059 L1275.86 14.324 L1283.35 14.324 Z\" fill=\"#000000\" fill-rule=\"nonzero\" fill-opacity=\"1\" /><path clip-path=\"url(#clip670)\" d=\"M1308.51 27.2059 L1315.96 27.2059 L1315.96 72.576 L1308.51 72.576 L1308.51 27.2059 M1308.51 9.54393 L1315.96 9.54393 L1315.96 18.9825 L1308.51 18.9825 L1308.51 9.54393 Z\" fill=\"#000000\" fill-rule=\"nonzero\" fill-opacity=\"1\" /><path clip-path=\"url(#clip670)\" d=\"M1349.14 32.4315 Q1343.15 32.4315 1339.66 37.1306 Q1336.18 41.7891 1336.18 49.9314 Q1336.18 58.0738 1339.62 62.7728 Q1343.1 67.4314 1349.14 67.4314 Q1355.1 67.4314 1358.58 62.7323 Q1362.06 58.0333 1362.06 49.9314 Q1362.06 41.8701 1358.58 37.1711 Q1355.1 32.4315 1349.14 32.4315 M1349.14 26.1121 Q1358.86 26.1121 1364.41 32.4315 Q1369.96 38.7509 1369.96 49.9314 Q1369.96 61.0714 1364.41 67.4314 Q1358.86 73.7508 1349.14 73.7508 Q1339.38 73.7508 1333.83 67.4314 Q1328.32 61.0714 1328.32 49.9314 Q1328.32 38.7509 1333.83 32.4315 Q1339.38 26.1121 1349.14 26.1121 Z\" fill=\"#000000\" fill-rule=\"nonzero\" fill-opacity=\"1\" /><path clip-path=\"url(#clip670)\" d=\"M1420.03 45.1919 L1420.03 72.576 L1412.58 72.576 L1412.58 45.4349 Q1412.58 38.994 1410.07 35.7938 Q1407.55 32.5936 1402.53 32.5936 Q1396.5 32.5936 1393.01 36.4419 Q1389.53 40.2903 1389.53 46.9338 L1389.53 72.576 L1382.03 72.576 L1382.03 27.2059 L1389.53 27.2059 L1389.53 34.2544 Q1392.2 30.163 1395.81 28.1376 Q1399.45 26.1121 1404.19 26.1121 Q1412.01 26.1121 1416.02 30.9732 Q1420.03 35.7938 1420.03 45.1919 Z\" fill=\"#000000\" fill-rule=\"nonzero\" fill-opacity=\"1\" /><path clip-path=\"url(#clip670)\" d=\"M1481.81 20.1573 L1470.71 50.2555 L1492.95 50.2555 L1481.81 20.1573 M1477.19 12.096 L1486.47 12.096 L1509.52 72.576 L1501.01 72.576 L1495.5 57.061 L1468.24 57.061 L1462.73 72.576 L1454.1 72.576 L1477.19 12.096 Z\" fill=\"#000000\" fill-rule=\"nonzero\" fill-opacity=\"1\" /><path clip-path=\"url(#clip670)\" d=\"M1549.21 28.9478 L1549.21 35.9153 Q1546.06 34.1734 1542.85 33.3227 Q1539.7 32.4315 1536.45 32.4315 Q1529.2 32.4315 1525.19 37.0496 Q1521.18 41.6271 1521.18 49.9314 Q1521.18 58.2358 1525.19 62.8538 Q1529.2 67.4314 1536.45 67.4314 Q1539.7 67.4314 1542.85 66.5807 Q1546.06 65.6895 1549.21 63.9476 L1549.21 70.8341 Q1546.1 72.2924 1542.73 73.0216 Q1539.41 73.7508 1535.64 73.7508 Q1525.4 73.7508 1519.36 67.3098 Q1513.32 60.8689 1513.32 49.9314 Q1513.32 38.832 1519.4 32.472 Q1525.52 26.1121 1536.13 26.1121 Q1539.57 26.1121 1542.85 26.8413 Q1546.14 27.5299 1549.21 28.9478 Z\" fill=\"#000000\" fill-rule=\"nonzero\" fill-opacity=\"1\" /><path clip-path=\"url(#clip670)\" d=\"M1594.83 28.9478 L1594.83 35.9153 Q1591.67 34.1734 1588.47 33.3227 Q1585.31 32.4315 1582.07 32.4315 Q1574.82 32.4315 1570.81 37.0496 Q1566.8 41.6271 1566.8 49.9314 Q1566.8 58.2358 1570.81 62.8538 Q1574.82 67.4314 1582.07 67.4314 Q1585.31 67.4314 1588.47 66.5807 Q1591.67 65.6895 1594.83 63.9476 L1594.83 70.8341 Q1591.71 72.2924 1588.35 73.0216 Q1585.02 73.7508 1581.26 73.7508 Q1571.01 73.7508 1564.97 67.3098 Q1558.94 60.8689 1558.94 49.9314 Q1558.94 38.832 1565.01 32.472 Q1571.13 26.1121 1581.74 26.1121 Q1585.19 26.1121 1588.47 26.8413 Q1591.75 27.5299 1594.83 28.9478 Z\" fill=\"#000000\" fill-rule=\"nonzero\" fill-opacity=\"1\" /><path clip-path=\"url(#clip670)\" d=\"M1607.02 54.671 L1607.02 27.2059 L1614.47 27.2059 L1614.47 54.3874 Q1614.47 60.8284 1616.99 64.0691 Q1619.5 67.2693 1624.52 67.2693 Q1630.56 67.2693 1634.04 63.421 Q1637.56 59.5726 1637.56 52.9291 L1637.56 27.2059 L1645.02 27.2059 L1645.02 72.576 L1637.56 72.576 L1637.56 65.6084 Q1634.85 69.7404 1631.25 71.7658 Q1627.68 73.7508 1622.94 73.7508 Q1615.12 73.7508 1611.07 68.8897 Q1607.02 64.0286 1607.02 54.671 M1625.78 26.1121 L1625.78 26.1121 Z\" fill=\"#000000\" fill-rule=\"nonzero\" fill-opacity=\"1\" /><path clip-path=\"url(#clip670)\" d=\"M1686.66 34.1734 Q1685.41 33.4443 1683.91 33.1202 Q1682.45 32.7556 1680.67 32.7556 Q1674.35 32.7556 1670.94 36.8875 Q1667.58 40.9789 1667.58 48.6757 L1667.58 72.576 L1660.09 72.576 L1660.09 27.2059 L1667.58 27.2059 L1667.58 34.2544 Q1669.93 30.1225 1673.7 28.1376 Q1677.47 26.1121 1682.85 26.1121 Q1683.62 26.1121 1684.56 26.2337 Q1685.49 26.3147 1686.62 26.5172 L1686.66 34.1734 Z\" fill=\"#000000\" fill-rule=\"nonzero\" fill-opacity=\"1\" /><path clip-path=\"url(#clip670)\" d=\"M1715.1 49.7694 Q1706.07 49.7694 1702.58 51.8354 Q1699.1 53.9013 1699.1 58.8839 Q1699.1 62.8538 1701.69 65.2034 Q1704.32 67.5124 1708.82 67.5124 Q1715.02 67.5124 1718.75 63.1374 Q1722.51 58.7219 1722.51 51.4303 L1722.51 49.7694 L1715.1 49.7694 M1729.97 46.6907 L1729.97 72.576 L1722.51 72.576 L1722.51 65.6895 Q1719.96 69.8214 1716.15 71.8063 Q1712.34 73.7508 1706.84 73.7508 Q1699.87 73.7508 1695.74 69.8619 Q1691.64 65.9325 1691.64 59.3701 Q1691.64 51.7138 1696.75 47.825 Q1701.89 43.9361 1712.06 43.9361 L1722.51 43.9361 L1722.51 43.2069 Q1722.51 38.0623 1719.11 35.2672 Q1715.75 32.4315 1709.63 32.4315 Q1705.74 32.4315 1702.06 33.3632 Q1698.37 34.295 1694.97 36.1584 L1694.97 29.2718 Q1699.06 27.692 1702.91 26.9223 Q1706.75 26.1121 1710.4 26.1121 Q1720.24 26.1121 1725.11 31.2163 Q1729.97 36.3204 1729.97 46.6907 Z\" fill=\"#000000\" fill-rule=\"nonzero\" fill-opacity=\"1\" /><path clip-path=\"url(#clip670)\" d=\"M1777.97 28.9478 L1777.97 35.9153 Q1774.81 34.1734 1771.61 33.3227 Q1768.45 32.4315 1765.21 32.4315 Q1757.96 32.4315 1753.95 37.0496 Q1749.94 41.6271 1749.94 49.9314 Q1749.94 58.2358 1753.95 62.8538 Q1757.96 67.4314 1765.21 67.4314 Q1768.45 67.4314 1771.61 66.5807 Q1774.81 65.6895 1777.97 63.9476 L1777.97 70.8341 Q1774.85 72.2924 1771.49 73.0216 Q1768.17 73.7508 1764.4 73.7508 Q1754.15 73.7508 1748.11 67.3098 Q1742.08 60.8689 1742.08 49.9314 Q1742.08 38.832 1748.15 32.472 Q1754.27 26.1121 1764.88 26.1121 Q1768.33 26.1121 1771.61 26.8413 Q1774.89 27.5299 1777.97 28.9478 Z\" fill=\"#000000\" fill-rule=\"nonzero\" fill-opacity=\"1\" /><path clip-path=\"url(#clip670)\" d=\"M1790.93 27.2059 L1798.39 27.2059 L1798.39 72.576 L1790.93 72.576 L1790.93 27.2059 M1790.93 9.54393 L1798.39 9.54393 L1798.39 18.9825 L1790.93 18.9825 L1790.93 9.54393 Z\" fill=\"#000000\" fill-rule=\"nonzero\" fill-opacity=\"1\" /><path clip-path=\"url(#clip670)\" d=\"M1852.79 48.0275 L1852.79 51.6733 L1818.52 51.6733 Q1819 59.3701 1823.14 63.421 Q1827.31 67.4314 1834.72 67.4314 Q1839.02 67.4314 1843.03 66.3781 Q1847.08 65.3249 1851.05 63.2184 L1851.05 70.267 Q1847.04 71.9684 1842.82 72.8596 Q1838.61 73.7508 1834.28 73.7508 Q1823.42 73.7508 1817.06 67.4314 Q1810.74 61.1119 1810.74 50.3365 Q1810.74 39.1965 1816.74 32.6746 Q1822.77 26.1121 1832.98 26.1121 Q1842.14 26.1121 1847.44 32.0264 Q1852.79 37.9003 1852.79 48.0275 M1845.34 45.84 Q1845.25 39.7232 1841.89 36.0774 Q1838.57 32.4315 1833.06 32.4315 Q1826.82 32.4315 1823.06 35.9558 Q1819.33 39.4801 1818.76 45.8805 L1845.34 45.84 Z\" fill=\"#000000\" fill-rule=\"nonzero\" fill-opacity=\"1\" /><path clip-path=\"url(#clip670)\" d=\"M1893.95 28.5427 L1893.95 35.5912 Q1890.79 33.9709 1887.38 33.1607 Q1883.98 32.3505 1880.34 32.3505 Q1874.79 32.3505 1871.99 34.0519 Q1869.24 35.7533 1869.24 39.156 Q1869.24 41.7486 1871.22 43.2475 Q1873.21 44.7058 1879.2 46.0426 L1881.75 46.6097 Q1889.69 48.3111 1893.02 51.4303 Q1896.38 54.509 1896.38 60.0587 Q1896.38 66.3781 1891.35 70.0644 Q1886.37 73.7508 1877.62 73.7508 Q1873.98 73.7508 1870.01 73.0216 Q1866.08 72.3329 1861.7 70.9151 L1861.7 63.2184 Q1865.83 65.3654 1869.84 66.4591 Q1873.85 67.5124 1877.78 67.5124 Q1883.05 67.5124 1885.89 65.73 Q1888.72 63.9071 1888.72 60.6258 Q1888.72 57.5877 1886.66 55.9673 Q1884.63 54.3469 1877.7 52.8481 L1875.11 52.2405 Q1868.18 50.7821 1865.1 47.7845 Q1862.03 44.7463 1862.03 39.4801 Q1862.03 33.0797 1866.56 29.5959 Q1871.1 26.1121 1879.44 26.1121 Q1883.58 26.1121 1887.22 26.7198 Q1890.87 27.3274 1893.95 28.5427 Z\" fill=\"#000000\" fill-rule=\"nonzero\" fill-opacity=\"1\" /><path clip-path=\"url(#clip672)\" d=\"M337.179 160.126 L337.179 1423.18 L736.814 1423.18 L736.814 160.126 L337.179 160.126 L337.179 160.126  Z\" fill=\"#009af9\" fill-rule=\"evenodd\" fill-opacity=\"1\"/>\n",
       "<polyline clip-path=\"url(#clip672)\" style=\"stroke:#000000; stroke-linecap:round; stroke-linejoin:round; stroke-width:4; stroke-opacity:1; fill:none\" points=\"337.179,160.126 337.179,1423.18 736.814,1423.18 736.814,160.126 337.179,160.126 \"/>\n",
       "<path clip-path=\"url(#clip672)\" d=\"M836.722 123.472 L836.722 1423.18 L1236.36 1423.18 L1236.36 123.472 L836.722 123.472 L836.722 123.472  Z\" fill=\"#009af9\" fill-rule=\"evenodd\" fill-opacity=\"1\"/>\n",
       "<polyline clip-path=\"url(#clip672)\" style=\"stroke:#000000; stroke-linecap:round; stroke-linejoin:round; stroke-width:4; stroke-opacity:1; fill:none\" points=\"836.722,123.472 836.722,1423.18 1236.36,1423.18 1236.36,123.472 836.722,123.472 \"/>\n",
       "<path clip-path=\"url(#clip672)\" d=\"M1336.27 138.014 L1336.27 1423.18 L1735.9 1423.18 L1735.9 138.014 L1336.27 138.014 L1336.27 138.014  Z\" fill=\"#009af9\" fill-rule=\"evenodd\" fill-opacity=\"1\"/>\n",
       "<polyline clip-path=\"url(#clip672)\" style=\"stroke:#000000; stroke-linecap:round; stroke-linejoin:round; stroke-width:4; stroke-opacity:1; fill:none\" points=\"1336.27,138.014 1336.27,1423.18 1735.9,1423.18 1735.9,138.014 1336.27,138.014 \"/>\n",
       "<path clip-path=\"url(#clip672)\" d=\"M1835.81 132.662 L1835.81 1423.18 L2235.44 1423.18 L2235.44 132.662 L1835.81 132.662 L1835.81 132.662  Z\" fill=\"#009af9\" fill-rule=\"evenodd\" fill-opacity=\"1\"/>\n",
       "<polyline clip-path=\"url(#clip672)\" style=\"stroke:#000000; stroke-linecap:round; stroke-linejoin:round; stroke-width:4; stroke-opacity:1; fill:none\" points=\"1835.81,132.662 1835.81,1423.18 2235.44,1423.18 2235.44,132.662 1835.81,132.662 \"/>\n",
       "<circle clip-path=\"url(#clip672)\" style=\"fill:#009af9; stroke:none; fill-opacity:0\" cx=\"536.996\" cy=\"160.126\" r=\"2\"/>\n",
       "<circle clip-path=\"url(#clip672)\" style=\"fill:#009af9; stroke:none; fill-opacity:0\" cx=\"1036.54\" cy=\"123.472\" r=\"2\"/>\n",
       "<circle clip-path=\"url(#clip672)\" style=\"fill:#009af9; stroke:none; fill-opacity:0\" cx=\"1536.08\" cy=\"138.014\" r=\"2\"/>\n",
       "<circle clip-path=\"url(#clip672)\" style=\"fill:#009af9; stroke:none; fill-opacity:0\" cx=\"2035.63\" cy=\"132.662\" r=\"2\"/>\n",
       "</svg>\n"
      ],
      "text/html": [
       "<?xml version=\"1.0\" encoding=\"utf-8\"?>\n",
       "<svg xmlns=\"http://www.w3.org/2000/svg\" xmlns:xlink=\"http://www.w3.org/1999/xlink\" width=\"600\" height=\"400\" viewBox=\"0 0 2400 1600\">\n",
       "<defs>\n",
       "  <clipPath id=\"clip720\">\n",
       "    <rect x=\"0\" y=\"0\" width=\"2400\" height=\"1600\"/>\n",
       "  </clipPath>\n",
       "</defs>\n",
       "<path clip-path=\"url(#clip720)\" d=\"M0 1600 L2400 1600 L2400 0 L0 0  Z\" fill=\"#ffffff\" fill-rule=\"evenodd\" fill-opacity=\"1\"/>\n",
       "<defs>\n",
       "  <clipPath id=\"clip721\">\n",
       "    <rect x=\"480\" y=\"0\" width=\"1681\" height=\"1600\"/>\n",
       "  </clipPath>\n",
       "</defs>\n",
       "<path clip-path=\"url(#clip720)\" d=\"M219.866 1423.18 L2352.76 1423.18 L2352.76 123.472 L219.866 123.472  Z\" fill=\"#ffffff\" fill-rule=\"evenodd\" fill-opacity=\"1\"/>\n",
       "<defs>\n",
       "  <clipPath id=\"clip722\">\n",
       "    <rect x=\"219\" y=\"123\" width=\"2134\" height=\"1301\"/>\n",
       "  </clipPath>\n",
       "</defs>\n",
       "<polyline clip-path=\"url(#clip722)\" style=\"stroke:#000000; stroke-linecap:round; stroke-linejoin:round; stroke-width:2; stroke-opacity:0.1; fill:none\" points=\"536.996,1423.18 536.996,123.472 \"/>\n",
       "<polyline clip-path=\"url(#clip722)\" style=\"stroke:#000000; stroke-linecap:round; stroke-linejoin:round; stroke-width:2; stroke-opacity:0.1; fill:none\" points=\"1036.54,1423.18 1036.54,123.472 \"/>\n",
       "<polyline clip-path=\"url(#clip722)\" style=\"stroke:#000000; stroke-linecap:round; stroke-linejoin:round; stroke-width:2; stroke-opacity:0.1; fill:none\" points=\"1536.08,1423.18 1536.08,123.472 \"/>\n",
       "<polyline clip-path=\"url(#clip722)\" style=\"stroke:#000000; stroke-linecap:round; stroke-linejoin:round; stroke-width:2; stroke-opacity:0.1; fill:none\" points=\"2035.63,1423.18 2035.63,123.472 \"/>\n",
       "<polyline clip-path=\"url(#clip720)\" style=\"stroke:#000000; stroke-linecap:round; stroke-linejoin:round; stroke-width:4; stroke-opacity:1; fill:none\" points=\"219.866,1423.18 2352.76,1423.18 \"/>\n",
       "<polyline clip-path=\"url(#clip720)\" style=\"stroke:#000000; stroke-linecap:round; stroke-linejoin:round; stroke-width:4; stroke-opacity:1; fill:none\" points=\"536.996,1423.18 536.996,1404.28 \"/>\n",
       "<polyline clip-path=\"url(#clip720)\" style=\"stroke:#000000; stroke-linecap:round; stroke-linejoin:round; stroke-width:4; stroke-opacity:1; fill:none\" points=\"1036.54,1423.18 1036.54,1404.28 \"/>\n",
       "<polyline clip-path=\"url(#clip720)\" style=\"stroke:#000000; stroke-linecap:round; stroke-linejoin:round; stroke-width:4; stroke-opacity:1; fill:none\" points=\"1536.08,1423.18 1536.08,1404.28 \"/>\n",
       "<polyline clip-path=\"url(#clip720)\" style=\"stroke:#000000; stroke-linecap:round; stroke-linejoin:round; stroke-width:4; stroke-opacity:1; fill:none\" points=\"2035.63,1423.18 2035.63,1404.28 \"/>\n",
       "<path clip-path=\"url(#clip720)\" d=\"M445.411 1451.02 L450.087 1451.02 L450.087 1481.64 L466.916 1481.64 L466.916 1485.58 L445.411 1485.58 L445.411 1451.02 Z\" fill=\"#000000\" fill-rule=\"nonzero\" fill-opacity=\"1\" /><path clip-path=\"url(#clip720)\" d=\"M471.638 1459.65 L475.897 1459.65 L475.897 1485.58 L471.638 1485.58 L471.638 1459.65 M471.638 1449.56 L475.897 1449.56 L475.897 1454.96 L471.638 1454.96 L471.638 1449.56 Z\" fill=\"#000000\" fill-rule=\"nonzero\" fill-opacity=\"1\" /><path clip-path=\"url(#clip720)\" d=\"M506.36 1469.93 L506.36 1485.58 L502.101 1485.58 L502.101 1470.07 Q502.101 1466.39 500.665 1464.56 Q499.23 1462.73 496.36 1462.73 Q492.911 1462.73 490.92 1464.93 Q488.929 1467.13 488.929 1470.93 L488.929 1485.58 L484.647 1485.58 L484.647 1459.65 L488.929 1459.65 L488.929 1463.68 Q490.457 1461.34 492.517 1460.19 Q494.601 1459.03 497.309 1459.03 Q501.777 1459.03 504.068 1461.81 Q506.36 1464.56 506.36 1469.93 Z\" fill=\"#000000\" fill-rule=\"nonzero\" fill-opacity=\"1\" /><path clip-path=\"url(#clip720)\" d=\"M537.031 1471.55 L537.031 1473.64 L517.448 1473.64 Q517.726 1478.03 520.087 1480.35 Q522.471 1482.64 526.707 1482.64 Q529.161 1482.64 531.452 1482.04 Q533.767 1481.44 536.036 1480.23 L536.036 1484.26 Q533.744 1485.23 531.337 1485.74 Q528.929 1486.25 526.452 1486.25 Q520.249 1486.25 516.614 1482.64 Q513.003 1479.03 513.003 1472.87 Q513.003 1466.51 516.429 1462.78 Q519.878 1459.03 525.712 1459.03 Q530.943 1459.03 533.975 1462.41 Q537.031 1465.77 537.031 1471.55 M532.772 1470.3 Q532.725 1466.81 530.804 1464.72 Q528.906 1462.64 525.758 1462.64 Q522.193 1462.64 520.04 1464.65 Q517.911 1466.67 517.587 1470.33 L532.772 1470.3 Z\" fill=\"#000000\" fill-rule=\"nonzero\" fill-opacity=\"1\" /><path clip-path=\"url(#clip720)\" d=\"M555.804 1472.55 Q550.642 1472.55 548.651 1473.73 Q546.661 1474.91 546.661 1477.76 Q546.661 1480.02 548.142 1481.37 Q549.647 1482.69 552.216 1482.69 Q555.758 1482.69 557.887 1480.19 Q560.04 1477.66 560.04 1473.5 L560.04 1472.55 L555.804 1472.55 M564.299 1470.79 L564.299 1485.58 L560.04 1485.58 L560.04 1481.64 Q558.582 1484.01 556.406 1485.14 Q554.23 1486.25 551.082 1486.25 Q547.1 1486.25 544.739 1484.03 Q542.401 1481.78 542.401 1478.03 Q542.401 1473.66 545.318 1471.44 Q548.258 1469.21 554.068 1469.21 L560.04 1469.21 L560.04 1468.8 Q560.04 1465.86 558.096 1464.26 Q556.174 1462.64 552.679 1462.64 Q550.457 1462.64 548.35 1463.17 Q546.244 1463.7 544.299 1464.77 L544.299 1460.83 Q546.637 1459.93 548.836 1459.49 Q551.036 1459.03 553.119 1459.03 Q558.744 1459.03 561.522 1461.95 Q564.299 1464.86 564.299 1470.79 Z\" fill=\"#000000\" fill-rule=\"nonzero\" fill-opacity=\"1\" /><path clip-path=\"url(#clip720)\" d=\"M588.096 1463.64 Q587.378 1463.22 586.521 1463.03 Q585.688 1462.83 584.67 1462.83 Q581.059 1462.83 579.114 1465.19 Q577.193 1467.52 577.193 1471.92 L577.193 1485.58 L572.91 1485.58 L572.91 1459.65 L577.193 1459.65 L577.193 1463.68 Q578.535 1461.32 580.688 1460.19 Q582.841 1459.03 585.92 1459.03 Q586.359 1459.03 586.892 1459.1 Q587.424 1459.14 588.072 1459.26 L588.096 1463.64 Z\" fill=\"#000000\" fill-rule=\"nonzero\" fill-opacity=\"1\" /><path clip-path=\"url(#clip720)\" d=\"M612.262 1481.64 L628.581 1481.64 L628.581 1485.58 L606.637 1485.58 L606.637 1481.64 Q609.299 1478.89 613.882 1474.26 Q618.489 1469.61 619.669 1468.27 Q621.915 1465.74 622.794 1464.01 Q623.697 1462.25 623.697 1460.56 Q623.697 1457.8 621.753 1456.07 Q619.831 1454.33 616.73 1454.33 Q614.531 1454.33 612.077 1455.09 Q609.646 1455.86 606.869 1457.41 L606.869 1452.69 Q609.693 1451.55 612.146 1450.97 Q614.6 1450.39 616.637 1450.39 Q622.007 1450.39 625.202 1453.08 Q628.396 1455.77 628.396 1460.26 Q628.396 1462.39 627.586 1464.31 Q626.799 1466.2 624.693 1468.8 Q624.114 1469.47 621.012 1472.69 Q617.91 1475.88 612.262 1481.64 Z\" fill=\"#000000\" fill-rule=\"nonzero\" fill-opacity=\"1\" /><path clip-path=\"url(#clip720)\" d=\"M944.202 1451.02 L948.878 1451.02 L948.878 1481.64 L965.707 1481.64 L965.707 1485.58 L944.202 1485.58 L944.202 1451.02 Z\" fill=\"#000000\" fill-rule=\"nonzero\" fill-opacity=\"1\" /><path clip-path=\"url(#clip720)\" d=\"M970.429 1459.65 L974.688 1459.65 L974.688 1485.58 L970.429 1485.58 L970.429 1459.65 M970.429 1449.56 L974.688 1449.56 L974.688 1454.96 L970.429 1454.96 L970.429 1449.56 Z\" fill=\"#000000\" fill-rule=\"nonzero\" fill-opacity=\"1\" /><path clip-path=\"url(#clip720)\" d=\"M1005.15 1469.93 L1005.15 1485.58 L1000.89 1485.58 L1000.89 1470.07 Q1000.89 1466.39 999.456 1464.56 Q998.021 1462.73 995.151 1462.73 Q991.702 1462.73 989.711 1464.93 Q987.72 1467.13 987.72 1470.93 L987.72 1485.58 L983.438 1485.58 L983.438 1459.65 L987.72 1459.65 L987.72 1463.68 Q989.248 1461.34 991.308 1460.19 Q993.392 1459.03 996.1 1459.03 Q1000.57 1459.03 1002.86 1461.81 Q1005.15 1464.56 1005.15 1469.93 Z\" fill=\"#000000\" fill-rule=\"nonzero\" fill-opacity=\"1\" /><path clip-path=\"url(#clip720)\" d=\"M1035.82 1471.55 L1035.82 1473.64 L1016.24 1473.64 Q1016.52 1478.03 1018.88 1480.35 Q1021.26 1482.64 1025.5 1482.64 Q1027.95 1482.64 1030.24 1482.04 Q1032.56 1481.44 1034.83 1480.23 L1034.83 1484.26 Q1032.53 1485.23 1030.13 1485.74 Q1027.72 1486.25 1025.24 1486.25 Q1019.04 1486.25 1015.41 1482.64 Q1011.79 1479.03 1011.79 1472.87 Q1011.79 1466.51 1015.22 1462.78 Q1018.67 1459.03 1024.5 1459.03 Q1029.73 1459.03 1032.77 1462.41 Q1035.82 1465.77 1035.82 1471.55 M1031.56 1470.3 Q1031.52 1466.81 1029.6 1464.72 Q1027.7 1462.64 1024.55 1462.64 Q1020.98 1462.64 1018.83 1464.65 Q1016.7 1466.67 1016.38 1470.33 L1031.56 1470.3 Z\" fill=\"#000000\" fill-rule=\"nonzero\" fill-opacity=\"1\" /><path clip-path=\"url(#clip720)\" d=\"M1054.59 1472.55 Q1049.43 1472.55 1047.44 1473.73 Q1045.45 1474.91 1045.45 1477.76 Q1045.45 1480.02 1046.93 1481.37 Q1048.44 1482.69 1051.01 1482.69 Q1054.55 1482.69 1056.68 1480.19 Q1058.83 1477.66 1058.83 1473.5 L1058.83 1472.55 L1054.59 1472.55 M1063.09 1470.79 L1063.09 1485.58 L1058.83 1485.58 L1058.83 1481.64 Q1057.37 1484.01 1055.2 1485.14 Q1053.02 1486.25 1049.87 1486.25 Q1045.89 1486.25 1043.53 1484.03 Q1041.19 1481.78 1041.19 1478.03 Q1041.19 1473.66 1044.11 1471.44 Q1047.05 1469.21 1052.86 1469.21 L1058.83 1469.21 L1058.83 1468.8 Q1058.83 1465.86 1056.89 1464.26 Q1054.97 1462.64 1051.47 1462.64 Q1049.25 1462.64 1047.14 1463.17 Q1045.03 1463.7 1043.09 1464.77 L1043.09 1460.83 Q1045.43 1459.93 1047.63 1459.49 Q1049.83 1459.03 1051.91 1459.03 Q1057.53 1459.03 1060.31 1461.95 Q1063.09 1464.86 1063.09 1470.79 Z\" fill=\"#000000\" fill-rule=\"nonzero\" fill-opacity=\"1\" /><path clip-path=\"url(#clip720)\" d=\"M1086.89 1463.64 Q1086.17 1463.22 1085.31 1463.03 Q1084.48 1462.83 1083.46 1462.83 Q1079.85 1462.83 1077.91 1465.19 Q1075.98 1467.52 1075.98 1471.92 L1075.98 1485.58 L1071.7 1485.58 L1071.7 1459.65 L1075.98 1459.65 L1075.98 1463.68 Q1077.33 1461.32 1079.48 1460.19 Q1081.63 1459.03 1084.71 1459.03 Q1085.15 1459.03 1085.68 1459.1 Q1086.22 1459.14 1086.86 1459.26 L1086.89 1463.64 Z\" fill=\"#000000\" fill-rule=\"nonzero\" fill-opacity=\"1\" /><path clip-path=\"url(#clip720)\" d=\"M1117.03 1469.17 Q1113.69 1469.17 1111.77 1470.95 Q1109.87 1472.73 1109.87 1475.86 Q1109.87 1478.98 1111.77 1480.77 Q1113.69 1482.55 1117.03 1482.55 Q1120.36 1482.55 1122.28 1480.77 Q1124.2 1478.96 1124.2 1475.86 Q1124.2 1472.73 1122.28 1470.95 Q1120.38 1469.17 1117.03 1469.17 M1112.35 1467.18 Q1109.34 1466.44 1107.65 1464.38 Q1105.98 1462.32 1105.98 1459.35 Q1105.98 1455.21 1108.92 1452.8 Q1111.89 1450.39 1117.03 1450.39 Q1122.19 1450.39 1125.13 1452.8 Q1128.07 1455.21 1128.07 1459.35 Q1128.07 1462.32 1126.38 1464.38 Q1124.71 1466.44 1121.72 1467.18 Q1125.1 1467.96 1126.98 1470.26 Q1128.88 1472.55 1128.88 1475.86 Q1128.88 1480.88 1125.8 1483.57 Q1122.74 1486.25 1117.03 1486.25 Q1111.31 1486.25 1108.23 1483.57 Q1105.17 1480.88 1105.17 1475.86 Q1105.17 1472.55 1107.07 1470.26 Q1108.97 1467.96 1112.35 1467.18 M1110.64 1459.79 Q1110.64 1462.48 1112.3 1463.98 Q1113.99 1465.49 1117.03 1465.49 Q1120.03 1465.49 1121.72 1463.98 Q1123.44 1462.48 1123.44 1459.79 Q1123.44 1457.11 1121.72 1455.6 Q1120.03 1454.1 1117.03 1454.1 Q1113.99 1454.1 1112.3 1455.6 Q1110.64 1457.11 1110.64 1459.79 Z\" fill=\"#000000\" fill-rule=\"nonzero\" fill-opacity=\"1\" /><path clip-path=\"url(#clip720)\" d=\"M1443.7 1451.02 L1448.37 1451.02 L1448.37 1465.63 L1463.88 1451.02 L1469.9 1451.02 L1452.75 1467.13 L1471.13 1485.58 L1464.97 1485.58 L1448.37 1468.94 L1448.37 1485.58 L1443.7 1485.58 L1443.7 1451.02 Z\" fill=\"#000000\" fill-rule=\"nonzero\" fill-opacity=\"1\" /><path clip-path=\"url(#clip720)\" d=\"M1494.42 1471.55 L1494.42 1473.64 L1474.83 1473.64 Q1475.11 1478.03 1477.47 1480.35 Q1479.86 1482.64 1484.09 1482.64 Q1486.55 1482.64 1488.84 1482.04 Q1491.15 1481.44 1493.42 1480.23 L1493.42 1484.26 Q1491.13 1485.23 1488.72 1485.74 Q1486.31 1486.25 1483.84 1486.25 Q1477.63 1486.25 1474 1482.64 Q1470.39 1479.03 1470.39 1472.87 Q1470.39 1466.51 1473.81 1462.78 Q1477.26 1459.03 1483.1 1459.03 Q1488.33 1459.03 1491.36 1462.41 Q1494.42 1465.77 1494.42 1471.55 M1490.16 1470.3 Q1490.11 1466.81 1488.19 1464.72 Q1486.29 1462.64 1483.14 1462.64 Q1479.58 1462.64 1477.43 1464.65 Q1475.3 1466.67 1474.97 1470.33 L1490.16 1470.3 Z\" fill=\"#000000\" fill-rule=\"nonzero\" fill-opacity=\"1\" /><path clip-path=\"url(#clip720)\" d=\"M1516.43 1463.64 Q1515.71 1463.22 1514.86 1463.03 Q1514.02 1462.83 1513 1462.83 Q1509.39 1462.83 1507.45 1465.19 Q1505.53 1467.52 1505.53 1471.92 L1505.53 1485.58 L1501.24 1485.58 L1501.24 1459.65 L1505.53 1459.65 L1505.53 1463.68 Q1506.87 1461.32 1509.02 1460.19 Q1511.18 1459.03 1514.25 1459.03 Q1514.69 1459.03 1515.23 1459.1 Q1515.76 1459.14 1516.41 1459.26 L1516.43 1463.64 Z\" fill=\"#000000\" fill-rule=\"nonzero\" fill-opacity=\"1\" /><path clip-path=\"url(#clip720)\" d=\"M1541.62 1469.93 L1541.62 1485.58 L1537.36 1485.58 L1537.36 1470.07 Q1537.36 1466.39 1535.92 1464.56 Q1534.49 1462.73 1531.62 1462.73 Q1528.17 1462.73 1526.18 1464.93 Q1524.18 1467.13 1524.18 1470.93 L1524.18 1485.58 L1519.9 1485.58 L1519.9 1459.65 L1524.18 1459.65 L1524.18 1463.68 Q1525.71 1461.34 1527.77 1460.19 Q1529.86 1459.03 1532.56 1459.03 Q1537.03 1459.03 1539.32 1461.81 Q1541.62 1464.56 1541.62 1469.93 Z\" fill=\"#000000\" fill-rule=\"nonzero\" fill-opacity=\"1\" /><path clip-path=\"url(#clip720)\" d=\"M1572.29 1471.55 L1572.29 1473.64 L1552.7 1473.64 Q1552.98 1478.03 1555.34 1480.35 Q1557.73 1482.64 1561.96 1482.64 Q1564.42 1482.64 1566.71 1482.04 Q1569.02 1481.44 1571.29 1480.23 L1571.29 1484.26 Q1569 1485.23 1566.59 1485.74 Q1564.18 1486.25 1561.71 1486.25 Q1555.5 1486.25 1551.87 1482.64 Q1548.26 1479.03 1548.26 1472.87 Q1548.26 1466.51 1551.68 1462.78 Q1555.13 1459.03 1560.97 1459.03 Q1566.2 1459.03 1569.23 1462.41 Q1572.29 1465.77 1572.29 1471.55 M1568.03 1470.3 Q1567.98 1466.81 1566.06 1464.72 Q1564.16 1462.64 1561.01 1462.64 Q1557.45 1462.64 1555.3 1464.65 Q1553.17 1466.67 1552.84 1470.33 L1568.03 1470.3 Z\" fill=\"#000000\" fill-rule=\"nonzero\" fill-opacity=\"1\" /><path clip-path=\"url(#clip720)\" d=\"M1579.28 1449.56 L1583.54 1449.56 L1583.54 1485.58 L1579.28 1485.58 L1579.28 1449.56 Z\" fill=\"#000000\" fill-rule=\"nonzero\" fill-opacity=\"1\" /><path clip-path=\"url(#clip720)\" d=\"M1612.15 1481.64 L1628.47 1481.64 L1628.47 1485.58 L1606.52 1485.58 L1606.52 1481.64 Q1609.18 1478.89 1613.77 1474.26 Q1618.37 1469.61 1619.55 1468.27 Q1621.8 1465.74 1622.68 1464.01 Q1623.58 1462.25 1623.58 1460.56 Q1623.58 1457.8 1621.64 1456.07 Q1619.72 1454.33 1616.61 1454.33 Q1614.42 1454.33 1611.96 1455.09 Q1609.53 1455.86 1606.75 1457.41 L1606.75 1452.69 Q1609.58 1451.55 1612.03 1450.97 Q1614.49 1450.39 1616.52 1450.39 Q1621.89 1450.39 1625.09 1453.08 Q1628.28 1455.77 1628.28 1460.26 Q1628.28 1462.39 1627.47 1464.31 Q1626.68 1466.2 1624.58 1468.8 Q1624 1469.47 1620.9 1472.69 Q1617.8 1475.88 1612.15 1481.64 Z\" fill=\"#000000\" fill-rule=\"nonzero\" fill-opacity=\"1\" /><path clip-path=\"url(#clip720)\" d=\"M1942.49 1451.02 L1947.17 1451.02 L1947.17 1465.63 L1962.67 1451.02 L1968.69 1451.02 L1951.54 1467.13 L1969.92 1485.58 L1963.76 1485.58 L1947.17 1468.94 L1947.17 1485.58 L1942.49 1485.58 L1942.49 1451.02 Z\" fill=\"#000000\" fill-rule=\"nonzero\" fill-opacity=\"1\" /><path clip-path=\"url(#clip720)\" d=\"M1993.21 1471.55 L1993.21 1473.64 L1973.62 1473.64 Q1973.9 1478.03 1976.26 1480.35 Q1978.65 1482.64 1982.88 1482.64 Q1985.34 1482.64 1987.63 1482.04 Q1989.94 1481.44 1992.21 1480.23 L1992.21 1484.26 Q1989.92 1485.23 1987.51 1485.74 Q1985.11 1486.25 1982.63 1486.25 Q1976.42 1486.25 1972.79 1482.64 Q1969.18 1479.03 1969.18 1472.87 Q1969.18 1466.51 1972.61 1462.78 Q1976.05 1459.03 1981.89 1459.03 Q1987.12 1459.03 1990.15 1462.41 Q1993.21 1465.77 1993.21 1471.55 M1988.95 1470.3 Q1988.9 1466.81 1986.98 1464.72 Q1985.08 1462.64 1981.93 1462.64 Q1978.37 1462.64 1976.22 1464.65 Q1974.09 1466.67 1973.76 1470.33 L1988.95 1470.3 Z\" fill=\"#000000\" fill-rule=\"nonzero\" fill-opacity=\"1\" /><path clip-path=\"url(#clip720)\" d=\"M2015.22 1463.64 Q2014.5 1463.22 2013.65 1463.03 Q2012.81 1462.83 2011.8 1462.83 Q2008.18 1462.83 2006.24 1465.19 Q2004.32 1467.52 2004.32 1471.92 L2004.32 1485.58 L2000.04 1485.58 L2000.04 1459.65 L2004.32 1459.65 L2004.32 1463.68 Q2005.66 1461.32 2007.81 1460.19 Q2009.97 1459.03 2013.04 1459.03 Q2013.48 1459.03 2014.02 1459.1 Q2014.55 1459.14 2015.2 1459.26 L2015.22 1463.64 Z\" fill=\"#000000\" fill-rule=\"nonzero\" fill-opacity=\"1\" /><path clip-path=\"url(#clip720)\" d=\"M2040.41 1469.93 L2040.41 1485.58 L2036.15 1485.58 L2036.15 1470.07 Q2036.15 1466.39 2034.71 1464.56 Q2033.28 1462.73 2030.41 1462.73 Q2026.96 1462.73 2024.97 1464.93 Q2022.98 1467.13 2022.98 1470.93 L2022.98 1485.58 L2018.69 1485.58 L2018.69 1459.65 L2022.98 1459.65 L2022.98 1463.68 Q2024.5 1461.34 2026.56 1460.19 Q2028.65 1459.03 2031.36 1459.03 Q2035.82 1459.03 2038.11 1461.81 Q2040.41 1464.56 2040.41 1469.93 Z\" fill=\"#000000\" fill-rule=\"nonzero\" fill-opacity=\"1\" /><path clip-path=\"url(#clip720)\" d=\"M2071.08 1471.55 L2071.08 1473.64 L2051.49 1473.64 Q2051.77 1478.03 2054.13 1480.35 Q2056.52 1482.64 2060.75 1482.64 Q2063.21 1482.64 2065.5 1482.04 Q2067.81 1481.44 2070.08 1480.23 L2070.08 1484.26 Q2067.79 1485.23 2065.38 1485.74 Q2062.98 1486.25 2060.5 1486.25 Q2054.29 1486.25 2050.66 1482.64 Q2047.05 1479.03 2047.05 1472.87 Q2047.05 1466.51 2050.48 1462.78 Q2053.92 1459.03 2059.76 1459.03 Q2064.99 1459.03 2068.02 1462.41 Q2071.08 1465.77 2071.08 1471.55 M2066.82 1470.3 Q2066.77 1466.81 2064.85 1464.72 Q2062.95 1462.64 2059.8 1462.64 Q2056.24 1462.64 2054.09 1464.65 Q2051.96 1466.67 2051.63 1470.33 L2066.82 1470.3 Z\" fill=\"#000000\" fill-rule=\"nonzero\" fill-opacity=\"1\" /><path clip-path=\"url(#clip720)\" d=\"M2078.07 1449.56 L2082.33 1449.56 L2082.33 1485.58 L2078.07 1485.58 L2078.07 1449.56 Z\" fill=\"#000000\" fill-rule=\"nonzero\" fill-opacity=\"1\" /><path clip-path=\"url(#clip720)\" d=\"M2116.91 1469.17 Q2113.58 1469.17 2111.66 1470.95 Q2109.76 1472.73 2109.76 1475.86 Q2109.76 1478.98 2111.66 1480.77 Q2113.58 1482.55 2116.91 1482.55 Q2120.24 1482.55 2122.16 1480.77 Q2124.09 1478.96 2124.09 1475.86 Q2124.09 1472.73 2122.16 1470.95 Q2120.27 1469.17 2116.91 1469.17 M2112.23 1467.18 Q2109.23 1466.44 2107.54 1464.38 Q2105.87 1462.32 2105.87 1459.35 Q2105.87 1455.21 2108.81 1452.8 Q2111.77 1450.39 2116.91 1450.39 Q2122.07 1450.39 2125.01 1452.8 Q2127.95 1455.21 2127.95 1459.35 Q2127.95 1462.32 2126.26 1464.38 Q2124.6 1466.44 2121.61 1467.18 Q2124.99 1467.96 2126.86 1470.26 Q2128.76 1472.55 2128.76 1475.86 Q2128.76 1480.88 2125.68 1483.57 Q2122.63 1486.25 2116.91 1486.25 Q2111.19 1486.25 2108.11 1483.57 Q2105.06 1480.88 2105.06 1475.86 Q2105.06 1472.55 2106.96 1470.26 Q2108.85 1467.96 2112.23 1467.18 M2110.52 1459.79 Q2110.52 1462.48 2112.19 1463.98 Q2113.88 1465.49 2116.91 1465.49 Q2119.92 1465.49 2121.61 1463.98 Q2123.32 1462.48 2123.32 1459.79 Q2123.32 1457.11 2121.61 1455.6 Q2119.92 1454.1 2116.91 1454.1 Q2113.88 1454.1 2112.19 1455.6 Q2110.52 1457.11 2110.52 1459.79 Z\" fill=\"#000000\" fill-rule=\"nonzero\" fill-opacity=\"1\" /><path clip-path=\"url(#clip720)\" d=\"M1033.72 1520.52 L1043.3 1520.52 L1055.43 1552.86 L1067.62 1520.52 L1077.2 1520.52 L1077.2 1568.04 L1070.93 1568.04 L1070.93 1526.32 L1058.67 1558.91 L1052.21 1558.91 L1039.96 1526.32 L1039.96 1568.04 L1033.72 1568.04 L1033.72 1520.52 Z\" fill=\"#000000\" fill-rule=\"nonzero\" fill-opacity=\"1\" /><path clip-path=\"url(#clip720)\" d=\"M1103.52 1536.5 Q1098.81 1536.5 1096.07 1540.19 Q1093.33 1543.85 1093.33 1550.25 Q1093.33 1556.65 1096.04 1560.34 Q1098.78 1564 1103.52 1564 Q1108.2 1564 1110.94 1560.31 Q1113.67 1556.62 1113.67 1550.25 Q1113.67 1543.92 1110.94 1540.23 Q1108.2 1536.5 1103.52 1536.5 M1103.52 1531.54 Q1111.16 1531.54 1115.52 1536.5 Q1119.88 1541.47 1119.88 1550.25 Q1119.88 1559 1115.52 1564 Q1111.16 1568.97 1103.52 1568.97 Q1095.85 1568.97 1091.49 1564 Q1087.16 1559 1087.16 1550.25 Q1087.16 1541.47 1091.49 1536.5 Q1095.85 1531.54 1103.52 1531.54 Z\" fill=\"#000000\" fill-rule=\"nonzero\" fill-opacity=\"1\" /><path clip-path=\"url(#clip720)\" d=\"M1153.05 1537.81 L1153.05 1518.52 L1158.9 1518.52 L1158.9 1568.04 L1153.05 1568.04 L1153.05 1562.7 Q1151.2 1565.88 1148.37 1567.44 Q1145.57 1568.97 1141.62 1568.97 Q1135.16 1568.97 1131.08 1563.81 Q1127.04 1558.65 1127.04 1550.25 Q1127.04 1541.85 1131.08 1536.69 Q1135.16 1531.54 1141.62 1531.54 Q1145.57 1531.54 1148.37 1533.1 Q1151.2 1534.62 1153.05 1537.81 M1133.09 1550.25 Q1133.09 1556.71 1135.73 1560.4 Q1138.4 1564.07 1143.05 1564.07 Q1147.7 1564.07 1150.37 1560.4 Q1153.05 1556.71 1153.05 1550.25 Q1153.05 1543.79 1150.37 1540.13 Q1147.7 1536.44 1143.05 1536.44 Q1138.4 1536.44 1135.73 1540.13 Q1133.09 1543.79 1133.09 1550.25 Z\" fill=\"#000000\" fill-rule=\"nonzero\" fill-opacity=\"1\" /><path clip-path=\"url(#clip720)\" d=\"M1201.46 1548.76 L1201.46 1551.62 L1174.53 1551.62 Q1174.91 1557.67 1178.16 1560.85 Q1181.44 1564 1187.26 1564 Q1190.63 1564 1193.79 1563.17 Q1196.97 1562.35 1200.09 1560.69 L1200.09 1566.23 Q1196.94 1567.57 1193.63 1568.27 Q1190.32 1568.97 1186.91 1568.97 Q1178.38 1568.97 1173.38 1564 Q1168.42 1559.04 1168.42 1550.57 Q1168.42 1541.82 1173.13 1536.69 Q1177.87 1531.54 1185.89 1531.54 Q1193.09 1531.54 1197.25 1536.18 Q1201.46 1540.8 1201.46 1548.76 M1195.6 1547.04 Q1195.54 1542.23 1192.89 1539.37 Q1190.28 1536.5 1185.96 1536.5 Q1181.05 1536.5 1178.09 1539.27 Q1175.17 1542.04 1174.72 1547.07 L1195.6 1547.04 Z\" fill=\"#000000\" fill-rule=\"nonzero\" fill-opacity=\"1\" /><path clip-path=\"url(#clip720)\" d=\"M1211.07 1518.52 L1216.92 1518.52 L1216.92 1568.04 L1211.07 1568.04 L1211.07 1518.52 Z\" fill=\"#000000\" fill-rule=\"nonzero\" fill-opacity=\"1\" /><path clip-path=\"url(#clip720)\" d=\"M1266.1 1550.12 Q1259 1550.12 1256.26 1551.75 Q1253.53 1553.37 1253.53 1557.29 Q1253.53 1560.4 1255.56 1562.25 Q1257.63 1564.07 1261.17 1564.07 Q1266.04 1564.07 1268.96 1560.63 Q1271.92 1557.16 1271.92 1551.43 L1271.92 1550.12 L1266.1 1550.12 M1277.78 1547.71 L1277.78 1568.04 L1271.92 1568.04 L1271.92 1562.63 Q1269.92 1565.88 1266.93 1567.44 Q1263.94 1568.97 1259.61 1568.97 Q1254.13 1568.97 1250.89 1565.91 Q1247.67 1562.82 1247.67 1557.67 Q1247.67 1551.65 1251.68 1548.6 Q1255.72 1545.54 1263.71 1545.54 L1271.92 1545.54 L1271.92 1544.97 Q1271.92 1540.93 1269.25 1538.73 Q1266.61 1536.5 1261.8 1536.5 Q1258.75 1536.5 1255.85 1537.23 Q1252.95 1537.97 1250.28 1539.43 L1250.28 1534.02 Q1253.5 1532.78 1256.52 1532.17 Q1259.54 1531.54 1262.41 1531.54 Q1270.14 1531.54 1273.96 1535.55 Q1277.78 1539.56 1277.78 1547.71 Z\" fill=\"#000000\" fill-rule=\"nonzero\" fill-opacity=\"1\" /><path clip-path=\"url(#clip720)\" d=\"M1319.48 1546.53 L1319.48 1568.04 L1313.62 1568.04 L1313.62 1546.72 Q1313.62 1541.66 1311.65 1539.14 Q1309.67 1536.63 1305.73 1536.63 Q1300.98 1536.63 1298.25 1539.65 Q1295.51 1542.68 1295.51 1547.9 L1295.51 1568.04 L1289.62 1568.04 L1289.62 1532.4 L1295.51 1532.4 L1295.51 1537.93 Q1297.61 1534.72 1300.44 1533.13 Q1303.31 1531.54 1307.03 1531.54 Q1313.17 1531.54 1316.33 1535.36 Q1319.48 1539.14 1319.48 1546.53 Z\" fill=\"#000000\" fill-rule=\"nonzero\" fill-opacity=\"1\" /><path clip-path=\"url(#clip720)\" d=\"M1354.62 1537.81 L1354.62 1518.52 L1360.47 1518.52 L1360.47 1568.04 L1354.62 1568.04 L1354.62 1562.7 Q1352.77 1565.88 1349.94 1567.44 Q1347.14 1568.97 1343.19 1568.97 Q1336.73 1568.97 1332.65 1563.81 Q1328.61 1558.65 1328.61 1550.25 Q1328.61 1541.85 1332.65 1536.69 Q1336.73 1531.54 1343.19 1531.54 Q1347.14 1531.54 1349.94 1533.1 Q1352.77 1534.62 1354.62 1537.81 M1334.66 1550.25 Q1334.66 1556.71 1337.3 1560.4 Q1339.97 1564.07 1344.62 1564.07 Q1349.27 1564.07 1351.94 1560.4 Q1354.62 1556.71 1354.62 1550.25 Q1354.62 1543.79 1351.94 1540.13 Q1349.27 1536.44 1344.62 1536.44 Q1339.97 1536.44 1337.3 1540.13 Q1334.66 1543.79 1334.66 1550.25 Z\" fill=\"#000000\" fill-rule=\"nonzero\" fill-opacity=\"1\" /><path clip-path=\"url(#clip720)\" d=\"M1399.94 1525.81 L1399.94 1562.76 L1407.71 1562.76 Q1417.54 1562.76 1422.09 1558.3 Q1426.67 1553.85 1426.67 1544.24 Q1426.67 1534.69 1422.09 1530.26 Q1417.54 1525.81 1407.71 1525.81 L1399.94 1525.81 M1393.51 1520.52 L1406.72 1520.52 Q1420.53 1520.52 1426.99 1526.28 Q1433.45 1532.01 1433.45 1544.24 Q1433.45 1556.52 1426.96 1562.28 Q1420.47 1568.04 1406.72 1568.04 L1393.51 1568.04 L1393.51 1520.52 Z\" fill=\"#000000\" fill-rule=\"nonzero\" fill-opacity=\"1\" /><path clip-path=\"url(#clip720)\" d=\"M1443.45 1532.4 L1449.31 1532.4 L1449.31 1568.04 L1443.45 1568.04 L1443.45 1532.4 M1443.45 1518.52 L1449.31 1518.52 L1449.31 1525.93 L1443.45 1525.93 L1443.45 1518.52 Z\" fill=\"#000000\" fill-rule=\"nonzero\" fill-opacity=\"1\" /><path clip-path=\"url(#clip720)\" d=\"M1485.02 1549.81 Q1485.02 1543.44 1482.37 1539.94 Q1479.76 1536.44 1475.02 1536.44 Q1470.31 1536.44 1467.67 1539.94 Q1465.06 1543.44 1465.06 1549.81 Q1465.06 1556.14 1467.67 1559.64 Q1470.31 1563.14 1475.02 1563.14 Q1479.76 1563.14 1482.37 1559.64 Q1485.02 1556.14 1485.02 1549.81 M1490.87 1563.62 Q1490.87 1572.72 1486.83 1577.15 Q1482.79 1581.6 1474.45 1581.6 Q1471.36 1581.6 1468.62 1581.13 Q1465.89 1580.68 1463.31 1579.72 L1463.31 1574.03 Q1465.89 1575.43 1468.4 1576.1 Q1470.92 1576.76 1473.53 1576.76 Q1479.29 1576.76 1482.15 1573.74 Q1485.02 1570.75 1485.02 1564.67 L1485.02 1561.77 Q1483.2 1564.92 1480.37 1566.48 Q1477.54 1568.04 1473.59 1568.04 Q1467.03 1568.04 1463.02 1563.05 Q1459.01 1558.05 1459.01 1549.81 Q1459.01 1541.53 1463.02 1536.53 Q1467.03 1531.54 1473.59 1531.54 Q1477.54 1531.54 1480.37 1533.1 Q1483.2 1534.66 1485.02 1537.81 L1485.02 1532.4 L1490.87 1532.4 L1490.87 1563.62 Z\" fill=\"#000000\" fill-rule=\"nonzero\" fill-opacity=\"1\" /><path clip-path=\"url(#clip720)\" d=\"M1502.94 1532.4 L1508.79 1532.4 L1508.79 1568.04 L1502.94 1568.04 L1502.94 1532.4 M1502.94 1518.52 L1508.79 1518.52 L1508.79 1525.93 L1502.94 1525.93 L1502.94 1518.52 Z\" fill=\"#000000\" fill-rule=\"nonzero\" fill-opacity=\"1\" /><path clip-path=\"url(#clip720)\" d=\"M1526.84 1522.27 L1526.84 1532.4 L1538.9 1532.4 L1538.9 1536.95 L1526.84 1536.95 L1526.84 1556.3 Q1526.84 1560.66 1528.02 1561.9 Q1529.23 1563.14 1532.89 1563.14 L1538.9 1563.14 L1538.9 1568.04 L1532.89 1568.04 Q1526.11 1568.04 1523.53 1565.53 Q1520.95 1562.98 1520.95 1556.3 L1520.95 1536.95 L1516.65 1536.95 L1516.65 1532.4 L1520.95 1532.4 L1520.95 1522.27 L1526.84 1522.27 Z\" fill=\"#000000\" fill-rule=\"nonzero\" fill-opacity=\"1\" /><polyline clip-path=\"url(#clip722)\" style=\"stroke:#000000; stroke-linecap:round; stroke-linejoin:round; stroke-width:2; stroke-opacity:0.1; fill:none\" points=\"219.866,1423.18 2352.76,1423.18 \"/>\n",
       "<polyline clip-path=\"url(#clip722)\" style=\"stroke:#000000; stroke-linecap:round; stroke-linejoin:round; stroke-width:2; stroke-opacity:0.1; fill:none\" points=\"219.866,1154.32 2352.76,1154.32 \"/>\n",
       "<polyline clip-path=\"url(#clip722)\" style=\"stroke:#000000; stroke-linecap:round; stroke-linejoin:round; stroke-width:2; stroke-opacity:0.1; fill:none\" points=\"219.866,885.468 2352.76,885.468 \"/>\n",
       "<polyline clip-path=\"url(#clip722)\" style=\"stroke:#000000; stroke-linecap:round; stroke-linejoin:round; stroke-width:2; stroke-opacity:0.1; fill:none\" points=\"219.866,616.612 2352.76,616.612 \"/>\n",
       "<polyline clip-path=\"url(#clip722)\" style=\"stroke:#000000; stroke-linecap:round; stroke-linejoin:round; stroke-width:2; stroke-opacity:0.1; fill:none\" points=\"219.866,347.756 2352.76,347.756 \"/>\n",
       "<polyline clip-path=\"url(#clip720)\" style=\"stroke:#000000; stroke-linecap:round; stroke-linejoin:round; stroke-width:4; stroke-opacity:1; fill:none\" points=\"219.866,1423.18 219.866,123.472 \"/>\n",
       "<polyline clip-path=\"url(#clip720)\" style=\"stroke:#000000; stroke-linecap:round; stroke-linejoin:round; stroke-width:4; stroke-opacity:1; fill:none\" points=\"219.866,1423.18 238.764,1423.18 \"/>\n",
       "<polyline clip-path=\"url(#clip720)\" style=\"stroke:#000000; stroke-linecap:round; stroke-linejoin:round; stroke-width:4; stroke-opacity:1; fill:none\" points=\"219.866,1154.32 238.764,1154.32 \"/>\n",
       "<polyline clip-path=\"url(#clip720)\" style=\"stroke:#000000; stroke-linecap:round; stroke-linejoin:round; stroke-width:4; stroke-opacity:1; fill:none\" points=\"219.866,885.468 238.764,885.468 \"/>\n",
       "<polyline clip-path=\"url(#clip720)\" style=\"stroke:#000000; stroke-linecap:round; stroke-linejoin:round; stroke-width:4; stroke-opacity:1; fill:none\" points=\"219.866,616.612 238.764,616.612 \"/>\n",
       "<polyline clip-path=\"url(#clip720)\" style=\"stroke:#000000; stroke-linecap:round; stroke-linejoin:round; stroke-width:4; stroke-opacity:1; fill:none\" points=\"219.866,347.756 238.764,347.756 \"/>\n",
       "<path clip-path=\"url(#clip720)\" d=\"M126.691 1408.98 Q123.08 1408.98 121.251 1412.54 Q119.445 1416.08 119.445 1423.21 Q119.445 1430.32 121.251 1433.89 Q123.08 1437.43 126.691 1437.43 Q130.325 1437.43 132.13 1433.89 Q133.959 1430.32 133.959 1423.21 Q133.959 1416.08 132.13 1412.54 Q130.325 1408.98 126.691 1408.98 M126.691 1405.27 Q132.501 1405.27 135.556 1409.88 Q138.635 1414.46 138.635 1423.21 Q138.635 1431.94 135.556 1436.55 Q132.501 1441.13 126.691 1441.13 Q120.88 1441.13 117.802 1436.55 Q114.746 1431.94 114.746 1423.21 Q114.746 1414.46 117.802 1409.88 Q120.88 1405.27 126.691 1405.27 Z\" fill=\"#000000\" fill-rule=\"nonzero\" fill-opacity=\"1\" /><path clip-path=\"url(#clip720)\" d=\"M146.853 1434.58 L151.737 1434.58 L151.737 1440.46 L146.853 1440.46 L146.853 1434.58 Z\" fill=\"#000000\" fill-rule=\"nonzero\" fill-opacity=\"1\" /><path clip-path=\"url(#clip720)\" d=\"M171.922 1408.98 Q168.311 1408.98 166.482 1412.54 Q164.677 1416.08 164.677 1423.21 Q164.677 1430.32 166.482 1433.89 Q168.311 1437.43 171.922 1437.43 Q175.556 1437.43 177.362 1433.89 Q179.19 1430.32 179.19 1423.21 Q179.19 1416.08 177.362 1412.54 Q175.556 1408.98 171.922 1408.98 M171.922 1405.27 Q177.732 1405.27 180.788 1409.88 Q183.866 1414.46 183.866 1423.21 Q183.866 1431.94 180.788 1436.55 Q177.732 1441.13 171.922 1441.13 Q166.112 1441.13 163.033 1436.55 Q159.978 1431.94 159.978 1423.21 Q159.978 1414.46 163.033 1409.88 Q166.112 1405.27 171.922 1405.27 Z\" fill=\"#000000\" fill-rule=\"nonzero\" fill-opacity=\"1\" /><path clip-path=\"url(#clip720)\" d=\"M128.288 1140.12 Q124.677 1140.12 122.848 1143.69 Q121.043 1147.23 121.043 1154.36 Q121.043 1161.47 122.848 1165.03 Q124.677 1168.57 128.288 1168.57 Q131.922 1168.57 133.728 1165.03 Q135.556 1161.47 135.556 1154.36 Q135.556 1147.23 133.728 1143.69 Q131.922 1140.12 128.288 1140.12 M128.288 1136.42 Q134.098 1136.42 137.154 1141.03 Q140.232 1145.61 140.232 1154.36 Q140.232 1163.09 137.154 1167.69 Q134.098 1172.28 128.288 1172.28 Q122.478 1172.28 119.399 1167.69 Q116.343 1163.09 116.343 1154.36 Q116.343 1145.61 119.399 1141.03 Q122.478 1136.42 128.288 1136.42 Z\" fill=\"#000000\" fill-rule=\"nonzero\" fill-opacity=\"1\" /><path clip-path=\"url(#clip720)\" d=\"M148.45 1165.72 L153.334 1165.72 L153.334 1171.6 L148.45 1171.6 L148.45 1165.72 Z\" fill=\"#000000\" fill-rule=\"nonzero\" fill-opacity=\"1\" /><path clip-path=\"url(#clip720)\" d=\"M167.547 1167.67 L183.866 1167.67 L183.866 1171.6 L161.922 1171.6 L161.922 1167.67 Q164.584 1164.91 169.167 1160.28 Q173.774 1155.63 174.954 1154.29 Q177.2 1151.77 178.079 1150.03 Q178.982 1148.27 178.982 1146.58 Q178.982 1143.83 177.038 1142.09 Q175.116 1140.35 172.014 1140.35 Q169.815 1140.35 167.362 1141.12 Q164.931 1141.88 162.153 1143.43 L162.153 1138.71 Q164.977 1137.58 167.431 1137 Q169.885 1136.42 171.922 1136.42 Q177.292 1136.42 180.487 1139.1 Q183.681 1141.79 183.681 1146.28 Q183.681 1148.41 182.871 1150.33 Q182.084 1152.23 179.977 1154.82 Q179.399 1155.49 176.297 1158.71 Q173.195 1161.9 167.547 1167.67 Z\" fill=\"#000000\" fill-rule=\"nonzero\" fill-opacity=\"1\" /><path clip-path=\"url(#clip720)\" d=\"M126.205 871.267 Q122.593 871.267 120.765 874.831 Q118.959 878.373 118.959 885.503 Q118.959 892.609 120.765 896.174 Q122.593 899.716 126.205 899.716 Q129.839 899.716 131.644 896.174 Q133.473 892.609 133.473 885.503 Q133.473 878.373 131.644 874.831 Q129.839 871.267 126.205 871.267 M126.205 867.563 Q132.015 867.563 135.07 872.169 Q138.149 876.753 138.149 885.503 Q138.149 894.23 135.07 898.836 Q132.015 903.419 126.205 903.419 Q120.394 903.419 117.316 898.836 Q114.26 894.23 114.26 885.503 Q114.26 876.753 117.316 872.169 Q120.394 867.563 126.205 867.563 Z\" fill=\"#000000\" fill-rule=\"nonzero\" fill-opacity=\"1\" /><path clip-path=\"url(#clip720)\" d=\"M146.366 896.868 L151.251 896.868 L151.251 902.748 L146.366 902.748 L146.366 896.868 Z\" fill=\"#000000\" fill-rule=\"nonzero\" fill-opacity=\"1\" /><path clip-path=\"url(#clip720)\" d=\"M174.283 872.262 L162.477 890.711 L174.283 890.711 L174.283 872.262 M173.056 868.188 L178.936 868.188 L178.936 890.711 L183.866 890.711 L183.866 894.6 L178.936 894.6 L178.936 902.748 L174.283 902.748 L174.283 894.6 L158.681 894.6 L158.681 890.086 L173.056 868.188 Z\" fill=\"#000000\" fill-rule=\"nonzero\" fill-opacity=\"1\" /><path clip-path=\"url(#clip720)\" d=\"M126.529 602.411 Q122.918 602.411 121.089 605.976 Q119.283 609.517 119.283 616.647 Q119.283 623.753 121.089 627.318 Q122.918 630.86 126.529 630.86 Q130.163 630.86 131.968 627.318 Q133.797 623.753 133.797 616.647 Q133.797 609.517 131.968 605.976 Q130.163 602.411 126.529 602.411 M126.529 598.707 Q132.339 598.707 135.394 603.314 Q138.473 607.897 138.473 616.647 Q138.473 625.374 135.394 629.98 Q132.339 634.563 126.529 634.563 Q120.718 634.563 117.64 629.98 Q114.584 625.374 114.584 616.647 Q114.584 607.897 117.64 603.314 Q120.718 598.707 126.529 598.707 Z\" fill=\"#000000\" fill-rule=\"nonzero\" fill-opacity=\"1\" /><path clip-path=\"url(#clip720)\" d=\"M146.691 628.012 L151.575 628.012 L151.575 633.892 L146.691 633.892 L146.691 628.012 Z\" fill=\"#000000\" fill-rule=\"nonzero\" fill-opacity=\"1\" /><path clip-path=\"url(#clip720)\" d=\"M172.339 614.749 Q169.19 614.749 167.339 616.901 Q165.51 619.054 165.51 622.804 Q165.51 626.531 167.339 628.707 Q169.19 630.86 172.339 630.86 Q175.487 630.86 177.315 628.707 Q179.167 626.531 179.167 622.804 Q179.167 619.054 177.315 616.901 Q175.487 614.749 172.339 614.749 M181.621 600.096 L181.621 604.355 Q179.862 603.522 178.056 603.082 Q176.274 602.642 174.514 602.642 Q169.885 602.642 167.431 605.767 Q165.001 608.892 164.653 615.212 Q166.019 613.198 168.079 612.133 Q170.139 611.045 172.616 611.045 Q177.825 611.045 180.834 614.216 Q183.866 617.364 183.866 622.804 Q183.866 628.128 180.718 631.346 Q177.57 634.563 172.339 634.563 Q166.343 634.563 163.172 629.98 Q160.001 625.374 160.001 616.647 Q160.001 608.452 163.89 603.591 Q167.778 598.707 174.329 598.707 Q176.089 598.707 177.871 599.054 Q179.676 599.402 181.621 600.096 Z\" fill=\"#000000\" fill-rule=\"nonzero\" fill-opacity=\"1\" /><path clip-path=\"url(#clip720)\" d=\"M126.783 333.555 Q123.172 333.555 121.343 337.12 Q119.538 340.661 119.538 347.791 Q119.538 354.897 121.343 358.462 Q123.172 362.004 126.783 362.004 Q130.417 362.004 132.223 358.462 Q134.052 354.897 134.052 347.791 Q134.052 340.661 132.223 337.12 Q130.417 333.555 126.783 333.555 M126.783 329.851 Q132.593 329.851 135.649 334.458 Q138.728 339.041 138.728 347.791 Q138.728 356.518 135.649 361.124 Q132.593 365.707 126.783 365.707 Q120.973 365.707 117.894 361.124 Q114.839 356.518 114.839 347.791 Q114.839 339.041 117.894 334.458 Q120.973 329.851 126.783 329.851 Z\" fill=\"#000000\" fill-rule=\"nonzero\" fill-opacity=\"1\" /><path clip-path=\"url(#clip720)\" d=\"M146.945 359.157 L151.829 359.157 L151.829 365.036 L146.945 365.036 L146.945 359.157 Z\" fill=\"#000000\" fill-rule=\"nonzero\" fill-opacity=\"1\" /><path clip-path=\"url(#clip720)\" d=\"M172.014 348.624 Q168.681 348.624 166.76 350.407 Q164.862 352.189 164.862 355.314 Q164.862 358.439 166.76 360.221 Q168.681 362.004 172.014 362.004 Q175.348 362.004 177.269 360.221 Q179.19 358.416 179.19 355.314 Q179.19 352.189 177.269 350.407 Q175.371 348.624 172.014 348.624 M167.339 346.633 Q164.329 345.893 162.64 343.833 Q160.973 341.772 160.973 338.809 Q160.973 334.666 163.913 332.259 Q166.876 329.851 172.014 329.851 Q177.176 329.851 180.116 332.259 Q183.056 334.666 183.056 338.809 Q183.056 341.772 181.366 343.833 Q179.7 345.893 176.714 346.633 Q180.093 347.42 181.968 349.712 Q183.866 352.004 183.866 355.314 Q183.866 360.337 180.788 363.022 Q177.732 365.707 172.014 365.707 Q166.297 365.707 163.218 363.022 Q160.163 360.337 160.163 355.314 Q160.163 352.004 162.061 349.712 Q163.959 347.42 167.339 346.633 M165.626 339.249 Q165.626 341.934 167.292 343.439 Q168.982 344.944 172.014 344.944 Q175.024 344.944 176.714 343.439 Q178.426 341.934 178.426 339.249 Q178.426 336.564 176.714 335.059 Q175.024 333.555 172.014 333.555 Q168.982 333.555 167.292 335.059 Q165.626 336.564 165.626 339.249 Z\" fill=\"#000000\" fill-rule=\"nonzero\" fill-opacity=\"1\" /><path clip-path=\"url(#clip720)\" d=\"M22.818 899.128 L46.4666 907.849 L46.4666 890.375 L22.818 899.128 M16.4842 902.757 L16.4842 895.468 L64.0042 877.358 L64.0042 884.042 L51.8138 888.37 L51.8138 909.791 L64.0042 914.12 L64.0042 920.899 L16.4842 902.757 Z\" fill=\"#000000\" fill-rule=\"nonzero\" fill-opacity=\"1\" /><path clip-path=\"url(#clip720)\" d=\"M29.7248 846.166 L35.1993 846.166 Q33.8307 848.648 33.1623 851.163 Q32.4621 853.645 32.4621 856.192 Q32.4621 861.889 36.0905 865.04 Q39.6872 868.191 46.212 868.191 Q52.7369 868.191 56.3653 865.04 Q59.9619 861.889 59.9619 856.192 Q59.9619 853.645 59.2935 851.163 Q58.5933 848.648 57.2247 846.166 L62.6355 846.166 Q63.7814 848.616 64.3543 851.258 Q64.9272 853.868 64.9272 856.828 Q64.9272 864.881 59.8664 869.623 Q54.8057 874.366 46.212 874.366 Q37.491 874.366 32.4939 869.591 Q27.4968 864.785 27.4968 856.446 Q27.4968 853.741 28.0697 851.163 Q28.6108 848.585 29.7248 846.166 Z\" fill=\"#000000\" fill-rule=\"nonzero\" fill-opacity=\"1\" /><path clip-path=\"url(#clip720)\" d=\"M29.7248 810.327 L35.1993 810.327 Q33.8307 812.809 33.1623 815.324 Q32.4621 817.806 32.4621 820.353 Q32.4621 826.05 36.0905 829.201 Q39.6872 832.352 46.212 832.352 Q52.7369 832.352 56.3653 829.201 Q59.9619 826.05 59.9619 820.353 Q59.9619 817.806 59.2935 815.324 Q58.5933 812.809 57.2247 810.327 L62.6355 810.327 Q63.7814 812.777 64.3543 815.419 Q64.9272 818.029 64.9272 820.989 Q64.9272 829.042 59.8664 833.784 Q54.8057 838.527 46.212 838.527 Q37.491 838.527 32.4939 833.752 Q27.4968 828.946 27.4968 820.607 Q27.4968 817.902 28.0697 815.324 Q28.6108 812.746 29.7248 810.327 Z\" fill=\"#000000\" fill-rule=\"nonzero\" fill-opacity=\"1\" /><path clip-path=\"url(#clip720)\" d=\"M49.9359 800.746 L28.3562 800.746 L28.3562 794.89 L49.7131 794.89 Q54.7739 794.89 57.3202 792.916 Q59.8346 790.943 59.8346 786.996 Q59.8346 782.254 56.8109 779.517 Q53.7872 776.748 48.5673 776.748 L28.3562 776.748 L28.3562 770.891 L64.0042 770.891 L64.0042 776.748 L58.5296 776.748 Q61.7762 778.88 63.3676 781.713 Q64.9272 784.514 64.9272 788.238 Q64.9272 794.381 61.1078 797.563 Q57.2883 800.746 49.9359 800.746 M27.4968 786.01 L27.4968 786.01 Z\" fill=\"#000000\" fill-rule=\"nonzero\" fill-opacity=\"1\" /><path clip-path=\"url(#clip720)\" d=\"M33.8307 738.171 Q33.2578 739.158 33.0032 740.336 Q32.7167 741.482 32.7167 742.882 Q32.7167 747.847 35.9632 750.521 Q39.1779 753.163 45.2253 753.163 L64.0042 753.163 L64.0042 759.051 L28.3562 759.051 L28.3562 753.163 L33.8944 753.163 Q30.6479 751.317 29.0883 748.356 Q27.4968 745.396 27.4968 741.163 Q27.4968 740.559 27.5923 739.826 Q27.656 739.094 27.8151 738.203 L33.8307 738.171 Z\" fill=\"#000000\" fill-rule=\"nonzero\" fill-opacity=\"1\" /><path clip-path=\"url(#clip720)\" d=\"M46.0847 715.828 Q46.0847 722.926 47.7079 725.663 Q49.3312 728.4 53.2461 728.4 Q56.3653 728.4 58.2114 726.363 Q60.0256 724.294 60.0256 720.761 Q60.0256 715.891 56.5881 712.963 Q53.1188 710.003 47.3897 710.003 L46.0847 710.003 L46.0847 715.828 M43.6657 704.147 L64.0042 704.147 L64.0042 710.003 L58.5933 710.003 Q61.8398 712.008 63.3994 715 Q64.9272 717.992 64.9272 722.321 Q64.9272 727.795 61.8716 731.042 Q58.7843 734.256 53.6281 734.256 Q47.6125 734.256 44.5569 730.246 Q41.5014 726.204 41.5014 718.215 L41.5014 710.003 L40.9285 710.003 Q36.8862 710.003 34.6901 712.677 Q32.4621 715.318 32.4621 720.125 Q32.4621 723.18 33.1941 726.077 Q33.9262 728.973 35.3903 731.647 L29.9795 731.647 Q28.7381 728.432 28.1334 725.408 Q27.4968 722.384 27.4968 719.52 Q27.4968 711.786 31.5072 707.966 Q35.5176 704.147 43.6657 704.147 Z\" fill=\"#000000\" fill-rule=\"nonzero\" fill-opacity=\"1\" /><path clip-path=\"url(#clip720)\" d=\"M29.7248 666.43 L35.1993 666.43 Q33.8307 668.912 33.1623 671.427 Q32.4621 673.91 32.4621 676.456 Q32.4621 682.153 36.0905 685.304 Q39.6872 688.455 46.212 688.455 Q52.7369 688.455 56.3653 685.304 Q59.9619 682.153 59.9619 676.456 Q59.9619 673.91 59.2935 671.427 Q58.5933 668.912 57.2247 666.43 L62.6355 666.43 Q63.7814 668.881 64.3543 671.522 Q64.9272 674.132 64.9272 677.092 Q64.9272 685.145 59.8664 689.887 Q54.8057 694.63 46.212 694.63 Q37.491 694.63 32.4939 689.856 Q27.4968 685.05 27.4968 676.71 Q27.4968 674.005 28.0697 671.427 Q28.6108 668.849 29.7248 666.43 Z\" fill=\"#000000\" fill-rule=\"nonzero\" fill-opacity=\"1\" /><path clip-path=\"url(#clip720)\" d=\"M67.3143 641.413 Q73.68 643.895 75.6216 646.251 Q77.5631 648.606 77.5631 652.553 L77.5631 657.231 L72.6615 657.231 L72.6615 653.794 Q72.6615 651.375 71.5157 650.038 Q70.3699 648.701 66.1048 647.078 L63.4312 646.028 L28.3562 660.446 L28.3562 654.24 L56.238 643.1 L28.3562 631.96 L28.3562 625.753 L67.3143 641.413 Z\" fill=\"#000000\" fill-rule=\"nonzero\" fill-opacity=\"1\" /><path clip-path=\"url(#clip720)\" d=\"M715.174 14.0809 L715.174 22.0612 Q710.516 19.8332 706.384 18.7395 Q702.252 17.6457 698.403 17.6457 Q691.719 17.6457 688.074 20.2383 Q684.468 22.8309 684.468 27.611 Q684.468 31.6214 686.858 33.6873 Q689.289 35.7128 696.013 36.9686 L700.955 37.9813 Q710.11 39.7232 714.445 44.1387 Q718.82 48.5136 718.82 55.8863 Q718.82 64.6767 712.906 69.2137 Q707.032 73.7508 695.649 73.7508 Q691.355 73.7508 686.494 72.7785 Q681.673 71.8063 676.488 69.9024 L676.488 61.4765 Q681.471 64.2716 686.251 65.6895 Q691.031 67.1073 695.649 67.1073 Q702.657 67.1073 706.465 64.3527 Q710.273 61.598 710.273 56.4939 Q710.273 52.0379 707.518 49.5264 Q704.804 47.0148 698.565 45.759 L693.583 44.7868 Q684.428 42.9639 680.336 39.075 Q676.245 35.1862 676.245 28.2591 Q676.245 20.2383 681.876 15.6203 Q687.547 11.0023 697.472 11.0023 Q701.725 11.0023 706.141 11.7719 Q710.556 12.5416 715.174 14.0809 Z\" fill=\"#000000\" fill-rule=\"nonzero\" fill-opacity=\"1\" /><path clip-path=\"url(#clip720)\" d=\"M747.176 72.576 L724.086 12.096 L732.633 12.096 L751.794 63.0159 L770.996 12.096 L779.502 12.096 L756.453 72.576 L747.176 72.576 Z\" fill=\"#000000\" fill-rule=\"nonzero\" fill-opacity=\"1\" /><path clip-path=\"url(#clip720)\" d=\"M788.333 12.096 L800.527 12.096 L815.961 53.2532 L831.476 12.096 L843.669 12.096 L843.669 72.576 L835.689 72.576 L835.689 19.4686 L820.093 60.9499 L811.869 60.9499 L796.273 19.4686 L796.273 72.576 L788.333 72.576 L788.333 12.096 Z\" fill=\"#000000\" fill-rule=\"nonzero\" fill-opacity=\"1\" /><path clip-path=\"url(#clip720)\" d=\"M931.573 16.7545 L931.573 25.383 Q927.441 21.5346 922.742 19.6307 Q918.084 17.7268 912.818 17.7268 Q902.447 17.7268 896.938 24.0867 Q891.429 30.4061 891.429 42.3968 Q891.429 54.3469 896.938 60.7069 Q902.447 67.0263 912.818 67.0263 Q918.084 67.0263 922.742 65.1223 Q927.441 63.2184 931.573 59.3701 L931.573 67.9175 Q927.279 70.8341 922.459 72.2924 Q917.679 73.7508 912.332 73.7508 Q898.599 73.7508 890.7 65.3654 Q882.801 56.9395 882.801 42.3968 Q882.801 27.8135 890.7 19.4281 Q898.599 11.0023 912.332 11.0023 Q917.76 11.0023 922.54 12.4606 Q927.36 13.8784 931.573 16.7545 Z\" fill=\"#000000\" fill-rule=\"nonzero\" fill-opacity=\"1\" /><path clip-path=\"url(#clip720)\" d=\"M943.888 9.54393 L951.342 9.54393 L951.342 72.576 L943.888 72.576 L943.888 9.54393 Z\" fill=\"#000000\" fill-rule=\"nonzero\" fill-opacity=\"1\" /><path clip-path=\"url(#clip720)\" d=\"M987.557 49.7694 Q978.523 49.7694 975.04 51.8354 Q971.556 53.9013 971.556 58.8839 Q971.556 62.8538 974.148 65.2034 Q976.781 67.5124 981.278 67.5124 Q987.476 67.5124 991.203 63.1374 Q994.97 58.7219 994.97 51.4303 L994.97 49.7694 L987.557 49.7694 M1002.42 46.6907 L1002.42 72.576 L994.97 72.576 L994.97 65.6895 Q992.418 69.8214 988.61 71.8063 Q984.802 73.7508 979.293 73.7508 Q972.325 73.7508 968.194 69.8619 Q964.102 65.9325 964.102 59.3701 Q964.102 51.7138 969.206 47.825 Q974.351 43.9361 984.519 43.9361 L994.97 43.9361 L994.97 43.2069 Q994.97 38.0623 991.567 35.2672 Q988.205 32.4315 982.088 32.4315 Q978.199 32.4315 974.513 33.3632 Q970.827 34.295 967.424 36.1584 L967.424 29.2718 Q971.515 27.692 975.364 26.9223 Q979.212 26.1121 982.858 26.1121 Q992.702 26.1121 997.563 31.2163 Q1002.42 36.3204 1002.42 46.6907 Z\" fill=\"#000000\" fill-rule=\"nonzero\" fill-opacity=\"1\" /><path clip-path=\"url(#clip720)\" d=\"M1046.7 28.5427 L1046.7 35.5912 Q1043.54 33.9709 1040.14 33.1607 Q1036.73 32.3505 1033.09 32.3505 Q1027.54 32.3505 1024.74 34.0519 Q1021.99 35.7533 1021.99 39.156 Q1021.99 41.7486 1023.97 43.2475 Q1025.96 44.7058 1031.95 46.0426 L1034.51 46.6097 Q1042.45 48.3111 1045.77 51.4303 Q1049.13 54.509 1049.13 60.0587 Q1049.13 66.3781 1044.11 70.0644 Q1039.12 73.7508 1030.37 73.7508 Q1026.73 73.7508 1022.76 73.0216 Q1018.83 72.3329 1014.45 70.9151 L1014.45 63.2184 Q1018.59 65.3654 1022.6 66.4591 Q1026.61 67.5124 1030.54 67.5124 Q1035.8 67.5124 1038.64 65.73 Q1041.47 63.9071 1041.47 60.6258 Q1041.47 57.5877 1039.41 55.9673 Q1037.38 54.3469 1030.46 52.8481 L1027.86 52.2405 Q1020.94 50.7821 1017.86 47.7845 Q1014.78 44.7463 1014.78 39.4801 Q1014.78 33.0797 1019.32 29.5959 Q1023.85 26.1121 1032.2 26.1121 Q1036.33 26.1121 1039.98 26.7198 Q1043.62 27.3274 1046.7 28.5427 Z\" fill=\"#000000\" fill-rule=\"nonzero\" fill-opacity=\"1\" /><path clip-path=\"url(#clip720)\" d=\"M1089.92 28.5427 L1089.92 35.5912 Q1086.76 33.9709 1083.36 33.1607 Q1079.96 32.3505 1076.31 32.3505 Q1070.76 32.3505 1067.97 34.0519 Q1065.21 35.7533 1065.21 39.156 Q1065.21 41.7486 1067.2 43.2475 Q1069.18 44.7058 1075.18 46.0426 L1077.73 46.6097 Q1085.67 48.3111 1088.99 51.4303 Q1092.35 54.509 1092.35 60.0587 Q1092.35 66.3781 1087.33 70.0644 Q1082.35 73.7508 1073.6 73.7508 Q1069.95 73.7508 1065.98 73.0216 Q1062.05 72.3329 1057.68 70.9151 L1057.68 63.2184 Q1061.81 65.3654 1065.82 66.4591 Q1069.83 67.5124 1073.76 67.5124 Q1079.03 67.5124 1081.86 65.73 Q1084.7 63.9071 1084.7 60.6258 Q1084.7 57.5877 1082.63 55.9673 Q1080.61 54.3469 1073.68 52.8481 L1071.09 52.2405 Q1064.16 50.7821 1061.08 47.7845 Q1058 44.7463 1058 39.4801 Q1058 33.0797 1062.54 29.5959 Q1067.08 26.1121 1075.42 26.1121 Q1079.55 26.1121 1083.2 26.7198 Q1086.84 27.3274 1089.92 28.5427 Z\" fill=\"#000000\" fill-rule=\"nonzero\" fill-opacity=\"1\" /><path clip-path=\"url(#clip720)\" d=\"M1104.22 27.2059 L1111.68 27.2059 L1111.68 72.576 L1104.22 72.576 L1104.22 27.2059 M1104.22 9.54393 L1111.68 9.54393 L1111.68 18.9825 L1104.22 18.9825 L1104.22 9.54393 Z\" fill=\"#000000\" fill-rule=\"nonzero\" fill-opacity=\"1\" /><path clip-path=\"url(#clip720)\" d=\"M1150.24 9.54393 L1150.24 15.7418 L1143.11 15.7418 Q1139.1 15.7418 1137.52 17.3622 Q1135.98 18.9825 1135.98 23.1955 L1135.98 27.2059 L1148.26 27.2059 L1148.26 32.9987 L1135.98 32.9987 L1135.98 72.576 L1128.49 72.576 L1128.49 32.9987 L1121.36 32.9987 L1121.36 27.2059 L1128.49 27.2059 L1128.49 24.0462 Q1128.49 16.471 1132.01 13.0277 Q1135.54 9.54393 1143.19 9.54393 L1150.24 9.54393 Z\" fill=\"#000000\" fill-rule=\"nonzero\" fill-opacity=\"1\" /><path clip-path=\"url(#clip720)\" d=\"M1156.48 27.2059 L1163.93 27.2059 L1163.93 72.576 L1156.48 72.576 L1156.48 27.2059 M1156.48 9.54393 L1163.93 9.54393 L1163.93 18.9825 L1156.48 18.9825 L1156.48 9.54393 Z\" fill=\"#000000\" fill-rule=\"nonzero\" fill-opacity=\"1\" /><path clip-path=\"url(#clip720)\" d=\"M1212.18 28.9478 L1212.18 35.9153 Q1209.02 34.1734 1205.82 33.3227 Q1202.66 32.4315 1199.42 32.4315 Q1192.17 32.4315 1188.16 37.0496 Q1184.15 41.6271 1184.15 49.9314 Q1184.15 58.2358 1188.16 62.8538 Q1192.17 67.4314 1199.42 67.4314 Q1202.66 67.4314 1205.82 66.5807 Q1209.02 65.6895 1212.18 63.9476 L1212.18 70.8341 Q1209.06 72.2924 1205.7 73.0216 Q1202.38 73.7508 1198.61 73.7508 Q1188.36 73.7508 1182.32 67.3098 Q1176.29 60.8689 1176.29 49.9314 Q1176.29 38.832 1182.36 32.472 Q1188.48 26.1121 1199.1 26.1121 Q1202.54 26.1121 1205.82 26.8413 Q1209.1 27.5299 1212.18 28.9478 Z\" fill=\"#000000\" fill-rule=\"nonzero\" fill-opacity=\"1\" /><path clip-path=\"url(#clip720)\" d=\"M1245.76 49.7694 Q1236.73 49.7694 1233.24 51.8354 Q1229.76 53.9013 1229.76 58.8839 Q1229.76 62.8538 1232.35 65.2034 Q1234.99 67.5124 1239.48 67.5124 Q1245.68 67.5124 1249.41 63.1374 Q1253.17 58.7219 1253.17 51.4303 L1253.17 49.7694 L1245.76 49.7694 M1260.63 46.6907 L1260.63 72.576 L1253.17 72.576 L1253.17 65.6895 Q1250.62 69.8214 1246.81 71.8063 Q1243.01 73.7508 1237.5 73.7508 Q1230.53 73.7508 1226.4 69.8619 Q1222.31 65.9325 1222.31 59.3701 Q1222.31 51.7138 1227.41 47.825 Q1232.56 43.9361 1242.72 43.9361 L1253.17 43.9361 L1253.17 43.2069 Q1253.17 38.0623 1249.77 35.2672 Q1246.41 32.4315 1240.29 32.4315 Q1236.4 32.4315 1232.72 33.3632 Q1229.03 34.295 1225.63 36.1584 L1225.63 29.2718 Q1229.72 27.692 1233.57 26.9223 Q1237.42 26.1121 1241.06 26.1121 Q1250.91 26.1121 1255.77 31.2163 Q1260.63 36.3204 1260.63 46.6907 Z\" fill=\"#000000\" fill-rule=\"nonzero\" fill-opacity=\"1\" /><path clip-path=\"url(#clip720)\" d=\"M1283.35 14.324 L1283.35 27.2059 L1298.71 27.2059 L1298.71 32.9987 L1283.35 32.9987 L1283.35 57.6282 Q1283.35 63.1779 1284.85 64.7578 Q1286.39 66.3376 1291.05 66.3376 L1298.71 66.3376 L1298.71 72.576 L1291.05 72.576 Q1282.42 72.576 1279.14 69.3758 Q1275.86 66.1351 1275.86 57.6282 L1275.86 32.9987 L1270.39 32.9987 L1270.39 27.2059 L1275.86 27.2059 L1275.86 14.324 L1283.35 14.324 Z\" fill=\"#000000\" fill-rule=\"nonzero\" fill-opacity=\"1\" /><path clip-path=\"url(#clip720)\" d=\"M1308.51 27.2059 L1315.96 27.2059 L1315.96 72.576 L1308.51 72.576 L1308.51 27.2059 M1308.51 9.54393 L1315.96 9.54393 L1315.96 18.9825 L1308.51 18.9825 L1308.51 9.54393 Z\" fill=\"#000000\" fill-rule=\"nonzero\" fill-opacity=\"1\" /><path clip-path=\"url(#clip720)\" d=\"M1349.14 32.4315 Q1343.15 32.4315 1339.66 37.1306 Q1336.18 41.7891 1336.18 49.9314 Q1336.18 58.0738 1339.62 62.7728 Q1343.1 67.4314 1349.14 67.4314 Q1355.1 67.4314 1358.58 62.7323 Q1362.06 58.0333 1362.06 49.9314 Q1362.06 41.8701 1358.58 37.1711 Q1355.1 32.4315 1349.14 32.4315 M1349.14 26.1121 Q1358.86 26.1121 1364.41 32.4315 Q1369.96 38.7509 1369.96 49.9314 Q1369.96 61.0714 1364.41 67.4314 Q1358.86 73.7508 1349.14 73.7508 Q1339.38 73.7508 1333.83 67.4314 Q1328.32 61.0714 1328.32 49.9314 Q1328.32 38.7509 1333.83 32.4315 Q1339.38 26.1121 1349.14 26.1121 Z\" fill=\"#000000\" fill-rule=\"nonzero\" fill-opacity=\"1\" /><path clip-path=\"url(#clip720)\" d=\"M1420.03 45.1919 L1420.03 72.576 L1412.58 72.576 L1412.58 45.4349 Q1412.58 38.994 1410.07 35.7938 Q1407.55 32.5936 1402.53 32.5936 Q1396.5 32.5936 1393.01 36.4419 Q1389.53 40.2903 1389.53 46.9338 L1389.53 72.576 L1382.03 72.576 L1382.03 27.2059 L1389.53 27.2059 L1389.53 34.2544 Q1392.2 30.163 1395.81 28.1376 Q1399.45 26.1121 1404.19 26.1121 Q1412.01 26.1121 1416.02 30.9732 Q1420.03 35.7938 1420.03 45.1919 Z\" fill=\"#000000\" fill-rule=\"nonzero\" fill-opacity=\"1\" /><path clip-path=\"url(#clip720)\" d=\"M1481.81 20.1573 L1470.71 50.2555 L1492.95 50.2555 L1481.81 20.1573 M1477.19 12.096 L1486.47 12.096 L1509.52 72.576 L1501.01 72.576 L1495.5 57.061 L1468.24 57.061 L1462.73 72.576 L1454.1 72.576 L1477.19 12.096 Z\" fill=\"#000000\" fill-rule=\"nonzero\" fill-opacity=\"1\" /><path clip-path=\"url(#clip720)\" d=\"M1549.21 28.9478 L1549.21 35.9153 Q1546.06 34.1734 1542.85 33.3227 Q1539.7 32.4315 1536.45 32.4315 Q1529.2 32.4315 1525.19 37.0496 Q1521.18 41.6271 1521.18 49.9314 Q1521.18 58.2358 1525.19 62.8538 Q1529.2 67.4314 1536.45 67.4314 Q1539.7 67.4314 1542.85 66.5807 Q1546.06 65.6895 1549.21 63.9476 L1549.21 70.8341 Q1546.1 72.2924 1542.73 73.0216 Q1539.41 73.7508 1535.64 73.7508 Q1525.4 73.7508 1519.36 67.3098 Q1513.32 60.8689 1513.32 49.9314 Q1513.32 38.832 1519.4 32.472 Q1525.52 26.1121 1536.13 26.1121 Q1539.57 26.1121 1542.85 26.8413 Q1546.14 27.5299 1549.21 28.9478 Z\" fill=\"#000000\" fill-rule=\"nonzero\" fill-opacity=\"1\" /><path clip-path=\"url(#clip720)\" d=\"M1594.83 28.9478 L1594.83 35.9153 Q1591.67 34.1734 1588.47 33.3227 Q1585.31 32.4315 1582.07 32.4315 Q1574.82 32.4315 1570.81 37.0496 Q1566.8 41.6271 1566.8 49.9314 Q1566.8 58.2358 1570.81 62.8538 Q1574.82 67.4314 1582.07 67.4314 Q1585.31 67.4314 1588.47 66.5807 Q1591.67 65.6895 1594.83 63.9476 L1594.83 70.8341 Q1591.71 72.2924 1588.35 73.0216 Q1585.02 73.7508 1581.26 73.7508 Q1571.01 73.7508 1564.97 67.3098 Q1558.94 60.8689 1558.94 49.9314 Q1558.94 38.832 1565.01 32.472 Q1571.13 26.1121 1581.74 26.1121 Q1585.19 26.1121 1588.47 26.8413 Q1591.75 27.5299 1594.83 28.9478 Z\" fill=\"#000000\" fill-rule=\"nonzero\" fill-opacity=\"1\" /><path clip-path=\"url(#clip720)\" d=\"M1607.02 54.671 L1607.02 27.2059 L1614.47 27.2059 L1614.47 54.3874 Q1614.47 60.8284 1616.99 64.0691 Q1619.5 67.2693 1624.52 67.2693 Q1630.56 67.2693 1634.04 63.421 Q1637.56 59.5726 1637.56 52.9291 L1637.56 27.2059 L1645.02 27.2059 L1645.02 72.576 L1637.56 72.576 L1637.56 65.6084 Q1634.85 69.7404 1631.25 71.7658 Q1627.68 73.7508 1622.94 73.7508 Q1615.12 73.7508 1611.07 68.8897 Q1607.02 64.0286 1607.02 54.671 M1625.78 26.1121 L1625.78 26.1121 Z\" fill=\"#000000\" fill-rule=\"nonzero\" fill-opacity=\"1\" /><path clip-path=\"url(#clip720)\" d=\"M1686.66 34.1734 Q1685.41 33.4443 1683.91 33.1202 Q1682.45 32.7556 1680.67 32.7556 Q1674.35 32.7556 1670.94 36.8875 Q1667.58 40.9789 1667.58 48.6757 L1667.58 72.576 L1660.09 72.576 L1660.09 27.2059 L1667.58 27.2059 L1667.58 34.2544 Q1669.93 30.1225 1673.7 28.1376 Q1677.47 26.1121 1682.85 26.1121 Q1683.62 26.1121 1684.56 26.2337 Q1685.49 26.3147 1686.62 26.5172 L1686.66 34.1734 Z\" fill=\"#000000\" fill-rule=\"nonzero\" fill-opacity=\"1\" /><path clip-path=\"url(#clip720)\" d=\"M1715.1 49.7694 Q1706.07 49.7694 1702.58 51.8354 Q1699.1 53.9013 1699.1 58.8839 Q1699.1 62.8538 1701.69 65.2034 Q1704.32 67.5124 1708.82 67.5124 Q1715.02 67.5124 1718.75 63.1374 Q1722.51 58.7219 1722.51 51.4303 L1722.51 49.7694 L1715.1 49.7694 M1729.97 46.6907 L1729.97 72.576 L1722.51 72.576 L1722.51 65.6895 Q1719.96 69.8214 1716.15 71.8063 Q1712.34 73.7508 1706.84 73.7508 Q1699.87 73.7508 1695.74 69.8619 Q1691.64 65.9325 1691.64 59.3701 Q1691.64 51.7138 1696.75 47.825 Q1701.89 43.9361 1712.06 43.9361 L1722.51 43.9361 L1722.51 43.2069 Q1722.51 38.0623 1719.11 35.2672 Q1715.75 32.4315 1709.63 32.4315 Q1705.74 32.4315 1702.06 33.3632 Q1698.37 34.295 1694.97 36.1584 L1694.97 29.2718 Q1699.06 27.692 1702.91 26.9223 Q1706.75 26.1121 1710.4 26.1121 Q1720.24 26.1121 1725.11 31.2163 Q1729.97 36.3204 1729.97 46.6907 Z\" fill=\"#000000\" fill-rule=\"nonzero\" fill-opacity=\"1\" /><path clip-path=\"url(#clip720)\" d=\"M1777.97 28.9478 L1777.97 35.9153 Q1774.81 34.1734 1771.61 33.3227 Q1768.45 32.4315 1765.21 32.4315 Q1757.96 32.4315 1753.95 37.0496 Q1749.94 41.6271 1749.94 49.9314 Q1749.94 58.2358 1753.95 62.8538 Q1757.96 67.4314 1765.21 67.4314 Q1768.45 67.4314 1771.61 66.5807 Q1774.81 65.6895 1777.97 63.9476 L1777.97 70.8341 Q1774.85 72.2924 1771.49 73.0216 Q1768.17 73.7508 1764.4 73.7508 Q1754.15 73.7508 1748.11 67.3098 Q1742.08 60.8689 1742.08 49.9314 Q1742.08 38.832 1748.15 32.472 Q1754.27 26.1121 1764.88 26.1121 Q1768.33 26.1121 1771.61 26.8413 Q1774.89 27.5299 1777.97 28.9478 Z\" fill=\"#000000\" fill-rule=\"nonzero\" fill-opacity=\"1\" /><path clip-path=\"url(#clip720)\" d=\"M1790.93 27.2059 L1798.39 27.2059 L1798.39 72.576 L1790.93 72.576 L1790.93 27.2059 M1790.93 9.54393 L1798.39 9.54393 L1798.39 18.9825 L1790.93 18.9825 L1790.93 9.54393 Z\" fill=\"#000000\" fill-rule=\"nonzero\" fill-opacity=\"1\" /><path clip-path=\"url(#clip720)\" d=\"M1852.79 48.0275 L1852.79 51.6733 L1818.52 51.6733 Q1819 59.3701 1823.14 63.421 Q1827.31 67.4314 1834.72 67.4314 Q1839.02 67.4314 1843.03 66.3781 Q1847.08 65.3249 1851.05 63.2184 L1851.05 70.267 Q1847.04 71.9684 1842.82 72.8596 Q1838.61 73.7508 1834.28 73.7508 Q1823.42 73.7508 1817.06 67.4314 Q1810.74 61.1119 1810.74 50.3365 Q1810.74 39.1965 1816.74 32.6746 Q1822.77 26.1121 1832.98 26.1121 Q1842.14 26.1121 1847.44 32.0264 Q1852.79 37.9003 1852.79 48.0275 M1845.34 45.84 Q1845.25 39.7232 1841.89 36.0774 Q1838.57 32.4315 1833.06 32.4315 Q1826.82 32.4315 1823.06 35.9558 Q1819.33 39.4801 1818.76 45.8805 L1845.34 45.84 Z\" fill=\"#000000\" fill-rule=\"nonzero\" fill-opacity=\"1\" /><path clip-path=\"url(#clip720)\" d=\"M1893.95 28.5427 L1893.95 35.5912 Q1890.79 33.9709 1887.38 33.1607 Q1883.98 32.3505 1880.34 32.3505 Q1874.79 32.3505 1871.99 34.0519 Q1869.24 35.7533 1869.24 39.156 Q1869.24 41.7486 1871.22 43.2475 Q1873.21 44.7058 1879.2 46.0426 L1881.75 46.6097 Q1889.69 48.3111 1893.02 51.4303 Q1896.38 54.509 1896.38 60.0587 Q1896.38 66.3781 1891.35 70.0644 Q1886.37 73.7508 1877.62 73.7508 Q1873.98 73.7508 1870.01 73.0216 Q1866.08 72.3329 1861.7 70.9151 L1861.7 63.2184 Q1865.83 65.3654 1869.84 66.4591 Q1873.85 67.5124 1877.78 67.5124 Q1883.05 67.5124 1885.89 65.73 Q1888.72 63.9071 1888.72 60.6258 Q1888.72 57.5877 1886.66 55.9673 Q1884.63 54.3469 1877.7 52.8481 L1875.11 52.2405 Q1868.18 50.7821 1865.1 47.7845 Q1862.03 44.7463 1862.03 39.4801 Q1862.03 33.0797 1866.56 29.5959 Q1871.1 26.1121 1879.44 26.1121 Q1883.58 26.1121 1887.22 26.7198 Q1890.87 27.3274 1893.95 28.5427 Z\" fill=\"#000000\" fill-rule=\"nonzero\" fill-opacity=\"1\" /><path clip-path=\"url(#clip722)\" d=\"M337.179 160.126 L337.179 1423.18 L736.814 1423.18 L736.814 160.126 L337.179 160.126 L337.179 160.126  Z\" fill=\"#009af9\" fill-rule=\"evenodd\" fill-opacity=\"1\"/>\n",
       "<polyline clip-path=\"url(#clip722)\" style=\"stroke:#000000; stroke-linecap:round; stroke-linejoin:round; stroke-width:4; stroke-opacity:1; fill:none\" points=\"337.179,160.126 337.179,1423.18 736.814,1423.18 736.814,160.126 337.179,160.126 \"/>\n",
       "<path clip-path=\"url(#clip722)\" d=\"M836.722 123.472 L836.722 1423.18 L1236.36 1423.18 L1236.36 123.472 L836.722 123.472 L836.722 123.472  Z\" fill=\"#009af9\" fill-rule=\"evenodd\" fill-opacity=\"1\"/>\n",
       "<polyline clip-path=\"url(#clip722)\" style=\"stroke:#000000; stroke-linecap:round; stroke-linejoin:round; stroke-width:4; stroke-opacity:1; fill:none\" points=\"836.722,123.472 836.722,1423.18 1236.36,1423.18 1236.36,123.472 836.722,123.472 \"/>\n",
       "<path clip-path=\"url(#clip722)\" d=\"M1336.27 138.014 L1336.27 1423.18 L1735.9 1423.18 L1735.9 138.014 L1336.27 138.014 L1336.27 138.014  Z\" fill=\"#009af9\" fill-rule=\"evenodd\" fill-opacity=\"1\"/>\n",
       "<polyline clip-path=\"url(#clip722)\" style=\"stroke:#000000; stroke-linecap:round; stroke-linejoin:round; stroke-width:4; stroke-opacity:1; fill:none\" points=\"1336.27,138.014 1336.27,1423.18 1735.9,1423.18 1735.9,138.014 1336.27,138.014 \"/>\n",
       "<path clip-path=\"url(#clip722)\" d=\"M1835.81 132.662 L1835.81 1423.18 L2235.44 1423.18 L2235.44 132.662 L1835.81 132.662 L1835.81 132.662  Z\" fill=\"#009af9\" fill-rule=\"evenodd\" fill-opacity=\"1\"/>\n",
       "<polyline clip-path=\"url(#clip722)\" style=\"stroke:#000000; stroke-linecap:round; stroke-linejoin:round; stroke-width:4; stroke-opacity:1; fill:none\" points=\"1835.81,132.662 1835.81,1423.18 2235.44,1423.18 2235.44,132.662 1835.81,132.662 \"/>\n",
       "<circle clip-path=\"url(#clip722)\" style=\"fill:#009af9; stroke:none; fill-opacity:0\" cx=\"536.996\" cy=\"160.126\" r=\"2\"/>\n",
       "<circle clip-path=\"url(#clip722)\" style=\"fill:#009af9; stroke:none; fill-opacity:0\" cx=\"1036.54\" cy=\"123.472\" r=\"2\"/>\n",
       "<circle clip-path=\"url(#clip722)\" style=\"fill:#009af9; stroke:none; fill-opacity:0\" cx=\"1536.08\" cy=\"138.014\" r=\"2\"/>\n",
       "<circle clip-path=\"url(#clip722)\" style=\"fill:#009af9; stroke:none; fill-opacity:0\" cx=\"2035.63\" cy=\"132.662\" r=\"2\"/>\n",
       "</svg>\n"
      ]
     },
     "execution_count": 10,
     "metadata": {},
     "output_type": "execute_result"
    }
   ],
   "source": [
    "# Import necessary libraries\n",
    "using Colors       # For color handling\n",
    "using ImageShow    # For displaying images\n",
    "using Plots        # For plotting graphs\n",
    "using JuMP         # For optimization modeling\n",
    "import Ipopt       # Optimization solver (for SVM)\n",
    "\n",
    "\n",
    "# Define a function to extract images of a specific digit\n",
    "function getNumber(digit)\n",
    "    images = []\n",
    "    for i = 1:size(data.features, 3)\n",
    "        if data.targets[i] == digit\n",
    "            push!(images, data.features[:, :, i])\n",
    "        end\n",
    "    end\n",
    "    return images\n",
    "end\n",
    "\n",
    "# Define a function to flatten and organize images for PCA or SVM\n",
    "function principalNumber(digit)\n",
    "    images = getNumber(digit)\n",
    "    num_images = length(images)\n",
    "    flattened_images = zeros(28^2, num_images)\n",
    "    for i = 1:num_images\n",
    "        flattened_images[:, i] = images[i][:]\n",
    "    end\n",
    "    return flattened_images\n",
    "end\n",
    "\n",
    "# Define a linear SVM model using JuMP and Ipopt optimizer\n",
    "function mySVM(X, y)\n",
    "    model = Model(Ipopt.Optimizer)\n",
    "    set_silent(model)\n",
    "    \n",
    "    d, n = size(X)\n",
    "    @variable(model, w[1:d])\n",
    "    @variable(model, b)\n",
    "    @constraint(model, [i in 1:n], y[i]*(transpose(w)*X[:,i]-b) ≥ 1)\n",
    "    @objective(model, Min, transpose(w)*w)\n",
    "    optimize!(model)\n",
    "    return value.(w), value(b)\n",
    "end\n",
    "\n",
    "# Define a decision function for the SVM\n",
    "function decision(x, w, b)\n",
    "    return sign(dot(x, w) - b)\n",
    "end\n",
    "\n",
    "# Define a function to compute a kernel matrix\n",
    "function kernelMatrix(X, k)\n",
    "    n = size(X, 2)\n",
    "    K = zeros(n, n)\n",
    "    for i = 1:n\n",
    "        for j = 1:n \n",
    "            K[i, j] = k(X[:, i], X[:, j])\n",
    "        end\n",
    "    end\n",
    "    return K\n",
    "end\n",
    "\n",
    "# Define a kernel SVM model using JuMP and Ipopt optimizer\n",
    "function myKernelSVM(X, y, k)\n",
    "    model = Model(Ipopt.Optimizer)\n",
    "    set_silent(model)\n",
    "    n = size(X, 2)\n",
    "\n",
    "    @variable(model, α[1:n])\n",
    "    @variable(model, b)\n",
    "    \n",
    "    K = kernelMatrix(X, k)\n",
    "\n",
    "    @constraint(model, [i in 1:n], y[i]*(transpose(α)*K[:, i]-b) ≥ 1)\n",
    "    @objective(model, Min, transpose(α)*K*α)\n",
    "    optimize!(model)\n",
    "    return value.(α), value(b)\n",
    "end\n",
    "\n",
    "# Define a decision function for the kernel SVM\n",
    "function kernelDecision(x, X, k, α, b)\n",
    "    n = size(X, 2)\n",
    "    r = sum(α[i]*k(X[:, i], x) for i = 1:n) - b\n",
    "    return sign(r)\n",
    "end\n",
    "\n",
    "# Define a Gaussian kernel function\n",
    "k(x, y) = exp(-norm(x-y)^2/100)\n",
    "\n",
    "# Select two digits for classification\n",
    "number1 = 2\n",
    "number2 = 8\n",
    "\n",
    "# Get the flattened images for both digits\n",
    "R1 = principalNumber(number1)\n",
    "R2 = principalNumber(number2)\n",
    "\n",
    "# Prepare training data and labels\n",
    "N = 50  # Number of samples per digit\n",
    "T1 = R1[:, 1:N]\n",
    "T2 = R2[:, 1:N]\n",
    "T = [T1 T2]  # Training data\n",
    "L = [ones(N); -ones(N)]  # Labels\n",
    "\n",
    "# Train linear SVM\n",
    "w, b = mySVM(T, L)\n",
    "# Train kernel SVM\n",
    "α, b_kernel = myKernelSVM(T, L, k)\n",
    "\n",
    "# Evaluate the SVMs\n",
    "function evaluateSVMs(R1, R2, w, b, α, b_kernel, k)\n",
    "    s1 = size(R1, 2)\n",
    "    s2 = size(R2, 2)\n",
    "    correct_linear1 = sum(decision(R1[:, i], w, b) == 1 for i = 1:s1)\n",
    "    correct_linear2 = sum(decision(R2[:, i], w, b) == -1 for i = 1:s2)\n",
    "    correct_kernel1 = sum(kernelDecision(R1[:, i], T, k, α, b_kernel) == 1 for i = 1:s1)\n",
    "    correct_kernel2 = sum(kernelDecision(R2[:, i], T, k, α, b_kernel) == -1 for i = 1:s2)\n",
    "    \n",
    "    accuracy_linear1 = correct_linear1 / s1\n",
    "    accuracy_linear2 = correct_linear2 / s2\n",
    "    accuracy_kernel1 = correct_kernel1 / s1\n",
    "    accuracy_kernel2 = correct_kernel2 / s2\n",
    "\n",
    "    return (accuracy_linear1, accuracy_linear2, accuracy_kernel1, accuracy_kernel2)\n",
    "end\n",
    "\n",
    "# Evaluate and print the accuracies\n",
    "accuracies = evaluateSVMs(R1, R2, w, b, α, b_kernel, k)\n",
    "println(\"Linear SVM Accuracy for Digit $number1: \", accuracies[1])\n",
    "println(\"Linear SVM Accuracy for Digit $number2: \", accuracies[2])\n",
    "println(\"Kernel SVM Accuracy for Digit $number1: \", accuracies[3])\n",
    "println(\"Kernel SVM Accuracy for Digit $number2: \", accuracies[4])\n",
    "\n",
    "# Plotting the accuracies for visualization\n",
    "bar([\"Linear $number1\", \"Linear $number2\", \"Kernel $number1\", \"Kernel $number2\"], \n",
    "    [accuracies[1], accuracies[2], accuracies[3], accuracies[4]], \n",
    "    title = \"SVM Classification Accuracies\", \n",
    "    ylabel = \"Accuracy\", \n",
    "    xlabel = \"Model and Digit\", \n",
    "    legend = false)\n"
   ]
  }
 ],
 "metadata": {
  "kernelspec": {
   "display_name": "Julia 1.9.3",
   "language": "julia",
   "name": "julia-1.9"
  },
  "language_info": {
   "file_extension": ".jl",
   "mimetype": "application/julia",
   "name": "julia",
   "version": "1.9.3"
  }
 },
 "nbformat": 4,
 "nbformat_minor": 4
}
