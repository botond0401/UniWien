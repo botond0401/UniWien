{
 "cells": [
  {
   "cell_type": "code",
   "execution_count": 8,
   "id": "b650c247-494c-49de-9dfb-b30920dc413d",
   "metadata": {
    "tags": []
   },
   "outputs": [
    {
     "data": {
      "text/plain": [
       "printencoding (generic function with 2 methods)"
      ]
     },
     "execution_count": 8,
     "metadata": {},
     "output_type": "execute_result"
    }
   ],
   "source": [
    "abstract type HuffmanTree end\n",
    "\n",
    "struct HuffmanLeaf <: HuffmanTree\n",
    "    ch::Char\n",
    "    freq::Int\n",
    "end\n",
    "\n",
    "struct HuffmanNode <: HuffmanTree\n",
    "    freq::Int\n",
    "    left::HuffmanTree\n",
    "    right::HuffmanTree\n",
    "end\n",
    "\n",
    "function makefreqdict(s::String)\n",
    "    d = Dict{Char, Int}()\n",
    "    for c in s\n",
    "        if !haskey(d, c)\n",
    "            d[c] = 1\n",
    "        else\n",
    "            d[c] += 1\n",
    "        end\n",
    "    end\n",
    "    return d\n",
    "end\n",
    "\n",
    "function huffmantree(ftable::Dict)\n",
    "    trees::Vector{HuffmanTree} = [HuffmanLeaf(ch, fq) for (ch, fq) in ftable]\n",
    "    while length(trees) > 1\n",
    "        sort!(trees, lt = (x, y) -> x.freq < y.freq, rev = true)\n",
    "        least = pop!(trees)\n",
    "        nextleast = pop!(trees)\n",
    "        push!(trees, HuffmanNode(least.freq + nextleast.freq, least, nextleast))\n",
    "    end\n",
    "    trees[1]\n",
    "end\n",
    "\n",
    "printencoding(lf::HuffmanLeaf, code) = println(lf.ch == ' ' ? \"space\" : lf.ch, \"\\t\", lf.freq, \"\\t\", code)\n",
    "\n",
    "function printencoding(nd::HuffmanNode, code)\n",
    "    code *= '0'\n",
    "    printencoding(nd.left, code)\n",
    "    code = code[1:end-1]\n",
    "\n",
    "    code *= '1'\n",
    "    printencoding(nd.right, code)\n",
    "    code = code[1:end-1]\n",
    "end"
   ]
  },
  {
   "cell_type": "code",
   "execution_count": 9,
   "id": "4ab3b0aa-d416-4683-94d3-1f1f0775a2a2",
   "metadata": {},
   "outputs": [
    {
     "data": {
      "text/plain": [
       "Dict{Char, Int64} with 6 entries:\n",
       "  'f' => 45\n",
       "  'c' => 12\n",
       "  'a' => 5\n",
       "  'e' => 16\n",
       "  'd' => 13\n",
       "  'b' => 9"
      ]
     },
     "execution_count": 9,
     "metadata": {},
     "output_type": "execute_result"
    }
   ],
   "source": [
    "const msg = \"ffcebcffcafffaedbfebffdedfdecbfffcfeeecfdfcffcbfcffeadfffedddffddbcfbcfefffbdfefbeefffffcffffefdefaa\"\n",
    "# const msg = \"ddcdeddabedebcdced\"\n",
    "\n",
    "# const msg = \"sdasaakaakkka\"\n",
    "\n",
    "countMessage = makefreqdict(msg)"
   ]
  },
  {
   "cell_type": "code",
   "execution_count": 10,
   "id": "113a07fc-e6b1-49bb-99da-3d80f36f3b50",
   "metadata": {},
   "outputs": [
    {
     "name": "stdout",
     "output_type": "stream",
     "text": [
      "Char\tFreq\tHuffman code\n",
      "f\t45\t0\n",
      "c\t12\t100\n",
      "d\t13\t101\n",
      "a\t5\t1100\n",
      "b\t9\t1101\n",
      "e\t16\t111\n"
     ]
    }
   ],
   "source": [
    "println(\"Char\\tFreq\\tHuffman code\")\n",
    "\n",
    "HT = huffmantree(countMessage)\n",
    "\n",
    "printencoding(HT, \"\");"
   ]
  },
  {
   "cell_type": "code",
   "execution_count": null,
   "id": "a4bb65de-4608-4e10-b19a-7b160736f7ac",
   "metadata": {},
   "outputs": [],
   "source": [
    "using Graphs,GraphPlot\n",
    "g = SimpleGraph(11)\n",
    "add_edge!(g, 1, 2)\n",
    "add_edge!(g, 1, 3)\n",
    "add_edge!(g, 3, 4)\n",
    "add_edge!(g, 3, 5)\n",
    "add_edge!(g, 4, 6)\n",
    "add_edge!(g, 4, 7)\n",
    "add_edge!(g, 6, 8)\n",
    "add_edge!(g, 6, 9)\n",
    "add_edge!(g, 5, 10)\n",
    "add_edge!(g, 5, 11)\n",
    "gplot(g,nodelabel = [\"root\" \"f|45\" \"55\" \"30\" \"25\" \"14\" \"e|16\" \"a|5\" \"b|9\" \"c|2\" \"d|13\"],edgelabel=[0 1 1 0 0 1 0 1 0 1])"
   ]
  },
  {
   "cell_type": "code",
   "execution_count": null,
   "id": "506028ff-8df5-4a07-88da-f76ab8079209",
   "metadata": {},
   "outputs": [],
   "source": [
    "# using Compose, Cairo\n",
    "# draw(PDF(\"huffman_ex.pdf\", 16cm, 16cm), gplot(g,nodelabel = [\"root\" \"f|45\" \"55\" \"30\" \"25\" \"14\" \"e|16\" \"a|5\" \"b|9\" \"c|2\" \"d|13\"],edgelabel=[0 1 1 0 0 1 0 1 0 1]))"
   ]
  },
  {
   "cell_type": "code",
   "execution_count": null,
   "id": "25e6d9f0-440f-4f25-be54-5f5e80a8aa4b",
   "metadata": {},
   "outputs": [],
   "source": [
    "using Graphs,GraphPlot\n",
    "g = SimpleGraph(9)\n",
    "add_edge!(g, 1, 2)\n",
    "add_edge!(g, 1, 3)\n",
    "add_edge!(g, 3, 4)\n",
    "add_edge!(g, 3, 5)\n",
    "add_edge!(g, 5, 6)\n",
    "add_edge!(g, 5, 7)\n",
    "add_edge!(g, 6, 8)\n",
    "add_edge!(g, 6, 9)\n",
    "gplot(g,nodelabel = [\"root\" \"d|8\" \"10\" \"e|4\" \"6\" \"3\" \"c|3\" \"a|1\" \"b|2\"],edgelabel=[0 1 0 1 0 1 0 1])"
   ]
  },
  {
   "cell_type": "code",
   "execution_count": null,
   "id": "ef21d20a-ed32-436d-988d-e76daf56eadc",
   "metadata": {},
   "outputs": [],
   "source": [
    "# using Compose, Cairo\n",
    "# draw(PDF(\"huffman_exUE.pdf\", 16cm, 16cm), gplot(g,nodelabel = [\"root\" \"d|8\" \"10\" \"e|4\" \"6\" \"3\" \"c|3\" \"a|1\" \"b|2\"],edgelabel=[0 1 0 1 0 1 0 1]))"
   ]
  },
  {
   "cell_type": "code",
   "execution_count": null,
   "id": "1e4496fa-7e29-4fbe-9e65-c51dc6c8d04c",
   "metadata": {},
   "outputs": [],
   "source": []
  },
  {
   "cell_type": "code",
   "execution_count": null,
   "id": "72ab3e67-052c-42f0-a525-b7f233544786",
   "metadata": {},
   "outputs": [],
   "source": []
  },
  {
   "cell_type": "code",
   "execution_count": null,
   "id": "4b1b8238-e4c1-4b04-9746-072cb24c4705",
   "metadata": {},
   "outputs": [],
   "source": []
  },
  {
   "cell_type": "code",
   "execution_count": null,
   "id": "e93e39c0-0f3e-4bd5-a9d4-ee7d678f6335",
   "metadata": {},
   "outputs": [],
   "source": []
  },
  {
   "cell_type": "code",
   "execution_count": null,
   "id": "ef9f1245-d6b0-4f16-9849-26ad7a151311",
   "metadata": {},
   "outputs": [],
   "source": []
  },
  {
   "cell_type": "code",
   "execution_count": null,
   "id": "e6055d96-4bb1-4b94-a319-8c4f65f53071",
   "metadata": {},
   "outputs": [],
   "source": []
  }
 ],
 "metadata": {
  "kernelspec": {
   "display_name": "Julia 1.8.1",
   "language": "julia",
   "name": "julia-1.8"
  },
  "language_info": {
   "file_extension": ".jl",
   "mimetype": "application/julia",
   "name": "julia",
   "version": "1.8.1"
  },
  "widgets": {
   "application/vnd.jupyter.widget-state+json": {
    "state": {},
    "version_major": 2,
    "version_minor": 0
   }
  }
 },
 "nbformat": 4,
 "nbformat_minor": 5
}
