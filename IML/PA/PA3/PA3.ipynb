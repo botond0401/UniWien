{
 "cells": [
  {
   "cell_type": "markdown",
   "metadata": {},
   "source": [
    "# Task 1: Kernelized SVM"
   ]
  },
  {
   "cell_type": "code",
   "execution_count": 90,
   "metadata": {},
   "outputs": [],
   "source": [
    "from sklearn.datasets import load_digits\n",
    "\n",
    "data_digits = load_digits()\n",
    "x = data_digits.data\n",
    "y = data_digits.target\n"
   ]
  },
  {
   "cell_type": "markdown",
   "metadata": {},
   "source": [
    "## Subtask 1: SVMs With Different Kernels"
   ]
  },
  {
   "cell_type": "code",
   "execution_count": 91,
   "metadata": {},
   "outputs": [],
   "source": [
    "from sklearn.model_selection import train_test_split\n",
    "from sklearn.svm import SVC\n",
    "from sklearn.metrics import accuracy_score\n",
    "import numpy as np\n",
    "\n",
    "x_train, x_test, y_train, y_test = train_test_split(x, y, test_size=0.3, random_state=42)\n",
    "y_train = y_train.ravel()\n",
    "y_test = y_test.ravel()\n"
   ]
  },
  {
   "cell_type": "markdown",
   "metadata": {},
   "source": [
    "### Linear kernel"
   ]
  },
  {
   "cell_type": "code",
   "execution_count": 3,
   "metadata": {},
   "outputs": [
    {
     "name": "stdout",
     "output_type": "stream",
     "text": [
      "If the shrinking parameter is set to True, the accuracy on the test set is 0.9796296296296296,the accuracy on the train set is 1.0.\n",
      "If the shrinking parameter is set to False, the accuracy on the test set is 0.9796296296296296,the accuracy on the train set is 1.0.\n"
     ]
    }
   ],
   "source": [
    "for shrinking in [True, False]:\n",
    "    svm_classifier = SVC(kernel='linear', shrinking=shrinking, random_state=42)\n",
    "    svm_classifier.fit(x_train, y_train)\n",
    "    \n",
    "    y_pred_test = svm_classifier.predict(x_test)\n",
    "    accuracy_test = accuracy_score(y_test, y_pred_test)\n",
    "    \n",
    "    y_pred_train = svm_classifier.predict(x_train)\n",
    "    accuracy_train = accuracy_score(y_train, y_pred_train)\n",
    "    \n",
    "    print(f\"If the shrinking parameter is set to {shrinking}, the accuracy on the test set is {accuracy_test},\"\n",
    "          f\"the accuracy on the train set is {accuracy_train}.\")"
   ]
  },
  {
   "cell_type": "code",
   "execution_count": 4,
   "metadata": {},
   "outputs": [
    {
     "name": "stdout",
     "output_type": "stream",
     "text": [
      "If the probability parameter is set to True, the accuracy on the test set is 0.9796296296296296,the accuracy on the train set is 1.0.\n",
      "If the probability parameter is set to False, the accuracy on the test set is 0.9796296296296296,the accuracy on the train set is 1.0.\n"
     ]
    }
   ],
   "source": [
    "for probability in [True, False]:\n",
    "    svm_classifier = SVC(kernel='linear', probability=probability, random_state=42)\n",
    "    svm_classifier.fit(x_train, y_train)\n",
    "    \n",
    "    y_pred_test = svm_classifier.predict(x_test)\n",
    "    accuracy_test = accuracy_score(y_test, y_pred_test)\n",
    "    \n",
    "    y_pred_train = svm_classifier.predict(x_train)\n",
    "    accuracy_train = accuracy_score(y_train, y_pred_train)\n",
    "    \n",
    "    print(f\"If the probability parameter is set to {probability}, the accuracy on the test set is {accuracy_test},\"\n",
    "          f\"the accuracy on the train set is {accuracy_train}.\")"
   ]
  },
  {
   "cell_type": "code",
   "execution_count": 5,
   "metadata": {},
   "outputs": [
    {
     "name": "stdout",
     "output_type": "stream",
     "text": [
      "If the tol parameter is set to 0.001, the accuracy on the test set is 0.9796296296296296,the accuracy on the train set is 1.0.\n",
      "If the tol parameter is set to 0.0001, the accuracy on the test set is 0.9796296296296296,the accuracy on the train set is 1.0.\n",
      "If the tol parameter is set to 1e-05, the accuracy on the test set is 0.9796296296296296,the accuracy on the train set is 1.0.\n",
      "If the tol parameter is set to 1e-06, the accuracy on the test set is 0.9796296296296296,the accuracy on the train set is 1.0.\n",
      "If the tol parameter is set to 1e-07, the accuracy on the test set is 0.9796296296296296,the accuracy on the train set is 1.0.\n",
      "If the tol parameter is set to 1e-10, the accuracy on the test set is 0.9796296296296296,the accuracy on the train set is 1.0.\n"
     ]
    }
   ],
   "source": [
    "for tol in [1e-3, 1e-4, 1e-5, 1e-6, 1e-7, 1e-10]:\n",
    "    svm_classifier = SVC(kernel='linear', tol=tol, random_state=42)\n",
    "    svm_classifier.fit(x_train, y_train)\n",
    "    \n",
    "    y_pred_test = svm_classifier.predict(x_test)\n",
    "    accuracy_test = accuracy_score(y_test, y_pred_test)\n",
    "    \n",
    "    y_pred_train = svm_classifier.predict(x_train)\n",
    "    accuracy_train = accuracy_score(y_train, y_pred_train)\n",
    "    \n",
    "    print(f\"If the tol parameter is set to {tol}, the accuracy on the test set is {accuracy_test},\"\n",
    "          f\"the accuracy on the train set is {accuracy_train}.\")"
   ]
  },
  {
   "cell_type": "code",
   "execution_count": 6,
   "metadata": {},
   "outputs": [
    {
     "name": "stdout",
     "output_type": "stream",
     "text": [
      "If the cache_size parameter is set to 100, the accuracy on the test set is 0.9796296296296296,the accuracy on the train set is 1.0.\n",
      "If the cache_size parameter is set to 200, the accuracy on the test set is 0.9796296296296296,the accuracy on the train set is 1.0.\n",
      "If the cache_size parameter is set to 500, the accuracy on the test set is 0.9796296296296296,the accuracy on the train set is 1.0.\n",
      "If the cache_size parameter is set to 1000, the accuracy on the test set is 0.9796296296296296,the accuracy on the train set is 1.0.\n"
     ]
    }
   ],
   "source": [
    "for cache_size in [100, 200, 500, 1000]:\n",
    "    svm_classifier = SVC(kernel='linear', cache_size=cache_size, random_state=42)\n",
    "    svm_classifier.fit(x_train, y_train)\n",
    "    \n",
    "    y_pred_test = svm_classifier.predict(x_test)\n",
    "    accuracy_test = accuracy_score(y_test, y_pred_test)\n",
    "    \n",
    "    y_pred_train = svm_classifier.predict(x_train)\n",
    "    accuracy_train = accuracy_score(y_train, y_pred_train)\n",
    "    \n",
    "    print(f\"If the cache_size parameter is set to {cache_size}, the accuracy on the test set is {accuracy_test},\"\n",
    "          f\"the accuracy on the train set is {accuracy_train}.\")"
   ]
  },
  {
   "cell_type": "code",
   "execution_count": 7,
   "metadata": {},
   "outputs": [
    {
     "name": "stderr",
     "output_type": "stream",
     "text": [
      "C:\\Users\\Botond\\anaconda3\\lib\\site-packages\\sklearn\\svm\\_base.py:246: ConvergenceWarning: Solver terminated early (max_iter=100).  Consider pre-processing your data with StandardScaler or MinMaxScaler.\n",
      "  warnings.warn('Solver terminated early (max_iter=%i).'\n",
      "C:\\Users\\Botond\\anaconda3\\lib\\site-packages\\sklearn\\svm\\_base.py:246: ConvergenceWarning: Solver terminated early (max_iter=1000).  Consider pre-processing your data with StandardScaler or MinMaxScaler.\n",
      "  warnings.warn('Solver terminated early (max_iter=%i).'\n"
     ]
    },
    {
     "name": "stdout",
     "output_type": "stream",
     "text": [
      "If the max_iter parameter is set to 100, the accuracy on the test set is 0.975925925925926,the accuracy on the train set is 1.0.\n",
      "If the max_iter parameter is set to 1000, the accuracy on the test set is 0.9796296296296296,the accuracy on the train set is 1.0.\n",
      "If the max_iter parameter is set to 1000000.0, the accuracy on the test set is 0.9796296296296296,the accuracy on the train set is 1.0.\n",
      "If the max_iter parameter is set to -1, the accuracy on the test set is 0.9796296296296296,the accuracy on the train set is 1.0.\n"
     ]
    }
   ],
   "source": [
    "for max_iter in [100, 1000, 1e6, -1]:\n",
    "    svm_classifier = SVC(kernel='linear', max_iter=max_iter, random_state=42)\n",
    "    svm_classifier.fit(x_train, y_train)\n",
    "    \n",
    "    y_pred_test = svm_classifier.predict(x_test)\n",
    "    accuracy_test = accuracy_score(y_test, y_pred_test)\n",
    "    \n",
    "    y_pred_train = svm_classifier.predict(x_train)\n",
    "    accuracy_train = accuracy_score(y_train, y_pred_train)\n",
    "    \n",
    "    print(f\"If the max_iter parameter is set to {max_iter}, the accuracy on the test set is {accuracy_test},\"\n",
    "          f\"the accuracy on the train set is {accuracy_train}.\")"
   ]
  },
  {
   "cell_type": "code",
   "execution_count": 8,
   "metadata": {},
   "outputs": [
    {
     "name": "stdout",
     "output_type": "stream",
     "text": [
      "If the decision_function_shape parameter is set to ovo, the accuracy on the test set is 0.9796296296296296,the accuracy on the train set is 1.0.\n",
      "If the decision_function_shape parameter is set to ovr, the accuracy on the test set is 0.9796296296296296,the accuracy on the train set is 1.0.\n"
     ]
    }
   ],
   "source": [
    "for decision_function_shape in ['ovo', 'ovr']:\n",
    "    svm_classifier = SVC(kernel='linear', decision_function_shape=decision_function_shape, random_state=42)\n",
    "    svm_classifier.fit(x_train, y_train)\n",
    "    \n",
    "    y_pred_test = svm_classifier.predict(x_test)\n",
    "    accuracy_test = accuracy_score(y_test, y_pred_test)\n",
    "    \n",
    "    y_pred_train = svm_classifier.predict(x_train)\n",
    "    accuracy_train = accuracy_score(y_train, y_pred_train)\n",
    "    \n",
    "    print(f\"If the decision_function_shape parameter is set to {decision_function_shape}, the accuracy on the test set is {accuracy_test},\"\n",
    "          f\"the accuracy on the train set is {accuracy_train}.\")"
   ]
  },
  {
   "cell_type": "code",
   "execution_count": 9,
   "metadata": {},
   "outputs": [
    {
     "name": "stdout",
     "output_type": "stream",
     "text": [
      "If the break_ties parameter is set to True, the accuracy on the test set is 0.9814814814814815,the accuracy on the train set is 1.0.\n",
      "If the break_ties parameter is set to False, the accuracy on the test set is 0.9796296296296296,the accuracy on the train set is 1.0.\n"
     ]
    }
   ],
   "source": [
    "for break_ties in [True, False]:\n",
    "    svm_classifier = SVC(kernel='linear', break_ties=break_ties, random_state=42)\n",
    "    svm_classifier.fit(x_train, y_train)\n",
    "    \n",
    "    y_pred_test = svm_classifier.predict(x_test)\n",
    "    accuracy_test = accuracy_score(y_test, y_pred_test)\n",
    "    \n",
    "    y_pred_train = svm_classifier.predict(x_train)\n",
    "    accuracy_train = accuracy_score(y_train, y_pred_train)\n",
    "    \n",
    "    print(f\"If the break_ties parameter is set to {break_ties}, the accuracy on the test set is {accuracy_test},\"\n",
    "          f\"the accuracy on the train set is {accuracy_train}.\")"
   ]
  },
  {
   "cell_type": "markdown",
   "metadata": {},
   "source": [
    "So the parameter break_ties will be set to True."
   ]
  },
  {
   "cell_type": "markdown",
   "metadata": {},
   "source": [
    "### Polynomial kernel"
   ]
  },
  {
   "cell_type": "code",
   "execution_count": 10,
   "metadata": {},
   "outputs": [
    {
     "name": "stdout",
     "output_type": "stream",
     "text": [
      "If the shrinking parameter is set to True, the accuracy on the test set is 0.9888888888888889,the accuracy on the train set is 0.9992044550517104.\n",
      "If the shrinking parameter is set to False, the accuracy on the test set is 0.9888888888888889,the accuracy on the train set is 0.9992044550517104.\n"
     ]
    }
   ],
   "source": [
    "for shrinking in [True, False]:\n",
    "    svm_classifier = SVC(kernel='poly', shrinking=shrinking, random_state=42)\n",
    "    svm_classifier.fit(x_train, y_train)\n",
    "    \n",
    "    y_pred_test = svm_classifier.predict(x_test)\n",
    "    accuracy_test = accuracy_score(y_test, y_pred_test)\n",
    "    \n",
    "    y_pred_train = svm_classifier.predict(x_train)\n",
    "    accuracy_train = accuracy_score(y_train, y_pred_train)\n",
    "    \n",
    "    print(f\"If the shrinking parameter is set to {shrinking}, the accuracy on the test set is {accuracy_test},\"\n",
    "          f\"the accuracy on the train set is {accuracy_train}.\")"
   ]
  },
  {
   "cell_type": "code",
   "execution_count": 11,
   "metadata": {},
   "outputs": [
    {
     "name": "stdout",
     "output_type": "stream",
     "text": [
      "If the probability parameter is set to True, the accuracy on the test set is 0.9888888888888889,the accuracy on the train set is 0.9992044550517104.\n",
      "If the probability parameter is set to False, the accuracy on the test set is 0.9888888888888889,the accuracy on the train set is 0.9992044550517104.\n"
     ]
    }
   ],
   "source": [
    "for probability in [True, False]:\n",
    "    svm_classifier = SVC(kernel='poly', probability=probability, random_state=42)\n",
    "    svm_classifier.fit(x_train, y_train)\n",
    "    \n",
    "    y_pred_test = svm_classifier.predict(x_test)\n",
    "    accuracy_test = accuracy_score(y_test, y_pred_test)\n",
    "    \n",
    "    y_pred_train = svm_classifier.predict(x_train)\n",
    "    accuracy_train = accuracy_score(y_train, y_pred_train)\n",
    "    \n",
    "    print(f\"If the probability parameter is set to {probability}, the accuracy on the test set is {accuracy_test},\"\n",
    "          f\"the accuracy on the train set is {accuracy_train}.\")"
   ]
  },
  {
   "cell_type": "code",
   "execution_count": 12,
   "metadata": {},
   "outputs": [
    {
     "name": "stdout",
     "output_type": "stream",
     "text": [
      "If the tol parameter is set to 0.001, the accuracy on the test set is 0.9888888888888889,the accuracy on the train set is 0.9992044550517104.\n",
      "If the tol parameter is set to 0.0001, the accuracy on the test set is 0.9888888888888889,the accuracy on the train set is 0.9992044550517104.\n",
      "If the tol parameter is set to 1e-05, the accuracy on the test set is 0.9888888888888889,the accuracy on the train set is 0.9992044550517104.\n",
      "If the tol parameter is set to 1e-06, the accuracy on the test set is 0.9888888888888889,the accuracy on the train set is 0.9992044550517104.\n",
      "If the tol parameter is set to 1e-07, the accuracy on the test set is 0.9888888888888889,the accuracy on the train set is 0.9992044550517104.\n",
      "If the tol parameter is set to 1e-10, the accuracy on the test set is 0.9888888888888889,the accuracy on the train set is 0.9992044550517104.\n"
     ]
    }
   ],
   "source": [
    "for tol in [1e-3, 1e-4, 1e-5, 1e-6, 1e-7, 1e-10]:\n",
    "    svm_classifier = SVC(kernel='poly', tol=tol, random_state=42)\n",
    "    svm_classifier.fit(x_train, y_train)\n",
    "    \n",
    "    y_pred_test = svm_classifier.predict(x_test)\n",
    "    accuracy_test = accuracy_score(y_test, y_pred_test)\n",
    "    \n",
    "    y_pred_train = svm_classifier.predict(x_train)\n",
    "    accuracy_train = accuracy_score(y_train, y_pred_train)\n",
    "    \n",
    "    print(f\"If the tol parameter is set to {tol}, the accuracy on the test set is {accuracy_test},\"\n",
    "          f\"the accuracy on the train set is {accuracy_train}.\")"
   ]
  },
  {
   "cell_type": "code",
   "execution_count": 13,
   "metadata": {},
   "outputs": [
    {
     "name": "stdout",
     "output_type": "stream",
     "text": [
      "If the cache_size parameter is set to 100, the accuracy on the test set is 0.9888888888888889,the accuracy on the train set is 0.9992044550517104.\n",
      "If the cache_size parameter is set to 200, the accuracy on the test set is 0.9888888888888889,the accuracy on the train set is 0.9992044550517104.\n",
      "If the cache_size parameter is set to 500, the accuracy on the test set is 0.9888888888888889,the accuracy on the train set is 0.9992044550517104.\n",
      "If the cache_size parameter is set to 1000, the accuracy on the test set is 0.9888888888888889,the accuracy on the train set is 0.9992044550517104.\n"
     ]
    }
   ],
   "source": [
    "for cache_size in [100, 200, 500, 1000]:\n",
    "    svm_classifier = SVC(kernel='poly', cache_size=cache_size, random_state=42)\n",
    "    svm_classifier.fit(x_train, y_train)\n",
    "    \n",
    "    y_pred_test = svm_classifier.predict(x_test)\n",
    "    accuracy_test = accuracy_score(y_test, y_pred_test)\n",
    "    \n",
    "    y_pred_train = svm_classifier.predict(x_train)\n",
    "    accuracy_train = accuracy_score(y_train, y_pred_train)\n",
    "    \n",
    "    print(f\"If the cache_size parameter is set to {cache_size}, the accuracy on the test set is {accuracy_test},\"\n",
    "          f\"the accuracy on the train set is {accuracy_train}.\")"
   ]
  },
  {
   "cell_type": "code",
   "execution_count": 14,
   "metadata": {},
   "outputs": [
    {
     "name": "stderr",
     "output_type": "stream",
     "text": [
      "C:\\Users\\Botond\\anaconda3\\lib\\site-packages\\sklearn\\svm\\_base.py:246: ConvergenceWarning: Solver terminated early (max_iter=100).  Consider pre-processing your data with StandardScaler or MinMaxScaler.\n",
      "  warnings.warn('Solver terminated early (max_iter=%i).'\n"
     ]
    },
    {
     "name": "stdout",
     "output_type": "stream",
     "text": [
      "If the max_iter parameter is set to 100, the accuracy on the test set is 0.9888888888888889,the accuracy on the train set is 1.0.\n",
      "If the max_iter parameter is set to 1000, the accuracy on the test set is 0.9888888888888889,the accuracy on the train set is 0.9992044550517104.\n",
      "If the max_iter parameter is set to 1000000.0, the accuracy on the test set is 0.9888888888888889,the accuracy on the train set is 0.9992044550517104.\n",
      "If the max_iter parameter is set to -1, the accuracy on the test set is 0.9888888888888889,the accuracy on the train set is 0.9992044550517104.\n"
     ]
    }
   ],
   "source": [
    "for max_iter in [100, 1000, 1e6, -1]:\n",
    "    svm_classifier = SVC(kernel='poly', max_iter=max_iter, random_state=42)\n",
    "    svm_classifier.fit(x_train, y_train)\n",
    "    \n",
    "    y_pred_test = svm_classifier.predict(x_test)\n",
    "    accuracy_test = accuracy_score(y_test, y_pred_test)\n",
    "    \n",
    "    y_pred_train = svm_classifier.predict(x_train)\n",
    "    accuracy_train = accuracy_score(y_train, y_pred_train)\n",
    "    \n",
    "    print(f\"If the max_iter parameter is set to {max_iter}, the accuracy on the test set is {accuracy_test},\"\n",
    "          f\"the accuracy on the train set is {accuracy_train}.\")"
   ]
  },
  {
   "cell_type": "code",
   "execution_count": 15,
   "metadata": {},
   "outputs": [
    {
     "name": "stdout",
     "output_type": "stream",
     "text": [
      "If the decision_function_shape parameter is set to ovo, the accuracy on the test set is 0.9888888888888889,the accuracy on the train set is 0.9992044550517104.\n",
      "If the decision_function_shape parameter is set to ovr, the accuracy on the test set is 0.9888888888888889,the accuracy on the train set is 0.9992044550517104.\n"
     ]
    }
   ],
   "source": [
    "for decision_function_shape in ['ovo', 'ovr']:\n",
    "    svm_classifier = SVC(kernel='poly', decision_function_shape=decision_function_shape, random_state=42)\n",
    "    svm_classifier.fit(x_train, y_train)\n",
    "    \n",
    "    y_pred_test = svm_classifier.predict(x_test)\n",
    "    accuracy_test = accuracy_score(y_test, y_pred_test)\n",
    "    \n",
    "    y_pred_train = svm_classifier.predict(x_train)\n",
    "    accuracy_train = accuracy_score(y_train, y_pred_train)\n",
    "    \n",
    "    print(f\"If the decision_function_shape parameter is set to {decision_function_shape}, the accuracy on the test set is {accuracy_test},\"\n",
    "          f\"the accuracy on the train set is {accuracy_train}.\")"
   ]
  },
  {
   "cell_type": "code",
   "execution_count": 16,
   "metadata": {},
   "outputs": [
    {
     "name": "stdout",
     "output_type": "stream",
     "text": [
      "If the break_ties parameter is set to True, the accuracy on the test set is 0.987037037037037,the accuracy on the train set is 0.9992044550517104.\n",
      "If the break_ties parameter is set to False, the accuracy on the test set is 0.9888888888888889,the accuracy on the train set is 0.9992044550517104.\n"
     ]
    }
   ],
   "source": [
    "for break_ties in [True, False]:\n",
    "    svm_classifier = SVC(kernel='poly', break_ties=break_ties, random_state=42)\n",
    "    svm_classifier.fit(x_train, y_train)\n",
    "    \n",
    "    y_pred_test = svm_classifier.predict(x_test)\n",
    "    accuracy_test = accuracy_score(y_test, y_pred_test)\n",
    "    \n",
    "    y_pred_train = svm_classifier.predict(x_train)\n",
    "    accuracy_train = accuracy_score(y_train, y_pred_train)\n",
    "    \n",
    "    print(f\"If the break_ties parameter is set to {break_ties}, the accuracy on the test set is {accuracy_test},\"\n",
    "          f\"the accuracy on the train set is {accuracy_train}.\")"
   ]
  },
  {
   "cell_type": "markdown",
   "metadata": {},
   "source": [
    "So the parameter break_ties will be set to the default value False."
   ]
  },
  {
   "cell_type": "code",
   "execution_count": 17,
   "metadata": {},
   "outputs": [
    {
     "name": "stdout",
     "output_type": "stream",
     "text": [
      "If the degree parameter is set to 1, the accuracy on the test set is 0.975925925925926,the accuracy on the train set is 0.9840891010342084.\n",
      "If the degree parameter is set to 2, the accuracy on the test set is 0.987037037037037,the accuracy on the train set is 0.9960222752585521.\n",
      "If the degree parameter is set to 3, the accuracy on the test set is 0.9888888888888889,the accuracy on the train set is 0.9992044550517104.\n",
      "If the degree parameter is set to 4, the accuracy on the test set is 0.987037037037037,the accuracy on the train set is 1.0.\n",
      "If the degree parameter is set to 5, the accuracy on the test set is 0.9851851851851852,the accuracy on the train set is 1.0.\n",
      "If the degree parameter is set to 6, the accuracy on the test set is 0.9814814814814815,the accuracy on the train set is 1.0.\n"
     ]
    }
   ],
   "source": [
    "for degree in range(1, 7):\n",
    "    svm_classifier = SVC(kernel='poly', degree=degree, random_state=42)\n",
    "    svm_classifier.fit(x_train, y_train)\n",
    "    \n",
    "    y_pred_test = svm_classifier.predict(x_test)\n",
    "    accuracy_test = accuracy_score(y_test, y_pred_test)\n",
    "    \n",
    "    y_pred_train = svm_classifier.predict(x_train)\n",
    "    accuracy_train = accuracy_score(y_train, y_pred_train)\n",
    "    \n",
    "    print(f\"If the degree parameter is set to {degree}, the accuracy on the test set is {accuracy_test},\"\n",
    "          f\"the accuracy on the train set is {accuracy_train}.\")"
   ]
  },
  {
   "cell_type": "markdown",
   "metadata": {},
   "source": [
    "So the parameter degrees will be set to the default value 3."
   ]
  },
  {
   "cell_type": "code",
   "execution_count": 18,
   "metadata": {},
   "outputs": [
    {
     "name": "stdout",
     "output_type": "stream",
     "text": [
      "If the gamma parameter is set to scale, the accuracy on the test set is 0.9888888888888889,the accuracy on the train set is 0.9992044550517104.\n",
      "If the gamma parameter is set to auto, the accuracy on the test set is 0.9888888888888889,the accuracy on the train set is 1.0.\n",
      "If the gamma parameter is set to 1, the accuracy on the test set is 0.9888888888888889,the accuracy on the train set is 1.0.\n",
      "If the gamma parameter is set to 10, the accuracy on the test set is 0.9888888888888889,the accuracy on the train set is 1.0.\n",
      "If the gamma parameter is set to 100, the accuracy on the test set is 0.9888888888888889,the accuracy on the train set is 1.0.\n"
     ]
    }
   ],
   "source": [
    "for gamma in ['scale', 'auto', 1, 10, 100]:\n",
    "    svm_classifier = SVC(kernel='poly', gamma=gamma, random_state=42)\n",
    "    svm_classifier.fit(x_train, y_train)\n",
    "    \n",
    "    y_pred_test = svm_classifier.predict(x_test)\n",
    "    accuracy_test = accuracy_score(y_test, y_pred_test)\n",
    "    \n",
    "    y_pred_train = svm_classifier.predict(x_train)\n",
    "    accuracy_train = accuracy_score(y_train, y_pred_train)\n",
    "    \n",
    "    print(f\"If the gamma parameter is set to {gamma}, the accuracy on the test set is {accuracy_test},\"\n",
    "          f\"the accuracy on the train set is {accuracy_train}.\")"
   ]
  },
  {
   "cell_type": "code",
   "execution_count": 19,
   "metadata": {},
   "outputs": [
    {
     "name": "stdout",
     "output_type": "stream",
     "text": [
      "If the coef0 parameter is set to 0.0, the accuracy on the test set is 0.9888888888888889,the accuracy on the train set is 0.9992044550517104.\n",
      "If the coef0 parameter is set to -1.0, the accuracy on the test set is 0.9259259259259259,the accuracy on the train set is 0.9403341288782816.\n",
      "If the coef0 parameter is set to 1.0, the accuracy on the test set is 0.987037037037037,the accuracy on the train set is 1.0.\n",
      "If the coef0 parameter is set to -5.0, the accuracy on the test set is 0.9259259259259259,the accuracy on the train set is 0.9801113762927606.\n",
      "If the coef0 parameter is set to 5.0, the accuracy on the test set is 0.9851851851851852,the accuracy on the train set is 1.0.\n",
      "If the coef0 parameter is set to 10.0, the accuracy on the test set is 0.9851851851851852,the accuracy on the train set is 1.0.\n",
      "If the coef0 parameter is set to 100.0, the accuracy on the test set is 0.9796296296296296,the accuracy on the train set is 1.0.\n"
     ]
    }
   ],
   "source": [
    "for coef0 in [0., -1., 1., -5., 5., 10., 100.]:\n",
    "    svm_classifier = SVC(kernel='poly', coef0=coef0, random_state=42)\n",
    "    svm_classifier.fit(x_train, y_train)\n",
    "    \n",
    "    y_pred_test = svm_classifier.predict(x_test)\n",
    "    accuracy_test = accuracy_score(y_test, y_pred_test)\n",
    "    \n",
    "    y_pred_train = svm_classifier.predict(x_train)\n",
    "    accuracy_train = accuracy_score(y_train, y_pred_train)\n",
    "    \n",
    "    print(f\"If the coef0 parameter is set to {coef0}, the accuracy on the test set is {accuracy_test},\"\n",
    "          f\"the accuracy on the train set is {accuracy_train}.\")"
   ]
  },
  {
   "cell_type": "markdown",
   "metadata": {},
   "source": [
    "So the parameter coef0 will be set to the default value 0.0."
   ]
  },
  {
   "cell_type": "markdown",
   "metadata": {},
   "source": [
    "### RBF kernel"
   ]
  },
  {
   "cell_type": "code",
   "execution_count": 20,
   "metadata": {},
   "outputs": [
    {
     "name": "stdout",
     "output_type": "stream",
     "text": [
      "If the shrinking parameter is set to True, the accuracy on the test set is 0.987037037037037,the accuracy on the train set is 0.9968178202068417.\n",
      "If the shrinking parameter is set to False, the accuracy on the test set is 0.987037037037037,the accuracy on the train set is 0.9968178202068417.\n"
     ]
    }
   ],
   "source": [
    "for shrinking in [True, False]:\n",
    "    svm_classifier = SVC(kernel='rbf', shrinking=shrinking, random_state=42)\n",
    "    svm_classifier.fit(x_train, y_train)\n",
    "    \n",
    "    y_pred_test = svm_classifier.predict(x_test)\n",
    "    accuracy_test = accuracy_score(y_test, y_pred_test)\n",
    "    \n",
    "    y_pred_train = svm_classifier.predict(x_train)\n",
    "    accuracy_train = accuracy_score(y_train, y_pred_train)\n",
    "    \n",
    "    print(f\"If the shrinking parameter is set to {shrinking}, the accuracy on the test set is {accuracy_test},\"\n",
    "          f\"the accuracy on the train set is {accuracy_train}.\")"
   ]
  },
  {
   "cell_type": "code",
   "execution_count": 21,
   "metadata": {},
   "outputs": [
    {
     "name": "stdout",
     "output_type": "stream",
     "text": [
      "If the probability parameter is set to True, the accuracy on the test set is 0.987037037037037,the accuracy on the train set is 0.9968178202068417.\n",
      "If the probability parameter is set to False, the accuracy on the test set is 0.987037037037037,the accuracy on the train set is 0.9968178202068417.\n"
     ]
    }
   ],
   "source": [
    "for probability in [True, False]:\n",
    "    svm_classifier = SVC(kernel='rbf', probability=probability, random_state=42)\n",
    "    svm_classifier.fit(x_train, y_train)\n",
    "    \n",
    "    y_pred_test = svm_classifier.predict(x_test)\n",
    "    accuracy_test = accuracy_score(y_test, y_pred_test)\n",
    "    \n",
    "    y_pred_train = svm_classifier.predict(x_train)\n",
    "    accuracy_train = accuracy_score(y_train, y_pred_train)\n",
    "    \n",
    "    print(f\"If the probability parameter is set to {probability}, the accuracy on the test set is {accuracy_test},\"\n",
    "          f\"the accuracy on the train set is {accuracy_train}.\")"
   ]
  },
  {
   "cell_type": "code",
   "execution_count": 22,
   "metadata": {},
   "outputs": [
    {
     "name": "stdout",
     "output_type": "stream",
     "text": [
      "If the tol parameter is set to 0.001, the accuracy on the test set is 0.987037037037037,the accuracy on the train set is 0.9968178202068417.\n",
      "If the tol parameter is set to 0.0001, the accuracy on the test set is 0.987037037037037,the accuracy on the train set is 0.9968178202068417.\n",
      "If the tol parameter is set to 1e-05, the accuracy on the test set is 0.987037037037037,the accuracy on the train set is 0.9968178202068417.\n",
      "If the tol parameter is set to 1e-06, the accuracy on the test set is 0.987037037037037,the accuracy on the train set is 0.9968178202068417.\n",
      "If the tol parameter is set to 1e-07, the accuracy on the test set is 0.987037037037037,the accuracy on the train set is 0.9968178202068417.\n",
      "If the tol parameter is set to 1e-10, the accuracy on the test set is 0.987037037037037,the accuracy on the train set is 0.9968178202068417.\n"
     ]
    }
   ],
   "source": [
    "for tol in [1e-3, 1e-4, 1e-5, 1e-6, 1e-7, 1e-10]:\n",
    "    svm_classifier = SVC(kernel='rbf', tol=tol, random_state=42)\n",
    "    svm_classifier.fit(x_train, y_train)\n",
    "    \n",
    "    y_pred_test = svm_classifier.predict(x_test)\n",
    "    accuracy_test = accuracy_score(y_test, y_pred_test)\n",
    "    \n",
    "    y_pred_train = svm_classifier.predict(x_train)\n",
    "    accuracy_train = accuracy_score(y_train, y_pred_train)\n",
    "    \n",
    "    print(f\"If the tol parameter is set to {tol}, the accuracy on the test set is {accuracy_test},\"\n",
    "          f\"the accuracy on the train set is {accuracy_train}.\")"
   ]
  },
  {
   "cell_type": "code",
   "execution_count": 23,
   "metadata": {},
   "outputs": [
    {
     "name": "stdout",
     "output_type": "stream",
     "text": [
      "If the cache_size parameter is set to 100, the accuracy on the test set is 0.987037037037037,the accuracy on the train set is 0.9968178202068417.\n",
      "If the cache_size parameter is set to 200, the accuracy on the test set is 0.987037037037037,the accuracy on the train set is 0.9968178202068417.\n",
      "If the cache_size parameter is set to 500, the accuracy on the test set is 0.987037037037037,the accuracy on the train set is 0.9968178202068417.\n",
      "If the cache_size parameter is set to 1000, the accuracy on the test set is 0.987037037037037,the accuracy on the train set is 0.9968178202068417.\n"
     ]
    }
   ],
   "source": [
    "for cache_size in [100, 200, 500, 1000]:\n",
    "    svm_classifier = SVC(kernel='rbf', cache_size=cache_size, random_state=42)\n",
    "    svm_classifier.fit(x_train, y_train)\n",
    "    \n",
    "    y_pred_test = svm_classifier.predict(x_test)\n",
    "    accuracy_test = accuracy_score(y_test, y_pred_test)\n",
    "    \n",
    "    y_pred_train = svm_classifier.predict(x_train)\n",
    "    accuracy_train = accuracy_score(y_train, y_pred_train)\n",
    "    \n",
    "    print(f\"If the cache_size parameter is set to {cache_size}, the accuracy on the test set is {accuracy_test},\"\n",
    "          f\"the accuracy on the train set is {accuracy_train}.\")"
   ]
  },
  {
   "cell_type": "code",
   "execution_count": 24,
   "metadata": {},
   "outputs": [
    {
     "name": "stderr",
     "output_type": "stream",
     "text": [
      "C:\\Users\\Botond\\anaconda3\\lib\\site-packages\\sklearn\\svm\\_base.py:246: ConvergenceWarning: Solver terminated early (max_iter=100).  Consider pre-processing your data with StandardScaler or MinMaxScaler.\n",
      "  warnings.warn('Solver terminated early (max_iter=%i).'\n"
     ]
    },
    {
     "name": "stdout",
     "output_type": "stream",
     "text": [
      "If the max_iter parameter is set to 100, the accuracy on the test set is 0.987037037037037,the accuracy on the train set is 0.9968178202068417.\n",
      "If the max_iter parameter is set to 1000, the accuracy on the test set is 0.987037037037037,the accuracy on the train set is 0.9968178202068417.\n",
      "If the max_iter parameter is set to 1000000.0, the accuracy on the test set is 0.987037037037037,the accuracy on the train set is 0.9968178202068417.\n",
      "If the max_iter parameter is set to -1, the accuracy on the test set is 0.987037037037037,the accuracy on the train set is 0.9968178202068417.\n"
     ]
    }
   ],
   "source": [
    "for max_iter in [100, 1000, 1e6, -1]:\n",
    "    svm_classifier = SVC(kernel='rbf', max_iter=max_iter, random_state=42)\n",
    "    svm_classifier.fit(x_train, y_train)\n",
    "    \n",
    "    y_pred_test = svm_classifier.predict(x_test)\n",
    "    accuracy_test = accuracy_score(y_test, y_pred_test)\n",
    "    \n",
    "    y_pred_train = svm_classifier.predict(x_train)\n",
    "    accuracy_train = accuracy_score(y_train, y_pred_train)\n",
    "    \n",
    "    print(f\"If the max_iter parameter is set to {max_iter}, the accuracy on the test set is {accuracy_test},\"\n",
    "          f\"the accuracy on the train set is {accuracy_train}.\")"
   ]
  },
  {
   "cell_type": "code",
   "execution_count": 25,
   "metadata": {},
   "outputs": [
    {
     "name": "stdout",
     "output_type": "stream",
     "text": [
      "If the decision_function_shape parameter is set to ovo, the accuracy on the test set is 0.987037037037037,the accuracy on the train set is 0.9968178202068417.\n",
      "If the decision_function_shape parameter is set to ovr, the accuracy on the test set is 0.987037037037037,the accuracy on the train set is 0.9968178202068417.\n"
     ]
    }
   ],
   "source": [
    "for decision_function_shape in ['ovo', 'ovr']:\n",
    "    svm_classifier = SVC(kernel='rbf', decision_function_shape=decision_function_shape, random_state=42)\n",
    "    svm_classifier.fit(x_train, y_train)\n",
    "    \n",
    "    y_pred_test = svm_classifier.predict(x_test)\n",
    "    accuracy_test = accuracy_score(y_test, y_pred_test)\n",
    "    \n",
    "    y_pred_train = svm_classifier.predict(x_train)\n",
    "    accuracy_train = accuracy_score(y_train, y_pred_train)\n",
    "    \n",
    "    print(f\"If the decision_function_shape parameter is set to {decision_function_shape}, the accuracy on the test set is {accuracy_test},\"\n",
    "          f\"the accuracy on the train set is {accuracy_train}.\")"
   ]
  },
  {
   "cell_type": "code",
   "execution_count": 26,
   "metadata": {},
   "outputs": [
    {
     "name": "stdout",
     "output_type": "stream",
     "text": [
      "If the break_ties parameter is set to True, the accuracy on the test set is 0.987037037037037,the accuracy on the train set is 0.9968178202068417.\n",
      "If the break_ties parameter is set to False, the accuracy on the test set is 0.987037037037037,the accuracy on the train set is 0.9968178202068417.\n"
     ]
    }
   ],
   "source": [
    "for break_ties in [True, False]:\n",
    "    svm_classifier = SVC(kernel='rbf', break_ties=break_ties, random_state=42)\n",
    "    svm_classifier.fit(x_train, y_train)\n",
    "    \n",
    "    y_pred_test = svm_classifier.predict(x_test)\n",
    "    accuracy_test = accuracy_score(y_test, y_pred_test)\n",
    "    \n",
    "    y_pred_train = svm_classifier.predict(x_train)\n",
    "    accuracy_train = accuracy_score(y_train, y_pred_train)\n",
    "    \n",
    "    print(f\"If the break_ties parameter is set to {break_ties}, the accuracy on the test set is {accuracy_test},\"\n",
    "          f\"the accuracy on the train set is {accuracy_train}.\")"
   ]
  },
  {
   "cell_type": "code",
   "execution_count": 27,
   "metadata": {},
   "outputs": [
    {
     "name": "stdout",
     "output_type": "stream",
     "text": [
      "If the gamma parameter is set to scale, the accuracy on the test set is 0.987037037037037,the accuracy on the train set is 0.9968178202068417.\n",
      "If the gamma parameter is set to auto, the accuracy on the test set is 0.3925925925925926,the accuracy on the train set is 1.0.\n",
      "If the gamma parameter is set to 1, the accuracy on the test set is 0.09259259259259259,the accuracy on the train set is 1.0.\n",
      "If the gamma parameter is set to 10, the accuracy on the test set is 0.09259259259259259,the accuracy on the train set is 1.0.\n",
      "If the gamma parameter is set to 100, the accuracy on the test set is 0.09259259259259259,the accuracy on the train set is 1.0.\n"
     ]
    }
   ],
   "source": [
    "for gamma in ['scale', 'auto', 1, 10, 100]:\n",
    "    svm_classifier = SVC(kernel='rbf', gamma=gamma, random_state=42, degree=4)\n",
    "    svm_classifier.fit(x_train, y_train)\n",
    "    \n",
    "    y_pred_test = svm_classifier.predict(x_test)\n",
    "    accuracy_test = accuracy_score(y_test, y_pred_test)\n",
    "    \n",
    "    y_pred_train = svm_classifier.predict(x_train)\n",
    "    accuracy_train = accuracy_score(y_train, y_pred_train)\n",
    "    \n",
    "    print(f\"If the gamma parameter is set to {gamma}, the accuracy on the test set is {accuracy_test},\"\n",
    "          f\"the accuracy on the train set is {accuracy_train}.\")"
   ]
  },
  {
   "cell_type": "markdown",
   "metadata": {},
   "source": [
    "So the parameter gamma will be set to the default value scale."
   ]
  },
  {
   "cell_type": "markdown",
   "metadata": {},
   "source": [
    "### Sigmoid kernel"
   ]
  },
  {
   "cell_type": "code",
   "execution_count": 28,
   "metadata": {},
   "outputs": [
    {
     "name": "stdout",
     "output_type": "stream",
     "text": [
      "If the shrinking parameter is set to True, the accuracy on the test set is 0.9074074074074074,the accuracy on the train set is 0.9196499602227526.\n",
      "If the shrinking parameter is set to False, the accuracy on the test set is 0.9074074074074074,the accuracy on the train set is 0.9196499602227526.\n"
     ]
    }
   ],
   "source": [
    "for shrinking in [True, False]:\n",
    "    svm_classifier = SVC(kernel='sigmoid', shrinking=shrinking, random_state=42)\n",
    "    svm_classifier.fit(x_train, y_train)\n",
    "    \n",
    "    y_pred_test = svm_classifier.predict(x_test)\n",
    "    accuracy_test = accuracy_score(y_test, y_pred_test)\n",
    "    \n",
    "    y_pred_train = svm_classifier.predict(x_train)\n",
    "    accuracy_train = accuracy_score(y_train, y_pred_train)\n",
    "    \n",
    "    print(f\"If the shrinking parameter is set to {shrinking}, the accuracy on the test set is {accuracy_test},\"\n",
    "          f\"the accuracy on the train set is {accuracy_train}.\")"
   ]
  },
  {
   "cell_type": "code",
   "execution_count": 29,
   "metadata": {},
   "outputs": [
    {
     "name": "stdout",
     "output_type": "stream",
     "text": [
      "If the probability parameter is set to True, the accuracy on the test set is 0.9074074074074074,the accuracy on the train set is 0.9196499602227526.\n",
      "If the probability parameter is set to False, the accuracy on the test set is 0.9074074074074074,the accuracy on the train set is 0.9196499602227526.\n"
     ]
    }
   ],
   "source": [
    "for probability in [True, False]:\n",
    "    svm_classifier = SVC(kernel='sigmoid', probability=probability, random_state=42)\n",
    "    svm_classifier.fit(x_train, y_train)\n",
    "    \n",
    "    y_pred_test = svm_classifier.predict(x_test)\n",
    "    accuracy_test = accuracy_score(y_test, y_pred_test)\n",
    "    \n",
    "    y_pred_train = svm_classifier.predict(x_train)\n",
    "    accuracy_train = accuracy_score(y_train, y_pred_train)\n",
    "    \n",
    "    print(f\"If the probability parameter is set to {probability}, the accuracy on the test set is {accuracy_test},\"\n",
    "          f\"the accuracy on the train set is {accuracy_train}.\")"
   ]
  },
  {
   "cell_type": "code",
   "execution_count": 30,
   "metadata": {},
   "outputs": [
    {
     "name": "stdout",
     "output_type": "stream",
     "text": [
      "If the tol parameter is set to 0.001, the accuracy on the test set is 0.9074074074074074,the accuracy on the train set is 0.9196499602227526.\n",
      "If the tol parameter is set to 0.0001, the accuracy on the test set is 0.9074074074074074,the accuracy on the train set is 0.9196499602227526.\n",
      "If the tol parameter is set to 1e-05, the accuracy on the test set is 0.9074074074074074,the accuracy on the train set is 0.9196499602227526.\n",
      "If the tol parameter is set to 1e-06, the accuracy on the test set is 0.9074074074074074,the accuracy on the train set is 0.9196499602227526.\n",
      "If the tol parameter is set to 1e-07, the accuracy on the test set is 0.9074074074074074,the accuracy on the train set is 0.9196499602227526.\n",
      "If the tol parameter is set to 1e-10, the accuracy on the test set is 0.9074074074074074,the accuracy on the train set is 0.9196499602227526.\n"
     ]
    }
   ],
   "source": [
    "for tol in [1e-3, 1e-4, 1e-5, 1e-6, 1e-7, 1e-10]:\n",
    "    svm_classifier = SVC(kernel='sigmoid', tol=tol, random_state=42)\n",
    "    svm_classifier.fit(x_train, y_train)\n",
    "    \n",
    "    y_pred_test = svm_classifier.predict(x_test)\n",
    "    accuracy_test = accuracy_score(y_test, y_pred_test)\n",
    "    \n",
    "    y_pred_train = svm_classifier.predict(x_train)\n",
    "    accuracy_train = accuracy_score(y_train, y_pred_train)\n",
    "    \n",
    "    print(f\"If the tol parameter is set to {tol}, the accuracy on the test set is {accuracy_test},\"\n",
    "          f\"the accuracy on the train set is {accuracy_train}.\")"
   ]
  },
  {
   "cell_type": "code",
   "execution_count": 31,
   "metadata": {},
   "outputs": [
    {
     "name": "stdout",
     "output_type": "stream",
     "text": [
      "If the cache_size parameter is set to 100, the accuracy on the test set is 0.9074074074074074,the accuracy on the train set is 0.9196499602227526.\n",
      "If the cache_size parameter is set to 200, the accuracy on the test set is 0.9074074074074074,the accuracy on the train set is 0.9196499602227526.\n",
      "If the cache_size parameter is set to 500, the accuracy on the test set is 0.9074074074074074,the accuracy on the train set is 0.9196499602227526.\n",
      "If the cache_size parameter is set to 1000, the accuracy on the test set is 0.9074074074074074,the accuracy on the train set is 0.9196499602227526.\n"
     ]
    }
   ],
   "source": [
    "for cache_size in [100, 200, 500, 1000]:\n",
    "    svm_classifier = SVC(kernel='sigmoid', cache_size=cache_size, random_state=42)\n",
    "    svm_classifier.fit(x_train, y_train)\n",
    "    \n",
    "    y_pred_test = svm_classifier.predict(x_test)\n",
    "    accuracy_test = accuracy_score(y_test, y_pred_test)\n",
    "    \n",
    "    y_pred_train = svm_classifier.predict(x_train)\n",
    "    accuracy_train = accuracy_score(y_train, y_pred_train)\n",
    "    \n",
    "    print(f\"If the cache_size parameter is set to {cache_size}, the accuracy on the test set is {accuracy_test},\"\n",
    "          f\"the accuracy on the train set is {accuracy_train}.\")"
   ]
  },
  {
   "cell_type": "code",
   "execution_count": 32,
   "metadata": {},
   "outputs": [
    {
     "name": "stdout",
     "output_type": "stream",
     "text": [
      "If the max_iter parameter is set to 1000, the accuracy on the test set is 0.9074074074074074,the accuracy on the train set is 0.9196499602227526.\n",
      "If the max_iter parameter is set to 1000000.0, the accuracy on the test set is 0.9074074074074074,the accuracy on the train set is 0.9196499602227526.\n",
      "If the max_iter parameter is set to -1, the accuracy on the test set is 0.9074074074074074,the accuracy on the train set is 0.9196499602227526.\n"
     ]
    }
   ],
   "source": [
    "for max_iter in [1000, 1e6, -1]:\n",
    "    svm_classifier = SVC(kernel='sigmoid', max_iter=max_iter, random_state=42)\n",
    "    svm_classifier.fit(x_train, y_train)\n",
    "    \n",
    "    y_pred_test = svm_classifier.predict(x_test)\n",
    "    accuracy_test = accuracy_score(y_test, y_pred_test)\n",
    "    \n",
    "    y_pred_train = svm_classifier.predict(x_train)\n",
    "    accuracy_train = accuracy_score(y_train, y_pred_train)\n",
    "    \n",
    "    print(f\"If the max_iter parameter is set to {max_iter}, the accuracy on the test set is {accuracy_test},\"\n",
    "          f\"the accuracy on the train set is {accuracy_train}.\")"
   ]
  },
  {
   "cell_type": "code",
   "execution_count": 33,
   "metadata": {},
   "outputs": [
    {
     "name": "stdout",
     "output_type": "stream",
     "text": [
      "If the decision_function_shape parameter is set to ovo, the accuracy on the test set is 0.9074074074074074,the accuracy on the train set is 0.9196499602227526.\n",
      "If the decision_function_shape parameter is set to ovr, the accuracy on the test set is 0.9074074074074074,the accuracy on the train set is 0.9196499602227526.\n"
     ]
    }
   ],
   "source": [
    "for decision_function_shape in ['ovo', 'ovr']:\n",
    "    svm_classifier = SVC(kernel='sigmoid', decision_function_shape=decision_function_shape, random_state=42)\n",
    "    svm_classifier.fit(x_train, y_train)\n",
    "    \n",
    "    y_pred_test = svm_classifier.predict(x_test)\n",
    "    accuracy_test = accuracy_score(y_test, y_pred_test)\n",
    "    \n",
    "    y_pred_train = svm_classifier.predict(x_train)\n",
    "    accuracy_train = accuracy_score(y_train, y_pred_train)\n",
    "    \n",
    "    print(f\"If the decision_function_shape parameter is set to {decision_function_shape}, the accuracy on the test set is {accuracy_test},\"\n",
    "          f\"the accuracy on the train set is {accuracy_train}.\")"
   ]
  },
  {
   "cell_type": "code",
   "execution_count": 34,
   "metadata": {},
   "outputs": [
    {
     "name": "stdout",
     "output_type": "stream",
     "text": [
      "If the break_ties parameter is set to True, the accuracy on the test set is 0.9055555555555556,the accuracy on the train set is 0.9140811455847255.\n",
      "If the break_ties parameter is set to False, the accuracy on the test set is 0.9074074074074074,the accuracy on the train set is 0.9196499602227526.\n"
     ]
    }
   ],
   "source": [
    "for break_ties in [True, False]:\n",
    "    svm_classifier = SVC(kernel='sigmoid', break_ties=break_ties, random_state=42)\n",
    "    svm_classifier.fit(x_train, y_train)\n",
    "    \n",
    "    y_pred_test = svm_classifier.predict(x_test)\n",
    "    accuracy_test = accuracy_score(y_test, y_pred_test)\n",
    "    \n",
    "    y_pred_train = svm_classifier.predict(x_train)\n",
    "    accuracy_train = accuracy_score(y_train, y_pred_train)\n",
    "    \n",
    "    print(f\"If the break_ties parameter is set to {break_ties}, the accuracy on the test set is {accuracy_test},\"\n",
    "          f\"the accuracy on the train set is {accuracy_train}.\")"
   ]
  },
  {
   "cell_type": "markdown",
   "metadata": {},
   "source": [
    "So the parameter break_ties will be set to True."
   ]
  },
  {
   "cell_type": "code",
   "execution_count": 35,
   "metadata": {},
   "outputs": [
    {
     "name": "stdout",
     "output_type": "stream",
     "text": [
      "If the gamma parameter is set to scale, the accuracy on the test set is 0.9055555555555556,the accuracy on the train set is 0.9140811455847255.\n",
      "If the gamma parameter is set to auto, the accuracy on the test set is 0.09259259259259259,the accuracy on the train set is 0.10501193317422435.\n",
      "If the gamma parameter is set to 1, the accuracy on the test set is 0.09259259259259259,the accuracy on the train set is 0.10501193317422435.\n",
      "If the gamma parameter is set to 10, the accuracy on the test set is 0.09259259259259259,the accuracy on the train set is 0.10501193317422435.\n",
      "If the gamma parameter is set to 100, the accuracy on the test set is 0.09259259259259259,the accuracy on the train set is 0.10501193317422435.\n"
     ]
    }
   ],
   "source": [
    "for gamma in ['scale', 'auto', 1, 10, 100]:\n",
    "    svm_classifier = SVC(kernel='sigmoid', gamma=gamma, random_state=42, break_ties=True)\n",
    "    svm_classifier.fit(x_train, y_train)\n",
    "    \n",
    "    y_pred_test = svm_classifier.predict(x_test)\n",
    "    accuracy_test = accuracy_score(y_test, y_pred_test)\n",
    "    \n",
    "    y_pred_train = svm_classifier.predict(x_train)\n",
    "    accuracy_train = accuracy_score(y_train, y_pred_train)\n",
    "    \n",
    "    print(f\"If the gamma parameter is set to {gamma}, the accuracy on the test set is {accuracy_test},\"\n",
    "          f\"the accuracy on the train set is {accuracy_train}.\")"
   ]
  },
  {
   "cell_type": "markdown",
   "metadata": {},
   "source": [
    "So the parameter gamma will be set to the default value scale."
   ]
  },
  {
   "cell_type": "code",
   "execution_count": 36,
   "metadata": {},
   "outputs": [],
   "source": [
    "accuracy_test = []\n",
    "accuracy_train = []\n",
    "coef = range(-4, 4)\n",
    "for coef0 in coef:\n",
    "    svm_classifier = SVC(kernel='sigmoid', coef0=coef0, random_state=42, break_ties=True)\n",
    "    svm_classifier.fit(x_train, y_train)\n",
    "    \n",
    "    y_pred_test = svm_classifier.predict(x_test)\n",
    "    accuracy_test.append(accuracy_score(y_test, y_pred_test))\n",
    "    \n",
    "    y_pred_train = svm_classifier.predict(x_train)\n",
    "    accuracy_train.append(accuracy_score(y_train, y_pred_train))\n",
    "    "
   ]
  },
  {
   "cell_type": "code",
   "execution_count": 37,
   "metadata": {},
   "outputs": [
    {
     "data": {
      "image/png": "[encoded data removed]",
      "text/plain": [
       "<Figure size 432x288 with 1 Axes>"
      ]
     },
     "metadata": {
      "needs_background": "light"
     },
     "output_type": "display_data"
    }
   ],
   "source": [
    "import matplotlib.pyplot as plt\n",
    "\n",
    "# Assuming coef and accuracy_test/accuracy_train are defined somewhere in your code\n",
    "\n",
    "plt.plot(coef, accuracy_test, label='Test Accuracy')\n",
    "plt.plot(coef, accuracy_train, label='Train Accuracy')\n",
    "\n",
    "# Add labels and a legend\n",
    "plt.xlabel('Coefficient')\n",
    "plt.ylabel('Accuracy')\n",
    "plt.legend()\n",
    "\n",
    "# Show the plot\n",
    "plt.show()\n"
   ]
  },
  {
   "cell_type": "markdown",
   "metadata": {},
   "source": [
    "So the parameter coef0 will be set to -2."
   ]
  },
  {
   "cell_type": "markdown",
   "metadata": {},
   "source": [
    "### Conclusion\n",
    "My approach was to iterate through all hyperparameters one by one, create models with (some) possible values, and if there was a non-default value, that increased the performance on the test set, I set it, and moved towards the next parameter."
   ]
  },
  {
   "cell_type": "markdown",
   "metadata": {},
   "source": [
    "In the linear case the model improved by setting the hyperparameter break_ties to True, and leaving all the other ones as the default."
   ]
  },
  {
   "cell_type": "code",
   "execution_count": 38,
   "metadata": {},
   "outputs": [
    {
     "name": "stdout",
     "output_type": "stream",
     "text": [
      "If the kernel is linear, the default model's accuracy on the test set is 0.9796296296296296,the accuracy on the train set is 1.0.\n",
      "If the kernel is linear, the best model's accuracy on the test set is 0.9814814814814815, the accuracy on the train set is 1.0.\n"
     ]
    }
   ],
   "source": [
    "svm_classifier = SVC(kernel='linear', random_state=42)\n",
    "svm_classifier.fit(x_train, y_train)\n",
    "\n",
    "y_pred_test = svm_classifier.predict(x_test)\n",
    "accuracy_test = accuracy_score(y_test, y_pred_test)\n",
    "\n",
    "y_pred_train = svm_classifier.predict(x_train)\n",
    "accuracy_train = accuracy_score(y_train, y_pred_train)\n",
    "\n",
    "print(f\"If the kernel is linear, the default model's accuracy on the test set is {accuracy_test},\"\n",
    "      f\"the accuracy on the train set is {accuracy_train}.\")\n",
    "\n",
    "svm_classifier = SVC(kernel='linear', random_state=42, break_ties=True)\n",
    "svm_classifier.fit(x_train, y_train)\n",
    "\n",
    "y_pred_test = svm_classifier.predict(x_test)\n",
    "accuracy_test = accuracy_score(y_test, y_pred_test)\n",
    "\n",
    "y_pred_train = svm_classifier.predict(x_train)\n",
    "accuracy_train = accuracy_score(y_train, y_pred_train)\n",
    "\n",
    "print(f\"If the kernel is linear, the best model's accuracy on the test set is {accuracy_test},\"\n",
    "      f\" the accuracy on the train set is {accuracy_train}.\")"
   ]
  },
  {
   "cell_type": "markdown",
   "metadata": {},
   "source": [
    "In the polynomial case the best model is the default one."
   ]
  },
  {
   "cell_type": "code",
   "execution_count": 39,
   "metadata": {},
   "outputs": [
    {
     "name": "stdout",
     "output_type": "stream",
     "text": [
      "If the kernel is polynomial, the default model's accuracy on the test set is 0.9888888888888889,the accuracy on the train set is 0.9992044550517104.\n"
     ]
    }
   ],
   "source": [
    "svm_classifier = SVC(kernel='poly', random_state=42)\n",
    "svm_classifier.fit(x_train, y_train)\n",
    "\n",
    "y_pred_test = svm_classifier.predict(x_test)\n",
    "accuracy_test = accuracy_score(y_test, y_pred_test)\n",
    "\n",
    "y_pred_train = svm_classifier.predict(x_train)\n",
    "accuracy_train = accuracy_score(y_train, y_pred_train)\n",
    "\n",
    "print(f\"If the kernel is polynomial, the default model's accuracy on the test set is {accuracy_test},\"\n",
    "      f\"the accuracy on the train set is {accuracy_train}.\")"
   ]
  },
  {
   "cell_type": "markdown",
   "metadata": {},
   "source": [
    "In the rbf case the model performs the best, if every parameter is set as the default value."
   ]
  },
  {
   "cell_type": "code",
   "execution_count": 40,
   "metadata": {},
   "outputs": [
    {
     "name": "stdout",
     "output_type": "stream",
     "text": [
      "If the kernel is rbf, the accuracy on the test set is 0.987037037037037,the accuracy on the train set is 0.9968178202068417.\n"
     ]
    }
   ],
   "source": [
    "svm_classifier = SVC(kernel='rbf', random_state=42)\n",
    "svm_classifier.fit(x_train, y_train)\n",
    "\n",
    "y_pred_test = svm_classifier.predict(x_test)\n",
    "accuracy_test = accuracy_score(y_test, y_pred_test)\n",
    "\n",
    "y_pred_train = svm_classifier.predict(x_train)\n",
    "accuracy_train = accuracy_score(y_train, y_pred_train)\n",
    "\n",
    "print(f\"If the kernel is rbf, the accuracy on the test set is {accuracy_test},\"\n",
    "      f\"the accuracy on the train set is {accuracy_train}.\")"
   ]
  },
  {
   "cell_type": "markdown",
   "metadata": {},
   "source": [
    "In the sigmoid case the model improved by setting the hyperparameters coef0 to -2, break_ties to True and leaving all the other ones as the default."
   ]
  },
  {
   "cell_type": "code",
   "execution_count": 41,
   "metadata": {},
   "outputs": [
    {
     "name": "stdout",
     "output_type": "stream",
     "text": [
      "If the kernel is sigmoid, the default model's accuracy on the test set is 0.9074074074074074,the accuracy on the train set is 0.9196499602227526.\n",
      "If the kernel is rbf, the best model's accuracy on the test set is 0.975925925925926,the accuracy on the train set is 0.984884645982498.\n"
     ]
    }
   ],
   "source": [
    "svm_classifier = SVC(kernel='sigmoid', random_state=42)\n",
    "svm_classifier.fit(x_train, y_train)\n",
    "\n",
    "y_pred_test = svm_classifier.predict(x_test)\n",
    "accuracy_test = accuracy_score(y_test, y_pred_test)\n",
    "\n",
    "y_pred_train = svm_classifier.predict(x_train)\n",
    "accuracy_train = accuracy_score(y_train, y_pred_train)\n",
    "\n",
    "print(f\"If the kernel is sigmoid, the default model's accuracy on the test set is {accuracy_test},\"\n",
    "      f\"the accuracy on the train set is {accuracy_train}.\")\n",
    "\n",
    "svm_classifier = SVC(kernel='sigmoid', random_state=42,  coef0=-2, break_ties=True)\n",
    "svm_classifier.fit(x_train, y_train)\n",
    "\n",
    "y_pred_test = svm_classifier.predict(x_test)\n",
    "accuracy_test = accuracy_score(y_test, y_pred_test)\n",
    "\n",
    "y_pred_train = svm_classifier.predict(x_train)\n",
    "accuracy_train = accuracy_score(y_train, y_pred_train)\n",
    "\n",
    "print(f\"If the kernel is rbf, the best model's accuracy on the test set is {accuracy_test},\"\n",
    "      f\"the accuracy on the train set is {accuracy_train}.\")"
   ]
  },
  {
   "cell_type": "markdown",
   "metadata": {},
   "source": [
    "Thus the best model I found is the polynomial one with degree of 4."
   ]
  },
  {
   "cell_type": "markdown",
   "metadata": {},
   "source": [
    "## Subtask 2: Develop Your Own Kernel"
   ]
  },
  {
   "cell_type": "code",
   "execution_count": 99,
   "metadata": {},
   "outputs": [
    {
     "name": "stdout",
     "output_type": "stream",
     "text": [
      "Accuracy with custom kernel: 0.9888888888888889\n"
     ]
    }
   ],
   "source": [
    "def custom_kernel(x1, x2):\n",
    "    return np.dot(x1, x2.T)**3 + np.tanh(-0.1*np.dot(x1, x2.T)+1) * np.dot(x1, x2.T + 1)\n",
    "\n",
    "svm_classifier = SVC(kernel=custom_kernel)\n",
    "\n",
    "svm_classifier.fit(x_train, y_train)\n",
    "\n",
    "y_pred = svm_classifier.predict(x_test)\n",
    "\n",
    "accuracy = accuracy_score(y_test, y_pred)\n",
    "\n",
    "print(f\"Accuracy with custom kernel: {accuracy}\")\n"
   ]
  },
  {
   "cell_type": "markdown",
   "metadata": {},
   "source": [
    "My approach was to use the learnt facts that the sum and product of kernels are valid kernels, and try to combine these well-known kernel, but I was unable to beat the best score (98.9%), only reach it."
   ]
  },
  {
   "cell_type": "markdown",
   "metadata": {},
   "source": [
    "# Task 2: Feature Selection"
   ]
  },
  {
   "cell_type": "code",
   "execution_count": 43,
   "metadata": {},
   "outputs": [],
   "source": [
    "from sklearn.datasets import load_breast_cancer\n",
    "data_breast_cancer = load_breast_cancer()\n",
    "  \n",
    "x = data_breast_cancer.data\n",
    "y = data_breast_cancer.target\n",
    "features = data_breast_cancer.feature_names\n"
   ]
  },
  {
   "cell_type": "code",
   "execution_count": 44,
   "metadata": {},
   "outputs": [],
   "source": [
    "from sklearn.preprocessing import MinMaxScaler\n",
    "from sklearn.svm import LinearSVC\n",
    "\n",
    "scaler = MinMaxScaler()\n",
    "x = scaler.fit_transform(x)\n",
    "\n",
    "x_train, x_test, y_train, y_test = train_test_split(x, y, test_size=0.3, shuffle=True, random_state=42)\n",
    "y_train = y_train.ravel()\n",
    "y_test = y_test.ravel()\n",
    "\n",
    "linear_svc_model = LinearSVC()"
   ]
  },
  {
   "cell_type": "markdown",
   "metadata": {},
   "source": [
    "## Subtask 1: Forward Greedy Feature Selection"
   ]
  },
  {
   "cell_type": "code",
   "execution_count": 45,
   "metadata": {},
   "outputs": [],
   "source": [
    "from sklearn.model_selection import cross_val_score, KFold\n",
    "from typing import List, Tuple\n",
    "\n",
    "\n",
    "def forward_greedy_selection(x: np.ndarray, y: np.ndarray, model: callable) -> Tuple[List[int], List[float]]:\n",
    "\n",
    "    num_features = x.shape[1]\n",
    "\n",
    "    selected_features = []\n",
    "    cv_scores = []\n",
    "\n",
    "    for _ in range(num_features):\n",
    "        # Features not yet selected\n",
    "        remaining_features = list(set(range(num_features)) - set(selected_features))\n",
    "\n",
    "        # Cross-validation scores for the remaining features\n",
    "        scores = []\n",
    "\n",
    "        for feature in remaining_features:\n",
    "            # Features selected so far + the current feature\n",
    "            current_features = selected_features + [feature]\n",
    "            # Perform 10-fold cross-validation\n",
    "            kf = KFold(n_splits=10, shuffle=True, random_state=42)\n",
    "            score = np.mean(cross_val_score(model, x[:, current_features], y, cv=kf))\n",
    "            scores.append(score)\n",
    "\n",
    "        # Select the feature that gives the highest cross-validation score\n",
    "        best_feature = remaining_features[np.argmax(scores)]\n",
    "\n",
    "        # Add the best feature to the selected features\n",
    "        selected_features.append(best_feature)\n",
    "\n",
    "        # Record the cross-validation score for the current set of features\n",
    "        cv_scores.append(np.max(scores))\n",
    "\n",
    "    return selected_features, cv_scores\n"
   ]
  },
  {
   "cell_type": "code",
   "execution_count": 46,
   "metadata": {},
   "outputs": [],
   "source": [
    "forward_selected_features, forward_cv_scores = forward_greedy_selection(x_train, y_train, linear_svc_model)"
   ]
  },
  {
   "cell_type": "code",
   "execution_count": 47,
   "metadata": {},
   "outputs": [
    {
     "name": "stdout",
     "output_type": "stream",
     "text": [
      "Names of selected features in order: ['worst perimeter', 'worst smoothness', 'worst texture', 'worst radius', 'worst concavity', 'mean radius', 'mean area', 'mean compactness', 'mean fractal dimension', 'area error', 'mean perimeter', 'compactness error', 'concavity error', 'mean texture', 'texture error', 'perimeter error', 'mean concave points', 'worst symmetry', 'radius error', 'smoothness error', 'concave points error', 'fractal dimension error', 'worst area', 'mean smoothness', 'worst concave points', 'mean symmetry', 'worst compactness', 'symmetry error', 'worst fractal dimension', 'mean concavity']\n"
     ]
    }
   ],
   "source": [
    "forward_selected_feature_names = [features[i] for i in forward_selected_features]\n",
    "\n",
    "print(\"Names of selected features in order:\", forward_selected_feature_names)"
   ]
  },
  {
   "cell_type": "code",
   "execution_count": 48,
   "metadata": {},
   "outputs": [
    {
     "data": {
      "image/png": "[encoded data removed]",
      "text/plain": [
       "<Figure size 1080x432 with 1 Axes>"
      ]
     },
     "metadata": {
      "needs_background": "light"
     },
     "output_type": "display_data"
    }
   ],
   "source": [
    "plt.figure(figsize=(15, 6))\n",
    "plt.plot(range(1, len(forward_cv_scores) + 1), forward_cv_scores, marker='o')\n",
    "plt.xlabel('Number of Features')\n",
    "plt.ylabel('Cross-validation Score')\n",
    "plt.title('Forward Greedy Feature Selection')\n",
    "plt.show()\n"
   ]
  },
  {
   "cell_type": "markdown",
   "metadata": {},
   "source": [
    "## Subtask 2: Backward Greedy Feature Selection"
   ]
  },
  {
   "cell_type": "code",
   "execution_count": 49,
   "metadata": {},
   "outputs": [],
   "source": [
    "def backward_greedy_selection(x: np.ndarray, y: np.ndarray, model: callable) -> Tuple[List[int], List[float]]:\n",
    "    \"\"\"\n",
    "    Perform backward greedy feature selection based on cross-validation scores.\n",
    "\n",
    "    Parameters:\n",
    "    - x (np.ndarray): Feature matrix.\n",
    "    - y (np.ndarray): Target variable.\n",
    "    - model (callable): A callable function or class for classification.\n",
    "\n",
    "    Returns:\n",
    "    - selected_features (List[int]): List of selected feature indices.\n",
    "    \"\"\"\n",
    "\n",
    "    num_features = x.shape[1]\n",
    "    \n",
    "    selected_features_backward = []\n",
    "    cv_scores = []\n",
    "\n",
    "    for _ in range(num_features - 1):\n",
    "        # Features not yet removed\n",
    "        remaining_features = list(set(range(num_features)) - set(selected_features_backward))\n",
    "        \n",
    "        # Cross-validation scores for the remaining features\n",
    "        scores = []\n",
    "        \n",
    "        for feature in remaining_features:\n",
    "            # Features remaining after removing the current feature\n",
    "            current_features = list(set(remaining_features) - {feature})\n",
    "            \n",
    "            # Perform 10-fold cross-validation\n",
    "            kf = KFold(n_splits=10, shuffle=True, random_state=42)\n",
    "            score = np.mean(cross_val_score(model, x[:, current_features], y, cv=kf))\n",
    "            scores.append(score)\n",
    "        \n",
    "        # Remove the feature that gives the lowest cross-validation score\n",
    "        worst_feature = remaining_features[np.argmax(scores)]\n",
    "\n",
    "        # Add the best feature to the selected features\n",
    "        selected_features_backward.append(worst_feature)\n",
    "\n",
    "        # Record the cross-validation score for the current set of features\n",
    "        cv_scores.append(np.max(scores))\n",
    "        \n",
    "    last_feature = list(set(range(num_features)) - set(selected_features_backward))\n",
    "    \n",
    "    selected_features_backward += last_feature\n",
    "        \n",
    "    return selected_features_backward, cv_scores\n"
   ]
  },
  {
   "cell_type": "code",
   "execution_count": 50,
   "metadata": {},
   "outputs": [],
   "source": [
    "backward_selected_features, backward_cv_scores = backward_greedy_selection(x_train, y_train, linear_svc_model)"
   ]
  },
  {
   "cell_type": "code",
   "execution_count": 51,
   "metadata": {},
   "outputs": [
    {
     "name": "stdout",
     "output_type": "stream",
     "text": [
      "Names of dropped features in order: ['mean compactness', 'mean radius', 'mean texture', 'perimeter error', 'mean perimeter', 'mean area', 'mean smoothness', 'mean symmetry', 'texture error', 'concavity error', 'concave points error', 'worst smoothness', 'area error', 'worst compactness', 'worst fractal dimension', 'symmetry error', 'worst concavity', 'worst perimeter', 'mean concave points', 'smoothness error', 'mean fractal dimension', 'worst symmetry', 'radius error', 'compactness error', 'worst area', 'fractal dimension error', 'mean concavity', 'worst texture', 'worst radius', 'worst concave points']\n"
     ]
    }
   ],
   "source": [
    "backward_selected_feature_names = [features[i] for i in backward_selected_features]\n",
    "\n",
    "print(\"Names of dropped features in order:\", backward_selected_feature_names)"
   ]
  },
  {
   "cell_type": "code",
   "execution_count": 52,
   "metadata": {},
   "outputs": [
    {
     "data": {
      "image/png": "[encoded data removed]",
      "text/plain": [
       "<Figure size 1080x432 with 1 Axes>"
      ]
     },
     "metadata": {
      "needs_background": "light"
     },
     "output_type": "display_data"
    }
   ],
   "source": [
    "plt.figure(figsize=(15, 6))\n",
    "plt.plot(range(1, len(backward_cv_scores) + 1), backward_cv_scores, marker='o')\n",
    "plt.xlabel('Number of Dropped Features')\n",
    "plt.ylabel('Cross-validation Score')\n",
    "plt.title('Backward Greedy Feature Selection')\n",
    "plt.show()\n"
   ]
  },
  {
   "cell_type": "markdown",
   "metadata": {},
   "source": [
    "## Subtask 3: Feature Importance\n"
   ]
  },
  {
   "cell_type": "code",
   "execution_count": 53,
   "metadata": {},
   "outputs": [
    {
     "name": "stdout",
     "output_type": "stream",
     "text": [
      "The selected features with forward greedy feature selection are: ['worst perimeter', 'worst smoothness', 'worst texture', 'worst radius', 'worst concavity', 'mean radius']\n"
     ]
    },
    {
     "ename": "NameError",
     "evalue": "name 'kf' is not defined",
     "output_type": "error",
     "traceback": [
      "\u001b[1;31m---------------------------------------------------------------------------\u001b[0m",
      "\u001b[1;31mNameError\u001b[0m                                 Traceback (most recent call last)",
      "\u001b[1;32m<ipython-input-53-3be866c9d065>\u001b[0m in \u001b[0;36m<module>\u001b[1;34m\u001b[0m\n\u001b[0;32m      3\u001b[0m \u001b[0mprint\u001b[0m\u001b[1;33m(\u001b[0m\u001b[1;34mf\"The selected features with forward greedy feature selection are: {forward_selected_feature_names_6}\"\u001b[0m\u001b[1;33m)\u001b[0m\u001b[1;33m\u001b[0m\u001b[1;33m\u001b[0m\u001b[0m\n\u001b[0;32m      4\u001b[0m \u001b[1;33m\u001b[0m\u001b[0m\n\u001b[1;32m----> 5\u001b[1;33m \u001b[0mforward_score\u001b[0m \u001b[1;33m=\u001b[0m \u001b[0mnp\u001b[0m\u001b[1;33m.\u001b[0m\u001b[0mmean\u001b[0m\u001b[1;33m(\u001b[0m\u001b[0mcross_val_score\u001b[0m\u001b[1;33m(\u001b[0m\u001b[0mlinear_svc_model\u001b[0m\u001b[1;33m,\u001b[0m \u001b[0mx_train\u001b[0m\u001b[1;33m[\u001b[0m\u001b[1;33m:\u001b[0m\u001b[1;33m,\u001b[0m \u001b[0mforward_selected_features_6\u001b[0m\u001b[1;33m]\u001b[0m\u001b[1;33m,\u001b[0m \u001b[0my_train\u001b[0m\u001b[1;33m,\u001b[0m \u001b[0mcv\u001b[0m\u001b[1;33m=\u001b[0m\u001b[0mkf\u001b[0m\u001b[1;33m)\u001b[0m\u001b[1;33m)\u001b[0m\u001b[1;33m\u001b[0m\u001b[1;33m\u001b[0m\u001b[0m\n\u001b[0m\u001b[0;32m      6\u001b[0m \u001b[0mprint\u001b[0m\u001b[1;33m(\u001b[0m\u001b[1;34mf\"The model's CV score using only these features: {forward_score}\"\u001b[0m\u001b[1;33m)\u001b[0m\u001b[1;33m\u001b[0m\u001b[1;33m\u001b[0m\u001b[0m\n",
      "\u001b[1;31mNameError\u001b[0m: name 'kf' is not defined"
     ]
    }
   ],
   "source": [
    "forward_selected_features_6 = forward_selected_features[:6]\n",
    "forward_selected_feature_names_6 = [features[i] for i in forward_selected_features_6]\n",
    "print(f\"The selected features with forward greedy feature selection are: {forward_selected_feature_names_6}\")\n",
    "\n",
    "forward_score = np.mean(cross_val_score(linear_svc_model, x_train[:, forward_selected_features_6], y_train, cv=kf))\n",
    "print(f\"The model's CV score using only these features: {forward_score}\")"
   ]
  },
  {
   "cell_type": "code",
   "execution_count": null,
   "metadata": {},
   "outputs": [],
   "source": [
    "backward_selected_features_6 = backward_selected_features[-6:]\n",
    "backward_selected_feature_names_6 = [features[i] for i in backward_selected_features_6]\n",
    "print(f\"The selected features with backward greedy feature selection are: {backward_selected_feature_names_6}\")\n",
    "\n",
    "kf = KFold(n_splits=10, shuffle=True, random_state=42)\n",
    "backward_score = np.mean(cross_val_score(linear_svc_model, x_train[:, backward_selected_features_6], y_train, cv=kf))\n",
    "print(f\"The model's CV score using only these features: {backward_score}\")"
   ]
  },
  {
   "cell_type": "markdown",
   "metadata": {},
   "source": [
    "Out of the 6 features only 2 match, which can be explained by the different approaches of the methods and the fact that selecting only 6 features out of 30 is not robust. Also correlations between variables can lead to similarly performing submodels."
   ]
  }
 ],
 "metadata": {
  "kernelspec": {
   "display_name": "Python 3",
   "language": "python",
   "name": "python3"
  },
  "language_info": {
   "codemirror_mode": {
    "name": "ipython",
    "version": 3
   },
   "file_extension": ".py",
   "mimetype": "text/x-python",
   "name": "python",
   "nbconvert_exporter": "python",
   "pygments_lexer": "ipython3",
   "version": "3.8.5"
  }
 },
 "nbformat": 4,
 "nbformat_minor": 4
}
