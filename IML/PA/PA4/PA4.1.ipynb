{
 "cells": [
  {
   "cell_type": "markdown",
   "metadata": {},
   "source": [
    "# Task 1: Movie Recommendation\n"
   ]
  },
  {
   "cell_type": "code",
   "execution_count": 1,
   "metadata": {},
   "outputs": [],
   "source": [
    "# basic imports\n",
    "import pandas as pd\n",
    "import numpy as np\n"
   ]
  },
  {
   "cell_type": "markdown",
   "metadata": {},
   "source": [
    "## Subtask 1: Data Loading and Data Preparation"
   ]
  },
  {
   "cell_type": "code",
   "execution_count": 2,
   "metadata": {},
   "outputs": [
    {
     "data": {
      "text/html": [
       "<div>\n",
       "<style scoped>\n",
       "    .dataframe tbody tr th:only-of-type {\n",
       "        vertical-align: middle;\n",
       "    }\n",
       "\n",
       "    .dataframe tbody tr th {\n",
       "        vertical-align: top;\n",
       "    }\n",
       "\n",
       "    .dataframe thead th {\n",
       "        text-align: right;\n",
       "    }\n",
       "</style>\n",
       "<table border=\"1\" class=\"dataframe\">\n",
       "  <thead>\n",
       "    <tr style=\"text-align: right;\">\n",
       "      <th></th>\n",
       "      <th>0</th>\n",
       "      <th>1</th>\n",
       "      <th>2</th>\n",
       "      <th>3</th>\n",
       "    </tr>\n",
       "  </thead>\n",
       "  <tbody>\n",
       "    <tr>\n",
       "      <th>0</th>\n",
       "      <td>1</td>\n",
       "      <td>1193</td>\n",
       "      <td>5</td>\n",
       "      <td>978300760</td>\n",
       "    </tr>\n",
       "    <tr>\n",
       "      <th>1</th>\n",
       "      <td>1</td>\n",
       "      <td>661</td>\n",
       "      <td>3</td>\n",
       "      <td>978302109</td>\n",
       "    </tr>\n",
       "    <tr>\n",
       "      <th>2</th>\n",
       "      <td>1</td>\n",
       "      <td>914</td>\n",
       "      <td>3</td>\n",
       "      <td>978301968</td>\n",
       "    </tr>\n",
       "    <tr>\n",
       "      <th>3</th>\n",
       "      <td>1</td>\n",
       "      <td>3408</td>\n",
       "      <td>4</td>\n",
       "      <td>978300275</td>\n",
       "    </tr>\n",
       "    <tr>\n",
       "      <th>4</th>\n",
       "      <td>1</td>\n",
       "      <td>2355</td>\n",
       "      <td>5</td>\n",
       "      <td>978824291</td>\n",
       "    </tr>\n",
       "  </tbody>\n",
       "</table>\n",
       "</div>"
      ],
      "text/plain": [
       "   0     1  2          3\n",
       "0  1  1193  5  978300760\n",
       "1  1   661  3  978302109\n",
       "2  1   914  3  978301968\n",
       "3  1  3408  4  978300275\n",
       "4  1  2355  5  978824291"
      ]
     },
     "execution_count": 2,
     "metadata": {},
     "output_type": "execute_result"
    }
   ],
   "source": [
    "# loading in ratings.dat\n",
    "df_ratings = pd.read_csv('ratings.dat', delimiter='::', lineterminator='\\n', header=None, engine='python')\n",
    "df_ratings.head()\n"
   ]
  },
  {
   "cell_type": "markdown",
   "metadata": {},
   "source": [
    "After looking at some rows in `df_ratings`, it is prepared for further calculations:\n",
    " - The `timestamp` column is deleted as hinted.\n",
    " - Columns renamings.\n",
    " - All users which have rated less than 100 movies are dropped.\n"
   ]
  },
  {
   "cell_type": "code",
   "execution_count": 3,
   "metadata": {},
   "outputs": [],
   "source": [
    "# drop the timestamp column\n",
    "df_ratings.drop(columns=[3], inplace=True)\n",
    "\n",
    "# rename the remaining columns\n",
    "df_ratings.columns = ['UserID', 'MovieID', 'Rating']\n",
    "\n",
    "# Get the IDs that appear at least 100 times\n",
    "id_counts = df_ratings['UserID'].value_counts()\n",
    "valid_ids = id_counts[id_counts >= 100].index\n",
    "\n",
    "# Filter the DataFrame to keep only the rows with valid IDs\n",
    "df_ratings = df_ratings[df_ratings['UserID'].isin(valid_ids)]"
   ]
  },
  {
   "cell_type": "code",
   "execution_count": 4,
   "metadata": {},
   "outputs": [
    {
     "data": {
      "text/html": [
       "<div>\n",
       "<style scoped>\n",
       "    .dataframe tbody tr th:only-of-type {\n",
       "        vertical-align: middle;\n",
       "    }\n",
       "\n",
       "    .dataframe tbody tr th {\n",
       "        vertical-align: top;\n",
       "    }\n",
       "\n",
       "    .dataframe thead th {\n",
       "        text-align: right;\n",
       "    }\n",
       "</style>\n",
       "<table border=\"1\" class=\"dataframe\">\n",
       "  <thead>\n",
       "    <tr style=\"text-align: right;\">\n",
       "      <th></th>\n",
       "      <th>0</th>\n",
       "      <th>1</th>\n",
       "      <th>2</th>\n",
       "      <th>3</th>\n",
       "      <th>4</th>\n",
       "    </tr>\n",
       "  </thead>\n",
       "  <tbody>\n",
       "    <tr>\n",
       "      <th>0</th>\n",
       "      <td>1</td>\n",
       "      <td>F</td>\n",
       "      <td>1</td>\n",
       "      <td>10</td>\n",
       "      <td>48067</td>\n",
       "    </tr>\n",
       "    <tr>\n",
       "      <th>1</th>\n",
       "      <td>2</td>\n",
       "      <td>M</td>\n",
       "      <td>56</td>\n",
       "      <td>16</td>\n",
       "      <td>70072</td>\n",
       "    </tr>\n",
       "    <tr>\n",
       "      <th>2</th>\n",
       "      <td>3</td>\n",
       "      <td>M</td>\n",
       "      <td>25</td>\n",
       "      <td>15</td>\n",
       "      <td>55117</td>\n",
       "    </tr>\n",
       "    <tr>\n",
       "      <th>3</th>\n",
       "      <td>4</td>\n",
       "      <td>M</td>\n",
       "      <td>45</td>\n",
       "      <td>7</td>\n",
       "      <td>02460</td>\n",
       "    </tr>\n",
       "    <tr>\n",
       "      <th>4</th>\n",
       "      <td>5</td>\n",
       "      <td>M</td>\n",
       "      <td>25</td>\n",
       "      <td>20</td>\n",
       "      <td>55455</td>\n",
       "    </tr>\n",
       "  </tbody>\n",
       "</table>\n",
       "</div>"
      ],
      "text/plain": [
       "   0  1   2   3      4\n",
       "0  1  F   1  10  48067\n",
       "1  2  M  56  16  70072\n",
       "2  3  M  25  15  55117\n",
       "3  4  M  45   7  02460\n",
       "4  5  M  25  20  55455"
      ]
     },
     "execution_count": 4,
     "metadata": {},
     "output_type": "execute_result"
    }
   ],
   "source": [
    "# loading in users.dat\n",
    "df_users = pd.read_csv('users.dat', delimiter='::', lineterminator='\\n', header=None, engine='python')\n",
    "df_users.head()\n"
   ]
  },
  {
   "cell_type": "markdown",
   "metadata": {},
   "source": [
    "After looking at some rows in `df_users`, it is prepared for further calculations:\n",
    " - The `zip-code` column is deleted as hinted.\n",
    " - Column renamings.\n",
    " - Dummy variables are created from the `Occupation` column.\n",
    " - The `Age` variable is converted into a column called `Age_group`, which ranges from 1 to 5, meaning that it is still a numerical variable because I wanted to keep the ordering, but the distances are equal.\n",
    " - The original `Occupation` and `Age` columns are deleted.\n",
    " - The `Gender` column is converted into a binary variable column, Male is flagged by 1, Female by 0."
   ]
  },
  {
   "cell_type": "code",
   "execution_count": 5,
   "metadata": {},
   "outputs": [],
   "source": [
    "# drop the zip-code column\n",
    "df_users.drop(columns=[4], inplace=True)\n",
    "\n",
    "# rename the remaining columns\n",
    "df_users.columns = ['UserID', 'Gender', 'Age', 'Occupation']\n",
    "\n",
    "# create mapping dictionaries in order to create the occupation dummy variables with the corresping names instead of the numbers\n",
    "d_occupations = {\n",
    "    0:  \"other or not specified\",\n",
    "    1:  \"academic/educator\",\n",
    "    2:  \"artist\",\n",
    "    3:  \"clerical/admin\",\n",
    "    4:  \"college/grad student\",\n",
    "    5:  \"customer service\",\n",
    "    6:  \"doctor/health care\",\n",
    "    7:  \"executive/managerial\",\n",
    "    8:  \"farmer\",\n",
    "    9:  \"homemaker\",\n",
    "    10:  \"K-12 student\",\n",
    "    11:  \"lawyer\",\n",
    "    12:  \"programmer\",\n",
    "    13:  \"retired\",\n",
    "    14:  \"sales/marketing\",\n",
    "    15:  \"scientist\",\n",
    "    16:  \"self-employed\",\n",
    "    17:  \"technician/engineer\",\n",
    "    18:  \"tradesman/craftsman\",\n",
    "    19:  \"unemployed\",\n",
    "    20:  \"writer\"\n",
    "}\n",
    "\n",
    "# create the dummy variables\n",
    "dummy_df = pd.get_dummies(df_users['Occupation'], drop_first=True).rename(columns=d_occupations)\n",
    "\n",
    "# add them to the initial dataframe\n",
    "df_users = pd.concat([df_users, dummy_df], axis=1)\n",
    "\n",
    "# create a mapping dictionary to convert Age to Age_group\n",
    "d_age_group = {\n",
    "    1: 1,\n",
    "    18: 2,\n",
    "    25: 3,\n",
    "    35: 4,\n",
    "    45: 5,\n",
    "    50: 6,\n",
    "    56: 7\n",
    "}\n",
    "\n",
    "# map the variable\n",
    "df_users['Age_group'] = df_users['Age'].map(d_age_group)\n",
    "\n",
    "# drop the original columns Occupation and Age\n",
    "df_users.drop(columns=['Occupation', 'Age'], axis=1, inplace=True)\n",
    "\n",
    "# convert the Gender variable into binary\n",
    "df_users = pd.get_dummies(df_users, columns=['Gender'], prefix='gender', drop_first=True)\n"
   ]
  },
  {
   "cell_type": "code",
   "execution_count": 6,
   "metadata": {},
   "outputs": [
    {
     "data": {
      "text/html": [
       "<div>\n",
       "<style scoped>\n",
       "    .dataframe tbody tr th:only-of-type {\n",
       "        vertical-align: middle;\n",
       "    }\n",
       "\n",
       "    .dataframe tbody tr th {\n",
       "        vertical-align: top;\n",
       "    }\n",
       "\n",
       "    .dataframe thead th {\n",
       "        text-align: right;\n",
       "    }\n",
       "</style>\n",
       "<table border=\"1\" class=\"dataframe\">\n",
       "  <thead>\n",
       "    <tr style=\"text-align: right;\">\n",
       "      <th></th>\n",
       "      <th>0</th>\n",
       "      <th>1</th>\n",
       "      <th>2</th>\n",
       "    </tr>\n",
       "  </thead>\n",
       "  <tbody>\n",
       "    <tr>\n",
       "      <th>0</th>\n",
       "      <td>1</td>\n",
       "      <td>Toy Story (1995)</td>\n",
       "      <td>Animation|Children's|Comedy</td>\n",
       "    </tr>\n",
       "    <tr>\n",
       "      <th>1</th>\n",
       "      <td>2</td>\n",
       "      <td>Jumanji (1995)</td>\n",
       "      <td>Adventure|Children's|Fantasy</td>\n",
       "    </tr>\n",
       "    <tr>\n",
       "      <th>2</th>\n",
       "      <td>3</td>\n",
       "      <td>Grumpier Old Men (1995)</td>\n",
       "      <td>Comedy|Romance</td>\n",
       "    </tr>\n",
       "    <tr>\n",
       "      <th>3</th>\n",
       "      <td>4</td>\n",
       "      <td>Waiting to Exhale (1995)</td>\n",
       "      <td>Comedy|Drama</td>\n",
       "    </tr>\n",
       "    <tr>\n",
       "      <th>4</th>\n",
       "      <td>5</td>\n",
       "      <td>Father of the Bride Part II (1995)</td>\n",
       "      <td>Comedy</td>\n",
       "    </tr>\n",
       "  </tbody>\n",
       "</table>\n",
       "</div>"
      ],
      "text/plain": [
       "   0                                   1                             2\n",
       "0  1                    Toy Story (1995)   Animation|Children's|Comedy\n",
       "1  2                      Jumanji (1995)  Adventure|Children's|Fantasy\n",
       "2  3             Grumpier Old Men (1995)                Comedy|Romance\n",
       "3  4            Waiting to Exhale (1995)                  Comedy|Drama\n",
       "4  5  Father of the Bride Part II (1995)                        Comedy"
      ]
     },
     "execution_count": 6,
     "metadata": {},
     "output_type": "execute_result"
    }
   ],
   "source": [
    "# loading in movies.dat\n",
    "df_movies = pd.read_csv('movies.dat', delimiter='::', lineterminator='\\n', header=None, engine='python')\n",
    "df_movies.head()\n"
   ]
  },
  {
   "cell_type": "markdown",
   "metadata": {},
   "source": [
    "After looking at some rows in `df_movies`, it is prepared for further calculations:\n",
    " - The Title and Year variables are extracted from column 1.\n",
    " - Dummy variables are created for the genres.\n",
    " - Columns 1 and 2 are deleted.\n",
    " - Column 0 is renamed."
   ]
  },
  {
   "cell_type": "code",
   "execution_count": 7,
   "metadata": {},
   "outputs": [],
   "source": [
    "# extract the title and year from column 1\n",
    "\n",
    "df_movies['Title'] = df_movies[1].str[:-7]\n",
    "df_movies['Year'] = df_movies[1].str[-5:-1]\n",
    "\n",
    "# a list is created containing the genres of each movie\n",
    "splitted_genres = [genres.split(\"|\") for genres in df_movies[2].unique()]\n",
    "\n",
    "# a set is created, which contains every genre exactly once\n",
    "movie_genres = set()\n",
    "\n",
    "for genres in splitted_genres:\n",
    "    movie_genres.update(genres)\n",
    "\n",
    "# it is transformed into a list\n",
    "movie_genres = list(movie_genres)\n",
    "\n",
    "# for each genre a dummy variable is added to the dataframe, containing 1 if the given movie is of that genre\n",
    "for genre in movie_genres:\n",
    "    df_movies[genre] = df_movies[2].str.contains(genre)\n",
    "\n",
    "# drop the original columns 1 and 2\n",
    "df_movies.drop(columns=[1, 2], inplace=True)\n",
    "\n",
    "# rename column 0\n",
    "df_movies.rename(columns={0: 'MovieID'}, inplace=True)\n"
   ]
  },
  {
   "cell_type": "markdown",
   "metadata": {},
   "source": [
    "Once our dataframes are processed we can merge them into a master dataframe."
   ]
  },
  {
   "cell_type": "code",
   "execution_count": 8,
   "metadata": {},
   "outputs": [],
   "source": [
    "# merge df_ratings and df_users\n",
    "df_master = pd.merge(df_ratings, df_users, how='left', on='UserID')\n",
    "\n",
    "# merge also df_movies\n",
    "df_master = pd.merge(df_master, df_movies, how='left', on='MovieID')\n",
    "\n",
    "# once the master dataframe is created we drop the columns we cannot use for building models\n",
    "x = df_master.drop(columns=['UserID', 'MovieID', 'Rating', 'Title']).astype(int)\n",
    "\n",
    "# we extract the column containing the target variable\n",
    "y = df_master[['Rating']].astype(int)\n"
   ]
  },
  {
   "cell_type": "markdown",
   "metadata": {},
   "source": [
    "Split the data into train set and test set as required."
   ]
  },
  {
   "cell_type": "code",
   "execution_count": 9,
   "metadata": {},
   "outputs": [
    {
     "name": "stdout",
     "output_type": "stream",
     "text": [
      "The test data contains 128025 samples.\n",
      "The train data contains 719277 samples.\n"
     ]
    }
   ],
   "source": [
    "# Identify the user IDs for the test set\n",
    "test_user_ids = range(1, 1001)\n",
    "\n",
    "# Create a mask for rows corresponding to the test set\n",
    "test_mask = df_master['UserID'].isin(test_user_ids)\n",
    "\n",
    "# Create the test set\n",
    "x_test = x[test_mask]\n",
    "y_test = y[test_mask]\n",
    "\n",
    "# Create the training set by excluding the test set\n",
    "x_train = x[~test_mask]\n",
    "y_train = y[~test_mask]\n",
    "\n",
    "print(f\"The test data contains {len(x_test)} samples.\")\n",
    "print(f\"The train data contains {len(x_train)} samples.\")\n"
   ]
  },
  {
   "cell_type": "markdown",
   "metadata": {},
   "source": [
    "Using the whole data did not result in better performance, thus only a small portion of the training set is used. This way the performance does not decrease, but the runtime of the training is significantly lower."
   ]
  },
  {
   "cell_type": "code",
   "execution_count": 10,
   "metadata": {},
   "outputs": [
    {
     "name": "stdout",
     "output_type": "stream",
     "text": [
      "The actual train data contains 71927 samples.\n"
     ]
    }
   ],
   "source": [
    "# set the seed in order to keep reproducibility\n",
    "seed_value = 42\n",
    "np.random.seed(seed_value)\n",
    "\n",
    "# specify the percentage of data to use\n",
    "percentage_to_use = 10\n",
    "\n",
    "# calculate the number of samples to use\n",
    "num_samples = int(0.01 * percentage_to_use * len(x_train))\n",
    "\n",
    "# use the sample method to randomly select the subset\n",
    "x_train_subset = x_train.sample(n=num_samples, random_state=seed_value)\n",
    "y_train_subset = y_train.loc[x_train_subset.index]\n",
    "\n",
    "# reset the index\n",
    "x_train_subset.reset_index(drop=True, inplace=True)\n",
    "y_train_subset.reset_index(drop=True, inplace=True)\n",
    "\n",
    "print(f\"The actual train data contains {len(x_train_subset)} samples.\")\n"
   ]
  },
  {
   "cell_type": "markdown",
   "metadata": {},
   "source": [
    "## Subtask 2: Basic Movie Recommendation\n"
   ]
  },
  {
   "cell_type": "code",
   "execution_count": 11,
   "metadata": {},
   "outputs": [],
   "source": [
    "# imports for modeling\n",
    "from sklearn.model_selection import GridSearchCV, train_test_split\n",
    "from sklearn.svm import LinearSVC\n",
    "from sklearn.neural_network import MLPClassifier\n",
    "from sklearn.metrics import accuracy_score\n"
   ]
  },
  {
   "cell_type": "code",
   "execution_count": 12,
   "metadata": {},
   "outputs": [
    {
     "name": "stderr",
     "output_type": "stream",
     "text": [
      "C:\\Users\\Botond\\anaconda3\\lib\\site-packages\\sklearn\\utils\\validation.py:72: DataConversionWarning: A column-vector y was passed when a 1d array was expected. Please change the shape of y to (n_samples, ), for example using ravel().\n",
      "  return f(**kwargs)\n",
      "C:\\Users\\Botond\\anaconda3\\lib\\site-packages\\sklearn\\svm\\_base.py:976: ConvergenceWarning: Liblinear failed to converge, increase the number of iterations.\n",
      "  warnings.warn(\"Liblinear failed to converge, increase \"\n",
      "C:\\Users\\Botond\\anaconda3\\lib\\site-packages\\sklearn\\utils\\validation.py:72: DataConversionWarning: A column-vector y was passed when a 1d array was expected. Please change the shape of y to (n_samples, ), for example using ravel().\n",
      "  return f(**kwargs)\n",
      "C:\\Users\\Botond\\anaconda3\\lib\\site-packages\\sklearn\\svm\\_base.py:976: ConvergenceWarning: Liblinear failed to converge, increase the number of iterations.\n",
      "  warnings.warn(\"Liblinear failed to converge, increase \"\n",
      "C:\\Users\\Botond\\anaconda3\\lib\\site-packages\\sklearn\\utils\\validation.py:72: DataConversionWarning: A column-vector y was passed when a 1d array was expected. Please change the shape of y to (n_samples, ), for example using ravel().\n",
      "  return f(**kwargs)\n",
      "C:\\Users\\Botond\\anaconda3\\lib\\site-packages\\sklearn\\svm\\_base.py:976: ConvergenceWarning: Liblinear failed to converge, increase the number of iterations.\n",
      "  warnings.warn(\"Liblinear failed to converge, increase \"\n",
      "C:\\Users\\Botond\\anaconda3\\lib\\site-packages\\sklearn\\utils\\validation.py:72: DataConversionWarning: A column-vector y was passed when a 1d array was expected. Please change the shape of y to (n_samples, ), for example using ravel().\n",
      "  return f(**kwargs)\n",
      "C:\\Users\\Botond\\anaconda3\\lib\\site-packages\\sklearn\\svm\\_base.py:976: ConvergenceWarning: Liblinear failed to converge, increase the number of iterations.\n",
      "  warnings.warn(\"Liblinear failed to converge, increase \"\n",
      "C:\\Users\\Botond\\anaconda3\\lib\\site-packages\\sklearn\\utils\\validation.py:72: DataConversionWarning: A column-vector y was passed when a 1d array was expected. Please change the shape of y to (n_samples, ), for example using ravel().\n",
      "  return f(**kwargs)\n",
      "C:\\Users\\Botond\\anaconda3\\lib\\site-packages\\sklearn\\svm\\_base.py:976: ConvergenceWarning: Liblinear failed to converge, increase the number of iterations.\n",
      "  warnings.warn(\"Liblinear failed to converge, increase \"\n",
      "C:\\Users\\Botond\\anaconda3\\lib\\site-packages\\sklearn\\utils\\validation.py:72: DataConversionWarning: A column-vector y was passed when a 1d array was expected. Please change the shape of y to (n_samples, ), for example using ravel().\n",
      "  return f(**kwargs)\n",
      "C:\\Users\\Botond\\anaconda3\\lib\\site-packages\\sklearn\\svm\\_base.py:976: ConvergenceWarning: Liblinear failed to converge, increase the number of iterations.\n",
      "  warnings.warn(\"Liblinear failed to converge, increase \"\n",
      "C:\\Users\\Botond\\anaconda3\\lib\\site-packages\\sklearn\\utils\\validation.py:72: DataConversionWarning: A column-vector y was passed when a 1d array was expected. Please change the shape of y to (n_samples, ), for example using ravel().\n",
      "  return f(**kwargs)\n",
      "C:\\Users\\Botond\\anaconda3\\lib\\site-packages\\sklearn\\svm\\_base.py:976: ConvergenceWarning: Liblinear failed to converge, increase the number of iterations.\n",
      "  warnings.warn(\"Liblinear failed to converge, increase \"\n",
      "C:\\Users\\Botond\\anaconda3\\lib\\site-packages\\sklearn\\utils\\validation.py:72: DataConversionWarning: A column-vector y was passed when a 1d array was expected. Please change the shape of y to (n_samples, ), for example using ravel().\n",
      "  return f(**kwargs)\n",
      "C:\\Users\\Botond\\anaconda3\\lib\\site-packages\\sklearn\\svm\\_base.py:976: ConvergenceWarning: Liblinear failed to converge, increase the number of iterations.\n",
      "  warnings.warn(\"Liblinear failed to converge, increase \"\n",
      "C:\\Users\\Botond\\anaconda3\\lib\\site-packages\\sklearn\\utils\\validation.py:72: DataConversionWarning: A column-vector y was passed when a 1d array was expected. Please change the shape of y to (n_samples, ), for example using ravel().\n",
      "  return f(**kwargs)\n",
      "C:\\Users\\Botond\\anaconda3\\lib\\site-packages\\sklearn\\svm\\_base.py:976: ConvergenceWarning: Liblinear failed to converge, increase the number of iterations.\n",
      "  warnings.warn(\"Liblinear failed to converge, increase \"\n",
      "C:\\Users\\Botond\\anaconda3\\lib\\site-packages\\sklearn\\utils\\validation.py:72: DataConversionWarning: A column-vector y was passed when a 1d array was expected. Please change the shape of y to (n_samples, ), for example using ravel().\n",
      "  return f(**kwargs)\n",
      "C:\\Users\\Botond\\anaconda3\\lib\\site-packages\\sklearn\\svm\\_base.py:976: ConvergenceWarning: Liblinear failed to converge, increase the number of iterations.\n",
      "  warnings.warn(\"Liblinear failed to converge, increase \"\n",
      "C:\\Users\\Botond\\anaconda3\\lib\\site-packages\\sklearn\\utils\\validation.py:72: DataConversionWarning: A column-vector y was passed when a 1d array was expected. Please change the shape of y to (n_samples, ), for example using ravel().\n",
      "  return f(**kwargs)\n",
      "C:\\Users\\Botond\\anaconda3\\lib\\site-packages\\sklearn\\svm\\_base.py:976: ConvergenceWarning: Liblinear failed to converge, increase the number of iterations.\n",
      "  warnings.warn(\"Liblinear failed to converge, increase \"\n",
      "C:\\Users\\Botond\\anaconda3\\lib\\site-packages\\sklearn\\utils\\validation.py:72: DataConversionWarning: A column-vector y was passed when a 1d array was expected. Please change the shape of y to (n_samples, ), for example using ravel().\n",
      "  return f(**kwargs)\n",
      "C:\\Users\\Botond\\anaconda3\\lib\\site-packages\\sklearn\\svm\\_base.py:976: ConvergenceWarning: Liblinear failed to converge, increase the number of iterations.\n",
      "  warnings.warn(\"Liblinear failed to converge, increase \"\n",
      "C:\\Users\\Botond\\anaconda3\\lib\\site-packages\\sklearn\\utils\\validation.py:72: DataConversionWarning: A column-vector y was passed when a 1d array was expected. Please change the shape of y to (n_samples, ), for example using ravel().\n",
      "  return f(**kwargs)\n",
      "C:\\Users\\Botond\\anaconda3\\lib\\site-packages\\sklearn\\svm\\_base.py:976: ConvergenceWarning: Liblinear failed to converge, increase the number of iterations.\n",
      "  warnings.warn(\"Liblinear failed to converge, increase \"\n",
      "C:\\Users\\Botond\\anaconda3\\lib\\site-packages\\sklearn\\utils\\validation.py:72: DataConversionWarning: A column-vector y was passed when a 1d array was expected. Please change the shape of y to (n_samples, ), for example using ravel().\n",
      "  return f(**kwargs)\n",
      "C:\\Users\\Botond\\anaconda3\\lib\\site-packages\\sklearn\\svm\\_base.py:976: ConvergenceWarning: Liblinear failed to converge, increase the number of iterations.\n",
      "  warnings.warn(\"Liblinear failed to converge, increase \"\n",
      "C:\\Users\\Botond\\anaconda3\\lib\\site-packages\\sklearn\\utils\\validation.py:72: DataConversionWarning: A column-vector y was passed when a 1d array was expected. Please change the shape of y to (n_samples, ), for example using ravel().\n",
      "  return f(**kwargs)\n",
      "C:\\Users\\Botond\\anaconda3\\lib\\site-packages\\sklearn\\svm\\_base.py:976: ConvergenceWarning: Liblinear failed to converge, increase the number of iterations.\n",
      "  warnings.warn(\"Liblinear failed to converge, increase \"\n",
      "C:\\Users\\Botond\\anaconda3\\lib\\site-packages\\sklearn\\utils\\validation.py:72: DataConversionWarning: A column-vector y was passed when a 1d array was expected. Please change the shape of y to (n_samples, ), for example using ravel().\n",
      "  return f(**kwargs)\n",
      "C:\\Users\\Botond\\anaconda3\\lib\\site-packages\\sklearn\\svm\\_base.py:976: ConvergenceWarning: Liblinear failed to converge, increase the number of iterations.\n",
      "  warnings.warn(\"Liblinear failed to converge, increase \"\n"
     ]
    },
    {
     "data": {
      "text/plain": [
       "GridSearchCV(cv=5, estimator=LinearSVC(), param_grid={'C': [0.1, 1, 10]},\n",
       "             scoring='accuracy')"
      ]
     },
     "execution_count": 12,
     "metadata": {},
     "output_type": "execute_result"
    }
   ],
   "source": [
    "# the values to consider for the regularization parameter\n",
    "possible_c_values = {'C': [0.1, 1, 10]}\n",
    "\n",
    "# constructing the model type and the number of folds for cross-validation\n",
    "SVM = LinearSVC(multi_class = 'ovr')\n",
    "cv_svm = 5\n",
    "svm_clf = GridSearchCV(SVM, possible_c_values, cv=cv_svm, scoring='accuracy')\n",
    "\n",
    "# training the model\n",
    "svm_clf.fit(x_train_subset, y_train_subset)\n"
   ]
  },
  {
   "cell_type": "code",
   "execution_count": 13,
   "metadata": {},
   "outputs": [
    {
     "name": "stdout",
     "output_type": "stream",
     "text": [
      "SVM Test Accuracy: 0.3330911931263425 with parameter C set to 0.1.\n"
     ]
    }
   ],
   "source": [
    "# calculating and stating the best performing SVM model's parameter and accuracy on the test set\n",
    "svm_test_accuracy = svm_clf.score(x_test, y_test)\n",
    "best_c = svm_clf.best_params_['C']\n",
    "print(f\"SVM Test Accuracy: {svm_test_accuracy} with parameter C set to {best_c}.\")\n"
   ]
  },
  {
   "cell_type": "markdown",
   "metadata": {},
   "source": [
    "Training and evaluating an MLP classifier"
   ]
  },
  {
   "cell_type": "code",
   "execution_count": 14,
   "metadata": {},
   "outputs": [
    {
     "name": "stderr",
     "output_type": "stream",
     "text": [
      "C:\\Users\\Botond\\anaconda3\\lib\\site-packages\\sklearn\\utils\\validation.py:72: DataConversionWarning: A column-vector y was passed when a 1d array was expected. Please change the shape of y to (n_samples, ), for example using ravel().\n",
      "  return f(**kwargs)\n",
      "C:\\Users\\Botond\\anaconda3\\lib\\site-packages\\sklearn\\utils\\validation.py:72: DataConversionWarning: A column-vector y was passed when a 1d array was expected. Please change the shape of y to (n_samples, ), for example using ravel().\n",
      "  return f(**kwargs)\n",
      "C:\\Users\\Botond\\anaconda3\\lib\\site-packages\\sklearn\\utils\\validation.py:72: DataConversionWarning: A column-vector y was passed when a 1d array was expected. Please change the shape of y to (n_samples, ), for example using ravel().\n",
      "  return f(**kwargs)\n",
      "C:\\Users\\Botond\\anaconda3\\lib\\site-packages\\sklearn\\utils\\validation.py:72: DataConversionWarning: A column-vector y was passed when a 1d array was expected. Please change the shape of y to (n_samples, ), for example using ravel().\n",
      "  return f(**kwargs)\n",
      "C:\\Users\\Botond\\anaconda3\\lib\\site-packages\\sklearn\\utils\\validation.py:72: DataConversionWarning: A column-vector y was passed when a 1d array was expected. Please change the shape of y to (n_samples, ), for example using ravel().\n",
      "  return f(**kwargs)\n",
      "C:\\Users\\Botond\\anaconda3\\lib\\site-packages\\sklearn\\utils\\validation.py:72: DataConversionWarning: A column-vector y was passed when a 1d array was expected. Please change the shape of y to (n_samples, ), for example using ravel().\n",
      "  return f(**kwargs)\n",
      "C:\\Users\\Botond\\anaconda3\\lib\\site-packages\\sklearn\\utils\\validation.py:72: DataConversionWarning: A column-vector y was passed when a 1d array was expected. Please change the shape of y to (n_samples, ), for example using ravel().\n",
      "  return f(**kwargs)\n",
      "C:\\Users\\Botond\\anaconda3\\lib\\site-packages\\sklearn\\utils\\validation.py:72: DataConversionWarning: A column-vector y was passed when a 1d array was expected. Please change the shape of y to (n_samples, ), for example using ravel().\n",
      "  return f(**kwargs)\n",
      "C:\\Users\\Botond\\anaconda3\\lib\\site-packages\\sklearn\\utils\\validation.py:72: DataConversionWarning: A column-vector y was passed when a 1d array was expected. Please change the shape of y to (n_samples, ), for example using ravel().\n",
      "  return f(**kwargs)\n",
      "C:\\Users\\Botond\\anaconda3\\lib\\site-packages\\sklearn\\utils\\validation.py:72: DataConversionWarning: A column-vector y was passed when a 1d array was expected. Please change the shape of y to (n_samples, ), for example using ravel().\n",
      "  return f(**kwargs)\n",
      "C:\\Users\\Botond\\anaconda3\\lib\\site-packages\\sklearn\\utils\\validation.py:72: DataConversionWarning: A column-vector y was passed when a 1d array was expected. Please change the shape of y to (n_samples, ), for example using ravel().\n",
      "  return f(**kwargs)\n",
      "C:\\Users\\Botond\\anaconda3\\lib\\site-packages\\sklearn\\utils\\validation.py:72: DataConversionWarning: A column-vector y was passed when a 1d array was expected. Please change the shape of y to (n_samples, ), for example using ravel().\n",
      "  return f(**kwargs)\n",
      "C:\\Users\\Botond\\anaconda3\\lib\\site-packages\\sklearn\\utils\\validation.py:72: DataConversionWarning: A column-vector y was passed when a 1d array was expected. Please change the shape of y to (n_samples, ), for example using ravel().\n",
      "  return f(**kwargs)\n",
      "C:\\Users\\Botond\\anaconda3\\lib\\site-packages\\sklearn\\utils\\validation.py:72: DataConversionWarning: A column-vector y was passed when a 1d array was expected. Please change the shape of y to (n_samples, ), for example using ravel().\n",
      "  return f(**kwargs)\n",
      "C:\\Users\\Botond\\anaconda3\\lib\\site-packages\\sklearn\\utils\\validation.py:72: DataConversionWarning: A column-vector y was passed when a 1d array was expected. Please change the shape of y to (n_samples, ), for example using ravel().\n",
      "  return f(**kwargs)\n",
      "C:\\Users\\Botond\\anaconda3\\lib\\site-packages\\sklearn\\utils\\validation.py:72: DataConversionWarning: A column-vector y was passed when a 1d array was expected. Please change the shape of y to (n_samples, ), for example using ravel().\n",
      "  return f(**kwargs)\n",
      "C:\\Users\\Botond\\anaconda3\\lib\\site-packages\\sklearn\\utils\\validation.py:72: DataConversionWarning: A column-vector y was passed when a 1d array was expected. Please change the shape of y to (n_samples, ), for example using ravel().\n",
      "  return f(**kwargs)\n",
      "C:\\Users\\Botond\\anaconda3\\lib\\site-packages\\sklearn\\utils\\validation.py:72: DataConversionWarning: A column-vector y was passed when a 1d array was expected. Please change the shape of y to (n_samples, ), for example using ravel().\n",
      "  return f(**kwargs)\n",
      "C:\\Users\\Botond\\anaconda3\\lib\\site-packages\\sklearn\\utils\\validation.py:72: DataConversionWarning: A column-vector y was passed when a 1d array was expected. Please change the shape of y to (n_samples, ), for example using ravel().\n",
      "  return f(**kwargs)\n",
      "C:\\Users\\Botond\\anaconda3\\lib\\site-packages\\sklearn\\utils\\validation.py:72: DataConversionWarning: A column-vector y was passed when a 1d array was expected. Please change the shape of y to (n_samples, ), for example using ravel().\n",
      "  return f(**kwargs)\n",
      "C:\\Users\\Botond\\anaconda3\\lib\\site-packages\\sklearn\\utils\\validation.py:72: DataConversionWarning: A column-vector y was passed when a 1d array was expected. Please change the shape of y to (n_samples, ), for example using ravel().\n",
      "  return f(**kwargs)\n",
      "C:\\Users\\Botond\\anaconda3\\lib\\site-packages\\sklearn\\utils\\validation.py:72: DataConversionWarning: A column-vector y was passed when a 1d array was expected. Please change the shape of y to (n_samples, ), for example using ravel().\n",
      "  return f(**kwargs)\n",
      "C:\\Users\\Botond\\anaconda3\\lib\\site-packages\\sklearn\\utils\\validation.py:72: DataConversionWarning: A column-vector y was passed when a 1d array was expected. Please change the shape of y to (n_samples, ), for example using ravel().\n",
      "  return f(**kwargs)\n",
      "C:\\Users\\Botond\\anaconda3\\lib\\site-packages\\sklearn\\utils\\validation.py:72: DataConversionWarning: A column-vector y was passed when a 1d array was expected. Please change the shape of y to (n_samples, ), for example using ravel().\n",
      "  return f(**kwargs)\n",
      "C:\\Users\\Botond\\anaconda3\\lib\\site-packages\\sklearn\\utils\\validation.py:72: DataConversionWarning: A column-vector y was passed when a 1d array was expected. Please change the shape of y to (n_samples, ), for example using ravel().\n",
      "  return f(**kwargs)\n",
      "C:\\Users\\Botond\\anaconda3\\lib\\site-packages\\sklearn\\utils\\validation.py:72: DataConversionWarning: A column-vector y was passed when a 1d array was expected. Please change the shape of y to (n_samples, ), for example using ravel().\n",
      "  return f(**kwargs)\n"
     ]
    },
    {
     "data": {
      "text/plain": [
       "GridSearchCV(cv=5, estimator=MLPClassifier(random_state=42),\n",
       "             param_grid={'hidden_layer_sizes': [(5,), (10,), (20,), (5, 5),\n",
       "                                                (10, 10)]})"
      ]
     },
     "execution_count": 14,
     "metadata": {},
     "output_type": "execute_result"
    }
   ],
   "source": [
    "# the values to consider for the parameter hidden_layer_sizes\n",
    "possible_hidden_layer_sizes = {'hidden_layer_sizes': [(5,), (10,), (20,), (5, 5), (10, 10)]}\n",
    "\n",
    "# constructing the model type and the number of folds for cross-validation\n",
    "MLP = MLPClassifier(random_state=42)\n",
    "cv_mlp = 5\n",
    "mlp_clf = GridSearchCV(MLP, possible_hidden_layer_sizes, cv=cv_mlp)\n",
    "\n",
    "# training the model\n",
    "mlp_clf.fit(x_train_subset, y_train_subset)\n"
   ]
  },
  {
   "cell_type": "code",
   "execution_count": 15,
   "metadata": {},
   "outputs": [
    {
     "name": "stdout",
     "output_type": "stream",
     "text": [
      "MLPClassifier Test Accuracy: 0.3532981839484476 with parameter hidden layer sizes set to (5, 5).\n"
     ]
    }
   ],
   "source": [
    "# calculating and stating the best performing MLP model's parameter and accuracy on the test set\n",
    "mlp_test_accuracy = mlp_clf.score(x_test, y_test)\n",
    "best_hidden_layer_sizes = mlp_clf.best_params_['hidden_layer_sizes']\n",
    "print(f\"MLPClassifier Test Accuracy: {mlp_test_accuracy} with parameter hidden layer sizes set to {best_hidden_layer_sizes}.\")\n"
   ]
  },
  {
   "cell_type": "markdown",
   "metadata": {},
   "source": [
    "Calculating the best performance that can be achieved using a constant prediction."
   ]
  },
  {
   "cell_type": "code",
   "execution_count": 16,
   "metadata": {},
   "outputs": [
    {
     "name": "stdout",
     "output_type": "stream",
     "text": [
      "The most frequent class in the test set is: 4\n",
      "The best accuracy with constant prediction: 0.35360281195079085\n"
     ]
    }
   ],
   "source": [
    "# look for the most frequent class\n",
    "most_frequent_class = y_test.value_counts().idxmax()[0]\n",
    "print(f\"The most frequent class in the test set is: {most_frequent_class}\")\n",
    "\n",
    "# build a \"prediction\" vector which only contains this very value\n",
    "y_pred = pd.DataFrame({'Rating': [most_frequent_class] * len(y_test)})\n",
    "\n",
    "# report the accuracy\n",
    "accuracy = accuracy_score(y_test, y_pred)\n",
    "print(f\"The best accuracy with constant prediction: {accuracy}\")\n"
   ]
  },
  {
   "cell_type": "markdown",
   "metadata": {},
   "source": [
    "For the SVM I tried 0.1, 1 and 10 as possible values for the regularization parameter. The chosen one is 0.1, but it still only has a test accuracy below 30%, which is better, than random assignment, but worse than using the most frequent class as constant prediction.\n",
    "\n",
    "For the MLP I tried (5,), (10,), (20,), (5, 5) and (10, 10) as possible values for the hidden layer sizes parameter. The chosen one is (5, 5), which still resulted in a slightly worse accuracy, than using the most frequent class as constant prediction."
   ]
  },
  {
   "cell_type": "markdown",
   "metadata": {},
   "source": [
    "## Subtask 3: Classifier Evaluation I\n",
    "The functions to be used are written"
   ]
  },
  {
   "cell_type": "code",
   "execution_count": 17,
   "metadata": {},
   "outputs": [],
   "source": [
    "def create_confusion_matrix(df_y, df_y_pred):\n",
    "    \"\"\"\n",
    "    Compute the confusion matrix.\n",
    "\n",
    "    Parameters:\n",
    "    - df_y: True labels of the data ranging from 1 to n\n",
    "    - df_y_pred: Predicted labels by the classifier ranging from min 1 to max n\n",
    "\n",
    "    Returns:\n",
    "    - Confusion matrix as a 2D list\n",
    "    \"\"\"\n",
    "    num_classes = int(max(max(df_y.values), max(df_y_pred.values)))\n",
    "    confusion_matrix = [[0] * num_classes for _ in range(num_classes)]\n",
    "\n",
    "    for y, y_pred in zip(df_y.values, df_y_pred.values):\n",
    "        y = int(y)\n",
    "        y_pred = int(y_pred)\n",
    "        confusion_matrix[y - 1][y_pred - 1] += 1\n",
    "\n",
    "    return confusion_matrix\n",
    "\n",
    "def print_confusion_matrix(confusion_matrix):\n",
    "    \"\"\"\n",
    "    Print the confusion matrix.\n",
    "\n",
    "    Parameters:\n",
    "    - confusion_matrix: Confusion matrix as a 2D list\n",
    "    \"\"\"\n",
    "    \n",
    "    num_classes = len(confusion_matrix)\n",
    "    \n",
    "    # Print header\n",
    "    header = \"\\t\".join([f\"Pred_{i+1}\" for i in range(num_classes)])\n",
    "    print(f\"\\t{header}\")\n",
    "\n",
    "    # Print confusion matrix\n",
    "    for i in range(num_classes):\n",
    "        row = \"\\t\".join([str(confusion_matrix[i][j]) for j in range(num_classes)])\n",
    "        print(f\"True_{i+1}\\t{row}\")\n",
    "        \n",
    "def calculate_accuracy(conf_matrix):\n",
    "    \"\"\"\n",
    "    Calculate the classification accuracy from the confusion matrix.\n",
    "\n",
    "    Parameters:\n",
    "    - conf_matrix: Confusion matrix as a 2D list\n",
    "\n",
    "    Returns:\n",
    "    - Classification accuracy\n",
    "    \"\"\"\n",
    "    total_correct = sum(conf_matrix[i][i] for i in range(len(conf_matrix)))\n",
    "    total_samples = sum(sum(row) for row in conf_matrix)\n",
    "    \n",
    "    accuracy = total_correct / total_samples\n",
    "    return accuracy\n"
   ]
  },
  {
   "cell_type": "code",
   "execution_count": 18,
   "metadata": {},
   "outputs": [
    {
     "name": "stdout",
     "output_type": "stream",
     "text": [
      "\tPred_1\tPred_2\tPred_3\tPred_4\tPred_5\n",
      "True_1\t0\t0\t0\t5742\t1194\n",
      "True_2\t0\t0\t0\t12008\t2397\n",
      "True_3\t0\t0\t0\t28174\t6396\n",
      "True_4\t0\t0\t0\t34953\t10317\n",
      "True_5\t0\t0\t0\t19153\t7691\n",
      "SVM Classification Accuracy: 0.3330911931263425\n"
     ]
    }
   ],
   "source": [
    "# predictions using the best SVM model\n",
    "y_pred_svm = pd.DataFrame(svm_clf.predict(x_test))\n",
    "\n",
    "# compute the confusion matrix\n",
    "conf_matrix_svm = create_confusion_matrix(y_test, y_pred_svm)\n",
    "\n",
    "# print the confusion matrix\n",
    "print_confusion_matrix(conf_matrix_svm)\n",
    "\n",
    "# calculate the accuracy for SVM\n",
    "accuracy_svm = calculate_accuracy(conf_matrix_svm)\n",
    "print(f\"SVM Classification Accuracy: {accuracy_svm}\")\n"
   ]
  },
  {
   "cell_type": "code",
   "execution_count": 19,
   "metadata": {},
   "outputs": [
    {
     "name": "stdout",
     "output_type": "stream",
     "text": [
      "\tPred_1\tPred_2\tPred_3\tPred_4\tPred_5\n",
      "True_1\t0\t0\t1059\t5871\t6\n",
      "True_2\t0\t0\t1465\t12933\t7\n",
      "True_3\t0\t0\t2697\t31840\t33\n",
      "True_4\t0\t0\t2728\t42483\t59\n",
      "True_5\t0\t0\t1339\t25454\t51\n",
      "MLP Classification Accuracy: 0.3532981839484476\n"
     ]
    }
   ],
   "source": [
    "# predictions using the best MLP model\n",
    "y_pred_mlp = pd.DataFrame(mlp_clf.predict(x_test))\n",
    "\n",
    "# compute the confusion matrix\n",
    "conf_matrix_mlp = create_confusion_matrix(y_test, y_pred_mlp)\n",
    "\n",
    "# print the confusion matrix\n",
    "print_confusion_matrix(conf_matrix_mlp)\n",
    "\n",
    "# calculate accuracy for MLP\n",
    "accuracy_mlp = calculate_accuracy(conf_matrix_mlp)\n",
    "print(f\"MLP Classification Accuracy: {accuracy_mlp}\")"
   ]
  },
  {
   "cell_type": "markdown",
   "metadata": {},
   "source": [
    "The structures of the confusion matrices significantly differ. In the case of the SVM, the model does not predict anything to have a rating other than 4 or 5, and the majority of the samples is predicted to be a 4. In the case of the MLP, an even bigger majority of the predictions is 4, and everything else belongs to the adjacent classes: 3 and 5. This means that the training data is heavily biased towards the rating 4."
   ]
  }
 ],
 "metadata": {
  "kernelspec": {
   "display_name": "Python 3",
   "language": "python",
   "name": "python3"
  },
  "language_info": {
   "codemirror_mode": {
    "name": "ipython",
    "version": 3
   },
   "file_extension": ".py",
   "mimetype": "text/x-python",
   "name": "python",
   "nbconvert_exporter": "python",
   "pygments_lexer": "ipython3",
   "version": "3.8.5"
  }
 },
 "nbformat": 4,
 "nbformat_minor": 4
}
