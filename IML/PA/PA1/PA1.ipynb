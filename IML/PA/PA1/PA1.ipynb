{
 "cells": [
  {
   "cell_type": "markdown",
   "metadata": {},
   "source": [
    "# Task 1: Python Basics\n",
    "## Subtask 1: Preliminaries"
   ]
  },
  {
   "cell_type": "code",
   "execution_count": 4,
   "metadata": {},
   "outputs": [
    {
     "name": "stdout",
     "output_type": "stream",
     "text": [
      "Python distribution: Anaconda, version:, 3.8.5 (default, Sep  3 2020, 21:29:08) [MSC v.1916 64 bit (AMD64)]\n",
      "Numpy version: 1.19.2\n",
      "Pandas version: 1.1.3\n",
      "Sklearn version: 0.23.2\n"
     ]
    }
   ],
   "source": [
    "import sys\n",
    "import numpy as np\n",
    "import pandas as pd\n",
    "import sklearn\n",
    "print('Python distribution: Anaconda, version:, ' + sys.version)\n",
    "print('Numpy version: ' + np.__version__)\n",
    "print('Pandas version: ' + pd.__version__)\n",
    "print('Sklearn version: ' + sklearn.__version__)"
   ]
  },
  {
   "cell_type": "markdown",
   "metadata": {},
   "source": [
    "Python is installed, version is greater than 3.6.13.\n",
    "## Subtask 2: Classes, Methods, Python File IO, Exception Handling, Testing"
   ]
  },
  {
   "cell_type": "code",
   "execution_count": 2,
   "metadata": {},
   "outputs": [],
   "source": [
    "class DAO():\n",
    "    def __init__(self, ifname: str, iftype: str, ofname: str, oftype: str) -> None:\n",
    "        \"\"\"\n",
    "        Data Access Object (DAO) for loading and storing data on disk.\n",
    "\n",
    "        Args:\n",
    "            ifname (str): Input file path.\n",
    "            iftype (str): Input file type: 'txt' or 'csv'.\n",
    "            ofname (str): Output file path.\n",
    "            oftype (str): Output file type: 'txt' or 'csv'.\n",
    "\n",
    "        Raises:\n",
    "            ValueError: If iftype or oftype is not of type Ftype.\n",
    "        \"\"\"\n",
    "        self.ifname = ifname\n",
    "        self.ofname = ofname\n",
    "        if iftype in ['txt', 'csv'] and oftype in ['txt', 'csv']:\n",
    "            self.iftype = iftype\n",
    "            self.oftype = oftype\n",
    "        else:\n",
    "            raise ValueError('The allowed values for variables iftype and oftype are: \\'txt\\' and \\'csv\\'!')\n",
    "        self.loaded_data = None\n",
    "        \n",
    "    def load(self) -> None:\n",
    "        \"\"\"\n",
    "        Load data from the input file and store it in the DAO instance.\n",
    "\n",
    "        Raises:\n",
    "            Exception: If an error occurs during loading.\n",
    "        \"\"\"\n",
    "        try:\n",
    "            if self.iftype == 'txt':\n",
    "                print('The delimeter in the txt file is expected to be tabs, otherwise errors will occur!')\n",
    "                df = pd.read_csv(self.ifname, delimiter='\\t', header=None, dtype=str)\n",
    "            else:\n",
    "                df = pd.read_csv(self.ifname, header=None, dtype=str)\n",
    "            self.loaded_data = df\n",
    "        except Exception as e:\n",
    "            raise Exception(f\"An error occurred while loading data: {str(e)}\")\n",
    "        \n",
    "    def store(self) -> None:\n",
    "        \"\"\"\n",
    "        Store data from the DAO instance to the output file.\n",
    "\n",
    "        Raises:\n",
    "            Exception: If an error occurs during storing.\n",
    "        \"\"\"\n",
    "        try:\n",
    "            if self.loaded_data is not None:\n",
    "                if self.oftype == 'txt':\n",
    "                    self.loaded_data.to_csv(self.ofname, sep='\\t', header=False, index=False)\n",
    "                else:\n",
    "                    self.loaded_data.to_csv(self.ofname, header=False, index=False)\n",
    "            else:\n",
    "                raise ValueError(\"No data to store.\")\n",
    "        except Exception as e:\n",
    "            raise Exception(f\"An error occurred while storing data: {str(e)}\")"
   ]
  },
  {
   "cell_type": "markdown",
   "metadata": {},
   "source": [
    "I implemented the `DAO` class with the 4 required parameters. These parameters are expected to be strings, what is more the\n",
    "parameters iftype and oftype have to be either `txt` or `csv`, otherwise an error will occur.\n",
    "\n",
    "The `load` function creates a dataframe from the input file, if the input file is a txt file, the entries are expected to be\n",
    "delimitered by tabs.\n",
    "\n",
    "The `store` function writes out this dataframe in the required format, if possible.\n",
    "\n",
    "Both functions come with a general error raising.\n",
    "\n",
    "An example run can be seen below:"
   ]
  },
  {
   "cell_type": "code",
   "execution_count": 3,
   "metadata": {},
   "outputs": [
    {
     "name": "stdout",
     "output_type": "stream",
     "text": [
      "The delimeter in the txt file is expected to be tabs, otherwise errors will occur!\n",
      "       0       1    2    3\n",
      "0  apple  banana  cat  dog\n"
     ]
    }
   ],
   "source": [
    "dao = DAO(\"input.txt\", 'txt', \"output.csv\", 'csv')\n",
    "dao.load()\n",
    "print(dao.loaded_data)\n",
    "dao.store()"
   ]
  },
  {
   "cell_type": "markdown",
   "metadata": {},
   "source": [
    "The challenging part of this exercise for me was that in my opinion the task is not well written. It is no exactly outlined\n",
    "what kind of exceptions we are supposed to handle, nor the type of the `loaded_data` variable.\n",
    "## Subtask 3: Abstraction, Inheritance, Composition, Basic String Operations, Loops"
   ]
  },
  {
   "cell_type": "code",
   "execution_count": 4,
   "metadata": {},
   "outputs": [],
   "source": [
    "from abc import ABC, abstractmethod\n",
    "\n",
    "class SubTaskABC(ABC):\n",
    "    @abstractmethod\n",
    "    def process(self) -> None:\n",
    "        pass\n",
    "    \n",
    "class SubTask13(SubTaskABC):\n",
    "    def __init__(self, my_dao: DAO) -> None:\n",
    "        self.my_dao = my_dao\n",
    "    def process(self) -> None:\n",
    "        self.my_dao.ifname = \"input13.txt\"\n",
    "        self.my_dao.iftype = 'txt'\n",
    "        self.my_dao.load()\n",
    "        input_string = self.my_dao.loaded_data.iloc[0, 0]\n",
    "        output_string = input_string[1::2] + input_string[::2][::-1]\n",
    "        self.my_dao.ofname = \"output13.txt\"\n",
    "        self.my_dao.oftype = 'txt'\n",
    "        self.my_dao.loaded_data = pd.DataFrame([output_string])\n",
    "        self.my_dao.store()"
   ]
  },
  {
   "cell_type": "markdown",
   "metadata": {},
   "source": [
    "I created the abstract class `SubTaskABC` with use of the `abc` package.\n",
    "\n",
    "The class `SubTask13` has a `DAO` parameter, and it uses its functions to load and store the data. I implemented the class such\n",
    "that the `loaded_data` parameter of the `DAO` objects is changed, once th `process()` function is called. I also overwrite all\n",
    "the `DAO` object's parameters, so it does not matter, what the original parameters are.\n",
    "\n",
    "Also my function only works on the first element of the input file as it was allowed to do so.\n",
    "\n",
    "An example run:"
   ]
  },
  {
   "cell_type": "code",
   "execution_count": 5,
   "metadata": {},
   "outputs": [
    {
     "name": "stdout",
     "output_type": "stream",
     "text": [
      "The delimeter in the txt file is expected to be tabs, otherwise errors will occur!\n"
     ]
    }
   ],
   "source": [
    "subtask13 = SubTask13(dao)\n",
    "subtask13.process()"
   ]
  },
  {
   "cell_type": "markdown",
   "metadata": {},
   "source": [
    "The challenging part was that I have never heard about abstract classes before and that it was not clear what to do when the\n",
    "input file consists more, than one string.\n",
    "## Subtask 4: Unit Tests"
   ]
  },
  {
   "cell_type": "code",
   "execution_count": 6,
   "metadata": {},
   "outputs": [
    {
     "name": "stderr",
     "output_type": "stream",
     "text": [
      "...."
     ]
    },
    {
     "name": "stdout",
     "output_type": "stream",
     "text": [
      "The delimeter in the txt file is expected to be tabs, otherwise errors will occur!\n",
      "The delimeter in the txt file is expected to be tabs, otherwise errors will occur!\n",
      "The delimeter in the txt file is expected to be tabs, otherwise errors will occur!\n"
     ]
    },
    {
     "name": "stderr",
     "output_type": "stream",
     "text": [
      ".."
     ]
    },
    {
     "name": "stdout",
     "output_type": "stream",
     "text": [
      "The delimeter in the txt file is expected to be tabs, otherwise errors will occur!\n",
      "The delimeter in the txt file is expected to be tabs, otherwise errors will occur!\n"
     ]
    },
    {
     "name": "stderr",
     "output_type": "stream",
     "text": [
      "\n",
      "----------------------------------------------------------------------\n",
      "Ran 6 tests in 0.056s\n",
      "\n",
      "OK\n"
     ]
    }
   ],
   "source": [
    "import unittest\n",
    "from pandas.testing import assert_frame_equal\n",
    "\n",
    "class TestDAO(unittest.TestCase):\n",
    "    def test_DAO_1(self):\n",
    "        dao1 = DAO(\"input.txt\", \"txt\", \"output.csv\", \"csv\")\n",
    "        df_1 = pd.DataFrame([['apple', 'banana', 'cat', 'dog']])\n",
    "        dao1.load()\n",
    "        assert_frame_equal(dao1.loaded_data, df_1)\n",
    "    def test_DAO_2(self):\n",
    "        dao2 = DAO(\"input2.csv\", \"csv\", \"output.txt\", \"txt\")\n",
    "        df_2 = pd.DataFrame([['1', '2', '3', '4']])\n",
    "        dao2.load()\n",
    "        assert_frame_equal(dao2.loaded_data, df_2)\n",
    "    def test_DAO_3(self):\n",
    "        dao = DAO(\"non_existent_file.txt\", \"txt\", \"output.csv\", \"csv\")\n",
    "        with self.assertRaises(Exception):\n",
    "            dao.load()\n",
    "\n",
    "\n",
    "class TestSubTask13(unittest.TestCase):\n",
    "    def test_SubTask13_1(self):\n",
    "        input_string = \"abcdefghijklmnopqrstuvwxyz\"\n",
    "        pd.DataFrame([input_string]).to_csv('input13.txt', sep='\\t', header=False, index=False)\n",
    "        expected_output = \"bdfhjlnprtvxzywusqomkigeca\"\n",
    "        \n",
    "        subtask13_1 = SubTask13(DAO(\"\", \"txt\", \"\", \"txt\"))\n",
    "        subtask13_1.process()\n",
    "\n",
    "        with open(\"output13.txt\", \"r\") as output_file:\n",
    "            output_contents = output_file.read()\n",
    "        output_contents.strip() == expected_output\n",
    "\n",
    "    def test_SubTask13_2(self):\n",
    "        input_string = \"_\"\n",
    "        pd.DataFrame([input_string]).to_csv('input13.txt', sep='\\t', header=False, index=False)\n",
    "        expected_output = \"_\"\n",
    "        \n",
    "        subtask13_2 = SubTask13(DAO(\"\", \"txt\", \"\", \"txt\"))\n",
    "        subtask13_2.process()\n",
    "        with open(\"output13.txt\", \"r\") as output_file:\n",
    "            output_contents = output_file.read()\n",
    "        output_contents.strip() == expected_output\n",
    "\n",
    "    def test_SubTask13_3(self):\n",
    "        input_string = \"1234\"\n",
    "        pd.DataFrame([input_string]).to_csv('input13.txt', sep='\\t', header=False, index=False)\n",
    "        expected_output = \"2431\"\n",
    "        \n",
    "        subtask13_3 = SubTask13(DAO(\"\", \"txt\", \"\", \"txt\"))\n",
    "        subtask13_3.process()\n",
    "        with open(\"output13.txt\", \"r\") as output_file:\n",
    "            output_contents = output_file.read()\n",
    "        self.assertEqual(output_contents.strip(), expected_output)\n",
    "\n",
    "if __name__ == '__main__':\n",
    "    unittest.main(argv = ['first-arg-is-ignored'], exit = False) \n"
   ]
  },
  {
   "cell_type": "markdown",
   "metadata": {},
   "source": [
    "For the `DAO` class I evaluated 2 cases where I checked if the loading of the input file works well both with txt and csv files, and I also test a case for a possible error.\n",
    "\n",
    "For the `SubTask13` class I evaluated 3 different scenarios to check if my process function works well, and it does for inputs with various lengths.\n",
    "\n",
    "I implemented unit testing by creating classes for each class' test cases, and functions for each test case.\n",
    "\n",
    "The challenging part of the exercise to find out what I needed to add the `unittest.main()` as it was not working on its own.\n",
    "\n",
    "## Task 2: Useful Libraries\n",
    "# Subtask 1: numpy, timeit"
   ]
  },
  {
   "cell_type": "code",
   "execution_count": 7,
   "metadata": {},
   "outputs": [],
   "source": [
    "def multiply_numpy(df: pd.DataFrame) -> np.ndarray:\n",
    "    result = np.eye(3)\n",
    "    for matrix in df.to_numpy(dtype=float):\n",
    "        result = np.dot(result, matrix.reshape(3,3))\n",
    "    return result.reshape(9)\n",
    "\n",
    "\n",
    "def multiply_myself(df: pd.DataFrame) -> list:\n",
    "    if len(df) == 0:\n",
    "        return []\n",
    "    elif len(df) == 1:\n",
    "        return [float(value) for value in df]\n",
    "    else:\n",
    "        result = [float(value) for value in df.iloc[0]]\n",
    "        for matrix in df.iloc[1:].iterrows():\n",
    "            matrix = [float(value) for value in matrix[1]]\n",
    "            new_result = []\n",
    "            new_result.append(result[0]*matrix[0]+result[1]*matrix[3]+result[2]*matrix[6])\n",
    "            new_result.append(result[0]*matrix[1]+result[1]*matrix[4]+result[2]*matrix[7])\n",
    "            new_result.append(result[0]*matrix[2]+result[1]*matrix[5]+result[2]*matrix[8])\n",
    "            new_result.append(result[3]*matrix[0]+result[4]*matrix[3]+result[5]*matrix[6])\n",
    "            new_result.append(result[3]*matrix[1]+result[4]*matrix[4]+result[5]*matrix[7])\n",
    "            new_result.append(result[3]*matrix[2]+result[4]*matrix[5]+result[5]*matrix[8])\n",
    "            new_result.append(result[6]*matrix[0]+result[7]*matrix[3]+result[8]*matrix[6])\n",
    "            new_result.append(result[6]*matrix[1]+result[7]*matrix[4]+result[8]*matrix[7])\n",
    "            new_result.append(result[6]*matrix[2]+result[7]*matrix[5]+result[8]*matrix[8])\n",
    "            result = new_result\n",
    "        return result"
   ]
  },
  {
   "cell_type": "markdown",
   "metadata": {},
   "source": [
    "Above can be seen the 2 functions for the matrix multiplication, the first one uses `numpy` functions, and the second one is totally without the use of `numpy`.\n",
    "\n",
    "They are created in a way that they expect the input to be a DataFrame which represents a matrix in its each row, meaning it has to have 9 columns, because we only handle 3x3 matrices.\n",
    "\n",
    "The first 3 elements in a row are the values from the first, the 4th, 5th and 6th elements represent the second row, and so on."
   ]
  },
  {
   "cell_type": "code",
   "execution_count": 8,
   "metadata": {},
   "outputs": [],
   "source": [
    "import timeit\n",
    "\n",
    "\n",
    "class SubTask21(SubTaskABC):\n",
    "    def __init__(self, my_dao: DAO) -> None:\n",
    "        self.my_dao = my_dao\n",
    "        \n",
    "    def process(self) -> None:\n",
    "        self.my_dao.ifname = \"input21.csv\"\n",
    "        self.my_dao.iftype = 'csv'\n",
    "        self.my_dao.load()\n",
    "        matrices = self.my_dao.loaded_data\n",
    "        \n",
    "        multiply_numpy_time = timeit.timeit(lambda: multiply_numpy(matrices), number=100000)\n",
    "        multiply_myself_time = timeit.timeit(lambda: multiply_myself(matrices), number=100000)\n",
    "\n",
    "        speedup = multiply_myself_time / multiply_numpy_time\n",
    "\n",
    "        result_df = pd.DataFrame({\"Numpy method\": multiply_numpy(matrices),\n",
    "                                  \"My method\": multiply_myself(matrices)})\n",
    "        result_df = result_df.append([{\"Numpy method\": multiply_numpy_time, \"My method\": multiply_myself_time},\n",
    "                                      {\"Numpy method\": speedup, \"My method\": speedup}],\n",
    "                                     ignore_index=True)\n",
    "        result_df[0] = ['Results:', '', '', '', '', '', '', '', '', 'Runtimes:', 'Speedup:']\n",
    "        result_df = result_df[[0, \"Numpy method\", \"My method\"]]\n",
    "        \n",
    "        self.my_dao.ofname = \"output21.csv\"\n",
    "        self.my_dao.oftype = 'csv'\n",
    "        self.my_dao.loaded_data = result_df\n",
    "        self.my_dao.store()\n",
    "        "
   ]
  },
  {
   "cell_type": "markdown",
   "metadata": {},
   "source": [
    "I implemented this class in a similar way as the SubTask13 class. In its init function it has a `DAO` object, and has a function called `process`, which using the `DAO` object loads in the data, does the multiplication and the time measurements, and finally stores my output data into `output21.csv`.\n",
    "\n",
    "Running it, so the output is created:"
   ]
  },
  {
   "cell_type": "code",
   "execution_count": 9,
   "metadata": {},
   "outputs": [],
   "source": [
    "subtask21 = SubTask21(dao)\n",
    "subtask21.process()\n"
   ]
  },
  {
   "cell_type": "markdown",
   "metadata": {},
   "source": [
    "My input is a `csv` file containing 4 rows, each has 9 number elements representing a 3x3 matrix.\n",
    "\n",
    "My output is a `csv` file, too, starting with showing us the result in 2 columns, the first corresponding to the `numpy` approach, the second one to my own approach. On the bottom one can see the runtimes, and speedup achieved by the `numpy` approach.\n",
    "\n",
    "It won against my function by decreasing the runtime to around 5 seconds from 50. This makes sense as my approach was really naive, doing the multiplications and additions one after each other, and also creating new variables, which eats up storage.\n",
    "# Subtask 2: pandas, timeit"
   ]
  },
  {
   "cell_type": "code",
   "execution_count": 10,
   "metadata": {},
   "outputs": [],
   "source": [
    "def statistics_pandas(df: pd.DataFrame) -> pd.DataFrame:\n",
    "    df = df.astype(float)\n",
    "    all_mean = df.values.mean()\n",
    "    all_median = np.percentile(df.values.flatten(), 50)\n",
    "    all_sum = df.values.sum()\n",
    "    all_std = df.values.std()\n",
    "    all_percentiles = np.percentile(df.values.flatten(), [25, 50, 75])\n",
    "    all_min = df.values.min()\n",
    "    all_max = df.values.max()\n",
    "    summary_df = df.describe().drop('count')\n",
    "    summary_df.loc['median'] = df.median()\n",
    "    summary_df['all'] = [all_mean, all_std, all_min, all_percentiles[0], all_percentiles[1], all_percentiles[2],\n",
    "                        all_max, all_median]\n",
    "    return summary_df\n",
    "\n",
    "\n",
    "def statistics_myself(df: pd.DataFrame) -> pd.DataFrame:\n",
    "    list_0 = [float(value) for value in df[0]]\n",
    "    list_1 = [float(value) for value in df[1]]\n",
    "    list_all = list_0 + list_1\n",
    "    statistics_0 = []\n",
    "    statistics_1 = []\n",
    "    statistics_all = []\n",
    "    statistics_0.append(sum(list_0)/len(list_0))\n",
    "    statistics_0.append(np.sqrt(sum([(value - statistics_0[0])**2 for value in list_0])/(len(list_0) - 1))) \n",
    "    statistics_0.append(min(list_0))\n",
    "    statistics_0.append(np.percentile(list_0, 25))\n",
    "    statistics_0.append(np.percentile(list_0, 50))\n",
    "    statistics_0.append(np.percentile(list_0, 75))\n",
    "    statistics_0.append(max(list_0))\n",
    "    statistics_0.append(np.percentile(list_0, 50))\n",
    "    statistics_1.append(sum(list_1)/len(list_1))\n",
    "    statistics_1.append(np.sqrt(sum([(value - statistics_1[0])**2 for value in list_1])/(len(list_1) - 1))) \n",
    "    statistics_1.append(min(list_1))\n",
    "    statistics_1.append(np.percentile(list_1, 25))\n",
    "    statistics_1.append(np.percentile(list_1, 50))\n",
    "    statistics_1.append(np.percentile(list_1, 75))\n",
    "    statistics_1.append(max(list_1))\n",
    "    statistics_1.append(np.percentile(list_1, 50))\n",
    "    statistics_all.append(sum(list_all)/len(list_all))\n",
    "    statistics_all.append(np.sqrt(sum([(value - statistics_all[0])**2 for value in list_all])/(len(list_all) - 1))) \n",
    "    statistics_all.append(min(list_all))\n",
    "    statistics_all.append(np.percentile(list_all, 25))\n",
    "    statistics_all.append(np.percentile(list_all, 50))\n",
    "    statistics_all.append(np.percentile(list_all, 75))\n",
    "    statistics_all.append(max(list_all))\n",
    "    statistics_all.append(np.percentile(list_all, 50))\n",
    "    df = pd.DataFrame()\n",
    "    df[0] = statistics_0\n",
    "    df[1] = statistics_1\n",
    "    df['all'] = statistics_all\n",
    "    return df\n"
   ]
  },
  {
   "cell_type": "markdown",
   "metadata": {},
   "source": [
    "Above can be seen the 2 functions for the statistics calculation, the first one uses `pandas` functions, it is interesting to point out that I calculate most of the measures by the `describe()` function and the second one is totally without the use of `pandas`(except for the output, which is a DataFrame).\n",
    "\n",
    "They expect the input `df` to have 2 columns with numbers stored in them.\n"
   ]
  },
  {
   "cell_type": "code",
   "execution_count": 11,
   "metadata": {},
   "outputs": [],
   "source": [
    "class SubTask22(SubTaskABC):\n",
    "    def __init__(self, my_dao: DAO) -> None:\n",
    "        self.my_dao = my_dao\n",
    "        \n",
    "    def process(self) -> None:\n",
    "        self.my_dao.ifname = \"input22.csv\"\n",
    "        self.my_dao.iftype = 'csv'\n",
    "        self.my_dao.load()\n",
    "        data = self.my_dao.loaded_data\n",
    "        \n",
    "        statistics_pandas_time = timeit.timeit(lambda: statistics_pandas(data), number=100000)\n",
    "        statistics_myself_time = timeit.timeit(lambda: statistics_myself(data), number=100000)\n",
    "\n",
    "        speedup = statistics_myself_time / statistics_pandas_time\n",
    "\n",
    "\n",
    "        result_df = pd.DataFrame([statistics_pandas_time, statistics_myself_time, speedup])\n",
    "        \n",
    "        self.my_dao.ofname = \"output22.csv\"\n",
    "        self.my_dao.oftype = 'csv'\n",
    "        self.my_dao.loaded_data = result_df\n",
    "        self.my_dao.store()\n"
   ]
  },
  {
   "cell_type": "markdown",
   "metadata": {},
   "source": [
    "I implemented this class in a similar way as the SubTask13 and SubTask21 classes. In its init function it has a `DAO` object, and has a function called `process`, which using the `DAO` object loads in the data, does the calculations in the 2 different ways and the time measurements, and also finally stores my output data into `output22.csv`.\n",
    "\n",
    "Running it, so the output is created:"
   ]
  },
  {
   "cell_type": "code",
   "execution_count": 12,
   "metadata": {},
   "outputs": [],
   "source": [
    "subtask22 = SubTask22(dao)\n",
    "subtask22.process()\n"
   ]
  },
  {
   "cell_type": "markdown",
   "metadata": {},
   "source": [
    "As asked `input.csv` has two columns with 50 digits in each. `output.csv` has only 3 number in it, in order these are the time required by the `pandas` method, the time required by my method, and the speedup achieved by the `pandas` method.\n",
    "\n",
    "For my run these numbers are:\n",
    "\n",
    "1003.1845294999999\n",
    "\n",
    "406.0057276\n",
    "\n",
    "0.4047168947096488\n",
    "\n",
    "Which is really surprising, it means that the method implemented wiht lists is more than 2 times faster, than the method usig `pandas`.\n",
    "\n",
    "# Task 3: Least Squares Linear Regression\n",
    "## Subtask 1: Data Preparation"
   ]
  },
  {
   "cell_type": "code",
   "execution_count": 7,
   "metadata": {
    "scrolled": true
   },
   "outputs": [
    {
     "name": "stdout",
     "output_type": "stream",
     "text": [
      "Number of features of the data set: 20640\n",
      "Number of samples in the training data: 14448\n",
      "Number of samples in the test data: 6192\n"
     ]
    }
   ],
   "source": [
    "from sklearn.datasets import fetch_california_housing\n",
    "from sklearn.model_selection import train_test_split\n",
    "\n",
    "x, y = fetch_california_housing().data, fetch_california_housing().target\n",
    "x_train, x_test, y_train, y_test = sklearn.model_selection.train_test_split(x, y, test_size=0.3, random_state=42)\n",
    "\n",
    "print(f\"Number of features of the data set: {x.shape[0]}\")\n",
    "print(f\"Number of samples in the training data: {x_train.shape[0]}\")\n",
    "print(f\"Number of samples in the test data: {x_test.shape[0]}\")"
   ]
  },
  {
   "cell_type": "markdown",
   "metadata": {},
   "source": [
    "## Subtask 2: Regression Using scikit-learn"
   ]
  },
  {
   "cell_type": "code",
   "execution_count": 8,
   "metadata": {},
   "outputs": [
    {
     "name": "stdout",
     "output_type": "stream",
     "text": [
      "MSE on training data: 0.6054030599879396\n",
      "MSE on test data: 0.6048785796543392\n"
     ]
    }
   ],
   "source": [
    "from sklearn.linear_model import LinearRegression\n",
    "from sklearn.metrics import mean_squared_error\n",
    "\n",
    "first_model = LinearRegression(fit_intercept=False)\n",
    "\n",
    "first_model.fit(x_train, y_train)\n",
    "\n",
    "y_train_pred = first_model.predict(x_train)\n",
    "y_test_pred = first_model.predict(x_test)\n",
    "\n",
    "mse_train = mean_squared_error(y_train, y_train_pred)\n",
    "mse_test = mean_squared_error(y_test, y_test_pred)\n",
    "\n",
    "print(f\"MSE on training data: {mse_train}\")\n",
    "print(f\"MSE on test data: {mse_test}\")"
   ]
  },
  {
   "cell_type": "markdown",
   "metadata": {},
   "source": [
    "## Subtask 3: Implement Linear Regression on Your Own I"
   ]
  },
  {
   "cell_type": "code",
   "execution_count": 9,
   "metadata": {},
   "outputs": [
    {
     "name": "stdout",
     "output_type": "stream",
     "text": [
      "The computed weight vector:\n",
      "[ 5.19126645e-01  1.59077753e-02 -1.91238789e-01  9.69525468e-01\n",
      "  1.14227799e-05 -4.22684919e-03 -6.17086173e-02 -1.48558358e-02]\n"
     ]
    }
   ],
   "source": [
    "weights = np.linalg.inv(x_train.T @ x_train) @ x_train.T @ y_train\n",
    "print(f'The computed weight vector:\\n{weights}')\n"
   ]
  },
  {
   "cell_type": "code",
   "execution_count": 10,
   "metadata": {},
   "outputs": [
    {
     "name": "stdout",
     "output_type": "stream",
     "text": [
      "MSE on training data: 0.6054030599879396\n",
      "MSE on test data: 0.6048785796543154\n"
     ]
    }
   ],
   "source": [
    "y_train_pred = x_train @ weights\n",
    "y_test_pred = x_test @ weights\n",
    "\n",
    "mse_train = mean_squared_error(y_train, y_train_pred)\n",
    "mse_test = mean_squared_error(y_test, y_test_pred)\n",
    "\n",
    "print(f\"MSE on training data: {mse_train}\")\n",
    "print(f\"MSE on test data: {mse_test}\")\n"
   ]
  },
  {
   "cell_type": "markdown",
   "metadata": {},
   "source": [
    "They match the previous results.\n",
    "## Subtask 3: Implement Linear Regression on Your Own II"
   ]
  },
  {
   "cell_type": "code",
   "execution_count": 11,
   "metadata": {},
   "outputs": [
    {
     "data": {
      "image/png": "[encoded data removed]",
      "text/plain": [
       "<Figure size 576x432 with 1 Axes>"
      ]
     },
     "metadata": {
      "needs_background": "light"
     },
     "output_type": "display_data"
    },
    {
     "name": "stdout",
     "output_type": "stream",
     "text": [
      "The final MSE for the train set is 1.3195918572043983.\n",
      "The final MSE for the test set is 1.2943730556033004.\n"
     ]
    }
   ],
   "source": [
    "import matplotlib.pyplot as plt\n",
    "\n",
    "number_of_samples = len(y)\n",
    "number_of_weights = len(x_train[0])\n",
    "\n",
    "weights = np.zeros(number_of_weights)\n",
    "\n",
    "learning_rate = 0.00000001\n",
    "n_iterations = 100001\n",
    "\n",
    "mse_train = []\n",
    "mse_test = []\n",
    "\n",
    "for iteration in range(1, n_iterations+1):\n",
    "    gradient = 2 * (x_train.T @ (x_train @ weights - y_train)) / number_of_samples\n",
    "    weights -= learning_rate * gradient\n",
    "    if (iteration - 1) % 1000 == 0:\n",
    "        y_train_pred = x_train @ weights\n",
    "        mse_train.append(mean_squared_error(y_train, y_train_pred))\n",
    "        y_test_pred = x_test @ weights\n",
    "        mse_test.append(mean_squared_error(y_test, y_test_pred))\n",
    "\n",
    "x_values = [1 + 1000 * k for k in range(101)]\n",
    "\n",
    "plt.figure(figsize=(8, 6))\n",
    "plt.plot(x_values, mse_train, label='Training MSE')\n",
    "plt.plot(x_values, mse_test, label='Test MSE')\n",
    "plt.xlabel('Iterations')\n",
    "plt.ylabel('MSE')\n",
    "plt.title('MSE on Training Set and Test Set vs. Iterations')\n",
    "plt.legend()\n",
    "plt.grid(True)\n",
    "plt.show()\n",
    "\n",
    "print(f'The final MSE for the train set is {mse_train[-1]}.')\n",
    "print(f'The final MSE for the test set is {mse_test[-1]}.')\n"
   ]
  },
  {
   "cell_type": "markdown",
   "metadata": {},
   "source": [
    "In the plots we can see that the MSE is always larger on the training set, and that in the beginning it is really high as we started in a random point, but it starts getting smaller. Also the scale of the decrease is getting smaller as we go forward in time.\n",
    "\n",
    "The MSEs compared to the close-form solution are significantly higher.\n",
    "## Subtask 5: Implement Least Squares Linear Regression on Your Own III"
   ]
  },
  {
   "cell_type": "code",
   "execution_count": 12,
   "metadata": {},
   "outputs": [
    {
     "data": {
      "image/png": "[encoded data removed]",
      "text/plain": [
       "<Figure size 576x432 with 1 Axes>"
      ]
     },
     "metadata": {
      "needs_background": "light"
     },
     "output_type": "display_data"
    },
    {
     "name": "stdout",
     "output_type": "stream",
     "text": [
      "The final MSE for the train set is 1.2769641867315027.\n",
      "The final MSE for the test set is 1.2525137338195753.\n"
     ]
    }
   ],
   "source": [
    "weights = np.zeros(number_of_weights)\n",
    "\n",
    "learning_rate = 0.0000001\n",
    "n_iterations = 100001\n",
    "\n",
    "mse_train = []\n",
    "mse_test = []\n",
    "\n",
    "for iteration in range(1, n_iterations+1):\n",
    "    gradient = 2 * (x_train.T @ (x_train @ weights - y_train)) / number_of_samples\n",
    "    weights -= learning_rate * gradient\n",
    "    if (iteration - 1) % 1000 == 0:\n",
    "        y_train_pred = x_train @ weights\n",
    "        mse_train.append(mean_squared_error(y_train, y_train_pred))\n",
    "        y_test_pred = x_test @ weights\n",
    "        mse_test.append(mean_squared_error(y_test, y_test_pred))\n",
    "    learning_rate *= 0.99999\n",
    "\n",
    "x_values = [1 + 1000 * k for k in range(101)]\n",
    "\n",
    "plt.figure(figsize=(8, 6))\n",
    "plt.plot(x_values, mse_train, label='Training MSE')\n",
    "plt.plot(x_values, mse_test, label='Test MSE')\n",
    "plt.xlabel('Iterations')\n",
    "plt.ylabel('MSE')\n",
    "plt.title('MSE on Training Set and Test Set vs. Iterations')\n",
    "plt.legend()\n",
    "plt.grid(True)\n",
    "plt.show()\n",
    "\n",
    "print(f'The final MSE for the train set is {mse_train[-1]}.')\n",
    "print(f'The final MSE for the test set is {mse_test[-1]}.')\n"
   ]
  },
  {
   "cell_type": "markdown",
   "metadata": {},
   "source": [
    "I implemented a really naiv way, just reducing the learning rate by a bit after every step, and it does decrease the MSEs in the end. Meaning that it leads to a faster learning, since it reaches the same MSE in less iterations.\n",
    "## Subtask 6: Implement Least Squares Linear Regression on Your Own IV"
   ]
  },
  {
   "cell_type": "code",
   "execution_count": 13,
   "metadata": {},
   "outputs": [
    {
     "data": {
      "image/png": "[encoded data removed]",
      "text/plain": [
       "<Figure size 576x432 with 1 Axes>"
      ]
     },
     "metadata": {
      "needs_background": "light"
     },
     "output_type": "display_data"
    },
    {
     "name": "stdout",
     "output_type": "stream",
     "text": [
      "The final MSE for the train set is 0.6425221350830341.\n",
      "The final MSE for the test set is 0.6319805265201474.\n"
     ]
    }
   ],
   "source": [
    "from sklearn.preprocessing import MinMaxScaler\n",
    "\n",
    "scaler = MinMaxScaler()\n",
    "x_train = scaler.fit_transform(x_train)\n",
    "x_test = scaler.transform(x_test)\n",
    "\n",
    "weights = np.zeros(number_of_weights)\n",
    "\n",
    "learning_rate = 0.01\n",
    "n_iterations = 100001\n",
    "\n",
    "mse_train = []\n",
    "mse_test = []\n",
    "\n",
    "for iteration in range(1, n_iterations+1):\n",
    "    gradient = 2 * (x_train.T @ (x_train @ weights - y_train)) / number_of_samples\n",
    "    weights -= learning_rate * gradient\n",
    "    if (iteration - 1) % 1000 == 0:\n",
    "        y_train_pred = x_train @ weights\n",
    "        mse_train.append(mean_squared_error(y_train, y_train_pred))\n",
    "        y_test_pred = x_test @ weights\n",
    "        mse_test.append(mean_squared_error(y_test, y_test_pred))\n",
    "\n",
    "x_values = [1 + 1000 * k for k in range(101)]\n",
    "\n",
    "plt.figure(figsize=(8, 6))\n",
    "plt.plot(x_values, mse_train, label='Training MSE')\n",
    "plt.plot(x_values, mse_test, label='Test MSE')\n",
    "plt.xlabel('Iterations')\n",
    "plt.ylabel('MSE')\n",
    "plt.title('MSE on Training Set and Test Set vs. Iterations')\n",
    "plt.legend()\n",
    "plt.grid(True)\n",
    "plt.show()\n",
    "\n",
    "print(f'The final MSE for the train set is {mse_train[-1]}.')\n",
    "print(f'The final MSE for the test set is {mse_test[-1]}.')\n"
   ]
  },
  {
   "cell_type": "code",
   "execution_count": 14,
   "metadata": {},
   "outputs": [
    {
     "data": {
      "image/png": "[encoded data removed]",
      "text/plain": [
       "<Figure size 576x432 with 1 Axes>"
      ]
     },
     "metadata": {
      "needs_background": "light"
     },
     "output_type": "display_data"
    },
    {
     "name": "stdout",
     "output_type": "stream",
     "text": [
      "The final MSE for the train set is 0.642522161835557.\n",
      "The final MSE for the test set is 0.6319805426691932.\n"
     ]
    }
   ],
   "source": [
    "weights = np.zeros(number_of_weights)\n",
    "\n",
    "learning_rate = 0.01\n",
    "n_iterations = 100001\n",
    "\n",
    "mse_train = []\n",
    "mse_test = []\n",
    "\n",
    "for iteration in range(1, n_iterations+1):\n",
    "    gradient = 2 * (x_train.T @ (x_train @ weights - y_train)) / number_of_samples\n",
    "    weights -= learning_rate * gradient\n",
    "    if (iteration - 1) % 1000 == 0:\n",
    "        y_train_pred = x_train @ weights\n",
    "        mse_train.append(mean_squared_error(y_train, y_train_pred))\n",
    "        y_test_pred = x_test @ weights\n",
    "        mse_test.append(mean_squared_error(y_test, y_test_pred))\n",
    "    learning_rate *= 0.9999999999\n",
    "\n",
    "x_values = [1 + 1000 * k for k in range(101)]\n",
    "\n",
    "plt.figure(figsize=(8, 6))\n",
    "plt.plot(x_values, mse_train, label='Training MSE')\n",
    "plt.plot(x_values, mse_test, label='Test MSE')\n",
    "plt.xlabel('Iterations')\n",
    "plt.ylabel('MSE')\n",
    "plt.title('MSE on Training Set and Test Set vs. Iterations')\n",
    "plt.legend()\n",
    "plt.grid(True)\n",
    "plt.show()\n",
    "\n",
    "print(f'The final MSE for the train set is {mse_train[-1]}.')\n",
    "print(f'The final MSE for the test set is {mse_test[-1]}.')\n"
   ]
  },
  {
   "cell_type": "markdown",
   "metadata": {},
   "source": [
    "With a much bigger learning rate we obtain much closer MSEs to closed-version MSEs, although even by increasing the learning rate's change, this naive approach does not improve on the MSE.\n",
    "\n",
    "The MinMaxScalr function basically just extracts the minimum  value from every value, and divides it by the difference of the maximum value and the minimum value.\n",
    "\n",
    "So X_scaled = (X - X_min) / (X_max - X_min)\n",
    "\n",
    "It is important to note that it does it separately for every feature, so if our data is an `nxf` dimensional matrix, where n is the number of samples, f is the number of features, then it does the transformation separately for every column.\n",
    "# Subtask 7: Least Squares Linear Regression Using Higher-order Features"
   ]
  },
  {
   "cell_type": "code",
   "execution_count": 15,
   "metadata": {},
   "outputs": [
    {
     "name": "stdout",
     "output_type": "stream",
     "text": [
      "The final MSE for the train set with polynomial features of degree 2 is: 0.4236009471571963.\n",
      "The final MSE for the test set with polynomial features of degree 2 is: 0.4549723374856781.\n",
      "The final MSE for the train set with polynomial features of degree 3 is: 0.3434844374755287.\n",
      "The final MSE for the test set with polynomial features of degree 3 is: 19.31592762257174.\n",
      "The final MSE for the train set with polynomial features of degree 4 is: 0.28170458049352726.\n",
      "The final MSE for the test set with polynomial features of degree 4 is: 13812.427153476092.\n"
     ]
    }
   ],
   "source": [
    "from sklearn.preprocessing import PolynomialFeatures\n",
    "\n",
    "for i in range(2, 5):\n",
    "    poly = PolynomialFeatures(degree=i)\n",
    "\n",
    "    x_poly = poly.fit_transform(x_train)\n",
    "\n",
    "    model = LinearRegression()\n",
    "    model.fit(x_poly, y_train)\n",
    "\n",
    "    y_train_pred = model.predict(x_poly)\n",
    "    mse = mean_squared_error(y_train, y_train_pred)\n",
    "    print(f\"The final MSE for the train set with polynomial features of degree {i} is: {mse}.\")\n",
    "\n",
    "    x_poly = poly.fit_transform(x_test)\n",
    "    \n",
    "    y_test_pred = model.predict(x_poly)\n",
    "    mse = mean_squared_error(y_test, y_test_pred)\n",
    "    print(f\"The final MSE for the test set with polynomial features of degree {i} is: {mse}.\")\n",
    "    "
   ]
  },
  {
   "cell_type": "markdown",
   "metadata": {},
   "source": [
    "For the training set the MSE is decreasing by increasing the degree, since we have more and more flexibility. With degree of 2 it already estimates the values really well, but we can see from the test set MSEs that we overfit more by increasing the degree, these MSEs increase by a lot."
   ]
  }
 ],
 "metadata": {
  "kernelspec": {
   "display_name": "Python 3",
   "language": "python",
   "name": "python3"
  },
  "language_info": {
   "codemirror_mode": {
    "name": "ipython",
    "version": 3
   },
   "file_extension": ".py",
   "mimetype": "text/x-python",
   "name": "python",
   "nbconvert_exporter": "python",
   "pygments_lexer": "ipython3",
   "version": "3.8.5"
  }
 },
 "nbformat": 4,
 "nbformat_minor": 4
}
